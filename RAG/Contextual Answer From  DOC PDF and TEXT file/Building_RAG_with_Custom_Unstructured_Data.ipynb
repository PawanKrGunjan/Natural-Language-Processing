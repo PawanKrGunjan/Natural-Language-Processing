{
 "cells": [
  {
   "cell_type": "markdown",
   "metadata": {
    "colab_type": "text",
    "id": "view-in-github"
   },
   "source": [
    "<a href=\"https://colab.research.google.com/github/PawanKrGunjan/Natural-Language-Processing/blob/main/RAG/Building_RAG_with_Custom_Unstructured_Data.ipynb\" target=\"_parent\"><img src=\"https://colab.research.google.com/assets/colab-badge.svg\" alt=\"Open In Colab\"/></a>"
   ]
  },
  {
   "cell_type": "markdown",
   "metadata": {
    "id": "57Q3J2HiLMwi"
   },
   "source": [
    "# Install the required pacakges"
   ]
  },
  {
   "cell_type": "code",
   "execution_count": 1,
   "metadata": {
    "id": "Saa3E85PFS3Y"
   },
   "outputs": [],
   "source": [
    "!pip install -q torch transformers accelerate bitsandbytes sentence-transformers unstructured[all-docs] langchain chromadb langchain_community"
   ]
  },
  {
   "cell_type": "markdown",
   "metadata": {
    "id": "FqCSW8zqLX8M"
   },
   "source": [
    "# Download  the  mixed documents\n",
    "\n",
    "Suppose, I want to build a RAG system that’ll help me manage pests in my garden. For this purpose, I’ll use diverse documents that cover the topic of IPM (integrated pest management):\n",
    "\n",
    "- PDF: https://www.gov.nl.ca/ecc/files/env-protection-pesticides-business-manuals-applic-chapter7.pdf\n",
    "- Powerpoint: https://ipm.ifas.ufl.edu/pdfs/Citrus_IPM_090913.pptx\n",
    "- EPUB: https://www.gutenberg.org/ebooks/45957\n",
    "- HTML: https://blog.fifthroom.com/what-to-do-about-harmful-garden-and-plant-insects-and-pests.html\n",
    "\n",
    "Feel free to use your own documents for your topic of choice from the list of document types supported by Unstructured: .eml, .html, .md, .msg, .rst, .rtf, .txt, .xml, .png, .jpg, .jpeg, .tiff, .bmp, .heic, .csv, .doc, .docx, .epub, .odt, .pdf, .ppt, .pptx, .tsv, .xlsx."
   ]
  },
  {
   "cell_type": "code",
   "execution_count": 2,
   "metadata": {
    "colab": {
     "base_uri": "https://localhost:8080/"
    },
    "id": "fM_JIpDYFaqS",
    "outputId": "db8c077f-7da7-45ae-ab15-f462a35bc6e6"
   },
   "outputs": [
    {
     "name": "stdout",
     "output_type": "stream",
     "text": [
      "--2024-07-02 07:58:13--  https://www.gov.nl.ca/ecc/files/env-protection-pesticides-business-manuals-applic-chapter7.pdf\n",
      "Resolving www.gov.nl.ca (www.gov.nl.ca)... 98.143.128.70\n",
      "Connecting to www.gov.nl.ca (www.gov.nl.ca)|98.143.128.70|:443... connected.\n",
      "HTTP request sent, awaiting response... 200 OK\n",
      "Length: 1914250 (1.8M) [application/pdf]\n",
      "Saving to: ‘./documents/env-protection-pesticides-business-manuals-applic-chapter7.pdf’\n",
      "\n",
      "./documents/env-pro 100%[===================>]   1.83M  4.81MB/s    in 0.4s    \n",
      "\n",
      "2024-07-02 07:58:14 (4.81 MB/s) - ‘./documents/env-protection-pesticides-business-manuals-applic-chapter7.pdf’ saved [1914250/1914250]\n",
      "\n",
      "--2024-07-02 07:58:14--  https://ipm.ifas.ufl.edu/pdfs/Citrus_IPM_090913.pptx\n",
      "Resolving ipm.ifas.ufl.edu (ipm.ifas.ufl.edu)... 128.227.68.231\n",
      "Connecting to ipm.ifas.ufl.edu (ipm.ifas.ufl.edu)|128.227.68.231|:443... connected.\n",
      "HTTP request sent, awaiting response... 200 OK\n",
      "Length: 4248570 (4.1M) [application/vnd.openxmlformats-officedocument.presentationml.presentation]\n",
      "Saving to: ‘./documents/Citrus_IPM_090913.pptx’\n",
      "\n",
      "./documents/Citrus_ 100%[===================>]   4.05M  2.88MB/s    in 1.4s    \n",
      "\n",
      "2024-07-02 07:58:16 (2.88 MB/s) - ‘./documents/Citrus_IPM_090913.pptx’ saved [4248570/4248570]\n",
      "\n",
      "--2024-07-02 07:58:16--  https://www.gutenberg.org/ebooks/45957.epub3.images\n",
      "Resolving www.gutenberg.org (www.gutenberg.org)... 152.19.134.47, 2610:28:3090:3000:0:bad:cafe:47\n",
      "Connecting to www.gutenberg.org (www.gutenberg.org)|152.19.134.47|:443... connected.\n",
      "HTTP request sent, awaiting response... 302 Found\n",
      "Location: https://www.gutenberg.org/cache/epub/45957/pg45957-images-3.epub [following]\n",
      "--2024-07-02 07:58:16--  https://www.gutenberg.org/cache/epub/45957/pg45957-images-3.epub\n",
      "Reusing existing connection to www.gutenberg.org:443.\n",
      "HTTP request sent, awaiting response... 200 OK\n",
      "Length: 1627567 (1.6M) [application/epub+zip]\n",
      "Saving to: ‘./documents/45957.epub’\n",
      "\n",
      "./documents/45957.e 100%[===================>]   1.55M  8.07MB/s    in 0.2s    \n",
      "\n",
      "2024-07-02 07:58:16 (8.07 MB/s) - ‘./documents/45957.epub’ saved [1627567/1627567]\n",
      "\n",
      "--2024-07-02 07:58:16--  https://blog.fifthroom.com/what-to-do-about-harmful-garden-and-plant-insects-and-pests.html\n",
      "Resolving blog.fifthroom.com (blog.fifthroom.com)... 64.91.249.137\n",
      "Connecting to blog.fifthroom.com (blog.fifthroom.com)|64.91.249.137|:443... connected.\n",
      "HTTP request sent, awaiting response... 200 OK\n",
      "Length: 52186 (51K) [text/html]\n",
      "Saving to: ‘./documents/what-to-do-about-harmful-garden-and-plant-insects-and-pests.html’\n",
      "\n",
      "./documents/what-to 100%[===================>]  50.96K  --.-KB/s    in 0.1s    \n",
      "\n",
      "2024-07-02 07:58:17 (370 KB/s) - ‘./documents/what-to-do-about-harmful-garden-and-plant-insects-and-pests.html’ saved [52186/52186]\n",
      "\n"
     ]
    }
   ],
   "source": [
    "!mkdir -p \"./documents\"\n",
    "!wget https://www.gov.nl.ca/ecc/files/env-protection-pesticides-business-manuals-applic-chapter7.pdf -O \"./documents/env-protection-pesticides-business-manuals-applic-chapter7.pdf\"\n",
    "!wget https://ipm.ifas.ufl.edu/pdfs/Citrus_IPM_090913.pptx -O \"./documents/Citrus_IPM_090913.pptx\"\n",
    "!wget https://www.gutenberg.org/ebooks/45957.epub3.images -O \"./documents/45957.epub\"\n",
    "!wget https://blog.fifthroom.com/what-to-do-about-harmful-garden-and-plant-insects-and-pests.html -O \"./documents/what-to-do-about-harmful-garden-and-plant-insects-and-pests.html\""
   ]
  },
  {
   "cell_type": "markdown",
   "metadata": {
    "id": "sCf3cR9BMF-9"
   },
   "source": [
    "# Unstructured data preprocessing"
   ]
  },
  {
   "cell_type": "code",
   "execution_count": 3,
   "metadata": {
    "id": "C1ABSZ1EF7Q3"
   },
   "outputs": [],
   "source": [
    "# Optional cell to reduce the amount of logs\n",
    "\n",
    "import logging\n",
    "\n",
    "logger = logging.getLogger(\"unstructured.ingest\")\n",
    "logger.root.removeHandler(logger.root.handlers[0])"
   ]
  },
  {
   "cell_type": "code",
   "execution_count": 4,
   "metadata": {
    "colab": {
     "base_uri": "https://localhost:8080/"
    },
    "id": "3ifPGpJZF_4l",
    "outputId": "7e9aae38-b082-4026-8438-7433ff052d76"
   },
   "outputs": [
    {
     "name": "stderr",
     "output_type": "stream",
     "text": [
      "2024-07-02 07:58:19,678 MainProcess INFO     running pipeline: DocFactory -> Reader -> Partitioner -> Copier with config: {\"reprocess\": false, \"verbose\": true, \"work_dir\": \"/root/.cache/unstructured/ingest/pipeline\", \"output_dir\": \"./local-ingest-output\", \"num_processes\": 2, \"raise_on_error\": false}\n",
      "2024-07-02 07:58:19,857 MainProcess INFO     Running doc factory to generate ingest docs. Source connector: {\"processor_config\": {\"reprocess\": false, \"verbose\": true, \"work_dir\": \"/root/.cache/unstructured/ingest/pipeline\", \"output_dir\": \"./local-ingest-output\", \"num_processes\": 2, \"raise_on_error\": false}, \"read_config\": {\"download_dir\": \"\", \"re_download\": false, \"preserve_downloads\": false, \"download_only\": false, \"max_docs\": null}, \"connector_config\": {\"input_path\": \"./documents\", \"recursive\": false, \"file_glob\": null}}\n",
      "2024-07-02 07:58:19,883 MainProcess INFO     processing 4 docs via 2 processes\n",
      "2024-07-02 07:58:19,887 MainProcess INFO     Calling Reader with 4 docs\n",
      "2024-07-02 07:58:19,888 MainProcess INFO     Running source node to download data associated with ingest docs\n",
      "2024-07-02 07:58:24,676 MainProcess INFO     Calling Partitioner with 4 docs\n",
      "2024-07-02 07:58:24,679 MainProcess INFO     Running partition node to extract content from json files. Config: {\"pdf_infer_table_structure\": false, \"strategy\": \"auto\", \"ocr_languages\": null, \"encoding\": null, \"additional_partition_args\": {}, \"skip_infer_table_types\": null, \"fields_include\": [\"element_id\", \"text\", \"type\", \"metadata\", \"embeddings\"], \"flatten_metadata\": false, \"metadata_exclude\": [], \"metadata_include\": [], \"partition_endpoint\": \"https://api.unstructured.io/general/v0/general\", \"partition_by_api\": true, \"api_key\": \"*******\", \"hi_res_model_name\": null}, partition kwargs: {}]\n",
      "2024-07-02 07:58:24,685 MainProcess INFO     Creating /root/.cache/unstructured/ingest/pipeline/partitioned\n",
      "2024-07-02 07:58:28,372 MainProcess INFO     Calling Copier with 4 docs\n",
      "2024-07-02 07:58:28,374 MainProcess INFO     Running copy node to move content to desired output location\n"
     ]
    }
   ],
   "source": [
    "import os\n",
    "\n",
    "from unstructured.ingest.connector.local import SimpleLocalConfig\n",
    "from unstructured.ingest.interfaces import PartitionConfig, ProcessorConfig, ReadConfig\n",
    "from unstructured.ingest.runner import LocalRunner\n",
    "\n",
    "output_path = \"./local-ingest-output\"\n",
    "\n",
    "runner = LocalRunner(\n",
    "    processor_config=ProcessorConfig(\n",
    "        # logs verbosity\n",
    "        verbose=True,\n",
    "        # the local directory to store outputs\n",
    "        output_dir=output_path,\n",
    "        num_processes=2,\n",
    "    ),\n",
    "    read_config=ReadConfig(),\n",
    "    partition_config=PartitionConfig(\n",
    "        partition_by_api=True,\n",
    "        api_key=<\"YOUR_UNSTRUCTURED_API_KEY\">,\n",
    "    ),\n",
    "    connector_config=SimpleLocalConfig(\n",
    "        input_path=\"./documents\",\n",
    "        # whether to get the documents recursively from given directory\n",
    "        recursive=False,\n",
    "    ),\n",
    ")\n",
    "runner.run()"
   ]
  },
  {
   "cell_type": "code",
   "execution_count": 5,
   "metadata": {
    "id": "q9KNJQUQHeXq"
   },
   "outputs": [],
   "source": [
    "#!brew install poppler\n",
    "#!brew install tesseract"
   ]
  },
  {
   "cell_type": "markdown",
   "metadata": {
    "id": "9nXtMCA_MWL7"
   },
   "source": [
    "##  Import element objects from the json files"
   ]
  },
  {
   "cell_type": "code",
   "execution_count": 6,
   "metadata": {
    "id": "gfpYyONFIiT8"
   },
   "outputs": [],
   "source": [
    "from unstructured.staging.base import elements_from_json\n",
    "\n",
    "elements = []\n",
    "\n",
    "for filename in os.listdir(output_path):\n",
    "    filepath = os.path.join(output_path, filename)\n",
    "    elements.extend(elements_from_json(filepath))"
   ]
  },
  {
   "cell_type": "markdown",
   "metadata": {
    "id": "fWG_6ikQMqPt"
   },
   "source": [
    "# Chunking"
   ]
  },
  {
   "cell_type": "code",
   "execution_count": 7,
   "metadata": {
    "id": "YxkOeWkoIzsh"
   },
   "outputs": [],
   "source": [
    "from unstructured.chunking.title import chunk_by_title\n",
    "\n",
    "chunked_elements = chunk_by_title(\n",
    "    elements,\n",
    "    # maximum for chunk size\n",
    "    max_characters=512,\n",
    "    # You can choose to combine consecutive elements that are too small\n",
    "    # e.g. individual list items\n",
    "    combine_text_under_n_chars=200,\n",
    ")"
   ]
  },
  {
   "cell_type": "markdown",
   "metadata": {
    "id": "SFgDek3qM0aH"
   },
   "source": [
    "##  Convert Unstructured elements to LangChain documents"
   ]
  },
  {
   "cell_type": "code",
   "execution_count": 8,
   "metadata": {
    "id": "SMBIEl3tI3JG"
   },
   "outputs": [],
   "source": [
    "from langchain_core.documents import Document\n",
    "\n",
    "documents = []\n",
    "for chunked_element in chunked_elements:\n",
    "    metadata = chunked_element.metadata.to_dict()\n",
    "    metadata[\"source\"] = metadata[\"filename\"]\n",
    "    del metadata[\"languages\"]\n",
    "    documents.append(Document(page_content=chunked_element.text, metadata=metadata))"
   ]
  },
  {
   "cell_type": "markdown",
   "metadata": {
    "id": "8Wxc2_RBM-y5"
   },
   "source": [
    "# Setting up the retriever"
   ]
  },
  {
   "cell_type": "code",
   "execution_count": 9,
   "metadata": {
    "colab": {
     "base_uri": "https://localhost:8080/"
    },
    "id": "sGLRJLcaI7dk",
    "outputId": "f2ae827a-b74d-463c-9fcc-3051109e1775"
   },
   "outputs": [
    {
     "name": "stderr",
     "output_type": "stream",
     "text": [
      "/usr/local/lib/python3.10/dist-packages/langchain_core/_api/deprecation.py:139: LangChainDeprecationWarning: The class `HuggingFaceEmbeddings` was deprecated in LangChain 0.2.2 and will be removed in 0.3.0. An updated version of the class exists in the langchain-huggingface package and should be used instead. To use it run `pip install -U langchain-huggingface` and import as `from langchain_huggingface import HuggingFaceEmbeddings`.\n",
      "  warn_deprecated(\n",
      "/usr/local/lib/python3.10/dist-packages/sentence_transformers/cross_encoder/CrossEncoder.py:11: TqdmExperimentalWarning: Using `tqdm.autonotebook.tqdm` in notebook mode. Use `tqdm.tqdm` instead to force console mode (e.g. in jupyter console)\n",
      "  from tqdm.autonotebook import tqdm, trange\n",
      "/usr/local/lib/python3.10/dist-packages/huggingface_hub/utils/_token.py:89: UserWarning: \n",
      "The secret `HF_TOKEN` does not exist in your Colab secrets.\n",
      "To authenticate with the Hugging Face Hub, create a token in your settings tab (https://huggingface.co/settings/tokens), set it as secret in your Google Colab and restart your session.\n",
      "You will be able to reuse this secret in all of your notebooks.\n",
      "Please note that authentication is recommended but still optional to access public models or datasets.\n",
      "  warnings.warn(\n",
      "/usr/local/lib/python3.10/dist-packages/huggingface_hub/file_download.py:1132: FutureWarning: `resume_download` is deprecated and will be removed in version 1.0.0. Downloads always resume when possible. If you want to force a new download, use `force_download=True`.\n",
      "  warnings.warn(\n"
     ]
    }
   ],
   "source": [
    "from langchain_community.vectorstores import Chroma\n",
    "from langchain.embeddings import HuggingFaceEmbeddings\n",
    "\n",
    "from langchain.vectorstores import utils as chromautils\n",
    "\n",
    "# ChromaDB doesn't support complex metadata, e.g. lists, so we drop it here.\n",
    "# If you're using a different vector store, you may not need to do this\n",
    "docs = chromautils.filter_complex_metadata(documents)\n",
    "\n",
    "embeddings = HuggingFaceEmbeddings(model_name=\"BAAI/bge-base-en-v1.5\")\n",
    "vectorstore = Chroma.from_documents(documents, embeddings)\n",
    "retriever = vectorstore.as_retriever(search_type=\"similarity\", search_kwargs={\"k\": 3})"
   ]
  },
  {
   "cell_type": "code",
   "execution_count": 10,
   "metadata": {
    "colab": {
     "base_uri": "https://localhost:8080/",
     "height": 145,
     "referenced_widgets": [
      "48fd926a42e943e48a755ac1c9028108",
      "f0f1494a6d004866941f9ee17227fdcf",
      "744d14ceee894275826a111bf643081e",
      "d3fc7588590f4c96b2579f32ba897527",
      "69bc48161a344a2ea7620a2b8be4f001",
      "bd46033db4784ff58418c2f203605150",
      "3beec7283528419486f82aabf405d067",
      "f579181c1ce24aa2af7f068beaa84fcb",
      "c823f1a8f7b04420943c05422bdb0a85",
      "045ef770b4e24ccd9b3cb4fbd98af7d3",
      "859579b3bdfc4ee281a26377a775b4c0",
      "86ffb0ba34b7418184da16313a1bed20",
      "4739d621af1446708b796bb0ca1fa022",
      "b8f8c97ea50d49b1acb8d6c1c8bb242d",
      "6e7f089056e045328e9054c7bb252953",
      "7661dd743c3f4daebc0349018ddb0bfd",
      "ac4285da425546a9b5963383140b5362",
      "16e96485f9d74141bc3b00a0da0fadd9",
      "7c26a88290834a04a0c01c1d964046cd",
      "53912c373e5442259e8e22eed02af7ac",
      "4ccabffd95ce4467bd6020ca7debbab0",
      "07744c9b4a154f50989436c702dcad8c",
      "30f45c542f6c4175be9e045612b2cc02",
      "1223c8cf05464e638528d69a9a1e62ab",
      "a747d924c6784f9f8e5efd3045782b7c",
      "35f8c414277245fc9060e810a49e9c01",
      "15c5a34357c34aeba642af1c380f06bc",
      "a8d33a22f81246048e90059ecfb88003",
      "b95dd74915a0488d93ce00cd74478938",
      "36373672d7c64c93946f93a1638e0f60",
      "27d256167fbb4ad5b5e129911537d1f1",
      "17352e12f6a0446391156eec2f60edfc"
     ]
    },
    "id": "io-JEqcAI_r-",
    "outputId": "b4c07324-e39a-4810-f6e3-d7d43f351926"
   },
   "outputs": [
    {
     "data": {
      "application/vnd.jupyter.widget-view+json": {
       "model_id": "48fd926a42e943e48a755ac1c9028108",
       "version_major": 2,
       "version_minor": 0
      },
      "text/plain": [
       "VBox(children=(HTML(value='<center> <img\\nsrc=https://huggingface.co/front/assets/huggingface_logo-noborder.sv…"
      ]
     },
     "metadata": {},
     "output_type": "display_data"
    }
   ],
   "source": [
    "from huggingface_hub import notebook_login\n",
    "\n",
    "notebook_login()"
   ]
  },
  {
   "cell_type": "markdown",
   "metadata": {
    "id": "TyRa9RufNOUL"
   },
   "source": [
    "# RAG with LangChain"
   ]
  },
  {
   "cell_type": "code",
   "execution_count": 11,
   "metadata": {
    "id": "cT_eO1DZJIVc"
   },
   "outputs": [],
   "source": [
    "from langchain.prompts import PromptTemplate\n",
    "from langchain.llms import HuggingFacePipeline\n",
    "from transformers import pipeline\n",
    "import torch\n",
    "from transformers import AutoTokenizer, AutoModelForCausalLM, BitsAndBytesConfig\n",
    "from langchain.chains import RetrievalQA"
   ]
  },
  {
   "cell_type": "code",
   "execution_count": 12,
   "metadata": {
    "colab": {
     "base_uri": "https://localhost:8080/",
     "height": 138,
     "referenced_widgets": [
      "08e3a4bbf8324c90988483141dda32e1",
      "dcc5c16ba6ba45bead79b8a6c573c39b",
      "7d6e9101cfcb4aa796042ae670f1eb32",
      "29d591e1c850424b8e48e23271b7c381",
      "ee9a81ead2ec4dddb4d894f8a6b51839",
      "ac751d5415c5456980266f88069a6a89",
      "1a106b57fb70496a8c3330aa9c17dedf",
      "95ecc7e03cac404ab9b6250649bf86c4",
      "f9ab8f151eb1460988f522cda7ec5af4",
      "1edfe23217b14404a5791e7f8289061f",
      "97c5358c59bc4f3084475941a399502c"
     ]
    },
    "id": "FSq8xgT6Y30I",
    "outputId": "ebc951c1-e22d-4f72-e69e-b01379421196"
   },
   "outputs": [
    {
     "name": "stderr",
     "output_type": "stream",
     "text": [
      "`low_cpu_mem_usage` was None, now set to True since model is quantized.\n"
     ]
    },
    {
     "data": {
      "application/vnd.jupyter.widget-view+json": {
       "model_id": "08e3a4bbf8324c90988483141dda32e1",
       "version_major": 2,
       "version_minor": 0
      },
      "text/plain": [
       "Loading checkpoint shards:   0%|          | 0/4 [00:00<?, ?it/s]"
      ]
     },
     "metadata": {},
     "output_type": "display_data"
    },
    {
     "name": "stderr",
     "output_type": "stream",
     "text": [
      "Special tokens have been added in the vocabulary, make sure the associated word embeddings are fine-tuned or trained.\n",
      "/usr/local/lib/python3.10/dist-packages/langchain_core/_api/deprecation.py:139: LangChainDeprecationWarning: The class `HuggingFacePipeline` was deprecated in LangChain 0.0.37 and will be removed in 0.3. An updated version of the class exists in the langchain-huggingface package and should be used instead. To use it run `pip install -U langchain-huggingface` and import as `from langchain_huggingface import HuggingFacePipeline`.\n",
      "  warn_deprecated(\n"
     ]
    }
   ],
   "source": [
    "model_name = \"meta-llama/Meta-Llama-3-8B-Instruct\"\n",
    "\n",
    "bnb_config = BitsAndBytesConfig(\n",
    "    load_in_4bit=True, bnb_4bit_use_double_quant=True, bnb_4bit_quant_type=\"nf4\", bnb_4bit_compute_dtype=torch.bfloat16\n",
    ")\n",
    "\n",
    "model = AutoModelForCausalLM.from_pretrained(model_name, quantization_config=bnb_config)\n",
    "tokenizer = AutoTokenizer.from_pretrained(model_name)\n",
    "\n",
    "terminators = [tokenizer.eos_token_id, tokenizer.convert_tokens_to_ids(\"<|eot_id|>\")]\n",
    "\n",
    "text_generation_pipeline = pipeline(\n",
    "    model=model,\n",
    "    tokenizer=tokenizer,\n",
    "    task=\"text-generation\",\n",
    "    temperature=0.2,\n",
    "    do_sample=True,\n",
    "    repetition_penalty=1.1,\n",
    "    return_full_text=False,\n",
    "    max_new_tokens=200,\n",
    "    eos_token_id=terminators,\n",
    ")\n",
    "\n",
    "llm = HuggingFacePipeline(pipeline=text_generation_pipeline)\n",
    "\n",
    "prompt_template = \"\"\"\n",
    "<|start_header_id|>user<|end_header_id|>\n",
    "You are an assistant for answering questions using provided context.\n",
    "You are given the extracted parts of a long document and a question. Provide a conversational answer.\n",
    "If you don't know the answer, just say \"I do not know.\" Don't make up an answer.\n",
    "Question: {question}\n",
    "Context: {context}<|eot_id|><|start_header_id|>assistant<|end_header_id|>\n",
    "\"\"\"\n",
    "\n",
    "prompt = PromptTemplate(\n",
    "    input_variables=[\"context\", \"question\"],\n",
    "    template=prompt_template,\n",
    ")\n",
    "\n",
    "\n",
    "qa_chain = RetrievalQA.from_chain_type(llm, retriever=retriever, chain_type_kwargs={\"prompt\": prompt})"
   ]
  },
  {
   "cell_type": "markdown",
   "metadata": {
    "id": "OmWXycC_NXks"
   },
   "source": [
    "# Questions - Answering"
   ]
  },
  {
   "cell_type": "code",
   "execution_count": 13,
   "metadata": {
    "colab": {
     "base_uri": "https://localhost:8080/"
    },
    "id": "HF05daHfK8wj",
    "outputId": "7d6e0e5c-b983-4412-9ce2-6462ee4ce3ab"
   },
   "outputs": [
    {
     "name": "stderr",
     "output_type": "stream",
     "text": [
      "Setting `pad_token_id` to `eos_token_id`:128009 for open-end generation.\n"
     ]
    },
    {
     "name": "stdout",
     "output_type": "stream",
     "text": [
      "Yes, aphids are considered a pest because they feed on the nutrient-rich liquids within plants, causing harm to the plant's health. In fact, they can multiply quickly and need to be controlled immediately to prevent further damage. As mentioned in the text, ants are often attracted to aphids because they secrete a sweet, sticky liquid called honeydew, which aphids excrete as they feed on the plant sap. So, if you notice ants on your plants, it could be a sign that aphids are present.\n"
     ]
    }
   ],
   "source": [
    "# Define the question\n",
    "question = \"Are aphids a pest?\"\n",
    "\n",
    "# Invoke the QA chain\n",
    "result = qa_chain.invoke(question)[\"result\"]\n",
    "print(result)"
   ]
  },
  {
   "cell_type": "code",
   "execution_count": 14,
   "metadata": {
    "colab": {
     "base_uri": "https://localhost:8080/",
     "height": 104
    },
    "id": "ZLf2mXK8OOKt",
    "outputId": "43a003d1-7b3e-4e11-a9c3-962cb3eaf871"
   },
   "outputs": [
    {
     "name": "stderr",
     "output_type": "stream",
     "text": [
      "Setting `pad_token_id` to `eos_token_id`:128009 for open-end generation.\n"
     ]
    },
    {
     "data": {
      "application/vnd.google.colaboratory.intrinsic+json": {
       "type": "string"
      },
      "text/plain": [
       "'Based on the provided context, Integrated Pest Management (IPM) is a method of managing pests, such as insects, weeds, plant diseases, slugs, birds, and mammals, in a way that reduces their numbers below a damaging level, while also being economical and safe. The goal of IPM is to achieve effective pest control without necessarily eliminating all pests. This approach was initially developed for agricultural pests but has since been successfully applied to other areas as well.'"
      ]
     },
     "execution_count": 14,
     "metadata": {},
     "output_type": "execute_result"
    }
   ],
   "source": [
    "question = \"What is integrated Pest Management\"\n",
    "\n",
    "qa_chain.invoke(question)[\"result\"]"
   ]
  },
  {
   "cell_type": "code",
   "execution_count": 15,
   "metadata": {
    "colab": {
     "base_uri": "https://localhost:8080/",
     "height": 104
    },
    "id": "leYX0onfRV8i",
    "outputId": "b9d0f3cb-12d0-4bc9-e61b-a50e6aa40c0f"
   },
   "outputs": [
    {
     "name": "stderr",
     "output_type": "stream",
     "text": [
      "Setting `pad_token_id` to `eos_token_id`:128009 for open-end generation.\n"
     ]
    },
    {
     "data": {
      "application/vnd.google.colaboratory.intrinsic+json": {
       "type": "string"
      },
      "text/plain": [
       "\"Based on the provided context, I can tell you that IPM stands for Integrated Pest Management. According to the text, IPM is a decision-making process that helps to prevent pest problems by considering all available information and treatment methods. It's a coordinated approach that aims to prevent unacceptable levels of pest damage while minimizing risks to people, property, and the environment. The goal of IPM is to keep pest numbers at acceptable levels, rather than eliminating them entirely, which can lead to more sustainable and cost-effective pest management practices.\""
      ]
     },
     "execution_count": 15,
     "metadata": {},
     "output_type": "execute_result"
    }
   ],
   "source": [
    "question = \"What is IPM program?\"\n",
    "\n",
    "qa_chain.invoke(question)[\"result\"]"
   ]
  },
  {
   "cell_type": "code",
   "execution_count": 16,
   "metadata": {
    "colab": {
     "base_uri": "https://localhost:8080/"
    },
    "id": "z8D1T0UiRcoV",
    "outputId": "a248733b-e64d-466d-b18c-8914cf0dbd22"
   },
   "outputs": [
    {
     "name": "stderr",
     "output_type": "stream",
     "text": [
      "Setting `pad_token_id` to `eos_token_id`:128009 for open-end generation.\n"
     ]
    },
    {
     "name": "stdout",
     "output_type": "stream",
     "text": [
      "Based on the provided context, I'd be happy to help you with your question!\n",
      "\n",
      "The key elements of an IPM (Integrated Pest Management) Program are:\n",
      "\n",
      "**Prevention**: This involves planning and managing ecosystems to keep organisms from becoming problems. It's often more effective and cost-efficient to prevent pest issues rather than waiting until they arise.\n",
      "\n",
      "**Identification**: In this step, pests and beneficial organisms are identified. This is crucial in understanding the problem and developing a suitable solution.\n",
      "\n",
      "These two elements form the foundation of an effective IPM Program, which aims to manage pests while minimizing environmental impact and ensuring sustainability.\n",
      "\n",
      "Let me know if you have any further questions!\n"
     ]
    }
   ],
   "source": [
    "question = \"What are the key elements of an IPM Program? brief each elements pointwise.\"\n",
    "\n",
    "print(qa_chain.invoke(question)[\"result\"])"
   ]
  },
  {
   "cell_type": "code",
   "execution_count": 17,
   "metadata": {
    "colab": {
     "base_uri": "https://localhost:8080/"
    },
    "id": "uE9Juy7UUixv",
    "outputId": "5efe4361-07e7-42b6-dac8-5a13b29d8a42"
   },
   "outputs": [
    {
     "name": "stderr",
     "output_type": "stream",
     "text": [
      "Setting `pad_token_id` to `eos_token_id`:128009 for open-end generation.\n"
     ]
    },
    {
     "name": "stdout",
     "output_type": "stream",
     "text": [
      "Based on the provided context, I'd be happy to help!\n",
      "\n",
      "To answer your question: Yes, Monitoring, Injury, and Action Thresholds are indeed elements of an Integrated Pest Management (IPM) Program.\n",
      "\n",
      "Let me know if you have any further questions!\n"
     ]
    }
   ],
   "source": [
    "question = \"Is Monitoring,  Injury and Action Thresholds not the elements of an IPM Program?\"\n",
    "\n",
    "print(qa_chain.invoke(question)[\"result\"])"
   ]
  },
  {
   "cell_type": "code",
   "execution_count": 18,
   "metadata": {
    "colab": {
     "base_uri": "https://localhost:8080/"
    },
    "id": "s1JNmNvxR3-m",
    "outputId": "34259415-6747-40f2-8822-0113ad96c01c"
   },
   "outputs": [
    {
     "name": "stderr",
     "output_type": "stream",
     "text": [
      "Setting `pad_token_id` to `eos_token_id`:128009 for open-end generation.\n"
     ]
    },
    {
     "name": "stdout",
     "output_type": "stream",
     "text": [
      "Based on the provided context, here's a step-by-step guide on how to plan an IPM program:\n",
      "\n",
      "**Step 1: Identify When Pests Will Be Present**\n",
      "Determine when pests are likely to appear based on factors such as weather conditions, crop growth stage, and environmental changes.\n",
      "\n",
      "**Step 2: Understand What Pests Eat and Where They Hide**\n",
      "Research the feeding habits and habitats of target pests to better understand their behavior and ecology.\n",
      "\n",
      "**Step 3: Identify Stages of Life That Are Easiest to Control**\n",
      "Focus on controlling specific life stages of pests, such as eggs, larvae, or adults, depending on which stage is most vulnerable to management.\n",
      "\n",
      "**Step 4: Identify Natural Enemies and Beneficial Organisms**\n",
      "Recognize the presence of natural predators, parasites, or other beneficial organisms that can help regulate pest populations.\n",
      "\n",
      "**Step 5: Monitor Pest Populations**\n",
      "Regularly monitor pest populations to detect early signs of infestation, track population trends, and\n"
     ]
    }
   ],
   "source": [
    "question = \"How to plan an IPM Program? Provide stepwise guide\"\n",
    "\n",
    "print(qa_chain.invoke(question)[\"result\"])"
   ]
  },
  {
   "cell_type": "code",
   "execution_count": 19,
   "metadata": {
    "colab": {
     "base_uri": "https://localhost:8080/"
    },
    "id": "3Kqm50SMSUtS",
    "outputId": "1f567847-d044-489f-8ebd-6f106994bf9c"
   },
   "outputs": [
    {
     "name": "stderr",
     "output_type": "stream",
     "text": [
      "Setting `pad_token_id` to `eos_token_id`:128009 for open-end generation.\n"
     ]
    },
    {
     "name": "stdout",
     "output_type": "stream",
     "text": [
      "Based on the provided context, here's a stepwise guide on how to plan an IPM program:\n",
      "\n",
      "**Step 1: Identify When Pests Will Be Present**\n",
      "Determine the timing of pest presence, which can help you anticipate and prepare for potential issues.\n",
      "\n",
      "**Step 2: Understand What Pests Eat and Where They Hide**\n",
      "Learn about the food sources and habitats of pests to better understand their behavior and potential entry points.\n",
      "\n",
      "**Step 3: Identify Stages of Life That Are Easiest to Control**\n",
      "Focus on controlling specific stages of a pest's life cycle, such as eggs, larvae, or adults, depending on your goals and resources.\n",
      "\n",
      "**Step 4: Identify Natural Enemies and Beneficial Organisms**\n",
      "Recognize the presence of natural predators, parasites, or other beneficial organisms that can help regulate pest populations.\n",
      "\n",
      "**Step 5: Monitor for Pests and Beneficial Organisms**\n",
      "Regularly monitor fields, crops, or ecosystems to detect pest presence, assess damage,\n"
     ]
    }
   ],
   "source": [
    "questions = \"\"\"\n",
    "What are these in IPM program?\n",
    "\n",
    "1. When pests will be present\n",
    "2. What they eat\n",
    "3. Where they hide\n",
    "4. The stages of life that are easiest to control\n",
    "5. What natural enemies exist\n",
    "\"\"\"\n",
    "print(qa_chain.invoke(question)[\"result\"])"
   ]
  },
  {
   "cell_type": "markdown",
   "metadata": {
    "id": "qA96jDaRYJ5c"
   },
   "source": [
    "## Self-test Questions"
   ]
  },
  {
   "cell_type": "code",
   "execution_count": 20,
   "metadata": {
    "colab": {
     "base_uri": "https://localhost:8080/"
    },
    "id": "OMH37FdKS7T1",
    "outputId": "c6a68e53-a6e8-47e7-9a80-1271c8df54de"
   },
   "outputs": [
    {
     "name": "stderr",
     "output_type": "stream",
     "text": [
      "Setting `pad_token_id` to `eos_token_id`:128009 for open-end generation.\n"
     ]
    },
    {
     "name": "stdout",
     "output_type": "stream",
     "text": [
      "Based on the provided context, here are five advantages of using an IPM program:\n",
      "\n",
      "1. **Long-term answers to pest problems**: An IPM program provides a sustainable solution to pest management, addressing the root causes of the problem rather than just treating symptoms.\n",
      "\n",
      "2. **Protecting environmental and human health**: By reducing pesticide use, IPM minimizes the risk of environmental contamination and exposure to toxic chemicals, ensuring a healthier ecosystem and safer food supply.\n",
      "\n",
      "3. **Reducing harm to beneficial organisms**: IPM considers the impact on non-target species, such as bees and butterflies, which are essential for pollination and ecosystem balance.\n",
      "\n",
      "4. **Preventing creation of pesticide-resistant pests**: By rotating pesticides and using alternative control methods, IPM slows down the development of pesticide resistance, making it more challenging for pests to adapt and evolve.\n",
      "\n",
      "5. **Providing a way to manage pests when pesticides cannot be used**: In situations where pesticides are not feasible or effective, IPM offers a range of\n"
     ]
    }
   ],
   "source": [
    "question = \"\"\"\n",
    "What are the advantages of using an IPM program?\n",
    "provide atleast 5 points\n",
    "\"\"\"\n",
    "print(qa_chain.invoke(question)[\"result\"])"
   ]
  },
  {
   "cell_type": "code",
   "execution_count": 21,
   "metadata": {
    "colab": {
     "base_uri": "https://localhost:8080/"
    },
    "id": "_HCOnWouV5mU",
    "outputId": "31e22ff7-d5ce-48bb-da44-b20ba70a8ecf"
   },
   "outputs": [
    {
     "name": "stderr",
     "output_type": "stream",
     "text": [
      "Setting `pad_token_id` to `eos_token_id`:128009 for open-end generation.\n"
     ]
    },
    {
     "name": "stdout",
     "output_type": "stream",
     "text": [
      "According to the context, prevention is key to an IPM program because it allows us to avoid problems altogether. By changing the way we manage crops, ornamentals, buildings, or other sites, we can prevent pest issues from arising in the first place. This approach is often more cost-effective and yields better results in the long run compared to waiting until problems occur and then relying on treatments. Additionally, preventing pest problems means there's no need for costly treatments, which also benefits the environment.\n"
     ]
    }
   ],
   "source": [
    "question = \"\"\"\n",
    "Why is prevention key to an IPM program?\n",
    "\"\"\"\n",
    "print(qa_chain.invoke(question)[\"result\"])"
   ]
  },
  {
   "cell_type": "code",
   "execution_count": 22,
   "metadata": {
    "colab": {
     "base_uri": "https://localhost:8080/"
    },
    "id": "zsM-WY9pWaGx",
    "outputId": "6f9c6dac-eb7d-426e-f625-b9f94bddfe00"
   },
   "outputs": [
    {
     "name": "stderr",
     "output_type": "stream",
     "text": [
      "Setting `pad_token_id` to `eos_token_id`:128009 for open-end generation.\n"
     ]
    },
    {
     "name": "stdout",
     "output_type": "stream",
     "text": [
      "Based on the provided context, I would choose option d) All of above as the correct answer.\n",
      "\n",
      "According to the text, monitoring is used in an IPM program to discover if pests are present and in what numbers (option a), find pest damage or symptoms of disease (option b), and determine if beneficial organisms are present (option c). Therefore, all three options are correct, making option d the best choice.\n"
     ]
    }
   ],
   "source": [
    "question = \"\"\" Choose the correct options from a,b,c,d & e\n",
    "\n",
    "Monitoring is used in an IPM program to:\n",
    "a. Discover if pests are present and in what numbers\n",
    "b. Find pest damage or symptoms of disease\n",
    "c. Determine if beneficial organisms are present\n",
    "d. All of above\n",
    "e. a and b only\n",
    "\"\"\"\n",
    "\n",
    "print(qa_chain.invoke(question)[\"result\"])"
   ]
  },
  {
   "cell_type": "code",
   "execution_count": 23,
   "metadata": {
    "colab": {
     "base_uri": "https://localhost:8080/"
    },
    "id": "iD6Z_WRFWgVq",
    "outputId": "f2be5ed2-221a-40c7-d1b2-3f3bb94d6b98"
   },
   "outputs": [
    {
     "name": "stderr",
     "output_type": "stream",
     "text": [
      "You seem to be using the pipelines sequentially on GPU. In order to maximize efficiency please use a dataset\n",
      "Setting `pad_token_id` to `eos_token_id`:128009 for open-end generation.\n"
     ]
    },
    {
     "name": "stdout",
     "output_type": "stream",
     "text": [
      "Based on the provided context, I can explain the difference between injury threshold and action threshold.\n",
      "\n",
      "According to the text, the injury threshold refers to the maximum tolerable pest population, which is the point where pest numbers become unacceptable due to the damage they cause. On the other hand, the action threshold is the point at which treatment should be taken to prevent the pest population from reaching the injury threshold. In other words, the action threshold is the trigger point for taking action against the pest population before it causes significant harm.\n",
      "\n",
      "To illustrate this concept, let's consider an example. Imagine a farmer monitoring a field for aphids, a common pest that can damage crops. If the aphid population reaches the injury threshold, the damage would already be significant, and the farmer might need to apply pesticides or other control measures to mitigate the impact. However, if the farmer detects the aphid population approaching the action threshold, they could intervene earlier by applying a treatment to prevent the population from reaching the injury threshold. By\n"
     ]
    }
   ],
   "source": [
    "question = \"\"\"Explain the difference between injury threshold and action threshold.\"\"\"\n",
    "\n",
    "print(qa_chain.invoke(question)[\"result\"])"
   ]
  },
  {
   "cell_type": "code",
   "execution_count": 24,
   "metadata": {
    "colab": {
     "base_uri": "https://localhost:8080/"
    },
    "id": "Y7VupYteW_4_",
    "outputId": "2f3646b1-27c5-4176-969e-af49fa932003"
   },
   "outputs": [
    {
     "name": "stderr",
     "output_type": "stream",
     "text": [
      "Setting `pad_token_id` to `eos_token_id`:128009 for open-end generation.\n"
     ]
    },
    {
     "name": "stdout",
     "output_type": "stream",
     "text": [
      "Based on the provided context, here are five treatments used for pest control with one example each:\n",
      "\n",
      "1. Cultural Controls - Adjusting growing conditions to prevent pest buildup. Example: Pruning trees to improve air circulation and reduce humidity, making it harder for fungal diseases to develop.\n",
      "2. Biological Controls - Using natural predators or parasites to control pests. Example: Introducing ladybugs to a garden to feed on aphids, reducing their population.\n",
      "3. Chemical Controls - Using pesticides to kill pests. Example: Applying insecticides to a field to control aphid infestations.\n",
      "4. Physical Controls - Removing pests from the environment. Example: Hand-picking caterpillars from crops to prevent damage.\n",
      "5. Genetic Controls - Altering crop varieties to resist pests. Example: Developing corn varieties that are resistant to certain types of corn borers.\n",
      "\n",
      "Please note that these are just a few examples, and there may be many more treatments used in pest control depending on the specific situation.\n"
     ]
    }
   ],
   "source": [
    "question = \"\"\"List five treatments used for pest control. Give one example of each.\"\"\"\n",
    "print(qa_chain.invoke(question)[\"result\"])"
   ]
  },
  {
   "cell_type": "code",
   "execution_count": 25,
   "metadata": {
    "colab": {
     "base_uri": "https://localhost:8080/"
    },
    "id": "T7YlCooMXQjU",
    "outputId": "94a01a75-627c-4eb0-fb6d-9bee9805957d"
   },
   "outputs": [
    {
     "name": "stderr",
     "output_type": "stream",
     "text": [
      "Setting `pad_token_id` to `eos_token_id`:128009 for open-end generation.\n"
     ]
    },
    {
     "name": "stdout",
     "output_type": "stream",
     "text": [
      "Based on the provided context, I'd be happy to help answer your question!\n",
      "\n",
      "Why is communication important in an IPM program?\n",
      "\n",
      "According to the text, communication is crucial in an IPM program because it allows different stakeholders to share information and work together towards solving a pest problem. This includes gathering local experience and information from government agencies, local trade associations, and employees, as well as communicating the details of the IPM program and its goals to workers, employers, and customers. Effective communication helps ensure that everyone understands their role and can contribute to the success of the program.\n",
      "\n",
      "Let me know if you have any further questions!\n"
     ]
    }
   ],
   "source": [
    "question = \"\"\"Why is communication important in an IPM program?\"\"\"\n",
    "print(qa_chain.invoke(question)[\"result\"])"
   ]
  },
  {
   "cell_type": "code",
   "execution_count": 26,
   "metadata": {
    "colab": {
     "base_uri": "https://localhost:8080/"
    },
    "id": "7vXjuu8LXej-",
    "outputId": "bd376d4b-6a7d-4176-f539-f63436f8fa19"
   },
   "outputs": [
    {
     "name": "stderr",
     "output_type": "stream",
     "text": [
      "Setting `pad_token_id` to `eos_token_id`:128009 for open-end generation.\n"
     ]
    },
    {
     "name": "stdout",
     "output_type": "stream",
     "text": [
      "Based on the provided context, I would answer your question as follows:\n",
      "\n",
      "That's true! According to the text, \"The greater the number of samples counted, the more likely it is that the results will give a good estimate.\" It also states that \"Ten to fifty samples are often required\" and that \"Enough random samples must be taken to get a good estimate of the pest population.\" This suggests that taking a sufficient number of samples is crucial for getting an accurate estimate of the pest population.\n"
     ]
    }
   ],
   "source": [
    "question = \"\"\"A monitoring program should take enough samples to get the most\n",
    "accurate estimate of the pest population.\n",
    "True or False?\"\"\"\n",
    "print(qa_chain.invoke(question)[\"result\"])"
   ]
  },
  {
   "cell_type": "code",
   "execution_count": 27,
   "metadata": {
    "colab": {
     "base_uri": "https://localhost:8080/"
    },
    "id": "j9ljLG70Xn2r",
    "outputId": "da03eb9c-0b50-40ae-a913-a46146c88c8b"
   },
   "outputs": [
    {
     "name": "stderr",
     "output_type": "stream",
     "text": [
      "Setting `pad_token_id` to `eos_token_id`:128009 for open-end generation.\n"
     ]
    },
    {
     "name": "stdout",
     "output_type": "stream",
     "text": [
      "Based on the provided context, I would answer your question as follows:\n",
      "\n",
      "The statement \"A monitoring program should take enough samples to get the most accurate estimate of the pest population\" is TRUE. According to the text, \"The greater the number of samples counted, the more likely it is that the results will give a good estimate. Ten to fifty samples are often required.\" This suggests that taking a sufficient number of samples is crucial for getting an accurate estimate of the pest population.\n"
     ]
    }
   ],
   "source": [
    "question = \"\"\"A monitoring program should take enough samples to get the most\n",
    "accurate estimate of the pest population.\n",
    "True or False?\"\"\"\n",
    "print(qa_chain.invoke(question)[\"result\"])"
   ]
  },
  {
   "cell_type": "code",
   "execution_count": 28,
   "metadata": {
    "colab": {
     "base_uri": "https://localhost:8080/"
    },
    "id": "X4KNnL3HXvP7",
    "outputId": "082f4af8-db50-4a37-85d6-b7dcdc8d2a0a"
   },
   "outputs": [
    {
     "name": "stderr",
     "output_type": "stream",
     "text": [
      "Setting `pad_token_id` to `eos_token_id`:128009 for open-end generation.\n"
     ]
    },
    {
     "name": "stdout",
     "output_type": "stream",
     "text": [
      "Based on the provided context, I would answer the question as follows:\n",
      "\n",
      "TRUE. According to the text, visual inspections include counting the number of pests on plants. Specifically, it mentions that one part of a visual inspection is \"counting the number of pests on plants\".\n"
     ]
    }
   ],
   "source": [
    "question = \"\"\"Visual inspections include counting the number of pests on plants.\n",
    "True or False?\"\"\"\n",
    "print(qa_chain.invoke(question)[\"result\"])"
   ]
  },
  {
   "cell_type": "code",
   "execution_count": 29,
   "metadata": {
    "colab": {
     "base_uri": "https://localhost:8080/"
    },
    "id": "1-fojVW8X7sn",
    "outputId": "ef4b3915-1d5b-4b32-e0d2-96641969f6a2"
   },
   "outputs": [
    {
     "name": "stderr",
     "output_type": "stream",
     "text": [
      "Setting `pad_token_id` to `eos_token_id`:128009 for open-end generation.\n"
     ]
    },
    {
     "name": "stdout",
     "output_type": "stream",
     "text": [
      "Based on the provided context, I would answer your question as follows:\n",
      "\n",
      "False. According to the text, \"In an IPM program, it is common to use several treatments together to control pests. Combined treatment methods are often more effective than using only one method.\" This suggests that multiple treatments are typically used in an IPM program, rather than just one.\n"
     ]
    }
   ],
   "source": [
    "question = \"\"\"In an IPM program, only one treatment is used for a given pest problem.\n",
    "True or False?\n",
    "\"\"\"\n",
    "print(qa_chain.invoke(question)[\"result\"])"
   ]
  }
 ],
 "metadata": {
  "accelerator": "GPU",
  "colab": {
   "authorship_tag": "ABX9TyPkelFmWBLZLYhRhj4pRve1",
   "gpuType": "T4",
   "include_colab_link": true,
   "provenance": []
  },
  "kernelspec": {
   "display_name": "Python 3 (ipykernel)",
   "language": "python",
   "name": "python3"
  },
  "language_info": {
   "codemirror_mode": {
    "name": "ipython",
    "version": 3
   },
   "file_extension": ".py",
   "mimetype": "text/x-python",
   "name": "python",
   "nbconvert_exporter": "python",
   "pygments_lexer": "ipython3",
   "version": "3.12.4"
  },
  "widgets": {
   "application/vnd.jupyter.widget-state+json": {
    "045ef770b4e24ccd9b3cb4fbd98af7d3": {
     "model_module": "@jupyter-widgets/base",
     "model_module_version": "1.2.0",
     "model_name": "LayoutModel",
     "state": {
      "_model_module": "@jupyter-widgets/base",
      "_model_module_version": "1.2.0",
      "_model_name": "LayoutModel",
      "_view_count": null,
      "_view_module": "@jupyter-widgets/base",
      "_view_module_version": "1.2.0",
      "_view_name": "LayoutView",
      "align_content": null,
      "align_items": null,
      "align_self": null,
      "border": null,
      "bottom": null,
      "display": null,
      "flex": null,
      "flex_flow": null,
      "grid_area": null,
      "grid_auto_columns": null,
      "grid_auto_flow": null,
      "grid_auto_rows": null,
      "grid_column": null,
      "grid_gap": null,
      "grid_row": null,
      "grid_template_areas": null,
      "grid_template_columns": null,
      "grid_template_rows": null,
      "height": null,
      "justify_content": null,
      "justify_items": null,
      "left": null,
      "margin": null,
      "max_height": null,
      "max_width": null,
      "min_height": null,
      "min_width": null,
      "object_fit": null,
      "object_position": null,
      "order": null,
      "overflow": null,
      "overflow_x": null,
      "overflow_y": null,
      "padding": null,
      "right": null,
      "top": null,
      "visibility": null,
      "width": null
     }
    },
    "07744c9b4a154f50989436c702dcad8c": {
     "model_module": "@jupyter-widgets/controls",
     "model_module_version": "1.5.0",
     "model_name": "LabelModel",
     "state": {
      "_dom_classes": [],
      "_model_module": "@jupyter-widgets/controls",
      "_model_module_version": "1.5.0",
      "_model_name": "LabelModel",
      "_view_count": null,
      "_view_module": "@jupyter-widgets/controls",
      "_view_module_version": "1.5.0",
      "_view_name": "LabelView",
      "description": "",
      "description_tooltip": null,
      "layout": "IPY_MODEL_15c5a34357c34aeba642af1c380f06bc",
      "placeholder": "​",
      "style": "IPY_MODEL_a8d33a22f81246048e90059ecfb88003",
      "value": "Your token has been saved in your configured git credential helpers (store)."
     }
    },
    "08e3a4bbf8324c90988483141dda32e1": {
     "model_module": "@jupyter-widgets/controls",
     "model_module_version": "1.5.0",
     "model_name": "HBoxModel",
     "state": {
      "_dom_classes": [],
      "_model_module": "@jupyter-widgets/controls",
      "_model_module_version": "1.5.0",
      "_model_name": "HBoxModel",
      "_view_count": null,
      "_view_module": "@jupyter-widgets/controls",
      "_view_module_version": "1.5.0",
      "_view_name": "HBoxView",
      "box_style": "",
      "children": [
       "IPY_MODEL_dcc5c16ba6ba45bead79b8a6c573c39b",
       "IPY_MODEL_7d6e9101cfcb4aa796042ae670f1eb32",
       "IPY_MODEL_29d591e1c850424b8e48e23271b7c381"
      ],
      "layout": "IPY_MODEL_ee9a81ead2ec4dddb4d894f8a6b51839"
     }
    },
    "1223c8cf05464e638528d69a9a1e62ab": {
     "model_module": "@jupyter-widgets/controls",
     "model_module_version": "1.5.0",
     "model_name": "LabelModel",
     "state": {
      "_dom_classes": [],
      "_model_module": "@jupyter-widgets/controls",
      "_model_module_version": "1.5.0",
      "_model_name": "LabelModel",
      "_view_count": null,
      "_view_module": "@jupyter-widgets/controls",
      "_view_module_version": "1.5.0",
      "_view_name": "LabelView",
      "description": "",
      "description_tooltip": null,
      "layout": "IPY_MODEL_27d256167fbb4ad5b5e129911537d1f1",
      "placeholder": "​",
      "style": "IPY_MODEL_17352e12f6a0446391156eec2f60edfc",
      "value": "Login successful"
     }
    },
    "15c5a34357c34aeba642af1c380f06bc": {
     "model_module": "@jupyter-widgets/base",
     "model_module_version": "1.2.0",
     "model_name": "LayoutModel",
     "state": {
      "_model_module": "@jupyter-widgets/base",
      "_model_module_version": "1.2.0",
      "_model_name": "LayoutModel",
      "_view_count": null,
      "_view_module": "@jupyter-widgets/base",
      "_view_module_version": "1.2.0",
      "_view_name": "LayoutView",
      "align_content": null,
      "align_items": null,
      "align_self": null,
      "border": null,
      "bottom": null,
      "display": null,
      "flex": null,
      "flex_flow": null,
      "grid_area": null,
      "grid_auto_columns": null,
      "grid_auto_flow": null,
      "grid_auto_rows": null,
      "grid_column": null,
      "grid_gap": null,
      "grid_row": null,
      "grid_template_areas": null,
      "grid_template_columns": null,
      "grid_template_rows": null,
      "height": null,
      "justify_content": null,
      "justify_items": null,
      "left": null,
      "margin": null,
      "max_height": null,
      "max_width": null,
      "min_height": null,
      "min_width": null,
      "object_fit": null,
      "object_position": null,
      "order": null,
      "overflow": null,
      "overflow_x": null,
      "overflow_y": null,
      "padding": null,
      "right": null,
      "top": null,
      "visibility": null,
      "width": null
     }
    },
    "16e96485f9d74141bc3b00a0da0fadd9": {
     "model_module": "@jupyter-widgets/controls",
     "model_module_version": "1.5.0",
     "model_name": "LabelModel",
     "state": {
      "_dom_classes": [],
      "_model_module": "@jupyter-widgets/controls",
      "_model_module_version": "1.5.0",
      "_model_name": "LabelModel",
      "_view_count": null,
      "_view_module": "@jupyter-widgets/controls",
      "_view_module_version": "1.5.0",
      "_view_name": "LabelView",
      "description": "",
      "description_tooltip": null,
      "layout": "IPY_MODEL_7c26a88290834a04a0c01c1d964046cd",
      "placeholder": "​",
      "style": "IPY_MODEL_53912c373e5442259e8e22eed02af7ac",
      "value": "Connecting..."
     }
    },
    "17352e12f6a0446391156eec2f60edfc": {
     "model_module": "@jupyter-widgets/controls",
     "model_module_version": "1.5.0",
     "model_name": "DescriptionStyleModel",
     "state": {
      "_model_module": "@jupyter-widgets/controls",
      "_model_module_version": "1.5.0",
      "_model_name": "DescriptionStyleModel",
      "_view_count": null,
      "_view_module": "@jupyter-widgets/base",
      "_view_module_version": "1.2.0",
      "_view_name": "StyleView",
      "description_width": ""
     }
    },
    "1a106b57fb70496a8c3330aa9c17dedf": {
     "model_module": "@jupyter-widgets/controls",
     "model_module_version": "1.5.0",
     "model_name": "DescriptionStyleModel",
     "state": {
      "_model_module": "@jupyter-widgets/controls",
      "_model_module_version": "1.5.0",
      "_model_name": "DescriptionStyleModel",
      "_view_count": null,
      "_view_module": "@jupyter-widgets/base",
      "_view_module_version": "1.2.0",
      "_view_name": "StyleView",
      "description_width": ""
     }
    },
    "1edfe23217b14404a5791e7f8289061f": {
     "model_module": "@jupyter-widgets/base",
     "model_module_version": "1.2.0",
     "model_name": "LayoutModel",
     "state": {
      "_model_module": "@jupyter-widgets/base",
      "_model_module_version": "1.2.0",
      "_model_name": "LayoutModel",
      "_view_count": null,
      "_view_module": "@jupyter-widgets/base",
      "_view_module_version": "1.2.0",
      "_view_name": "LayoutView",
      "align_content": null,
      "align_items": null,
      "align_self": null,
      "border": null,
      "bottom": null,
      "display": null,
      "flex": null,
      "flex_flow": null,
      "grid_area": null,
      "grid_auto_columns": null,
      "grid_auto_flow": null,
      "grid_auto_rows": null,
      "grid_column": null,
      "grid_gap": null,
      "grid_row": null,
      "grid_template_areas": null,
      "grid_template_columns": null,
      "grid_template_rows": null,
      "height": null,
      "justify_content": null,
      "justify_items": null,
      "left": null,
      "margin": null,
      "max_height": null,
      "max_width": null,
      "min_height": null,
      "min_width": null,
      "object_fit": null,
      "object_position": null,
      "order": null,
      "overflow": null,
      "overflow_x": null,
      "overflow_y": null,
      "padding": null,
      "right": null,
      "top": null,
      "visibility": null,
      "width": null
     }
    },
    "27d256167fbb4ad5b5e129911537d1f1": {
     "model_module": "@jupyter-widgets/base",
     "model_module_version": "1.2.0",
     "model_name": "LayoutModel",
     "state": {
      "_model_module": "@jupyter-widgets/base",
      "_model_module_version": "1.2.0",
      "_model_name": "LayoutModel",
      "_view_count": null,
      "_view_module": "@jupyter-widgets/base",
      "_view_module_version": "1.2.0",
      "_view_name": "LayoutView",
      "align_content": null,
      "align_items": null,
      "align_self": null,
      "border": null,
      "bottom": null,
      "display": null,
      "flex": null,
      "flex_flow": null,
      "grid_area": null,
      "grid_auto_columns": null,
      "grid_auto_flow": null,
      "grid_auto_rows": null,
      "grid_column": null,
      "grid_gap": null,
      "grid_row": null,
      "grid_template_areas": null,
      "grid_template_columns": null,
      "grid_template_rows": null,
      "height": null,
      "justify_content": null,
      "justify_items": null,
      "left": null,
      "margin": null,
      "max_height": null,
      "max_width": null,
      "min_height": null,
      "min_width": null,
      "object_fit": null,
      "object_position": null,
      "order": null,
      "overflow": null,
      "overflow_x": null,
      "overflow_y": null,
      "padding": null,
      "right": null,
      "top": null,
      "visibility": null,
      "width": null
     }
    },
    "29d591e1c850424b8e48e23271b7c381": {
     "model_module": "@jupyter-widgets/controls",
     "model_module_version": "1.5.0",
     "model_name": "HTMLModel",
     "state": {
      "_dom_classes": [],
      "_model_module": "@jupyter-widgets/controls",
      "_model_module_version": "1.5.0",
      "_model_name": "HTMLModel",
      "_view_count": null,
      "_view_module": "@jupyter-widgets/controls",
      "_view_module_version": "1.5.0",
      "_view_name": "HTMLView",
      "description": "",
      "description_tooltip": null,
      "layout": "IPY_MODEL_1edfe23217b14404a5791e7f8289061f",
      "placeholder": "​",
      "style": "IPY_MODEL_97c5358c59bc4f3084475941a399502c",
      "value": " 4/4 [01:21&lt;00:00, 18.53s/it]"
     }
    },
    "30f45c542f6c4175be9e045612b2cc02": {
     "model_module": "@jupyter-widgets/controls",
     "model_module_version": "1.5.0",
     "model_name": "LabelModel",
     "state": {
      "_dom_classes": [],
      "_model_module": "@jupyter-widgets/controls",
      "_model_module_version": "1.5.0",
      "_model_name": "LabelModel",
      "_view_count": null,
      "_view_module": "@jupyter-widgets/controls",
      "_view_module_version": "1.5.0",
      "_view_name": "LabelView",
      "description": "",
      "description_tooltip": null,
      "layout": "IPY_MODEL_b95dd74915a0488d93ce00cd74478938",
      "placeholder": "​",
      "style": "IPY_MODEL_36373672d7c64c93946f93a1638e0f60",
      "value": "Your token has been saved to /root/.cache/huggingface/token"
     }
    },
    "35f8c414277245fc9060e810a49e9c01": {
     "model_module": "@jupyter-widgets/controls",
     "model_module_version": "1.5.0",
     "model_name": "DescriptionStyleModel",
     "state": {
      "_model_module": "@jupyter-widgets/controls",
      "_model_module_version": "1.5.0",
      "_model_name": "DescriptionStyleModel",
      "_view_count": null,
      "_view_module": "@jupyter-widgets/base",
      "_view_module_version": "1.2.0",
      "_view_name": "StyleView",
      "description_width": ""
     }
    },
    "36373672d7c64c93946f93a1638e0f60": {
     "model_module": "@jupyter-widgets/controls",
     "model_module_version": "1.5.0",
     "model_name": "DescriptionStyleModel",
     "state": {
      "_model_module": "@jupyter-widgets/controls",
      "_model_module_version": "1.5.0",
      "_model_name": "DescriptionStyleModel",
      "_view_count": null,
      "_view_module": "@jupyter-widgets/base",
      "_view_module_version": "1.2.0",
      "_view_name": "StyleView",
      "description_width": ""
     }
    },
    "3beec7283528419486f82aabf405d067": {
     "model_module": "@jupyter-widgets/base",
     "model_module_version": "1.2.0",
     "model_name": "LayoutModel",
     "state": {
      "_model_module": "@jupyter-widgets/base",
      "_model_module_version": "1.2.0",
      "_model_name": "LayoutModel",
      "_view_count": null,
      "_view_module": "@jupyter-widgets/base",
      "_view_module_version": "1.2.0",
      "_view_name": "LayoutView",
      "align_content": null,
      "align_items": "center",
      "align_self": null,
      "border": null,
      "bottom": null,
      "display": "flex",
      "flex": null,
      "flex_flow": "column",
      "grid_area": null,
      "grid_auto_columns": null,
      "grid_auto_flow": null,
      "grid_auto_rows": null,
      "grid_column": null,
      "grid_gap": null,
      "grid_row": null,
      "grid_template_areas": null,
      "grid_template_columns": null,
      "grid_template_rows": null,
      "height": null,
      "justify_content": null,
      "justify_items": null,
      "left": null,
      "margin": null,
      "max_height": null,
      "max_width": null,
      "min_height": null,
      "min_width": null,
      "object_fit": null,
      "object_position": null,
      "order": null,
      "overflow": null,
      "overflow_x": null,
      "overflow_y": null,
      "padding": null,
      "right": null,
      "top": null,
      "visibility": null,
      "width": "50%"
     }
    },
    "4739d621af1446708b796bb0ca1fa022": {
     "model_module": "@jupyter-widgets/controls",
     "model_module_version": "1.5.0",
     "model_name": "DescriptionStyleModel",
     "state": {
      "_model_module": "@jupyter-widgets/controls",
      "_model_module_version": "1.5.0",
      "_model_name": "DescriptionStyleModel",
      "_view_count": null,
      "_view_module": "@jupyter-widgets/base",
      "_view_module_version": "1.2.0",
      "_view_name": "StyleView",
      "description_width": ""
     }
    },
    "48fd926a42e943e48a755ac1c9028108": {
     "model_module": "@jupyter-widgets/controls",
     "model_module_version": "1.5.0",
     "model_name": "VBoxModel",
     "state": {
      "_dom_classes": [],
      "_model_module": "@jupyter-widgets/controls",
      "_model_module_version": "1.5.0",
      "_model_name": "VBoxModel",
      "_view_count": null,
      "_view_module": "@jupyter-widgets/controls",
      "_view_module_version": "1.5.0",
      "_view_name": "VBoxView",
      "box_style": "",
      "children": [
       "IPY_MODEL_4ccabffd95ce4467bd6020ca7debbab0",
       "IPY_MODEL_07744c9b4a154f50989436c702dcad8c",
       "IPY_MODEL_30f45c542f6c4175be9e045612b2cc02",
       "IPY_MODEL_1223c8cf05464e638528d69a9a1e62ab"
      ],
      "layout": "IPY_MODEL_3beec7283528419486f82aabf405d067"
     }
    },
    "4ccabffd95ce4467bd6020ca7debbab0": {
     "model_module": "@jupyter-widgets/controls",
     "model_module_version": "1.5.0",
     "model_name": "LabelModel",
     "state": {
      "_dom_classes": [],
      "_model_module": "@jupyter-widgets/controls",
      "_model_module_version": "1.5.0",
      "_model_name": "LabelModel",
      "_view_count": null,
      "_view_module": "@jupyter-widgets/controls",
      "_view_module_version": "1.5.0",
      "_view_name": "LabelView",
      "description": "",
      "description_tooltip": null,
      "layout": "IPY_MODEL_a747d924c6784f9f8e5efd3045782b7c",
      "placeholder": "​",
      "style": "IPY_MODEL_35f8c414277245fc9060e810a49e9c01",
      "value": "Token is valid (permission: fineGrained)."
     }
    },
    "53912c373e5442259e8e22eed02af7ac": {
     "model_module": "@jupyter-widgets/controls",
     "model_module_version": "1.5.0",
     "model_name": "DescriptionStyleModel",
     "state": {
      "_model_module": "@jupyter-widgets/controls",
      "_model_module_version": "1.5.0",
      "_model_name": "DescriptionStyleModel",
      "_view_count": null,
      "_view_module": "@jupyter-widgets/base",
      "_view_module_version": "1.2.0",
      "_view_name": "StyleView",
      "description_width": ""
     }
    },
    "69bc48161a344a2ea7620a2b8be4f001": {
     "model_module": "@jupyter-widgets/controls",
     "model_module_version": "1.5.0",
     "model_name": "ButtonModel",
     "state": {
      "_dom_classes": [],
      "_model_module": "@jupyter-widgets/controls",
      "_model_module_version": "1.5.0",
      "_model_name": "ButtonModel",
      "_view_count": null,
      "_view_module": "@jupyter-widgets/controls",
      "_view_module_version": "1.5.0",
      "_view_name": "ButtonView",
      "button_style": "",
      "description": "Login",
      "disabled": false,
      "icon": "",
      "layout": "IPY_MODEL_b8f8c97ea50d49b1acb8d6c1c8bb242d",
      "style": "IPY_MODEL_6e7f089056e045328e9054c7bb252953",
      "tooltip": ""
     }
    },
    "6e7f089056e045328e9054c7bb252953": {
     "model_module": "@jupyter-widgets/controls",
     "model_module_version": "1.5.0",
     "model_name": "ButtonStyleModel",
     "state": {
      "_model_module": "@jupyter-widgets/controls",
      "_model_module_version": "1.5.0",
      "_model_name": "ButtonStyleModel",
      "_view_count": null,
      "_view_module": "@jupyter-widgets/base",
      "_view_module_version": "1.2.0",
      "_view_name": "StyleView",
      "button_color": null,
      "font_weight": ""
     }
    },
    "744d14ceee894275826a111bf643081e": {
     "model_module": "@jupyter-widgets/controls",
     "model_module_version": "1.5.0",
     "model_name": "PasswordModel",
     "state": {
      "_dom_classes": [],
      "_model_module": "@jupyter-widgets/controls",
      "_model_module_version": "1.5.0",
      "_model_name": "PasswordModel",
      "_view_count": null,
      "_view_module": "@jupyter-widgets/controls",
      "_view_module_version": "1.5.0",
      "_view_name": "PasswordView",
      "continuous_update": true,
      "description": "Token:",
      "description_tooltip": null,
      "disabled": false,
      "layout": "IPY_MODEL_045ef770b4e24ccd9b3cb4fbd98af7d3",
      "placeholder": "​",
      "style": "IPY_MODEL_859579b3bdfc4ee281a26377a775b4c0",
      "value": ""
     }
    },
    "7661dd743c3f4daebc0349018ddb0bfd": {
     "model_module": "@jupyter-widgets/base",
     "model_module_version": "1.2.0",
     "model_name": "LayoutModel",
     "state": {
      "_model_module": "@jupyter-widgets/base",
      "_model_module_version": "1.2.0",
      "_model_name": "LayoutModel",
      "_view_count": null,
      "_view_module": "@jupyter-widgets/base",
      "_view_module_version": "1.2.0",
      "_view_name": "LayoutView",
      "align_content": null,
      "align_items": null,
      "align_self": null,
      "border": null,
      "bottom": null,
      "display": null,
      "flex": null,
      "flex_flow": null,
      "grid_area": null,
      "grid_auto_columns": null,
      "grid_auto_flow": null,
      "grid_auto_rows": null,
      "grid_column": null,
      "grid_gap": null,
      "grid_row": null,
      "grid_template_areas": null,
      "grid_template_columns": null,
      "grid_template_rows": null,
      "height": null,
      "justify_content": null,
      "justify_items": null,
      "left": null,
      "margin": null,
      "max_height": null,
      "max_width": null,
      "min_height": null,
      "min_width": null,
      "object_fit": null,
      "object_position": null,
      "order": null,
      "overflow": null,
      "overflow_x": null,
      "overflow_y": null,
      "padding": null,
      "right": null,
      "top": null,
      "visibility": null,
      "width": null
     }
    },
    "7c26a88290834a04a0c01c1d964046cd": {
     "model_module": "@jupyter-widgets/base",
     "model_module_version": "1.2.0",
     "model_name": "LayoutModel",
     "state": {
      "_model_module": "@jupyter-widgets/base",
      "_model_module_version": "1.2.0",
      "_model_name": "LayoutModel",
      "_view_count": null,
      "_view_module": "@jupyter-widgets/base",
      "_view_module_version": "1.2.0",
      "_view_name": "LayoutView",
      "align_content": null,
      "align_items": null,
      "align_self": null,
      "border": null,
      "bottom": null,
      "display": null,
      "flex": null,
      "flex_flow": null,
      "grid_area": null,
      "grid_auto_columns": null,
      "grid_auto_flow": null,
      "grid_auto_rows": null,
      "grid_column": null,
      "grid_gap": null,
      "grid_row": null,
      "grid_template_areas": null,
      "grid_template_columns": null,
      "grid_template_rows": null,
      "height": null,
      "justify_content": null,
      "justify_items": null,
      "left": null,
      "margin": null,
      "max_height": null,
      "max_width": null,
      "min_height": null,
      "min_width": null,
      "object_fit": null,
      "object_position": null,
      "order": null,
      "overflow": null,
      "overflow_x": null,
      "overflow_y": null,
      "padding": null,
      "right": null,
      "top": null,
      "visibility": null,
      "width": null
     }
    },
    "7d6e9101cfcb4aa796042ae670f1eb32": {
     "model_module": "@jupyter-widgets/controls",
     "model_module_version": "1.5.0",
     "model_name": "FloatProgressModel",
     "state": {
      "_dom_classes": [],
      "_model_module": "@jupyter-widgets/controls",
      "_model_module_version": "1.5.0",
      "_model_name": "FloatProgressModel",
      "_view_count": null,
      "_view_module": "@jupyter-widgets/controls",
      "_view_module_version": "1.5.0",
      "_view_name": "ProgressView",
      "bar_style": "success",
      "description": "",
      "description_tooltip": null,
      "layout": "IPY_MODEL_95ecc7e03cac404ab9b6250649bf86c4",
      "max": 4,
      "min": 0,
      "orientation": "horizontal",
      "style": "IPY_MODEL_f9ab8f151eb1460988f522cda7ec5af4",
      "value": 4
     }
    },
    "859579b3bdfc4ee281a26377a775b4c0": {
     "model_module": "@jupyter-widgets/controls",
     "model_module_version": "1.5.0",
     "model_name": "DescriptionStyleModel",
     "state": {
      "_model_module": "@jupyter-widgets/controls",
      "_model_module_version": "1.5.0",
      "_model_name": "DescriptionStyleModel",
      "_view_count": null,
      "_view_module": "@jupyter-widgets/base",
      "_view_module_version": "1.2.0",
      "_view_name": "StyleView",
      "description_width": ""
     }
    },
    "86ffb0ba34b7418184da16313a1bed20": {
     "model_module": "@jupyter-widgets/base",
     "model_module_version": "1.2.0",
     "model_name": "LayoutModel",
     "state": {
      "_model_module": "@jupyter-widgets/base",
      "_model_module_version": "1.2.0",
      "_model_name": "LayoutModel",
      "_view_count": null,
      "_view_module": "@jupyter-widgets/base",
      "_view_module_version": "1.2.0",
      "_view_name": "LayoutView",
      "align_content": null,
      "align_items": null,
      "align_self": null,
      "border": null,
      "bottom": null,
      "display": null,
      "flex": null,
      "flex_flow": null,
      "grid_area": null,
      "grid_auto_columns": null,
      "grid_auto_flow": null,
      "grid_auto_rows": null,
      "grid_column": null,
      "grid_gap": null,
      "grid_row": null,
      "grid_template_areas": null,
      "grid_template_columns": null,
      "grid_template_rows": null,
      "height": null,
      "justify_content": null,
      "justify_items": null,
      "left": null,
      "margin": null,
      "max_height": null,
      "max_width": null,
      "min_height": null,
      "min_width": null,
      "object_fit": null,
      "object_position": null,
      "order": null,
      "overflow": null,
      "overflow_x": null,
      "overflow_y": null,
      "padding": null,
      "right": null,
      "top": null,
      "visibility": null,
      "width": null
     }
    },
    "95ecc7e03cac404ab9b6250649bf86c4": {
     "model_module": "@jupyter-widgets/base",
     "model_module_version": "1.2.0",
     "model_name": "LayoutModel",
     "state": {
      "_model_module": "@jupyter-widgets/base",
      "_model_module_version": "1.2.0",
      "_model_name": "LayoutModel",
      "_view_count": null,
      "_view_module": "@jupyter-widgets/base",
      "_view_module_version": "1.2.0",
      "_view_name": "LayoutView",
      "align_content": null,
      "align_items": null,
      "align_self": null,
      "border": null,
      "bottom": null,
      "display": null,
      "flex": null,
      "flex_flow": null,
      "grid_area": null,
      "grid_auto_columns": null,
      "grid_auto_flow": null,
      "grid_auto_rows": null,
      "grid_column": null,
      "grid_gap": null,
      "grid_row": null,
      "grid_template_areas": null,
      "grid_template_columns": null,
      "grid_template_rows": null,
      "height": null,
      "justify_content": null,
      "justify_items": null,
      "left": null,
      "margin": null,
      "max_height": null,
      "max_width": null,
      "min_height": null,
      "min_width": null,
      "object_fit": null,
      "object_position": null,
      "order": null,
      "overflow": null,
      "overflow_x": null,
      "overflow_y": null,
      "padding": null,
      "right": null,
      "top": null,
      "visibility": null,
      "width": null
     }
    },
    "97c5358c59bc4f3084475941a399502c": {
     "model_module": "@jupyter-widgets/controls",
     "model_module_version": "1.5.0",
     "model_name": "DescriptionStyleModel",
     "state": {
      "_model_module": "@jupyter-widgets/controls",
      "_model_module_version": "1.5.0",
      "_model_name": "DescriptionStyleModel",
      "_view_count": null,
      "_view_module": "@jupyter-widgets/base",
      "_view_module_version": "1.2.0",
      "_view_name": "StyleView",
      "description_width": ""
     }
    },
    "a747d924c6784f9f8e5efd3045782b7c": {
     "model_module": "@jupyter-widgets/base",
     "model_module_version": "1.2.0",
     "model_name": "LayoutModel",
     "state": {
      "_model_module": "@jupyter-widgets/base",
      "_model_module_version": "1.2.0",
      "_model_name": "LayoutModel",
      "_view_count": null,
      "_view_module": "@jupyter-widgets/base",
      "_view_module_version": "1.2.0",
      "_view_name": "LayoutView",
      "align_content": null,
      "align_items": null,
      "align_self": null,
      "border": null,
      "bottom": null,
      "display": null,
      "flex": null,
      "flex_flow": null,
      "grid_area": null,
      "grid_auto_columns": null,
      "grid_auto_flow": null,
      "grid_auto_rows": null,
      "grid_column": null,
      "grid_gap": null,
      "grid_row": null,
      "grid_template_areas": null,
      "grid_template_columns": null,
      "grid_template_rows": null,
      "height": null,
      "justify_content": null,
      "justify_items": null,
      "left": null,
      "margin": null,
      "max_height": null,
      "max_width": null,
      "min_height": null,
      "min_width": null,
      "object_fit": null,
      "object_position": null,
      "order": null,
      "overflow": null,
      "overflow_x": null,
      "overflow_y": null,
      "padding": null,
      "right": null,
      "top": null,
      "visibility": null,
      "width": null
     }
    },
    "a8d33a22f81246048e90059ecfb88003": {
     "model_module": "@jupyter-widgets/controls",
     "model_module_version": "1.5.0",
     "model_name": "DescriptionStyleModel",
     "state": {
      "_model_module": "@jupyter-widgets/controls",
      "_model_module_version": "1.5.0",
      "_model_name": "DescriptionStyleModel",
      "_view_count": null,
      "_view_module": "@jupyter-widgets/base",
      "_view_module_version": "1.2.0",
      "_view_name": "StyleView",
      "description_width": ""
     }
    },
    "ac4285da425546a9b5963383140b5362": {
     "model_module": "@jupyter-widgets/controls",
     "model_module_version": "1.5.0",
     "model_name": "DescriptionStyleModel",
     "state": {
      "_model_module": "@jupyter-widgets/controls",
      "_model_module_version": "1.5.0",
      "_model_name": "DescriptionStyleModel",
      "_view_count": null,
      "_view_module": "@jupyter-widgets/base",
      "_view_module_version": "1.2.0",
      "_view_name": "StyleView",
      "description_width": ""
     }
    },
    "ac751d5415c5456980266f88069a6a89": {
     "model_module": "@jupyter-widgets/base",
     "model_module_version": "1.2.0",
     "model_name": "LayoutModel",
     "state": {
      "_model_module": "@jupyter-widgets/base",
      "_model_module_version": "1.2.0",
      "_model_name": "LayoutModel",
      "_view_count": null,
      "_view_module": "@jupyter-widgets/base",
      "_view_module_version": "1.2.0",
      "_view_name": "LayoutView",
      "align_content": null,
      "align_items": null,
      "align_self": null,
      "border": null,
      "bottom": null,
      "display": null,
      "flex": null,
      "flex_flow": null,
      "grid_area": null,
      "grid_auto_columns": null,
      "grid_auto_flow": null,
      "grid_auto_rows": null,
      "grid_column": null,
      "grid_gap": null,
      "grid_row": null,
      "grid_template_areas": null,
      "grid_template_columns": null,
      "grid_template_rows": null,
      "height": null,
      "justify_content": null,
      "justify_items": null,
      "left": null,
      "margin": null,
      "max_height": null,
      "max_width": null,
      "min_height": null,
      "min_width": null,
      "object_fit": null,
      "object_position": null,
      "order": null,
      "overflow": null,
      "overflow_x": null,
      "overflow_y": null,
      "padding": null,
      "right": null,
      "top": null,
      "visibility": null,
      "width": null
     }
    },
    "b8f8c97ea50d49b1acb8d6c1c8bb242d": {
     "model_module": "@jupyter-widgets/base",
     "model_module_version": "1.2.0",
     "model_name": "LayoutModel",
     "state": {
      "_model_module": "@jupyter-widgets/base",
      "_model_module_version": "1.2.0",
      "_model_name": "LayoutModel",
      "_view_count": null,
      "_view_module": "@jupyter-widgets/base",
      "_view_module_version": "1.2.0",
      "_view_name": "LayoutView",
      "align_content": null,
      "align_items": null,
      "align_self": null,
      "border": null,
      "bottom": null,
      "display": null,
      "flex": null,
      "flex_flow": null,
      "grid_area": null,
      "grid_auto_columns": null,
      "grid_auto_flow": null,
      "grid_auto_rows": null,
      "grid_column": null,
      "grid_gap": null,
      "grid_row": null,
      "grid_template_areas": null,
      "grid_template_columns": null,
      "grid_template_rows": null,
      "height": null,
      "justify_content": null,
      "justify_items": null,
      "left": null,
      "margin": null,
      "max_height": null,
      "max_width": null,
      "min_height": null,
      "min_width": null,
      "object_fit": null,
      "object_position": null,
      "order": null,
      "overflow": null,
      "overflow_x": null,
      "overflow_y": null,
      "padding": null,
      "right": null,
      "top": null,
      "visibility": null,
      "width": null
     }
    },
    "b95dd74915a0488d93ce00cd74478938": {
     "model_module": "@jupyter-widgets/base",
     "model_module_version": "1.2.0",
     "model_name": "LayoutModel",
     "state": {
      "_model_module": "@jupyter-widgets/base",
      "_model_module_version": "1.2.0",
      "_model_name": "LayoutModel",
      "_view_count": null,
      "_view_module": "@jupyter-widgets/base",
      "_view_module_version": "1.2.0",
      "_view_name": "LayoutView",
      "align_content": null,
      "align_items": null,
      "align_self": null,
      "border": null,
      "bottom": null,
      "display": null,
      "flex": null,
      "flex_flow": null,
      "grid_area": null,
      "grid_auto_columns": null,
      "grid_auto_flow": null,
      "grid_auto_rows": null,
      "grid_column": null,
      "grid_gap": null,
      "grid_row": null,
      "grid_template_areas": null,
      "grid_template_columns": null,
      "grid_template_rows": null,
      "height": null,
      "justify_content": null,
      "justify_items": null,
      "left": null,
      "margin": null,
      "max_height": null,
      "max_width": null,
      "min_height": null,
      "min_width": null,
      "object_fit": null,
      "object_position": null,
      "order": null,
      "overflow": null,
      "overflow_x": null,
      "overflow_y": null,
      "padding": null,
      "right": null,
      "top": null,
      "visibility": null,
      "width": null
     }
    },
    "bd46033db4784ff58418c2f203605150": {
     "model_module": "@jupyter-widgets/controls",
     "model_module_version": "1.5.0",
     "model_name": "HTMLModel",
     "state": {
      "_dom_classes": [],
      "_model_module": "@jupyter-widgets/controls",
      "_model_module_version": "1.5.0",
      "_model_name": "HTMLModel",
      "_view_count": null,
      "_view_module": "@jupyter-widgets/controls",
      "_view_module_version": "1.5.0",
      "_view_name": "HTMLView",
      "description": "",
      "description_tooltip": null,
      "layout": "IPY_MODEL_7661dd743c3f4daebc0349018ddb0bfd",
      "placeholder": "​",
      "style": "IPY_MODEL_ac4285da425546a9b5963383140b5362",
      "value": "\n<b>Pro Tip:</b> If you don't already have one, you can create a dedicated\n'notebooks' token with 'write' access, that you can then easily reuse for all\nnotebooks. </center>"
     }
    },
    "c823f1a8f7b04420943c05422bdb0a85": {
     "model_module": "@jupyter-widgets/controls",
     "model_module_version": "1.5.0",
     "model_name": "DescriptionStyleModel",
     "state": {
      "_model_module": "@jupyter-widgets/controls",
      "_model_module_version": "1.5.0",
      "_model_name": "DescriptionStyleModel",
      "_view_count": null,
      "_view_module": "@jupyter-widgets/base",
      "_view_module_version": "1.2.0",
      "_view_name": "StyleView",
      "description_width": ""
     }
    },
    "d3fc7588590f4c96b2579f32ba897527": {
     "model_module": "@jupyter-widgets/controls",
     "model_module_version": "1.5.0",
     "model_name": "CheckboxModel",
     "state": {
      "_dom_classes": [],
      "_model_module": "@jupyter-widgets/controls",
      "_model_module_version": "1.5.0",
      "_model_name": "CheckboxModel",
      "_view_count": null,
      "_view_module": "@jupyter-widgets/controls",
      "_view_module_version": "1.5.0",
      "_view_name": "CheckboxView",
      "description": "Add token as git credential?",
      "description_tooltip": null,
      "disabled": false,
      "indent": true,
      "layout": "IPY_MODEL_86ffb0ba34b7418184da16313a1bed20",
      "style": "IPY_MODEL_4739d621af1446708b796bb0ca1fa022",
      "value": true
     }
    },
    "dcc5c16ba6ba45bead79b8a6c573c39b": {
     "model_module": "@jupyter-widgets/controls",
     "model_module_version": "1.5.0",
     "model_name": "HTMLModel",
     "state": {
      "_dom_classes": [],
      "_model_module": "@jupyter-widgets/controls",
      "_model_module_version": "1.5.0",
      "_model_name": "HTMLModel",
      "_view_count": null,
      "_view_module": "@jupyter-widgets/controls",
      "_view_module_version": "1.5.0",
      "_view_name": "HTMLView",
      "description": "",
      "description_tooltip": null,
      "layout": "IPY_MODEL_ac751d5415c5456980266f88069a6a89",
      "placeholder": "​",
      "style": "IPY_MODEL_1a106b57fb70496a8c3330aa9c17dedf",
      "value": "Loading checkpoint shards: 100%"
     }
    },
    "ee9a81ead2ec4dddb4d894f8a6b51839": {
     "model_module": "@jupyter-widgets/base",
     "model_module_version": "1.2.0",
     "model_name": "LayoutModel",
     "state": {
      "_model_module": "@jupyter-widgets/base",
      "_model_module_version": "1.2.0",
      "_model_name": "LayoutModel",
      "_view_count": null,
      "_view_module": "@jupyter-widgets/base",
      "_view_module_version": "1.2.0",
      "_view_name": "LayoutView",
      "align_content": null,
      "align_items": null,
      "align_self": null,
      "border": null,
      "bottom": null,
      "display": null,
      "flex": null,
      "flex_flow": null,
      "grid_area": null,
      "grid_auto_columns": null,
      "grid_auto_flow": null,
      "grid_auto_rows": null,
      "grid_column": null,
      "grid_gap": null,
      "grid_row": null,
      "grid_template_areas": null,
      "grid_template_columns": null,
      "grid_template_rows": null,
      "height": null,
      "justify_content": null,
      "justify_items": null,
      "left": null,
      "margin": null,
      "max_height": null,
      "max_width": null,
      "min_height": null,
      "min_width": null,
      "object_fit": null,
      "object_position": null,
      "order": null,
      "overflow": null,
      "overflow_x": null,
      "overflow_y": null,
      "padding": null,
      "right": null,
      "top": null,
      "visibility": null,
      "width": null
     }
    },
    "f0f1494a6d004866941f9ee17227fdcf": {
     "model_module": "@jupyter-widgets/controls",
     "model_module_version": "1.5.0",
     "model_name": "HTMLModel",
     "state": {
      "_dom_classes": [],
      "_model_module": "@jupyter-widgets/controls",
      "_model_module_version": "1.5.0",
      "_model_name": "HTMLModel",
      "_view_count": null,
      "_view_module": "@jupyter-widgets/controls",
      "_view_module_version": "1.5.0",
      "_view_name": "HTMLView",
      "description": "",
      "description_tooltip": null,
      "layout": "IPY_MODEL_f579181c1ce24aa2af7f068beaa84fcb",
      "placeholder": "​",
      "style": "IPY_MODEL_c823f1a8f7b04420943c05422bdb0a85",
      "value": "<center> <img\nsrc=https://huggingface.co/front/assets/huggingface_logo-noborder.svg\nalt='Hugging Face'> <br> Copy a token from <a\nhref=\"https://huggingface.co/settings/tokens\" target=\"_blank\">your Hugging Face\ntokens page</a> and paste it below. <br> Immediately click login after copying\nyour token or it might be stored in plain text in this notebook file. </center>"
     }
    },
    "f579181c1ce24aa2af7f068beaa84fcb": {
     "model_module": "@jupyter-widgets/base",
     "model_module_version": "1.2.0",
     "model_name": "LayoutModel",
     "state": {
      "_model_module": "@jupyter-widgets/base",
      "_model_module_version": "1.2.0",
      "_model_name": "LayoutModel",
      "_view_count": null,
      "_view_module": "@jupyter-widgets/base",
      "_view_module_version": "1.2.0",
      "_view_name": "LayoutView",
      "align_content": null,
      "align_items": null,
      "align_self": null,
      "border": null,
      "bottom": null,
      "display": null,
      "flex": null,
      "flex_flow": null,
      "grid_area": null,
      "grid_auto_columns": null,
      "grid_auto_flow": null,
      "grid_auto_rows": null,
      "grid_column": null,
      "grid_gap": null,
      "grid_row": null,
      "grid_template_areas": null,
      "grid_template_columns": null,
      "grid_template_rows": null,
      "height": null,
      "justify_content": null,
      "justify_items": null,
      "left": null,
      "margin": null,
      "max_height": null,
      "max_width": null,
      "min_height": null,
      "min_width": null,
      "object_fit": null,
      "object_position": null,
      "order": null,
      "overflow": null,
      "overflow_x": null,
      "overflow_y": null,
      "padding": null,
      "right": null,
      "top": null,
      "visibility": null,
      "width": null
     }
    },
    "f9ab8f151eb1460988f522cda7ec5af4": {
     "model_module": "@jupyter-widgets/controls",
     "model_module_version": "1.5.0",
     "model_name": "ProgressStyleModel",
     "state": {
      "_model_module": "@jupyter-widgets/controls",
      "_model_module_version": "1.5.0",
      "_model_name": "ProgressStyleModel",
      "_view_count": null,
      "_view_module": "@jupyter-widgets/base",
      "_view_module_version": "1.2.0",
      "_view_name": "StyleView",
      "bar_color": null,
      "description_width": ""
     }
    }
   }
  }
 },
 "nbformat": 4,
 "nbformat_minor": 4
}
