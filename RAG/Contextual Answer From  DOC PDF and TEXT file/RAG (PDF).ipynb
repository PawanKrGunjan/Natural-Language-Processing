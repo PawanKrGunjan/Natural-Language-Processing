{
 "cells": [
  {
   "cell_type": "markdown",
   "id": "8f8bc70a-0662-421b-b09b-0dc015e63e21",
   "metadata": {},
   "source": [
    "# Import the necessary Packages"
   ]
  },
  {
   "cell_type": "code",
   "execution_count": 1,
   "id": "b4236874-567c-48b0-817d-071aaad9c6b5",
   "metadata": {},
   "outputs": [],
   "source": [
    "import bs4\n",
    "from langchain.agents import AgentExecutor, create_tool_calling_agent\n",
    "from langchain.tools.retriever import create_retriever_tool\n",
    "from langchain_chroma import Chroma\n",
    "from langchain_community.document_loaders import PyPDFLoader\n",
    "from langchain_core.chat_history import BaseChatMessageHistory\n",
    "from langchain_core.prompts import ChatPromptTemplate, MessagesPlaceholder\n",
    "from langchain_core.runnables.history import RunnableWithMessageHistory\n",
    "from langchain_cohere import CohereEmbeddings\n",
    "from langchain_groq import ChatGroq\n",
    "from langchain_text_splitters import RecursiveCharacterTextSplitter\n",
    "from langgraph.checkpoint.sqlite import SqliteSaver\n",
    "from langgraph.prebuilt import create_react_agent\n",
    "import os\n",
    "import json"
   ]
  },
  {
   "cell_type": "markdown",
   "id": "8438d956-b925-4783-8f7d-457a50a701d0",
   "metadata": {},
   "source": [
    "# Setup & Keys"
   ]
  },
  {
   "cell_type": "code",
   "execution_count": 2,
   "id": "483ebe66-6b84-4838-bb81-b80b32d88bf2",
   "metadata": {},
   "outputs": [],
   "source": [
    "# Load the secret keys from the JSON file\n",
    "def load_secret_keys(file_path):\n",
    "    with open(file_path, 'r') as file:\n",
    "        secret_keys = json.load(file)\n",
    "    return secret_keys\n",
    "keys =load_secret_keys('secrets.json')"
   ]
  },
  {
   "cell_type": "code",
   "execution_count": 3,
   "id": "75e204b2-7ce8-43eb-80f5-d317ae33eac4",
   "metadata": {},
   "outputs": [],
   "source": [
    "os.environ[\"LANGCHAIN_TRACING_V2\"] = \"true\"\n",
    "os.environ[\"LANGCHAIN_API_KEY\"] = keys['Langchain Smith']\n",
    "os.environ[\"COHERE_API_KEY\"] = keys['cohere']\n",
    "os.environ[\"GROQ_API_KEY\"] = keys['Groq']"
   ]
  },
  {
   "cell_type": "markdown",
   "id": "ce61b35e-407a-4dba-83cf-fc15a4293bc1",
   "metadata": {},
   "source": [
    "# Load the pdf Documents"
   ]
  },
  {
   "cell_type": "code",
   "execution_count": 4,
   "id": "8a523a72-235d-48c4-9ff3-181f3cedf5af",
   "metadata": {},
   "outputs": [],
   "source": [
    "### Construct retriever ###\n",
    "# Replace WebBaseLoader with PyPDFLoader to load PDF documents\n",
    "#pdf_url = \"https://arxiv.org/pdf/2005.11401\"\n",
    "pdf_url = \"https://www.gov.nl.ca/ecc/files/env-protection-pesticides-business-manuals-applic-chapter7.pdf\"\n",
    "loader = PyPDFLoader('env-protection-pesticides-business-manuals-applic-chapter7.pdf')\n",
    "docs = loader.load()"
   ]
  },
  {
   "cell_type": "code",
   "execution_count": 5,
   "id": "d24d0ba2-1762-4f51-89ba-411779df8628",
   "metadata": {
    "scrolled": true
   },
   "outputs": [
    {
     "name": "stdout",
     "output_type": "stream",
     "text": [
      "28\n",
      "page_content='APPLICATOR CORE \n",
      "Chapter 7: Integrated Pest Management                                   169 INTEGRATED PEST \n",
      "MANAGEMENT  \n",
      "The goal of pest management is to manage pests effectively, economically, and \n",
      "safely. Insects, weeds, plant diseases, slugs, birds, and mammal pests can be managed using Integrated Pest Management (IPM). With IPM, you only need to reduce pest numbers below a damaging level.  It is not necessary to eliminate all \n",
      "pests.   The IPM approach was first developed for agricultural pests. Since the 1980s, it \n",
      "has been successfully applied to:   \n",
      " Landscape pests  \n",
      " Forestry pests  \n",
      " Structural pests  \n",
      " Home and garden pests  \n",
      " IPM helps decrease the need for chemical pesticides. This reduces costs and environmental risks.           Chapter \n",
      "7 \n",
      "Learning Objectives  \n",
      "Completing this chapter will help you to:  \n",
      " Define Integrated Pest Management  and describe the parts of an \n",
      "IPM program. \n",
      " \n",
      " Know why correct identifi cation and knowledge of pest biology is \n",
      "crucial when managing pests. \n",
      " \n",
      " Know the role of monitoring in pest management and give \n",
      "examples of common methods. ' metadata={'source': 'env-protection-pesticides-business-manuals-applic-chapter7.pdf', 'page': 0}\n"
     ]
    }
   ],
   "source": [
    "print(len(docs))\n",
    "print(docs[0])"
   ]
  },
  {
   "cell_type": "markdown",
   "id": "38163ebf-b59d-4c24-b4e3-e7163c701288",
   "metadata": {},
   "source": [
    "# Preprocessing"
   ]
  },
  {
   "cell_type": "markdown",
   "id": "7ce81741-d91c-4f7c-96a6-66b202417b93",
   "metadata": {},
   "source": [
    "## Use RecursiveCharacterTextSplitter to chunk the document"
   ]
  },
  {
   "cell_type": "code",
   "execution_count": 6,
   "id": "5419d7d0-514b-49a3-97e4-213c3d8b9019",
   "metadata": {},
   "outputs": [],
   "source": [
    "# Use RecursiveCharacterTextSplitter to chunk the document\n",
    "text_splitter = RecursiveCharacterTextSplitter(chunk_size=1000, chunk_overlap=200)\n",
    "splits = text_splitter.split_documents(docs)"
   ]
  },
  {
   "cell_type": "code",
   "execution_count": 7,
   "id": "2880683f-ea3d-46a8-b6e1-bdf2c232409e",
   "metadata": {},
   "outputs": [
    {
     "name": "stdout",
     "output_type": "stream",
     "text": [
      "57\n"
     ]
    },
    {
     "data": {
      "text/plain": [
       "{'id': None,\n",
       " 'metadata': {'source': 'env-protection-pesticides-business-manuals-applic-chapter7.pdf',\n",
       "  'page': 2},\n",
       " 'page_content': 'cheaper and gives better results in the l ong run. Waiting until problems occur can \\ncreate a reliance on treatments. Preventing pest problems protects plants with no \\ntreatment cost. If prevention does not eliminate pests, their numbers are at least lower. This makes them easier to control.  Cultural or physical controls (described later) can be considered preventive. You might choose disease resistant plant speci es to avoid some disease problems. \\nSanitation is a big part of prevention. An  example would be cleaning a warehouse \\nto deny food and water to rodents.   \\nIdentification \\n Not all plant damage or decline is caused by pests. Crops, ornamentals, lawns, and \\nother plants can be damaged by extreme heat, cold, or wind. They can also be damaged by physical injuries from equipment,  lack of nutrients, human activity, or \\npet urine. Many types of pest damage look  the same, but controls for individual',\n",
       " 'type': 'Document'}"
      ]
     },
     "execution_count": 7,
     "metadata": {},
     "output_type": "execute_result"
    }
   ],
   "source": [
    "print(len(splits))\n",
    "#print(splits[0])\n",
    "\n",
    "splits[5].dict()"
   ]
  },
  {
   "cell_type": "markdown",
   "id": "75abd531-8c04-4bfd-9483-b02afbceaa56",
   "metadata": {},
   "source": [
    "## Create a vector store using the split documents and Cohere embeddings"
   ]
  },
  {
   "cell_type": "code",
   "execution_count": 8,
   "id": "f16eecf0-26ed-4e51-9ecc-0da28362a67a",
   "metadata": {},
   "outputs": [],
   "source": [
    "# Create a vector store using the split documents and Cohere embeddings\n",
    "vectorstore = Chroma.from_documents(documents=splits, \n",
    "                                    embedding=CohereEmbeddings()\n",
    "                                   )\n",
    "retriever = vectorstore.as_retriever()"
   ]
  },
  {
   "cell_type": "code",
   "execution_count": 9,
   "id": "0981921f-75a8-47f6-a5fc-d29999977551",
   "metadata": {},
   "outputs": [
    {
     "data": {
      "text/plain": [
       "{'name': None,\n",
       " 'tags': ['Chroma', 'CohereEmbeddings'],\n",
       " 'metadata': None,\n",
       " 'vectorstore': <langchain_chroma.vectorstores.Chroma at 0x74a6e616e810>,\n",
       " 'search_type': 'similarity',\n",
       " 'search_kwargs': {}}"
      ]
     },
     "execution_count": 9,
     "metadata": {},
     "output_type": "execute_result"
    }
   ],
   "source": [
    "type(retriever)\n",
    "retriever.dict()"
   ]
  },
  {
   "cell_type": "code",
   "execution_count": 10,
   "id": "e95d9506-e5d3-485e-a8b4-2ac76900e5cd",
   "metadata": {
    "scrolled": true
   },
   "outputs": [
    {
     "data": {
      "text/plain": [
       "dict_keys(['ids', 'embeddings', 'metadatas', 'documents', 'uris', 'data', 'included'])"
      ]
     },
     "execution_count": 10,
     "metadata": {},
     "output_type": "execute_result"
    }
   ],
   "source": [
    "#retriever.vectorstore.get_by_ids(ids='045f6867-07e5-49d1-99c4-52a9cfe029a0')\n",
    "retriever.vectorstore.get().keys()"
   ]
  },
  {
   "cell_type": "code",
   "execution_count": 11,
   "id": "9fc57215-8a87-4a12-9988-cd7a5c64f09c",
   "metadata": {
    "scrolled": true
   },
   "outputs": [
    {
     "name": "stdout",
     "output_type": "stream",
     "text": [
      "fbf54729-50ac-44b2-af82-b5e67c5935ce\n",
      "-------------------------\n",
      "{'page': 1, 'source': 'env-protection-pesticides-business-manuals-applic-chapter7.pdf'}\n",
      "-------------------------\n",
      "biological, physical, mechanical, beha vioural, or chemical methods. The \n",
      "goal is to control pests with little impact on the environment.  \n",
      "6. Evaluation : The effectiveness of pest management plans are considered.   \n",
      " Principles of Integrated Pest \n",
      "Management \n",
      " Learning Objectives, cont’d.  \n",
      " \n",
      " Describe injury and action thresholds and know the difference \n",
      "between them. \n",
      " \n",
      " Describe five categories of pest  treatments and give examples. \n",
      " \n",
      " Know  the factors to consider when choosing pest treatments. \n",
      " \n",
      " Know the importance of evaluati ng pest management results.\n",
      "-------------------------\n",
      "documents\n",
      "-------------------------\n"
     ]
    }
   ],
   "source": [
    "print(retriever.vectorstore.get()['ids'][-1])\n",
    "print('-'*25)\n",
    "print(retriever.vectorstore.get()['metadatas'][-1])\n",
    "print('-'*25)\n",
    "print(retriever.vectorstore.get()['documents'][-1])\n",
    "print('-'*25)\n",
    "print(retriever.vectorstore.get()['included'][-1])\n",
    "print('-'*25)\n",
    "#print(retriever.vectorstore.get()['embeddings'][-1])"
   ]
  },
  {
   "cell_type": "markdown",
   "id": "70e8cb10-c51d-4490-a77a-b3940a810c27",
   "metadata": {},
   "source": [
    "# Load the LLM model"
   ]
  },
  {
   "cell_type": "code",
   "execution_count": 12,
   "id": "808a7af4-479b-40ca-a3aa-5ac940543444",
   "metadata": {},
   "outputs": [],
   "source": [
    "from langchain_groq import ChatGroq\n",
    "\n",
    "llm = ChatGroq(model=\"llama3-8b-8192\")"
   ]
  },
  {
   "cell_type": "markdown",
   "id": "cf467b17-6c03-4b50-8cdd-9a5bb53ffa5d",
   "metadata": {},
   "source": [
    "# ChatPromptTemplate"
   ]
  },
  {
   "cell_type": "code",
   "execution_count": 13,
   "id": "1fcb066a-386d-4f43-9bf8-ecf02ca00d4b",
   "metadata": {},
   "outputs": [],
   "source": [
    "# Incorporate the retriever into a question-answering chain.\n",
    "system_prompt = (\n",
    "    \"You are an assistant for finding the exact or similar answer to questions using the provided context.\"\n",
    "    \"the question. If you don't know the answer, say that you don't know.\"\n",
    "    \" Keep the answer concise.\"\n",
    "    \"\\n\\n\"\n",
    "    \"{context}\"\n",
    ")\n",
    "\n",
    "prompt = ChatPromptTemplate.from_messages(\n",
    "    [\n",
    "        (\"system\", system_prompt),\n",
    "        (\"human\", \"{input}\"),\n",
    "    ]\n",
    ")"
   ]
  },
  {
   "cell_type": "markdown",
   "id": "be85bccd-553e-41d5-89e4-d57bf0727e30",
   "metadata": {},
   "source": [
    "# RAG Chain"
   ]
  },
  {
   "cell_type": "code",
   "execution_count": 14,
   "id": "dd49ac12-8fdc-4d7c-b4d8-b3f14c3e0a83",
   "metadata": {},
   "outputs": [],
   "source": [
    "from langchain.chains.combine_documents import create_stuff_documents_chain\n",
    "\n",
    "question_answer_chain = create_stuff_documents_chain(llm, prompt)"
   ]
  },
  {
   "cell_type": "code",
   "execution_count": 15,
   "id": "55c762dc-b861-4c8b-b254-f3ec532d8bf9",
   "metadata": {},
   "outputs": [],
   "source": [
    "from langchain.chains import create_retrieval_chain\n",
    "\n",
    "rag_chain = create_retrieval_chain(retriever, question_answer_chain)\n",
    "#rag_chain = create_retrieval_chain(splits, question_answer_chain)"
   ]
  },
  {
   "cell_type": "code",
   "execution_count": 16,
   "id": "f94de8c0-fc56-4a3d-99a0-fa2ee5491825",
   "metadata": {},
   "outputs": [
    {
     "name": "stdout",
     "output_type": "stream",
     "text": [
      "ANSWER:According to the provided context, aphids are mentioned as a type of pest.\n",
      "\n",
      "*************************\n",
      "Context 1:\n",
      "Type: Document\n",
      "Source: env-protection-pesticides-business-manuals-applic-chapter7.pdf\n",
      "Page: 4\n",
      "Content: APPLICATOR CORE \n",
      "Chapter 7: Integrated Pest Management                                  173  \n",
      " Understanding pest behavior can help in choosing the time and place of \n",
      "treatment. Some pests are only a...\n",
      "--------------------------------------------------\n",
      "Context 2:\n",
      "Type: Document\n",
      "Source: env-protection-pesticides-business-manuals-applic-chapter7.pdf\n",
      "Page: 3\n",
      "Content: APPLICATOR CORE \n",
      "172                                  Chapter 7: Integrated Pest Management To plan an IPM program, find out: \n",
      " \n",
      " When pests will be present  \n",
      " What they eat  \n",
      " Where they hide  \n",
      " ...\n",
      "--------------------------------------------------\n",
      "Context 3:\n",
      "Type: Document\n",
      "Source: env-protection-pesticides-business-manuals-applic-chapter7.pdf\n",
      "Page: 2\n",
      "Content: pet urine. Many types of pest damage look  the same, but controls for individual  \n",
      "pests can vary. You must know what the probl em is before choosing a treatment.    \n",
      "When a pest is identified, you mu...\n",
      "--------------------------------------------------\n",
      "Context 4:\n",
      "Type: Document\n",
      "Source: env-protection-pesticides-business-manuals-applic-chapter7.pdf\n",
      "Page: 15\n",
      "Content: APPLICATOR CORE \n",
      "184                                  Chapter 7: Integrated Pest Management Behavioural Control \n",
      " \n",
      "For this type of treatment, a pest’s natural behaviour is used to suppress the popula...\n",
      "--------------------------------------------------\n"
     ]
    }
   ],
   "source": [
    "response = rag_chain.invoke({\"input\": \"Are aphids a pest?\"})\n",
    "\n",
    "# Print the main answer\n",
    "print(f\"ANSWER:{response['answer']}\\n\")\n",
    "\n",
    "# Print each context briefly\n",
    "print('*' * 25)\n",
    "for idx, ctx in enumerate(response['context']):\n",
    "    print(f\"Context {idx + 1}:\")\n",
    "    print(f\"Type: {ctx.type}\")  # Accessing type using the attribute\n",
    "    print(f\"Source: {ctx.metadata['source']}\")  # Accessing metadata using subscript notation\n",
    "    print(f\"Page: {ctx.metadata['page']}\")  # Accessing metadata using subscript notation\n",
    "    # Print a snippet of the content\n",
    "    content_snippet = ctx.page_content[:200] + ('...' if len(ctx.page_content) > 200 else '')\n",
    "    print(f\"Content: {content_snippet}\")\n",
    "    print('-' * 50)"
   ]
  },
  {
   "cell_type": "code",
   "execution_count": 17,
   "id": "77706a0a-f508-4834-8aba-229be08a3a51",
   "metadata": {},
   "outputs": [
    {
     "name": "stdout",
     "output_type": "stream",
     "text": [
      "ANSWER:According to the provided context, Integrated Pest Management (IPM) is a decision-making process that helps to prevent pest problems. It is a program that considers all information and treatment methods to manage pests effectively, economically, and safely, with the goal of reducing pest numbers below a damaging level, rather than eliminating all pests.\n",
      "\n",
      "*************************\n",
      "Context 1:\n",
      "Type: Document\n",
      "Source: env-protection-pesticides-business-manuals-applic-chapter7.pdf\n",
      "Page: 0\n",
      "Content: APPLICATOR CORE \n",
      "Chapter 7: Integrated Pest Management                                   169 INTEGRATED PEST \n",
      "MANAGEMENT  \n",
      "The goal of pest management is to manage pests effectively, economically, and...\n",
      "--------------------------------------------------\n",
      "Context 2:\n",
      "Type: Document\n",
      "Source: env-protection-pesticides-business-manuals-applic-chapter7.pdf\n",
      "Page: 1\n",
      "Content: APPLICATOR CORE \n",
      "170                                  Chapter 7: Integrated Pest Management  \n",
      " \n",
      " \n",
      " \n",
      " \n",
      " \n",
      " \n",
      "  \n",
      " \n",
      " IPM is a decision-making process that he lps to prevent pest problems. With IPM \n",
      "program...\n",
      "--------------------------------------------------\n",
      "Context 3:\n",
      "Type: Document\n",
      "Source: env-protection-pesticides-business-manuals-applic-chapter7.pdf\n",
      "Page: 0\n",
      "Content: Completing this chapter will help you to:  \n",
      " Define Integrated Pest Management  and describe the parts of an \n",
      "IPM program. \n",
      " \n",
      " Know why correct identifi cation and knowledge of pest biology is \n",
      "cruc...\n",
      "--------------------------------------------------\n",
      "Context 4:\n",
      "Type: Document\n",
      "Source: env-protection-pesticides-business-manuals-applic-chapter7.pdf\n",
      "Page: 23\n",
      "Content: APPLICATOR CORE \n",
      "192                                  Chapter 7: Integrated Pest Management   \n",
      "         Summary  \n",
      " Integrated Pest Management (I PM) programs use all available \n",
      "information and treatme...\n",
      "--------------------------------------------------\n"
     ]
    }
   ],
   "source": [
    "# Define the question\n",
    "question = {\"input\":  \"What is integrated Pest Management\"}\n",
    "\n",
    "# Invoke the RAG chain\n",
    "response = rag_chain.invoke(question)\n",
    "# Print the main answer\n",
    "print(f\"ANSWER:{response['answer']}\\n\")\n",
    "\n",
    "# Print each context briefly\n",
    "print('*' * 25)\n",
    "for idx, ctx in enumerate(response['context']):\n",
    "    print(f\"Context {idx + 1}:\")\n",
    "    print(f\"Type: {ctx.type}\")  # Accessing type using the attribute\n",
    "    print(f\"Source: {ctx.metadata['source']}\")  # Accessing metadata using subscript notation\n",
    "    print(f\"Page: {ctx.metadata['page']}\")  # Accessing metadata using subscript notation\n",
    "    # Print a snippet of the content\n",
    "    content_snippet = ctx.page_content[:200] + ('...' if len(ctx.page_content) > 200 else '')\n",
    "    print(f\"Content: {content_snippet}\")\n",
    "    print('-' * 50)"
   ]
  },
  {
   "cell_type": "code",
   "execution_count": 18,
   "id": "5eb2c2b3-b52a-4ce7-a5ee-e2d55c389f86",
   "metadata": {},
   "outputs": [
    {
     "name": "stdout",
     "output_type": "stream",
     "text": [
      "ANSWER:An IPM (Integrated Pest Management) program is a decision-making process that helps to prevent pest problems by considering all available information and treatment methods to manage pests. This approach aims to be effective, affordable, and safe for the environment.\n",
      "\n",
      "*************************\n",
      "Context 1:\n",
      "Type: Document\n",
      "Source: env-protection-pesticides-business-manuals-applic-chapter7.pdf\n",
      "Page: 11\n",
      "Content:  Government and scientific texts \n",
      " Pest management experts \n",
      " Universities or colleges \n",
      " Grower organizations \n",
      " \n",
      "Threshold information may not always be av ailable. It may be necessary to begin \n",
      "by...\n",
      "--------------------------------------------------\n",
      "Context 2:\n",
      "Type: Document\n",
      "Source: env-protection-pesticides-business-manuals-applic-chapter7.pdf\n",
      "Page: 1\n",
      "Content: APPLICATOR CORE \n",
      "170                                  Chapter 7: Integrated Pest Management  \n",
      " \n",
      " \n",
      " \n",
      " \n",
      " \n",
      " \n",
      "  \n",
      " \n",
      " IPM is a decision-making process that he lps to prevent pest problems. With IPM \n",
      "program...\n",
      "--------------------------------------------------\n",
      "Context 3:\n",
      "Type: Document\n",
      "Source: env-protection-pesticides-business-manuals-applic-chapter7.pdf\n",
      "Page: 22\n",
      "Content: APPLICATOR CORE \n",
      "Chapter 7: Integrated Pest Management                                  191  \n",
      "Communication is important when devel oping and putting an IPM program in \n",
      "place. A large amount of inform...\n",
      "--------------------------------------------------\n",
      "Context 4:\n",
      "Type: Document\n",
      "Source: env-protection-pesticides-business-manuals-applic-chapter7.pdf\n",
      "Page: 0\n",
      "Content: APPLICATOR CORE \n",
      "Chapter 7: Integrated Pest Management                                   169 INTEGRATED PEST \n",
      "MANAGEMENT  \n",
      "The goal of pest management is to manage pests effectively, economically, and...\n",
      "--------------------------------------------------\n"
     ]
    }
   ],
   "source": [
    "# Define the question\n",
    "question = {\"input\":   \"What is IPM program?\"}\n",
    "\n",
    "# Invoke the RAG chain\n",
    "response = rag_chain.invoke(question)\n",
    "\n",
    "# Print the main answer\n",
    "print(f\"ANSWER:{response['answer']}\\n\")\n",
    "\n",
    "# Print each context briefly\n",
    "print('*' * 25)\n",
    "for idx, ctx in enumerate(response['context']):\n",
    "    print(f\"Context {idx + 1}:\")\n",
    "    print(f\"Type: {ctx.type}\")  # Accessing type using the attribute\n",
    "    print(f\"Source: {ctx.metadata['source']}\")  # Accessing metadata using subscript notation\n",
    "    print(f\"Page: {ctx.metadata['page']}\")  # Accessing metadata using subscript notation\n",
    "    # Print a snippet of the content\n",
    "    content_snippet = ctx.page_content[:200] + ('...' if len(ctx.page_content) > 200 else '')\n",
    "    print(f\"Content: {content_snippet}\")\n",
    "    print('-' * 50)"
   ]
  },
  {
   "cell_type": "code",
   "execution_count": 19,
   "id": "1b66c56e-ff10-4c3c-8541-14e8a0408fdd",
   "metadata": {},
   "outputs": [
    {
     "name": "stdout",
     "output_type": "stream",
     "text": [
      "ANSWER:According to the provided context, the key elements of an IPM (Integrated Pest Management) program include:\n",
      "\n",
      "1. Prevention: Organisms are kept from becoming problems by planning and managing ecosystems.\n",
      "2. Identification: Pests and beneficial organisms are identified.\n",
      "3. Monitoring: Pest and beneficial organism populations are watched, as well as pest damage, and the environment.\n",
      "4. Injury and Action Decision: Injury and action thresholds are used to know when to treat pests.\n",
      "5. Treatments: Treatments (or a combination) are used, including cultural, biological, physical, mechanical, behavioral, or chemical methods. The goal is to control pests with little impact on the environment.\n",
      "6. Evaluation: Evaluation is done to refine and improve thresholds over time.\n",
      "\n",
      "*************************\n",
      "Context 1:\n",
      "Type: Document\n",
      "Source: env-protection-pesticides-business-manuals-applic-chapter7.pdf\n",
      "Page: 1\n",
      "Content: APPLICATOR CORE \n",
      "170                                  Chapter 7: Integrated Pest Management  \n",
      " \n",
      " \n",
      " \n",
      " \n",
      " \n",
      " \n",
      "  \n",
      " \n",
      " IPM is a decision-making process that he lps to prevent pest problems. With IPM \n",
      "program...\n",
      "--------------------------------------------------\n",
      "Context 2:\n",
      "Type: Document\n",
      "Source: env-protection-pesticides-business-manuals-applic-chapter7.pdf\n",
      "Page: 11\n",
      "Content:  Government and scientific texts \n",
      " Pest management experts \n",
      " Universities or colleges \n",
      " Grower organizations \n",
      " \n",
      "Threshold information may not always be av ailable. It may be necessary to begin \n",
      "by...\n",
      "--------------------------------------------------\n",
      "Context 3:\n",
      "Type: Document\n",
      "Source: env-protection-pesticides-business-manuals-applic-chapter7.pdf\n",
      "Page: 22\n",
      "Content: APPLICATOR CORE \n",
      "Chapter 7: Integrated Pest Management                                  191  \n",
      "Communication is important when devel oping and putting an IPM program in \n",
      "place. A large amount of inform...\n",
      "--------------------------------------------------\n",
      "Context 4:\n",
      "Type: Document\n",
      "Source: env-protection-pesticides-business-manuals-applic-chapter7.pdf\n",
      "Page: 23\n",
      "Content: APPLICATOR CORE \n",
      "192                                  Chapter 7: Integrated Pest Management   \n",
      "         Summary  \n",
      " Integrated Pest Management (I PM) programs use all available \n",
      "information and treatme...\n",
      "--------------------------------------------------\n"
     ]
    }
   ],
   "source": [
    "question = {\"input\":\"What are the key elements of an IPM Program?\"}\n",
    "\n",
    "# Invoke the RAG chain\n",
    "response = rag_chain.invoke(question)\n",
    "# Print the main answer\n",
    "print(f\"ANSWER:{response['answer']}\\n\")\n",
    "\n",
    "# Print each context briefly\n",
    "print('*' * 25)\n",
    "for idx, ctx in enumerate(response['context']):\n",
    "    print(f\"Context {idx + 1}:\")\n",
    "    print(f\"Type: {ctx.type}\")  # Accessing type using the attribute\n",
    "    print(f\"Source: {ctx.metadata['source']}\")  # Accessing metadata using subscript notation\n",
    "    print(f\"Page: {ctx.metadata['page']}\")  # Accessing metadata using subscript notation\n",
    "    # Print a snippet of the content\n",
    "    content_snippet = ctx.page_content[:200] + ('...' if len(ctx.page_content) > 200 else '')\n",
    "    print(f\"Content: {content_snippet}\")\n",
    "    print('-' * 50)"
   ]
  },
  {
   "cell_type": "code",
   "execution_count": 20,
   "id": "ebdb7791-1a4b-4d01-9bf1-c6742de10f84",
   "metadata": {},
   "outputs": [
    {
     "name": "stdout",
     "output_type": "stream",
     "text": [
      "ANSWER:Yes, that's correct. Monitoring, Injury and Action Thresholds are indeed elements of an Integrated Pest Management (IPM) program.\n",
      "\n",
      "*************************\n",
      "Context 1:\n",
      "Type: Document\n",
      "Source: env-protection-pesticides-business-manuals-applic-chapter7.pdf\n",
      "Page: 9\n",
      "Content: Frequency of Monitoring \n",
      " The way in which you monitor should depend on the pest and type of site. Monitoring for insects is often done weekly. It should be done during a time when \n",
      "damage is expected...\n",
      "--------------------------------------------------\n",
      "Context 2:\n",
      "Type: Document\n",
      "Source: env-protection-pesticides-business-manuals-applic-chapter7.pdf\n",
      "Page: 11\n",
      "Content:  Government and scientific texts \n",
      " Pest management experts \n",
      " Universities or colleges \n",
      " Grower organizations \n",
      " \n",
      "Threshold information may not always be av ailable. It may be necessary to begin \n",
      "by...\n",
      "--------------------------------------------------\n",
      "Context 3:\n",
      "Type: Document\n",
      "Source: env-protection-pesticides-business-manuals-applic-chapter7.pdf\n",
      "Page: 24\n",
      "Content: treatments. Treatment records can be  used to plan improvements and \n",
      "answer questions after treatment.  An IPM program must be evaluated fo r effectiveness. Ways to prevent \n",
      "pest problems and improve ...\n",
      "--------------------------------------------------\n",
      "Context 4:\n",
      "Type: Document\n",
      "Source: env-protection-pesticides-business-manuals-applic-chapter7.pdf\n",
      "Page: 23\n",
      "Content: treatment. You must know what the problem is before choosing \n",
      "methods to monitor and treat it.  \n",
      " \n",
      "Monitoring provides information needed to make sound decisions on pest management. This information c...\n",
      "--------------------------------------------------\n"
     ]
    }
   ],
   "source": [
    "question = {\"input\":  \"Is Monitoring,  Injury and Action Thresholds not the elements of an IPM Program?\"}\n",
    "\n",
    "# Invoke the RAG chain\n",
    "response = rag_chain.invoke(question)\n",
    "\n",
    "# Print the main answer\n",
    "print(f\"ANSWER:{response['answer']}\\n\")\n",
    "\n",
    "# Print each context briefly\n",
    "print('*' * 25)\n",
    "for idx, ctx in enumerate(response['context']):\n",
    "    print(f\"Context {idx + 1}:\")\n",
    "    print(f\"Type: {ctx.type}\")  # Accessing type using the attribute\n",
    "    print(f\"Source: {ctx.metadata['source']}\")  # Accessing metadata using subscript notation\n",
    "    print(f\"Page: {ctx.metadata['page']}\")  # Accessing metadata using subscript notation\n",
    "    # Print a snippet of the content\n",
    "    content_snippet = ctx.page_content[:200] + ('...' if len(ctx.page_content) > 200 else '')\n",
    "    print(f\"Content: {content_snippet}\")\n",
    "    print('-' * 50)"
   ]
  },
  {
   "cell_type": "code",
   "execution_count": 21,
   "id": "809c2300-2461-40d2-8ae0-af6c5bc80546",
   "metadata": {},
   "outputs": [
    {
     "name": "stdout",
     "output_type": "stream",
     "text": [
      "ANSWER:According to the provided context, planning an IPM program involves the following steps:\n",
      "\n",
      "1. Prevention: Plan and manage ecosystems to prevent organisms from becoming problems.\n",
      "2. Identification: Identify pests and beneficial organisms.\n",
      "3. Monitoring: Monitor pest and beneficial organisms' populations, pest damage, and the environment.\n",
      "4. Injury and Action Decision: Determine injury and action thresholds to know when to treat pests.\n",
      "5. Treatments: Use a combination of cultural, biological, physical, mechanical, behavioral, or chemical methods to control pests with minimal environmental impact.\n",
      "\n",
      "Additionally, it is essential to:\n",
      "\n",
      "* Evaluate the program for effectiveness and identify ways to prevent pest problems and improve the program.\n",
      "* Communicate with all involved parties, including local pest experts, government employees, trade associations, and workers on farms or in businesses, to ensure everyone understands their role and the program's goals.\n",
      "* Keep records of treatments and observations to plan improvements and answer questions after treatment.\n",
      "\n",
      "*************************\n",
      "Context 1:\n",
      "Type: Document\n",
      "Source: env-protection-pesticides-business-manuals-applic-chapter7.pdf\n",
      "Page: 11\n",
      "Content:  Government and scientific texts \n",
      " Pest management experts \n",
      " Universities or colleges \n",
      " Grower organizations \n",
      " \n",
      "Threshold information may not always be av ailable. It may be necessary to begin \n",
      "by...\n",
      "--------------------------------------------------\n",
      "Context 2:\n",
      "Type: Document\n",
      "Source: env-protection-pesticides-business-manuals-applic-chapter7.pdf\n",
      "Page: 1\n",
      "Content: APPLICATOR CORE \n",
      "170                                  Chapter 7: Integrated Pest Management  \n",
      " \n",
      " \n",
      " \n",
      " \n",
      " \n",
      " \n",
      "  \n",
      " \n",
      " IPM is a decision-making process that he lps to prevent pest problems. With IPM \n",
      "program...\n",
      "--------------------------------------------------\n",
      "Context 3:\n",
      "Type: Document\n",
      "Source: env-protection-pesticides-business-manuals-applic-chapter7.pdf\n",
      "Page: 24\n",
      "Content: treatments. Treatment records can be  used to plan improvements and \n",
      "answer questions after treatment.  An IPM program must be evaluated fo r effectiveness. Ways to prevent \n",
      "pest problems and improve ...\n",
      "--------------------------------------------------\n",
      "Context 4:\n",
      "Type: Document\n",
      "Source: env-protection-pesticides-business-manuals-applic-chapter7.pdf\n",
      "Page: 22\n",
      "Content: APPLICATOR CORE \n",
      "Chapter 7: Integrated Pest Management                                  191  \n",
      "Communication is important when devel oping and putting an IPM program in \n",
      "place. A large amount of inform...\n",
      "--------------------------------------------------\n"
     ]
    }
   ],
   "source": [
    "question = {\"input\": \"How to plan an IPM Program?\"}\n",
    "\n",
    "# Invoke the RAG chain\n",
    "response = rag_chain.invoke(question)\n",
    "\n",
    "# Print the main answer\n",
    "print(f\"ANSWER:{response['answer']}\\n\")\n",
    "\n",
    "# Print each context briefly\n",
    "print('*' * 25)\n",
    "for idx, ctx in enumerate(response['context']):\n",
    "    print(f\"Context {idx + 1}:\")\n",
    "    print(f\"Type: {ctx.type}\")  # Accessing type using the attribute\n",
    "    print(f\"Source: {ctx.metadata['source']}\")  # Accessing metadata using subscript notation\n",
    "    print(f\"Page: {ctx.metadata['page']}\")  # Accessing metadata using subscript notation\n",
    "    # Print a snippet of the content\n",
    "    content_snippet = ctx.page_content[:200] + ('...' if len(ctx.page_content) > 200 else '')\n",
    "    print(f\"Content: {content_snippet}\")\n",
    "    print('-' * 50)"
   ]
  },
  {
   "cell_type": "code",
   "execution_count": 22,
   "id": "3ce016ba-9e82-43a7-910e-52dcb90022f5",
   "metadata": {},
   "outputs": [
    {
     "name": "stdout",
     "output_type": "stream",
     "text": [
      "ANSWER:These are the factors to consider when planning an IPM (Integrated Pest Management) program:\n",
      "\n",
      "1. Timing: When pests will be present\n",
      "2. Diet: What they eat\n",
      "3. Habitat: Where they hide\n",
      "4. Life cycle: The stages of life that are easiest to control\n",
      "5. Biology: What natural enemies exist\n",
      "\n",
      "*************************\n",
      "Context 1:\n",
      "Type: Document\n",
      "Source: env-protection-pesticides-business-manuals-applic-chapter7.pdf\n",
      "Page: 3\n",
      "Content: APPLICATOR CORE \n",
      "172                                  Chapter 7: Integrated Pest Management To plan an IPM program, find out: \n",
      " \n",
      " When pests will be present  \n",
      " What they eat  \n",
      " Where they hide  \n",
      " ...\n",
      "--------------------------------------------------\n",
      "Context 2:\n",
      "Type: Document\n",
      "Source: env-protection-pesticides-business-manuals-applic-chapter7.pdf\n",
      "Page: 1\n",
      "Content: APPLICATOR CORE \n",
      "170                                  Chapter 7: Integrated Pest Management  \n",
      " \n",
      " \n",
      " \n",
      " \n",
      " \n",
      " \n",
      "  \n",
      " \n",
      " IPM is a decision-making process that he lps to prevent pest problems. With IPM \n",
      "program...\n",
      "--------------------------------------------------\n",
      "Context 3:\n",
      "Type: Document\n",
      "Source: env-protection-pesticides-business-manuals-applic-chapter7.pdf\n",
      "Page: 11\n",
      "Content:  Government and scientific texts \n",
      " Pest management experts \n",
      " Universities or colleges \n",
      " Grower organizations \n",
      " \n",
      "Threshold information may not always be av ailable. It may be necessary to begin \n",
      "by...\n",
      "--------------------------------------------------\n",
      "Context 4:\n",
      "Type: Document\n",
      "Source: env-protection-pesticides-business-manuals-applic-chapter7.pdf\n",
      "Page: 26\n",
      "Content: APPLICATOR CORE \n",
      "Chapter 7: Integrated Pest Management                                  195 5. List five treatments used for pest control. Give one example of each. \n",
      " \n",
      "  \n",
      "     \n",
      "     6. Why is communic...\n",
      "--------------------------------------------------\n"
     ]
    }
   ],
   "source": [
    "question = {\"input\":\"\"\"What are these in IPM program?\n",
    "1. When pests will be present\n",
    "2. What they eat\n",
    "3. Where they hide\n",
    "4. The stages of life that are easiest to control\n",
    "5. What natural enemies exist\n",
    "\"\"\"}\n",
    "\n",
    "# Invoke the RAG chain\n",
    "response = rag_chain.invoke(question)\n",
    "\n",
    "# Print the main answer\n",
    "print(f\"ANSWER:{response['answer']}\\n\")\n",
    "\n",
    "# Print each context briefly\n",
    "print('*' * 25)\n",
    "for idx, ctx in enumerate(response['context']):\n",
    "    print(f\"Context {idx + 1}:\")\n",
    "    print(f\"Type: {ctx.type}\")  # Accessing type using the attribute\n",
    "    print(f\"Source: {ctx.metadata['source']}\")  # Accessing metadata using subscript notation\n",
    "    print(f\"Page: {ctx.metadata['page']}\")  # Accessing metadata using subscript notation\n",
    "    # Print a snippet of the content\n",
    "    content_snippet = ctx.page_content[:200] + ('...' if len(ctx.page_content) > 200 else '')\n",
    "    print(f\"Content: {content_snippet}\")\n",
    "    print('-' * 50)"
   ]
  },
  {
   "cell_type": "code",
   "execution_count": 23,
   "id": "260f8482-dee5-44a9-aceb-196e76e244fd",
   "metadata": {},
   "outputs": [
    {
     "name": "stdout",
     "output_type": "stream",
     "text": [
      "ANSWER:According to the provided context, the advantages of using an IPM program include:\n",
      "\n",
      "1. Long-term answers to pest problems\n",
      "2. Protecting environmental and human health by reducing pesticide use\n",
      "3. Reducing harm to beneficial organisms\n",
      "4. Preventing creation of pesticide-resistant pests\n",
      "5. Providing a way to manage pests when pesticides cannot be used\n",
      "\n",
      "*************************\n",
      "Context 1:\n",
      "Type: Document\n",
      "Source: env-protection-pesticides-business-manuals-applic-chapter7.pdf\n",
      "Page: 2\n",
      "Content: APPLICATOR CORE \n",
      "Chapter 7: Integrated Pest Management                                  171 Advantages of IPM include: \n",
      " \n",
      " Long-term answers to pest problems \n",
      " Protecting environmental and human hea...\n",
      "--------------------------------------------------\n",
      "Context 2:\n",
      "Type: Document\n",
      "Source: env-protection-pesticides-business-manuals-applic-chapter7.pdf\n",
      "Page: 1\n",
      "Content: APPLICATOR CORE \n",
      "170                                  Chapter 7: Integrated Pest Management  \n",
      " \n",
      " \n",
      " \n",
      " \n",
      " \n",
      " \n",
      "  \n",
      " \n",
      " IPM is a decision-making process that he lps to prevent pest problems. With IPM \n",
      "program...\n",
      "--------------------------------------------------\n",
      "Context 3:\n",
      "Type: Document\n",
      "Source: env-protection-pesticides-business-manuals-applic-chapter7.pdf\n",
      "Page: 11\n",
      "Content:  Government and scientific texts \n",
      " Pest management experts \n",
      " Universities or colleges \n",
      " Grower organizations \n",
      " \n",
      "Threshold information may not always be av ailable. It may be necessary to begin \n",
      "by...\n",
      "--------------------------------------------------\n",
      "Context 4:\n",
      "Type: Document\n",
      "Source: env-protection-pesticides-business-manuals-applic-chapter7.pdf\n",
      "Page: 25\n",
      "Content: APPLICATOR CORE \n",
      "194                                  Chapter 7: Integrated Pest Management  \n",
      " \n",
      "Answers are located in Appendix A of this manual.  \n",
      " \n",
      "1. What are the advantages of  using an IPM progra...\n",
      "--------------------------------------------------\n"
     ]
    }
   ],
   "source": [
    "question = {\"input\": \"\"\"\n",
    "What are the advantages of using an IPM program?\n",
    "provide atleast 5 points\n",
    "\"\"\"}\n",
    "# Invoke the RAG chain\n",
    "response = rag_chain.invoke(question)\n",
    "\n",
    "# Print the main answer\n",
    "print(f\"ANSWER:{response['answer']}\\n\")\n",
    "\n",
    "# Print each context briefly\n",
    "print('*' * 25)\n",
    "for idx, ctx in enumerate(response['context']):\n",
    "    print(f\"Context {idx + 1}:\")\n",
    "    print(f\"Type: {ctx.type}\")  # Accessing type using the attribute\n",
    "    print(f\"Source: {ctx.metadata['source']}\")  # Accessing metadata using subscript notation\n",
    "    print(f\"Page: {ctx.metadata['page']}\")  # Accessing metadata using subscript notation\n",
    "    # Print a snippet of the content\n",
    "    content_snippet = ctx.page_content[:200] + ('...' if len(ctx.page_content) > 200 else '')\n",
    "    print(f\"Content: {content_snippet}\")\n",
    "    print('-' * 50)"
   ]
  },
  {
   "cell_type": "code",
   "execution_count": 24,
   "id": "4af460d6-3e65-4a5b-9a1d-3fdc66a9e4da",
   "metadata": {},
   "outputs": [
    {
     "name": "stdout",
     "output_type": "stream",
     "text": [
      "ANSWER:According to the provided context, prevention is key to an IPM program because it keeps pests from causing problems, which avoids damage and saves money.\n",
      "\n",
      "*************************\n",
      "Context 1:\n",
      "Type: Document\n",
      "Source: env-protection-pesticides-business-manuals-applic-chapter7.pdf\n",
      "Page: 24\n",
      "Content: treatments. Treatment records can be  used to plan improvements and \n",
      "answer questions after treatment.  An IPM program must be evaluated fo r effectiveness. Ways to prevent \n",
      "pest problems and improve ...\n",
      "--------------------------------------------------\n",
      "Context 2:\n",
      "Type: Document\n",
      "Source: env-protection-pesticides-business-manuals-applic-chapter7.pdf\n",
      "Page: 1\n",
      "Content: APPLICATOR CORE \n",
      "170                                  Chapter 7: Integrated Pest Management  \n",
      " \n",
      " \n",
      " \n",
      " \n",
      " \n",
      " \n",
      "  \n",
      " \n",
      " IPM is a decision-making process that he lps to prevent pest problems. With IPM \n",
      "program...\n",
      "--------------------------------------------------\n",
      "Context 3:\n",
      "Type: Document\n",
      "Source: env-protection-pesticides-business-manuals-applic-chapter7.pdf\n",
      "Page: 2\n",
      "Content: APPLICATOR CORE \n",
      "Chapter 7: Integrated Pest Management                                  171 Advantages of IPM include: \n",
      " \n",
      " Long-term answers to pest problems \n",
      " Protecting environmental and human hea...\n",
      "--------------------------------------------------\n",
      "Context 4:\n",
      "Type: Document\n",
      "Source: env-protection-pesticides-business-manuals-applic-chapter7.pdf\n",
      "Page: 23\n",
      "Content: APPLICATOR CORE \n",
      "192                                  Chapter 7: Integrated Pest Management   \n",
      "         Summary  \n",
      " Integrated Pest Management (I PM) programs use all available \n",
      "information and treatme...\n",
      "--------------------------------------------------\n"
     ]
    }
   ],
   "source": [
    "question = {\"input\": \"Why is prevention key to an IPM program?\"}\n",
    "# Invoke the RAG chain\n",
    "response = rag_chain.invoke(question)\n",
    "\n",
    "# Print the main answer\n",
    "print(f\"ANSWER:{response['answer']}\\n\")\n",
    "\n",
    "# Print each context briefly\n",
    "print('*' * 25)\n",
    "for idx, ctx in enumerate(response['context']):\n",
    "    print(f\"Context {idx + 1}:\")\n",
    "    print(f\"Type: {ctx.type}\")  # Accessing type using the attribute\n",
    "    print(f\"Source: {ctx.metadata['source']}\")  # Accessing metadata using subscript notation\n",
    "    print(f\"Page: {ctx.metadata['page']}\")  # Accessing metadata using subscript notation\n",
    "    # Print a snippet of the content\n",
    "    content_snippet = ctx.page_content[:200] + ('...' if len(ctx.page_content) > 200 else '')\n",
    "    print(f\"Content: {content_snippet}\")\n",
    "    print('-' * 50)"
   ]
  },
  {
   "cell_type": "code",
   "execution_count": 25,
   "id": "63530056-9eb1-4190-a29c-c6ef623880da",
   "metadata": {},
   "outputs": [
    {
     "name": "stdout",
     "output_type": "stream",
     "text": [
      "ANSWER:The correct answer is d. All of above.\n",
      "\n",
      "According to the provided context, monitoring in an IPM program involves:\n",
      "\n",
      "* Providing information needed to make sound decisions on pest management\n",
      "* Comes from visual inspections or counting and measuring methods\n",
      "* Regular counts or measurements provide numbers that can be compared over time, regardless of who does the monitoring\n",
      "* Enough random samples must be taken to get a good estimate of the pest population\n",
      "\n",
      "This suggests that monitoring is used to discover if pests are present and in what numbers (a), find pest damage or symptoms of disease (b), and determine if beneficial organisms are present (c). Therefore, the correct answer is d. All of above.\n",
      "\n",
      "*************************\n",
      "Context 1:\n",
      "Type: Document\n",
      "Source: env-protection-pesticides-business-manuals-applic-chapter7.pdf\n",
      "Page: 11\n",
      "Content:  Government and scientific texts \n",
      " Pest management experts \n",
      " Universities or colleges \n",
      " Grower organizations \n",
      " \n",
      "Threshold information may not always be av ailable. It may be necessary to begin \n",
      "by...\n",
      "--------------------------------------------------\n",
      "Context 2:\n",
      "Type: Document\n",
      "Source: env-protection-pesticides-business-manuals-applic-chapter7.pdf\n",
      "Page: 23\n",
      "Content: APPLICATOR CORE \n",
      "192                                  Chapter 7: Integrated Pest Management   \n",
      "         Summary  \n",
      " Integrated Pest Management (I PM) programs use all available \n",
      "information and treatme...\n",
      "--------------------------------------------------\n",
      "Context 3:\n",
      "Type: Document\n",
      "Source: env-protection-pesticides-business-manuals-applic-chapter7.pdf\n",
      "Page: 23\n",
      "Content: treatment. You must know what the problem is before choosing \n",
      "methods to monitor and treat it.  \n",
      " \n",
      "Monitoring provides information needed to make sound decisions on pest management. This information c...\n",
      "--------------------------------------------------\n",
      "Context 4:\n",
      "Type: Document\n",
      "Source: env-protection-pesticides-business-manuals-applic-chapter7.pdf\n",
      "Page: 1\n",
      "Content: APPLICATOR CORE \n",
      "170                                  Chapter 7: Integrated Pest Management  \n",
      " \n",
      " \n",
      " \n",
      " \n",
      " \n",
      " \n",
      "  \n",
      " \n",
      " IPM is a decision-making process that he lps to prevent pest problems. With IPM \n",
      "program...\n",
      "--------------------------------------------------\n"
     ]
    }
   ],
   "source": [
    "question = {\"input\": \"\"\" Choose the correct options from a,b,c,d & e\n",
    "\n",
    "Monitoring is used in an IPM program to:\n",
    "a. Discover if pests are present and in what numbers\n",
    "b. Find pest damage or symptoms of disease\n",
    "c. Determine if beneficial organisms are present\n",
    "d. All of above\n",
    "e. a and b only\n",
    "\"\"\"}\n",
    "# Invoke the RAG chain\n",
    "response = rag_chain.invoke(question)\n",
    "\n",
    "# Print the main answer\n",
    "print(f\"ANSWER:{response['answer']}\\n\")\n",
    "\n",
    "# Print each context briefly\n",
    "print('*' * 25)\n",
    "for idx, ctx in enumerate(response['context']):\n",
    "    print(f\"Context {idx + 1}:\")\n",
    "    print(f\"Type: {ctx.type}\")  # Accessing type using the attribute\n",
    "    print(f\"Source: {ctx.metadata['source']}\")  # Accessing metadata using subscript notation\n",
    "    print(f\"Page: {ctx.metadata['page']}\")  # Accessing metadata using subscript notation\n",
    "    # Print a snippet of the content\n",
    "    content_snippet = ctx.page_content[:200] + ('...' if len(ctx.page_content) > 200 else '')\n",
    "    print(f\"Content: {content_snippet}\")\n",
    "    print('-' * 50)"
   ]
  },
  {
   "cell_type": "code",
   "execution_count": 26,
   "id": "790813c1-ba32-4ef1-80aa-2548ecbbb5d4",
   "metadata": {},
   "outputs": [
    {
     "name": "stdout",
     "output_type": "stream",
     "text": [
      "ANSWER:According to the provided context, the injury threshold is the level at which pest numbers are high enough to cause unacceptable injury or damage. It is the maximum number of pests that can be tolerated.\n",
      "\n",
      "On the other hand, the action threshold is the point at which treatment should take place to prevent the pest population from reaching the injury threshold. The action threshold may differ depending on the type of treatment and how it works.\n",
      "\n",
      "*************************\n",
      "Context 1:\n",
      "Type: Document\n",
      "Source: env-protection-pesticides-business-manuals-applic-chapter7.pdf\n",
      "Page: 11\n",
      "Content: APPLICATOR CORE \n",
      "180                                  Chapter 7: Integrated Pest Management Injury and action thresholds have been  well studied and established for some \n",
      "crops. These take the cost of...\n",
      "--------------------------------------------------\n",
      "Context 2:\n",
      "Type: Document\n",
      "Source: env-protection-pesticides-business-manuals-applic-chapter7.pdf\n",
      "Page: 10\n",
      "Content: APPLICATOR CORE \n",
      "Chapter 7: Integrated Pest Management                                  179  \n",
      " \n",
      " \n",
      " \n",
      " \n",
      " \n",
      " \n",
      " \n",
      "Action Threshold \n",
      " \n",
      "The action threshold is the point at which treatment should take place t...\n",
      "--------------------------------------------------\n",
      "Context 3:\n",
      "Type: Document\n",
      "Source: env-protection-pesticides-business-manuals-applic-chapter7.pdf\n",
      "Page: 9\n",
      "Content: Frequency of Monitoring \n",
      " The way in which you monitor should depend on the pest and type of site. Monitoring for insects is often done weekly. It should be done during a time when \n",
      "damage is expected...\n",
      "--------------------------------------------------\n",
      "Context 4:\n",
      "Type: Document\n",
      "Source: env-protection-pesticides-business-manuals-applic-chapter7.pdf\n",
      "Page: 8\n",
      "Content: landscapes) where a rough estimat e of a pest population will \n",
      "do. It may not be accurate enough  to monitor some crop pests. \n",
      "In that case, injury and action thresholds may need to be \n",
      "determined. (S...\n",
      "--------------------------------------------------\n"
     ]
    }
   ],
   "source": [
    "question = {\"input\": \"\"\"Explain the difference between injury threshold and action threshold.\"\"\"}\n",
    "\n",
    "# Invoke the RAG chain\n",
    "response = rag_chain.invoke(question)\n",
    "\n",
    "# Print the main answer\n",
    "print(f\"ANSWER:{response['answer']}\\n\")\n",
    "\n",
    "# Print each context briefly\n",
    "print('*' * 25)\n",
    "for idx, ctx in enumerate(response['context']):\n",
    "    print(f\"Context {idx + 1}:\")\n",
    "    print(f\"Type: {ctx.type}\")  # Accessing type using the attribute\n",
    "    print(f\"Source: {ctx.metadata['source']}\")  # Accessing metadata using subscript notation\n",
    "    print(f\"Page: {ctx.metadata['page']}\")  # Accessing metadata using subscript notation\n",
    "    # Print a snippet of the content\n",
    "    content_snippet = ctx.page_content[:200] + ('...' if len(ctx.page_content) > 200 else '')\n",
    "    print(f\"Content: {content_snippet}\")\n",
    "    print('-' * 50)"
   ]
  },
  {
   "cell_type": "code",
   "execution_count": 27,
   "id": "3c0fbbe8-a543-4aac-b0d5-e75b34699b98",
   "metadata": {},
   "outputs": [
    {
     "name": "stdout",
     "output_type": "stream",
     "text": [
      "ANSWER:Based on the provided context, here are five categories of pest treatments with one example each:\n",
      "\n",
      "1. Cultural controls: These disrupt pest life cycles or make the environment less suited for survival.\n",
      "Example: Crop rotation to reduce pest populations.\n",
      "\n",
      "2. Mechanical and physical controls: These use equipment or devices, barriers, or temperatures to reduce pest populations.\n",
      "Example: Using row covers to prevent pests from reaching crops.\n",
      "\n",
      "3. Biological controls: These are living natural enemies of a pest.\n",
      "Example: Introducing ladybugs to reduce aphid populations.\n",
      "\n",
      "4. Behavioural controls: These use a pest's natural behavior to suppress the population.\n",
      "Example: Releasing pheromones to confuse male insects and disrupt mating.\n",
      "\n",
      "5. Chemical controls: These include most pesticides and are designed to kill, control, repel, attract, or manage pests.\n",
      "Example: Using insecticides to kill pests that have infested a crop.\n",
      "\n",
      "*************************\n",
      "Context 1:\n",
      "Type: Document\n",
      "Source: env-protection-pesticides-business-manuals-applic-chapter7.pdf\n",
      "Page: 1\n",
      "Content: biological, physical, mechanical, beha vioural, or chemical methods. The \n",
      "goal is to control pests with little impact on the environment.  \n",
      "6. Evaluation : The effectiveness of pest management plans a...\n",
      "--------------------------------------------------\n",
      "Context 2:\n",
      "Type: Document\n",
      "Source: env-protection-pesticides-business-manuals-applic-chapter7.pdf\n",
      "Page: 24\n",
      "Content: APPLICATOR CORE \n",
      "Chapter 7: Integrated Pest Management                                  193  \n",
      "  \n",
      "     Summary, cont’d.  \n",
      " In an IPM program, two or more treatments can be used in a coordinated approac...\n",
      "--------------------------------------------------\n",
      "Context 3:\n",
      "Type: Document\n",
      "Source: env-protection-pesticides-business-manuals-applic-chapter7.pdf\n",
      "Page: 24\n",
      "Content: naturally derived or synthesized.  They are used to kill, attract, \n",
      "repel, or alter the growth of pests. \n",
      " \n",
      "Pesticides are often grouped as select ive or non-selective. They can be \n",
      "residual, persiste...\n",
      "--------------------------------------------------\n",
      "Context 4:\n",
      "Type: Document\n",
      "Source: env-protection-pesticides-business-manuals-applic-chapter7.pdf\n",
      "Page: 15\n",
      "Content: APPLICATOR CORE \n",
      "184                                  Chapter 7: Integrated Pest Management Behavioural Control \n",
      " \n",
      "For this type of treatment, a pest’s natural behaviour is used to suppress the popula...\n",
      "--------------------------------------------------\n"
     ]
    }
   ],
   "source": [
    "question = {\"input\":\"\"\"List five treatments used for pest control. Give one example of each.\"\"\"}\n",
    "\n",
    "# Invoke the RAG chain\n",
    "response = rag_chain.invoke(question)\n",
    "\n",
    "# Print the main answer\n",
    "print(f\"ANSWER:{response['answer']}\\n\")\n",
    "\n",
    "# Print each context briefly\n",
    "print('*' * 25)\n",
    "for idx, ctx in enumerate(response['context']):\n",
    "    print(f\"Context {idx + 1}:\")\n",
    "    print(f\"Type: {ctx.type}\")  # Accessing type using the attribute\n",
    "    print(f\"Source: {ctx.metadata['source']}\")  # Accessing metadata using subscript notation\n",
    "    print(f\"Page: {ctx.metadata['page']}\")  # Accessing metadata using subscript notation\n",
    "    # Print a snippet of the content\n",
    "    content_snippet = ctx.page_content[:200] + ('...' if len(ctx.page_content) > 200 else '')\n",
    "    print(f\"Content: {content_snippet}\")\n",
    "    print('-' * 50)"
   ]
  },
  {
   "cell_type": "code",
   "execution_count": 28,
   "id": "85f5eaea-20a2-4427-9269-3f33c6e7b2fe",
   "metadata": {},
   "outputs": [
    {
     "name": "stdout",
     "output_type": "stream",
     "text": [
      "ANSWER :According to the provided context, communication is important in an IPM program because it helps to:\n",
      "\n",
      "* Gather local experience and information\n",
      "* Ensure everyone understands their role\n",
      "* Pass along IPM information to customers and promote the benefits of the program\n",
      "* Address customer concerns and promote customer satisfaction\n",
      "* Plan improvements and answer questions after treatment\n",
      "* Identify ways to prevent pest problems and improve the program\n",
      "\n",
      "*************************\n",
      "Context 1:\n",
      "Type: Document\n",
      "Source: env-protection-pesticides-business-manuals-applic-chapter7.pdf\n",
      "Page: 22\n",
      "Content: APPLICATOR CORE \n",
      "Chapter 7: Integrated Pest Management                                  191  \n",
      "Communication is important when devel oping and putting an IPM program in \n",
      "place. A large amount of inform...\n",
      "--------------------------------------------------\n",
      "Context 2:\n",
      "Type: Document\n",
      "Source: env-protection-pesticides-business-manuals-applic-chapter7.pdf\n",
      "Page: 22\n",
      "Content: It is important to pass along IPM information to customers and to promote the benefits of an IPM program to potential or  future clients, and the general public.  \n",
      " Clients should know what needs to b...\n",
      "--------------------------------------------------\n",
      "Context 3:\n",
      "Type: Document\n",
      "Source: env-protection-pesticides-business-manuals-applic-chapter7.pdf\n",
      "Page: 24\n",
      "Content: treatments. Treatment records can be  used to plan improvements and \n",
      "answer questions after treatment.  An IPM program must be evaluated fo r effectiveness. Ways to prevent \n",
      "pest problems and improve ...\n",
      "--------------------------------------------------\n",
      "Context 4:\n",
      "Type: Document\n",
      "Source: env-protection-pesticides-business-manuals-applic-chapter7.pdf\n",
      "Page: 11\n",
      "Content:  Government and scientific texts \n",
      " Pest management experts \n",
      " Universities or colleges \n",
      " Grower organizations \n",
      " \n",
      "Threshold information may not always be av ailable. It may be necessary to begin \n",
      "by...\n",
      "--------------------------------------------------\n"
     ]
    }
   ],
   "source": [
    "question = {\"input\": \"\"\"Why is communication important in an IPM program?\"\"\"}\n",
    "\n",
    "# Invoke the RAG chain\n",
    "response = rag_chain.invoke(question)\n",
    "\n",
    "# Print the main answer\n",
    "print(f\"ANSWER :{response['answer']}\\n\")\n",
    "\n",
    "# Print each context briefly\n",
    "print('*' * 25)\n",
    "for idx, ctx in enumerate(response['context']):\n",
    "    print(f\"Context {idx + 1}:\")\n",
    "    print(f\"Type: {ctx.type}\")  # Accessing type using the attribute\n",
    "    print(f\"Source: {ctx.metadata['source']}\")  # Accessing metadata using subscript notation\n",
    "    print(f\"Page: {ctx.metadata['page']}\")  # Accessing metadata using subscript notation\n",
    "    # Print a snippet of the content\n",
    "    content_snippet = ctx.page_content[:200] + ('...' if len(ctx.page_content) > 200 else '')\n",
    "    print(f\"Content: {content_snippet}\")\n",
    "    print('-' * 50)"
   ]
  },
  {
   "cell_type": "code",
   "execution_count": 29,
   "id": "c31c0362-0033-4005-9f1d-4a44e30b31b0",
   "metadata": {},
   "outputs": [
    {
     "name": "stdout",
     "output_type": "stream",
     "text": [
      "ANSWER :True. According to the context, \"The greater the number of samples counted, the more likely it is that the results will give a good estimate.\"\n",
      "\n",
      "*************************\n",
      "Context 1:\n",
      "Type: Document\n",
      "Source: env-protection-pesticides-business-manuals-applic-chapter7.pdf\n",
      "Page: 8\n",
      "Content: APPLICATOR CORE \n",
      "Chapter 7: Integrated Pest Management                                  177 SAMPLE SIZE \n",
      " \n",
      "The greater the number of samples counted, the more likely it is that the results \n",
      "will give ...\n",
      "--------------------------------------------------\n",
      "Context 2:\n",
      "Type: Document\n",
      "Source: env-protection-pesticides-business-manuals-applic-chapter7.pdf\n",
      "Page: 7\n",
      "Content:  Compare records between sites or dates \n",
      " Establish injury levels and action thresholds \n",
      " Evaluate the effect of treatments on pest populations \n",
      "  \n",
      "Sampling Theory \n",
      " \n",
      "Counting methods often involve...\n",
      "--------------------------------------------------\n",
      "Context 3:\n",
      "Type: Document\n",
      "Source: env-protection-pesticides-business-manuals-applic-chapter7.pdf\n",
      "Page: 23\n",
      "Content: treatment. You must know what the problem is before choosing \n",
      "methods to monitor and treat it.  \n",
      " \n",
      "Monitoring provides information needed to make sound decisions on pest management. This information c...\n",
      "--------------------------------------------------\n",
      "Context 4:\n",
      "Type: Document\n",
      "Source: env-protection-pesticides-business-manuals-applic-chapter7.pdf\n",
      "Page: 6\n",
      "Content:  Check for the presence of pests or pest damage \n",
      " \n",
      " Check for the presence or absence of beneficial organisms. \n",
      " \n",
      " Find large problem sites (e.g., weed y patches or infected crop areas). \n",
      " \n",
      " Find ...\n",
      "--------------------------------------------------\n"
     ]
    }
   ],
   "source": [
    "question = {\"input\": \"\"\"A monitoring program should take enough samples to get the most\n",
    "accurate estimate of the pest population.\n",
    "True or False?\"\"\"}\n",
    "\n",
    "# Invoke the RAG chain\n",
    "response = rag_chain.invoke(question)\n",
    "\n",
    "# Print the main answer\n",
    "print(f\"ANSWER :{response['answer']}\\n\")\n",
    "\n",
    "# Print each context briefly\n",
    "print('*' * 25)\n",
    "for idx, ctx in enumerate(response['context']):\n",
    "    print(f\"Context {idx + 1}:\")\n",
    "    print(f\"Type: {ctx.type}\")  # Accessing type using the attribute\n",
    "    print(f\"Source: {ctx.metadata['source']}\")  # Accessing metadata using subscript notation\n",
    "    print(f\"Page: {ctx.metadata['page']}\")  # Accessing metadata using subscript notation\n",
    "    # Print a snippet of the content\n",
    "    content_snippet = ctx.page_content[:200] + ('...' if len(ctx.page_content) > 200 else '')\n",
    "    print(f\"Content: {content_snippet}\")\n",
    "    print('-' * 50)"
   ]
  },
  {
   "cell_type": "code",
   "execution_count": 30,
   "id": "41e3b84d-17c2-4676-bf42-68faf09aef8e",
   "metadata": {},
   "outputs": [
    {
     "name": "stdout",
     "output_type": "stream",
     "text": [
      "ANSWER :True.\n",
      "\n",
      "*************************\n",
      "Context 1:\n",
      "Type: Document\n",
      "Source: env-protection-pesticides-business-manuals-applic-chapter7.pdf\n",
      "Page: 8\n",
      "Content: APPLICATOR CORE \n",
      "Chapter 7: Integrated Pest Management                                  177 SAMPLE SIZE \n",
      " \n",
      "The greater the number of samples counted, the more likely it is that the results \n",
      "will give ...\n",
      "--------------------------------------------------\n",
      "Context 2:\n",
      "Type: Document\n",
      "Source: env-protection-pesticides-business-manuals-applic-chapter7.pdf\n",
      "Page: 7\n",
      "Content:  Compare records between sites or dates \n",
      " Establish injury levels and action thresholds \n",
      " Evaluate the effect of treatments on pest populations \n",
      "  \n",
      "Sampling Theory \n",
      " \n",
      "Counting methods often involve...\n",
      "--------------------------------------------------\n",
      "Context 3:\n",
      "Type: Document\n",
      "Source: env-protection-pesticides-business-manuals-applic-chapter7.pdf\n",
      "Page: 23\n",
      "Content: treatment. You must know what the problem is before choosing \n",
      "methods to monitor and treat it.  \n",
      " \n",
      "Monitoring provides information needed to make sound decisions on pest management. This information c...\n",
      "--------------------------------------------------\n",
      "Context 4:\n",
      "Type: Document\n",
      "Source: env-protection-pesticides-business-manuals-applic-chapter7.pdf\n",
      "Page: 6\n",
      "Content:  Check for the presence of pests or pest damage \n",
      " \n",
      " Check for the presence or absence of beneficial organisms. \n",
      " \n",
      " Find large problem sites (e.g., weed y patches or infected crop areas). \n",
      " \n",
      " Find ...\n",
      "--------------------------------------------------\n"
     ]
    }
   ],
   "source": [
    "question = {\"input\":  \"\"\"A monitoring program should take enough samples to get the most\n",
    "accurate estimate of the pest population.\n",
    "True or False?\"\"\"}\n",
    "\n",
    "# Invoke the RAG chain\n",
    "response = rag_chain.invoke(question)\n",
    "\n",
    "# Print the main answer\n",
    "print(f\"ANSWER :{response['answer']}\\n\")\n",
    "\n",
    "# Print each context briefly\n",
    "print('*' * 25)\n",
    "for idx, ctx in enumerate(response['context']):\n",
    "    print(f\"Context {idx + 1}:\")\n",
    "    print(f\"Type: {ctx.type}\")  # Accessing type using the attribute\n",
    "    print(f\"Source: {ctx.metadata['source']}\")  # Accessing metadata using subscript notation\n",
    "    print(f\"Page: {ctx.metadata['page']}\")  # Accessing metadata using subscript notation\n",
    "    # Print a snippet of the content\n",
    "    content_snippet = ctx.page_content[:200] + ('...' if len(ctx.page_content) > 200 else '')\n",
    "    print(f\"Content: {content_snippet}\")\n",
    "    print('-' * 50)"
   ]
  },
  {
   "cell_type": "code",
   "execution_count": 31,
   "id": "07c498da-4ef1-403a-b591-877a7e54cd42",
   "metadata": {},
   "outputs": [
    {
     "name": "stdout",
     "output_type": "stream",
     "text": [
      "ANSWER :False. According to the text, visual inspections are \"Close and careful examinations to see what pests are present\" and \"Done when and where they are needed\", but it does not include counting the number of pests on plants. Counting and measuring methods are a separate category.\n",
      "\n",
      "*************************\n",
      "Context 1:\n",
      "Type: Document\n",
      "Source: env-protection-pesticides-business-manuals-applic-chapter7.pdf\n",
      "Page: 6\n",
      "Content:  Check for the presence of pests or pest damage \n",
      " \n",
      " Check for the presence or absence of beneficial organisms. \n",
      " \n",
      " Find large problem sites (e.g., weed y patches or infected crop areas). \n",
      " \n",
      " Find ...\n",
      "--------------------------------------------------\n",
      "Context 2:\n",
      "Type: Document\n",
      "Source: env-protection-pesticides-business-manuals-applic-chapter7.pdf\n",
      "Page: 6\n",
      "Content: APPLICATOR CORE \n",
      "Chapter 7: Integrated Pest Management                                  175 There are many types of monitoring m ethods and tools. Methods include visual \n",
      "inspections and counting and ...\n",
      "--------------------------------------------------\n",
      "Context 3:\n",
      "Type: Document\n",
      "Source: env-protection-pesticides-business-manuals-applic-chapter7.pdf\n",
      "Page: 8\n",
      "Content: landscapes) where a rough estimat e of a pest population will \n",
      "do. It may not be accurate enough  to monitor some crop pests. \n",
      "In that case, injury and action thresholds may need to be \n",
      "determined. (S...\n",
      "--------------------------------------------------\n",
      "Context 4:\n",
      "Type: Document\n",
      "Source: env-protection-pesticides-business-manuals-applic-chapter7.pdf\n",
      "Page: 7\n",
      "Content:  Compare records between sites or dates \n",
      " Establish injury levels and action thresholds \n",
      " Evaluate the effect of treatments on pest populations \n",
      "  \n",
      "Sampling Theory \n",
      " \n",
      "Counting methods often involve...\n",
      "--------------------------------------------------\n"
     ]
    }
   ],
   "source": [
    "question = {\"input\": \"\"\"Visual inspections include counting the number of pests on plants.\n",
    "True or False?\"\"\"}\n",
    "\n",
    "# Invoke the RAG chain\n",
    "response = rag_chain.invoke(question)\n",
    "\n",
    "# Print the main answer\n",
    "print(f\"ANSWER :{response['answer']}\\n\")\n",
    "\n",
    "# Print each context briefly\n",
    "print('*' * 25)\n",
    "for idx, ctx in enumerate(response['context']):\n",
    "    print(f\"Context {idx + 1}:\")\n",
    "    print(f\"Type: {ctx.type}\")  # Accessing type using the attribute\n",
    "    print(f\"Source: {ctx.metadata['source']}\")  # Accessing metadata using subscript notation\n",
    "    print(f\"Page: {ctx.metadata['page']}\")  # Accessing metadata using subscript notation\n",
    "    # Print a snippet of the content\n",
    "    content_snippet = ctx.page_content[:200] + ('...' if len(ctx.page_content) > 200 else '')\n",
    "    print(f\"Content: {content_snippet}\")\n",
    "    print('-' * 50)"
   ]
  },
  {
   "cell_type": "code",
   "execution_count": 32,
   "id": "ce09f51c-3f51-4805-88d4-8a292909de93",
   "metadata": {},
   "outputs": [
    {
     "name": "stdout",
     "output_type": "stream",
     "text": [
      "ANSWER :False.\n",
      "\n",
      "*************************\n",
      "Context 1:\n",
      "Type: Document\n",
      "Source: env-protection-pesticides-business-manuals-applic-chapter7.pdf\n",
      "Page: 26\n",
      "Content: APPLICATOR CORE \n",
      "Chapter 7: Integrated Pest Management                                  195 5. List five treatments used for pest control. Give one example of each. \n",
      " \n",
      "  \n",
      "     \n",
      "     6. Why is communic...\n",
      "--------------------------------------------------\n",
      "Context 2:\n",
      "Type: Document\n",
      "Source: env-protection-pesticides-business-manuals-applic-chapter7.pdf\n",
      "Page: 11\n",
      "Content:  Government and scientific texts \n",
      " Pest management experts \n",
      " Universities or colleges \n",
      " Grower organizations \n",
      " \n",
      "Threshold information may not always be av ailable. It may be necessary to begin \n",
      "by...\n",
      "--------------------------------------------------\n",
      "Context 3:\n",
      "Type: Document\n",
      "Source: env-protection-pesticides-business-manuals-applic-chapter7.pdf\n",
      "Page: 23\n",
      "Content: APPLICATOR CORE \n",
      "192                                  Chapter 7: Integrated Pest Management   \n",
      "         Summary  \n",
      " Integrated Pest Management (I PM) programs use all available \n",
      "information and treatme...\n",
      "--------------------------------------------------\n",
      "Context 4:\n",
      "Type: Document\n",
      "Source: env-protection-pesticides-business-manuals-applic-chapter7.pdf\n",
      "Page: 18\n",
      "Content: behavioural controls. \n",
      "  \n",
      "Treatment Selection \n",
      " \n",
      " The aim of IPM is to prevent unacceptable damage and treatments that are not \n",
      "needed. Choosing the right treatment (or combination) requires some thou...\n",
      "--------------------------------------------------\n"
     ]
    }
   ],
   "source": [
    "question = {\"input\": \"\"\"In an IPM program, only one treatment is used for a given pest problem.\n",
    "True or False?\n",
    "\"\"\"}\n",
    "\n",
    "# Invoke the RAG chain\n",
    "response = rag_chain.invoke(question)\n",
    "\n",
    "# Print the main answer\n",
    "print(f\"ANSWER :{response['answer']}\\n\")\n",
    "\n",
    "# Print each context briefly\n",
    "print('*' * 25)\n",
    "for idx, ctx in enumerate(response['context']):\n",
    "    print(f\"Context {idx + 1}:\")\n",
    "    print(f\"Type: {ctx.type}\")  # Accessing type using the attribute\n",
    "    print(f\"Source: {ctx.metadata['source']}\")  # Accessing metadata using subscript notation\n",
    "    print(f\"Page: {ctx.metadata['page']}\")  # Accessing metadata using subscript notation\n",
    "    # Print a snippet of the content\n",
    "    content_snippet = ctx.page_content[:200] + ('...' if len(ctx.page_content) > 200 else '')\n",
    "    print(f\"Content: {content_snippet}\")\n",
    "    print('-' * 50)"
   ]
  },
  {
   "cell_type": "markdown",
   "id": "39c849ce-05e9-47e8-b4c5-2b6a00a46b97",
   "metadata": {},
   "source": [
    "# RAG Chain2"
   ]
  },
  {
   "cell_type": "code",
   "execution_count": 33,
   "id": "e3badcdb-41a2-46f2-8e69-09100c6687cd",
   "metadata": {},
   "outputs": [],
   "source": [
    "system_prompt = (\n",
    "    \"You are an assistant for finding the exact or similar answer to questions using the provided context.\"\n",
    "    \"the question. If you don't know the answer, say that you don't know.\"\n",
    "    \" Keep the answer concise.\"\n",
    "    \"\\n\\n\"\n",
    "    \"{context}\"\n",
    ")"
   ]
  },
  {
   "cell_type": "code",
   "execution_count": 34,
   "id": "e7559b9c-03e7-43c1-95c3-377d2b80c46a",
   "metadata": {},
   "outputs": [],
   "source": [
    "prompt_template = \"\"\"\n",
    "<|start_header_id|>user<|end_header_id|>\n",
    "You are an assistant for finding the exact or similar answer to questions using the provided context.\n",
    "The question. If you haven't found the context, I haven't found any result in the provided documents.\n",
    "Keep the context concise.\n",
    "Question: {question}\n",
    "Context: {context}<|eot_id|><|start_header_id|>assistant<|end_header_id|>\n",
    "\"\"\""
   ]
  },
  {
   "cell_type": "code",
   "execution_count": 35,
   "id": "8d214cb3-ab2f-4488-a384-c0df12a8a33c",
   "metadata": {},
   "outputs": [],
   "source": [
    "from langchain.prompts import PromptTemplate\n",
    "\n",
    "prompt = PromptTemplate(\n",
    "    input_variables=[\"context\", \"question\"],\n",
    "    template=prompt_template,\n",
    ")"
   ]
  },
  {
   "cell_type": "code",
   "execution_count": 36,
   "id": "4df56d4c-ad44-4d05-8092-35ecc2e410c3",
   "metadata": {},
   "outputs": [],
   "source": [
    "from langchain.chains import RetrievalQA\n",
    "\n",
    "rag_chain2 = RetrievalQA.from_chain_type(llm, retriever=retriever, chain_type_kwargs={\"prompt\": prompt})"
   ]
  },
  {
   "cell_type": "code",
   "execution_count": 37,
   "id": "d142f866-4224-4f7d-9fd5-4165c511d8ab",
   "metadata": {},
   "outputs": [
    {
     "name": "stdout",
     "output_type": "stream",
     "text": [
      "dict_keys(['query', 'result'])\n"
     ]
    }
   ],
   "source": [
    "# Define the question\n",
    "question = \"Are aphids a pest?\"\n",
    "\n",
    "# Invoke the QA chain\n",
    "response = rag_chain2.invoke(question)\n",
    "print(response.keys())"
   ]
  },
  {
   "cell_type": "code",
   "execution_count": 38,
   "id": "7a5f3c15-ab98-4508-b0b5-07aa4f428309",
   "metadata": {},
   "outputs": [
    {
     "name": "stdout",
     "output_type": "stream",
     "text": [
      "Based on the provided context, the answer to the question \"What is Integrated Pest Management?\" is:\n",
      "\n",
      "Integrated Pest Management (IPM) is a decision-making process that helps to prevent pest problems by considering all available information and treatment methods. It is a holistic approach to managing pests, aiming to reduce pest numbers below a damaging level, not necessarily eliminating all pests. IPM programs include elements such as prevention, identification, monitoring, injury and action decision, treatments, and evaluation. The goal is to control pests effectively, affordably, and safely for the environment.\n"
     ]
    }
   ],
   "source": [
    "# Define the question\n",
    "question = \"What is integrated Pest Management\"\n",
    "\n",
    "# Invoke the QA chain\n",
    "result = rag_chain2.invoke(question)[\"result\"]\n",
    "print(result)"
   ]
  },
  {
   "cell_type": "code",
   "execution_count": 39,
   "id": "b4248521-e685-4a87-ba9b-679e353653dc",
   "metadata": {},
   "outputs": [
    {
     "name": "stdout",
     "output_type": "stream",
     "text": [
      "Based on the provided context, the IPM program refers to Integrated Pest Management, which is a decision-making process that helps to prevent pest problems. It considers all available information and treatment methods to manage pests in an effective, affordable, and safe manner for the environment.\n",
      "\n",
      "An IPM program typically includes the following elements:\n",
      "\n",
      "1. Prevention: planning and managing ecosystems to prevent organisms from becoming problems\n",
      "2. Identification: identifying pests and beneficial organisms\n",
      "3. Monitoring: tracking pest and beneficial organism populations, pest damage, and the environment\n",
      "4. Injury and Action Decision: using injury and action thresholds to determine when to treat pests\n",
      "5. Treatments: using a combination of cultural, biological, physical, mechanical, behavioral, or chemical methods to control pests\n",
      "\n",
      "The goal of IPM is to manage pests effectively, economically, and safely, and it has been successfully applied to various sectors, including agriculture, landscape, forestry, structural, and home and garden pests.\n",
      "\n",
      "IPM helps to decrease the need for chemical pesticides, reducing costs and environmental risks.\n"
     ]
    }
   ],
   "source": [
    "question = \"What is IPM program?\"\n",
    "\n",
    "# Invoke the QA chain\n",
    "result = rag_chain2.invoke(question)[\"result\"]\n",
    "print(result)"
   ]
  },
  {
   "cell_type": "code",
   "execution_count": 40,
   "id": "eb9282ba-b39e-4bbd-aabf-26286c1f28fd",
   "metadata": {},
   "outputs": [
    {
     "name": "stdout",
     "output_type": "stream",
     "text": [
      "Based on the provided context, the key elements of an IPM (Integrated Pest Management) Program are:\n",
      "\n",
      "1. **Prevention**:\n",
      "\t* Plan and manage ecosystems to prevent organisms from becoming problems.\n",
      "2. **Identification**:\n",
      "\t* Identify pests and beneficial organisms.\n",
      "3. **Monitoring**:\n",
      "\t* Watch pest and beneficial organism populations, pest damage, and the environment.\n",
      "4. **Injury and Action Decision**:\n",
      "\t* Use injury and action thresholds to determine when to treat pests.\n",
      "5. **Treatments**:\n",
      "\t* Use cultural, biological, physical, mechanical, behavioral, or chemical methods to control pests with minimal environmental impact.\n",
      "\n",
      "These elements are critical to an effective, affordable, and safe IPM program.\n"
     ]
    }
   ],
   "source": [
    "question = \"What are the key elements of an IPM Program? brief each elements pointwise.\"\n",
    "\n",
    "print(rag_chain2.invoke(question)[\"result\"])"
   ]
  },
  {
   "cell_type": "code",
   "execution_count": 41,
   "id": "a409bf25-cf08-49cd-891d-607d9163830c",
   "metadata": {},
   "outputs": [
    {
     "name": "stdout",
     "output_type": "stream",
     "text": [
      "Based on the provided context, it appears that the elements of an Integrated Pest Management (IPM) Program are:\n",
      "\n",
      "1. Monitoring\n",
      "2. Injury Threshold\n",
      "3. Action Threshold\n",
      "\n",
      "These elements are mentioned in the context as follows:\n",
      "\n",
      "* Monitoring is discussed as a crucial step in IPM, involving regular counts or measurements to provide information for sound decisions on pest management.\n",
      "* Injury Threshold is mentioned as the level at which pest numbers are high enough to cause unacceptable injury or damage, and the maximum number of pests that can be tolerated.\n",
      "* Action Threshold is mentioned as the point at which treatment should take place to prevent the pest population from reaching the injury threshold.\n",
      "\n",
      "These elements are key components of an IPM program, which aims to manage pests in a sustainable and environmentally friendly manner.\n"
     ]
    }
   ],
   "source": [
    "question = \"Is Monitoring,  Injury and Action Thresholds not the elements of an IPM Program?\"\n",
    "\n",
    "print(rag_chain2.invoke(question)[\"result\"])"
   ]
  },
  {
   "cell_type": "code",
   "execution_count": 42,
   "id": "50f34297-e951-41cf-bc9a-ccf3d29f7a7a",
   "metadata": {},
   "outputs": [
    {
     "name": "stdout",
     "output_type": "stream",
     "text": [
      "Based on the provided context, I have found a stepwise guide on how to plan an IPM (Integrated Pest Management) program:\n",
      "\n",
      "**Step 1: Prevention**\n",
      "\n",
      "* Plan and manage ecosystems to prevent pest problems\n",
      "\n",
      "**Step 2: Identification**\n",
      "\n",
      "* Identify pests and beneficial organisms\n",
      "\n",
      "**Step 3: Monitoring**\n",
      "\n",
      "* Monitor pest and beneficial organism populations, as well as pest damage and the environment\n",
      "\n",
      "**Step 4: Injury and Action Decision**\n",
      "\n",
      "* Determine injury thresholds to know when to treat pests\n",
      "\n",
      "**Step 5: Treatments**\n",
      "\n",
      "* Select the best treatments, considering all available information and using a combination of methods (cultural, biological, physical, mechanical, behavioral, or chemical)\n",
      "\n",
      "**Additional Steps:**\n",
      "\n",
      "* Evaluate the IPM program annually to refine and improve thresholds\n",
      "* Keep good records and use treatment records to plan improvements and answer questions after treatment\n",
      "* Communicate effectively with all parties involved, including local pest experts, government employees, trade associations, and workers on farms or in businesses involved in pest management\n",
      "* Clearly define roles and responsibilities in the IPM program\n",
      "* Pass along IPM information to customers and promote the benefits of IPM programs to potential or future clients, and the general public.\n",
      "\n",
      "Please note that this is a general guide, and specific details may vary depending on the context and situation.\n"
     ]
    }
   ],
   "source": [
    "question = \"How to plan an IPM Program? Provide stepwise guide\"\n",
    "\n",
    "print(rag_chain2.invoke(question)[\"result\"])"
   ]
  },
  {
   "cell_type": "code",
   "execution_count": 43,
   "id": "91a39a5b-dca5-43d8-9e89-5b6c190900ca",
   "metadata": {},
   "outputs": [
    {
     "name": "stdout",
     "output_type": "stream",
     "text": [
      "Based on the provided context, I was able to find the answer to your question:\n",
      "\n",
      "The 5 items in an IPM program are:\n",
      "\n",
      "1. When pests will be present\n",
      "2. What they eat\n",
      "3. Where they hide\n",
      "4. The stages of life that are easiest to control\n",
      "5. What natural enemies exist\n",
      "\n",
      "These items are mentioned in the context as the information to find out to plan an IPM program.\n"
     ]
    }
   ],
   "source": [
    "question = \"\"\"What are these in IPM program?\n",
    "1. When pests will be present\n",
    "2. What they eat\n",
    "3. Where they hide\n",
    "4. The stages of life that are easiest to control\n",
    "5. What natural enemies exist\n",
    "\"\"\"\n",
    "print(rag_chain2.invoke(question)[\"result\"])"
   ]
  },
  {
   "cell_type": "code",
   "execution_count": 44,
   "id": "3fc9658a-581f-43ae-ba61-6d423dfe6f7d",
   "metadata": {},
   "outputs": [
    {
     "name": "stdout",
     "output_type": "stream",
     "text": [
      "Based on the provided context, here are the advantages of using an IPM program:\n",
      "\n",
      "1. Long-term answers to pest problems: IPM provides a sustainable solution to pest management, ensuring that the problem is resolved without creating new issues.\n",
      "2. Protecting environmental and human health by reducing pesticide use: IPM reduces the reliance on chemical pesticides, minimizing harm to the environment and human health.\n",
      "3. Reducing harm to beneficial organisms: IPM considers the impact on beneficial organisms, such as bees and butterflies, and aims to minimize harm to these important species.\n",
      "4. Preventing creation of pesticide-resistant pests: By using a combination of control methods, IPM reduces the likelihood of pests developing resistance to pesticides.\n",
      "5. Providing a way to manage pests when pesticides cannot be used: IPM offers alternative control methods when pesticides are not effective or cannot be used, ensuring that pest management is still possible.\n",
      "\n",
      "These advantages highlight the benefits of adopting an Integrated Pest Management (IPM) program, which is a decision-making process that helps to prevent pest problems and minimize harm to the environment and human health.\n"
     ]
    }
   ],
   "source": [
    "question = \"\"\"\n",
    "What are the advantages of using an IPM program?\n",
    "provide atleast 5 points\n",
    "\"\"\"\n",
    "print(rag_chain2.invoke(question)[\"result\"])"
   ]
  },
  {
   "cell_type": "code",
   "execution_count": 45,
   "id": "f0958ad4-d8b9-4f8d-a304-1e1871538c7c",
   "metadata": {},
   "outputs": [
    {
     "name": "stdout",
     "output_type": "stream",
     "text": [
      "Based on the provided context, I found the answer to the question:\n",
      "\n",
      "\"Why is prevention key to an IPM program?\"\n",
      "\n",
      "Prevention is key to an IPM program because it keeps pests from causing problems, avoiding damage and saving money. Prevention is a key step in IPM, and it's often cheaper and gives better results in the long run.\n"
     ]
    }
   ],
   "source": [
    "question = \"\"\"\n",
    "Why is prevention key to an IPM program?\n",
    "\"\"\"\n",
    "print(rag_chain2.invoke(question)[\"result\"])"
   ]
  },
  {
   "cell_type": "code",
   "execution_count": 46,
   "id": "5fad346e-bf97-4df8-86f1-59afa4e7330a",
   "metadata": {},
   "outputs": [
    {
     "name": "stdout",
     "output_type": "stream",
     "text": [
      "Based on the provided context, the correct options are:\n",
      "\n",
      "d. All of above\n",
      "\n",
      "Monitoring is used in an IPM program to:\n",
      "\n",
      "* Discover if pests are present and in what numbers (Option a)\n",
      "* Find pest damage or symptoms of disease (Option b)\n",
      "* Determine if beneficial organisms are present (Option c)\n",
      "\n",
      "All of these options are mentioned in the context as part of the monitoring process in an IPM program.\n"
     ]
    }
   ],
   "source": [
    "question = \"\"\" Choose the correct options from a,b,c,d & e\n",
    "\n",
    "Monitoring is used in an IPM program to:\n",
    "a. Discover if pests are present and in what numbers\n",
    "b. Find pest damage or symptoms of disease\n",
    "c. Determine if beneficial organisms are present\n",
    "d. All of above\n",
    "e. a and b only\n",
    "\"\"\"\n",
    "\n",
    "print(rag_chain2.invoke(question)[\"result\"])"
   ]
  },
  {
   "cell_type": "code",
   "execution_count": 47,
   "id": "981fb9c6-9c5f-4007-8cb2-139332b26c01",
   "metadata": {},
   "outputs": [
    {
     "name": "stdout",
     "output_type": "stream",
     "text": [
      "Based on the provided context, I found the answers to your question.\n",
      "\n",
      "**Injury Threshold:**\n",
      "The injury threshold is the level at which pest numbers are high enough to cause unacceptable injury or damage. It is the maximum number of pests that can be tolerated.\n",
      "\n",
      "**Action Threshold:**\n",
      "The action threshold is the point at which treatment should take place to prevent the pest population from reaching the injury threshold. It depends on the type of treatment, with faster-acting treatments often requiring treatment at a higher population level and slower-acting treatments requiring treatment earlier.\n",
      "\n",
      "Please let me know if you have any further questions or if there's anything else I can help you with!\n"
     ]
    }
   ],
   "source": [
    "question = \"\"\"Explain the difference between injury threshold and action threshold.\"\"\"\n",
    "\n",
    "print(rag_chain2.invoke(question)[\"result\"])"
   ]
  },
  {
   "cell_type": "code",
   "execution_count": 48,
   "id": "d3ec57c0-4440-43d6-9648-3061df63aab1",
   "metadata": {},
   "outputs": [
    {
     "name": "stdout",
     "output_type": "stream",
     "text": [
      "Based on the provided context, here are five treatments used for pest control, along with one example of each:\n",
      "\n",
      "1. **Biological Control**: Releasing insect pheromones to confuse male insects and disrupt mating.\n",
      "2. **Physical Control**: Using traps or barriers to reduce pest populations.\n",
      "3. **Mechanical Control**: Releasing sterile male insects to prevent pests from reproducing (e.g., codling moth).\n",
      "4. **Behavioural Control**: Releasing insect pheromones to send signals to others over a large area, confusing male insects and disrupting mating.\n",
      "5. **Chemical Control**: Using pesticides, such as insecticides, to kill, control, or repel pests.\n",
      "\n",
      "Note that these examples are from the provided context and may not be an exhaustive list of treatments used for pest control.\n"
     ]
    }
   ],
   "source": [
    "question = \"\"\"List five treatments used for pest control. Give one example of each.\"\"\"\n",
    "\n",
    "print(rag_chain2.invoke(question)[\"result\"])     "
   ]
  },
  {
   "cell_type": "code",
   "execution_count": 49,
   "id": "51e4a1a9-8fa6-47a5-8243-2419d5624e98",
   "metadata": {},
   "outputs": [
    {
     "name": "stdout",
     "output_type": "stream",
     "text": [
      "Based on the provided context, I found the answer to the question \"Why is communication important in an IPM program?\"\n",
      "\n",
      "According to the text, communication is important in an IPM program because:\n",
      "\n",
      "* A large amount of information must be taken into account and applied to solve a pest problem.\n",
      "* Local pest experts, government employees, trade associations, and other IPM practitioners gather local experience and information, which must be communicated.\n",
      "* Workers on farms or in businesses involved in pest management must communicate with each other.\n",
      "* Details of the IPM program and its goals must be made clear to workers.\n",
      "* There should be a method to relay needs and observations to employers or supervisors.\n",
      "* Everyone should clearly understand their role for the program to succeed.\n",
      "* IPM information must be passed along to customers and the general public, and the benefits of the program must be promoted to them.\n",
      "* Communication helps to address customer concerns, promote customer satisfaction, and plan improvements to the program.\n",
      "\n",
      "These points highlight the importance of communication in an Integrated Pest Management (IPM) program to ensure its success.\n"
     ]
    }
   ],
   "source": [
    "question = \"\"\"Why is communication important in an IPM program?\"\"\"\n",
    "\n",
    "print(rag_chain2.invoke(question)[\"result\"])     "
   ]
  },
  {
   "cell_type": "code",
   "execution_count": 50,
   "id": "16da027d-8688-4d58-9b72-f4c75fd32597",
   "metadata": {},
   "outputs": [
    {
     "name": "stdout",
     "output_type": "stream",
     "text": [
      "Based on the provided context, the answer to the question is:\n",
      "\n",
      "**True**\n",
      "\n",
      "The context states that \"The greater the number of samples counted, the more likely it is that the results will give a good estimate.\" It also mentions that taking enough samples is necessary to get a good estimate of the pest population, and that 10 to 50 samples are often required. Additionally, the text explains that comparing the averages of 10 and 40 samples can help determine if taking more samples will provide a more accurate estimate.\n"
     ]
    }
   ],
   "source": [
    "question = \"\"\"A monitoring program should take enough samples to get the most\n",
    "accurate estimate of the pest population.\n",
    "True or False?\"\"\"\n",
    "\n",
    "print(rag_chain2.invoke(question)[\"result\"])     "
   ]
  },
  {
   "cell_type": "code",
   "execution_count": 51,
   "id": "9baa577f-aea7-45eb-8f03-ff75237f58bc",
   "metadata": {},
   "outputs": [
    {
     "name": "stdout",
     "output_type": "stream",
     "text": [
      "Based on the provided context, the answer to the question is:\n",
      "\n",
      "**True**\n",
      "\n",
      "According to the text, \"The greater the number of samples counted, the more likely it is that the results will give a good estimate. Ten to fifty samples are often required.\" This suggests that taking enough samples is necessary to get an accurate estimate of the pest population.\n"
     ]
    }
   ],
   "source": [
    "question = \"\"\"A monitoring program should take enough samples to get the most\n",
    "accurate estimate of the pest population.\n",
    "True or False?\"\"\"\n",
    "\n",
    "print(rag_chain2.invoke(question)[\"result\"])     "
   ]
  },
  {
   "cell_type": "code",
   "execution_count": 52,
   "id": "bea97fa2-d97a-4139-bbc5-02f00c961472",
   "metadata": {},
   "outputs": [
    {
     "name": "stdout",
     "output_type": "stream",
     "text": [
      "Based on the provided context, the answer to the question is:\n",
      "\n",
      "True\n",
      "\n",
      "The context states that visual inspections include \"Close and careful examinations to see what pests are present\" and \"Counting the number of pests on plants\" is mentioned in the context of Counting and Measuring Methods.\n"
     ]
    }
   ],
   "source": [
    "question = \"\"\"Visual inspections include counting the number of pests on plants.\n",
    "True or False?\"\"\"\n",
    "\n",
    "print(rag_chain2.invoke(question)[\"result\"])     "
   ]
  },
  {
   "cell_type": "code",
   "execution_count": 53,
   "id": "7018b6c7-2c4f-4771-aed0-34d9864e2760",
   "metadata": {},
   "outputs": [
    {
     "name": "stdout",
     "output_type": "stream",
     "text": [
      "Based on the provided context, the answer to the question is:\n",
      "\n",
      "**False**\n",
      "\n",
      "The context mentions that in an IPM program, \"Two or more treatments are often used together\" and that \"Treatments should only be used if experience and monitoring information shows that pest numbers are likely to increase to the injury threshold.\" This suggests that multiple treatments may be used for a given pest problem, rather than just one treatment being used.\n"
     ]
    }
   ],
   "source": [
    "question = \"\"\"In an IPM program, only one treatment is used for a given pest problem.\n",
    "True or False?\n",
    "\"\"\"\n",
    "print(rag_chain2.invoke(question)[\"result\"])"
   ]
  },
  {
   "cell_type": "code",
   "execution_count": null,
   "id": "88185a62-ca26-4e09-9693-8cea25067054",
   "metadata": {},
   "outputs": [],
   "source": []
  },
  {
   "cell_type": "code",
   "execution_count": null,
   "id": "b32afd7b-3e90-4831-b811-53d9d4bd8841",
   "metadata": {},
   "outputs": [],
   "source": []
  },
  {
   "cell_type": "code",
   "execution_count": null,
   "id": "4ffd9544-c532-4f84-b831-fd5b1c80985c",
   "metadata": {},
   "outputs": [],
   "source": []
  }
 ],
 "metadata": {
  "kernelspec": {
   "display_name": "Python 3 (ipykernel)",
   "language": "python",
   "name": "python3"
  },
  "language_info": {
   "codemirror_mode": {
    "name": "ipython",
    "version": 3
   },
   "file_extension": ".py",
   "mimetype": "text/x-python",
   "name": "python",
   "nbconvert_exporter": "python",
   "pygments_lexer": "ipython3",
   "version": "3.12.3"
  }
 },
 "nbformat": 4,
 "nbformat_minor": 5
}
