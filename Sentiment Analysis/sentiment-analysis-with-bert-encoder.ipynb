{
 "cells": [
  {
   "cell_type": "markdown",
   "id": "c929f718",
   "metadata": {
    "papermill": {
     "duration": 0.007613,
     "end_time": "2022-11-18T00:40:44.889864",
     "exception": false,
     "start_time": "2022-11-18T00:40:44.882251",
     "status": "completed"
    },
    "tags": []
   },
   "source": [
    "## Load Important Libraries"
   ]
  },
  {
   "cell_type": "code",
   "execution_count": 1,
   "id": "a0b0439b",
   "metadata": {
    "execution": {
     "iopub.execute_input": "2022-11-18T00:40:44.904947Z",
     "iopub.status.busy": "2022-11-18T00:40:44.903971Z",
     "iopub.status.idle": "2022-11-18T00:41:58.348184Z",
     "shell.execute_reply": "2022-11-18T00:41:58.344558Z"
    },
    "papermill": {
     "duration": 73.462574,
     "end_time": "2022-11-18T00:41:58.358704",
     "exception": false,
     "start_time": "2022-11-18T00:40:44.896130",
     "status": "completed"
    },
    "tags": []
   },
   "outputs": [
    {
     "name": "stdout",
     "output_type": "stream",
     "text": [
      "\u001b[31mERROR: pip's dependency resolver does not currently take into account all the packages that are installed. This behaviour is the source of the following dependency conflicts.\r\n",
      "tfx-bsl 1.9.0 requires pyarrow<6,>=1, but you have pyarrow 8.0.0 which is incompatible.\r\n",
      "tfx-bsl 1.9.0 requires tensorflow!=2.0.*,!=2.1.*,!=2.2.*,!=2.3.*,!=2.4.*,!=2.5.*,!=2.6.*,!=2.7.*,!=2.8.*,<3,>=1.15.5, but you have tensorflow 2.8.4 which is incompatible.\r\n",
      "tensorflow-transform 1.9.0 requires pyarrow<6,>=1, but you have pyarrow 8.0.0 which is incompatible.\r\n",
      "tensorflow-transform 1.9.0 requires tensorflow!=2.0.*,!=2.1.*,!=2.2.*,!=2.3.*,!=2.4.*,!=2.5.*,!=2.6.*,!=2.7.*,!=2.8.*,<2.10,>=1.15.5, but you have tensorflow 2.8.4 which is incompatible.\r\n",
      "tensorflow-serving-api 2.9.0 requires tensorflow<3,>=2.9.0, but you have tensorflow 2.8.4 which is incompatible.\r\n",
      "tensorflow-io 0.21.0 requires tensorflow<2.7.0,>=2.6.0, but you have tensorflow 2.8.4 which is incompatible.\r\n",
      "tensorflow-io 0.21.0 requires tensorflow-io-gcs-filesystem==0.21.0, but you have tensorflow-io-gcs-filesystem 0.27.0 which is incompatible.\r\n",
      "pytorch-lightning 1.7.7 requires tensorboard>=2.9.1, but you have tensorboard 2.8.0 which is incompatible.\u001b[0m\u001b[31m\r\n",
      "\u001b[0m\u001b[33mWARNING: Running pip as the 'root' user can result in broken permissions and conflicting behaviour with the system package manager. It is recommended to use a virtual environment instead: https://pip.pypa.io/warnings/venv\u001b[0m\u001b[33m\r\n",
      "\u001b[0mNote: you may need to restart the kernel to use updated packages.\n"
     ]
    }
   ],
   "source": [
    "pip install -q -U \"tensorflow-text==2.8.*\""
   ]
  },
  {
   "cell_type": "code",
   "execution_count": 2,
   "id": "b782eb01",
   "metadata": {
    "execution": {
     "iopub.execute_input": "2022-11-18T00:41:58.380118Z",
     "iopub.status.busy": "2022-11-18T00:41:58.379085Z",
     "iopub.status.idle": "2022-11-18T00:42:06.069284Z",
     "shell.execute_reply": "2022-11-18T00:42:06.068395Z"
    },
    "papermill": {
     "duration": 7.704216,
     "end_time": "2022-11-18T00:42:06.072144",
     "exception": false,
     "start_time": "2022-11-18T00:41:58.367928",
     "status": "completed"
    },
    "tags": []
   },
   "outputs": [
    {
     "name": "stderr",
     "output_type": "stream",
     "text": [
      "2022-11-18 00:42:00.654732: W tensorflow/stream_executor/platform/default/dso_loader.cc:64] Could not load dynamic library 'libcudart.so.11.0'; dlerror: libcudart.so.11.0: cannot open shared object file: No such file or directory; LD_LIBRARY_PATH: /usr/local/cuda/lib64:/usr/local/cuda/lib:/usr/local/lib/x86_64-linux-gnu:/usr/local/nvidia/lib:/usr/local/nvidia/lib64:\n",
      "2022-11-18 00:42:00.654792: I tensorflow/stream_executor/cuda/cudart_stub.cc:29] Ignore above cudart dlerror if you do not have a GPU set up on your machine.\n"
     ]
    }
   ],
   "source": [
    "import numpy as np\n",
    "import pandas as pd\n",
    "import re\n",
    "import string\n",
    "from tqdm import tqdm\n",
    "\n",
    "from nltk.corpus import stopwords\n",
    "from nltk.tokenize import word_tokenize\n",
    "\n",
    "import tensorflow as tf\n",
    "import tensorflow_hub as hub\n",
    "import tensorflow_text as text\n",
    "#from official.nlp import optimization  # to create AdamW optimizer\n",
    "\n",
    "from sklearn.model_selection import train_test_split\n",
    "from sklearn.metrics import classification_report\n",
    "\n",
    "import matplotlib.pyplot as plt\n",
    "\n",
    "import os\n",
    "for dirname, _, filenames in os.walk('/kaggle/input'):\n",
    "    for filename in filenames:\n",
    "        path = os.path.join(dirname, filename)"
   ]
  },
  {
   "cell_type": "markdown",
   "id": "826f2da2",
   "metadata": {
    "papermill": {
     "duration": 0.006029,
     "end_time": "2022-11-18T00:42:06.084995",
     "exception": false,
     "start_time": "2022-11-18T00:42:06.078966",
     "status": "completed"
    },
    "tags": []
   },
   "source": [
    "## Load the data"
   ]
  },
  {
   "cell_type": "code",
   "execution_count": 3,
   "id": "698ba153",
   "metadata": {
    "execution": {
     "iopub.execute_input": "2022-11-18T00:42:06.099560Z",
     "iopub.status.busy": "2022-11-18T00:42:06.098446Z",
     "iopub.status.idle": "2022-11-18T00:42:07.981582Z",
     "shell.execute_reply": "2022-11-18T00:42:07.980322Z"
    },
    "papermill": {
     "duration": 1.893964,
     "end_time": "2022-11-18T00:42:07.985091",
     "exception": false,
     "start_time": "2022-11-18T00:42:06.091127",
     "status": "completed"
    },
    "tags": []
   },
   "outputs": [
    {
     "data": {
      "text/html": [
       "<div>\n",
       "<style scoped>\n",
       "    .dataframe tbody tr th:only-of-type {\n",
       "        vertical-align: middle;\n",
       "    }\n",
       "\n",
       "    .dataframe tbody tr th {\n",
       "        vertical-align: top;\n",
       "    }\n",
       "\n",
       "    .dataframe thead th {\n",
       "        text-align: right;\n",
       "    }\n",
       "</style>\n",
       "<table border=\"1\" class=\"dataframe\">\n",
       "  <thead>\n",
       "    <tr style=\"text-align: right;\">\n",
       "      <th></th>\n",
       "      <th>review</th>\n",
       "      <th>sentiment</th>\n",
       "    </tr>\n",
       "  </thead>\n",
       "  <tbody>\n",
       "    <tr>\n",
       "      <th>0</th>\n",
       "      <td>One of the other reviewers has mentioned that ...</td>\n",
       "      <td>positive</td>\n",
       "    </tr>\n",
       "    <tr>\n",
       "      <th>1</th>\n",
       "      <td>A wonderful little production. &lt;br /&gt;&lt;br /&gt;The...</td>\n",
       "      <td>positive</td>\n",
       "    </tr>\n",
       "    <tr>\n",
       "      <th>2</th>\n",
       "      <td>I thought this was a wonderful way to spend ti...</td>\n",
       "      <td>positive</td>\n",
       "    </tr>\n",
       "    <tr>\n",
       "      <th>3</th>\n",
       "      <td>Basically there's a family where a little boy ...</td>\n",
       "      <td>negative</td>\n",
       "    </tr>\n",
       "    <tr>\n",
       "      <th>4</th>\n",
       "      <td>Petter Mattei's \"Love in the Time of Money\" is...</td>\n",
       "      <td>positive</td>\n",
       "    </tr>\n",
       "  </tbody>\n",
       "</table>\n",
       "</div>"
      ],
      "text/plain": [
       "                                              review sentiment\n",
       "0  One of the other reviewers has mentioned that ...  positive\n",
       "1  A wonderful little production. <br /><br />The...  positive\n",
       "2  I thought this was a wonderful way to spend ti...  positive\n",
       "3  Basically there's a family where a little boy ...  negative\n",
       "4  Petter Mattei's \"Love in the Time of Money\" is...  positive"
      ]
     },
     "execution_count": 3,
     "metadata": {},
     "output_type": "execute_result"
    }
   ],
   "source": [
    "df = pd.read_csv(path)\n",
    "df.head()"
   ]
  },
  {
   "cell_type": "code",
   "execution_count": 4,
   "id": "0528d66f",
   "metadata": {
    "execution": {
     "iopub.execute_input": "2022-11-18T00:42:08.019573Z",
     "iopub.status.busy": "2022-11-18T00:42:08.019148Z",
     "iopub.status.idle": "2022-11-18T00:42:08.054644Z",
     "shell.execute_reply": "2022-11-18T00:42:08.052864Z"
    },
    "papermill": {
     "duration": 0.045675,
     "end_time": "2022-11-18T00:42:08.056939",
     "exception": false,
     "start_time": "2022-11-18T00:42:08.011264",
     "status": "completed"
    },
    "tags": []
   },
   "outputs": [
    {
     "name": "stdout",
     "output_type": "stream",
     "text": [
      "<class 'pandas.core.frame.DataFrame'>\n",
      "RangeIndex: 50000 entries, 0 to 49999\n",
      "Data columns (total 2 columns):\n",
      " #   Column     Non-Null Count  Dtype \n",
      "---  ------     --------------  ----- \n",
      " 0   review     50000 non-null  object\n",
      " 1   sentiment  50000 non-null  object\n",
      "dtypes: object(2)\n",
      "memory usage: 781.4+ KB\n"
     ]
    }
   ],
   "source": [
    "df.info()"
   ]
  },
  {
   "cell_type": "markdown",
   "id": "743fc1c1",
   "metadata": {
    "papermill": {
     "duration": 0.006194,
     "end_time": "2022-11-18T00:42:08.069855",
     "exception": false,
     "start_time": "2022-11-18T00:42:08.063661",
     "status": "completed"
    },
    "tags": []
   },
   "source": [
    "## Data Preprocessing"
   ]
  },
  {
   "cell_type": "code",
   "execution_count": 5,
   "id": "aff5d47d",
   "metadata": {
    "execution": {
     "iopub.execute_input": "2022-11-18T00:42:08.084568Z",
     "iopub.status.busy": "2022-11-18T00:42:08.084202Z",
     "iopub.status.idle": "2022-11-18T00:42:08.090508Z",
     "shell.execute_reply": "2022-11-18T00:42:08.089360Z"
    },
    "papermill": {
     "duration": 0.016183,
     "end_time": "2022-11-18T00:42:08.092558",
     "exception": false,
     "start_time": "2022-11-18T00:42:08.076375",
     "status": "completed"
    },
    "tags": []
   },
   "outputs": [],
   "source": [
    "def preprocess(vocab_lookup_table, example_text):\n",
    "    \n",
    "    # Normalize text\n",
    "    tf_text.normalize_utf8(example_text)\n",
    "\n",
    "    # Tokenize into words\n",
    "    word_tokenizer = tf_text.WhitespaceTokenizer()\n",
    "    tokens = word_tokenizer.tokenize(example_text)\n",
    "\n",
    "    # Tokenize into subwords\n",
    "    subword_tokenizer = tf_text.WordpieceTokenizer(\n",
    "        vocab_lookup_table, token_out_type=tf.int64)\n",
    "    subtokens = subword_tokenizer.tokenize(tokens).merge_dims(1, -1)\n",
    "\n",
    "    # Apply padding\n",
    "    padded_inputs = tf_text.pad_model_inputs(subtokens, max_seq_length=16)\n",
    "    return padded_inputs"
   ]
  },
  {
   "cell_type": "code",
   "execution_count": 6,
   "id": "0e5b6aee",
   "metadata": {
    "execution": {
     "iopub.execute_input": "2022-11-18T00:42:08.106911Z",
     "iopub.status.busy": "2022-11-18T00:42:08.106553Z",
     "iopub.status.idle": "2022-11-18T00:42:08.116697Z",
     "shell.execute_reply": "2022-11-18T00:42:08.115661Z"
    },
    "papermill": {
     "duration": 0.019627,
     "end_time": "2022-11-18T00:42:08.118680",
     "exception": false,
     "start_time": "2022-11-18T00:42:08.099053",
     "status": "completed"
    },
    "tags": []
   },
   "outputs": [
    {
     "data": {
      "text/plain": [
       "positive    25000\n",
       "negative    25000\n",
       "Name: sentiment, dtype: int64"
      ]
     },
     "execution_count": 6,
     "metadata": {},
     "output_type": "execute_result"
    }
   ],
   "source": [
    "df.sentiment.value_counts()"
   ]
  },
  {
   "cell_type": "code",
   "execution_count": 7,
   "id": "03bff7a4",
   "metadata": {
    "execution": {
     "iopub.execute_input": "2022-11-18T00:42:08.133744Z",
     "iopub.status.busy": "2022-11-18T00:42:08.133382Z",
     "iopub.status.idle": "2022-11-18T00:42:08.165652Z",
     "shell.execute_reply": "2022-11-18T00:42:08.164963Z"
    },
    "papermill": {
     "duration": 0.042024,
     "end_time": "2022-11-18T00:42:08.167605",
     "exception": false,
     "start_time": "2022-11-18T00:42:08.125581",
     "status": "completed"
    },
    "tags": []
   },
   "outputs": [
    {
     "data": {
      "text/html": [
       "<div>\n",
       "<style scoped>\n",
       "    .dataframe tbody tr th:only-of-type {\n",
       "        vertical-align: middle;\n",
       "    }\n",
       "\n",
       "    .dataframe tbody tr th {\n",
       "        vertical-align: top;\n",
       "    }\n",
       "\n",
       "    .dataframe thead th {\n",
       "        text-align: right;\n",
       "    }\n",
       "</style>\n",
       "<table border=\"1\" class=\"dataframe\">\n",
       "  <thead>\n",
       "    <tr style=\"text-align: right;\">\n",
       "      <th></th>\n",
       "      <th>review</th>\n",
       "      <th>sentiment</th>\n",
       "    </tr>\n",
       "  </thead>\n",
       "  <tbody>\n",
       "    <tr>\n",
       "      <th>0</th>\n",
       "      <td>One of the other reviewers has mentioned that ...</td>\n",
       "      <td>1</td>\n",
       "    </tr>\n",
       "    <tr>\n",
       "      <th>1</th>\n",
       "      <td>A wonderful little production. &lt;br /&gt;&lt;br /&gt;The...</td>\n",
       "      <td>1</td>\n",
       "    </tr>\n",
       "    <tr>\n",
       "      <th>2</th>\n",
       "      <td>I thought this was a wonderful way to spend ti...</td>\n",
       "      <td>1</td>\n",
       "    </tr>\n",
       "    <tr>\n",
       "      <th>3</th>\n",
       "      <td>Basically there's a family where a little boy ...</td>\n",
       "      <td>0</td>\n",
       "    </tr>\n",
       "    <tr>\n",
       "      <th>4</th>\n",
       "      <td>Petter Mattei's \"Love in the Time of Money\" is...</td>\n",
       "      <td>1</td>\n",
       "    </tr>\n",
       "  </tbody>\n",
       "</table>\n",
       "</div>"
      ],
      "text/plain": [
       "                                              review  sentiment\n",
       "0  One of the other reviewers has mentioned that ...          1\n",
       "1  A wonderful little production. <br /><br />The...          1\n",
       "2  I thought this was a wonderful way to spend ti...          1\n",
       "3  Basically there's a family where a little boy ...          0\n",
       "4  Petter Mattei's \"Love in the Time of Money\" is...          1"
      ]
     },
     "execution_count": 7,
     "metadata": {},
     "output_type": "execute_result"
    }
   ],
   "source": [
    "df['sentiment'] = df['sentiment'].apply(lambda x: 1 if x=='positive' else 0)\n",
    "df.head()"
   ]
  },
  {
   "cell_type": "markdown",
   "id": "17d1d7af",
   "metadata": {
    "papermill": {
     "duration": 0.006761,
     "end_time": "2022-11-18T00:42:08.181655",
     "exception": false,
     "start_time": "2022-11-18T00:42:08.174894",
     "status": "completed"
    },
    "tags": []
   },
   "source": [
    "### Split Input and Target value"
   ]
  },
  {
   "cell_type": "code",
   "execution_count": 8,
   "id": "618b5e95",
   "metadata": {
    "execution": {
     "iopub.execute_input": "2022-11-18T00:42:08.197705Z",
     "iopub.status.busy": "2022-11-18T00:42:08.197099Z",
     "iopub.status.idle": "2022-11-18T00:42:08.201596Z",
     "shell.execute_reply": "2022-11-18T00:42:08.200583Z"
    },
    "papermill": {
     "duration": 0.015015,
     "end_time": "2022-11-18T00:42:08.203715",
     "exception": false,
     "start_time": "2022-11-18T00:42:08.188700",
     "status": "completed"
    },
    "tags": []
   },
   "outputs": [],
   "source": [
    "x = df.review\n",
    "y = df.sentiment"
   ]
  },
  {
   "cell_type": "markdown",
   "id": "a9b72828",
   "metadata": {
    "papermill": {
     "duration": 0.006855,
     "end_time": "2022-11-18T00:42:08.217522",
     "exception": false,
     "start_time": "2022-11-18T00:42:08.210667",
     "status": "completed"
    },
    "tags": []
   },
   "source": [
    "## Split Train & Test data"
   ]
  },
  {
   "cell_type": "code",
   "execution_count": 9,
   "id": "906546d0",
   "metadata": {
    "execution": {
     "iopub.execute_input": "2022-11-18T00:42:08.233248Z",
     "iopub.status.busy": "2022-11-18T00:42:08.232865Z",
     "iopub.status.idle": "2022-11-18T00:42:08.265888Z",
     "shell.execute_reply": "2022-11-18T00:42:08.264699Z"
    },
    "papermill": {
     "duration": 0.043809,
     "end_time": "2022-11-18T00:42:08.268291",
     "exception": false,
     "start_time": "2022-11-18T00:42:08.224482",
     "status": "completed"
    },
    "tags": []
   },
   "outputs": [],
   "source": [
    "x_train, x_test, y_train, y_test = train_test_split(x,y, stratify = y)"
   ]
  },
  {
   "cell_type": "code",
   "execution_count": 10,
   "id": "e612e9ba",
   "metadata": {
    "execution": {
     "iopub.execute_input": "2022-11-18T00:42:08.284517Z",
     "iopub.status.busy": "2022-11-18T00:42:08.284138Z",
     "iopub.status.idle": "2022-11-18T00:42:08.292439Z",
     "shell.execute_reply": "2022-11-18T00:42:08.291424Z"
    },
    "papermill": {
     "duration": 0.018635,
     "end_time": "2022-11-18T00:42:08.294509",
     "exception": false,
     "start_time": "2022-11-18T00:42:08.275874",
     "status": "completed"
    },
    "tags": []
   },
   "outputs": [
    {
     "data": {
      "text/plain": [
       "1    18750\n",
       "0    18750\n",
       "Name: sentiment, dtype: int64"
      ]
     },
     "execution_count": 10,
     "metadata": {},
     "output_type": "execute_result"
    }
   ],
   "source": [
    "y_train.value_counts()"
   ]
  },
  {
   "cell_type": "markdown",
   "id": "25866280",
   "metadata": {
    "papermill": {
     "duration": 0.007029,
     "end_time": "2022-11-18T00:42:08.308886",
     "exception": false,
     "start_time": "2022-11-18T00:42:08.301857",
     "status": "completed"
    },
    "tags": []
   },
   "source": [
    "## Load BERT preprocessor & Encoder from  Tensordlow hub"
   ]
  },
  {
   "cell_type": "code",
   "execution_count": 11,
   "id": "b06683a4",
   "metadata": {
    "execution": {
     "iopub.execute_input": "2022-11-18T00:42:08.324934Z",
     "iopub.status.busy": "2022-11-18T00:42:08.324545Z",
     "iopub.status.idle": "2022-11-18T00:42:30.947997Z",
     "shell.execute_reply": "2022-11-18T00:42:30.946838Z"
    },
    "papermill": {
     "duration": 22.634745,
     "end_time": "2022-11-18T00:42:30.950900",
     "exception": false,
     "start_time": "2022-11-18T00:42:08.316155",
     "status": "completed"
    },
    "tags": []
   },
   "outputs": [
    {
     "name": "stderr",
     "output_type": "stream",
     "text": [
      "2022-11-18 00:42:09.204287: W tensorflow/stream_executor/platform/default/dso_loader.cc:64] Could not load dynamic library 'libcuda.so.1'; dlerror: libcuda.so.1: cannot open shared object file: No such file or directory; LD_LIBRARY_PATH: /usr/local/cuda/lib64:/usr/local/cuda/lib:/usr/local/lib/x86_64-linux-gnu:/usr/local/nvidia/lib:/usr/local/nvidia/lib64:\n",
      "2022-11-18 00:42:09.204352: W tensorflow/stream_executor/cuda/cuda_driver.cc:269] failed call to cuInit: UNKNOWN ERROR (303)\n",
      "2022-11-18 00:42:09.204385: I tensorflow/stream_executor/cuda/cuda_diagnostics.cc:156] kernel driver does not appear to be running on this host (94dae0f63463): /proc/driver/nvidia/version does not exist\n",
      "2022-11-18 00:42:09.204646: I tensorflow/core/platform/cpu_feature_guard.cc:151] This TensorFlow binary is optimized with oneAPI Deep Neural Network Library (oneDNN) to use the following CPU instructions in performance-critical operations:  AVX2 FMA\n",
      "To enable them in other operations, rebuild TensorFlow with the appropriate compiler flags.\n"
     ]
    }
   ],
   "source": [
    "bert_preprocessor = hub.KerasLayer('https://tfhub.dev/tensorflow/bert_en_uncased_preprocess/3')\n",
    "bert_encoder = hub.KerasLayer('https://tfhub.dev/tensorflow/bert_en_uncased_L-12_H-768_A-12/4')"
   ]
  },
  {
   "cell_type": "markdown",
   "id": "a0671738",
   "metadata": {
    "papermill": {
     "duration": 0.007579,
     "end_time": "2022-11-18T00:42:30.966804",
     "exception": false,
     "start_time": "2022-11-18T00:42:30.959225",
     "status": "completed"
    },
    "tags": []
   },
   "source": [
    "### Check the Text preprocessor with any custom text"
   ]
  },
  {
   "cell_type": "code",
   "execution_count": 12,
   "id": "8c100068",
   "metadata": {
    "execution": {
     "iopub.execute_input": "2022-11-18T00:42:30.984054Z",
     "iopub.status.busy": "2022-11-18T00:42:30.983625Z",
     "iopub.status.idle": "2022-11-18T00:42:31.182443Z",
     "shell.execute_reply": "2022-11-18T00:42:31.181184Z"
    },
    "papermill": {
     "duration": 0.210486,
     "end_time": "2022-11-18T00:42:31.184988",
     "exception": false,
     "start_time": "2022-11-18T00:42:30.974502",
     "status": "completed"
    },
    "tags": []
   },
   "outputs": [
    {
     "data": {
      "text/plain": [
       "dict_keys(['input_word_ids', 'input_mask', 'input_type_ids'])"
      ]
     },
     "execution_count": 12,
     "metadata": {},
     "output_type": "execute_result"
    }
   ],
   "source": [
    "Text =[\n",
    "    'Amazing movie, super',\n",
    "]\n",
    "\n",
    "preprocessor = bert_preprocessor(Text)\n",
    "preprocessor.keys()"
   ]
  },
  {
   "cell_type": "markdown",
   "id": "5e2b21b5",
   "metadata": {
    "papermill": {
     "duration": 0.007448,
     "end_time": "2022-11-18T00:42:31.200113",
     "exception": false,
     "start_time": "2022-11-18T00:42:31.192665",
     "status": "completed"
    },
    "tags": []
   },
   "source": [
    "### `CLS Amazing movie , super SEP`"
   ]
  },
  {
   "cell_type": "code",
   "execution_count": 13,
   "id": "6f590cbd",
   "metadata": {
    "execution": {
     "iopub.execute_input": "2022-11-18T00:42:31.217380Z",
     "iopub.status.busy": "2022-11-18T00:42:31.216993Z",
     "iopub.status.idle": "2022-11-18T00:42:31.227353Z",
     "shell.execute_reply": "2022-11-18T00:42:31.226360Z"
    },
    "papermill": {
     "duration": 0.022578,
     "end_time": "2022-11-18T00:42:31.230520",
     "exception": false,
     "start_time": "2022-11-18T00:42:31.207942",
     "status": "completed"
    },
    "tags": []
   },
   "outputs": [
    {
     "name": "stdout",
     "output_type": "stream",
     "text": [
      "\n",
      "input_type_ids \n",
      " Shape : (1, 128) \n",
      "Matrix\n",
      " [[0 0 0 0 0 0 0 0 0 0 0 0 0 0 0 0 0 0 0 0 0 0 0 0 0 0 0 0 0 0 0 0 0 0 0 0\n",
      "  0 0 0 0 0 0 0 0 0 0 0 0 0 0 0 0 0 0 0 0 0 0 0 0 0 0 0 0 0 0 0 0 0 0 0 0\n",
      "  0 0 0 0 0 0 0 0 0 0 0 0 0 0 0 0 0 0 0 0 0 0 0 0 0 0 0 0 0 0 0 0 0 0 0 0\n",
      "  0 0 0 0 0 0 0 0 0 0 0 0 0 0 0 0 0 0 0 0]]\n",
      "\n",
      "input_word_ids \n",
      " Shape : (1, 128) \n",
      "Matrix\n",
      " [[ 101 6429 3185 1010 3565  102    0    0    0    0    0    0    0    0\n",
      "     0    0    0    0    0    0    0    0    0    0    0    0    0    0\n",
      "     0    0    0    0    0    0    0    0    0    0    0    0    0    0\n",
      "     0    0    0    0    0    0    0    0    0    0    0    0    0    0\n",
      "     0    0    0    0    0    0    0    0    0    0    0    0    0    0\n",
      "     0    0    0    0    0    0    0    0    0    0    0    0    0    0\n",
      "     0    0    0    0    0    0    0    0    0    0    0    0    0    0\n",
      "     0    0    0    0    0    0    0    0    0    0    0    0    0    0\n",
      "     0    0    0    0    0    0    0    0    0    0    0    0    0    0\n",
      "     0    0]]\n",
      "\n",
      "input_mask \n",
      " Shape : (1, 128) \n",
      "Matrix\n",
      " [[1 1 1 1 1 1 0 0 0 0 0 0 0 0 0 0 0 0 0 0 0 0 0 0 0 0 0 0 0 0 0 0 0 0 0 0\n",
      "  0 0 0 0 0 0 0 0 0 0 0 0 0 0 0 0 0 0 0 0 0 0 0 0 0 0 0 0 0 0 0 0 0 0 0 0\n",
      "  0 0 0 0 0 0 0 0 0 0 0 0 0 0 0 0 0 0 0 0 0 0 0 0 0 0 0 0 0 0 0 0 0 0 0 0\n",
      "  0 0 0 0 0 0 0 0 0 0 0 0 0 0 0 0 0 0 0 0]]\n"
     ]
    }
   ],
   "source": [
    "print('\\ninput_type_ids \\n','Shape :',preprocessor['input_type_ids'].shape,'\\nMatrix\\n',preprocessor['input_type_ids'].numpy())\n",
    "print('\\ninput_word_ids \\n','Shape :',preprocessor['input_word_ids'].shape,'\\nMatrix\\n',preprocessor['input_word_ids'].numpy())\n",
    "print('\\ninput_mask \\n','Shape :',preprocessor['input_mask'].shape,'\\nMatrix\\n', preprocessor['input_mask'].numpy())"
   ]
  },
  {
   "cell_type": "markdown",
   "id": "3c2f3165",
   "metadata": {
    "papermill": {
     "duration": 0.007834,
     "end_time": "2022-11-18T00:42:31.247297",
     "exception": false,
     "start_time": "2022-11-18T00:42:31.239463",
     "status": "completed"
    },
    "tags": []
   },
   "source": [
    "### Check the BERT Encoder value"
   ]
  },
  {
   "cell_type": "code",
   "execution_count": 14,
   "id": "8853e6fe",
   "metadata": {
    "execution": {
     "iopub.execute_input": "2022-11-18T00:42:31.264939Z",
     "iopub.status.busy": "2022-11-18T00:42:31.264503Z",
     "iopub.status.idle": "2022-11-18T00:42:32.447230Z",
     "shell.execute_reply": "2022-11-18T00:42:32.446189Z"
    },
    "papermill": {
     "duration": 1.194,
     "end_time": "2022-11-18T00:42:32.449481",
     "exception": false,
     "start_time": "2022-11-18T00:42:31.255481",
     "status": "completed"
    },
    "tags": []
   },
   "outputs": [
    {
     "data": {
      "text/plain": [
       "dict_keys(['encoder_outputs', 'sequence_output', 'pooled_output', 'default'])"
      ]
     },
     "execution_count": 14,
     "metadata": {},
     "output_type": "execute_result"
    }
   ],
   "source": [
    "Encoder = bert_encoder(preprocessor)\n",
    "Encoder.keys()"
   ]
  },
  {
   "cell_type": "code",
   "execution_count": 15,
   "id": "1525af4a",
   "metadata": {
    "execution": {
     "iopub.execute_input": "2022-11-18T00:42:32.467947Z",
     "iopub.status.busy": "2022-11-18T00:42:32.467541Z",
     "iopub.status.idle": "2022-11-18T00:42:32.481018Z",
     "shell.execute_reply": "2022-11-18T00:42:32.480232Z"
    },
    "papermill": {
     "duration": 0.02509,
     "end_time": "2022-11-18T00:42:32.482888",
     "exception": false,
     "start_time": "2022-11-18T00:42:32.457798",
     "status": "completed"
    },
    "tags": []
   },
   "outputs": [
    {
     "data": {
      "text/plain": [
       "<tf.Tensor: shape=(1, 768), dtype=float32, numpy=\n",
       "array([[-0.8408587 , -0.42045587, -0.8464164 ,  0.65676934,  0.604676  ,\n",
       "        -0.19671197,  0.8160436 ,  0.19800909, -0.72023517, -0.99994195,\n",
       "        -0.46657524,  0.866401  ,  0.9649077 ,  0.39229771,  0.86678106,\n",
       "        -0.65357465, -0.31811884, -0.5556684 ,  0.35521817, -0.37095663,\n",
       "         0.72209895,  0.99992687,  0.22844192,  0.21341476,  0.46579152,\n",
       "         0.96549284, -0.8290586 ,  0.880514  ,  0.9328118 ,  0.73696333,\n",
       "        -0.59841436,  0.11375102, -0.9839795 , -0.29258388, -0.90887   ,\n",
       "        -0.98650306,  0.30324864, -0.7102465 ,  0.01472446,  0.04887506,\n",
       "        -0.84173554,  0.26598442,  0.9998738 , -0.06954353,  0.18741927,\n",
       "        -0.14819263, -0.99999833,  0.11251041, -0.8233195 ,  0.82611984,\n",
       "         0.7524895 ,  0.6246767 ,  0.15382712,  0.48116982,  0.37244958,\n",
       "        -0.11545344,  0.00654148,  0.09571902, -0.20923522, -0.5517341 ,\n",
       "        -0.4746632 ,  0.32082403, -0.8240155 , -0.87861735,  0.8624712 ,\n",
       "         0.76297826, -0.11989516, -0.33684027, -0.01798305, -0.13156809,\n",
       "         0.7585707 ,  0.307306  ,  0.06319025, -0.8631619 ,  0.3377172 ,\n",
       "         0.28693718, -0.538239  ,  1.        , -0.25409636, -0.96510655,\n",
       "         0.8220715 ,  0.5515983 ,  0.44751358, -0.15258811,  0.5515114 ,\n",
       "        -1.        ,  0.45519474, -0.11642189, -0.9885229 ,  0.12186136,\n",
       "         0.5691843 , -0.24309799,  0.6146746 ,  0.45306662, -0.6305612 ,\n",
       "        -0.40048584, -0.2543895 , -0.751901  , -0.3972875 , -0.48439193,\n",
       "        -0.04152343, -0.27477294, -0.2683323 , -0.26978186,  0.18237564,\n",
       "        -0.32514787, -0.26409873,  0.50825155,  0.06242931,  0.65654343,\n",
       "         0.32535163, -0.3429906 ,  0.51120657, -0.93807954,  0.6029266 ,\n",
       "        -0.14619899, -0.9785455 , -0.49175316, -0.9875472 ,  0.6925453 ,\n",
       "        -0.28392103, -0.33498743,  0.9338842 , -0.3032627 ,  0.25841644,\n",
       "         0.03051505, -0.5670565 , -1.        , -0.581335  , -0.30920288,\n",
       "        -0.13288854, -0.27373686, -0.9587022 , -0.9428911 ,  0.5914784 ,\n",
       "         0.9322772 ,  0.07130705,  0.9995443 , -0.20176816,  0.9304285 ,\n",
       "        -0.25736678, -0.64535105,  0.54691726, -0.3390939 ,  0.7018358 ,\n",
       "         0.13081002, -0.501479  ,  0.25781873, -0.1936282 ,  0.05115252,\n",
       "        -0.6119211 , -0.23028351, -0.68256015, -0.9101747 , -0.2041068 ,\n",
       "         0.9292096 , -0.45451865, -0.82803553, -0.10555436, -0.10094055,\n",
       "        -0.3572506 ,  0.76470315,  0.6296977 ,  0.3097128 , -0.26799396,\n",
       "         0.35343117,  0.2083923 ,  0.3330315 , -0.6382175 ,  0.16496722,\n",
       "         0.42474723, -0.3029551 , -0.80953836, -0.9724045 , -0.41232935,\n",
       "         0.5109763 ,  0.98138165,  0.63245296,  0.15629663,  0.4438128 ,\n",
       "        -0.2051146 ,  0.58307123, -0.95056164,  0.9742212 , -0.31471384,\n",
       "         0.27447748, -0.25364465,  0.43123996, -0.8073252 ,  0.23612547,\n",
       "         0.70198476, -0.59090275, -0.7973279 , -0.05501947, -0.4870488 ,\n",
       "        -0.28852442, -0.69310415,  0.5163258 , -0.27915958, -0.28585866,\n",
       "        -0.1453689 ,  0.9006971 ,  0.92923445,  0.61973125,  0.1504753 ,\n",
       "         0.5120726 , -0.8725531 , -0.5136702 , -0.0472553 ,  0.18362167,\n",
       "         0.3976059 ,  0.98833805, -0.4375871 , -0.16231814, -0.8964771 ,\n",
       "        -0.9857524 , -0.07011271, -0.86532766, -0.15084371, -0.649176  ,\n",
       "         0.44252822, -0.11062603,  0.3167555 ,  0.34704983, -0.9570834 ,\n",
       "        -0.7590922 ,  0.33858433, -0.29106936,  0.4487412 , -0.07392067,\n",
       "         0.667273  ,  0.9272803 , -0.49642608,  0.5287002 ,  0.90281034,\n",
       "        -0.8300209 , -0.77947646,  0.68587005, -0.3179764 ,  0.8459467 ,\n",
       "        -0.55216044,  0.98522735,  0.8643423 ,  0.7486266 , -0.9073364 ,\n",
       "        -0.7061796 , -0.82601994, -0.61571896, -0.18678331, -0.04499004,\n",
       "         0.7852026 ,  0.41042563,  0.3651746 ,  0.29869512, -0.3870902 ,\n",
       "         0.9912703 , -0.81775826, -0.9432545 , -0.4791975 , -0.0558466 ,\n",
       "        -0.9821559 ,  0.67352235,  0.3677285 ,  0.29646707, -0.32868648,\n",
       "        -0.39276406, -0.93100506,  0.82452756,  0.15652995,  0.95805395,\n",
       "        -0.19399077, -0.803389  , -0.45073602, -0.9272859 , -0.13079819,\n",
       "        -0.16505715, -0.34491742, -0.05103257, -0.9137878 ,  0.458719  ,\n",
       "         0.31577572,  0.3585816 , -0.6300081 ,  0.99520457,  0.9999995 ,\n",
       "         0.95858216,  0.86064506,  0.803784  , -0.99926966, -0.6530732 ,\n",
       "         0.99997234, -0.98123693, -1.        , -0.88316596, -0.6924329 ,\n",
       "         0.2958358 , -1.        , -0.04687638,  0.00469165, -0.91694456,\n",
       "         0.39969838,  0.95797735,  0.97246283, -1.        ,  0.73254067,\n",
       "         0.9130296 , -0.5091215 ,  0.9359643 , -0.15006496,  0.95255035,\n",
       "         0.513335  ,  0.32304594, -0.13236307,  0.44434375, -0.91950035,\n",
       "        -0.793541  , -0.5130109 , -0.6971895 ,  0.99403715,  0.1716235 ,\n",
       "        -0.7487741 , -0.9241483 ,  0.39765444, -0.21200724,  0.11686697,\n",
       "        -0.9473549 , -0.11238051,  0.3214976 ,  0.72837853,  0.21968867,\n",
       "         0.19066736, -0.61871326,  0.22346276,  0.02900545,  0.24495926,\n",
       "         0.5185287 , -0.90863264, -0.5776542 , -0.5477367 , -0.36072978,\n",
       "        -0.5079132 , -0.9497082 ,  0.93952715, -0.4715804 ,  0.48452294,\n",
       "         1.        ,  0.01461992, -0.81702226,  0.57899195,  0.16460064,\n",
       "        -0.24343915,  1.        ,  0.8299052 , -0.97556597, -0.40877303,\n",
       "         0.5503393 , -0.49805725, -0.4855002 ,  0.9982134 , -0.32019967,\n",
       "        -0.5473511 , -0.06473853,  0.97912633, -0.98814726,  0.9872056 ,\n",
       "        -0.83361614, -0.9598111 ,  0.9498412 ,  0.9127594 , -0.5833953 ,\n",
       "        -0.6188446 ,  0.1350514 , -0.61580026,  0.3353836 , -0.8974165 ,\n",
       "         0.7308733 ,  0.37570763, -0.0683687 ,  0.8281207 , -0.7597454 ,\n",
       "        -0.44991413,  0.31361228, -0.7067389 , -0.0737679 ,  0.8688288 ,\n",
       "         0.5102976 , -0.21649835,  0.0482984 , -0.38826466, -0.1017416 ,\n",
       "        -0.9611519 ,  0.5906807 ,  1.        , -0.3817196 ,  0.51845646,\n",
       "        -0.39731985, -0.09298405, -0.06611562,  0.41860762,  0.60454977,\n",
       "        -0.23204567, -0.79507774,  0.56367385, -0.8771605 , -0.98643756,\n",
       "         0.7711097 ,  0.31053898, -0.16685419,  0.99994504,  0.54539657,\n",
       "         0.19857262,  0.38287687,  0.9543129 , -0.11365817,  0.50837606,\n",
       "         0.7584086 ,  0.95450294, -0.19225869,  0.41356292,  0.76734215,\n",
       "        -0.7506186 , -0.2780485 , -0.6026246 ,  0.12503552, -0.89982975,\n",
       "        -0.04178411, -0.9461744 ,  0.9536132 ,  0.80237126,  0.358436  ,\n",
       "         0.20427659,  0.65554637,  1.        , -0.47537687,  0.58106947,\n",
       "         0.00354294,  0.6528953 , -0.9993049 , -0.62322366, -0.41140687,\n",
       "         0.09378459, -0.7720423 , -0.21368222,  0.27498764, -0.9587231 ,\n",
       "         0.6443021 ,  0.5018947 , -0.94458896, -0.98154217, -0.3007995 ,\n",
       "         0.67859954, -0.05202095, -0.9721482 , -0.5746038 , -0.4433043 ,\n",
       "         0.3642551 , -0.26114073, -0.9295725 ,  0.04562683, -0.19181156,\n",
       "         0.44437167, -0.22739734,  0.4525322 ,  0.6430579 ,  0.69070125,\n",
       "        -0.6272246 , -0.27670556, -0.12264363, -0.78242224,  0.735803  ,\n",
       "        -0.7261698 , -0.79421747, -0.07509542,  1.        , -0.30423754,\n",
       "         0.82587075,  0.6237958 ,  0.6790341 , -0.23174465,  0.20957428,\n",
       "         0.89544576,  0.18441635, -0.71329284, -0.63846767, -0.40366945,\n",
       "        -0.29330575,  0.5590383 ,  0.38108724,  0.61425334,  0.77185947,\n",
       "         0.59029746,  0.26057634, -0.01247626, -0.05673744,  0.9974553 ,\n",
       "        -0.0248529 , -0.20026033, -0.5570852 ,  0.01548831, -0.31695986,\n",
       "        -0.14231956,  1.        ,  0.37959895,  0.22793911, -0.9869601 ,\n",
       "        -0.72577703, -0.85061634,  0.9999982 ,  0.87035644, -0.72750056,\n",
       "         0.57992804,  0.6181004 , -0.1249016 ,  0.5869651 , -0.22441183,\n",
       "        -0.23555325,  0.19984302,  0.16835642,  0.92767894, -0.6220399 ,\n",
       "        -0.9640956 , -0.5574834 ,  0.30280048, -0.9306561 ,  0.9996065 ,\n",
       "        -0.48653397, -0.15516166, -0.2873646 , -0.09567185,  0.12685616,\n",
       "         0.07833505, -0.96794486,  0.01587292,  0.2347271 ,  0.9657244 ,\n",
       "         0.18451016, -0.47384024, -0.8720039 ,  0.68581176,  0.5662643 ,\n",
       "        -0.7327301 , -0.90793395,  0.9579136 , -0.9725979 ,  0.5077852 ,\n",
       "         1.        ,  0.3194882 , -0.15559885,  0.14637625, -0.4407608 ,\n",
       "         0.23102123, -0.48029137,  0.5835083 , -0.93889254, -0.44304496,\n",
       "        -0.2620457 ,  0.31960747, -0.19692415, -0.34580582,  0.5944065 ,\n",
       "         0.2259227 , -0.41327426, -0.5637198 ,  0.10634194,  0.45887446,\n",
       "         0.78723496, -0.260835  , -0.09990491, -0.06931821, -0.00281475,\n",
       "        -0.9229283 , -0.28929085, -0.34108928, -0.999963  ,  0.71031135,\n",
       "        -1.        ,  0.46540835,  0.04087979, -0.1476628 ,  0.7782315 ,\n",
       "         0.48941293,  0.47198182, -0.6386688 , -0.7472021 ,  0.50898707,\n",
       "         0.7068755 , -0.26402742, -0.20057507, -0.58854157,  0.27474535,\n",
       "        -0.01277275,  0.4251209 , -0.5885052 ,  0.5579422 , -0.13578986,\n",
       "         1.        ,  0.1860582 , -0.31804678, -0.9352104 ,  0.23170397,\n",
       "        -0.17108397,  1.        , -0.79276156, -0.94901294,  0.2933839 ,\n",
       "        -0.7244354 , -0.75538427,  0.28536236, -0.06887733, -0.7805136 ,\n",
       "        -0.91251147,  0.88011795,  0.8297969 , -0.5383003 ,  0.3629549 ,\n",
       "        -0.28932148, -0.5801498 ,  0.11042789,  0.6909103 ,  0.9857748 ,\n",
       "         0.49199933,  0.69624305, -0.41193056, -0.12989439,  0.94051975,\n",
       "         0.0836987 ,  0.44296923,  0.14747378,  1.        ,  0.26202676,\n",
       "        -0.8995281 ,  0.1379825 , -0.9434505 , -0.19340155, -0.9274862 ,\n",
       "         0.30963436,  0.17690751,  0.85473347, -0.32829565,  0.9277745 ,\n",
       "        -0.5910417 ,  0.01315135, -0.6932816 , -0.22720237,  0.20325056,\n",
       "        -0.9030036 , -0.9813592 , -0.9774624 ,  0.482527  , -0.36250266,\n",
       "         0.05271072,  0.20453344,  0.08926581,  0.3365214 ,  0.40246764,\n",
       "        -1.        ,  0.9200891 ,  0.39794472,  0.8309632 ,  0.9587395 ,\n",
       "         0.6779356 ,  0.53390366,  0.2672659 , -0.9732248 , -0.95085055,\n",
       "        -0.31375635, -0.28648722,  0.649628  ,  0.55993885,  0.83656627,\n",
       "         0.49062812, -0.46955788, -0.30809334, -0.5290103 , -0.8155041 ,\n",
       "        -0.9928576 ,  0.47532716, -0.35747483, -0.8993332 ,  0.9404727 ,\n",
       "        -0.08786049, -0.11093253,  0.00654256, -0.61873615,  0.89858145,\n",
       "         0.83024526,  0.32776356,  0.07171521,  0.4975029 ,  0.88451356,\n",
       "         0.89105165,  0.9699156 , -0.78022444,  0.68617445, -0.47893304,\n",
       "         0.53747314,  0.68034977, -0.9325422 ,  0.01087856,  0.3420976 ,\n",
       "        -0.42156225,  0.24735576, -0.31320527, -0.9178322 ,  0.34115562,\n",
       "        -0.17814475,  0.6492501 , -0.25048766,  0.02378643, -0.397215  ,\n",
       "        -0.10014882, -0.7062767 , -0.711866  ,  0.6050789 ,  0.2330515 ,\n",
       "         0.87701637,  0.76363087, -0.16777712, -0.633288  , -0.15566975,\n",
       "        -0.65754396, -0.9102006 ,  0.73355305, -0.0341548 , -0.25881886,\n",
       "         0.48914042,  0.11866762,  0.6810059 ,  0.11695402, -0.29730827,\n",
       "        -0.38711008, -0.59869283,  0.752025  , -0.1599668 , -0.57353956,\n",
       "        -0.6219742 ,  0.72564894,  0.21275596,  0.9999311 , -0.7069323 ,\n",
       "        -0.8165976 , -0.21765032, -0.35504192,  0.29433095, -0.37666175,\n",
       "        -1.        ,  0.29983366, -0.39200664,  0.59148943, -0.71939826,\n",
       "         0.73599017, -0.4378437 , -0.9669631 , -0.17824389,  0.3572897 ,\n",
       "         0.5935687 , -0.514649  , -0.65739584,  0.3819801 , -0.06249175,\n",
       "         0.9212766 ,  0.7966376 , -0.22991255,  0.18858676,  0.50612384,\n",
       "        -0.7156129 , -0.5649255 ,  0.8659559 ]], dtype=float32)>"
      ]
     },
     "execution_count": 15,
     "metadata": {},
     "output_type": "execute_result"
    }
   ],
   "source": [
    "#Encoder['sequence_output']\n",
    "#Encoder['default']\n",
    "#Encoder['encoder_outputs']\n",
    "Encoder['pooled_output'].shape\n",
    "Encoder['pooled_output']"
   ]
  },
  {
   "cell_type": "markdown",
   "id": "8afe5e28",
   "metadata": {
    "papermill": {
     "duration": 0.008031,
     "end_time": "2022-11-18T00:42:32.499378",
     "exception": false,
     "start_time": "2022-11-18T00:42:32.491347",
     "status": "completed"
    },
    "tags": []
   },
   "source": [
    "## Build the Model"
   ]
  },
  {
   "cell_type": "code",
   "execution_count": 16,
   "id": "70323ad2",
   "metadata": {
    "execution": {
     "iopub.execute_input": "2022-11-18T00:42:32.517742Z",
     "iopub.status.busy": "2022-11-18T00:42:32.517109Z",
     "iopub.status.idle": "2022-11-18T00:42:33.398529Z",
     "shell.execute_reply": "2022-11-18T00:42:33.397325Z"
    },
    "papermill": {
     "duration": 0.893279,
     "end_time": "2022-11-18T00:42:33.400749",
     "exception": false,
     "start_time": "2022-11-18T00:42:32.507470",
     "status": "completed"
    },
    "tags": []
   },
   "outputs": [
    {
     "name": "stdout",
     "output_type": "stream",
     "text": [
      "Model: \"model\"\n",
      "__________________________________________________________________________________________________\n",
      " Layer (type)                   Output Shape         Param #     Connected to                     \n",
      "==================================================================================================\n",
      " text (InputLayer)              [(None,)]            0           []                               \n",
      "                                                                                                  \n",
      " keras_layer (KerasLayer)       {'input_word_ids':   0           ['text[0][0]']                   \n",
      "                                (None, 128),                                                      \n",
      "                                 'input_mask': (Non                                               \n",
      "                                e, 128),                                                          \n",
      "                                 'input_type_ids':                                                \n",
      "                                (None, 128)}                                                      \n",
      "                                                                                                  \n",
      " keras_layer_1 (KerasLayer)     {'encoder_outputs':  109482241   ['keras_layer[0][0]',            \n",
      "                                 [(None, 128, 768),               'keras_layer[0][1]',            \n",
      "                                 (None, 128, 768),                'keras_layer[0][2]']            \n",
      "                                 (None, 128, 768),                                                \n",
      "                                 (None, 128, 768),                                                \n",
      "                                 (None, 128, 768),                                                \n",
      "                                 (None, 128, 768),                                                \n",
      "                                 (None, 128, 768),                                                \n",
      "                                 (None, 128, 768),                                                \n",
      "                                 (None, 128, 768),                                                \n",
      "                                 (None, 128, 768),                                                \n",
      "                                 (None, 128, 768),                                                \n",
      "                                 (None, 128, 768)],                                               \n",
      "                                 'sequence_output':                                               \n",
      "                                 (None, 128, 768),                                                \n",
      "                                 'pooled_output': (                                               \n",
      "                                None, 768),                                                       \n",
      "                                 'default': (None,                                                \n",
      "                                768)}                                                             \n",
      "                                                                                                  \n",
      " dropout (Dropout)              (None, 768)          0           ['keras_layer_1[0][13]']         \n",
      "                                                                                                  \n",
      " output (Dense)                 (None, 1)            769         ['dropout[0][0]']                \n",
      "                                                                                                  \n",
      "==================================================================================================\n",
      "Total params: 109,483,010\n",
      "Trainable params: 769\n",
      "Non-trainable params: 109,482,241\n",
      "__________________________________________________________________________________________________\n"
     ]
    }
   ],
   "source": [
    "def build_model():\n",
    "    text_input = tf.keras.layers.Input(shape =(), dtype = tf.string, name = 'text')\n",
    "    preprocessor = bert_preprocessor(text_input)\n",
    "    Encoder = bert_encoder(preprocessor)\n",
    "    \n",
    "    Dropout = tf.keras.layers.Dropout(0.3, name= 'dropout')(Encoder['pooled_output'])\n",
    "    activation = tf.keras.layers.Dense(1,activation = 'sigmoid', name = 'output')(Dropout)\n",
    "    \n",
    "    model = tf.keras.Model(inputs = [text_input], outputs = [activation])\n",
    "    model.compile(optimizer = 'adam',\n",
    "             loss = 'binary_crossentropy',\n",
    "             metrics = ['accuracy'])\n",
    "    return model\n",
    "model = build_model()\n",
    "model.summary()"
   ]
  },
  {
   "cell_type": "markdown",
   "id": "7d070daf",
   "metadata": {
    "papermill": {
     "duration": 0.011198,
     "end_time": "2022-11-18T00:42:33.423770",
     "exception": false,
     "start_time": "2022-11-18T00:42:33.412572",
     "status": "completed"
    },
    "tags": []
   },
   "source": [
    "### Train the model"
   ]
  },
  {
   "cell_type": "code",
   "execution_count": 17,
   "id": "07ee06ae",
   "metadata": {
    "execution": {
     "iopub.execute_input": "2022-11-18T00:42:33.448471Z",
     "iopub.status.busy": "2022-11-18T00:42:33.447655Z",
     "iopub.status.idle": "2022-11-18T08:00:06.580176Z",
     "shell.execute_reply": "2022-11-18T08:00:06.576168Z"
    },
    "papermill": {
     "duration": 26253.382554,
     "end_time": "2022-11-18T08:00:06.817292",
     "exception": false,
     "start_time": "2022-11-18T00:42:33.434738",
     "status": "completed"
    },
    "tags": []
   },
   "outputs": [
    {
     "name": "stdout",
     "output_type": "stream",
     "text": [
      "Epoch 1/3\n",
      "1172/1172 [==============================] - 8721s 7s/step - loss: 0.6375 - accuracy: 0.6358\n",
      "Epoch 2/3\n",
      "1172/1172 [==============================] - 8742s 7s/step - loss: 0.5797 - accuracy: 0.6971\n",
      "Epoch 3/3\n",
      "1172/1172 [==============================] - 8734s 7s/step - loss: 0.5653 - accuracy: 0.7093\n"
     ]
    },
    {
     "data": {
      "text/plain": [
       "<keras.callbacks.History at 0x7f7a9efc3e10>"
      ]
     },
     "execution_count": 17,
     "metadata": {},
     "output_type": "execute_result"
    }
   ],
   "source": [
    "model.fit(x_train, y_train, epochs = 3)"
   ]
  },
  {
   "cell_type": "markdown",
   "id": "f3577e9a",
   "metadata": {
    "papermill": {
     "duration": 0.22486,
     "end_time": "2022-11-18T08:00:07.266113",
     "exception": false,
     "start_time": "2022-11-18T08:00:07.041253",
     "status": "completed"
    },
    "tags": []
   },
   "source": [
    "## Evaluation"
   ]
  },
  {
   "cell_type": "code",
   "execution_count": 18,
   "id": "70f5d29b",
   "metadata": {
    "execution": {
     "iopub.execute_input": "2022-11-18T08:00:07.726749Z",
     "iopub.status.busy": "2022-11-18T08:00:07.725927Z",
     "iopub.status.idle": "2022-11-18T08:48:08.046810Z",
     "shell.execute_reply": "2022-11-18T08:48:08.045246Z"
    },
    "papermill": {
     "duration": 2880.557292,
     "end_time": "2022-11-18T08:48:08.049215",
     "exception": false,
     "start_time": "2022-11-18T08:00:07.491923",
     "status": "completed"
    },
    "tags": []
   },
   "outputs": [
    {
     "name": "stdout",
     "output_type": "stream",
     "text": [
      "391/391 [==============================] - 2880s 7s/step - loss: 0.5253 - accuracy: 0.7528\n",
      "The accuracy of model on unknown data is 75.28 %\n"
     ]
    }
   ],
   "source": [
    "loss, accuracy = model.evaluate(x_test, y_test)\n",
    "print('The accuracy of model on unknown data is',round((accuracy*100),2),'%')"
   ]
  },
  {
   "cell_type": "code",
   "execution_count": 19,
   "id": "ed01e75b",
   "metadata": {
    "execution": {
     "iopub.execute_input": "2022-11-18T08:48:08.546883Z",
     "iopub.status.busy": "2022-11-18T08:48:08.545350Z",
     "iopub.status.idle": "2022-11-18T09:36:31.621961Z",
     "shell.execute_reply": "2022-11-18T09:36:31.620758Z"
    },
    "papermill": {
     "duration": 2903.59236,
     "end_time": "2022-11-18T09:36:31.889321",
     "exception": false,
     "start_time": "2022-11-18T08:48:08.296961",
     "status": "completed"
    },
    "tags": []
   },
   "outputs": [
    {
     "name": "stdout",
     "output_type": "stream",
     "text": [
      "Predicted Label : ['Negative', 'Negative', 'Negative', 'Negative', 'Negative', 'Negative', 'Negative', 'Negative', 'Negative', 'Negative']\n",
      "Actual Label    : ['positive', 'Negative', 'Negative', 'Negative', 'positive', 'positive', 'Negative', 'Negative', 'Negative', 'Negative']\n"
     ]
    }
   ],
   "source": [
    "# Predict the label\n",
    "y_predicted = model.predict(x_test)\n",
    "\n",
    "# Get the maximum value integer as the output for the predicted value \n",
    "label = {\n",
    "    1:'positive',\n",
    "    0:'Negative'\n",
    "}\n",
    "pred_labels = [label[np.argmax(i)] for i in y_predicted]\n",
    "Actual = [label[i] for i in y_test]\n",
    "print('Predicted Label :',pred_labels[:10])\n",
    "print('Actual Label    :',Actual[:10])"
   ]
  },
  {
   "cell_type": "markdown",
   "id": "6cb60989",
   "metadata": {
    "papermill": {
     "duration": 0.257464,
     "end_time": "2022-11-18T09:36:32.399275",
     "exception": false,
     "start_time": "2022-11-18T09:36:32.141811",
     "status": "completed"
    },
    "tags": []
   },
   "source": [
    "## Classification Report"
   ]
  },
  {
   "cell_type": "code",
   "execution_count": 20,
   "id": "4395e8c0",
   "metadata": {
    "execution": {
     "iopub.execute_input": "2022-11-18T09:36:32.899710Z",
     "iopub.status.busy": "2022-11-18T09:36:32.899336Z",
     "iopub.status.idle": "2022-11-18T09:36:33.091356Z",
     "shell.execute_reply": "2022-11-18T09:36:33.089716Z"
    },
    "papermill": {
     "duration": 0.446101,
     "end_time": "2022-11-18T09:36:33.094261",
     "exception": false,
     "start_time": "2022-11-18T09:36:32.648160",
     "status": "completed"
    },
    "tags": []
   },
   "outputs": [
    {
     "name": "stdout",
     "output_type": "stream",
     "text": [
      "Classification Report: \n",
      "               precision    recall  f1-score   support\n",
      "\n",
      "    Negative       0.50      1.00      0.67      6250\n",
      "    positive       0.00      0.00      0.00      6250\n",
      "\n",
      "    accuracy                           0.50     12500\n",
      "   macro avg       0.25      0.50      0.33     12500\n",
      "weighted avg       0.25      0.50      0.33     12500\n",
      "\n"
     ]
    },
    {
     "name": "stderr",
     "output_type": "stream",
     "text": [
      "/opt/conda/lib/python3.7/site-packages/sklearn/metrics/_classification.py:1318: UndefinedMetricWarning: Precision and F-score are ill-defined and being set to 0.0 in labels with no predicted samples. Use `zero_division` parameter to control this behavior.\n",
      "  _warn_prf(average, modifier, msg_start, len(result))\n",
      "/opt/conda/lib/python3.7/site-packages/sklearn/metrics/_classification.py:1318: UndefinedMetricWarning: Precision and F-score are ill-defined and being set to 0.0 in labels with no predicted samples. Use `zero_division` parameter to control this behavior.\n",
      "  _warn_prf(average, modifier, msg_start, len(result))\n",
      "/opt/conda/lib/python3.7/site-packages/sklearn/metrics/_classification.py:1318: UndefinedMetricWarning: Precision and F-score are ill-defined and being set to 0.0 in labels with no predicted samples. Use `zero_division` parameter to control this behavior.\n",
      "  _warn_prf(average, modifier, msg_start, len(result))\n"
     ]
    }
   ],
   "source": [
    "print(\"Classification Report: \\n\", classification_report(Actual, pred_labels))"
   ]
  },
  {
   "cell_type": "code",
   "execution_count": 21,
   "id": "2898e1c2",
   "metadata": {
    "execution": {
     "iopub.execute_input": "2022-11-18T09:36:33.604201Z",
     "iopub.status.busy": "2022-11-18T09:36:33.603730Z",
     "iopub.status.idle": "2022-11-18T09:36:35.231587Z",
     "shell.execute_reply": "2022-11-18T09:36:35.230883Z"
    },
    "papermill": {
     "duration": 1.885104,
     "end_time": "2022-11-18T09:36:35.233641",
     "exception": false,
     "start_time": "2022-11-18T09:36:33.348537",
     "status": "completed"
    },
    "tags": []
   },
   "outputs": [
    {
     "data": {
      "text/plain": [
       "array([[0.7600496],\n",
       "       [0.3973584]], dtype=float32)"
      ]
     },
     "execution_count": 21,
     "metadata": {},
     "output_type": "execute_result"
    }
   ],
   "source": [
    "Text =[\n",
    "    'Amazing movie, super',\n",
    "    'Vey Boring'\n",
    "]\n",
    "\n",
    "model.predict(Text)"
   ]
  }
 ],
 "metadata": {
  "kernelspec": {
   "display_name": "Python 3",
   "language": "python",
   "name": "python3"
  },
  "language_info": {
   "codemirror_mode": {
    "name": "ipython",
    "version": 3
   },
   "file_extension": ".py",
   "mimetype": "text/x-python",
   "name": "python",
   "nbconvert_exporter": "python",
   "pygments_lexer": "ipython3",
   "version": "3.7.12"
  },
  "papermill": {
   "default_parameters": {},
   "duration": 32161.887777,
   "end_time": "2022-11-18T09:36:38.463149",
   "environment_variables": {},
   "exception": null,
   "input_path": "__notebook__.ipynb",
   "output_path": "__notebook__.ipynb",
   "parameters": {},
   "start_time": "2022-11-18T00:40:36.575372",
   "version": "2.3.4"
  }
 },
 "nbformat": 4,
 "nbformat_minor": 5
}
