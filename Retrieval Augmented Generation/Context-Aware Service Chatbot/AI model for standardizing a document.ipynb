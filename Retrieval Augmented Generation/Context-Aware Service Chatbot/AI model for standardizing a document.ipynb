{
 "cells": [
  {
   "cell_type": "code",
   "execution_count": 1,
   "id": "fc075061",
   "metadata": {},
   "outputs": [],
   "source": [
    "from Service_Manual_openai import RetrievalAugmentedGeneration\n",
    "\n",
    "chatbot = RetrievalAugmentedGeneration('secrets.json')"
   ]
  },
  {
   "cell_type": "code",
   "execution_count": 2,
   "id": "f8724c7b",
   "metadata": {},
   "outputs": [
    {
     "name": "stderr",
     "output_type": "stream",
     "text": [
      "Loading documents:   0%|                                  | 0/1 [00:00<?, ?it/s]\n",
      "100%|██████████████████████████████████████| 90/90 [00:00<00:00, 1179648.00it/s]\u001b[A\n",
      "\n",
      "Reading PDF file: 100%|██████████████████████| 90/90 [00:00<00:00, 10200.71it/s]\u001b[A\n",
      "Loading documents: 100%|██████████████████████████| 1/1 [00:00<00:00,  1.26it/s]\n"
     ]
    }
   ],
   "source": [
    "massages=chatbot.load_documents(['Help files India DECU machines.pdf'])\n",
    "massages"
   ]
  },
  {
   "cell_type": "code",
   "execution_count": 3,
   "id": "fbde38a2",
   "metadata": {},
   "outputs": [],
   "source": [
    "prompt_template = \"\"\"\n",
    "<|start_header_id|>user<|end_header_id|>\n",
    "You are an assistant to provide the help for the query based on the given document in as below format.\n",
    "\n",
    "First Identify the main issues or problem by the given DTC code or exact issues.\n",
    "\n",
    "Then provide the result as per the below format clearly.\n",
    "\n",
    "  - DTC code: The issue numbere designated for the particular problem with short one line descriptions.\n",
    "  - Reason of happenning: Discuss the possible cause pointwise.\n",
    "  - How to diagnose it: Discuss how to perform diagnosis stepwise for the given problem or issue number.\n",
    "  - Stepwise Corrective Action: Discuss how to take preventive measure or how to deal with that particular isses stepwise to correct it.\n",
    "\n",
    "Note: \n",
    " 1. DTC code is the unique identity number designated for the particular type of issues.\n",
    " 2. If no relevant context or answer is found in the provided documents, please specify that no result has been found.\n",
    "--------------------------------\n",
    "Context: {context}\n",
    "Question: {input}\n",
    "\"\"\""
   ]
  },
  {
   "cell_type": "code",
   "execution_count": 4,
   "id": "28064e7b",
   "metadata": {},
   "outputs": [
    {
     "name": "stdout",
     "output_type": "stream",
     "text": [
      "Result saved as Result/C131A-64.docx\n",
      "DTC code: C131A-64 - Lever lock switches Plausibility Error.\n",
      "\n",
      "Reason of happening:\n",
      "1. Control enable limit switch not connected to wire harness.\n",
      "2. Faulty limit switch.\n",
      "3. Faulty wire harness.\n",
      "4. Wrong fitment of limit switch.\n",
      "5. Limit switch 3A fuse blown off.\n",
      "\n",
      "How to diagnose it:\n",
      "1. Check the wire harness connection with the limit switch.\n",
      "2. Verify the physical fitment of the limit switch.\n",
      "3. Check voltage in wire no. 8051 (Cavity no. 31) and wire no. 8018 (Cavity no.27) when the control isolation lever is up and down.\n",
      "4. Refer to the 336/F3635 electrical circuit for the limit switch connection.\n",
      "\n",
      "Stepwise Corrective Action:\n",
      "1. Connect the control enable limit switch to the wire harness if disconnected.\n",
      "2. Replace the faulty limit switch.\n",
      "3. Inspect and replace the faulty wire harness if needed.\n",
      "4. Ensure correct fitment of the limit switch.\n",
      "5. Replace the blown limit switch 3A fuse if necessary.\n"
     ]
    }
   ],
   "source": [
    "# Example query\n",
    "question = \"C131A-64\"\n",
    "\n",
    "# Get the response\n",
    "response = chatbot.question_answering(question,prompt_template)\n",
    "print(response)"
   ]
  },
  {
   "cell_type": "code",
   "execution_count": 6,
   "id": "c7b3b505",
   "metadata": {},
   "outputs": [
    {
     "name": "stdout",
     "output_type": "stream",
     "text": [
      "Result saved as Result/C1301-13:- Power Boost solenoid open circuit..docx\n",
      "DTC code: C1301-13 - Power Boost solenoid open circuit.\n",
      "\n",
      "Reason of happening:\n",
      "1. Faulty solenoid coil.\n",
      "2. Power boost solenoid wire harness open circuited.\n",
      "3. Terminal back out at connector end.\n",
      "\n",
      "How to diagnose it:\n",
      "1. Check the Power boost solenoid coil resistance by using a multimeter. Resistance values should be around 37 ohms.\n",
      "2. Check the wire harness connectivity with the solenoid using a multimeter.\n",
      "3. Check circuit no. 4049 & 1005 in the wire harness connector for any terminal back out or wire disconnection.\n",
      "\n",
      "Stepwise Corrective Action:\n",
      "1. Replace the faulty solenoid coil.\n",
      "2. Connect the wire harness with the power boost solenoid correctly or replace the wire harness.\n"
     ]
    }
   ],
   "source": [
    "# Example query\n",
    "question = \"C1301-13:- Power Boost solenoid open circuit.\"\n",
    "\n",
    "# Get the response\n",
    "response = chatbot.question_answering(question,prompt_template)\n",
    "print(response)"
   ]
  },
  {
   "cell_type": "code",
   "execution_count": 7,
   "id": "ae7afe16",
   "metadata": {},
   "outputs": [
    {
     "name": "stdout",
     "output_type": "stream",
     "text": [
      "Result saved as Result/Controls Enable Solenoid Open Circuit.docx\n",
      "DTC code: C1307-13 - Controls Enable Solenoid Open Circuit.\n",
      "\n",
      "Reason of happening:\n",
      "1. Faulty solenoid coil.\n",
      "2. Control isolation solenoid not connected to the wire harness.\n",
      "3. Terminal back out at MECU connector end.\n",
      "\n",
      "How to diagnose it:\n",
      "1. Check the control isolation solenoid coil resistance by using a multimeter. Resistance values should be around 37 ohms.\n",
      "2. Check the connectivity of the wire harness with the control enable solenoid.\n",
      "3. Check the circuit no. 8021 on cavity no. 56 and circuit no. 8017 on cavity no. 37 of the MECU wire harness connector for any terminal back out or wire disconnection.\n",
      "\n",
      "Stepwise Corrective Action:\n",
      "1. Replace the faulty solenoid coil.\n",
      "2. Re-connect the wire harness properly with the control isolation solenoid.\n"
     ]
    }
   ],
   "source": [
    "# Example query\n",
    "question = \"Controls Enable Solenoid Open Circuit\"\n",
    "\n",
    "# Get the response\n",
    "response = chatbot.question_answering(question,prompt_template)\n",
    "print(response)"
   ]
  },
  {
   "cell_type": "code",
   "execution_count": 8,
   "id": "41039682",
   "metadata": {},
   "outputs": [
    {
     "name": "stdout",
     "output_type": "stream",
     "text": [
      "Result saved as Result/P0615-11 - Starter relay Short to ground.docx\n",
      "DTC code: P0615-11 - Starter relay Short to ground.\n",
      "\n",
      "Reason of happening:\n",
      "1. Faulty starter relay.\n",
      "2. Faulty wire harness.\n",
      "\n",
      "How to diagnose it:\n",
      "1. Check the starter relay coil resistance. Resistance values should be around 220 ohms.\n",
      "2. Check the connectivity between wire no. 8065 and machine ground (Circuit No. 6086) using a multimeter.\n",
      "3. Check the connectivity between wire no. 8065 and wire no. 6086 in the starter relay base using a multimeter.\n",
      "\n",
      "Stepwise Corrective Action:\n",
      "1. Replace the faulty starter relay.\n",
      "2. Replace the wire harness or correct the short circuit in the wire harness.\n"
     ]
    }
   ],
   "source": [
    "# Example query\n",
    "question = \"P0615-11 - Starter relay Short to ground\"\n",
    "\n",
    "# Get the response\n",
    "response = chatbot.question_answering(question,prompt_template)\n",
    "print(response)"
   ]
  },
  {
   "cell_type": "code",
   "execution_count": 19,
   "id": "f3b8c756",
   "metadata": {},
   "outputs": [
    {
     "name": "stdout",
     "output_type": "stream",
     "text": [
      "4. Remove the MECU connector & check the voltage in wire no. 8051(Cavity no. 31) & wire no. 8018(Cavity \n",
      "no.27).When control isolation lever is down wire no. 8051 shall have 0 V & wire no. 8018(Cavity no.27) shall \n",
      "have 24 volts.  Refer 336/F3635 electrical circuit for limit switch connection.  \n",
      "5. Check the 3A limit switch fuse in CAB FUS E BOX. Refer the fuse box decal to locate the fuse. \n",
      "  \n",
      "Corrective Action: - \n",
      "1. Connect limit switch with machine wire harness . \n",
      "2. Replace wire harness.  \n",
      "3. Replace fuse.\n"
     ]
    }
   ],
   "source": [
    "print(chatbot.documents[-5].dict()['page_content'])"
   ]
  },
  {
   "cell_type": "code",
   "execution_count": 11,
   "id": "39e38648",
   "metadata": {
    "scrolled": true
   },
   "outputs": [
    {
     "data": {
      "text/plain": [
       "[{'role': 'user', 'content': 'C131A-64'},\n",
       " {'role': 'assistant',\n",
       "  'content': '- DTC code: C131A-64 - Lever lock switches Plausibility Error.\\n- Reason of happening:\\n  1. Control enable limit switch not connected to wire harness.\\n  2. Faulty limit switch.\\n  3. Faulty wire harness.\\n  4. Wrong fitment of limit switch.\\n  5. Limit switch 3A fuse blown off.\\n\\n- How to diagnose it:\\n  1. Check the wire harness connection with the limit switch.\\n  2. Verify the physical fitment of the limit switch.\\n  3. Measure the voltage in wire no. 8051 and wire no. 8018 when the control isolation lever is up and down.\\n  4. Refer to the electrical circuit for the limit switch connection.\\n\\n- Stepwise Corrective Action:\\n  1. Ensure the control enable limit switch is properly connected to the wire harness.\\n  2. Replace any faulty limit switch.\\n  3. Repair or replace any faulty wire harness.\\n  4. Verify the correct fitment of the limit switch.\\n  5. Replace the limit switch 3A fuse if blown off.'},\n",
       " {'role': 'user',\n",
       "  'content': 'C131A-64: Lever lock switches Plausibility Error'},\n",
       " {'role': 'assistant',\n",
       "  'content': '- DTC code: C131A-64 - Lever lock switches Plausibility Error.\\n- Reason of happening:\\n  1. Control enable limit switch not connected to wire harness.\\n  2. Faulty limit switch.\\n  3. Faulty wire harness.\\n  4. Wrong fitment of limit switch.\\n  5. Limit switch 3A fuse blown off.\\n\\n- How to diagnose it:\\n  1. Check the wire harness connection with the limit switch.\\n  2. Verify the physical fitment of the limit switch.\\n  3. Measure the voltage in wire no. 8051 and wire no. 8018 when the control isolation lever is up and down.\\n  4. Refer to the electrical circuit for the limit switch connection.\\n\\n- Stepwise Corrective Action:\\n  1. Ensure the control enable limit switch is properly connected to the wire harness.\\n  2. Replace any faulty limit switch.\\n  3. Repair or replace any faulty wire harness.\\n  4. Verify the correct fitment of the limit switch.\\n  5. Replace the limit switch 3A fuse if blown off.'},\n",
       " {'role': 'user', 'content': 'C131A 64'},\n",
       " {'role': 'assistant',\n",
       "  'content': 'No relevant context or answer was found for the query related to \"C131A 64\" in the provided document.'},\n",
       " {'role': 'user', 'content': 'C131A -64'},\n",
       " {'role': 'assistant',\n",
       "  'content': '- DTC code: C131A-64 - Lever lock switches Plausibility Error.\\n- Reason of happening:\\n  1. Control enable limit switch not connected to wire harness.\\n  2. Faulty limit switch.\\n  3. Faulty wire harness.\\n  4. Wrong fitment of limit switch.\\n  5. Limit switch 3A fuse blown off.\\n\\n- How to diagnose it:\\n  1. Check the wire harness connection with the limit switch.\\n  2. Verify the physical fitment of the limit switch.\\n  3. Measure the voltage in wire no. 8051 and wire no. 8018 when the control isolation lever is up and down.\\n  4. Refer to the electrical circuit for the limit switch connection.\\n\\n- Stepwise Corrective Action:\\n  1. Ensure the control enable limit switch is properly connected to the wire harness.\\n  2. Replace any faulty limit switch.\\n  3. Repair or replace any faulty wire harness.\\n  4. Verify the correct fitment of the limit switch.\\n  5. Replace the limit switch 3A fuse if blown off.'},\n",
       " {'role': 'user', 'content': 'C131A-64'},\n",
       " {'role': 'assistant',\n",
       "  'content': 'No relevant context or answer was found for the query related to \"C131A-64\" in the provided document.'},\n",
       " {'role': 'user', 'content': 'C131A-64 Error'},\n",
       " {'role': 'assistant',\n",
       "  'content': '- DTC code: C131A-64 - Lever lock switches Plausibility Error.\\n- Reason of happening:\\n  1. Control enable limit switch not connected to wire harness.\\n  2. Faulty limit switch.\\n  3. Faulty wire harness.\\n  4. Wrong fitment of limit switch.\\n  5. Limit switch 3A fuse blown off.\\n\\n- How to diagnose it:\\n  1. Check the wire harness connection with the limit switch.\\n  2. Verify the physical fitment of the limit switch.\\n  3. Measure the voltage in wire no. 8051 and wire no. 8018 when the control isolation lever is up and down.\\n  4. Refer to the electrical circuit for the limit switch connection.\\n\\n- Stepwise Corrective Action:\\n  1. Ensure the control enable limit switch is properly connected to the wire harness.\\n  2. Replace any faulty limit switch.\\n  3. Repair or replace any faulty wire harness.\\n  4. Verify the correct fitment of the limit switch.\\n  5. Replace the limit switch 3A fuse if blown off.'}]"
      ]
     },
     "execution_count": 11,
     "metadata": {},
     "output_type": "execute_result"
    }
   ],
   "source": [
    "chatbot.history"
   ]
  }
 ],
 "metadata": {
  "kernelspec": {
   "display_name": "Python 3 (ipykernel)",
   "language": "python",
   "name": "python3"
  },
  "language_info": {
   "codemirror_mode": {
    "name": "ipython",
    "version": 3
   },
   "file_extension": ".py",
   "mimetype": "text/x-python",
   "name": "python",
   "nbconvert_exporter": "python",
   "pygments_lexer": "ipython3",
   "version": "3.10.12"
  }
 },
 "nbformat": 4,
 "nbformat_minor": 5
}
