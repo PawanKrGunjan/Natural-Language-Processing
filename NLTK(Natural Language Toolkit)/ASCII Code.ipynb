{
 "cells": [
  {
   "cell_type": "code",
   "execution_count": 1,
   "id": "2987302d",
   "metadata": {},
   "outputs": [
    {
     "data": {
      "text/plain": [
       "65"
      ]
     },
     "execution_count": 1,
     "metadata": {},
     "output_type": "execute_result"
    }
   ],
   "source": [
    "ord('A')"
   ]
  },
  {
   "cell_type": "code",
   "execution_count": 2,
   "id": "d3f7b937",
   "metadata": {},
   "outputs": [
    {
     "data": {
      "text/plain": [
       "'A'"
      ]
     },
     "execution_count": 2,
     "metadata": {},
     "output_type": "execute_result"
    }
   ],
   "source": [
    "chr(65)"
   ]
  },
  {
   "cell_type": "code",
   "execution_count": 64,
   "id": "edf8c51e",
   "metadata": {
    "scrolled": false
   },
   "outputs": [
    {
     "name": "stdout",
     "output_type": "stream",
     "text": [
      "A --> 65 | B --> 66 | C --> 67 | D --> 68 | E --> 69 | F --> 70 | G --> 71 | H --> 72 | I --> 73 | J --> 74 | K --> 75 | L --> 76 | M --> 77 | N --> 78 | O --> 79 | P --> 80 | Q --> 81 | R --> 82 | S --> 83 | T --> 84 | U --> 85 | V --> 86 | W --> 87 | X --> 88 | Y --> 89 | Z --> 90 | "
     ]
    }
   ],
   "source": [
    "for i in range(65,65+26):\n",
    "    print(chr(i),'-->',i,end =' | ')"
   ]
  },
  {
   "cell_type": "code",
   "execution_count": 65,
   "id": "5fd67412",
   "metadata": {},
   "outputs": [
    {
     "name": "stdout",
     "output_type": "stream",
     "text": [
      "97 --> a\n",
      "98 --> b\n",
      "99 --> c\n",
      "100 --> d\n",
      "101 --> e\n",
      "102 --> f\n",
      "103 --> g\n",
      "104 --> h\n",
      "105 --> i\n",
      "106 --> j\n",
      "107 --> k\n",
      "108 --> l\n",
      "109 --> m\n",
      "110 --> n\n",
      "111 --> o\n",
      "112 --> p\n",
      "113 --> q\n",
      "114 --> r\n",
      "115 --> s\n",
      "116 --> t\n",
      "117 --> u\n",
      "118 --> v\n",
      "119 --> w\n",
      "120 --> x\n",
      "121 --> y\n",
      "122 --> z\n"
     ]
    }
   ],
   "source": [
    "for  i in range(97,97+26):\n",
    "    print(i,'-->',chr(i))"
   ]
  },
  {
   "cell_type": "markdown",
   "id": "e828c1d6",
   "metadata": {},
   "source": [
    "### Capitalize"
   ]
  },
  {
   "cell_type": "code",
   "execution_count": 68,
   "id": "f3eb10f8",
   "metadata": {},
   "outputs": [],
   "source": [
    "def capitaliza(txt):\n",
    "    if len(txt) != 0:\n",
    "        return txt[0].upper() + txt[1:].lower()\n",
    "    else:\n",
    "        return None"
   ]
  },
  {
   "cell_type": "code",
   "execution_count": 69,
   "id": "a02da580",
   "metadata": {},
   "outputs": [
    {
     "data": {
      "text/plain": [
       "'Hello, how are you?.'"
      ]
     },
     "execution_count": 69,
     "metadata": {},
     "output_type": "execute_result"
    }
   ],
   "source": [
    "txt = 'Hello, How are you?.'\n",
    "capitaliza(txt)"
   ]
  },
  {
   "cell_type": "markdown",
   "id": "ac850476",
   "metadata": {},
   "source": [
    "### Upper & Lower"
   ]
  },
  {
   "cell_type": "code",
   "execution_count": 77,
   "id": "1b169d43",
   "metadata": {},
   "outputs": [],
   "source": [
    "def upper(txt):\n",
    "    string = ''\n",
    "    for char in txt:\n",
    "        if (ord(char) >= 97 and ord(char) <= 122):\n",
    "            string += chr(ord(char) -32)\n",
    "        else:\n",
    "            string += char\n",
    "            \n",
    "    return string"
   ]
  },
  {
   "cell_type": "code",
   "execution_count": 78,
   "id": "6ac171b8",
   "metadata": {},
   "outputs": [
    {
     "data": {
      "text/plain": [
       "'HELLO, HOW ARE YOU?.'"
      ]
     },
     "execution_count": 78,
     "metadata": {},
     "output_type": "execute_result"
    }
   ],
   "source": [
    "upper(txt)"
   ]
  },
  {
   "cell_type": "code",
   "execution_count": 79,
   "id": "acf003bb",
   "metadata": {},
   "outputs": [],
   "source": [
    "def lower(txt):\n",
    "    string = ''\n",
    "    for char in txt:\n",
    "        if (ord(char) >= 65 and ord(char) <= 90):\n",
    "            string += chr(ord(char) + 32)\n",
    "        else:\n",
    "            string += char\n",
    "            \n",
    "    return string"
   ]
  },
  {
   "cell_type": "code",
   "execution_count": 80,
   "id": "50766c61",
   "metadata": {},
   "outputs": [
    {
     "data": {
      "text/plain": [
       "'hello, how are you?.'"
      ]
     },
     "execution_count": 80,
     "metadata": {},
     "output_type": "execute_result"
    }
   ],
   "source": [
    "lower(txt)"
   ]
  }
 ],
 "metadata": {
  "kernelspec": {
   "display_name": "Python 3 (ipykernel)",
   "language": "python",
   "name": "python3"
  },
  "language_info": {
   "codemirror_mode": {
    "name": "ipython",
    "version": 3
   },
   "file_extension": ".py",
   "mimetype": "text/x-python",
   "name": "python",
   "nbconvert_exporter": "python",
   "pygments_lexer": "ipython3",
   "version": "3.10.5"
  }
 },
 "nbformat": 4,
 "nbformat_minor": 5
}
