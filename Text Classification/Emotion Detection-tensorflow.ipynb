{
 "cells": [
  {
   "cell_type": "markdown",
   "id": "389b27db",
   "metadata": {
    "papermill": {
     "duration": 0.009004,
     "end_time": "2023-05-11T04:19:49.309855",
     "exception": false,
     "start_time": "2023-05-11T04:19:49.300851",
     "status": "completed"
    },
    "tags": []
   },
   "source": [
    "# Import the necessary libraries"
   ]
  },
  {
   "cell_type": "code",
   "execution_count": 1,
   "id": "da8d4a25",
   "metadata": {
    "execution": {
     "iopub.execute_input": "2023-05-11T04:19:49.327572Z",
     "iopub.status.busy": "2023-05-11T04:19:49.326693Z",
     "iopub.status.idle": "2023-05-11T04:19:58.266656Z",
     "shell.execute_reply": "2023-05-11T04:19:58.265573Z"
    },
    "papermill": {
     "duration": 8.95208,
     "end_time": "2023-05-11T04:19:58.269745",
     "exception": false,
     "start_time": "2023-05-11T04:19:49.317665",
     "status": "completed"
    },
    "tags": []
   },
   "outputs": [],
   "source": [
    "# Importing the required libraries\n",
    "import re\n",
    "import numpy as np\n",
    "import pandas as pd\n",
    "from sklearn.preprocessing import OneHotEncoder\n",
    "from keras.models import Sequential,Model\n",
    "from keras.layers import Dense,Bidirectional\n",
    "from tensorflow.keras.preprocessing.sequence import pad_sequences\n",
    "from keras.layers import *"
   ]
  },
  {
   "cell_type": "markdown",
   "id": "6dfa1588",
   "metadata": {
    "papermill": {
     "duration": 0.007051,
     "end_time": "2023-05-11T04:19:58.284301",
     "exception": false,
     "start_time": "2023-05-11T04:19:58.277250",
     "status": "completed"
    },
    "tags": []
   },
   "source": [
    "# Load the dataset"
   ]
  },
  {
   "cell_type": "code",
   "execution_count": 2,
   "id": "53fd8976",
   "metadata": {
    "execution": {
     "iopub.execute_input": "2023-05-11T04:19:58.302187Z",
     "iopub.status.busy": "2023-05-11T04:19:58.300855Z",
     "iopub.status.idle": "2023-05-11T04:19:58.354656Z",
     "shell.execute_reply": "2023-05-11T04:19:58.353597Z"
    },
    "papermill": {
     "duration": 0.06513,
     "end_time": "2023-05-11T04:19:58.357013",
     "exception": false,
     "start_time": "2023-05-11T04:19:58.291883",
     "status": "completed"
    },
    "tags": []
   },
   "outputs": [
    {
     "data": {
      "text/html": [
       "<div>\n",
       "<style scoped>\n",
       "    .dataframe tbody tr th:only-of-type {\n",
       "        vertical-align: middle;\n",
       "    }\n",
       "\n",
       "    .dataframe tbody tr th {\n",
       "        vertical-align: top;\n",
       "    }\n",
       "\n",
       "    .dataframe thead th {\n",
       "        text-align: right;\n",
       "    }\n",
       "</style>\n",
       "<table border=\"1\" class=\"dataframe\">\n",
       "  <thead>\n",
       "    <tr style=\"text-align: right;\">\n",
       "      <th></th>\n",
       "      <th>ID</th>\n",
       "      <th>sentiment</th>\n",
       "      <th>content</th>\n",
       "    </tr>\n",
       "  </thead>\n",
       "  <tbody>\n",
       "    <tr>\n",
       "      <th>0</th>\n",
       "      <td>10941</td>\n",
       "      <td>anger</td>\n",
       "      <td>At the point today where if someone says somet...</td>\n",
       "    </tr>\n",
       "    <tr>\n",
       "      <th>1</th>\n",
       "      <td>10942</td>\n",
       "      <td>anger</td>\n",
       "      <td>@CorningFootball  IT'S GAME DAY!!!!      T MIN...</td>\n",
       "    </tr>\n",
       "    <tr>\n",
       "      <th>2</th>\n",
       "      <td>10943</td>\n",
       "      <td>anger</td>\n",
       "      <td>This game has pissed me off more than any othe...</td>\n",
       "    </tr>\n",
       "    <tr>\n",
       "      <th>3</th>\n",
       "      <td>10944</td>\n",
       "      <td>anger</td>\n",
       "      <td>@spamvicious I've just found out it's Candice ...</td>\n",
       "    </tr>\n",
       "    <tr>\n",
       "      <th>4</th>\n",
       "      <td>10945</td>\n",
       "      <td>anger</td>\n",
       "      <td>@moocowward @mrsajhargreaves @Melly77 @GaryBar...</td>\n",
       "    </tr>\n",
       "  </tbody>\n",
       "</table>\n",
       "</div>"
      ],
      "text/plain": [
       "      ID sentiment                                            content\n",
       "0  10941     anger  At the point today where if someone says somet...\n",
       "1  10942     anger  @CorningFootball  IT'S GAME DAY!!!!      T MIN...\n",
       "2  10943     anger  This game has pissed me off more than any othe...\n",
       "3  10944     anger  @spamvicious I've just found out it's Candice ...\n",
       "4  10945     anger  @moocowward @mrsajhargreaves @Melly77 @GaryBar..."
      ]
     },
     "execution_count": 2,
     "metadata": {},
     "output_type": "execute_result"
    }
   ],
   "source": [
    "df=pd.read_csv('/kaggle/input/isear-dataset/eng_dataset.csv')\n",
    "df.head()"
   ]
  },
  {
   "cell_type": "code",
   "execution_count": 3,
   "id": "40159f35",
   "metadata": {
    "execution": {
     "iopub.execute_input": "2023-05-11T04:19:58.374813Z",
     "iopub.status.busy": "2023-05-11T04:19:58.373053Z",
     "iopub.status.idle": "2023-05-11T04:19:58.381766Z",
     "shell.execute_reply": "2023-05-11T04:19:58.380765Z"
    },
    "papermill": {
     "duration": 0.019379,
     "end_time": "2023-05-11T04:19:58.383987",
     "exception": false,
     "start_time": "2023-05-11T04:19:58.364608",
     "status": "completed"
    },
    "tags": []
   },
   "outputs": [],
   "source": [
    "Sentences = df['content']\n",
    "Sentiments = df['sentiment']"
   ]
  },
  {
   "cell_type": "code",
   "execution_count": 4,
   "id": "10f6018a",
   "metadata": {
    "execution": {
     "iopub.execute_input": "2023-05-11T04:19:58.399882Z",
     "iopub.status.busy": "2023-05-11T04:19:58.399401Z",
     "iopub.status.idle": "2023-05-11T04:19:58.405644Z",
     "shell.execute_reply": "2023-05-11T04:19:58.404650Z"
    },
    "papermill": {
     "duration": 0.016846,
     "end_time": "2023-05-11T04:19:58.408043",
     "exception": false,
     "start_time": "2023-05-11T04:19:58.391197",
     "status": "completed"
    },
    "tags": []
   },
   "outputs": [
    {
     "data": {
      "text/plain": [
       "(7102, 7102)"
      ]
     },
     "execution_count": 4,
     "metadata": {},
     "output_type": "execute_result"
    }
   ],
   "source": [
    "len(Sentences), len(Sentiments)"
   ]
  },
  {
   "cell_type": "markdown",
   "id": "a29ad857",
   "metadata": {
    "papermill": {
     "duration": 0.007507,
     "end_time": "2023-05-11T04:19:58.423332",
     "exception": false,
     "start_time": "2023-05-11T04:19:58.415825",
     "status": "completed"
    },
    "tags": []
   },
   "source": [
    "# Load the Glove Embedding"
   ]
  },
  {
   "cell_type": "code",
   "execution_count": 5,
   "id": "e210689e",
   "metadata": {
    "execution": {
     "iopub.execute_input": "2023-05-11T04:19:58.440131Z",
     "iopub.status.busy": "2023-05-11T04:19:58.439321Z",
     "iopub.status.idle": "2023-05-11T04:20:04.737334Z",
     "shell.execute_reply": "2023-05-11T04:20:04.736183Z"
    },
    "papermill": {
     "duration": 6.309852,
     "end_time": "2023-05-11T04:20:04.740732",
     "exception": false,
     "start_time": "2023-05-11T04:19:58.430880",
     "status": "completed"
    },
    "tags": []
   },
   "outputs": [],
   "source": [
    "glove ='/kaggle/input/glove6b50dtxt/glove.6B.50d.txt'\n",
    "\n",
    "def load_glove_embeddings(path):\n",
    "    embeddings_index = {}\n",
    "    with open(path, 'r', encoding='utf8') as f:\n",
    "        for line in f:\n",
    "            values = line.split()\n",
    "            word = values[0]\n",
    "            coefs = np.asarray(values[1:], dtype='float32')\n",
    "            embeddings_index[word] = coefs\n",
    "    return embeddings_index\n",
    "\n",
    "Glove = load_glove_embeddings(glove)"
   ]
  },
  {
   "cell_type": "code",
   "execution_count": 6,
   "id": "154fadd1",
   "metadata": {
    "execution": {
     "iopub.execute_input": "2023-05-11T04:20:04.758261Z",
     "iopub.status.busy": "2023-05-11T04:20:04.757913Z",
     "iopub.status.idle": "2023-05-11T04:20:04.767827Z",
     "shell.execute_reply": "2023-05-11T04:20:04.766553Z"
    },
    "papermill": {
     "duration": 0.023207,
     "end_time": "2023-05-11T04:20:04.772355",
     "exception": false,
     "start_time": "2023-05-11T04:20:04.749148",
     "status": "completed"
    },
    "tags": []
   },
   "outputs": [
    {
     "data": {
      "text/plain": [
       "0.3813103"
      ]
     },
     "execution_count": 6,
     "metadata": {},
     "output_type": "execute_result"
    }
   ],
   "source": [
    "def cosine_similarity(a, b):\n",
    "    \"\"\"\n",
    "    Computes the cosine similarity between two vectors a and b.\n",
    "    \"\"\"\n",
    "    return np.dot(a, b) / (np.linalg.norm(a) * np.linalg.norm(b))\n",
    "\n",
    "Gunjan = Glove['gunjan']\n",
    "Pawan = Glove['pawan']\n",
    "Kumar = Glove['kumar']\n",
    "\n",
    "cosine_similarity(Pawan, Gunjan)"
   ]
  },
  {
   "cell_type": "markdown",
   "id": "4ef9d6fe",
   "metadata": {
    "papermill": {
     "duration": 0.008187,
     "end_time": "2023-05-11T04:20:04.788750",
     "exception": false,
     "start_time": "2023-05-11T04:20:04.780563",
     "status": "completed"
    },
    "tags": []
   },
   "source": [
    "# Preprocessing"
   ]
  },
  {
   "cell_type": "code",
   "execution_count": 7,
   "id": "08ddb8a8",
   "metadata": {
    "execution": {
     "iopub.execute_input": "2023-05-11T04:20:04.805272Z",
     "iopub.status.busy": "2023-05-11T04:20:04.804986Z",
     "iopub.status.idle": "2023-05-11T04:20:04.812390Z",
     "shell.execute_reply": "2023-05-11T04:20:04.810526Z"
    },
    "papermill": {
     "duration": 0.01844,
     "end_time": "2023-05-11T04:20:04.814713",
     "exception": false,
     "start_time": "2023-05-11T04:20:04.796273",
     "status": "completed"
    },
    "tags": []
   },
   "outputs": [],
   "source": [
    "def preprocess(Sentences):\n",
    "    sentences = tf.strings.substr(Sentences, 0, 300)\n",
    "    sentences = tf.strings.regex_replace(sentences, b\"<br\\\\s*/?>\", b\" \")\n",
    "    sentences = tf.strings.regex_replace(sentences, b\"[^a-zA-Z']\", b\" \")\n",
    "    sentences = tf.strings.split(sentences)\n",
    "    sentences = tf.strings.lower(sentences)\n",
    "    sentences = sentences.to_tensor(default_value=b\"<pad>\")\n",
    "    return sentences"
   ]
  },
  {
   "cell_type": "code",
   "execution_count": 8,
   "id": "3243800f",
   "metadata": {
    "execution": {
     "iopub.execute_input": "2023-05-11T04:20:04.831918Z",
     "iopub.status.busy": "2023-05-11T04:20:04.831063Z",
     "iopub.status.idle": "2023-05-11T04:20:08.873987Z",
     "shell.execute_reply": "2023-05-11T04:20:08.872677Z"
    },
    "papermill": {
     "duration": 4.054384,
     "end_time": "2023-05-11T04:20:08.876729",
     "exception": false,
     "start_time": "2023-05-11T04:20:04.822345",
     "status": "completed"
    },
    "tags": []
   },
   "outputs": [
    {
     "data": {
      "text/plain": [
       "TensorShape([7102, 34])"
      ]
     },
     "execution_count": 8,
     "metadata": {},
     "output_type": "execute_result"
    }
   ],
   "source": [
    "sentences = preprocess(Sentences)\n",
    "sentences.shape"
   ]
  },
  {
   "cell_type": "markdown",
   "id": "eb6e7870",
   "metadata": {
    "papermill": {
     "duration": 0.007921,
     "end_time": "2023-05-11T04:20:08.892999",
     "exception": false,
     "start_time": "2023-05-11T04:20:08.885078",
     "status": "completed"
    },
    "tags": []
   },
   "source": [
    "# Encoding"
   ]
  },
  {
   "cell_type": "code",
   "execution_count": 9,
   "id": "b27f2117",
   "metadata": {
    "execution": {
     "iopub.execute_input": "2023-05-11T04:20:08.911142Z",
     "iopub.status.busy": "2023-05-11T04:20:08.910752Z",
     "iopub.status.idle": "2023-05-11T04:20:08.919535Z",
     "shell.execute_reply": "2023-05-11T04:20:08.918431Z"
    },
    "papermill": {
     "duration": 0.020748,
     "end_time": "2023-05-11T04:20:08.922136",
     "exception": false,
     "start_time": "2023-05-11T04:20:08.901388",
     "status": "completed"
    },
    "tags": []
   },
   "outputs": [],
   "source": [
    "def encoding(sentences, Glove):\n",
    "    Encoded_vec = []\n",
    "    for sentence in sentences:\n",
    "        sent_vec = []\n",
    "        for token in sentence:\n",
    "            token = token.numpy().decode('utf-8')\n",
    "            if token in Glove:\n",
    "                sent_vec.append(Glove[token])\n",
    "            else:\n",
    "                sent_vec.append(np.zeros(50))\n",
    "        Encoded_vec.append(sent_vec)\n",
    "    return Encoded_vec"
   ]
  },
  {
   "cell_type": "code",
   "execution_count": 10,
   "id": "c821d2cc",
   "metadata": {
    "execution": {
     "iopub.execute_input": "2023-05-11T04:20:08.939119Z",
     "iopub.status.busy": "2023-05-11T04:20:08.938814Z",
     "iopub.status.idle": "2023-05-11T04:21:21.680774Z",
     "shell.execute_reply": "2023-05-11T04:21:21.679547Z"
    },
    "papermill": {
     "duration": 72.760777,
     "end_time": "2023-05-11T04:21:21.690889",
     "exception": false,
     "start_time": "2023-05-11T04:20:08.930112",
     "status": "completed"
    },
    "tags": []
   },
   "outputs": [
    {
     "name": "stdout",
     "output_type": "stream",
     "text": [
      "(7102, 34, 50)\n"
     ]
    }
   ],
   "source": [
    "Encoded_vec = encoding(sentences, Glove)\n",
    "X = np.array(Encoded_vec)\n",
    "print(X.shape)"
   ]
  },
  {
   "cell_type": "markdown",
   "id": "d64e80ce",
   "metadata": {
    "papermill": {
     "duration": 0.007698,
     "end_time": "2023-05-11T04:21:21.706507",
     "exception": false,
     "start_time": "2023-05-11T04:21:21.698809",
     "status": "completed"
    },
    "tags": []
   },
   "source": [
    "# One-hot Encoding of target sentiments"
   ]
  },
  {
   "cell_type": "code",
   "execution_count": 11,
   "id": "ff1adb6d",
   "metadata": {
    "execution": {
     "iopub.execute_input": "2023-05-11T04:21:21.723958Z",
     "iopub.status.busy": "2023-05-11T04:21:21.723060Z",
     "iopub.status.idle": "2023-05-11T04:21:21.733483Z",
     "shell.execute_reply": "2023-05-11T04:21:21.732046Z"
    },
    "papermill": {
     "duration": 0.021519,
     "end_time": "2023-05-11T04:21:21.735850",
     "exception": false,
     "start_time": "2023-05-11T04:21:21.714331",
     "status": "completed"
    },
    "tags": []
   },
   "outputs": [
    {
     "name": "stdout",
     "output_type": "stream",
     "text": [
      "(7102, 4)\n"
     ]
    }
   ],
   "source": [
    "# Perform one-hot encoding on df[0] i.e emotion\n",
    "enc = OneHotEncoder(handle_unknown='ignore')\n",
    "Y = enc.fit_transform(np.array(Sentiments).reshape(-1,1)).toarray()\n",
    "print(Y.shape)"
   ]
  },
  {
   "cell_type": "markdown",
   "id": "1234f4e8",
   "metadata": {
    "papermill": {
     "duration": 0.007981,
     "end_time": "2023-05-11T04:21:21.751703",
     "exception": false,
     "start_time": "2023-05-11T04:21:21.743722",
     "status": "completed"
    },
    "tags": []
   },
   "source": [
    "# Split the train & test dataset"
   ]
  },
  {
   "cell_type": "code",
   "execution_count": 12,
   "id": "0d1ac77b",
   "metadata": {
    "execution": {
     "iopub.execute_input": "2023-05-11T04:21:21.769260Z",
     "iopub.status.busy": "2023-05-11T04:21:21.768446Z",
     "iopub.status.idle": "2023-05-11T04:21:21.882365Z",
     "shell.execute_reply": "2023-05-11T04:21:21.881212Z"
    },
    "papermill": {
     "duration": 0.125792,
     "end_time": "2023-05-11T04:21:21.885468",
     "exception": false,
     "start_time": "2023-05-11T04:21:21.759676",
     "status": "completed"
    },
    "tags": []
   },
   "outputs": [],
   "source": [
    "# Split into train and test\n",
    "from keras.layers import Embedding\n",
    "from sklearn.model_selection import train_test_split\n",
    "X_train, X_test, Y_train, Y_test = train_test_split(X, Y, test_size=0.2, random_state=23)"
   ]
  },
  {
   "cell_type": "code",
   "execution_count": 13,
   "id": "33c99247",
   "metadata": {
    "execution": {
     "iopub.execute_input": "2023-05-11T04:21:21.904114Z",
     "iopub.status.busy": "2023-05-11T04:21:21.903770Z",
     "iopub.status.idle": "2023-05-11T04:21:21.913727Z",
     "shell.execute_reply": "2023-05-11T04:21:21.912606Z"
    },
    "executionInfo": {
     "elapsed": 1269,
     "status": "ok",
     "timestamp": 1615719344764,
     "user": {
      "displayName": "APARNA JUHI",
      "photoUrl": "",
      "userId": "11448692264393195009"
     },
     "user_tz": -330
    },
    "id": "0SVi935FXrOH",
    "papermill": {
     "duration": 0.022072,
     "end_time": "2023-05-11T04:21:21.916163",
     "exception": false,
     "start_time": "2023-05-11T04:21:21.894091",
     "status": "completed"
    },
    "tags": []
   },
   "outputs": [],
   "source": [
    "#Defining the BiLSTM Model\n",
    "class BiLSTMModel:\n",
    "    def __init__(self):\n",
    "        self.model = Sequential()\n",
    "        self.model.add(Bidirectional(LSTM(100, input_shape=(100, 50))))\n",
    "        self.model.add(Dropout(0.2))\n",
    "        self.model.add(Dense(4, activation='softmax'))\n",
    "        self.model.compile(optimizer='Adam', loss='categorical_crossentropy', metrics=['accuracy'])\n",
    "\n",
    "    def fit(self, X, Y, epochs, batch_size):\n",
    "        self.model.fit(X, Y, epochs=epochs, batch_size=batch_size)\n",
    "\n",
    "    def evaluate(self, X, Y, batch_size):\n",
    "        return self.model.evaluate(X, Y, batch_size=batch_size)\n",
    "\n",
    "    def predict(self, X):\n",
    "        return self.model.predict(X)"
   ]
  },
  {
   "cell_type": "markdown",
   "id": "e8a3b0ff",
   "metadata": {
    "papermill": {
     "duration": 0.008032,
     "end_time": "2023-05-11T04:21:21.933191",
     "exception": false,
     "start_time": "2023-05-11T04:21:21.925159",
     "status": "completed"
    },
    "tags": []
   },
   "source": [
    "# Train the model"
   ]
  },
  {
   "cell_type": "code",
   "execution_count": 14,
   "id": "47d4d167",
   "metadata": {
    "execution": {
     "iopub.execute_input": "2023-05-11T04:21:21.951820Z",
     "iopub.status.busy": "2023-05-11T04:21:21.950950Z",
     "iopub.status.idle": "2023-05-11T04:22:07.120163Z",
     "shell.execute_reply": "2023-05-11T04:22:07.119004Z"
    },
    "executionInfo": {
     "elapsed": 61336,
     "status": "ok",
     "timestamp": 1615719412507,
     "user": {
      "displayName": "APARNA JUHI",
      "photoUrl": "",
      "userId": "11448692264393195009"
     },
     "user_tz": -330
    },
    "id": "Lv9WsV7jX97J",
    "outputId": "ffba15e7-ea75-4d7c-a3a3-93b178f00254",
    "papermill": {
     "duration": 45.181686,
     "end_time": "2023-05-11T04:22:07.123218",
     "exception": false,
     "start_time": "2023-05-11T04:21:21.941532",
     "status": "completed"
    },
    "tags": []
   },
   "outputs": [
    {
     "name": "stdout",
     "output_type": "stream",
     "text": [
      "Epoch 1/20\n",
      "89/89 [==============================] - 11s 9ms/step - loss: 1.2920 - accuracy: 0.3871\n",
      "Epoch 2/20\n",
      "89/89 [==============================] - 1s 9ms/step - loss: 1.1199 - accuracy: 0.5112\n",
      "Epoch 3/20\n",
      "89/89 [==============================] - 1s 8ms/step - loss: 1.0133 - accuracy: 0.5786\n",
      "Epoch 4/20\n",
      "89/89 [==============================] - 1s 10ms/step - loss: 0.9267 - accuracy: 0.6127\n",
      "Epoch 5/20\n",
      "89/89 [==============================] - 1s 8ms/step - loss: 0.8516 - accuracy: 0.6522\n",
      "Epoch 6/20\n",
      "89/89 [==============================] - 1s 8ms/step - loss: 0.7677 - accuracy: 0.6969\n",
      "Epoch 7/20\n",
      "89/89 [==============================] - 1s 8ms/step - loss: 0.6857 - accuracy: 0.7370\n",
      "Epoch 8/20\n",
      "89/89 [==============================] - 1s 8ms/step - loss: 0.6214 - accuracy: 0.7585\n",
      "Epoch 9/20\n",
      "89/89 [==============================] - 1s 8ms/step - loss: 0.5764 - accuracy: 0.7761\n",
      "Epoch 10/20\n",
      "89/89 [==============================] - 1s 8ms/step - loss: 0.5139 - accuracy: 0.8034\n",
      "Epoch 11/20\n",
      "89/89 [==============================] - 1s 8ms/step - loss: 0.4527 - accuracy: 0.8324\n",
      "Epoch 12/20\n",
      "89/89 [==============================] - 1s 8ms/step - loss: 0.4183 - accuracy: 0.8470\n",
      "Epoch 13/20\n",
      "89/89 [==============================] - 1s 8ms/step - loss: 0.4068 - accuracy: 0.8456\n",
      "Epoch 14/20\n",
      "89/89 [==============================] - 1s 8ms/step - loss: 0.3435 - accuracy: 0.8745\n",
      "Epoch 15/20\n",
      "89/89 [==============================] - 1s 8ms/step - loss: 0.3099 - accuracy: 0.8861\n",
      "Epoch 16/20\n",
      "89/89 [==============================] - 1s 10ms/step - loss: 0.2915 - accuracy: 0.8924\n",
      "Epoch 17/20\n",
      "89/89 [==============================] - 1s 11ms/step - loss: 0.2630 - accuracy: 0.9053\n",
      "Epoch 18/20\n",
      "89/89 [==============================] - 1s 9ms/step - loss: 0.2352 - accuracy: 0.9148\n",
      "Epoch 19/20\n",
      "89/89 [==============================] - 1s 8ms/step - loss: 0.2335 - accuracy: 0.9109\n",
      "Epoch 20/20\n",
      "89/89 [==============================] - 1s 8ms/step - loss: 0.1938 - accuracy: 0.9301\n"
     ]
    }
   ],
   "source": [
    "# create an instance of the BiLSTMModel class\n",
    "model = BiLSTMModel()\n",
    "\n",
    "# fit the model on the input and target data\n",
    "model.fit(X_train,Y_train, epochs=20, batch_size=64)"
   ]
  },
  {
   "cell_type": "code",
   "execution_count": 15,
   "id": "e435e691",
   "metadata": {
    "execution": {
     "iopub.execute_input": "2023-05-11T04:22:07.194753Z",
     "iopub.status.busy": "2023-05-11T04:22:07.193672Z",
     "iopub.status.idle": "2023-05-11T04:22:07.220712Z",
     "shell.execute_reply": "2023-05-11T04:22:07.219644Z"
    },
    "executionInfo": {
     "elapsed": 1025,
     "status": "ok",
     "timestamp": 1615719420640,
     "user": {
      "displayName": "APARNA JUHI",
      "photoUrl": "",
      "userId": "11448692264393195009"
     },
     "user_tz": -330
    },
    "id": "jsXRfGJ3YMoq",
    "outputId": "82a251b5-537d-4f5b-92ef-aa8b66019bce",
    "papermill": {
     "duration": 0.07327,
     "end_time": "2023-05-11T04:22:07.230204",
     "exception": false,
     "start_time": "2023-05-11T04:22:07.156934",
     "status": "completed"
    },
    "tags": []
   },
   "outputs": [
    {
     "name": "stdout",
     "output_type": "stream",
     "text": [
      "Model: \"sequential\"\n",
      "_________________________________________________________________\n",
      " Layer (type)                Output Shape              Param #   \n",
      "=================================================================\n",
      " bidirectional (Bidirectiona  (None, 200)              120800    \n",
      " l)                                                              \n",
      "                                                                 \n",
      " dropout (Dropout)           (None, 200)               0         \n",
      "                                                                 \n",
      " dense (Dense)               (None, 4)                 804       \n",
      "                                                                 \n",
      "=================================================================\n",
      "Total params: 121,604\n",
      "Trainable params: 121,604\n",
      "Non-trainable params: 0\n",
      "_________________________________________________________________\n"
     ]
    }
   ],
   "source": [
    "model.model.summary()"
   ]
  },
  {
   "cell_type": "code",
   "execution_count": 16,
   "id": "403d97b5",
   "metadata": {
    "execution": {
     "iopub.execute_input": "2023-05-11T04:22:07.298470Z",
     "iopub.status.busy": "2023-05-11T04:22:07.298139Z",
     "iopub.status.idle": "2023-05-11T04:22:07.621294Z",
     "shell.execute_reply": "2023-05-11T04:22:07.620078Z"
    },
    "executionInfo": {
     "elapsed": 1382,
     "status": "ok",
     "timestamp": 1615719437220,
     "user": {
      "displayName": "APARNA JUHI",
      "photoUrl": "",
      "userId": "11448692264393195009"
     },
     "user_tz": -330
    },
    "id": "xgINa9yAYUrw",
    "outputId": "3c6059a4-d07c-4b50-d352-5328cbc9a615",
    "papermill": {
     "duration": 0.359927,
     "end_time": "2023-05-11T04:22:07.623969",
     "exception": false,
     "start_time": "2023-05-11T04:22:07.264042",
     "status": "completed"
    },
    "tags": []
   },
   "outputs": [
    {
     "data": {
      "image/png": "[encoded data removed]",
      "text/plain": [
       "<IPython.core.display.Image object>"
      ]
     },
     "execution_count": 16,
     "metadata": {},
     "output_type": "execute_result"
    }
   ],
   "source": [
    "from keras.utils.vis_utils import plot_model\n",
    "plot_model(model.model, to_file='model_plot.png', show_shapes=True, show_layer_names=True)"
   ]
  },
  {
   "cell_type": "markdown",
   "id": "f0c4dca6",
   "metadata": {
    "papermill": {
     "duration": 0.034106,
     "end_time": "2023-05-11T04:22:07.693262",
     "exception": false,
     "start_time": "2023-05-11T04:22:07.659156",
     "status": "completed"
    },
    "tags": []
   },
   "source": [
    "# Evaluations"
   ]
  },
  {
   "cell_type": "code",
   "execution_count": 17,
   "id": "5caf9138",
   "metadata": {
    "execution": {
     "iopub.execute_input": "2023-05-11T04:22:07.763220Z",
     "iopub.status.busy": "2023-05-11T04:22:07.762867Z",
     "iopub.status.idle": "2023-05-11T04:22:09.015117Z",
     "shell.execute_reply": "2023-05-11T04:22:09.013998Z"
    },
    "executionInfo": {
     "elapsed": 1916,
     "status": "ok",
     "timestamp": 1615719475746,
     "user": {
      "displayName": "APARNA JUHI",
      "photoUrl": "",
      "userId": "11448692264393195009"
     },
     "user_tz": -330
    },
    "id": "2d7QWxXtUMCN",
    "outputId": "0de39c20-fada-4c7e-dc78-6fe2ab19a985",
    "papermill": {
     "duration": 1.290805,
     "end_time": "2023-05-11T04:22:09.017888",
     "exception": false,
     "start_time": "2023-05-11T04:22:07.727083",
     "status": "completed"
    },
    "tags": []
   },
   "outputs": [
    {
     "name": "stdout",
     "output_type": "stream",
     "text": [
      "23/23 [==============================] - 1s 6ms/step - loss: 0.7736 - accuracy: 0.7614\n",
      "Loss: 0.77\n",
      "acc: 0.76\n"
     ]
    }
   ],
   "source": [
    "Loss, acc = model.evaluate(X_test, Y_test, batch_size=64)\n",
    "print(\"Loss: %.2f\" % (Loss))\n",
    "print(\"acc: %.2f\" % (acc))"
   ]
  },
  {
   "cell_type": "markdown",
   "id": "4c63c91a",
   "metadata": {
    "papermill": {
     "duration": 0.035442,
     "end_time": "2023-05-11T04:22:09.090962",
     "exception": false,
     "start_time": "2023-05-11T04:22:09.055520",
     "status": "completed"
    },
    "tags": []
   },
   "source": [
    "# Prediction"
   ]
  },
  {
   "cell_type": "code",
   "execution_count": 18,
   "id": "800ba1c0",
   "metadata": {
    "execution": {
     "iopub.execute_input": "2023-05-11T04:22:09.163932Z",
     "iopub.status.busy": "2023-05-11T04:22:09.163019Z",
     "iopub.status.idle": "2023-05-11T04:22:10.429754Z",
     "shell.execute_reply": "2023-05-11T04:22:10.428674Z"
    },
    "papermill": {
     "duration": 1.306058,
     "end_time": "2023-05-11T04:22:10.432055",
     "exception": false,
     "start_time": "2023-05-11T04:22:09.125997",
     "status": "completed"
    },
    "tags": []
   },
   "outputs": [
    {
     "name": "stdout",
     "output_type": "stream",
     "text": [
      "(1, 10, 50)\n",
      "1/1 [==============================] - 1s 1s/step\n"
     ]
    },
    {
     "data": {
      "text/plain": [
       "'anger'"
      ]
     },
     "execution_count": 18,
     "metadata": {},
     "output_type": "execute_result"
    }
   ],
   "source": [
    "#First, initialize it.\n",
    "twt = ['Nothing is more relentless than a dog begging for food']\n",
    "#Next, tokenize it.\n",
    "Twt = preprocess(twt)\n",
    "\n",
    "# Encoding\n",
    "Twt = encoding(Twt, Glove)\n",
    "Twt = np.array(Twt)\n",
    "print(Twt.shape)\n",
    "#Predict the sentiment by passing the sentence to the model we built.\n",
    "sentiment = model.predict(Twt)[0]\n",
    "label = np.argmax(sentiment)\n",
    "enc.categories_[0][label]"
   ]
  }
 ],
 "metadata": {
  "kernelspec": {
   "display_name": "Python 3",
   "language": "python",
   "name": "python3"
  },
  "language_info": {
   "codemirror_mode": {
    "name": "ipython",
    "version": 3
   },
   "file_extension": ".py",
   "mimetype": "text/x-python",
   "name": "python",
   "nbconvert_exporter": "python",
   "pygments_lexer": "ipython3",
   "version": "3.7.12"
  },
  "papermill": {
   "default_parameters": {},
   "duration": 156.473046,
   "end_time": "2023-05-11T04:22:14.371472",
   "environment_variables": {},
   "exception": null,
   "input_path": "__notebook__.ipynb",
   "output_path": "__notebook__.ipynb",
   "parameters": {},
   "start_time": "2023-05-11T04:19:37.898426",
   "version": "2.4.0"
  }
 },
 "nbformat": 4,
 "nbformat_minor": 5
}
