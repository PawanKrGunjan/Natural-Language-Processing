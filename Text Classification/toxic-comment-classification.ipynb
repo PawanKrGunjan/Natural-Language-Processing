{
 "cells": [
  {
   "cell_type": "markdown",
   "id": "1e82199e",
   "metadata": {
    "papermill": {
     "duration": 0.012932,
     "end_time": "2023-07-27T08:39:07.986518",
     "exception": false,
     "start_time": "2023-07-27T08:39:07.973586",
     "status": "completed"
    },
    "tags": []
   },
   "source": [
    "Overview of the project - \n",
    "Separates toxic and clean comments from the dataset.\n",
    "Randomly samples 15,000 clean comments to create a balanced dataset.\n",
    "Tokenizes the comments, encodes labels, and creates data loaders for training.\n",
    "Fine-tunes the BERT model for classification on the balanced dataset.\n",
    "Saves the trained model for future use."
   ]
  },
  {
   "cell_type": "markdown",
   "id": "99007df3",
   "metadata": {
    "papermill": {
     "duration": 0.01162,
     "end_time": "2023-07-27T08:39:08.010682",
     "exception": false,
     "start_time": "2023-07-27T08:39:07.999062",
     "status": "completed"
    },
    "tags": []
   },
   "source": [
    "### Step1: Pre-requisites"
   ]
  },
  {
   "cell_type": "markdown",
   "id": "7d89a12a",
   "metadata": {
    "papermill": {
     "duration": 0.011589,
     "end_time": "2023-07-27T08:39:08.034248",
     "exception": false,
     "start_time": "2023-07-27T08:39:08.022659",
     "status": "completed"
    },
    "tags": []
   },
   "source": [
    "!pip install transformers\n",
    "!pip install torch"
   ]
  },
  {
   "cell_type": "markdown",
   "id": "5899d89d",
   "metadata": {
    "papermill": {
     "duration": 0.011657,
     "end_time": "2023-07-27T08:39:08.058380",
     "exception": false,
     "start_time": "2023-07-27T08:39:08.046723",
     "status": "completed"
    },
    "tags": []
   },
   "source": [
    "### Step2: Importing libraries "
   ]
  },
  {
   "cell_type": "code",
   "execution_count": 1,
   "id": "5cd86981",
   "metadata": {
    "execution": {
     "iopub.execute_input": "2023-07-27T08:39:08.086058Z",
     "iopub.status.busy": "2023-07-27T08:39:08.085241Z",
     "iopub.status.idle": "2023-07-27T08:39:24.101790Z",
     "shell.execute_reply": "2023-07-27T08:39:24.100692Z"
    },
    "papermill": {
     "duration": 16.034203,
     "end_time": "2023-07-27T08:39:24.104891",
     "exception": false,
     "start_time": "2023-07-27T08:39:08.070688",
     "status": "completed"
    },
    "tags": []
   },
   "outputs": [
    {
     "name": "stderr",
     "output_type": "stream",
     "text": [
      "/opt/conda/lib/python3.10/site-packages/scipy/__init__.py:146: UserWarning: A NumPy version >=1.16.5 and <1.23.0 is required for this version of SciPy (detected version 1.23.5\n",
      "  warnings.warn(f\"A NumPy version >={np_minversion} and <{np_maxversion}\"\n",
      "/opt/conda/lib/python3.10/site-packages/tensorflow_io/python/ops/__init__.py:98: UserWarning: unable to load libtensorflow_io_plugins.so: unable to open file: libtensorflow_io_plugins.so, from paths: ['/opt/conda/lib/python3.10/site-packages/tensorflow_io/python/ops/libtensorflow_io_plugins.so']\n",
      "caused by: ['/opt/conda/lib/python3.10/site-packages/tensorflow_io/python/ops/libtensorflow_io_plugins.so: undefined symbol: _ZN3tsl6StatusC1EN10tensorflow5error4CodeESt17basic_string_viewIcSt11char_traitsIcEENS_14SourceLocationE']\n",
      "  warnings.warn(f\"unable to load libtensorflow_io_plugins.so: {e}\")\n",
      "/opt/conda/lib/python3.10/site-packages/tensorflow_io/python/ops/__init__.py:104: UserWarning: file system plugins are not loaded: unable to open file: libtensorflow_io.so, from paths: ['/opt/conda/lib/python3.10/site-packages/tensorflow_io/python/ops/libtensorflow_io.so']\n",
      "caused by: ['/opt/conda/lib/python3.10/site-packages/tensorflow_io/python/ops/libtensorflow_io.so: undefined symbol: _ZTVN10tensorflow13GcsFileSystemE']\n",
      "  warnings.warn(f\"file system plugins are not loaded: {e}\")\n"
     ]
    }
   ],
   "source": [
    "import numpy as np\n",
    "import pandas as pd\n",
    "\n",
    "#data visualisation libraries\n",
    "import matplotlib.pyplot as plt\n",
    "import seaborn as sns\n",
    "from pylab import rcParams\n",
    "\n",
    "import torch\n",
    "from torch.utils.data import DataLoader, TensorDataset\n",
    "from transformers import BertTokenizer, BertForSequenceClassification, AdamW\n",
    "from sklearn.model_selection import train_test_split\n",
    "from sklearn.metrics import accuracy_score, precision_score, recall_score\n",
    "\n",
    "#to avoid warnings\n",
    "import warnings\n",
    "warnings.filterwarnings('ignore')"
   ]
  },
  {
   "cell_type": "markdown",
   "id": "1bda1c1c",
   "metadata": {
    "papermill": {
     "duration": 0.012321,
     "end_time": "2023-07-27T08:39:24.131365",
     "exception": false,
     "start_time": "2023-07-27T08:39:24.119044",
     "status": "completed"
    },
    "tags": []
   },
   "source": [
    "### Step 3: Load and Preprocess the Dataset"
   ]
  },
  {
   "cell_type": "code",
   "execution_count": 2,
   "id": "29158674",
   "metadata": {
    "execution": {
     "iopub.execute_input": "2023-07-27T08:39:24.157661Z",
     "iopub.status.busy": "2023-07-27T08:39:24.157375Z",
     "iopub.status.idle": "2023-07-27T08:39:25.761053Z",
     "shell.execute_reply": "2023-07-27T08:39:25.760054Z"
    },
    "papermill": {
     "duration": 1.619933,
     "end_time": "2023-07-27T08:39:25.763511",
     "exception": false,
     "start_time": "2023-07-27T08:39:24.143578",
     "status": "completed"
    },
    "tags": []
   },
   "outputs": [
    {
     "name": "stdout",
     "output_type": "stream",
     "text": [
      "['train.csv.zip', 'sample_submission.csv.zip', 'test_labels.csv.zip', 'test.csv.zip']\n"
     ]
    }
   ],
   "source": [
    "import os\n",
    "import zipfile\n",
    "\n",
    "directory_path = '/kaggle/input/jigsaw-toxic-comment-classification-challenge'\n",
    "files_in_directory = os.listdir(directory_path)\n",
    "print(files_in_directory)\n",
    "\n",
    "for files in files_in_directory:\n",
    "    # Path to the zip file\n",
    "    zip_file_path = directory_path+'/'+files\n",
    "    # Directory where you want to extract the contents\n",
    "    output_dir = '/kaggle/working/'\n",
    "\n",
    "    # Unzip the file\n",
    "    with zipfile.ZipFile(zip_file_path, 'r') as zip_ref:\n",
    "        zip_ref.extractall(output_dir)"
   ]
  },
  {
   "cell_type": "code",
   "execution_count": 3,
   "id": "c6eb01bb",
   "metadata": {
    "execution": {
     "iopub.execute_input": "2023-07-27T08:39:25.790742Z",
     "iopub.status.busy": "2023-07-27T08:39:25.790422Z",
     "iopub.status.idle": "2023-07-27T08:39:26.758323Z",
     "shell.execute_reply": "2023-07-27T08:39:26.757241Z"
    },
    "papermill": {
     "duration": 0.984353,
     "end_time": "2023-07-27T08:39:26.760708",
     "exception": false,
     "start_time": "2023-07-27T08:39:25.776355",
     "status": "completed"
    },
    "tags": []
   },
   "outputs": [
    {
     "name": "stdout",
     "output_type": "stream",
     "text": [
      "                 id                                       comment_text  toxic  \\\n",
      "0  0000997932d777bf  Explanation\\nWhy the edits made under my usern...      0   \n",
      "1  000103f0d9cfb60f  D'aww! He matches this background colour I'm s...      0   \n",
      "2  000113f07ec002fd  Hey man, I'm really not trying to edit war. It...      0   \n",
      "3  0001b41b1c6bb37e  \"\\nMore\\nI can't make any real suggestions on ...      0   \n",
      "4  0001d958c54c6e35  You, sir, are my hero. Any chance you remember...      0   \n",
      "\n",
      "   severe_toxic  obscene  threat  insult  identity_hate  \n",
      "0             0        0       0       0              0  \n",
      "1             0        0       0       0              0  \n",
      "2             0        0       0       0              0  \n",
      "3             0        0       0       0              0  \n",
      "4             0        0       0       0              0  \n"
     ]
    }
   ],
   "source": [
    "data = pd.read_csv(\"/kaggle/working/train.csv\")\n",
    "print(data.head())"
   ]
  },
  {
   "cell_type": "markdown",
   "id": "f323b7e8",
   "metadata": {
    "papermill": {
     "duration": 0.012327,
     "end_time": "2023-07-27T08:39:26.786947",
     "exception": false,
     "start_time": "2023-07-27T08:39:26.774620",
     "status": "completed"
    },
    "tags": []
   },
   "source": [
    "### Step4: Data Visualization to Understand Class Distribution"
   ]
  },
  {
   "cell_type": "code",
   "execution_count": 4,
   "id": "c670000f",
   "metadata": {
    "execution": {
     "iopub.execute_input": "2023-07-27T08:39:26.814255Z",
     "iopub.status.busy": "2023-07-27T08:39:26.812789Z",
     "iopub.status.idle": "2023-07-27T08:39:27.139806Z",
     "shell.execute_reply": "2023-07-27T08:39:27.138901Z"
    },
    "papermill": {
     "duration": 0.342354,
     "end_time": "2023-07-27T08:39:27.141838",
     "exception": false,
     "start_time": "2023-07-27T08:39:26.799484",
     "status": "completed"
    },
    "tags": []
   },
   "outputs": [
    {
     "data": {
      "image/png": "[encoded data removed]",
      "text/plain": [
       "<Figure size 700x500 with 1 Axes>"
      ]
     },
     "metadata": {},
     "output_type": "display_data"
    }
   ],
   "source": [
    "# Visualizing the class distribution of the 'label' column\n",
    "column_labels = data.columns.tolist()[2:]\n",
    "label_counts = data[column_labels].sum().sort_values()\n",
    "\n",
    "\n",
    "# Create a black background for the plot\n",
    "plt.figure(figsize=(7, 5))  \n",
    "\n",
    "# Create a horizontal bar plot using Seaborn\n",
    "ax = sns.barplot(x=label_counts.values, y=label_counts.index, palette='viridis')\n",
    "\n",
    "\n",
    "# Add labels and title to the plot\n",
    "plt.xlabel('Number of Occurrences')  \n",
    "plt.ylabel('Labels')  \n",
    "plt.title('Distribution of Label Occurrences') \n",
    "\n",
    "# Show the plot\n",
    "plt.show()"
   ]
  },
  {
   "cell_type": "code",
   "execution_count": 5,
   "id": "d176e2b1",
   "metadata": {
    "execution": {
     "iopub.execute_input": "2023-07-27T08:39:27.169075Z",
     "iopub.status.busy": "2023-07-27T08:39:27.168779Z",
     "iopub.status.idle": "2023-07-27T08:39:27.183266Z",
     "shell.execute_reply": "2023-07-27T08:39:27.182064Z"
    },
    "papermill": {
     "duration": 0.030717,
     "end_time": "2023-07-27T08:39:27.185743",
     "exception": false,
     "start_time": "2023-07-27T08:39:27.155026",
     "status": "completed"
    },
    "tags": []
   },
   "outputs": [
    {
     "data": {
      "text/plain": [
       "threat             478\n",
       "identity_hate     1405\n",
       "severe_toxic      1595\n",
       "insult            7877\n",
       "obscene           8449\n",
       "toxic            15294\n",
       "dtype: int64"
      ]
     },
     "execution_count": 5,
     "metadata": {},
     "output_type": "execute_result"
    }
   ],
   "source": [
    "data[column_labels].sum().sort_values()"
   ]
  },
  {
   "cell_type": "markdown",
   "id": "d8020214",
   "metadata": {
    "papermill": {
     "duration": 0.012863,
     "end_time": "2023-07-27T08:39:27.211755",
     "exception": false,
     "start_time": "2023-07-27T08:39:27.198892",
     "status": "completed"
    },
    "tags": []
   },
   "source": [
    "### Step5: Handling class imbalance "
   ]
  },
  {
   "cell_type": "code",
   "execution_count": 6,
   "id": "c47d615e",
   "metadata": {
    "execution": {
     "iopub.execute_input": "2023-07-27T08:39:27.238858Z",
     "iopub.status.busy": "2023-07-27T08:39:27.238588Z",
     "iopub.status.idle": "2023-07-27T08:39:27.485186Z",
     "shell.execute_reply": "2023-07-27T08:39:27.484147Z"
    },
    "papermill": {
     "duration": 0.262891,
     "end_time": "2023-07-27T08:39:27.487686",
     "exception": false,
     "start_time": "2023-07-27T08:39:27.224795",
     "status": "completed"
    },
    "tags": []
   },
   "outputs": [
    {
     "data": {
      "image/png": "[encoded data removed]",
      "text/plain": [
       "<Figure size 700x500 with 1 Axes>"
      ]
     },
     "metadata": {},
     "output_type": "display_data"
    }
   ],
   "source": [
    "# Create subsets based on toxic and clean comments\n",
    "train_toxic = data[data[column_labels].sum(axis=1) > 0]\n",
    "train_clean = data[data[column_labels].sum(axis=1) == 0]\n",
    "\n",
    "# Number of toxic and clean comments\n",
    "num_toxic = len(train_toxic)\n",
    "num_clean = len(train_clean)\n",
    "\n",
    "# Create a DataFrame for visualization\n",
    "plot_data = pd.DataFrame({'Category': ['Toxic', 'Clean'], 'Count': [num_toxic, num_clean]})\n",
    "\n",
    "# Create a black background for the plot\n",
    "plt.figure(figsize=(7, 5))\n",
    "\n",
    "# Horizontal bar plot \n",
    "ax = sns.barplot(x='Count', y='Category', data=plot_data, palette='viridis')\n",
    "\n",
    "\n",
    "# Add labels and title to the plot\n",
    "plt.xlabel('Number of Comments')\n",
    "plt.ylabel('Category')\n",
    "plt.title('Distribution of Toxic and Clean Comments')\n",
    "\n",
    "# Set ticks' color to white\n",
    "ax.tick_params()\n",
    "\n",
    "# Show the plot\n",
    "plt.show()"
   ]
  },
  {
   "cell_type": "code",
   "execution_count": 7,
   "id": "617f521b",
   "metadata": {
    "execution": {
     "iopub.execute_input": "2023-07-27T08:39:27.515743Z",
     "iopub.status.busy": "2023-07-27T08:39:27.515466Z",
     "iopub.status.idle": "2023-07-27T08:39:27.520424Z",
     "shell.execute_reply": "2023-07-27T08:39:27.519426Z"
    },
    "papermill": {
     "duration": 0.022623,
     "end_time": "2023-07-27T08:39:27.523916",
     "exception": false,
     "start_time": "2023-07-27T08:39:27.501293",
     "status": "completed"
    },
    "tags": []
   },
   "outputs": [
    {
     "name": "stdout",
     "output_type": "stream",
     "text": [
      "(16225, 8)\n",
      "(143346, 8)\n"
     ]
    }
   ],
   "source": [
    "print(train_toxic.shape)\n",
    "print(train_clean.shape)"
   ]
  },
  {
   "cell_type": "markdown",
   "id": "875f6eed",
   "metadata": {
    "papermill": {
     "duration": 0.013156,
     "end_time": "2023-07-27T08:39:27.550610",
     "exception": false,
     "start_time": "2023-07-27T08:39:27.537454",
     "status": "completed"
    },
    "tags": []
   },
   "source": [
    "Note: To handle the imbalanced data, we can create a new training set in which the number of toxic comments remains the same, and to match that, we will randomly sample 15,000 clean comments and include them in the training set"
   ]
  },
  {
   "cell_type": "markdown",
   "id": "7fbe6980",
   "metadata": {
    "papermill": {
     "duration": 0.0132,
     "end_time": "2023-07-27T08:39:27.576830",
     "exception": false,
     "start_time": "2023-07-27T08:39:27.563630",
     "status": "completed"
    },
    "tags": []
   },
   "source": [
    "#### New balanced dataframe"
   ]
  },
  {
   "cell_type": "code",
   "execution_count": 8,
   "id": "17f3eeee",
   "metadata": {
    "execution": {
     "iopub.execute_input": "2023-07-27T08:39:27.604448Z",
     "iopub.status.busy": "2023-07-27T08:39:27.604180Z",
     "iopub.status.idle": "2023-07-27T08:39:27.609874Z",
     "shell.execute_reply": "2023-07-27T08:39:27.609019Z"
    },
    "papermill": {
     "duration": 0.021713,
     "end_time": "2023-07-27T08:39:27.611799",
     "exception": false,
     "start_time": "2023-07-27T08:39:27.590086",
     "status": "completed"
    },
    "tags": []
   },
   "outputs": [
    {
     "data": {
      "text/plain": [
       "(143346, 8)"
      ]
     },
     "execution_count": 8,
     "metadata": {},
     "output_type": "execute_result"
    }
   ],
   "source": [
    "train_clean.shape"
   ]
  },
  {
   "cell_type": "code",
   "execution_count": 9,
   "id": "1e9fe304",
   "metadata": {
    "execution": {
     "iopub.execute_input": "2023-07-27T08:39:27.639914Z",
     "iopub.status.busy": "2023-07-27T08:39:27.639162Z",
     "iopub.status.idle": "2023-07-27T08:39:27.660827Z",
     "shell.execute_reply": "2023-07-27T08:39:27.660037Z"
    },
    "papermill": {
     "duration": 0.037966,
     "end_time": "2023-07-27T08:39:27.662879",
     "exception": false,
     "start_time": "2023-07-27T08:39:27.624913",
     "status": "completed"
    },
    "tags": []
   },
   "outputs": [],
   "source": [
    "# Randomly sample 15,000 clean comments\n",
    "train_clean_sampled = train_clean.sample(n=16225, random_state=42)\n",
    "\n",
    "# Combine the toxic and sampled clean comments \n",
    "df = pd.concat([train_toxic, train_clean_sampled], axis=0)\n",
    "\n",
    "# Shuffle the data to avoid any order bias during training\n",
    "df  = df.sample(frac=1, random_state=42)"
   ]
  },
  {
   "cell_type": "code",
   "execution_count": 10,
   "id": "d7204b8d",
   "metadata": {
    "execution": {
     "iopub.execute_input": "2023-07-27T08:39:27.691456Z",
     "iopub.status.busy": "2023-07-27T08:39:27.691177Z",
     "iopub.status.idle": "2023-07-27T08:39:27.704771Z",
     "shell.execute_reply": "2023-07-27T08:39:27.703714Z"
    },
    "papermill": {
     "duration": 0.030868,
     "end_time": "2023-07-27T08:39:27.707444",
     "exception": false,
     "start_time": "2023-07-27T08:39:27.676576",
     "status": "completed"
    },
    "tags": []
   },
   "outputs": [
    {
     "data": {
      "text/plain": [
       "threat             478\n",
       "identity_hate     1405\n",
       "severe_toxic      1595\n",
       "insult            7877\n",
       "obscene           8449\n",
       "toxic            15294\n",
       "dtype: int64"
      ]
     },
     "execution_count": 10,
     "metadata": {},
     "output_type": "execute_result"
    }
   ],
   "source": [
    "data[column_labels].sum().sort_values()"
   ]
  },
  {
   "cell_type": "code",
   "execution_count": 11,
   "id": "75679167",
   "metadata": {
    "execution": {
     "iopub.execute_input": "2023-07-27T08:39:27.742918Z",
     "iopub.status.busy": "2023-07-27T08:39:27.742653Z",
     "iopub.status.idle": "2023-07-27T08:39:27.753937Z",
     "shell.execute_reply": "2023-07-27T08:39:27.752800Z"
    },
    "papermill": {
     "duration": 0.03159,
     "end_time": "2023-07-27T08:39:27.756264",
     "exception": false,
     "start_time": "2023-07-27T08:39:27.724674",
     "status": "completed"
    },
    "tags": []
   },
   "outputs": [
    {
     "data": {
      "text/plain": [
       "threat             478\n",
       "identity_hate     1405\n",
       "severe_toxic      1595\n",
       "insult            7877\n",
       "obscene           8449\n",
       "toxic            15294\n",
       "dtype: int64"
      ]
     },
     "execution_count": 11,
     "metadata": {},
     "output_type": "execute_result"
    }
   ],
   "source": [
    "df[column_labels].sum().sort_values()"
   ]
  },
  {
   "cell_type": "code",
   "execution_count": 12,
   "id": "3e7ca2ad",
   "metadata": {
    "execution": {
     "iopub.execute_input": "2023-07-27T08:39:27.785325Z",
     "iopub.status.busy": "2023-07-27T08:39:27.784546Z",
     "iopub.status.idle": "2023-07-27T08:39:27.790819Z",
     "shell.execute_reply": "2023-07-27T08:39:27.789346Z"
    },
    "papermill": {
     "duration": 0.022548,
     "end_time": "2023-07-27T08:39:27.792859",
     "exception": false,
     "start_time": "2023-07-27T08:39:27.770311",
     "status": "completed"
    },
    "tags": []
   },
   "outputs": [
    {
     "name": "stdout",
     "output_type": "stream",
     "text": [
      "(16225, 8)\n",
      "(16225, 8)\n",
      "(32450, 8)\n"
     ]
    }
   ],
   "source": [
    "print(train_toxic.shape)\n",
    "print(train_clean_sampled.shape)\n",
    "print(df.shape)"
   ]
  },
  {
   "cell_type": "markdown",
   "id": "0545d80e",
   "metadata": {
    "papermill": {
     "duration": 0.013611,
     "end_time": "2023-07-27T08:39:27.820164",
     "exception": false,
     "start_time": "2023-07-27T08:39:27.806553",
     "status": "completed"
    },
    "tags": []
   },
   "source": [
    "### Step7 : Fine-tune BERT Model for Multilabel Classification"
   ]
  },
  {
   "cell_type": "markdown",
   "id": "4ddb86e6",
   "metadata": {
    "papermill": {
     "duration": 0.013977,
     "end_time": "2023-07-27T08:39:27.847919",
     "exception": false,
     "start_time": "2023-07-27T08:39:27.833942",
     "status": "completed"
    },
    "tags": []
   },
   "source": [
    "#### Tokenization & encoding using BertTokenizer"
   ]
  },
  {
   "cell_type": "code",
   "execution_count": 13,
   "id": "f286514d",
   "metadata": {
    "execution": {
     "iopub.execute_input": "2023-07-27T08:39:27.877873Z",
     "iopub.status.busy": "2023-07-27T08:39:27.877114Z",
     "iopub.status.idle": "2023-07-27T08:39:27.884041Z",
     "shell.execute_reply": "2023-07-27T08:39:27.883155Z"
    },
    "papermill": {
     "duration": 0.024557,
     "end_time": "2023-07-27T08:39:27.886223",
     "exception": false,
     "start_time": "2023-07-27T08:39:27.861666",
     "status": "completed"
    },
    "tags": []
   },
   "outputs": [],
   "source": [
    "# Token and Encode Function\n",
    "def tokenize_and_encode(tokenizer, comments, labels, max_length=128):\n",
    "    input_ids = []\n",
    "    attention_masks = []\n",
    "\n",
    "    for comment in comments:\n",
    "        encoded_dict = tokenizer.encode_plus(\n",
    "            comment,\n",
    "            add_special_tokens=True,\n",
    "            max_length=max_length,\n",
    "            pad_to_max_length=True,\n",
    "            return_attention_mask=True,\n",
    "            return_tensors='pt'\n",
    "        )\n",
    "\n",
    "        input_ids.append(encoded_dict['input_ids'])\n",
    "        attention_masks.append(encoded_dict['attention_mask'])\n",
    "\n",
    "    input_ids = torch.cat(input_ids, dim=0)\n",
    "    attention_masks = torch.cat(attention_masks, dim=0)\n",
    "    labels = torch.tensor(labels, dtype=torch.float32)\n",
    "\n",
    "    return input_ids, attention_masks, labels"
   ]
  },
  {
   "cell_type": "code",
   "execution_count": 14,
   "id": "56e4a39f",
   "metadata": {
    "execution": {
     "iopub.execute_input": "2023-07-27T08:39:27.920218Z",
     "iopub.status.busy": "2023-07-27T08:39:27.918874Z",
     "iopub.status.idle": "2023-07-27T08:39:27.927170Z",
     "shell.execute_reply": "2023-07-27T08:39:27.926053Z"
    },
    "papermill": {
     "duration": 0.029135,
     "end_time": "2023-07-27T08:39:27.929202",
     "exception": false,
     "start_time": "2023-07-27T08:39:27.900067",
     "status": "completed"
    },
    "tags": []
   },
   "outputs": [],
   "source": [
    "# Token and Encode Function\n",
    "def tokenize_and_encode(tokenizer, comments, labels, max_length=128):\n",
    "    # Initialize empty lists to store tokenized inputs and attention masks\n",
    "    input_ids = []\n",
    "    attention_masks = []\n",
    "\n",
    "    # Iterate through each comment in the 'comments' list\n",
    "    for comment in comments:\n",
    "        \n",
    "        # Tokenize and encode the comment using the BERT tokenizer\n",
    "        encoded_dict = tokenizer.encode_plus(\n",
    "            comment,\n",
    "            # Add special tokens like [CLS] and [SEP]\n",
    "            add_special_tokens=True,      \n",
    "            # Truncate or pad the comment to 'max_length'\n",
    "            max_length=max_length,      \n",
    "            # Pad the comment to 'max_length' with zeros if needed\n",
    "            pad_to_max_length=True,    \n",
    "            # Return attention mask to mask padded tokens\n",
    "            return_attention_mask=True, \n",
    "            # Return PyTorch tensors\n",
    "            return_tensors='pt')\n",
    "\n",
    "        # Append the tokenized input and attention mask to their respective lists\n",
    "        input_ids.append(encoded_dict['input_ids'])\n",
    "        attention_masks.append(encoded_dict['attention_mask'])\n",
    "\n",
    "    # Concatenate the tokenized inputs and attention masks into tensors\n",
    "    input_ids = torch.cat(input_ids, dim=0)\n",
    "    attention_masks = torch.cat(attention_masks, dim=0)\n",
    "\n",
    "    # Convert the labels to a PyTorch tensor with the data type float32\n",
    "    labels = torch.tensor(labels, dtype=torch.float32)\n",
    "\n",
    "    # Return the tokenized inputs, attention masks, and labels as PyTorch tensors\n",
    "    return input_ids, attention_masks, labels"
   ]
  },
  {
   "cell_type": "code",
   "execution_count": 15,
   "id": "ce9f65f1",
   "metadata": {
    "execution": {
     "iopub.execute_input": "2023-07-27T08:39:27.957495Z",
     "iopub.status.busy": "2023-07-27T08:39:27.957242Z",
     "iopub.status.idle": "2023-07-27T08:39:32.270096Z",
     "shell.execute_reply": "2023-07-27T08:39:32.269203Z"
    },
    "papermill": {
     "duration": 4.329508,
     "end_time": "2023-07-27T08:39:32.272157",
     "exception": false,
     "start_time": "2023-07-27T08:39:27.942649",
     "status": "completed"
    },
    "tags": []
   },
   "outputs": [
    {
     "data": {
      "application/vnd.jupyter.widget-view+json": {
       "model_id": "88578bf78d62420da3271c499abb015f",
       "version_major": 2,
       "version_minor": 0
      },
      "text/plain": [
       "Downloading (…)solve/main/vocab.txt:   0%|          | 0.00/232k [00:00<?, ?B/s]"
      ]
     },
     "metadata": {},
     "output_type": "display_data"
    },
    {
     "data": {
      "application/vnd.jupyter.widget-view+json": {
       "model_id": "b53db26d95ac41fe876b83a7e84f20d6",
       "version_major": 2,
       "version_minor": 0
      },
      "text/plain": [
       "Downloading (…)okenizer_config.json:   0%|          | 0.00/28.0 [00:00<?, ?B/s]"
      ]
     },
     "metadata": {},
     "output_type": "display_data"
    },
    {
     "data": {
      "application/vnd.jupyter.widget-view+json": {
       "model_id": "1df2cc68afb6420a8ca7d79b9ef9fbe3",
       "version_major": 2,
       "version_minor": 0
      },
      "text/plain": [
       "Downloading (…)lve/main/config.json:   0%|          | 0.00/570 [00:00<?, ?B/s]"
      ]
     },
     "metadata": {},
     "output_type": "display_data"
    },
    {
     "data": {
      "application/vnd.jupyter.widget-view+json": {
       "model_id": "5370c2e4f79d483c9441d19ef1265408",
       "version_major": 2,
       "version_minor": 0
      },
      "text/plain": [
       "Downloading model.safetensors:   0%|          | 0.00/440M [00:00<?, ?B/s]"
      ]
     },
     "metadata": {},
     "output_type": "display_data"
    },
    {
     "name": "stderr",
     "output_type": "stream",
     "text": [
      "Some weights of the model checkpoint at bert-base-uncased were not used when initializing BertForSequenceClassification: ['cls.predictions.bias', 'cls.predictions.transform.LayerNorm.bias', 'cls.seq_relationship.bias', 'cls.predictions.transform.LayerNorm.weight', 'cls.predictions.transform.dense.weight', 'cls.seq_relationship.weight', 'cls.predictions.transform.dense.bias']\n",
      "- This IS expected if you are initializing BertForSequenceClassification from the checkpoint of a model trained on another task or with another architecture (e.g. initializing a BertForSequenceClassification model from a BertForPreTraining model).\n",
      "- This IS NOT expected if you are initializing BertForSequenceClassification from the checkpoint of a model that you expect to be exactly identical (initializing a BertForSequenceClassification model from a BertForSequenceClassification model).\n",
      "Some weights of BertForSequenceClassification were not initialized from the model checkpoint at bert-base-uncased and are newly initialized: ['classifier.weight', 'classifier.bias']\n",
      "You should probably TRAIN this model on a down-stream task to be able to use it for predictions and inference.\n"
     ]
    }
   ],
   "source": [
    "# Token Initialization\n",
    "tokenizer = BertTokenizer.from_pretrained('bert-base-uncased', do_lower_case=True)\n",
    "\n",
    "# Model Initialization\n",
    "model = BertForSequenceClassification.from_pretrained('bert-base-uncased', num_labels=6)"
   ]
  },
  {
   "cell_type": "code",
   "execution_count": 16,
   "id": "8e523c4e",
   "metadata": {
    "execution": {
     "iopub.execute_input": "2023-07-27T08:39:32.303410Z",
     "iopub.status.busy": "2023-07-27T08:39:32.303126Z",
     "iopub.status.idle": "2023-07-27T08:39:38.030061Z",
     "shell.execute_reply": "2023-07-27T08:39:38.028959Z"
    },
    "papermill": {
     "duration": 5.745097,
     "end_time": "2023-07-27T08:39:38.032618",
     "exception": false,
     "start_time": "2023-07-27T08:39:32.287521",
     "status": "completed"
    },
    "tags": []
   },
   "outputs": [],
   "source": [
    "# Move model to GPU if available\n",
    "device = torch.device('cuda') if torch.cuda.is_available() else torch.device('cpu')\n",
    "model =model.to(device)"
   ]
  },
  {
   "cell_type": "markdown",
   "id": "bb3174b4",
   "metadata": {
    "papermill": {
     "duration": 0.017007,
     "end_time": "2023-07-27T08:39:38.066108",
     "exception": false,
     "start_time": "2023-07-27T08:39:38.049101",
     "status": "completed"
    },
    "tags": []
   },
   "source": [
    "### Step6: Split the dataset "
   ]
  },
  {
   "cell_type": "code",
   "execution_count": 17,
   "id": "c4d19316",
   "metadata": {
    "execution": {
     "iopub.execute_input": "2023-07-27T08:39:38.099481Z",
     "iopub.status.busy": "2023-07-27T08:39:38.099088Z",
     "iopub.status.idle": "2023-07-27T08:39:39.774824Z",
     "shell.execute_reply": "2023-07-27T08:39:39.773480Z"
    },
    "papermill": {
     "duration": 1.698567,
     "end_time": "2023-07-27T08:39:39.780631",
     "exception": true,
     "start_time": "2023-07-27T08:39:38.082064",
     "status": "failed"
    },
    "tags": []
   },
   "outputs": [
    {
     "data": {
      "text/html": [
       "<pre style=\"white-space:pre;overflow-x:auto;line-height:normal;font-family:Menlo,'DejaVu Sans Mono',consolas,'Courier New',monospace\"><span style=\"color: #800000; text-decoration-color: #800000\">╭─────────────────────────────── </span><span style=\"color: #800000; text-decoration-color: #800000; font-weight: bold\">Traceback </span><span style=\"color: #bf7f7f; text-decoration-color: #bf7f7f; font-weight: bold\">(most recent call last)</span><span style=\"color: #800000; text-decoration-color: #800000\"> ────────────────────────────────╮</span>\n",
       "<span style=\"color: #800000; text-decoration-color: #800000\">│</span> in <span style=\"color: #00ff00; text-decoration-color: #00ff00\">&lt;module&gt;</span>:<span style=\"color: #0000ff; text-decoration-color: #0000ff\">2</span>                                                                                    <span style=\"color: #800000; text-decoration-color: #800000\">│</span>\n",
       "<span style=\"color: #800000; text-decoration-color: #800000\">│</span>                                                                                                  <span style=\"color: #800000; text-decoration-color: #800000\">│</span>\n",
       "<span style=\"color: #800000; text-decoration-color: #800000\">│</span>   <span style=\"color: #7f7f7f; text-decoration-color: #7f7f7f\">1 # Split data into training, testing sets &amp; validation sets </span>                                  <span style=\"color: #800000; text-decoration-color: #800000\">│</span>\n",
       "<span style=\"color: #800000; text-decoration-color: #800000\">│</span> <span style=\"color: #800000; text-decoration-color: #800000\">❱ </span>2 train_texts, test_texts, train_labels, test_labels = train_test_split(                       <span style=\"color: #800000; text-decoration-color: #800000\">│</span>\n",
       "<span style=\"color: #800000; text-decoration-color: #800000\">│</span>   <span style=\"color: #7f7f7f; text-decoration-color: #7f7f7f\">3 </span><span style=\"color: #7f7f7f; text-decoration-color: #7f7f7f\">│   </span>df[<span style=\"color: #808000; text-decoration-color: #808000\">'comment_text'</span>], df.iloc[:, <span style=\"color: #0000ff; text-decoration-color: #0000ff\">2</span>:], test_size=<span style=\"color: #0000ff; text-decoration-color: #0000ff\">0.3</span>,stratify=<span style=\"color: #0000ff; text-decoration-color: #0000ff\">True</span>, random_state=<span style=\"color: #0000ff; text-decoration-color: #0000ff\">42</span>)        <span style=\"color: #800000; text-decoration-color: #800000\">│</span>\n",
       "<span style=\"color: #800000; text-decoration-color: #800000\">│</span>   <span style=\"color: #7f7f7f; text-decoration-color: #7f7f7f\">4 </span>                                                                                             <span style=\"color: #800000; text-decoration-color: #800000\">│</span>\n",
       "<span style=\"color: #800000; text-decoration-color: #800000\">│</span>                                                                                                  <span style=\"color: #800000; text-decoration-color: #800000\">│</span>\n",
       "<span style=\"color: #800000; text-decoration-color: #800000\">│</span> <span style=\"color: #bfbf7f; text-decoration-color: #bfbf7f\">/opt/conda/lib/python3.10/site-packages/sklearn/model_selection/</span><span style=\"color: #808000; text-decoration-color: #808000; font-weight: bold\">_split.py</span>:<span style=\"color: #0000ff; text-decoration-color: #0000ff\">2583</span> in                <span style=\"color: #800000; text-decoration-color: #800000\">│</span>\n",
       "<span style=\"color: #800000; text-decoration-color: #800000\">│</span> <span style=\"color: #00ff00; text-decoration-color: #00ff00\">train_test_split</span>                                                                                 <span style=\"color: #800000; text-decoration-color: #800000\">│</span>\n",
       "<span style=\"color: #800000; text-decoration-color: #800000\">│</span>                                                                                                  <span style=\"color: #800000; text-decoration-color: #800000\">│</span>\n",
       "<span style=\"color: #800000; text-decoration-color: #800000\">│</span>   <span style=\"color: #7f7f7f; text-decoration-color: #7f7f7f\">2580 </span><span style=\"color: #7f7f7f; text-decoration-color: #7f7f7f\">│   │   </span>                                                                                  <span style=\"color: #800000; text-decoration-color: #800000\">│</span>\n",
       "<span style=\"color: #800000; text-decoration-color: #800000\">│</span>   <span style=\"color: #7f7f7f; text-decoration-color: #7f7f7f\">2581 </span><span style=\"color: #7f7f7f; text-decoration-color: #7f7f7f\">│   │   </span>cv = CVClass(test_size=n_test, train_size=n_train, random_state=random_state)     <span style=\"color: #800000; text-decoration-color: #800000\">│</span>\n",
       "<span style=\"color: #800000; text-decoration-color: #800000\">│</span>   <span style=\"color: #7f7f7f; text-decoration-color: #7f7f7f\">2582 </span><span style=\"color: #7f7f7f; text-decoration-color: #7f7f7f\">│   │   </span>                                                                                  <span style=\"color: #800000; text-decoration-color: #800000\">│</span>\n",
       "<span style=\"color: #800000; text-decoration-color: #800000\">│</span> <span style=\"color: #800000; text-decoration-color: #800000\">❱ </span>2583 <span style=\"color: #7f7f7f; text-decoration-color: #7f7f7f\">│   │   </span>train, test = <span style=\"color: #00ffff; text-decoration-color: #00ffff\">next</span>(cv.split(X=arrays[<span style=\"color: #0000ff; text-decoration-color: #0000ff\">0</span>], y=stratify))                             <span style=\"color: #800000; text-decoration-color: #800000\">│</span>\n",
       "<span style=\"color: #800000; text-decoration-color: #800000\">│</span>   <span style=\"color: #7f7f7f; text-decoration-color: #7f7f7f\">2584 </span><span style=\"color: #7f7f7f; text-decoration-color: #7f7f7f\">│   </span>                                                                                      <span style=\"color: #800000; text-decoration-color: #800000\">│</span>\n",
       "<span style=\"color: #800000; text-decoration-color: #800000\">│</span>   <span style=\"color: #7f7f7f; text-decoration-color: #7f7f7f\">2585 </span><span style=\"color: #7f7f7f; text-decoration-color: #7f7f7f\">│   </span><span style=\"color: #0000ff; text-decoration-color: #0000ff\">return</span> <span style=\"color: #00ffff; text-decoration-color: #00ffff\">list</span>(                                                                          <span style=\"color: #800000; text-decoration-color: #800000\">│</span>\n",
       "<span style=\"color: #800000; text-decoration-color: #800000\">│</span>   <span style=\"color: #7f7f7f; text-decoration-color: #7f7f7f\">2586 </span><span style=\"color: #7f7f7f; text-decoration-color: #7f7f7f\">│   │   </span>chain.from_iterable(                                                              <span style=\"color: #800000; text-decoration-color: #800000\">│</span>\n",
       "<span style=\"color: #800000; text-decoration-color: #800000\">│</span>                                                                                                  <span style=\"color: #800000; text-decoration-color: #800000\">│</span>\n",
       "<span style=\"color: #800000; text-decoration-color: #800000\">│</span> <span style=\"color: #bfbf7f; text-decoration-color: #bfbf7f\">/opt/conda/lib/python3.10/site-packages/sklearn/model_selection/</span><span style=\"color: #808000; text-decoration-color: #808000; font-weight: bold\">_split.py</span>:<span style=\"color: #0000ff; text-decoration-color: #0000ff\">2160</span> in <span style=\"color: #00ff00; text-decoration-color: #00ff00\">split</span>          <span style=\"color: #800000; text-decoration-color: #800000\">│</span>\n",
       "<span style=\"color: #800000; text-decoration-color: #800000\">│</span>                                                                                                  <span style=\"color: #800000; text-decoration-color: #800000\">│</span>\n",
       "<span style=\"color: #800000; text-decoration-color: #800000\">│</span>   <span style=\"color: #7f7f7f; text-decoration-color: #7f7f7f\">2157 </span><span style=\"color: #bfbf7f; text-decoration-color: #bfbf7f\">│   │   </span><span style=\"color: #808000; text-decoration-color: #808000\">split. You can make the results identical by setting `random_state`</span>               <span style=\"color: #800000; text-decoration-color: #800000\">│</span>\n",
       "<span style=\"color: #800000; text-decoration-color: #800000\">│</span>   <span style=\"color: #7f7f7f; text-decoration-color: #7f7f7f\">2158 </span><span style=\"color: #bfbf7f; text-decoration-color: #bfbf7f\">│   │   </span><span style=\"color: #808000; text-decoration-color: #808000\">to an integer.</span>                                                                    <span style=\"color: #800000; text-decoration-color: #800000\">│</span>\n",
       "<span style=\"color: #800000; text-decoration-color: #800000\">│</span>   <span style=\"color: #7f7f7f; text-decoration-color: #7f7f7f\">2159 </span><span style=\"color: #bfbf7f; text-decoration-color: #bfbf7f\">│   │   </span><span style=\"color: #808000; text-decoration-color: #808000\">\"\"\"</span>                                                                               <span style=\"color: #800000; text-decoration-color: #800000\">│</span>\n",
       "<span style=\"color: #800000; text-decoration-color: #800000\">│</span> <span style=\"color: #800000; text-decoration-color: #800000\">❱ </span>2160 <span style=\"color: #7f7f7f; text-decoration-color: #7f7f7f\">│   │   </span>y = check_array(y, input_name=<span style=\"color: #808000; text-decoration-color: #808000\">\"y\"</span>, ensure_2d=<span style=\"color: #0000ff; text-decoration-color: #0000ff\">False</span>, dtype=<span style=\"color: #0000ff; text-decoration-color: #0000ff\">None</span>)                   <span style=\"color: #800000; text-decoration-color: #800000\">│</span>\n",
       "<span style=\"color: #800000; text-decoration-color: #800000\">│</span>   <span style=\"color: #7f7f7f; text-decoration-color: #7f7f7f\">2161 </span><span style=\"color: #7f7f7f; text-decoration-color: #7f7f7f\">│   │   </span><span style=\"color: #0000ff; text-decoration-color: #0000ff\">return</span> <span style=\"color: #00ffff; text-decoration-color: #00ffff\">super</span>().split(X, y, groups)                                                <span style=\"color: #800000; text-decoration-color: #800000\">│</span>\n",
       "<span style=\"color: #800000; text-decoration-color: #800000\">│</span>   <span style=\"color: #7f7f7f; text-decoration-color: #7f7f7f\">2162 </span>                                                                                          <span style=\"color: #800000; text-decoration-color: #800000\">│</span>\n",
       "<span style=\"color: #800000; text-decoration-color: #800000\">│</span>   <span style=\"color: #7f7f7f; text-decoration-color: #7f7f7f\">2163 </span>                                                                                          <span style=\"color: #800000; text-decoration-color: #800000\">│</span>\n",
       "<span style=\"color: #800000; text-decoration-color: #800000\">│</span>                                                                                                  <span style=\"color: #800000; text-decoration-color: #800000\">│</span>\n",
       "<span style=\"color: #800000; text-decoration-color: #800000\">│</span> <span style=\"color: #bfbf7f; text-decoration-color: #bfbf7f\">/opt/conda/lib/python3.10/site-packages/sklearn/utils/</span><span style=\"color: #808000; text-decoration-color: #808000; font-weight: bold\">validation.py</span>:<span style=\"color: #0000ff; text-decoration-color: #0000ff\">929</span> in <span style=\"color: #00ff00; text-decoration-color: #00ff00\">check_array</span>           <span style=\"color: #800000; text-decoration-color: #800000\">│</span>\n",
       "<span style=\"color: #800000; text-decoration-color: #800000\">│</span>                                                                                                  <span style=\"color: #800000; text-decoration-color: #800000\">│</span>\n",
       "<span style=\"color: #800000; text-decoration-color: #800000\">│</span>   <span style=\"color: #7f7f7f; text-decoration-color: #7f7f7f\"> 926 </span><span style=\"color: #7f7f7f; text-decoration-color: #7f7f7f\">│   │   │   </span>)                                                                             <span style=\"color: #800000; text-decoration-color: #800000\">│</span>\n",
       "<span style=\"color: #800000; text-decoration-color: #800000\">│</span>   <span style=\"color: #7f7f7f; text-decoration-color: #7f7f7f\"> 927 </span><span style=\"color: #7f7f7f; text-decoration-color: #7f7f7f\">│   </span>                                                                                      <span style=\"color: #800000; text-decoration-color: #800000\">│</span>\n",
       "<span style=\"color: #800000; text-decoration-color: #800000\">│</span>   <span style=\"color: #7f7f7f; text-decoration-color: #7f7f7f\"> 928 </span><span style=\"color: #7f7f7f; text-decoration-color: #7f7f7f\">│   </span><span style=\"color: #0000ff; text-decoration-color: #0000ff\">if</span> ensure_min_samples &gt; <span style=\"color: #0000ff; text-decoration-color: #0000ff\">0</span>:                                                            <span style=\"color: #800000; text-decoration-color: #800000\">│</span>\n",
       "<span style=\"color: #800000; text-decoration-color: #800000\">│</span> <span style=\"color: #800000; text-decoration-color: #800000\">❱ </span> 929 <span style=\"color: #7f7f7f; text-decoration-color: #7f7f7f\">│   │   </span>n_samples = _num_samples(array)                                                   <span style=\"color: #800000; text-decoration-color: #800000\">│</span>\n",
       "<span style=\"color: #800000; text-decoration-color: #800000\">│</span>   <span style=\"color: #7f7f7f; text-decoration-color: #7f7f7f\"> 930 </span><span style=\"color: #7f7f7f; text-decoration-color: #7f7f7f\">│   │   </span><span style=\"color: #0000ff; text-decoration-color: #0000ff\">if</span> n_samples &lt; ensure_min_samples:                                                <span style=\"color: #800000; text-decoration-color: #800000\">│</span>\n",
       "<span style=\"color: #800000; text-decoration-color: #800000\">│</span>   <span style=\"color: #7f7f7f; text-decoration-color: #7f7f7f\"> 931 </span><span style=\"color: #7f7f7f; text-decoration-color: #7f7f7f\">│   │   │   </span><span style=\"color: #0000ff; text-decoration-color: #0000ff\">raise</span> <span style=\"color: #00ffff; text-decoration-color: #00ffff\">ValueError</span>(                                                             <span style=\"color: #800000; text-decoration-color: #800000\">│</span>\n",
       "<span style=\"color: #800000; text-decoration-color: #800000\">│</span>   <span style=\"color: #7f7f7f; text-decoration-color: #7f7f7f\"> 932 </span><span style=\"color: #7f7f7f; text-decoration-color: #7f7f7f\">│   │   │   │   </span><span style=\"color: #808000; text-decoration-color: #808000\">\"Found array with %d sample(s) (shape=%s) while a\"</span>                        <span style=\"color: #800000; text-decoration-color: #800000\">│</span>\n",
       "<span style=\"color: #800000; text-decoration-color: #800000\">│</span>                                                                                                  <span style=\"color: #800000; text-decoration-color: #800000\">│</span>\n",
       "<span style=\"color: #800000; text-decoration-color: #800000\">│</span> <span style=\"color: #bfbf7f; text-decoration-color: #bfbf7f\">/opt/conda/lib/python3.10/site-packages/sklearn/utils/</span><span style=\"color: #808000; text-decoration-color: #808000; font-weight: bold\">validation.py</span>:<span style=\"color: #0000ff; text-decoration-color: #0000ff\">335</span> in <span style=\"color: #00ff00; text-decoration-color: #00ff00\">_num_samples</span>          <span style=\"color: #800000; text-decoration-color: #800000\">│</span>\n",
       "<span style=\"color: #800000; text-decoration-color: #800000\">│</span>                                                                                                  <span style=\"color: #800000; text-decoration-color: #800000\">│</span>\n",
       "<span style=\"color: #800000; text-decoration-color: #800000\">│</span>   <span style=\"color: #7f7f7f; text-decoration-color: #7f7f7f\"> 332 </span><span style=\"color: #7f7f7f; text-decoration-color: #7f7f7f\">│   </span>                                                                                      <span style=\"color: #800000; text-decoration-color: #800000\">│</span>\n",
       "<span style=\"color: #800000; text-decoration-color: #800000\">│</span>   <span style=\"color: #7f7f7f; text-decoration-color: #7f7f7f\"> 333 </span><span style=\"color: #7f7f7f; text-decoration-color: #7f7f7f\">│   </span><span style=\"color: #0000ff; text-decoration-color: #0000ff\">if</span> <span style=\"color: #00ffff; text-decoration-color: #00ffff\">hasattr</span>(x, <span style=\"color: #808000; text-decoration-color: #808000\">\"shape\"</span>) <span style=\"color: #ff00ff; text-decoration-color: #ff00ff\">and</span> x.shape <span style=\"color: #ff00ff; text-decoration-color: #ff00ff\">is</span> <span style=\"color: #ff00ff; text-decoration-color: #ff00ff\">not</span> <span style=\"color: #0000ff; text-decoration-color: #0000ff\">None</span>:                                       <span style=\"color: #800000; text-decoration-color: #800000\">│</span>\n",
       "<span style=\"color: #800000; text-decoration-color: #800000\">│</span>   <span style=\"color: #7f7f7f; text-decoration-color: #7f7f7f\"> 334 </span><span style=\"color: #7f7f7f; text-decoration-color: #7f7f7f\">│   │   </span><span style=\"color: #0000ff; text-decoration-color: #0000ff\">if</span> <span style=\"color: #00ffff; text-decoration-color: #00ffff\">len</span>(x.shape) == <span style=\"color: #0000ff; text-decoration-color: #0000ff\">0</span>:                                                             <span style=\"color: #800000; text-decoration-color: #800000\">│</span>\n",
       "<span style=\"color: #800000; text-decoration-color: #800000\">│</span> <span style=\"color: #800000; text-decoration-color: #800000\">❱ </span> 335 <span style=\"color: #7f7f7f; text-decoration-color: #7f7f7f\">│   │   │   </span><span style=\"color: #0000ff; text-decoration-color: #0000ff\">raise</span> <span style=\"color: #00ffff; text-decoration-color: #00ffff\">TypeError</span>(                                                              <span style=\"color: #800000; text-decoration-color: #800000\">│</span>\n",
       "<span style=\"color: #800000; text-decoration-color: #800000\">│</span>   <span style=\"color: #7f7f7f; text-decoration-color: #7f7f7f\"> 336 </span><span style=\"color: #7f7f7f; text-decoration-color: #7f7f7f\">│   │   │   │   </span><span style=\"color: #808000; text-decoration-color: #808000\">\"Singleton array %r cannot be considered a valid collection.\"</span> % x         <span style=\"color: #800000; text-decoration-color: #800000\">│</span>\n",
       "<span style=\"color: #800000; text-decoration-color: #800000\">│</span>   <span style=\"color: #7f7f7f; text-decoration-color: #7f7f7f\"> 337 </span><span style=\"color: #7f7f7f; text-decoration-color: #7f7f7f\">│   │   │   </span>)                                                                             <span style=\"color: #800000; text-decoration-color: #800000\">│</span>\n",
       "<span style=\"color: #800000; text-decoration-color: #800000\">│</span>   <span style=\"color: #7f7f7f; text-decoration-color: #7f7f7f\"> 338 </span><span style=\"color: #7f7f7f; text-decoration-color: #7f7f7f\">│   │   </span><span style=\"color: #7f7f7f; text-decoration-color: #7f7f7f\"># Check that shape is returning an integer or default to len</span>                      <span style=\"color: #800000; text-decoration-color: #800000\">│</span>\n",
       "<span style=\"color: #800000; text-decoration-color: #800000\">╰──────────────────────────────────────────────────────────────────────────────────────────────────╯</span>\n",
       "<span style=\"color: #ff0000; text-decoration-color: #ff0000; font-weight: bold\">TypeError: </span>Singleton array <span style=\"color: #800080; text-decoration-color: #800080; font-weight: bold\">array</span><span style=\"font-weight: bold\">(</span><span style=\"color: #00ff00; text-decoration-color: #00ff00; font-style: italic\">True</span><span style=\"font-weight: bold\">)</span> cannot be considered a valid collection.\n",
       "</pre>\n"
      ],
      "text/plain": [
       "\u001b[31m╭─\u001b[0m\u001b[31m──────────────────────────────\u001b[0m\u001b[31m \u001b[0m\u001b[1;31mTraceback \u001b[0m\u001b[1;2;31m(most recent call last)\u001b[0m\u001b[31m \u001b[0m\u001b[31m───────────────────────────────\u001b[0m\u001b[31m─╮\u001b[0m\n",
       "\u001b[31m│\u001b[0m in \u001b[92m<module>\u001b[0m:\u001b[94m2\u001b[0m                                                                                    \u001b[31m│\u001b[0m\n",
       "\u001b[31m│\u001b[0m                                                                                                  \u001b[31m│\u001b[0m\n",
       "\u001b[31m│\u001b[0m   \u001b[2m1 \u001b[0m\u001b[2m# Split data into training, testing sets & validation sets \u001b[0m                                  \u001b[31m│\u001b[0m\n",
       "\u001b[31m│\u001b[0m \u001b[31m❱ \u001b[0m2 train_texts, test_texts, train_labels, test_labels = train_test_split(                       \u001b[31m│\u001b[0m\n",
       "\u001b[31m│\u001b[0m   \u001b[2m3 \u001b[0m\u001b[2m│   \u001b[0mdf[\u001b[33m'\u001b[0m\u001b[33mcomment_text\u001b[0m\u001b[33m'\u001b[0m], df.iloc[:, \u001b[94m2\u001b[0m:], test_size=\u001b[94m0.3\u001b[0m,stratify=\u001b[94mTrue\u001b[0m, random_state=\u001b[94m42\u001b[0m)        \u001b[31m│\u001b[0m\n",
       "\u001b[31m│\u001b[0m   \u001b[2m4 \u001b[0m                                                                                             \u001b[31m│\u001b[0m\n",
       "\u001b[31m│\u001b[0m                                                                                                  \u001b[31m│\u001b[0m\n",
       "\u001b[31m│\u001b[0m \u001b[2;33m/opt/conda/lib/python3.10/site-packages/sklearn/model_selection/\u001b[0m\u001b[1;33m_split.py\u001b[0m:\u001b[94m2583\u001b[0m in                \u001b[31m│\u001b[0m\n",
       "\u001b[31m│\u001b[0m \u001b[92mtrain_test_split\u001b[0m                                                                                 \u001b[31m│\u001b[0m\n",
       "\u001b[31m│\u001b[0m                                                                                                  \u001b[31m│\u001b[0m\n",
       "\u001b[31m│\u001b[0m   \u001b[2m2580 \u001b[0m\u001b[2m│   │   \u001b[0m                                                                                  \u001b[31m│\u001b[0m\n",
       "\u001b[31m│\u001b[0m   \u001b[2m2581 \u001b[0m\u001b[2m│   │   \u001b[0mcv = CVClass(test_size=n_test, train_size=n_train, random_state=random_state)     \u001b[31m│\u001b[0m\n",
       "\u001b[31m│\u001b[0m   \u001b[2m2582 \u001b[0m\u001b[2m│   │   \u001b[0m                                                                                  \u001b[31m│\u001b[0m\n",
       "\u001b[31m│\u001b[0m \u001b[31m❱ \u001b[0m2583 \u001b[2m│   │   \u001b[0mtrain, test = \u001b[96mnext\u001b[0m(cv.split(X=arrays[\u001b[94m0\u001b[0m], y=stratify))                             \u001b[31m│\u001b[0m\n",
       "\u001b[31m│\u001b[0m   \u001b[2m2584 \u001b[0m\u001b[2m│   \u001b[0m                                                                                      \u001b[31m│\u001b[0m\n",
       "\u001b[31m│\u001b[0m   \u001b[2m2585 \u001b[0m\u001b[2m│   \u001b[0m\u001b[94mreturn\u001b[0m \u001b[96mlist\u001b[0m(                                                                          \u001b[31m│\u001b[0m\n",
       "\u001b[31m│\u001b[0m   \u001b[2m2586 \u001b[0m\u001b[2m│   │   \u001b[0mchain.from_iterable(                                                              \u001b[31m│\u001b[0m\n",
       "\u001b[31m│\u001b[0m                                                                                                  \u001b[31m│\u001b[0m\n",
       "\u001b[31m│\u001b[0m \u001b[2;33m/opt/conda/lib/python3.10/site-packages/sklearn/model_selection/\u001b[0m\u001b[1;33m_split.py\u001b[0m:\u001b[94m2160\u001b[0m in \u001b[92msplit\u001b[0m          \u001b[31m│\u001b[0m\n",
       "\u001b[31m│\u001b[0m                                                                                                  \u001b[31m│\u001b[0m\n",
       "\u001b[31m│\u001b[0m   \u001b[2m2157 \u001b[0m\u001b[2;33m│   │   \u001b[0m\u001b[33msplit. You can make the results identical by setting `random_state`\u001b[0m               \u001b[31m│\u001b[0m\n",
       "\u001b[31m│\u001b[0m   \u001b[2m2158 \u001b[0m\u001b[2;33m│   │   \u001b[0m\u001b[33mto an integer.\u001b[0m                                                                    \u001b[31m│\u001b[0m\n",
       "\u001b[31m│\u001b[0m   \u001b[2m2159 \u001b[0m\u001b[2;33m│   │   \u001b[0m\u001b[33m\"\"\"\u001b[0m                                                                               \u001b[31m│\u001b[0m\n",
       "\u001b[31m│\u001b[0m \u001b[31m❱ \u001b[0m2160 \u001b[2m│   │   \u001b[0my = check_array(y, input_name=\u001b[33m\"\u001b[0m\u001b[33my\u001b[0m\u001b[33m\"\u001b[0m, ensure_2d=\u001b[94mFalse\u001b[0m, dtype=\u001b[94mNone\u001b[0m)                   \u001b[31m│\u001b[0m\n",
       "\u001b[31m│\u001b[0m   \u001b[2m2161 \u001b[0m\u001b[2m│   │   \u001b[0m\u001b[94mreturn\u001b[0m \u001b[96msuper\u001b[0m().split(X, y, groups)                                                \u001b[31m│\u001b[0m\n",
       "\u001b[31m│\u001b[0m   \u001b[2m2162 \u001b[0m                                                                                          \u001b[31m│\u001b[0m\n",
       "\u001b[31m│\u001b[0m   \u001b[2m2163 \u001b[0m                                                                                          \u001b[31m│\u001b[0m\n",
       "\u001b[31m│\u001b[0m                                                                                                  \u001b[31m│\u001b[0m\n",
       "\u001b[31m│\u001b[0m \u001b[2;33m/opt/conda/lib/python3.10/site-packages/sklearn/utils/\u001b[0m\u001b[1;33mvalidation.py\u001b[0m:\u001b[94m929\u001b[0m in \u001b[92mcheck_array\u001b[0m           \u001b[31m│\u001b[0m\n",
       "\u001b[31m│\u001b[0m                                                                                                  \u001b[31m│\u001b[0m\n",
       "\u001b[31m│\u001b[0m   \u001b[2m 926 \u001b[0m\u001b[2m│   │   │   \u001b[0m)                                                                             \u001b[31m│\u001b[0m\n",
       "\u001b[31m│\u001b[0m   \u001b[2m 927 \u001b[0m\u001b[2m│   \u001b[0m                                                                                      \u001b[31m│\u001b[0m\n",
       "\u001b[31m│\u001b[0m   \u001b[2m 928 \u001b[0m\u001b[2m│   \u001b[0m\u001b[94mif\u001b[0m ensure_min_samples > \u001b[94m0\u001b[0m:                                                            \u001b[31m│\u001b[0m\n",
       "\u001b[31m│\u001b[0m \u001b[31m❱ \u001b[0m 929 \u001b[2m│   │   \u001b[0mn_samples = _num_samples(array)                                                   \u001b[31m│\u001b[0m\n",
       "\u001b[31m│\u001b[0m   \u001b[2m 930 \u001b[0m\u001b[2m│   │   \u001b[0m\u001b[94mif\u001b[0m n_samples < ensure_min_samples:                                                \u001b[31m│\u001b[0m\n",
       "\u001b[31m│\u001b[0m   \u001b[2m 931 \u001b[0m\u001b[2m│   │   │   \u001b[0m\u001b[94mraise\u001b[0m \u001b[96mValueError\u001b[0m(                                                             \u001b[31m│\u001b[0m\n",
       "\u001b[31m│\u001b[0m   \u001b[2m 932 \u001b[0m\u001b[2m│   │   │   │   \u001b[0m\u001b[33m\"\u001b[0m\u001b[33mFound array with \u001b[0m\u001b[33m%d\u001b[0m\u001b[33m sample(s) (shape=\u001b[0m\u001b[33m%s\u001b[0m\u001b[33m) while a\u001b[0m\u001b[33m\"\u001b[0m                        \u001b[31m│\u001b[0m\n",
       "\u001b[31m│\u001b[0m                                                                                                  \u001b[31m│\u001b[0m\n",
       "\u001b[31m│\u001b[0m \u001b[2;33m/opt/conda/lib/python3.10/site-packages/sklearn/utils/\u001b[0m\u001b[1;33mvalidation.py\u001b[0m:\u001b[94m335\u001b[0m in \u001b[92m_num_samples\u001b[0m          \u001b[31m│\u001b[0m\n",
       "\u001b[31m│\u001b[0m                                                                                                  \u001b[31m│\u001b[0m\n",
       "\u001b[31m│\u001b[0m   \u001b[2m 332 \u001b[0m\u001b[2m│   \u001b[0m                                                                                      \u001b[31m│\u001b[0m\n",
       "\u001b[31m│\u001b[0m   \u001b[2m 333 \u001b[0m\u001b[2m│   \u001b[0m\u001b[94mif\u001b[0m \u001b[96mhasattr\u001b[0m(x, \u001b[33m\"\u001b[0m\u001b[33mshape\u001b[0m\u001b[33m\"\u001b[0m) \u001b[95mand\u001b[0m x.shape \u001b[95mis\u001b[0m \u001b[95mnot\u001b[0m \u001b[94mNone\u001b[0m:                                       \u001b[31m│\u001b[0m\n",
       "\u001b[31m│\u001b[0m   \u001b[2m 334 \u001b[0m\u001b[2m│   │   \u001b[0m\u001b[94mif\u001b[0m \u001b[96mlen\u001b[0m(x.shape) == \u001b[94m0\u001b[0m:                                                             \u001b[31m│\u001b[0m\n",
       "\u001b[31m│\u001b[0m \u001b[31m❱ \u001b[0m 335 \u001b[2m│   │   │   \u001b[0m\u001b[94mraise\u001b[0m \u001b[96mTypeError\u001b[0m(                                                              \u001b[31m│\u001b[0m\n",
       "\u001b[31m│\u001b[0m   \u001b[2m 336 \u001b[0m\u001b[2m│   │   │   │   \u001b[0m\u001b[33m\"\u001b[0m\u001b[33mSingleton array \u001b[0m\u001b[33m%r\u001b[0m\u001b[33m cannot be considered a valid collection.\u001b[0m\u001b[33m\"\u001b[0m % x         \u001b[31m│\u001b[0m\n",
       "\u001b[31m│\u001b[0m   \u001b[2m 337 \u001b[0m\u001b[2m│   │   │   \u001b[0m)                                                                             \u001b[31m│\u001b[0m\n",
       "\u001b[31m│\u001b[0m   \u001b[2m 338 \u001b[0m\u001b[2m│   │   \u001b[0m\u001b[2m# Check that shape is returning an integer or default to len\u001b[0m                      \u001b[31m│\u001b[0m\n",
       "\u001b[31m╰──────────────────────────────────────────────────────────────────────────────────────────────────╯\u001b[0m\n",
       "\u001b[1;91mTypeError: \u001b[0mSingleton array \u001b[1;35marray\u001b[0m\u001b[1m(\u001b[0m\u001b[3;92mTrue\u001b[0m\u001b[1m)\u001b[0m cannot be considered a valid collection.\n"
      ]
     },
     "metadata": {},
     "output_type": "display_data"
    }
   ],
   "source": [
    "# Split data into training, testing sets & validation sets \n",
    "train_texts, test_texts, train_labels, test_labels = train_test_split(\n",
    "    df['comment_text'], df.iloc[:, 2:], test_size=0.3,stratify=True, random_state=42)"
   ]
  },
  {
   "cell_type": "code",
   "execution_count": null,
   "id": "38652ca7",
   "metadata": {
    "execution": {
     "iopub.execute_input": "2023-07-27T07:02:14.401990Z",
     "iopub.status.busy": "2023-07-27T07:02:14.401010Z",
     "iopub.status.idle": "2023-07-27T07:02:14.412267Z",
     "shell.execute_reply": "2023-07-27T07:02:14.411106Z",
     "shell.execute_reply.started": "2023-07-27T07:02:14.401951Z"
    },
    "papermill": {
     "duration": null,
     "end_time": null,
     "exception": null,
     "start_time": null,
     "status": "pending"
    },
    "tags": []
   },
   "outputs": [],
   "source": [
    "#validation set\n",
    "test_texts, val_texts, test_labels, val_labels = train_test_split(\n",
    "    test_texts, test_labels, test_size=0.5, random_state=42)"
   ]
  },
  {
   "cell_type": "code",
   "execution_count": null,
   "id": "68427450",
   "metadata": {
    "execution": {
     "iopub.execute_input": "2023-07-27T07:02:14.414419Z",
     "iopub.status.busy": "2023-07-27T07:02:14.413829Z",
     "iopub.status.idle": "2023-07-27T07:03:16.460292Z",
     "shell.execute_reply": "2023-07-27T07:03:16.459014Z",
     "shell.execute_reply.started": "2023-07-27T07:02:14.414348Z"
    },
    "papermill": {
     "duration": null,
     "end_time": null,
     "exception": null,
     "start_time": null,
     "status": "pending"
    },
    "tags": []
   },
   "outputs": [],
   "source": [
    "# Tokenize and Encode the comments and labels for the training set\n",
    "input_ids, attention_masks, labels = tokenize_and_encode(\n",
    "    tokenizer, \n",
    "    train_texts, \n",
    "    train_labels.values\n",
    ")"
   ]
  },
  {
   "cell_type": "code",
   "execution_count": null,
   "id": "e3c53c19",
   "metadata": {
    "execution": {
     "iopub.execute_input": "2023-07-27T07:03:16.462553Z",
     "iopub.status.busy": "2023-07-27T07:03:16.462130Z",
     "iopub.status.idle": "2023-07-27T07:03:30.899965Z",
     "shell.execute_reply": "2023-07-27T07:03:30.898896Z",
     "shell.execute_reply.started": "2023-07-27T07:03:16.462517Z"
    },
    "papermill": {
     "duration": null,
     "end_time": null,
     "exception": null,
     "start_time": null,
     "status": "pending"
    },
    "tags": []
   },
   "outputs": [],
   "source": [
    "# Step 4: Tokenize and Encode the comments and labels for the test set\n",
    "test_input_ids, test_attention_masks, test_labels = tokenize_and_encode(\n",
    "    tokenizer,\n",
    "    test_texts,\n",
    "    test_labels.values\n",
    ")"
   ]
  },
  {
   "cell_type": "code",
   "execution_count": null,
   "id": "94d074d8",
   "metadata": {
    "execution": {
     "iopub.execute_input": "2023-07-27T07:03:30.902094Z",
     "iopub.status.busy": "2023-07-27T07:03:30.901497Z",
     "iopub.status.idle": "2023-07-27T07:03:44.746879Z",
     "shell.execute_reply": "2023-07-27T07:03:44.745809Z",
     "shell.execute_reply.started": "2023-07-27T07:03:30.902058Z"
    },
    "papermill": {
     "duration": null,
     "end_time": null,
     "exception": null,
     "start_time": null,
     "status": "pending"
    },
    "tags": []
   },
   "outputs": [],
   "source": [
    "# Tokenize and Encode the comments and labels for the validation set\n",
    "val_input_ids, val_attention_masks, val_labels = tokenize_and_encode(\n",
    "    tokenizer,\n",
    "    val_texts,\n",
    "    val_labels.values\n",
    ")"
   ]
  },
  {
   "cell_type": "markdown",
   "id": "c2401fe7",
   "metadata": {
    "papermill": {
     "duration": null,
     "end_time": null,
     "exception": null,
     "start_time": null,
     "status": "pending"
    },
    "tags": []
   },
   "source": [
    "#### Creating DataLoaders for training dataset"
   ]
  },
  {
   "cell_type": "code",
   "execution_count": null,
   "id": "837960e7",
   "metadata": {
    "execution": {
     "iopub.execute_input": "2023-07-27T07:03:44.750999Z",
     "iopub.status.busy": "2023-07-27T07:03:44.750593Z",
     "iopub.status.idle": "2023-07-27T07:03:44.766308Z",
     "shell.execute_reply": "2023-07-27T07:03:44.765191Z",
     "shell.execute_reply.started": "2023-07-27T07:03:44.750964Z"
    },
    "papermill": {
     "duration": null,
     "end_time": null,
     "exception": null,
     "start_time": null,
     "status": "pending"
    },
    "tags": []
   },
   "outputs": [],
   "source": [
    "# Creating DataLoader for the balanced dataset\n",
    "batch_size = 32\n",
    "train_dataset = TensorDataset(input_ids, attention_masks, labels)\n",
    "train_loader = DataLoader(train_dataset, batch_size=batch_size, shuffle=True)\n",
    "\n",
    "#test\n",
    "test_dataset = TensorDataset(test_input_ids, test_attention_masks, test_labels)\n",
    "test_loader = DataLoader(test_dataset, batch_size=batch_size, shuffle=False)\n",
    "\n",
    "#val\n",
    "val_dataset = TensorDataset(val_input_ids, val_attention_masks, val_labels)\n",
    "val_loader = DataLoader(val_dataset, batch_size=batch_size, shuffle=False)"
   ]
  },
  {
   "cell_type": "markdown",
   "id": "b6aeb809",
   "metadata": {
    "papermill": {
     "duration": null,
     "end_time": null,
     "exception": null,
     "start_time": null,
     "status": "pending"
    },
    "tags": []
   },
   "source": [
    "#### Initialising optimizer\n",
    "Initializes the optimizer for training the model \n",
    "\n",
    "Adam with Weight Decay (AdamW) is a variant of the Adam optimizer that incorporates weight decay (L2 regularization) during the parameter updates. It is an extension of the original Adam optimizer and addresses some of its limitations when using weight decay as a regularization technique."
   ]
  },
  {
   "cell_type": "code",
   "execution_count": null,
   "id": "be0b566b",
   "metadata": {
    "execution": {
     "iopub.execute_input": "2023-07-27T07:03:44.787921Z",
     "iopub.status.busy": "2023-07-27T07:03:44.787556Z",
     "iopub.status.idle": "2023-07-27T07:03:44.806336Z",
     "shell.execute_reply": "2023-07-27T07:03:44.805276Z",
     "shell.execute_reply.started": "2023-07-27T07:03:44.787886Z"
    },
    "papermill": {
     "duration": null,
     "end_time": null,
     "exception": null,
     "start_time": null,
     "status": "pending"
    },
    "tags": []
   },
   "outputs": [],
   "source": [
    "# Optimizer setup\n",
    "optimizer = AdamW(model.parameters(), lr=2e-5)"
   ]
  },
  {
   "cell_type": "markdown",
   "id": "da3cfbe0",
   "metadata": {
    "papermill": {
     "duration": null,
     "end_time": null,
     "exception": null,
     "start_time": null,
     "status": "pending"
    },
    "tags": []
   },
   "source": [
    "### Step8: Model training "
   ]
  },
  {
   "cell_type": "code",
   "execution_count": null,
   "id": "667c09dd",
   "metadata": {
    "execution": {
     "iopub.execute_input": "2023-07-27T07:03:44.811746Z",
     "iopub.status.busy": "2023-07-27T07:03:44.809437Z",
     "iopub.status.idle": "2023-07-27T07:29:03.757169Z",
     "shell.execute_reply": "2023-07-27T07:29:03.755823Z",
     "shell.execute_reply.started": "2023-07-27T07:03:44.811710Z"
    },
    "papermill": {
     "duration": null,
     "end_time": null,
     "exception": null,
     "start_time": null,
     "status": "pending"
    },
    "tags": []
   },
   "outputs": [],
   "source": [
    "# Function to Train the Model\n",
    "def train_model(model, train_loader, optimizer, device, num_epochs):\n",
    "    # Loop through the specified number of epochs\n",
    "    for epoch in range(num_epochs):\n",
    "        # Set the model to training mode\n",
    "        model.train() \n",
    "        # Initialize total loss for the current epoch\n",
    "        total_loss = 0  \n",
    "\n",
    "        # Loop through the batches in the training data\n",
    "        for batch in train_loader:\n",
    "            input_ids, attention_mask, labels = [t.to(device) for t in batch]\n",
    "\n",
    "            optimizer.zero_grad()\n",
    "\n",
    "            outputs = model(input_ids, attention_mask=attention_mask, labels=labels)\n",
    "            loss = outputs.loss\n",
    "            total_loss += loss.item()\n",
    "\n",
    "            loss.backward()\n",
    "            optimizer.step()\n",
    "\n",
    "        model.eval()  # Set the model to evaluation mode\n",
    "        val_loss = 0\n",
    "\n",
    "        # Disable gradient computation during validation\n",
    "        with torch.no_grad():\n",
    "            for batch in val_loader:\n",
    "                input_ids, attention_mask, labels = [t.to(device) for t in batch]\n",
    "\n",
    "                outputs = model(input_ids, attention_mask=attention_mask, labels=labels)\n",
    "                loss = outputs.loss\n",
    "                val_loss += loss.item()\n",
    "        # Print the average loss for the current epoch\n",
    "        print(f'Epoch {epoch+1}, Training Loss: {total_loss/len(train_loader)},Validation loss:{val_loss/len(val_loader)}')\n",
    "\n",
    "# Call the function to train the model\n",
    "train_model(model, train_loader, optimizer, device, num_epochs=3)"
   ]
  },
  {
   "cell_type": "markdown",
   "id": "510447e0",
   "metadata": {
    "papermill": {
     "duration": null,
     "end_time": null,
     "exception": null,
     "start_time": null,
     "status": "pending"
    },
    "tags": []
   },
   "source": [
    "### Step9: Model Evaluation "
   ]
  },
  {
   "cell_type": "code",
   "execution_count": null,
   "id": "8838418a",
   "metadata": {
    "execution": {
     "iopub.execute_input": "2023-07-27T07:29:03.769857Z",
     "iopub.status.busy": "2023-07-27T07:29:03.769019Z",
     "iopub.status.idle": "2023-07-27T07:29:39.690037Z",
     "shell.execute_reply": "2023-07-27T07:29:39.688594Z",
     "shell.execute_reply.started": "2023-07-27T07:29:03.769817Z"
    },
    "papermill": {
     "duration": null,
     "end_time": null,
     "exception": null,
     "start_time": null,
     "status": "pending"
    },
    "tags": []
   },
   "outputs": [],
   "source": [
    "# Evaluate the Model\n",
    "def evaluate_model(model, test_loader, device):\n",
    "    model.eval()  # Set the model to evaluation mode\n",
    "\n",
    "    true_labels = []\n",
    "    predicted_probs = []\n",
    "\n",
    "    with torch.no_grad():\n",
    "        for batch in test_loader:\n",
    "            input_ids, attention_mask, labels = [t.to(device) for t in batch]\n",
    "\n",
    "            # Get model's predictions\n",
    "            outputs = model(input_ids, attention_mask=attention_mask)\n",
    "            predicted_probs_batch = torch.sigmoid(outputs.logits)  # Use sigmoid for multilabel classification\n",
    "            predicted_probs.append(predicted_probs_batch.cpu().numpy())\n",
    "\n",
    "            true_labels_batch = labels.cpu().numpy()\n",
    "            true_labels.append(true_labels_batch)\n",
    "\n",
    "    # Combine predictions and labels for evaluation\n",
    "    true_labels = np.concatenate(true_labels, axis=0)\n",
    "    predicted_probs = np.concatenate(predicted_probs, axis=0)\n",
    "    predicted_labels = (predicted_probs > 0.5).astype(int)  # Apply threshold for binary classification\n",
    "\n",
    "    # Calculate evaluation metrics\n",
    "    accuracy = accuracy_score(true_labels, predicted_labels)\n",
    "    precision = precision_score(true_labels, predicted_labels, average='micro')\n",
    "    recall = recall_score(true_labels, predicted_labels, average='micro')\n",
    "\n",
    "    # Print the evaluation metrics\n",
    "    print(f'Accuracy: {accuracy:.4f}')\n",
    "    print(f'Precision: {precision:.4f}')\n",
    "    print(f'Recall: {recall:.4f}')\n",
    "\n",
    "# Call the function to evaluate the model on the test data\n",
    "evaluate_model(model, test_loader, device)"
   ]
  },
  {
   "cell_type": "markdown",
   "id": "80a75262",
   "metadata": {
    "papermill": {
     "duration": null,
     "end_time": null,
     "exception": null,
     "start_time": null,
     "status": "pending"
    },
    "tags": []
   },
   "source": [
    "## Save the model"
   ]
  },
  {
   "cell_type": "code",
   "execution_count": null,
   "id": "daf96d20",
   "metadata": {
    "execution": {
     "iopub.execute_input": "2023-07-27T07:56:20.048596Z",
     "iopub.status.busy": "2023-07-27T07:56:20.048181Z",
     "iopub.status.idle": "2023-07-27T07:56:20.741573Z",
     "shell.execute_reply": "2023-07-27T07:56:20.740395Z",
     "shell.execute_reply.started": "2023-07-27T07:56:20.048559Z"
    },
    "papermill": {
     "duration": null,
     "end_time": null,
     "exception": null,
     "start_time": null,
     "status": "pending"
    },
    "tags": []
   },
   "outputs": [],
   "source": [
    "# Save the tokenizer and model in the same directory\n",
    "output_dir = \"/kaggle/working/Saved_model\"\n",
    "model.save_pretrained(output_dir)  # Save model's state dictionary and configuration\n",
    "tokenizer.save_pretrained(output_dir)  # Save tokenizer's configuration and vocabulary"
   ]
  },
  {
   "cell_type": "markdown",
   "id": "08c0c1b5",
   "metadata": {
    "papermill": {
     "duration": null,
     "end_time": null,
     "exception": null,
     "start_time": null,
     "status": "pending"
    },
    "tags": []
   },
   "source": [
    "## Load the model"
   ]
  },
  {
   "cell_type": "code",
   "execution_count": null,
   "id": "3086df1e",
   "metadata": {
    "execution": {
     "iopub.execute_input": "2023-07-27T08:30:16.502097Z",
     "iopub.status.busy": "2023-07-27T08:30:16.501674Z",
     "iopub.status.idle": "2023-07-27T08:30:17.724054Z",
     "shell.execute_reply": "2023-07-27T08:30:17.722852Z",
     "shell.execute_reply.started": "2023-07-27T08:30:16.502064Z"
    },
    "papermill": {
     "duration": null,
     "end_time": null,
     "exception": null,
     "start_time": null,
     "status": "pending"
    },
    "tags": []
   },
   "outputs": [],
   "source": [
    "# Load the tokenizer and model from the saved directory\n",
    "model_name =\"/kaggle/working/Saved_model\"\n",
    "Bert_Tokenizer = BertTokenizer.from_pretrained(model_name)\n",
    "Bert_Model = BertForSequenceClassification.from_pretrained(model_name).to(device)"
   ]
  },
  {
   "cell_type": "markdown",
   "id": "38a0415e",
   "metadata": {
    "papermill": {
     "duration": null,
     "end_time": null,
     "exception": null,
     "start_time": null,
     "status": "pending"
    },
    "tags": []
   },
   "source": [
    "### Prediction for user input"
   ]
  },
  {
   "cell_type": "code",
   "execution_count": null,
   "id": "9c861c32",
   "metadata": {
    "execution": {
     "iopub.execute_input": "2023-07-27T08:30:21.556282Z",
     "iopub.status.busy": "2023-07-27T08:30:21.555888Z",
     "iopub.status.idle": "2023-07-27T08:30:21.594192Z",
     "shell.execute_reply": "2023-07-27T08:30:21.593016Z",
     "shell.execute_reply.started": "2023-07-27T08:30:21.556249Z"
    },
    "papermill": {
     "duration": null,
     "end_time": null,
     "exception": null,
     "start_time": null,
     "status": "pending"
    },
    "tags": []
   },
   "outputs": [],
   "source": [
    "def predict_user_input(input_text, model=Bert_Model, tokenizer=Bert_Tokenizer,device=device):\n",
    "    user_input = [input_text]\n",
    "\n",
    "    user_encodings = tokenizer(user_input, truncation=True, padding=True, return_tensors=\"pt\")\n",
    "\n",
    "    user_dataset = TensorDataset(user_encodings['input_ids'], user_encodings['attention_mask'])\n",
    "\n",
    "    user_loader = DataLoader(user_dataset, batch_size=1, shuffle=False)\n",
    "\n",
    "    model.eval()\n",
    "    with torch.no_grad():\n",
    "        for batch in user_loader:\n",
    "            input_ids, attention_mask = [t.to(device) for t in batch]\n",
    "            outputs = model(input_ids, attention_mask=attention_mask)\n",
    "            logits = outputs.logits\n",
    "            predictions = torch.sigmoid(logits)\n",
    "\n",
    "    predicted_labels = (predictions.cpu().numpy() > 0.5).astype(int)\n",
    "    labels_list = ['toxic', 'severe_toxic', 'obscene', 'threat', 'insult', 'identity_hate']\n",
    "    result = dict(zip(labels_list, predicted_labels[0]))\n",
    "    return result\n",
    "text = 'Are you insane!'\n",
    "predict_user_input(input_text=text)"
   ]
  },
  {
   "cell_type": "code",
   "execution_count": null,
   "id": "70a9918e",
   "metadata": {
    "execution": {
     "iopub.execute_input": "2023-07-27T08:30:41.457328Z",
     "iopub.status.busy": "2023-07-27T08:30:41.456913Z",
     "iopub.status.idle": "2023-07-27T08:30:41.489081Z",
     "shell.execute_reply": "2023-07-27T08:30:41.488107Z",
     "shell.execute_reply.started": "2023-07-27T08:30:41.457291Z"
    },
    "papermill": {
     "duration": null,
     "end_time": null,
     "exception": null,
     "start_time": null,
     "status": "pending"
    },
    "tags": []
   },
   "outputs": [],
   "source": [
    "predict_user_input(input_text='How are you?')"
   ]
  },
  {
   "cell_type": "markdown",
   "id": "f5f4496f",
   "metadata": {
    "papermill": {
     "duration": null,
     "end_time": null,
     "exception": null,
     "start_time": null,
     "status": "pending"
    },
    "tags": []
   },
   "source": [
    "#### let's test it "
   ]
  },
  {
   "cell_type": "code",
   "execution_count": null,
   "id": "041ca221",
   "metadata": {
    "execution": {
     "iopub.execute_input": "2023-07-27T08:30:56.548056Z",
     "iopub.status.busy": "2023-07-27T08:30:56.547647Z",
     "iopub.status.idle": "2023-07-27T08:30:56.577251Z",
     "shell.execute_reply": "2023-07-27T08:30:56.575991Z",
     "shell.execute_reply.started": "2023-07-27T08:30:56.548022Z"
    },
    "papermill": {
     "duration": null,
     "end_time": null,
     "exception": null,
     "start_time": null,
     "status": "pending"
    },
    "tags": []
   },
   "outputs": [],
   "source": [
    "input_text = 'You are insane'\n",
    "predict_user_input(input_text)"
   ]
  },
  {
   "cell_type": "code",
   "execution_count": null,
   "id": "bcb21afd",
   "metadata": {
    "execution": {
     "iopub.execute_input": "2023-07-27T08:30:59.800292Z",
     "iopub.status.busy": "2023-07-27T08:30:59.799885Z",
     "iopub.status.idle": "2023-07-27T08:30:59.831109Z",
     "shell.execute_reply": "2023-07-27T08:30:59.829911Z",
     "shell.execute_reply.started": "2023-07-27T08:30:59.800257Z"
    },
    "papermill": {
     "duration": null,
     "end_time": null,
     "exception": null,
     "start_time": null,
     "status": "pending"
    },
    "tags": []
   },
   "outputs": [],
   "source": [
    "text = \"Such a Idiot person\"\n",
    "predict_user_input(model=Bert_Model, \n",
    "                   tokenizer=Bert_Tokenizer,\n",
    "                   input_text=text, \n",
    "                   device=device)"
   ]
  },
  {
   "cell_type": "code",
   "execution_count": null,
   "id": "8cc86b37",
   "metadata": {
    "execution": {
     "iopub.execute_input": "2023-07-27T08:31:15.947917Z",
     "iopub.status.busy": "2023-07-27T08:31:15.947503Z",
     "iopub.status.idle": "2023-07-27T08:31:15.977115Z",
     "shell.execute_reply": "2023-07-27T08:31:15.975916Z",
     "shell.execute_reply.started": "2023-07-27T08:31:15.947883Z"
    },
    "papermill": {
     "duration": null,
     "end_time": null,
     "exception": null,
     "start_time": null,
     "status": "pending"
    },
    "tags": []
   },
   "outputs": [],
   "source": [
    "text = \"I'll kill you\"\n",
    "predict_user_input(model=Bert_Model, \n",
    "                   tokenizer=Bert_Tokenizer,\n",
    "                   input_text=text, \n",
    "                   device=device)"
   ]
  },
  {
   "cell_type": "code",
   "execution_count": null,
   "id": "82f6f9f3",
   "metadata": {
    "papermill": {
     "duration": null,
     "end_time": null,
     "exception": null,
     "start_time": null,
     "status": "pending"
    },
    "tags": []
   },
   "outputs": [],
   "source": [
    "text = \"I'll kill you\"\n",
    "predict_user_input(model=Bert_Model, \n",
    "                   tokenizer=Bert_Tokenizer,\n",
    "                   input_text=text, \n",
    "                   device=device)"
   ]
  }
 ],
 "metadata": {
  "kernelspec": {
   "display_name": "Python 3",
   "language": "python",
   "name": "python3"
  },
  "language_info": {
   "codemirror_mode": {
    "name": "ipython",
    "version": 3
   },
   "file_extension": ".py",
   "mimetype": "text/x-python",
   "name": "python",
   "nbconvert_exporter": "python",
   "pygments_lexer": "ipython3",
   "version": "3.10.12"
  },
  "papermill": {
   "default_parameters": {},
   "duration": 45.912592,
   "end_time": "2023-07-27T08:39:43.292332",
   "environment_variables": {},
   "exception": true,
   "input_path": "__notebook__.ipynb",
   "output_path": "__notebook__.ipynb",
   "parameters": {},
   "start_time": "2023-07-27T08:38:57.379740",
   "version": "2.4.0"
  },
  "widgets": {
   "application/vnd.jupyter.widget-state+json": {
    "state": {
     "077e2fed3e084338a55e6d43974b91e0": {
      "model_module": "@jupyter-widgets/controls",
      "model_module_version": "1.5.0",
      "model_name": "HTMLModel",
      "state": {
       "_dom_classes": [],
       "_model_module": "@jupyter-widgets/controls",
       "_model_module_version": "1.5.0",
       "_model_name": "HTMLModel",
       "_view_count": null,
       "_view_module": "@jupyter-widgets/controls",
       "_view_module_version": "1.5.0",
       "_view_name": "HTMLView",
       "description": "",
       "description_tooltip": null,
       "layout": "IPY_MODEL_efa5ad8898544ed1a9f05b039dbd829b",
       "placeholder": "​",
       "style": "IPY_MODEL_b5b480c8f1504e4bbe6b7cc7ac0c31c5",
       "value": " 232k/232k [00:00&lt;00:00, 2.93MB/s]"
      }
     },
     "0d72633ce55d41a0a3a6469cd6e1d546": {
      "model_module": "@jupyter-widgets/base",
      "model_module_version": "1.2.0",
      "model_name": "LayoutModel",
      "state": {
       "_model_module": "@jupyter-widgets/base",
       "_model_module_version": "1.2.0",
       "_model_name": "LayoutModel",
       "_view_count": null,
       "_view_module": "@jupyter-widgets/base",
       "_view_module_version": "1.2.0",
       "_view_name": "LayoutView",
       "align_content": null,
       "align_items": null,
       "align_self": null,
       "border": null,
       "bottom": null,
       "display": null,
       "flex": null,
       "flex_flow": null,
       "grid_area": null,
       "grid_auto_columns": null,
       "grid_auto_flow": null,
       "grid_auto_rows": null,
       "grid_column": null,
       "grid_gap": null,
       "grid_row": null,
       "grid_template_areas": null,
       "grid_template_columns": null,
       "grid_template_rows": null,
       "height": null,
       "justify_content": null,
       "justify_items": null,
       "left": null,
       "margin": null,
       "max_height": null,
       "max_width": null,
       "min_height": null,
       "min_width": null,
       "object_fit": null,
       "object_position": null,
       "order": null,
       "overflow": null,
       "overflow_x": null,
       "overflow_y": null,
       "padding": null,
       "right": null,
       "top": null,
       "visibility": null,
       "width": null
      }
     },
     "13751aa44a08436e954ca0b5670cb84a": {
      "model_module": "@jupyter-widgets/controls",
      "model_module_version": "1.5.0",
      "model_name": "HTMLModel",
      "state": {
       "_dom_classes": [],
       "_model_module": "@jupyter-widgets/controls",
       "_model_module_version": "1.5.0",
       "_model_name": "HTMLModel",
       "_view_count": null,
       "_view_module": "@jupyter-widgets/controls",
       "_view_module_version": "1.5.0",
       "_view_name": "HTMLView",
       "description": "",
       "description_tooltip": null,
       "layout": "IPY_MODEL_4bd68b0f036545e4b682cab46dacb2c9",
       "placeholder": "​",
       "style": "IPY_MODEL_4bf9d0cd6fe6448c962e613ec799f711",
       "value": " 570/570 [00:00&lt;00:00, 34.6kB/s]"
      }
     },
     "18885036269a48f6805792cf543dd112": {
      "model_module": "@jupyter-widgets/base",
      "model_module_version": "1.2.0",
      "model_name": "LayoutModel",
      "state": {
       "_model_module": "@jupyter-widgets/base",
       "_model_module_version": "1.2.0",
       "_model_name": "LayoutModel",
       "_view_count": null,
       "_view_module": "@jupyter-widgets/base",
       "_view_module_version": "1.2.0",
       "_view_name": "LayoutView",
       "align_content": null,
       "align_items": null,
       "align_self": null,
       "border": null,
       "bottom": null,
       "display": null,
       "flex": null,
       "flex_flow": null,
       "grid_area": null,
       "grid_auto_columns": null,
       "grid_auto_flow": null,
       "grid_auto_rows": null,
       "grid_column": null,
       "grid_gap": null,
       "grid_row": null,
       "grid_template_areas": null,
       "grid_template_columns": null,
       "grid_template_rows": null,
       "height": null,
       "justify_content": null,
       "justify_items": null,
       "left": null,
       "margin": null,
       "max_height": null,
       "max_width": null,
       "min_height": null,
       "min_width": null,
       "object_fit": null,
       "object_position": null,
       "order": null,
       "overflow": null,
       "overflow_x": null,
       "overflow_y": null,
       "padding": null,
       "right": null,
       "top": null,
       "visibility": null,
       "width": null
      }
     },
     "1df2cc68afb6420a8ca7d79b9ef9fbe3": {
      "model_module": "@jupyter-widgets/controls",
      "model_module_version": "1.5.0",
      "model_name": "HBoxModel",
      "state": {
       "_dom_classes": [],
       "_model_module": "@jupyter-widgets/controls",
       "_model_module_version": "1.5.0",
       "_model_name": "HBoxModel",
       "_view_count": null,
       "_view_module": "@jupyter-widgets/controls",
       "_view_module_version": "1.5.0",
       "_view_name": "HBoxView",
       "box_style": "",
       "children": [
        "IPY_MODEL_557cdda85c42471887eed574cd6ec046",
        "IPY_MODEL_c8e75f52271e4a50ad096c68b3571f93",
        "IPY_MODEL_13751aa44a08436e954ca0b5670cb84a"
       ],
       "layout": "IPY_MODEL_9d8564a198a44eae97006598f10a7e25"
      }
     },
     "23a1251ee78a49938b02bfe683b2648b": {
      "model_module": "@jupyter-widgets/controls",
      "model_module_version": "1.5.0",
      "model_name": "DescriptionStyleModel",
      "state": {
       "_model_module": "@jupyter-widgets/controls",
       "_model_module_version": "1.5.0",
       "_model_name": "DescriptionStyleModel",
       "_view_count": null,
       "_view_module": "@jupyter-widgets/base",
       "_view_module_version": "1.2.0",
       "_view_name": "StyleView",
       "description_width": ""
      }
     },
     "24d545af44034b50a8d4a4ba80bfab89": {
      "model_module": "@jupyter-widgets/controls",
      "model_module_version": "1.5.0",
      "model_name": "DescriptionStyleModel",
      "state": {
       "_model_module": "@jupyter-widgets/controls",
       "_model_module_version": "1.5.0",
       "_model_name": "DescriptionStyleModel",
       "_view_count": null,
       "_view_module": "@jupyter-widgets/base",
       "_view_module_version": "1.2.0",
       "_view_name": "StyleView",
       "description_width": ""
      }
     },
     "34d02e8f1f564afca6fb10c9d3d92e7a": {
      "model_module": "@jupyter-widgets/controls",
      "model_module_version": "1.5.0",
      "model_name": "HTMLModel",
      "state": {
       "_dom_classes": [],
       "_model_module": "@jupyter-widgets/controls",
       "_model_module_version": "1.5.0",
       "_model_name": "HTMLModel",
       "_view_count": null,
       "_view_module": "@jupyter-widgets/controls",
       "_view_module_version": "1.5.0",
       "_view_name": "HTMLView",
       "description": "",
       "description_tooltip": null,
       "layout": "IPY_MODEL_3520b7d3fc4b4ed8b32fa76726311108",
       "placeholder": "​",
       "style": "IPY_MODEL_88ff604f99c84d13802a94b1d2b9c8ab",
       "value": "Downloading (…)solve/main/vocab.txt: 100%"
      }
     },
     "3520b7d3fc4b4ed8b32fa76726311108": {
      "model_module": "@jupyter-widgets/base",
      "model_module_version": "1.2.0",
      "model_name": "LayoutModel",
      "state": {
       "_model_module": "@jupyter-widgets/base",
       "_model_module_version": "1.2.0",
       "_model_name": "LayoutModel",
       "_view_count": null,
       "_view_module": "@jupyter-widgets/base",
       "_view_module_version": "1.2.0",
       "_view_name": "LayoutView",
       "align_content": null,
       "align_items": null,
       "align_self": null,
       "border": null,
       "bottom": null,
       "display": null,
       "flex": null,
       "flex_flow": null,
       "grid_area": null,
       "grid_auto_columns": null,
       "grid_auto_flow": null,
       "grid_auto_rows": null,
       "grid_column": null,
       "grid_gap": null,
       "grid_row": null,
       "grid_template_areas": null,
       "grid_template_columns": null,
       "grid_template_rows": null,
       "height": null,
       "justify_content": null,
       "justify_items": null,
       "left": null,
       "margin": null,
       "max_height": null,
       "max_width": null,
       "min_height": null,
       "min_width": null,
       "object_fit": null,
       "object_position": null,
       "order": null,
       "overflow": null,
       "overflow_x": null,
       "overflow_y": null,
       "padding": null,
       "right": null,
       "top": null,
       "visibility": null,
       "width": null
      }
     },
     "35529e373096411da03fc86cf10c7eb5": {
      "model_module": "@jupyter-widgets/controls",
      "model_module_version": "1.5.0",
      "model_name": "ProgressStyleModel",
      "state": {
       "_model_module": "@jupyter-widgets/controls",
       "_model_module_version": "1.5.0",
       "_model_name": "ProgressStyleModel",
       "_view_count": null,
       "_view_module": "@jupyter-widgets/base",
       "_view_module_version": "1.2.0",
       "_view_name": "StyleView",
       "bar_color": null,
       "description_width": ""
      }
     },
     "374f4a95feb642e9a9ddc5cbfcfdd70e": {
      "model_module": "@jupyter-widgets/base",
      "model_module_version": "1.2.0",
      "model_name": "LayoutModel",
      "state": {
       "_model_module": "@jupyter-widgets/base",
       "_model_module_version": "1.2.0",
       "_model_name": "LayoutModel",
       "_view_count": null,
       "_view_module": "@jupyter-widgets/base",
       "_view_module_version": "1.2.0",
       "_view_name": "LayoutView",
       "align_content": null,
       "align_items": null,
       "align_self": null,
       "border": null,
       "bottom": null,
       "display": null,
       "flex": null,
       "flex_flow": null,
       "grid_area": null,
       "grid_auto_columns": null,
       "grid_auto_flow": null,
       "grid_auto_rows": null,
       "grid_column": null,
       "grid_gap": null,
       "grid_row": null,
       "grid_template_areas": null,
       "grid_template_columns": null,
       "grid_template_rows": null,
       "height": null,
       "justify_content": null,
       "justify_items": null,
       "left": null,
       "margin": null,
       "max_height": null,
       "max_width": null,
       "min_height": null,
       "min_width": null,
       "object_fit": null,
       "object_position": null,
       "order": null,
       "overflow": null,
       "overflow_x": null,
       "overflow_y": null,
       "padding": null,
       "right": null,
       "top": null,
       "visibility": null,
       "width": null
      }
     },
     "3e7730b8f1d44aa3a5c5911bc0c406b5": {
      "model_module": "@jupyter-widgets/base",
      "model_module_version": "1.2.0",
      "model_name": "LayoutModel",
      "state": {
       "_model_module": "@jupyter-widgets/base",
       "_model_module_version": "1.2.0",
       "_model_name": "LayoutModel",
       "_view_count": null,
       "_view_module": "@jupyter-widgets/base",
       "_view_module_version": "1.2.0",
       "_view_name": "LayoutView",
       "align_content": null,
       "align_items": null,
       "align_self": null,
       "border": null,
       "bottom": null,
       "display": null,
       "flex": null,
       "flex_flow": null,
       "grid_area": null,
       "grid_auto_columns": null,
       "grid_auto_flow": null,
       "grid_auto_rows": null,
       "grid_column": null,
       "grid_gap": null,
       "grid_row": null,
       "grid_template_areas": null,
       "grid_template_columns": null,
       "grid_template_rows": null,
       "height": null,
       "justify_content": null,
       "justify_items": null,
       "left": null,
       "margin": null,
       "max_height": null,
       "max_width": null,
       "min_height": null,
       "min_width": null,
       "object_fit": null,
       "object_position": null,
       "order": null,
       "overflow": null,
       "overflow_x": null,
       "overflow_y": null,
       "padding": null,
       "right": null,
       "top": null,
       "visibility": null,
       "width": null
      }
     },
     "4bd68b0f036545e4b682cab46dacb2c9": {
      "model_module": "@jupyter-widgets/base",
      "model_module_version": "1.2.0",
      "model_name": "LayoutModel",
      "state": {
       "_model_module": "@jupyter-widgets/base",
       "_model_module_version": "1.2.0",
       "_model_name": "LayoutModel",
       "_view_count": null,
       "_view_module": "@jupyter-widgets/base",
       "_view_module_version": "1.2.0",
       "_view_name": "LayoutView",
       "align_content": null,
       "align_items": null,
       "align_self": null,
       "border": null,
       "bottom": null,
       "display": null,
       "flex": null,
       "flex_flow": null,
       "grid_area": null,
       "grid_auto_columns": null,
       "grid_auto_flow": null,
       "grid_auto_rows": null,
       "grid_column": null,
       "grid_gap": null,
       "grid_row": null,
       "grid_template_areas": null,
       "grid_template_columns": null,
       "grid_template_rows": null,
       "height": null,
       "justify_content": null,
       "justify_items": null,
       "left": null,
       "margin": null,
       "max_height": null,
       "max_width": null,
       "min_height": null,
       "min_width": null,
       "object_fit": null,
       "object_position": null,
       "order": null,
       "overflow": null,
       "overflow_x": null,
       "overflow_y": null,
       "padding": null,
       "right": null,
       "top": null,
       "visibility": null,
       "width": null
      }
     },
     "4bf9d0cd6fe6448c962e613ec799f711": {
      "model_module": "@jupyter-widgets/controls",
      "model_module_version": "1.5.0",
      "model_name": "DescriptionStyleModel",
      "state": {
       "_model_module": "@jupyter-widgets/controls",
       "_model_module_version": "1.5.0",
       "_model_name": "DescriptionStyleModel",
       "_view_count": null,
       "_view_module": "@jupyter-widgets/base",
       "_view_module_version": "1.2.0",
       "_view_name": "StyleView",
       "description_width": ""
      }
     },
     "5370c2e4f79d483c9441d19ef1265408": {
      "model_module": "@jupyter-widgets/controls",
      "model_module_version": "1.5.0",
      "model_name": "HBoxModel",
      "state": {
       "_dom_classes": [],
       "_model_module": "@jupyter-widgets/controls",
       "_model_module_version": "1.5.0",
       "_model_name": "HBoxModel",
       "_view_count": null,
       "_view_module": "@jupyter-widgets/controls",
       "_view_module_version": "1.5.0",
       "_view_name": "HBoxView",
       "box_style": "",
       "children": [
        "IPY_MODEL_a86af09e609647a8b32b3cf9dc473e46",
        "IPY_MODEL_6fb6bbad414246889d24939ceac29804",
        "IPY_MODEL_f227be4a498b40448b9c45908f7d3d38"
       ],
       "layout": "IPY_MODEL_70603b435b964aeab0111a0adb02848d"
      }
     },
     "557cdda85c42471887eed574cd6ec046": {
      "model_module": "@jupyter-widgets/controls",
      "model_module_version": "1.5.0",
      "model_name": "HTMLModel",
      "state": {
       "_dom_classes": [],
       "_model_module": "@jupyter-widgets/controls",
       "_model_module_version": "1.5.0",
       "_model_name": "HTMLModel",
       "_view_count": null,
       "_view_module": "@jupyter-widgets/controls",
       "_view_module_version": "1.5.0",
       "_view_name": "HTMLView",
       "description": "",
       "description_tooltip": null,
       "layout": "IPY_MODEL_0d72633ce55d41a0a3a6469cd6e1d546",
       "placeholder": "​",
       "style": "IPY_MODEL_23a1251ee78a49938b02bfe683b2648b",
       "value": "Downloading (…)lve/main/config.json: 100%"
      }
     },
     "5dd2bf42656f4953b28183dcb4de3bbd": {
      "model_module": "@jupyter-widgets/base",
      "model_module_version": "1.2.0",
      "model_name": "LayoutModel",
      "state": {
       "_model_module": "@jupyter-widgets/base",
       "_model_module_version": "1.2.0",
       "_model_name": "LayoutModel",
       "_view_count": null,
       "_view_module": "@jupyter-widgets/base",
       "_view_module_version": "1.2.0",
       "_view_name": "LayoutView",
       "align_content": null,
       "align_items": null,
       "align_self": null,
       "border": null,
       "bottom": null,
       "display": null,
       "flex": null,
       "flex_flow": null,
       "grid_area": null,
       "grid_auto_columns": null,
       "grid_auto_flow": null,
       "grid_auto_rows": null,
       "grid_column": null,
       "grid_gap": null,
       "grid_row": null,
       "grid_template_areas": null,
       "grid_template_columns": null,
       "grid_template_rows": null,
       "height": null,
       "justify_content": null,
       "justify_items": null,
       "left": null,
       "margin": null,
       "max_height": null,
       "max_width": null,
       "min_height": null,
       "min_width": null,
       "object_fit": null,
       "object_position": null,
       "order": null,
       "overflow": null,
       "overflow_x": null,
       "overflow_y": null,
       "padding": null,
       "right": null,
       "top": null,
       "visibility": null,
       "width": null
      }
     },
     "6fb6bbad414246889d24939ceac29804": {
      "model_module": "@jupyter-widgets/controls",
      "model_module_version": "1.5.0",
      "model_name": "FloatProgressModel",
      "state": {
       "_dom_classes": [],
       "_model_module": "@jupyter-widgets/controls",
       "_model_module_version": "1.5.0",
       "_model_name": "FloatProgressModel",
       "_view_count": null,
       "_view_module": "@jupyter-widgets/controls",
       "_view_module_version": "1.5.0",
       "_view_name": "ProgressView",
       "bar_style": "success",
       "description": "",
       "description_tooltip": null,
       "layout": "IPY_MODEL_3e7730b8f1d44aa3a5c5911bc0c406b5",
       "max": 440449768.0,
       "min": 0.0,
       "orientation": "horizontal",
       "style": "IPY_MODEL_8fd8b512a7ce47d0b414c830be141c44",
       "value": 440449768.0
      }
     },
     "70603b435b964aeab0111a0adb02848d": {
      "model_module": "@jupyter-widgets/base",
      "model_module_version": "1.2.0",
      "model_name": "LayoutModel",
      "state": {
       "_model_module": "@jupyter-widgets/base",
       "_model_module_version": "1.2.0",
       "_model_name": "LayoutModel",
       "_view_count": null,
       "_view_module": "@jupyter-widgets/base",
       "_view_module_version": "1.2.0",
       "_view_name": "LayoutView",
       "align_content": null,
       "align_items": null,
       "align_self": null,
       "border": null,
       "bottom": null,
       "display": null,
       "flex": null,
       "flex_flow": null,
       "grid_area": null,
       "grid_auto_columns": null,
       "grid_auto_flow": null,
       "grid_auto_rows": null,
       "grid_column": null,
       "grid_gap": null,
       "grid_row": null,
       "grid_template_areas": null,
       "grid_template_columns": null,
       "grid_template_rows": null,
       "height": null,
       "justify_content": null,
       "justify_items": null,
       "left": null,
       "margin": null,
       "max_height": null,
       "max_width": null,
       "min_height": null,
       "min_width": null,
       "object_fit": null,
       "object_position": null,
       "order": null,
       "overflow": null,
       "overflow_x": null,
       "overflow_y": null,
       "padding": null,
       "right": null,
       "top": null,
       "visibility": null,
       "width": null
      }
     },
     "71d27fdf87e44d58ac5d0f56f48c3234": {
      "model_module": "@jupyter-widgets/controls",
      "model_module_version": "1.5.0",
      "model_name": "ProgressStyleModel",
      "state": {
       "_model_module": "@jupyter-widgets/controls",
       "_model_module_version": "1.5.0",
       "_model_name": "ProgressStyleModel",
       "_view_count": null,
       "_view_module": "@jupyter-widgets/base",
       "_view_module_version": "1.2.0",
       "_view_name": "StyleView",
       "bar_color": null,
       "description_width": ""
      }
     },
     "746ae81814054e789c5409829f126a28": {
      "model_module": "@jupyter-widgets/controls",
      "model_module_version": "1.5.0",
      "model_name": "DescriptionStyleModel",
      "state": {
       "_model_module": "@jupyter-widgets/controls",
       "_model_module_version": "1.5.0",
       "_model_name": "DescriptionStyleModel",
       "_view_count": null,
       "_view_module": "@jupyter-widgets/base",
       "_view_module_version": "1.2.0",
       "_view_name": "StyleView",
       "description_width": ""
      }
     },
     "7d9b9adc69164e19ae4ab520af778501": {
      "model_module": "@jupyter-widgets/controls",
      "model_module_version": "1.5.0",
      "model_name": "FloatProgressModel",
      "state": {
       "_dom_classes": [],
       "_model_module": "@jupyter-widgets/controls",
       "_model_module_version": "1.5.0",
       "_model_name": "FloatProgressModel",
       "_view_count": null,
       "_view_module": "@jupyter-widgets/controls",
       "_view_module_version": "1.5.0",
       "_view_name": "ProgressView",
       "bar_style": "success",
       "description": "",
       "description_tooltip": null,
       "layout": "IPY_MODEL_b6f3335cc41d4fe4af4c736b841d9e83",
       "max": 28.0,
       "min": 0.0,
       "orientation": "horizontal",
       "style": "IPY_MODEL_92bebb41269d4ef09712bb60c3edcc67",
       "value": 28.0
      }
     },
     "8232ab6d5a564074a78e343b37533072": {
      "model_module": "@jupyter-widgets/controls",
      "model_module_version": "1.5.0",
      "model_name": "HTMLModel",
      "state": {
       "_dom_classes": [],
       "_model_module": "@jupyter-widgets/controls",
       "_model_module_version": "1.5.0",
       "_model_name": "HTMLModel",
       "_view_count": null,
       "_view_module": "@jupyter-widgets/controls",
       "_view_module_version": "1.5.0",
       "_view_name": "HTMLView",
       "description": "",
       "description_tooltip": null,
       "layout": "IPY_MODEL_cf3e9418e5864acf8a0f122079ff382d",
       "placeholder": "​",
       "style": "IPY_MODEL_d6171cb468154e138e171f65e6ede3aa",
       "value": "Downloading (…)okenizer_config.json: 100%"
      }
     },
     "86f52e6d791540c99fcc8da467cbb09c": {
      "model_module": "@jupyter-widgets/controls",
      "model_module_version": "1.5.0",
      "model_name": "HTMLModel",
      "state": {
       "_dom_classes": [],
       "_model_module": "@jupyter-widgets/controls",
       "_model_module_version": "1.5.0",
       "_model_name": "HTMLModel",
       "_view_count": null,
       "_view_module": "@jupyter-widgets/controls",
       "_view_module_version": "1.5.0",
       "_view_name": "HTMLView",
       "description": "",
       "description_tooltip": null,
       "layout": "IPY_MODEL_921fb3c341584c899aa757715f77d46d",
       "placeholder": "​",
       "style": "IPY_MODEL_746ae81814054e789c5409829f126a28",
       "value": " 28.0/28.0 [00:00&lt;00:00, 1.91kB/s]"
      }
     },
     "88578bf78d62420da3271c499abb015f": {
      "model_module": "@jupyter-widgets/controls",
      "model_module_version": "1.5.0",
      "model_name": "HBoxModel",
      "state": {
       "_dom_classes": [],
       "_model_module": "@jupyter-widgets/controls",
       "_model_module_version": "1.5.0",
       "_model_name": "HBoxModel",
       "_view_count": null,
       "_view_module": "@jupyter-widgets/controls",
       "_view_module_version": "1.5.0",
       "_view_name": "HBoxView",
       "box_style": "",
       "children": [
        "IPY_MODEL_34d02e8f1f564afca6fb10c9d3d92e7a",
        "IPY_MODEL_e04d4cfd7dc649a4b84097053f3b3f02",
        "IPY_MODEL_077e2fed3e084338a55e6d43974b91e0"
       ],
       "layout": "IPY_MODEL_d6fcd4bab5d145909146c2d0c312f945"
      }
     },
     "88ff604f99c84d13802a94b1d2b9c8ab": {
      "model_module": "@jupyter-widgets/controls",
      "model_module_version": "1.5.0",
      "model_name": "DescriptionStyleModel",
      "state": {
       "_model_module": "@jupyter-widgets/controls",
       "_model_module_version": "1.5.0",
       "_model_name": "DescriptionStyleModel",
       "_view_count": null,
       "_view_module": "@jupyter-widgets/base",
       "_view_module_version": "1.2.0",
       "_view_name": "StyleView",
       "description_width": ""
      }
     },
     "8fd8b512a7ce47d0b414c830be141c44": {
      "model_module": "@jupyter-widgets/controls",
      "model_module_version": "1.5.0",
      "model_name": "ProgressStyleModel",
      "state": {
       "_model_module": "@jupyter-widgets/controls",
       "_model_module_version": "1.5.0",
       "_model_name": "ProgressStyleModel",
       "_view_count": null,
       "_view_module": "@jupyter-widgets/base",
       "_view_module_version": "1.2.0",
       "_view_name": "StyleView",
       "bar_color": null,
       "description_width": ""
      }
     },
     "921fb3c341584c899aa757715f77d46d": {
      "model_module": "@jupyter-widgets/base",
      "model_module_version": "1.2.0",
      "model_name": "LayoutModel",
      "state": {
       "_model_module": "@jupyter-widgets/base",
       "_model_module_version": "1.2.0",
       "_model_name": "LayoutModel",
       "_view_count": null,
       "_view_module": "@jupyter-widgets/base",
       "_view_module_version": "1.2.0",
       "_view_name": "LayoutView",
       "align_content": null,
       "align_items": null,
       "align_self": null,
       "border": null,
       "bottom": null,
       "display": null,
       "flex": null,
       "flex_flow": null,
       "grid_area": null,
       "grid_auto_columns": null,
       "grid_auto_flow": null,
       "grid_auto_rows": null,
       "grid_column": null,
       "grid_gap": null,
       "grid_row": null,
       "grid_template_areas": null,
       "grid_template_columns": null,
       "grid_template_rows": null,
       "height": null,
       "justify_content": null,
       "justify_items": null,
       "left": null,
       "margin": null,
       "max_height": null,
       "max_width": null,
       "min_height": null,
       "min_width": null,
       "object_fit": null,
       "object_position": null,
       "order": null,
       "overflow": null,
       "overflow_x": null,
       "overflow_y": null,
       "padding": null,
       "right": null,
       "top": null,
       "visibility": null,
       "width": null
      }
     },
     "924fac41af4447a3b55e5939351b26b7": {
      "model_module": "@jupyter-widgets/base",
      "model_module_version": "1.2.0",
      "model_name": "LayoutModel",
      "state": {
       "_model_module": "@jupyter-widgets/base",
       "_model_module_version": "1.2.0",
       "_model_name": "LayoutModel",
       "_view_count": null,
       "_view_module": "@jupyter-widgets/base",
       "_view_module_version": "1.2.0",
       "_view_name": "LayoutView",
       "align_content": null,
       "align_items": null,
       "align_self": null,
       "border": null,
       "bottom": null,
       "display": null,
       "flex": null,
       "flex_flow": null,
       "grid_area": null,
       "grid_auto_columns": null,
       "grid_auto_flow": null,
       "grid_auto_rows": null,
       "grid_column": null,
       "grid_gap": null,
       "grid_row": null,
       "grid_template_areas": null,
       "grid_template_columns": null,
       "grid_template_rows": null,
       "height": null,
       "justify_content": null,
       "justify_items": null,
       "left": null,
       "margin": null,
       "max_height": null,
       "max_width": null,
       "min_height": null,
       "min_width": null,
       "object_fit": null,
       "object_position": null,
       "order": null,
       "overflow": null,
       "overflow_x": null,
       "overflow_y": null,
       "padding": null,
       "right": null,
       "top": null,
       "visibility": null,
       "width": null
      }
     },
     "92bebb41269d4ef09712bb60c3edcc67": {
      "model_module": "@jupyter-widgets/controls",
      "model_module_version": "1.5.0",
      "model_name": "ProgressStyleModel",
      "state": {
       "_model_module": "@jupyter-widgets/controls",
       "_model_module_version": "1.5.0",
       "_model_name": "ProgressStyleModel",
       "_view_count": null,
       "_view_module": "@jupyter-widgets/base",
       "_view_module_version": "1.2.0",
       "_view_name": "StyleView",
       "bar_color": null,
       "description_width": ""
      }
     },
     "9d8564a198a44eae97006598f10a7e25": {
      "model_module": "@jupyter-widgets/base",
      "model_module_version": "1.2.0",
      "model_name": "LayoutModel",
      "state": {
       "_model_module": "@jupyter-widgets/base",
       "_model_module_version": "1.2.0",
       "_model_name": "LayoutModel",
       "_view_count": null,
       "_view_module": "@jupyter-widgets/base",
       "_view_module_version": "1.2.0",
       "_view_name": "LayoutView",
       "align_content": null,
       "align_items": null,
       "align_self": null,
       "border": null,
       "bottom": null,
       "display": null,
       "flex": null,
       "flex_flow": null,
       "grid_area": null,
       "grid_auto_columns": null,
       "grid_auto_flow": null,
       "grid_auto_rows": null,
       "grid_column": null,
       "grid_gap": null,
       "grid_row": null,
       "grid_template_areas": null,
       "grid_template_columns": null,
       "grid_template_rows": null,
       "height": null,
       "justify_content": null,
       "justify_items": null,
       "left": null,
       "margin": null,
       "max_height": null,
       "max_width": null,
       "min_height": null,
       "min_width": null,
       "object_fit": null,
       "object_position": null,
       "order": null,
       "overflow": null,
       "overflow_x": null,
       "overflow_y": null,
       "padding": null,
       "right": null,
       "top": null,
       "visibility": null,
       "width": null
      }
     },
     "a86af09e609647a8b32b3cf9dc473e46": {
      "model_module": "@jupyter-widgets/controls",
      "model_module_version": "1.5.0",
      "model_name": "HTMLModel",
      "state": {
       "_dom_classes": [],
       "_model_module": "@jupyter-widgets/controls",
       "_model_module_version": "1.5.0",
       "_model_name": "HTMLModel",
       "_view_count": null,
       "_view_module": "@jupyter-widgets/controls",
       "_view_module_version": "1.5.0",
       "_view_name": "HTMLView",
       "description": "",
       "description_tooltip": null,
       "layout": "IPY_MODEL_374f4a95feb642e9a9ddc5cbfcfdd70e",
       "placeholder": "​",
       "style": "IPY_MODEL_d7466d4b7cce4725b76cff465de3b8a0",
       "value": "Downloading model.safetensors: 100%"
      }
     },
     "b53db26d95ac41fe876b83a7e84f20d6": {
      "model_module": "@jupyter-widgets/controls",
      "model_module_version": "1.5.0",
      "model_name": "HBoxModel",
      "state": {
       "_dom_classes": [],
       "_model_module": "@jupyter-widgets/controls",
       "_model_module_version": "1.5.0",
       "_model_name": "HBoxModel",
       "_view_count": null,
       "_view_module": "@jupyter-widgets/controls",
       "_view_module_version": "1.5.0",
       "_view_name": "HBoxView",
       "box_style": "",
       "children": [
        "IPY_MODEL_8232ab6d5a564074a78e343b37533072",
        "IPY_MODEL_7d9b9adc69164e19ae4ab520af778501",
        "IPY_MODEL_86f52e6d791540c99fcc8da467cbb09c"
       ],
       "layout": "IPY_MODEL_924fac41af4447a3b55e5939351b26b7"
      }
     },
     "b5b480c8f1504e4bbe6b7cc7ac0c31c5": {
      "model_module": "@jupyter-widgets/controls",
      "model_module_version": "1.5.0",
      "model_name": "DescriptionStyleModel",
      "state": {
       "_model_module": "@jupyter-widgets/controls",
       "_model_module_version": "1.5.0",
       "_model_name": "DescriptionStyleModel",
       "_view_count": null,
       "_view_module": "@jupyter-widgets/base",
       "_view_module_version": "1.2.0",
       "_view_name": "StyleView",
       "description_width": ""
      }
     },
     "b6f3335cc41d4fe4af4c736b841d9e83": {
      "model_module": "@jupyter-widgets/base",
      "model_module_version": "1.2.0",
      "model_name": "LayoutModel",
      "state": {
       "_model_module": "@jupyter-widgets/base",
       "_model_module_version": "1.2.0",
       "_model_name": "LayoutModel",
       "_view_count": null,
       "_view_module": "@jupyter-widgets/base",
       "_view_module_version": "1.2.0",
       "_view_name": "LayoutView",
       "align_content": null,
       "align_items": null,
       "align_self": null,
       "border": null,
       "bottom": null,
       "display": null,
       "flex": null,
       "flex_flow": null,
       "grid_area": null,
       "grid_auto_columns": null,
       "grid_auto_flow": null,
       "grid_auto_rows": null,
       "grid_column": null,
       "grid_gap": null,
       "grid_row": null,
       "grid_template_areas": null,
       "grid_template_columns": null,
       "grid_template_rows": null,
       "height": null,
       "justify_content": null,
       "justify_items": null,
       "left": null,
       "margin": null,
       "max_height": null,
       "max_width": null,
       "min_height": null,
       "min_width": null,
       "object_fit": null,
       "object_position": null,
       "order": null,
       "overflow": null,
       "overflow_x": null,
       "overflow_y": null,
       "padding": null,
       "right": null,
       "top": null,
       "visibility": null,
       "width": null
      }
     },
     "bd76c2e356874ab5ae0f752f02804d8a": {
      "model_module": "@jupyter-widgets/base",
      "model_module_version": "1.2.0",
      "model_name": "LayoutModel",
      "state": {
       "_model_module": "@jupyter-widgets/base",
       "_model_module_version": "1.2.0",
       "_model_name": "LayoutModel",
       "_view_count": null,
       "_view_module": "@jupyter-widgets/base",
       "_view_module_version": "1.2.0",
       "_view_name": "LayoutView",
       "align_content": null,
       "align_items": null,
       "align_self": null,
       "border": null,
       "bottom": null,
       "display": null,
       "flex": null,
       "flex_flow": null,
       "grid_area": null,
       "grid_auto_columns": null,
       "grid_auto_flow": null,
       "grid_auto_rows": null,
       "grid_column": null,
       "grid_gap": null,
       "grid_row": null,
       "grid_template_areas": null,
       "grid_template_columns": null,
       "grid_template_rows": null,
       "height": null,
       "justify_content": null,
       "justify_items": null,
       "left": null,
       "margin": null,
       "max_height": null,
       "max_width": null,
       "min_height": null,
       "min_width": null,
       "object_fit": null,
       "object_position": null,
       "order": null,
       "overflow": null,
       "overflow_x": null,
       "overflow_y": null,
       "padding": null,
       "right": null,
       "top": null,
       "visibility": null,
       "width": null
      }
     },
     "c8e75f52271e4a50ad096c68b3571f93": {
      "model_module": "@jupyter-widgets/controls",
      "model_module_version": "1.5.0",
      "model_name": "FloatProgressModel",
      "state": {
       "_dom_classes": [],
       "_model_module": "@jupyter-widgets/controls",
       "_model_module_version": "1.5.0",
       "_model_name": "FloatProgressModel",
       "_view_count": null,
       "_view_module": "@jupyter-widgets/controls",
       "_view_module_version": "1.5.0",
       "_view_name": "ProgressView",
       "bar_style": "success",
       "description": "",
       "description_tooltip": null,
       "layout": "IPY_MODEL_bd76c2e356874ab5ae0f752f02804d8a",
       "max": 570.0,
       "min": 0.0,
       "orientation": "horizontal",
       "style": "IPY_MODEL_35529e373096411da03fc86cf10c7eb5",
       "value": 570.0
      }
     },
     "cf3e9418e5864acf8a0f122079ff382d": {
      "model_module": "@jupyter-widgets/base",
      "model_module_version": "1.2.0",
      "model_name": "LayoutModel",
      "state": {
       "_model_module": "@jupyter-widgets/base",
       "_model_module_version": "1.2.0",
       "_model_name": "LayoutModel",
       "_view_count": null,
       "_view_module": "@jupyter-widgets/base",
       "_view_module_version": "1.2.0",
       "_view_name": "LayoutView",
       "align_content": null,
       "align_items": null,
       "align_self": null,
       "border": null,
       "bottom": null,
       "display": null,
       "flex": null,
       "flex_flow": null,
       "grid_area": null,
       "grid_auto_columns": null,
       "grid_auto_flow": null,
       "grid_auto_rows": null,
       "grid_column": null,
       "grid_gap": null,
       "grid_row": null,
       "grid_template_areas": null,
       "grid_template_columns": null,
       "grid_template_rows": null,
       "height": null,
       "justify_content": null,
       "justify_items": null,
       "left": null,
       "margin": null,
       "max_height": null,
       "max_width": null,
       "min_height": null,
       "min_width": null,
       "object_fit": null,
       "object_position": null,
       "order": null,
       "overflow": null,
       "overflow_x": null,
       "overflow_y": null,
       "padding": null,
       "right": null,
       "top": null,
       "visibility": null,
       "width": null
      }
     },
     "d6171cb468154e138e171f65e6ede3aa": {
      "model_module": "@jupyter-widgets/controls",
      "model_module_version": "1.5.0",
      "model_name": "DescriptionStyleModel",
      "state": {
       "_model_module": "@jupyter-widgets/controls",
       "_model_module_version": "1.5.0",
       "_model_name": "DescriptionStyleModel",
       "_view_count": null,
       "_view_module": "@jupyter-widgets/base",
       "_view_module_version": "1.2.0",
       "_view_name": "StyleView",
       "description_width": ""
      }
     },
     "d6fcd4bab5d145909146c2d0c312f945": {
      "model_module": "@jupyter-widgets/base",
      "model_module_version": "1.2.0",
      "model_name": "LayoutModel",
      "state": {
       "_model_module": "@jupyter-widgets/base",
       "_model_module_version": "1.2.0",
       "_model_name": "LayoutModel",
       "_view_count": null,
       "_view_module": "@jupyter-widgets/base",
       "_view_module_version": "1.2.0",
       "_view_name": "LayoutView",
       "align_content": null,
       "align_items": null,
       "align_self": null,
       "border": null,
       "bottom": null,
       "display": null,
       "flex": null,
       "flex_flow": null,
       "grid_area": null,
       "grid_auto_columns": null,
       "grid_auto_flow": null,
       "grid_auto_rows": null,
       "grid_column": null,
       "grid_gap": null,
       "grid_row": null,
       "grid_template_areas": null,
       "grid_template_columns": null,
       "grid_template_rows": null,
       "height": null,
       "justify_content": null,
       "justify_items": null,
       "left": null,
       "margin": null,
       "max_height": null,
       "max_width": null,
       "min_height": null,
       "min_width": null,
       "object_fit": null,
       "object_position": null,
       "order": null,
       "overflow": null,
       "overflow_x": null,
       "overflow_y": null,
       "padding": null,
       "right": null,
       "top": null,
       "visibility": null,
       "width": null
      }
     },
     "d7466d4b7cce4725b76cff465de3b8a0": {
      "model_module": "@jupyter-widgets/controls",
      "model_module_version": "1.5.0",
      "model_name": "DescriptionStyleModel",
      "state": {
       "_model_module": "@jupyter-widgets/controls",
       "_model_module_version": "1.5.0",
       "_model_name": "DescriptionStyleModel",
       "_view_count": null,
       "_view_module": "@jupyter-widgets/base",
       "_view_module_version": "1.2.0",
       "_view_name": "StyleView",
       "description_width": ""
      }
     },
     "e04d4cfd7dc649a4b84097053f3b3f02": {
      "model_module": "@jupyter-widgets/controls",
      "model_module_version": "1.5.0",
      "model_name": "FloatProgressModel",
      "state": {
       "_dom_classes": [],
       "_model_module": "@jupyter-widgets/controls",
       "_model_module_version": "1.5.0",
       "_model_name": "FloatProgressModel",
       "_view_count": null,
       "_view_module": "@jupyter-widgets/controls",
       "_view_module_version": "1.5.0",
       "_view_name": "ProgressView",
       "bar_style": "success",
       "description": "",
       "description_tooltip": null,
       "layout": "IPY_MODEL_18885036269a48f6805792cf543dd112",
       "max": 231508.0,
       "min": 0.0,
       "orientation": "horizontal",
       "style": "IPY_MODEL_71d27fdf87e44d58ac5d0f56f48c3234",
       "value": 231508.0
      }
     },
     "efa5ad8898544ed1a9f05b039dbd829b": {
      "model_module": "@jupyter-widgets/base",
      "model_module_version": "1.2.0",
      "model_name": "LayoutModel",
      "state": {
       "_model_module": "@jupyter-widgets/base",
       "_model_module_version": "1.2.0",
       "_model_name": "LayoutModel",
       "_view_count": null,
       "_view_module": "@jupyter-widgets/base",
       "_view_module_version": "1.2.0",
       "_view_name": "LayoutView",
       "align_content": null,
       "align_items": null,
       "align_self": null,
       "border": null,
       "bottom": null,
       "display": null,
       "flex": null,
       "flex_flow": null,
       "grid_area": null,
       "grid_auto_columns": null,
       "grid_auto_flow": null,
       "grid_auto_rows": null,
       "grid_column": null,
       "grid_gap": null,
       "grid_row": null,
       "grid_template_areas": null,
       "grid_template_columns": null,
       "grid_template_rows": null,
       "height": null,
       "justify_content": null,
       "justify_items": null,
       "left": null,
       "margin": null,
       "max_height": null,
       "max_width": null,
       "min_height": null,
       "min_width": null,
       "object_fit": null,
       "object_position": null,
       "order": null,
       "overflow": null,
       "overflow_x": null,
       "overflow_y": null,
       "padding": null,
       "right": null,
       "top": null,
       "visibility": null,
       "width": null
      }
     },
     "f227be4a498b40448b9c45908f7d3d38": {
      "model_module": "@jupyter-widgets/controls",
      "model_module_version": "1.5.0",
      "model_name": "HTMLModel",
      "state": {
       "_dom_classes": [],
       "_model_module": "@jupyter-widgets/controls",
       "_model_module_version": "1.5.0",
       "_model_name": "HTMLModel",
       "_view_count": null,
       "_view_module": "@jupyter-widgets/controls",
       "_view_module_version": "1.5.0",
       "_view_name": "HTMLView",
       "description": "",
       "description_tooltip": null,
       "layout": "IPY_MODEL_5dd2bf42656f4953b28183dcb4de3bbd",
       "placeholder": "​",
       "style": "IPY_MODEL_24d545af44034b50a8d4a4ba80bfab89",
       "value": " 440M/440M [00:02&lt;00:00, 224MB/s]"
      }
     }
    },
    "version_major": 2,
    "version_minor": 0
   }
  }
 },
 "nbformat": 4,
 "nbformat_minor": 5
}
