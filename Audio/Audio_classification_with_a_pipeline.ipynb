{
  "cells": [
    {
      "cell_type": "code",
      "execution_count": null,
      "id": "ea39e7ab",
      "metadata": {
        "id": "ea39e7ab"
      },
      "outputs": [],
      "source": [
        "from datasets import load_dataset\n",
        "from datasets import Audio\n",
        "\n",
        "minds = load_dataset(\"PolyAI/minds14\", name=\"en-AU\", split=\"train\")\n",
        "minds = minds.cast_column(\"audio\", Audio(sampling_rate=16_000))"
      ]
    },
    {
      "cell_type": "code",
      "execution_count": null,
      "id": "ec6087c3",
      "metadata": {
        "id": "ec6087c3",
        "outputId": "14ed2439-1dce-454b-940c-80d1cb983615",
        "colab": {
          "referenced_widgets": [
            "7b4ee299af384b2e80da184551c5326a",
            "c0a8904b873846c69a33efdb31b7309f",
            "915f3ec1d1af4d5eb0522605f3a35af6"
          ]
        }
      },
      "outputs": [
        {
          "name": "stderr",
          "output_type": "stream",
          "text": [
            "2023-08-31 12:48:40.641107: I tensorflow/core/util/port.cc:110] oneDNN custom operations are on. You may see slightly different numerical results due to floating-point round-off errors from different computation orders. To turn them off, set the environment variable `TF_ENABLE_ONEDNN_OPTS=0`.\n",
            "2023-08-31 12:48:40.642693: I tensorflow/tsl/cuda/cudart_stub.cc:28] Could not find cuda drivers on your machine, GPU will not be used.\n",
            "2023-08-31 12:48:40.675524: I tensorflow/tsl/cuda/cudart_stub.cc:28] Could not find cuda drivers on your machine, GPU will not be used.\n",
            "2023-08-31 12:48:40.676030: I tensorflow/core/platform/cpu_feature_guard.cc:182] This TensorFlow binary is optimized to use available CPU instructions in performance-critical operations.\n",
            "To enable the following instructions: AVX2 AVX512F AVX512_VNNI FMA, in other operations, rebuild TensorFlow with the appropriate compiler flags.\n",
            "2023-08-31 12:48:41.258514: W tensorflow/compiler/tf2tensorrt/utils/py_utils.cc:38] TF-TRT Warning: Could not find TensorRT\n"
          ]
        },
        {
          "data": {
            "application/vnd.jupyter.widget-view+json": {
              "model_id": "7b4ee299af384b2e80da184551c5326a",
              "version_major": 2,
              "version_minor": 0
            },
            "text/plain": [
              "Downloading (…)lve/main/config.json:   0%|          | 0.00/2.73k [00:00<?, ?B/s]"
            ]
          },
          "metadata": {},
          "output_type": "display_data"
        },
        {
          "data": {
            "application/vnd.jupyter.widget-view+json": {
              "model_id": "c0a8904b873846c69a33efdb31b7309f",
              "version_major": 2,
              "version_minor": 0
            },
            "text/plain": [
              "Downloading pytorch_model.bin:   0%|          | 0.00/1.26G [00:00<?, ?B/s]"
            ]
          },
          "metadata": {},
          "output_type": "display_data"
        },
        {
          "data": {
            "application/vnd.jupyter.widget-view+json": {
              "model_id": "915f3ec1d1af4d5eb0522605f3a35af6",
              "version_major": 2,
              "version_minor": 0
            },
            "text/plain": [
              "Downloading (…)rocessor_config.json:   0%|          | 0.00/212 [00:00<?, ?B/s]"
            ]
          },
          "metadata": {},
          "output_type": "display_data"
        }
      ],
      "source": [
        "from transformers import pipeline\n",
        "\n",
        "classifier = pipeline(\n",
        "    \"audio-classification\",\n",
        "    model=\"anton-l/xtreme_s_xlsr_300m_minds14\",\n",
        ")"
      ]
    },
    {
      "cell_type": "code",
      "execution_count": null,
      "id": "a0fbd81e",
      "metadata": {
        "id": "a0fbd81e"
      },
      "outputs": [],
      "source": [
        "example = minds[0]"
      ]
    },
    {
      "cell_type": "code",
      "execution_count": null,
      "id": "97c23866",
      "metadata": {
        "id": "97c23866",
        "outputId": "d2aaa8cd-b0a8-46e1-b7d9-f31f8c17309c"
      },
      "outputs": [
        {
          "data": {
            "text/plain": [
              "[{'score': 0.9625310301780701, 'label': 'pay_bill'},\n",
              " {'score': 0.0286728423088789, 'label': 'freeze'},\n",
              " {'score': 0.0033498085103929043, 'label': 'card_issues'},\n",
              " {'score': 0.0020058085210621357, 'label': 'abroad'},\n",
              " {'score': 0.0008484343416057527, 'label': 'high_value_payment'}]"
            ]
          },
          "execution_count": 4,
          "metadata": {},
          "output_type": "execute_result"
        }
      ],
      "source": [
        "classifier(example[\"audio\"][\"array\"])"
      ]
    },
    {
      "cell_type": "code",
      "execution_count": null,
      "id": "41489149",
      "metadata": {
        "id": "41489149",
        "outputId": "632ce75e-65dc-4397-d2b8-e6cd6f942a72"
      },
      "outputs": [
        {
          "data": {
            "text/plain": [
              "'pay_bill'"
            ]
          },
          "execution_count": 5,
          "metadata": {},
          "output_type": "execute_result"
        }
      ],
      "source": [
        "id2label = minds.features[\"intent_class\"].int2str\n",
        "id2label(example[\"intent_class\"])"
      ]
    },
    {
      "cell_type": "code",
      "execution_count": null,
      "id": "634ef5dc",
      "metadata": {
        "id": "634ef5dc"
      },
      "outputs": [],
      "source": []
    }
  ],
  "metadata": {
    "kernelspec": {
      "display_name": "Python 3 (ipykernel)",
      "language": "python",
      "name": "python3"
    },
    "language_info": {
      "codemirror_mode": {
        "name": "ipython",
        "version": 3
      },
      "file_extension": ".py",
      "mimetype": "text/x-python",
      "name": "python",
      "nbconvert_exporter": "python",
      "pygments_lexer": "ipython3",
      "version": "3.10.12"
    },
    "colab": {
      "provenance": []
    }
  },
  "nbformat": 4,
  "nbformat_minor": 5
}