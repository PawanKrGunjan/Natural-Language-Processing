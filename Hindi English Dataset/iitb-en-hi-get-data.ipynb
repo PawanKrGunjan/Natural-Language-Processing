{
 "cells": [
  {
   "cell_type": "markdown",
   "id": "cce63d20",
   "metadata": {
    "papermill": {
     "duration": 0.008949,
     "end_time": "2023-05-14T06:39:58.255669",
     "exception": false,
     "start_time": "2023-05-14T06:39:58.246720",
     "status": "completed"
    },
    "tags": []
   },
   "source": [
    "This Notebook is inspired from [IIT Bombay English-Hindi Corpus ](https://github.com/cfiltnlp/IITB-English-Hindi-PC)\n",
    "## Install important packages"
   ]
  },
  {
   "cell_type": "code",
   "execution_count": 1,
   "id": "da9afc60",
   "metadata": {
    "execution": {
     "iopub.execute_input": "2023-05-14T06:39:58.274424Z",
     "iopub.status.busy": "2023-05-14T06:39:58.273957Z",
     "iopub.status.idle": "2023-05-14T06:39:58.281355Z",
     "shell.execute_reply": "2023-05-14T06:39:58.279692Z"
    },
    "papermill": {
     "duration": 0.024691,
     "end_time": "2023-05-14T06:39:58.288871",
     "exception": false,
     "start_time": "2023-05-14T06:39:58.264180",
     "status": "completed"
    },
    "tags": []
   },
   "outputs": [],
   "source": [
    "# !pip install datasets==1.18.1"
   ]
  },
  {
   "cell_type": "code",
   "execution_count": 2,
   "id": "291776a6",
   "metadata": {
    "execution": {
     "iopub.execute_input": "2023-05-14T06:39:58.307905Z",
     "iopub.status.busy": "2023-05-14T06:39:58.306479Z",
     "iopub.status.idle": "2023-05-14T06:39:58.311995Z",
     "shell.execute_reply": "2023-05-14T06:39:58.310902Z"
    },
    "papermill": {
     "duration": 0.017859,
     "end_time": "2023-05-14T06:39:58.314739",
     "exception": false,
     "start_time": "2023-05-14T06:39:58.296880",
     "status": "completed"
    },
    "tags": []
   },
   "outputs": [],
   "source": [
    "# ! pip install subword-nmt"
   ]
  },
  {
   "cell_type": "markdown",
   "id": "688b5533",
   "metadata": {
    "papermill": {
     "duration": 0.007703,
     "end_time": "2023-05-14T06:39:58.330435",
     "exception": false,
     "start_time": "2023-05-14T06:39:58.322732",
     "status": "completed"
    },
    "tags": []
   },
   "source": [
    "## Download the parallel dataset"
   ]
  },
  {
   "cell_type": "code",
   "execution_count": 3,
   "id": "c5a7cf08",
   "metadata": {
    "execution": {
     "iopub.execute_input": "2023-05-14T06:39:58.349157Z",
     "iopub.status.busy": "2023-05-14T06:39:58.348208Z",
     "iopub.status.idle": "2023-05-14T06:40:14.393782Z",
     "shell.execute_reply": "2023-05-14T06:40:14.392572Z"
    },
    "papermill": {
     "duration": 16.058472,
     "end_time": "2023-05-14T06:40:14.396846",
     "exception": false,
     "start_time": "2023-05-14T06:39:58.338374",
     "status": "completed"
    },
    "tags": []
   },
   "outputs": [
    {
     "data": {
      "application/vnd.jupyter.widget-view+json": {
       "model_id": "86aaf093cadc4af1b07035178b9fbacc",
       "version_major": 2,
       "version_minor": 0
      },
      "text/plain": [
       "Downloading:   0%|          | 0.00/953 [00:00<?, ?B/s]"
      ]
     },
     "metadata": {},
     "output_type": "display_data"
    },
    {
     "name": "stdout",
     "output_type": "stream",
     "text": [
      "Downloading and preparing dataset json/default (download: 181.38 MiB, generated: 427.93 MiB, post-processed: Unknown size, total: 609.31 MiB) to /root/.cache/huggingface/datasets/parquet/cfilt--iitb-english-hindi-e9387d78518bc7f8/0.0.0/0b6d5799bb726b24ad7fc7be720c170d8e497f575d02d47537de9a5bac074901...\n"
     ]
    },
    {
     "data": {
      "application/vnd.jupyter.widget-view+json": {
       "model_id": "f6d45024143c4c2a9ed6c2f1020ef372",
       "version_major": 2,
       "version_minor": 0
      },
      "text/plain": [
       "Downloading data files:   0%|          | 0/3 [00:00<?, ?it/s]"
      ]
     },
     "metadata": {},
     "output_type": "display_data"
    },
    {
     "data": {
      "application/vnd.jupyter.widget-view+json": {
       "model_id": "224161eb60bb4dd8b6b3c90be3bd1561",
       "version_major": 2,
       "version_minor": 0
      },
      "text/plain": [
       "Downloading data:   0%|          | 0.00/500k [00:00<?, ?B/s]"
      ]
     },
     "metadata": {},
     "output_type": "display_data"
    },
    {
     "data": {
      "application/vnd.jupyter.widget-view+json": {
       "model_id": "fe6601c80f514a3fa5966d4b75f7f984",
       "version_major": 2,
       "version_minor": 0
      },
      "text/plain": [
       "Downloading data:   0%|          | 0.00/85.7k [00:00<?, ?B/s]"
      ]
     },
     "metadata": {},
     "output_type": "display_data"
    },
    {
     "data": {
      "application/vnd.jupyter.widget-view+json": {
       "model_id": "c1b7ee90787949d0b65b06825e8da9eb",
       "version_major": 2,
       "version_minor": 0
      },
      "text/plain": [
       "Downloading data:   0%|          | 0.00/190M [00:00<?, ?B/s]"
      ]
     },
     "metadata": {},
     "output_type": "display_data"
    },
    {
     "data": {
      "application/vnd.jupyter.widget-view+json": {
       "model_id": "5fb57874d0ae49e9a94bb5470899f461",
       "version_major": 2,
       "version_minor": 0
      },
      "text/plain": [
       "Extracting data files:   0%|          | 0/3 [00:00<?, ?it/s]"
      ]
     },
     "metadata": {},
     "output_type": "display_data"
    },
    {
     "name": "stdout",
     "output_type": "stream",
     "text": [
      "Dataset parquet downloaded and prepared to /root/.cache/huggingface/datasets/parquet/cfilt--iitb-english-hindi-e9387d78518bc7f8/0.0.0/0b6d5799bb726b24ad7fc7be720c170d8e497f575d02d47537de9a5bac074901. Subsequent calls will reuse this data.\n"
     ]
    },
    {
     "data": {
      "application/vnd.jupyter.widget-view+json": {
       "model_id": "484dcd917d964bc39f43500f96999d9f",
       "version_major": 2,
       "version_minor": 0
      },
      "text/plain": [
       "  0%|          | 0/3 [00:00<?, ?it/s]"
      ]
     },
     "metadata": {},
     "output_type": "display_data"
    },
    {
     "data": {
      "text/plain": [
       "DatasetDict({\n",
       "    test: Dataset({\n",
       "        features: ['translation'],\n",
       "        num_rows: 2507\n",
       "    })\n",
       "    validation: Dataset({\n",
       "        features: ['translation'],\n",
       "        num_rows: 520\n",
       "    })\n",
       "    train: Dataset({\n",
       "        features: ['translation'],\n",
       "        num_rows: 1659083\n",
       "    })\n",
       "})"
      ]
     },
     "execution_count": 3,
     "metadata": {},
     "output_type": "execute_result"
    }
   ],
   "source": [
    "from datasets import load_dataset\n",
    "dataset = load_dataset(\"cfilt/iitb-english-hindi\")\n",
    "dataset"
   ]
  },
  {
   "cell_type": "markdown",
   "id": "2837f535",
   "metadata": {
    "papermill": {
     "duration": 0.009658,
     "end_time": "2023-05-14T06:40:14.416278",
     "exception": false,
     "start_time": "2023-05-14T06:40:14.406620",
     "status": "completed"
    },
    "tags": []
   },
   "source": [
    "## View Parallel Corpus Detaset"
   ]
  },
  {
   "cell_type": "code",
   "execution_count": 4,
   "id": "ffb43989",
   "metadata": {
    "execution": {
     "iopub.execute_input": "2023-05-14T06:40:14.438705Z",
     "iopub.status.busy": "2023-05-14T06:40:14.437953Z",
     "iopub.status.idle": "2023-05-14T06:40:14.447339Z",
     "shell.execute_reply": "2023-05-14T06:40:14.445809Z"
    },
    "papermill": {
     "duration": 0.024047,
     "end_time": "2023-05-14T06:40:14.450154",
     "exception": false,
     "start_time": "2023-05-14T06:40:14.426107",
     "status": "completed"
    },
    "tags": []
   },
   "outputs": [
    {
     "data": {
      "text/plain": [
       "dict_keys(['test', 'validation', 'train'])"
      ]
     },
     "execution_count": 4,
     "metadata": {},
     "output_type": "execute_result"
    }
   ],
   "source": [
    "dataset.data.keys()"
   ]
  },
  {
   "cell_type": "code",
   "execution_count": 5,
   "id": "45300937",
   "metadata": {
    "execution": {
     "iopub.execute_input": "2023-05-14T06:40:14.473461Z",
     "iopub.status.busy": "2023-05-14T06:40:14.472903Z",
     "iopub.status.idle": "2023-05-14T06:40:14.483692Z",
     "shell.execute_reply": "2023-05-14T06:40:14.482189Z"
    },
    "papermill": {
     "duration": 0.026354,
     "end_time": "2023-05-14T06:40:14.486790",
     "exception": false,
     "start_time": "2023-05-14T06:40:14.460436",
     "status": "completed"
    },
    "tags": []
   },
   "outputs": [
    {
     "name": "stdout",
     "output_type": "stream",
     "text": [
      "************************************************** Training Dataset **************************************************\n",
      "No. of Rows: 1659083\n",
      "English    : The President said that our government has made focused efforts to improve India’s ranking on the Ease of Doing Business Index, and now it aims to improve the Ease of Living for all citizens.\n",
      "Hindi      : राष्ट्रपति ने कहा कि हमारी सरकार ने ‘व्यापार सुगमता सूचकांक’ में भारत की रैंकिंग में सुधार के लिए एकजुट प्रयास किए हैं, और अब इसका उद्देश्य सभी नागरिकों के लिए ‘जीवन यापन की सुगमता’ में सुधार करना है।\n"
     ]
    }
   ],
   "source": [
    "print('*'*50,'Training Dataset','*'*50)\n",
    "print('No. of Rows:',dataset.data['train'].num_rows)\n",
    "print('English    :',dataset.data['train'][0][1600000]['en'])\n",
    "print('Hindi      :',dataset.data['train'][0][1600000]['hi'])"
   ]
  },
  {
   "cell_type": "code",
   "execution_count": 6,
   "id": "f6e7d2ba",
   "metadata": {
    "execution": {
     "iopub.execute_input": "2023-05-14T06:40:14.512720Z",
     "iopub.status.busy": "2023-05-14T06:40:14.512248Z",
     "iopub.status.idle": "2023-05-14T06:40:14.521500Z",
     "shell.execute_reply": "2023-05-14T06:40:14.519851Z"
    },
    "papermill": {
     "duration": 0.025943,
     "end_time": "2023-05-14T06:40:14.524634",
     "exception": false,
     "start_time": "2023-05-14T06:40:14.498691",
     "status": "completed"
    },
    "tags": []
   },
   "outputs": [
    {
     "name": "stdout",
     "output_type": "stream",
     "text": [
      "************************************************** Validation Dataset **************************************************\n",
      "No. of Rows: 520\n",
      "English    : According to the astrologer Vachspati, sunrise will be at 6.41 am on Friday, the first of November.\n",
      "Hindi      : ज्योतिष वाचस्पति के अनुसार शुक्रवार एक नवंबर को सुबह 6.41 पर सूर्योदय हो रहा है।\n"
     ]
    }
   ],
   "source": [
    "print('*'*50,'Validation Dataset','*'*50)\n",
    "print('No. of Rows:',dataset.data['validation'].num_rows)\n",
    "print('English    :',dataset.data['validation'][0][500]['en'])\n",
    "print('Hindi      :',dataset.data['validation'][0][500]['hi'])"
   ]
  },
  {
   "cell_type": "code",
   "execution_count": 7,
   "id": "215f6bfa",
   "metadata": {
    "execution": {
     "iopub.execute_input": "2023-05-14T06:40:14.548555Z",
     "iopub.status.busy": "2023-05-14T06:40:14.548098Z",
     "iopub.status.idle": "2023-05-14T06:40:14.557107Z",
     "shell.execute_reply": "2023-05-14T06:40:14.555707Z"
    },
    "papermill": {
     "duration": 0.024239,
     "end_time": "2023-05-14T06:40:14.559826",
     "exception": false,
     "start_time": "2023-05-14T06:40:14.535587",
     "status": "completed"
    },
    "tags": []
   },
   "outputs": [
    {
     "name": "stdout",
     "output_type": "stream",
     "text": [
      "************************************************** Testing Dataset **************************************************\n",
      "No. of Rows: 2507\n",
      "English    : This has been choreographed by the famous Bollywood star Vaibhai Merchant.\n",
      "Hindi      : इसे मशहूर बॉलीवुड हस्ती वैभवी मर्चेट द्वारा कोरियोग्राफ किया गया है।\n"
     ]
    }
   ],
   "source": [
    "print('*'*50,'Testing Dataset','*'*50)\n",
    "print('No. of Rows:',dataset.data['test'].num_rows)\n",
    "print('English    :',dataset.data['test'][0][2500]['en'])\n",
    "print('Hindi      :',dataset.data['test'][0][2500]['hi'])"
   ]
  },
  {
   "cell_type": "code",
   "execution_count": 8,
   "id": "f3bd22f9",
   "metadata": {
    "execution": {
     "iopub.execute_input": "2023-05-14T06:40:14.584085Z",
     "iopub.status.busy": "2023-05-14T06:40:14.583227Z",
     "iopub.status.idle": "2023-05-14T06:40:55.081767Z",
     "shell.execute_reply": "2023-05-14T06:40:55.080082Z"
    },
    "papermill": {
     "duration": 40.524491,
     "end_time": "2023-05-14T06:40:55.095286",
     "exception": false,
     "start_time": "2023-05-14T06:40:14.570795",
     "status": "completed"
    },
    "tags": []
   },
   "outputs": [
    {
     "name": "stdout",
     "output_type": "stream",
     "text": [
      "The President said that our government has made focused efforts to improve India’s ranking on the Ease of Doing Business Index, and now it aims to improve the Ease of Living for all citizens.\n",
      "राष्ट्रपति ने कहा कि हमारी सरकार ने ‘व्यापार सुगमता सूचकांक’ में भारत की रैंकिंग में सुधार के लिए एकजुट प्रयास किए हैं, और अब इसका उद्देश्य सभी नागरिकों के लिए ‘जीवन यापन की सुगमता’ में सुधार करना है।\n"
     ]
    }
   ],
   "source": [
    "print(dataset[\"train\"][\"translation\"][1600000]['en'])\n",
    "print(dataset[\"train\"][\"translation\"][1600000]['hi'])"
   ]
  },
  {
   "cell_type": "markdown",
   "id": "d029a503",
   "metadata": {
    "papermill": {
     "duration": 0.010387,
     "end_time": "2023-05-14T06:40:55.116459",
     "exception": false,
     "start_time": "2023-05-14T06:40:55.106072",
     "status": "completed"
    },
    "tags": []
   },
   "source": [
    "## Extract Dataset in Source and Target Text files"
   ]
  },
  {
   "cell_type": "code",
   "execution_count": 9,
   "id": "c0624f0b",
   "metadata": {
    "execution": {
     "iopub.execute_input": "2023-05-14T06:40:55.140929Z",
     "iopub.status.busy": "2023-05-14T06:40:55.140443Z",
     "iopub.status.idle": "2023-05-14T06:41:21.526561Z",
     "shell.execute_reply": "2023-05-14T06:41:21.525048Z"
    },
    "papermill": {
     "duration": 26.402665,
     "end_time": "2023-05-14T06:41:21.530197",
     "exception": false,
     "start_time": "2023-05-14T06:40:55.127532",
     "status": "completed"
    },
    "tags": []
   },
   "outputs": [],
   "source": [
    "source_train_file = open(\"source_train.txt\", \"w+\", encoding='utf8')\n",
    "target_train_file = open(\"target_train.txt\", \"w+\", encoding='utf8')\n",
    "for translation_pair in dataset[\"train\"][\"translation\"]:\n",
    "    source_sentence = translation_pair[\"en\"]\n",
    "    target_sentence = translation_pair[\"hi\"]\n",
    "    source_train_file.write(source_sentence.strip(\"\\n\") + \"\\n\")\n",
    "    target_train_file.write(target_sentence.strip(\"\\n\") + \"\\n\")\n",
    "source_train_file.close()\n",
    "target_train_file.close()\n",
    "\n",
    "source_valid_file = open(\"source_valid.txt\", \"w+\", encoding='utf8')\n",
    "target_valid_file = open(\"target_valid.txt\", \"w+\", encoding='utf8')\n",
    "for translation_pair in dataset[\"validation\"][\"translation\"]:\n",
    "    source_sentence = translation_pair[\"en\"]\n",
    "    target_sentence = translation_pair[\"hi\"]\n",
    "    source_valid_file.write(source_sentence.strip(\"\\n\") + \"\\n\")\n",
    "    target_valid_file.write(target_sentence.strip(\"\\n\") + \"\\n\")\n",
    "source_valid_file.close()\n",
    "target_valid_file.close()\n",
    "\n",
    "source_test_file = open(\"source_test.txt\", \"w+\", encoding='utf8')\n",
    "target_test_file = open(\"target_test.txt\", \"w+\", encoding='utf8')\n",
    "for translation_pair in dataset[\"test\"][\"translation\"]:\n",
    "    source_sentence = translation_pair[\"en\"]\n",
    "    target_sentence = translation_pair[\"hi\"]\n",
    "    source_test_file.write(source_sentence.strip(\"\\n\") + \"\\n\")\n",
    "    target_test_file.write(target_sentence.strip(\"\\n\") + \"\\n\")\n",
    "source_test_file.close()\n",
    "target_test_file.close()"
   ]
  },
  {
   "cell_type": "code",
   "execution_count": 10,
   "id": "0bdd90f4",
   "metadata": {
    "execution": {
     "iopub.execute_input": "2023-05-14T06:41:21.555213Z",
     "iopub.status.busy": "2023-05-14T06:41:21.554662Z",
     "iopub.status.idle": "2023-05-14T06:41:21.564407Z",
     "shell.execute_reply": "2023-05-14T06:41:21.562661Z"
    },
    "papermill": {
     "duration": 0.026094,
     "end_time": "2023-05-14T06:41:21.567571",
     "exception": false,
     "start_time": "2023-05-14T06:41:21.541477",
     "status": "completed"
    },
    "tags": []
   },
   "outputs": [
    {
     "name": "stdout",
     "output_type": "stream",
     "text": [
      "['Give your application an accessibility workout\\n']\n",
      "['अपने अनुप्रयोग को पहुंचनीयता व्यायाम का लाभ दें\\n']\n"
     ]
    }
   ],
   "source": [
    "source_train_file = open(\"source_train.txt\", \"r\", encoding='utf8')\n",
    "print(source_train_file.readlines(1))\n",
    "target_train_file = open(\"target_train.txt\", \"r\", encoding='utf8')\n",
    "print(target_train_file.readlines(1))\n",
    "source_train_file.close()"
   ]
  },
  {
   "cell_type": "code",
   "execution_count": 11,
   "id": "c44f4a8b",
   "metadata": {
    "execution": {
     "iopub.execute_input": "2023-05-14T06:41:21.592616Z",
     "iopub.status.busy": "2023-05-14T06:41:21.592158Z",
     "iopub.status.idle": "2023-05-14T06:41:41.043989Z",
     "shell.execute_reply": "2023-05-14T06:41:41.042547Z"
    },
    "papermill": {
     "duration": 19.468344,
     "end_time": "2023-05-14T06:41:41.047010",
     "exception": false,
     "start_time": "2023-05-14T06:41:21.578666",
     "status": "completed"
    },
    "tags": []
   },
   "outputs": [
    {
     "name": "stdout",
     "output_type": "stream",
     "text": [
      "Give your application an accessibility workout\n",
      "अपने अनुप्रयोग को पहुंचनीयता व्यायाम का लाभ दें\n",
      "['Give your application an accessibility workout\\n']\n",
      "['अपने अनुप्रयोग को पहुंचनीयता व्यायाम का लाभ दें\\n']\n"
     ]
    }
   ],
   "source": [
    "English = open(\"English.txt\", \"w+\", encoding='utf8')\n",
    "Hindi   = open(\"Hindi.txt\", \"w+\", encoding='utf8')\n",
    "\n",
    "for translation_pair in dataset[\"train\"][\"translation\"]:\n",
    "    english = translation_pair['en']\n",
    "    hindi   = translation_pair['hi']\n",
    "    print(english.strip('\\n'))\n",
    "    print(hindi.strip('\\n'))\n",
    "    English.write(english.strip(\"\\n\") + \"\\n\")\n",
    "    Hindi.write(hindi.strip(\"\\n\") + \"\\n\")\n",
    "    break\n",
    "    \n",
    "English.close()\n",
    "Hindi.close()\n",
    "\n",
    "English = open(\"English.txt\", \"r\", encoding='utf8')\n",
    "print(English.readlines())\n",
    "Hindi   = open(\"Hindi.txt\", \"r\", encoding='utf8')\n",
    "print(Hindi.readlines())\n",
    "English.close()\n",
    "Hindi.close()"
   ]
  },
  {
   "cell_type": "markdown",
   "id": "07641987",
   "metadata": {
    "papermill": {
     "duration": 0.011023,
     "end_time": "2023-05-14T06:41:41.070438",
     "exception": false,
     "start_time": "2023-05-14T06:41:41.059415",
     "status": "completed"
    },
    "tags": []
   },
   "source": [
    "## Parallel Corpus Sentence Pairs (Linux)"
   ]
  },
  {
   "cell_type": "code",
   "execution_count": 12,
   "id": "c85cffde",
   "metadata": {
    "execution": {
     "iopub.execute_input": "2023-05-14T06:41:41.096325Z",
     "iopub.status.busy": "2023-05-14T06:41:41.095032Z",
     "iopub.status.idle": "2023-05-14T06:41:42.400646Z",
     "shell.execute_reply": "2023-05-14T06:41:42.399216Z"
    },
    "papermill": {
     "duration": 1.322343,
     "end_time": "2023-05-14T06:41:42.404083",
     "exception": false,
     "start_time": "2023-05-14T06:41:41.081740",
     "status": "completed"
    },
    "tags": []
   },
   "outputs": [
    {
     "name": "stdout",
     "output_type": "stream",
     "text": [
      "  1659083 source_train.txt\r\n",
      "  1659083 target_train.txt\r\n",
      "      520 source_valid.txt\r\n",
      "      520 target_valid.txt\r\n",
      "     2507 source_test.txt\r\n",
      "     2507 target_test.txt\r\n",
      "  3324220 total\r\n"
     ]
    }
   ],
   "source": [
    "! wc -l source_train.txt target_train.txt source_valid.txt target_valid.txt source_test.txt target_test.txt"
   ]
  },
  {
   "cell_type": "markdown",
   "id": "952161db",
   "metadata": {
    "papermill": {
     "duration": 0.011137,
     "end_time": "2023-05-14T06:41:42.426736",
     "exception": false,
     "start_time": "2023-05-14T06:41:42.415599",
     "status": "completed"
    },
    "tags": []
   },
   "source": [
    "## Byte Pair Encoding (BPE)"
   ]
  },
  {
   "cell_type": "code",
   "execution_count": 13,
   "id": "ab578d3d",
   "metadata": {
    "execution": {
     "iopub.execute_input": "2023-05-14T06:41:42.452859Z",
     "iopub.status.busy": "2023-05-14T06:41:42.452316Z",
     "iopub.status.idle": "2023-05-14T06:41:42.459119Z",
     "shell.execute_reply": "2023-05-14T06:41:42.457755Z"
    },
    "papermill": {
     "duration": 0.023579,
     "end_time": "2023-05-14T06:41:42.461866",
     "exception": false,
     "start_time": "2023-05-14T06:41:42.438287",
     "status": "completed"
    },
    "tags": []
   },
   "outputs": [],
   "source": [
    "import os\n",
    "os.environ['NUM_OF_MERGE_OPERATIONS'] = \"16000\""
   ]
  },
  {
   "cell_type": "code",
   "execution_count": 14,
   "id": "6f7f59bd",
   "metadata": {
    "execution": {
     "iopub.execute_input": "2023-05-14T06:41:42.487698Z",
     "iopub.status.busy": "2023-05-14T06:41:42.487155Z",
     "iopub.status.idle": "2023-05-14T06:41:45.217863Z",
     "shell.execute_reply": "2023-05-14T06:41:45.216131Z"
    },
    "papermill": {
     "duration": 2.747519,
     "end_time": "2023-05-14T06:41:45.221077",
     "exception": false,
     "start_time": "2023-05-14T06:41:42.473558",
     "status": "completed"
    },
    "tags": []
   },
   "outputs": [],
   "source": [
    "! cat source_train.txt source_test.txt source_valid.txt > source_full.txt\n",
    "! cat target_train.txt target_test.txt target_valid.txt > target_full.txt"
   ]
  },
  {
   "cell_type": "code",
   "execution_count": 15,
   "id": "9961603b",
   "metadata": {
    "execution": {
     "iopub.execute_input": "2023-05-14T06:41:45.248087Z",
     "iopub.status.busy": "2023-05-14T06:41:45.247190Z",
     "iopub.status.idle": "2023-05-14T06:41:47.459191Z",
     "shell.execute_reply": "2023-05-14T06:41:47.457410Z"
    },
    "papermill": {
     "duration": 2.229543,
     "end_time": "2023-05-14T06:41:47.462480",
     "exception": false,
     "start_time": "2023-05-14T06:41:45.232937",
     "status": "completed"
    },
    "tags": []
   },
   "outputs": [
    {
     "name": "stdout",
     "output_type": "stream",
     "text": [
      "/bin/bash: subword-nmt: command not found\r\n",
      "/bin/bash: subword-nmt: command not found\r\n"
     ]
    }
   ],
   "source": [
    "! subword-nmt learn-bpe -s $NUM_OF_MERGE_OPERATIONS < source_full.txt > source-bpe.codes\n",
    "! subword-nmt learn-bpe -s $NUM_OF_MERGE_OPERATIONS < target_full.txt > target-bpe.codes"
   ]
  },
  {
   "cell_type": "markdown",
   "id": "c058b373",
   "metadata": {
    "papermill": {
     "duration": 0.012531,
     "end_time": "2023-05-14T06:41:47.487141",
     "exception": false,
     "start_time": "2023-05-14T06:41:47.474610",
     "status": "completed"
    },
    "tags": []
   },
   "source": [
    "## Apply BPE"
   ]
  },
  {
   "cell_type": "code",
   "execution_count": 16,
   "id": "6d88e707",
   "metadata": {
    "execution": {
     "iopub.execute_input": "2023-05-14T06:41:47.513746Z",
     "iopub.status.busy": "2023-05-14T06:41:47.512855Z",
     "iopub.status.idle": "2023-05-14T06:41:54.198520Z",
     "shell.execute_reply": "2023-05-14T06:41:54.196361Z"
    },
    "papermill": {
     "duration": 6.703037,
     "end_time": "2023-05-14T06:41:54.202020",
     "exception": false,
     "start_time": "2023-05-14T06:41:47.498983",
     "status": "completed"
    },
    "tags": []
   },
   "outputs": [
    {
     "name": "stdout",
     "output_type": "stream",
     "text": [
      "/bin/bash: subword-nmt: command not found\r\n",
      "/bin/bash: subword-nmt: command not found\r\n",
      "/bin/bash: subword-nmt: command not found\r\n",
      "/bin/bash: subword-nmt: command not found\r\n",
      "/bin/bash: subword-nmt: command not found\r\n",
      "/bin/bash: subword-nmt: command not found\r\n"
     ]
    }
   ],
   "source": [
    "! subword-nmt apply-bpe -c source-bpe.codes < source_train.txt > source_train_bpe.txt\n",
    "! subword-nmt apply-bpe -c source-bpe.codes < source_valid.txt > source_valid_bpe.txt\n",
    "! subword-nmt apply-bpe -c source-bpe.codes < source_test.txt > source_test_bpe.txt\n",
    "\n",
    "! subword-nmt apply-bpe -c target-bpe.codes < target_train.txt > target_train_bpe.txt\n",
    "! subword-nmt apply-bpe -c target-bpe.codes < target_valid.txt > target_valid_bpe.txt\n",
    "! subword-nmt apply-bpe -c target-bpe.codes < target_test.txt > target_test_bpe.txt"
   ]
  },
  {
   "cell_type": "markdown",
   "id": "e7b2cfc9",
   "metadata": {
    "papermill": {
     "duration": 0.012247,
     "end_time": "2023-05-14T06:41:54.226944",
     "exception": false,
     "start_time": "2023-05-14T06:41:54.214697",
     "status": "completed"
    },
    "tags": []
   },
   "source": [
    "## BPE Codes (Linux)"
   ]
  },
  {
   "cell_type": "code",
   "execution_count": 17,
   "id": "9b0727ae",
   "metadata": {
    "execution": {
     "iopub.execute_input": "2023-05-14T06:41:54.257153Z",
     "iopub.status.busy": "2023-05-14T06:41:54.256540Z",
     "iopub.status.idle": "2023-05-14T06:41:55.362167Z",
     "shell.execute_reply": "2023-05-14T06:41:55.360043Z"
    },
    "papermill": {
     "duration": 1.12522,
     "end_time": "2023-05-14T06:41:55.365745",
     "exception": false,
     "start_time": "2023-05-14T06:41:54.240525",
     "status": "completed"
    },
    "tags": []
   },
   "outputs": [
    {
     "name": "stdout",
     "output_type": "stream",
     "text": [
      "0 source-bpe.codes\r\n",
      "0 target-bpe.codes\r\n",
      "0 total\r\n"
     ]
    }
   ],
   "source": [
    "! wc -l source-bpe.codes target-bpe.codes"
   ]
  },
  {
   "cell_type": "markdown",
   "id": "fc3d1c04",
   "metadata": {
    "papermill": {
     "duration": 0.012556,
     "end_time": "2023-05-14T06:41:55.391161",
     "exception": false,
     "start_time": "2023-05-14T06:41:55.378605",
     "status": "completed"
    },
    "tags": []
   },
   "source": [
    "## BPE Parallel Corpus Sentence Pairs (Linux)"
   ]
  },
  {
   "cell_type": "code",
   "execution_count": 18,
   "id": "f4598e6b",
   "metadata": {
    "execution": {
     "iopub.execute_input": "2023-05-14T06:41:55.419140Z",
     "iopub.status.busy": "2023-05-14T06:41:55.418546Z",
     "iopub.status.idle": "2023-05-14T06:41:56.522594Z",
     "shell.execute_reply": "2023-05-14T06:41:56.520723Z"
    },
    "papermill": {
     "duration": 1.122925,
     "end_time": "2023-05-14T06:41:56.526728",
     "exception": false,
     "start_time": "2023-05-14T06:41:55.403803",
     "status": "completed"
    },
    "tags": []
   },
   "outputs": [
    {
     "name": "stdout",
     "output_type": "stream",
     "text": [
      "0 source_train_bpe.txt\r\n",
      "0 target_train_bpe.txt\r\n",
      "0 source_valid_bpe.txt\r\n",
      "0 target_valid_bpe.txt\r\n",
      "0 source_test_bpe.txt\r\n",
      "0 target_test_bpe.txt\r\n",
      "0 total\r\n"
     ]
    }
   ],
   "source": [
    "! wc -l source_train_bpe.txt target_train_bpe.txt source_valid_bpe.txt target_valid_bpe.txt source_test_bpe.txt target_test_bpe.txt"
   ]
  },
  {
   "cell_type": "code",
   "execution_count": null,
   "id": "609b53fd",
   "metadata": {
    "papermill": {
     "duration": 0.013209,
     "end_time": "2023-05-14T06:41:56.553021",
     "exception": false,
     "start_time": "2023-05-14T06:41:56.539812",
     "status": "completed"
    },
    "tags": []
   },
   "outputs": [],
   "source": []
  }
 ],
 "metadata": {
  "kernelspec": {
   "display_name": "Python 3",
   "language": "python",
   "name": "python3"
  },
  "language_info": {
   "codemirror_mode": {
    "name": "ipython",
    "version": 3
   },
   "file_extension": ".py",
   "mimetype": "text/x-python",
   "name": "python",
   "nbconvert_exporter": "python",
   "pygments_lexer": "ipython3",
   "version": "3.7.12"
  },
  "papermill": {
   "default_parameters": {},
   "duration": 135.013582,
   "end_time": "2023-05-14T06:41:57.695942",
   "environment_variables": {},
   "exception": null,
   "input_path": "__notebook__.ipynb",
   "output_path": "__notebook__.ipynb",
   "parameters": {},
   "start_time": "2023-05-14T06:39:42.682360",
   "version": "2.4.0"
  },
  "widgets": {
   "application/vnd.jupyter.widget-state+json": {
    "state": {
     "0492927f49394c40b1fb4427245d7299": {
      "model_module": "@jupyter-widgets/controls",
      "model_module_version": "1.5.0",
      "model_name": "HTMLModel",
      "state": {
       "_dom_classes": [],
       "_model_module": "@jupyter-widgets/controls",
       "_model_module_version": "1.5.0",
       "_model_name": "HTMLModel",
       "_view_count": null,
       "_view_module": "@jupyter-widgets/controls",
       "_view_module_version": "1.5.0",
       "_view_name": "HTMLView",
       "description": "",
       "description_tooltip": null,
       "layout": "IPY_MODEL_be7f99847ba7450388edca784664c1d5",
       "placeholder": "​",
       "style": "IPY_MODEL_b3c1ec271374450c9df893105d175291",
       "value": " 3/3 [00:00&lt;00:00, 107.11it/s]"
      }
     },
     "0940edfa6fbe40fa9e1b1afd4327c2d2": {
      "model_module": "@jupyter-widgets/base",
      "model_module_version": "1.2.0",
      "model_name": "LayoutModel",
      "state": {
       "_model_module": "@jupyter-widgets/base",
       "_model_module_version": "1.2.0",
       "_model_name": "LayoutModel",
       "_view_count": null,
       "_view_module": "@jupyter-widgets/base",
       "_view_module_version": "1.2.0",
       "_view_name": "LayoutView",
       "align_content": null,
       "align_items": null,
       "align_self": null,
       "border": null,
       "bottom": null,
       "display": null,
       "flex": null,
       "flex_flow": null,
       "grid_area": null,
       "grid_auto_columns": null,
       "grid_auto_flow": null,
       "grid_auto_rows": null,
       "grid_column": null,
       "grid_gap": null,
       "grid_row": null,
       "grid_template_areas": null,
       "grid_template_columns": null,
       "grid_template_rows": null,
       "height": null,
       "justify_content": null,
       "justify_items": null,
       "left": null,
       "margin": null,
       "max_height": null,
       "max_width": null,
       "min_height": null,
       "min_width": null,
       "object_fit": null,
       "object_position": null,
       "order": null,
       "overflow": null,
       "overflow_x": null,
       "overflow_y": null,
       "padding": null,
       "right": null,
       "top": null,
       "visibility": null,
       "width": null
      }
     },
     "131d20a2133c4ce281e327a87457fec3": {
      "model_module": "@jupyter-widgets/base",
      "model_module_version": "1.2.0",
      "model_name": "LayoutModel",
      "state": {
       "_model_module": "@jupyter-widgets/base",
       "_model_module_version": "1.2.0",
       "_model_name": "LayoutModel",
       "_view_count": null,
       "_view_module": "@jupyter-widgets/base",
       "_view_module_version": "1.2.0",
       "_view_name": "LayoutView",
       "align_content": null,
       "align_items": null,
       "align_self": null,
       "border": null,
       "bottom": null,
       "display": null,
       "flex": null,
       "flex_flow": null,
       "grid_area": null,
       "grid_auto_columns": null,
       "grid_auto_flow": null,
       "grid_auto_rows": null,
       "grid_column": null,
       "grid_gap": null,
       "grid_row": null,
       "grid_template_areas": null,
       "grid_template_columns": null,
       "grid_template_rows": null,
       "height": null,
       "justify_content": null,
       "justify_items": null,
       "left": null,
       "margin": null,
       "max_height": null,
       "max_width": null,
       "min_height": null,
       "min_width": null,
       "object_fit": null,
       "object_position": null,
       "order": null,
       "overflow": null,
       "overflow_x": null,
       "overflow_y": null,
       "padding": null,
       "right": null,
       "top": null,
       "visibility": null,
       "width": null
      }
     },
     "14d22bbf93d34166b7bc4ba91c1b8e68": {
      "model_module": "@jupyter-widgets/base",
      "model_module_version": "1.2.0",
      "model_name": "LayoutModel",
      "state": {
       "_model_module": "@jupyter-widgets/base",
       "_model_module_version": "1.2.0",
       "_model_name": "LayoutModel",
       "_view_count": null,
       "_view_module": "@jupyter-widgets/base",
       "_view_module_version": "1.2.0",
       "_view_name": "LayoutView",
       "align_content": null,
       "align_items": null,
       "align_self": null,
       "border": null,
       "bottom": null,
       "display": null,
       "flex": null,
       "flex_flow": null,
       "grid_area": null,
       "grid_auto_columns": null,
       "grid_auto_flow": null,
       "grid_auto_rows": null,
       "grid_column": null,
       "grid_gap": null,
       "grid_row": null,
       "grid_template_areas": null,
       "grid_template_columns": null,
       "grid_template_rows": null,
       "height": null,
       "justify_content": null,
       "justify_items": null,
       "left": null,
       "margin": null,
       "max_height": null,
       "max_width": null,
       "min_height": null,
       "min_width": null,
       "object_fit": null,
       "object_position": null,
       "order": null,
       "overflow": null,
       "overflow_x": null,
       "overflow_y": null,
       "padding": null,
       "right": null,
       "top": null,
       "visibility": null,
       "width": null
      }
     },
     "17f946490c8e4bcb8c0123bbe583ddfc": {
      "model_module": "@jupyter-widgets/base",
      "model_module_version": "1.2.0",
      "model_name": "LayoutModel",
      "state": {
       "_model_module": "@jupyter-widgets/base",
       "_model_module_version": "1.2.0",
       "_model_name": "LayoutModel",
       "_view_count": null,
       "_view_module": "@jupyter-widgets/base",
       "_view_module_version": "1.2.0",
       "_view_name": "LayoutView",
       "align_content": null,
       "align_items": null,
       "align_self": null,
       "border": null,
       "bottom": null,
       "display": null,
       "flex": null,
       "flex_flow": null,
       "grid_area": null,
       "grid_auto_columns": null,
       "grid_auto_flow": null,
       "grid_auto_rows": null,
       "grid_column": null,
       "grid_gap": null,
       "grid_row": null,
       "grid_template_areas": null,
       "grid_template_columns": null,
       "grid_template_rows": null,
       "height": null,
       "justify_content": null,
       "justify_items": null,
       "left": null,
       "margin": null,
       "max_height": null,
       "max_width": null,
       "min_height": null,
       "min_width": null,
       "object_fit": null,
       "object_position": null,
       "order": null,
       "overflow": null,
       "overflow_x": null,
       "overflow_y": null,
       "padding": null,
       "right": null,
       "top": null,
       "visibility": null,
       "width": null
      }
     },
     "1b5f195617304b3785e10c8cfbdcd0e5": {
      "model_module": "@jupyter-widgets/base",
      "model_module_version": "1.2.0",
      "model_name": "LayoutModel",
      "state": {
       "_model_module": "@jupyter-widgets/base",
       "_model_module_version": "1.2.0",
       "_model_name": "LayoutModel",
       "_view_count": null,
       "_view_module": "@jupyter-widgets/base",
       "_view_module_version": "1.2.0",
       "_view_name": "LayoutView",
       "align_content": null,
       "align_items": null,
       "align_self": null,
       "border": null,
       "bottom": null,
       "display": null,
       "flex": null,
       "flex_flow": null,
       "grid_area": null,
       "grid_auto_columns": null,
       "grid_auto_flow": null,
       "grid_auto_rows": null,
       "grid_column": null,
       "grid_gap": null,
       "grid_row": null,
       "grid_template_areas": null,
       "grid_template_columns": null,
       "grid_template_rows": null,
       "height": null,
       "justify_content": null,
       "justify_items": null,
       "left": null,
       "margin": null,
       "max_height": null,
       "max_width": null,
       "min_height": null,
       "min_width": null,
       "object_fit": null,
       "object_position": null,
       "order": null,
       "overflow": null,
       "overflow_x": null,
       "overflow_y": null,
       "padding": null,
       "right": null,
       "top": null,
       "visibility": null,
       "width": null
      }
     },
     "224161eb60bb4dd8b6b3c90be3bd1561": {
      "model_module": "@jupyter-widgets/controls",
      "model_module_version": "1.5.0",
      "model_name": "HBoxModel",
      "state": {
       "_dom_classes": [],
       "_model_module": "@jupyter-widgets/controls",
       "_model_module_version": "1.5.0",
       "_model_name": "HBoxModel",
       "_view_count": null,
       "_view_module": "@jupyter-widgets/controls",
       "_view_module_version": "1.5.0",
       "_view_name": "HBoxView",
       "box_style": "",
       "children": [
        "IPY_MODEL_a0e8aecaac044c8d978112c02cabedb4",
        "IPY_MODEL_f0729171317843329d9e433891f00cb7",
        "IPY_MODEL_cdcab2864e7748dd9571c8cbb170717c"
       ],
       "layout": "IPY_MODEL_131d20a2133c4ce281e327a87457fec3"
      }
     },
     "239404ff527b4d5fa1d287fb77d61722": {
      "model_module": "@jupyter-widgets/controls",
      "model_module_version": "1.5.0",
      "model_name": "HTMLModel",
      "state": {
       "_dom_classes": [],
       "_model_module": "@jupyter-widgets/controls",
       "_model_module_version": "1.5.0",
       "_model_name": "HTMLModel",
       "_view_count": null,
       "_view_module": "@jupyter-widgets/controls",
       "_view_module_version": "1.5.0",
       "_view_name": "HTMLView",
       "description": "",
       "description_tooltip": null,
       "layout": "IPY_MODEL_7912ceae1c4f45feb048a0e3379066a7",
       "placeholder": "​",
       "style": "IPY_MODEL_e2d158065c814b078dd4d7c461b4b909",
       "value": " 3/3 [00:10&lt;00:00,  4.30s/it]"
      }
     },
     "2502354cd8674fd0a0ee50c384a6e3dc": {
      "model_module": "@jupyter-widgets/controls",
      "model_module_version": "1.5.0",
      "model_name": "HTMLModel",
      "state": {
       "_dom_classes": [],
       "_model_module": "@jupyter-widgets/controls",
       "_model_module_version": "1.5.0",
       "_model_name": "HTMLModel",
       "_view_count": null,
       "_view_module": "@jupyter-widgets/controls",
       "_view_module_version": "1.5.0",
       "_view_name": "HTMLView",
       "description": "",
       "description_tooltip": null,
       "layout": "IPY_MODEL_ccd44583715849f5beeb939bc09761b4",
       "placeholder": "​",
       "style": "IPY_MODEL_5e9a143f353446b085e0b61b04605e91",
       "value": "Downloading data files: 100%"
      }
     },
     "2f93a0166f2b4835a195519d2043be50": {
      "model_module": "@jupyter-widgets/controls",
      "model_module_version": "1.5.0",
      "model_name": "ProgressStyleModel",
      "state": {
       "_model_module": "@jupyter-widgets/controls",
       "_model_module_version": "1.5.0",
       "_model_name": "ProgressStyleModel",
       "_view_count": null,
       "_view_module": "@jupyter-widgets/base",
       "_view_module_version": "1.2.0",
       "_view_name": "StyleView",
       "bar_color": null,
       "description_width": ""
      }
     },
     "3a2418260baa42848a9cb7aa5a8302d2": {
      "model_module": "@jupyter-widgets/base",
      "model_module_version": "1.2.0",
      "model_name": "LayoutModel",
      "state": {
       "_model_module": "@jupyter-widgets/base",
       "_model_module_version": "1.2.0",
       "_model_name": "LayoutModel",
       "_view_count": null,
       "_view_module": "@jupyter-widgets/base",
       "_view_module_version": "1.2.0",
       "_view_name": "LayoutView",
       "align_content": null,
       "align_items": null,
       "align_self": null,
       "border": null,
       "bottom": null,
       "display": null,
       "flex": null,
       "flex_flow": null,
       "grid_area": null,
       "grid_auto_columns": null,
       "grid_auto_flow": null,
       "grid_auto_rows": null,
       "grid_column": null,
       "grid_gap": null,
       "grid_row": null,
       "grid_template_areas": null,
       "grid_template_columns": null,
       "grid_template_rows": null,
       "height": null,
       "justify_content": null,
       "justify_items": null,
       "left": null,
       "margin": null,
       "max_height": null,
       "max_width": null,
       "min_height": null,
       "min_width": null,
       "object_fit": null,
       "object_position": null,
       "order": null,
       "overflow": null,
       "overflow_x": null,
       "overflow_y": null,
       "padding": null,
       "right": null,
       "top": null,
       "visibility": null,
       "width": null
      }
     },
     "3bc50e6949f44de3bc2c727a2d37e0a4": {
      "model_module": "@jupyter-widgets/controls",
      "model_module_version": "1.5.0",
      "model_name": "DescriptionStyleModel",
      "state": {
       "_model_module": "@jupyter-widgets/controls",
       "_model_module_version": "1.5.0",
       "_model_name": "DescriptionStyleModel",
       "_view_count": null,
       "_view_module": "@jupyter-widgets/base",
       "_view_module_version": "1.2.0",
       "_view_name": "StyleView",
       "description_width": ""
      }
     },
     "3eabc20baf5544ffa4fd96fdb98ddda7": {
      "model_module": "@jupyter-widgets/base",
      "model_module_version": "1.2.0",
      "model_name": "LayoutModel",
      "state": {
       "_model_module": "@jupyter-widgets/base",
       "_model_module_version": "1.2.0",
       "_model_name": "LayoutModel",
       "_view_count": null,
       "_view_module": "@jupyter-widgets/base",
       "_view_module_version": "1.2.0",
       "_view_name": "LayoutView",
       "align_content": null,
       "align_items": null,
       "align_self": null,
       "border": null,
       "bottom": null,
       "display": null,
       "flex": null,
       "flex_flow": null,
       "grid_area": null,
       "grid_auto_columns": null,
       "grid_auto_flow": null,
       "grid_auto_rows": null,
       "grid_column": null,
       "grid_gap": null,
       "grid_row": null,
       "grid_template_areas": null,
       "grid_template_columns": null,
       "grid_template_rows": null,
       "height": null,
       "justify_content": null,
       "justify_items": null,
       "left": null,
       "margin": null,
       "max_height": null,
       "max_width": null,
       "min_height": null,
       "min_width": null,
       "object_fit": null,
       "object_position": null,
       "order": null,
       "overflow": null,
       "overflow_x": null,
       "overflow_y": null,
       "padding": null,
       "right": null,
       "top": null,
       "visibility": null,
       "width": null
      }
     },
     "3efad55c8efb4f5bbd7b65474e5b63c2": {
      "model_module": "@jupyter-widgets/controls",
      "model_module_version": "1.5.0",
      "model_name": "DescriptionStyleModel",
      "state": {
       "_model_module": "@jupyter-widgets/controls",
       "_model_module_version": "1.5.0",
       "_model_name": "DescriptionStyleModel",
       "_view_count": null,
       "_view_module": "@jupyter-widgets/base",
       "_view_module_version": "1.2.0",
       "_view_name": "StyleView",
       "description_width": ""
      }
     },
     "3f7749de95234a4391243cb2f717e82f": {
      "model_module": "@jupyter-widgets/base",
      "model_module_version": "1.2.0",
      "model_name": "LayoutModel",
      "state": {
       "_model_module": "@jupyter-widgets/base",
       "_model_module_version": "1.2.0",
       "_model_name": "LayoutModel",
       "_view_count": null,
       "_view_module": "@jupyter-widgets/base",
       "_view_module_version": "1.2.0",
       "_view_name": "LayoutView",
       "align_content": null,
       "align_items": null,
       "align_self": null,
       "border": null,
       "bottom": null,
       "display": null,
       "flex": null,
       "flex_flow": null,
       "grid_area": null,
       "grid_auto_columns": null,
       "grid_auto_flow": null,
       "grid_auto_rows": null,
       "grid_column": null,
       "grid_gap": null,
       "grid_row": null,
       "grid_template_areas": null,
       "grid_template_columns": null,
       "grid_template_rows": null,
       "height": null,
       "justify_content": null,
       "justify_items": null,
       "left": null,
       "margin": null,
       "max_height": null,
       "max_width": null,
       "min_height": null,
       "min_width": null,
       "object_fit": null,
       "object_position": null,
       "order": null,
       "overflow": null,
       "overflow_x": null,
       "overflow_y": null,
       "padding": null,
       "right": null,
       "top": null,
       "visibility": null,
       "width": null
      }
     },
     "406d37ce038244bc9e7a21e26b34e489": {
      "model_module": "@jupyter-widgets/base",
      "model_module_version": "1.2.0",
      "model_name": "LayoutModel",
      "state": {
       "_model_module": "@jupyter-widgets/base",
       "_model_module_version": "1.2.0",
       "_model_name": "LayoutModel",
       "_view_count": null,
       "_view_module": "@jupyter-widgets/base",
       "_view_module_version": "1.2.0",
       "_view_name": "LayoutView",
       "align_content": null,
       "align_items": null,
       "align_self": null,
       "border": null,
       "bottom": null,
       "display": null,
       "flex": null,
       "flex_flow": null,
       "grid_area": null,
       "grid_auto_columns": null,
       "grid_auto_flow": null,
       "grid_auto_rows": null,
       "grid_column": null,
       "grid_gap": null,
       "grid_row": null,
       "grid_template_areas": null,
       "grid_template_columns": null,
       "grid_template_rows": null,
       "height": null,
       "justify_content": null,
       "justify_items": null,
       "left": null,
       "margin": null,
       "max_height": null,
       "max_width": null,
       "min_height": null,
       "min_width": null,
       "object_fit": null,
       "object_position": null,
       "order": null,
       "overflow": null,
       "overflow_x": null,
       "overflow_y": null,
       "padding": null,
       "right": null,
       "top": null,
       "visibility": null,
       "width": null
      }
     },
     "412d43b61de1491ab9958dba7aedcc37": {
      "model_module": "@jupyter-widgets/base",
      "model_module_version": "1.2.0",
      "model_name": "LayoutModel",
      "state": {
       "_model_module": "@jupyter-widgets/base",
       "_model_module_version": "1.2.0",
       "_model_name": "LayoutModel",
       "_view_count": null,
       "_view_module": "@jupyter-widgets/base",
       "_view_module_version": "1.2.0",
       "_view_name": "LayoutView",
       "align_content": null,
       "align_items": null,
       "align_self": null,
       "border": null,
       "bottom": null,
       "display": null,
       "flex": null,
       "flex_flow": null,
       "grid_area": null,
       "grid_auto_columns": null,
       "grid_auto_flow": null,
       "grid_auto_rows": null,
       "grid_column": null,
       "grid_gap": null,
       "grid_row": null,
       "grid_template_areas": null,
       "grid_template_columns": null,
       "grid_template_rows": null,
       "height": null,
       "justify_content": null,
       "justify_items": null,
       "left": null,
       "margin": null,
       "max_height": null,
       "max_width": null,
       "min_height": null,
       "min_width": null,
       "object_fit": null,
       "object_position": null,
       "order": null,
       "overflow": null,
       "overflow_x": null,
       "overflow_y": null,
       "padding": null,
       "right": null,
       "top": null,
       "visibility": null,
       "width": null
      }
     },
     "45e4242cf3004bb6a7afba697694dd14": {
      "model_module": "@jupyter-widgets/controls",
      "model_module_version": "1.5.0",
      "model_name": "DescriptionStyleModel",
      "state": {
       "_model_module": "@jupyter-widgets/controls",
       "_model_module_version": "1.5.0",
       "_model_name": "DescriptionStyleModel",
       "_view_count": null,
       "_view_module": "@jupyter-widgets/base",
       "_view_module_version": "1.2.0",
       "_view_name": "StyleView",
       "description_width": ""
      }
     },
     "484dcd917d964bc39f43500f96999d9f": {
      "model_module": "@jupyter-widgets/controls",
      "model_module_version": "1.5.0",
      "model_name": "HBoxModel",
      "state": {
       "_dom_classes": [],
       "_model_module": "@jupyter-widgets/controls",
       "_model_module_version": "1.5.0",
       "_model_name": "HBoxModel",
       "_view_count": null,
       "_view_module": "@jupyter-widgets/controls",
       "_view_module_version": "1.5.0",
       "_view_name": "HBoxView",
       "box_style": "",
       "children": [
        "IPY_MODEL_6f5cb246e3b24a40b0a17fd1835d5b75",
        "IPY_MODEL_a65300558b524865a66262d7d93d9f92",
        "IPY_MODEL_0492927f49394c40b1fb4427245d7299"
       ],
       "layout": "IPY_MODEL_412d43b61de1491ab9958dba7aedcc37"
      }
     },
     "4c4bd5c4405948efa101205000fac044": {
      "model_module": "@jupyter-widgets/controls",
      "model_module_version": "1.5.0",
      "model_name": "FloatProgressModel",
      "state": {
       "_dom_classes": [],
       "_model_module": "@jupyter-widgets/controls",
       "_model_module_version": "1.5.0",
       "_model_name": "FloatProgressModel",
       "_view_count": null,
       "_view_module": "@jupyter-widgets/controls",
       "_view_module_version": "1.5.0",
       "_view_name": "ProgressView",
       "bar_style": "success",
       "description": "",
       "description_tooltip": null,
       "layout": "IPY_MODEL_aacd7b35f2114804be6fa99909020506",
       "max": 953.0,
       "min": 0.0,
       "orientation": "horizontal",
       "style": "IPY_MODEL_5e2fe2c3d8e14664aa543f0aa0e26fa6",
       "value": 953.0
      }
     },
     "4cf8650ac2084325ab527d1588be5e12": {
      "model_module": "@jupyter-widgets/controls",
      "model_module_version": "1.5.0",
      "model_name": "HTMLModel",
      "state": {
       "_dom_classes": [],
       "_model_module": "@jupyter-widgets/controls",
       "_model_module_version": "1.5.0",
       "_model_name": "HTMLModel",
       "_view_count": null,
       "_view_module": "@jupyter-widgets/controls",
       "_view_module_version": "1.5.0",
       "_view_name": "HTMLView",
       "description": "",
       "description_tooltip": null,
       "layout": "IPY_MODEL_db2494144a4e434aab59307f20185139",
       "placeholder": "​",
       "style": "IPY_MODEL_f2c0845e32fa4f01890c9c12bda4baff",
       "value": " 85.7k/85.7k [00:00&lt;00:00, 296kB/s]"
      }
     },
     "4e0137d2d37a46529a0cbcf0e265e115": {
      "model_module": "@jupyter-widgets/controls",
      "model_module_version": "1.5.0",
      "model_name": "HTMLModel",
      "state": {
       "_dom_classes": [],
       "_model_module": "@jupyter-widgets/controls",
       "_model_module_version": "1.5.0",
       "_model_name": "HTMLModel",
       "_view_count": null,
       "_view_module": "@jupyter-widgets/controls",
       "_view_module_version": "1.5.0",
       "_view_name": "HTMLView",
       "description": "",
       "description_tooltip": null,
       "layout": "IPY_MODEL_77adebaf0a4f43699c16540f08058daa",
       "placeholder": "​",
       "style": "IPY_MODEL_aee559d69f9a4880b33daf6135d2c0c2",
       "value": " 3/3 [00:00&lt;00:00, 151.89it/s]"
      }
     },
     "584bc4b0cd4a4d608e6072fb8038785b": {
      "model_module": "@jupyter-widgets/controls",
      "model_module_version": "1.5.0",
      "model_name": "FloatProgressModel",
      "state": {
       "_dom_classes": [],
       "_model_module": "@jupyter-widgets/controls",
       "_model_module_version": "1.5.0",
       "_model_name": "FloatProgressModel",
       "_view_count": null,
       "_view_module": "@jupyter-widgets/controls",
       "_view_module_version": "1.5.0",
       "_view_name": "ProgressView",
       "bar_style": "success",
       "description": "",
       "description_tooltip": null,
       "layout": "IPY_MODEL_787c5f8717304c2eae3219b8a0039911",
       "max": 3.0,
       "min": 0.0,
       "orientation": "horizontal",
       "style": "IPY_MODEL_b3155a6fc894475a8c8711b25851b875",
       "value": 3.0
      }
     },
     "589606da099d4ace9a947e254da14368": {
      "model_module": "@jupyter-widgets/base",
      "model_module_version": "1.2.0",
      "model_name": "LayoutModel",
      "state": {
       "_model_module": "@jupyter-widgets/base",
       "_model_module_version": "1.2.0",
       "_model_name": "LayoutModel",
       "_view_count": null,
       "_view_module": "@jupyter-widgets/base",
       "_view_module_version": "1.2.0",
       "_view_name": "LayoutView",
       "align_content": null,
       "align_items": null,
       "align_self": null,
       "border": null,
       "bottom": null,
       "display": null,
       "flex": null,
       "flex_flow": null,
       "grid_area": null,
       "grid_auto_columns": null,
       "grid_auto_flow": null,
       "grid_auto_rows": null,
       "grid_column": null,
       "grid_gap": null,
       "grid_row": null,
       "grid_template_areas": null,
       "grid_template_columns": null,
       "grid_template_rows": null,
       "height": null,
       "justify_content": null,
       "justify_items": null,
       "left": null,
       "margin": null,
       "max_height": null,
       "max_width": null,
       "min_height": null,
       "min_width": null,
       "object_fit": null,
       "object_position": null,
       "order": null,
       "overflow": null,
       "overflow_x": null,
       "overflow_y": null,
       "padding": null,
       "right": null,
       "top": null,
       "visibility": null,
       "width": null
      }
     },
     "5e2fe2c3d8e14664aa543f0aa0e26fa6": {
      "model_module": "@jupyter-widgets/controls",
      "model_module_version": "1.5.0",
      "model_name": "ProgressStyleModel",
      "state": {
       "_model_module": "@jupyter-widgets/controls",
       "_model_module_version": "1.5.0",
       "_model_name": "ProgressStyleModel",
       "_view_count": null,
       "_view_module": "@jupyter-widgets/base",
       "_view_module_version": "1.2.0",
       "_view_name": "StyleView",
       "bar_color": null,
       "description_width": ""
      }
     },
     "5e9a143f353446b085e0b61b04605e91": {
      "model_module": "@jupyter-widgets/controls",
      "model_module_version": "1.5.0",
      "model_name": "DescriptionStyleModel",
      "state": {
       "_model_module": "@jupyter-widgets/controls",
       "_model_module_version": "1.5.0",
       "_model_name": "DescriptionStyleModel",
       "_view_count": null,
       "_view_module": "@jupyter-widgets/base",
       "_view_module_version": "1.2.0",
       "_view_name": "StyleView",
       "description_width": ""
      }
     },
     "5fb57874d0ae49e9a94bb5470899f461": {
      "model_module": "@jupyter-widgets/controls",
      "model_module_version": "1.5.0",
      "model_name": "HBoxModel",
      "state": {
       "_dom_classes": [],
       "_model_module": "@jupyter-widgets/controls",
       "_model_module_version": "1.5.0",
       "_model_name": "HBoxModel",
       "_view_count": null,
       "_view_module": "@jupyter-widgets/controls",
       "_view_module_version": "1.5.0",
       "_view_name": "HBoxView",
       "box_style": "",
       "children": [
        "IPY_MODEL_a3c67517cb6e4345979c65261fbecf06",
        "IPY_MODEL_bb8c822c5caf495dabb9d555252d42e0",
        "IPY_MODEL_4e0137d2d37a46529a0cbcf0e265e115"
       ],
       "layout": "IPY_MODEL_73fd58963b4945c48fe4ef5ea1f1ce20"
      }
     },
     "602849be53bf4c37875e0f9dadf8df7c": {
      "model_module": "@jupyter-widgets/controls",
      "model_module_version": "1.5.0",
      "model_name": "DescriptionStyleModel",
      "state": {
       "_model_module": "@jupyter-widgets/controls",
       "_model_module_version": "1.5.0",
       "_model_name": "DescriptionStyleModel",
       "_view_count": null,
       "_view_module": "@jupyter-widgets/base",
       "_view_module_version": "1.2.0",
       "_view_name": "StyleView",
       "description_width": ""
      }
     },
     "611c21e01cbb4ad7a17a8095c472c807": {
      "model_module": "@jupyter-widgets/controls",
      "model_module_version": "1.5.0",
      "model_name": "DescriptionStyleModel",
      "state": {
       "_model_module": "@jupyter-widgets/controls",
       "_model_module_version": "1.5.0",
       "_model_name": "DescriptionStyleModel",
       "_view_count": null,
       "_view_module": "@jupyter-widgets/base",
       "_view_module_version": "1.2.0",
       "_view_name": "StyleView",
       "description_width": ""
      }
     },
     "6ef66f4bc9e2425689d4a570f8239fd7": {
      "model_module": "@jupyter-widgets/base",
      "model_module_version": "1.2.0",
      "model_name": "LayoutModel",
      "state": {
       "_model_module": "@jupyter-widgets/base",
       "_model_module_version": "1.2.0",
       "_model_name": "LayoutModel",
       "_view_count": null,
       "_view_module": "@jupyter-widgets/base",
       "_view_module_version": "1.2.0",
       "_view_name": "LayoutView",
       "align_content": null,
       "align_items": null,
       "align_self": null,
       "border": null,
       "bottom": null,
       "display": null,
       "flex": null,
       "flex_flow": null,
       "grid_area": null,
       "grid_auto_columns": null,
       "grid_auto_flow": null,
       "grid_auto_rows": null,
       "grid_column": null,
       "grid_gap": null,
       "grid_row": null,
       "grid_template_areas": null,
       "grid_template_columns": null,
       "grid_template_rows": null,
       "height": null,
       "justify_content": null,
       "justify_items": null,
       "left": null,
       "margin": null,
       "max_height": null,
       "max_width": null,
       "min_height": null,
       "min_width": null,
       "object_fit": null,
       "object_position": null,
       "order": null,
       "overflow": null,
       "overflow_x": null,
       "overflow_y": null,
       "padding": null,
       "right": null,
       "top": null,
       "visibility": null,
       "width": null
      }
     },
     "6f5cb246e3b24a40b0a17fd1835d5b75": {
      "model_module": "@jupyter-widgets/controls",
      "model_module_version": "1.5.0",
      "model_name": "HTMLModel",
      "state": {
       "_dom_classes": [],
       "_model_module": "@jupyter-widgets/controls",
       "_model_module_version": "1.5.0",
       "_model_name": "HTMLModel",
       "_view_count": null,
       "_view_module": "@jupyter-widgets/controls",
       "_view_module_version": "1.5.0",
       "_view_name": "HTMLView",
       "description": "",
       "description_tooltip": null,
       "layout": "IPY_MODEL_0940edfa6fbe40fa9e1b1afd4327c2d2",
       "placeholder": "​",
       "style": "IPY_MODEL_d57192ffbb8047729fb92f87fc6178dd",
       "value": "100%"
      }
     },
     "73fd58963b4945c48fe4ef5ea1f1ce20": {
      "model_module": "@jupyter-widgets/base",
      "model_module_version": "1.2.0",
      "model_name": "LayoutModel",
      "state": {
       "_model_module": "@jupyter-widgets/base",
       "_model_module_version": "1.2.0",
       "_model_name": "LayoutModel",
       "_view_count": null,
       "_view_module": "@jupyter-widgets/base",
       "_view_module_version": "1.2.0",
       "_view_name": "LayoutView",
       "align_content": null,
       "align_items": null,
       "align_self": null,
       "border": null,
       "bottom": null,
       "display": null,
       "flex": null,
       "flex_flow": null,
       "grid_area": null,
       "grid_auto_columns": null,
       "grid_auto_flow": null,
       "grid_auto_rows": null,
       "grid_column": null,
       "grid_gap": null,
       "grid_row": null,
       "grid_template_areas": null,
       "grid_template_columns": null,
       "grid_template_rows": null,
       "height": null,
       "justify_content": null,
       "justify_items": null,
       "left": null,
       "margin": null,
       "max_height": null,
       "max_width": null,
       "min_height": null,
       "min_width": null,
       "object_fit": null,
       "object_position": null,
       "order": null,
       "overflow": null,
       "overflow_x": null,
       "overflow_y": null,
       "padding": null,
       "right": null,
       "top": null,
       "visibility": null,
       "width": null
      }
     },
     "77adebaf0a4f43699c16540f08058daa": {
      "model_module": "@jupyter-widgets/base",
      "model_module_version": "1.2.0",
      "model_name": "LayoutModel",
      "state": {
       "_model_module": "@jupyter-widgets/base",
       "_model_module_version": "1.2.0",
       "_model_name": "LayoutModel",
       "_view_count": null,
       "_view_module": "@jupyter-widgets/base",
       "_view_module_version": "1.2.0",
       "_view_name": "LayoutView",
       "align_content": null,
       "align_items": null,
       "align_self": null,
       "border": null,
       "bottom": null,
       "display": null,
       "flex": null,
       "flex_flow": null,
       "grid_area": null,
       "grid_auto_columns": null,
       "grid_auto_flow": null,
       "grid_auto_rows": null,
       "grid_column": null,
       "grid_gap": null,
       "grid_row": null,
       "grid_template_areas": null,
       "grid_template_columns": null,
       "grid_template_rows": null,
       "height": null,
       "justify_content": null,
       "justify_items": null,
       "left": null,
       "margin": null,
       "max_height": null,
       "max_width": null,
       "min_height": null,
       "min_width": null,
       "object_fit": null,
       "object_position": null,
       "order": null,
       "overflow": null,
       "overflow_x": null,
       "overflow_y": null,
       "padding": null,
       "right": null,
       "top": null,
       "visibility": null,
       "width": null
      }
     },
     "787c5f8717304c2eae3219b8a0039911": {
      "model_module": "@jupyter-widgets/base",
      "model_module_version": "1.2.0",
      "model_name": "LayoutModel",
      "state": {
       "_model_module": "@jupyter-widgets/base",
       "_model_module_version": "1.2.0",
       "_model_name": "LayoutModel",
       "_view_count": null,
       "_view_module": "@jupyter-widgets/base",
       "_view_module_version": "1.2.0",
       "_view_name": "LayoutView",
       "align_content": null,
       "align_items": null,
       "align_self": null,
       "border": null,
       "bottom": null,
       "display": null,
       "flex": null,
       "flex_flow": null,
       "grid_area": null,
       "grid_auto_columns": null,
       "grid_auto_flow": null,
       "grid_auto_rows": null,
       "grid_column": null,
       "grid_gap": null,
       "grid_row": null,
       "grid_template_areas": null,
       "grid_template_columns": null,
       "grid_template_rows": null,
       "height": null,
       "justify_content": null,
       "justify_items": null,
       "left": null,
       "margin": null,
       "max_height": null,
       "max_width": null,
       "min_height": null,
       "min_width": null,
       "object_fit": null,
       "object_position": null,
       "order": null,
       "overflow": null,
       "overflow_x": null,
       "overflow_y": null,
       "padding": null,
       "right": null,
       "top": null,
       "visibility": null,
       "width": null
      }
     },
     "7912ceae1c4f45feb048a0e3379066a7": {
      "model_module": "@jupyter-widgets/base",
      "model_module_version": "1.2.0",
      "model_name": "LayoutModel",
      "state": {
       "_model_module": "@jupyter-widgets/base",
       "_model_module_version": "1.2.0",
       "_model_name": "LayoutModel",
       "_view_count": null,
       "_view_module": "@jupyter-widgets/base",
       "_view_module_version": "1.2.0",
       "_view_name": "LayoutView",
       "align_content": null,
       "align_items": null,
       "align_self": null,
       "border": null,
       "bottom": null,
       "display": null,
       "flex": null,
       "flex_flow": null,
       "grid_area": null,
       "grid_auto_columns": null,
       "grid_auto_flow": null,
       "grid_auto_rows": null,
       "grid_column": null,
       "grid_gap": null,
       "grid_row": null,
       "grid_template_areas": null,
       "grid_template_columns": null,
       "grid_template_rows": null,
       "height": null,
       "justify_content": null,
       "justify_items": null,
       "left": null,
       "margin": null,
       "max_height": null,
       "max_width": null,
       "min_height": null,
       "min_width": null,
       "object_fit": null,
       "object_position": null,
       "order": null,
       "overflow": null,
       "overflow_x": null,
       "overflow_y": null,
       "padding": null,
       "right": null,
       "top": null,
       "visibility": null,
       "width": null
      }
     },
     "79e38808692f47ed8d13a676b67486a7": {
      "model_module": "@jupyter-widgets/controls",
      "model_module_version": "1.5.0",
      "model_name": "ProgressStyleModel",
      "state": {
       "_model_module": "@jupyter-widgets/controls",
       "_model_module_version": "1.5.0",
       "_model_name": "ProgressStyleModel",
       "_view_count": null,
       "_view_module": "@jupyter-widgets/base",
       "_view_module_version": "1.2.0",
       "_view_name": "StyleView",
       "bar_color": null,
       "description_width": ""
      }
     },
     "7c3762d8696a49a1bfecb007b66310a4": {
      "model_module": "@jupyter-widgets/controls",
      "model_module_version": "1.5.0",
      "model_name": "FloatProgressModel",
      "state": {
       "_dom_classes": [],
       "_model_module": "@jupyter-widgets/controls",
       "_model_module_version": "1.5.0",
       "_model_name": "FloatProgressModel",
       "_view_count": null,
       "_view_module": "@jupyter-widgets/controls",
       "_view_module_version": "1.5.0",
       "_view_name": "ProgressView",
       "bar_style": "success",
       "description": "",
       "description_tooltip": null,
       "layout": "IPY_MODEL_cb8ca0134b994312a36da1e802bc053b",
       "max": 189602204.0,
       "min": 0.0,
       "orientation": "horizontal",
       "style": "IPY_MODEL_79e38808692f47ed8d13a676b67486a7",
       "value": 189602204.0
      }
     },
     "80e3a518fe6342c0bc04e834cec03efe": {
      "model_module": "@jupyter-widgets/controls",
      "model_module_version": "1.5.0",
      "model_name": "HTMLModel",
      "state": {
       "_dom_classes": [],
       "_model_module": "@jupyter-widgets/controls",
       "_model_module_version": "1.5.0",
       "_model_name": "HTMLModel",
       "_view_count": null,
       "_view_module": "@jupyter-widgets/controls",
       "_view_module_version": "1.5.0",
       "_view_name": "HTMLView",
       "description": "",
       "description_tooltip": null,
       "layout": "IPY_MODEL_f58421842fa24341ba5b44fb5d09216a",
       "placeholder": "​",
       "style": "IPY_MODEL_3bc50e6949f44de3bc2c727a2d37e0a4",
       "value": "Downloading data: 100%"
      }
     },
     "837f6c8ff2824c6e82144e32bc1d8aa2": {
      "model_module": "@jupyter-widgets/controls",
      "model_module_version": "1.5.0",
      "model_name": "ProgressStyleModel",
      "state": {
       "_model_module": "@jupyter-widgets/controls",
       "_model_module_version": "1.5.0",
       "_model_name": "ProgressStyleModel",
       "_view_count": null,
       "_view_module": "@jupyter-widgets/base",
       "_view_module_version": "1.2.0",
       "_view_name": "StyleView",
       "bar_color": null,
       "description_width": ""
      }
     },
     "866c840b4a93468ba2332bb7cb90bf5d": {
      "model_module": "@jupyter-widgets/base",
      "model_module_version": "1.2.0",
      "model_name": "LayoutModel",
      "state": {
       "_model_module": "@jupyter-widgets/base",
       "_model_module_version": "1.2.0",
       "_model_name": "LayoutModel",
       "_view_count": null,
       "_view_module": "@jupyter-widgets/base",
       "_view_module_version": "1.2.0",
       "_view_name": "LayoutView",
       "align_content": null,
       "align_items": null,
       "align_self": null,
       "border": null,
       "bottom": null,
       "display": null,
       "flex": null,
       "flex_flow": null,
       "grid_area": null,
       "grid_auto_columns": null,
       "grid_auto_flow": null,
       "grid_auto_rows": null,
       "grid_column": null,
       "grid_gap": null,
       "grid_row": null,
       "grid_template_areas": null,
       "grid_template_columns": null,
       "grid_template_rows": null,
       "height": null,
       "justify_content": null,
       "justify_items": null,
       "left": null,
       "margin": null,
       "max_height": null,
       "max_width": null,
       "min_height": null,
       "min_width": null,
       "object_fit": null,
       "object_position": null,
       "order": null,
       "overflow": null,
       "overflow_x": null,
       "overflow_y": null,
       "padding": null,
       "right": null,
       "top": null,
       "visibility": null,
       "width": null
      }
     },
     "86aaf093cadc4af1b07035178b9fbacc": {
      "model_module": "@jupyter-widgets/controls",
      "model_module_version": "1.5.0",
      "model_name": "HBoxModel",
      "state": {
       "_dom_classes": [],
       "_model_module": "@jupyter-widgets/controls",
       "_model_module_version": "1.5.0",
       "_model_name": "HBoxModel",
       "_view_count": null,
       "_view_module": "@jupyter-widgets/controls",
       "_view_module_version": "1.5.0",
       "_view_name": "HBoxView",
       "box_style": "",
       "children": [
        "IPY_MODEL_a3e1d9a0a9bf46b7b2da6ae4d520f8f1",
        "IPY_MODEL_4c4bd5c4405948efa101205000fac044",
        "IPY_MODEL_e3cdb9e08ea84bad80d7492e7af7e340"
       ],
       "layout": "IPY_MODEL_3a2418260baa42848a9cb7aa5a8302d2"
      }
     },
     "93770a8a98a1479ab022cadd014c767a": {
      "model_module": "@jupyter-widgets/controls",
      "model_module_version": "1.5.0",
      "model_name": "ProgressStyleModel",
      "state": {
       "_model_module": "@jupyter-widgets/controls",
       "_model_module_version": "1.5.0",
       "_model_name": "ProgressStyleModel",
       "_view_count": null,
       "_view_module": "@jupyter-widgets/base",
       "_view_module_version": "1.2.0",
       "_view_name": "StyleView",
       "bar_color": null,
       "description_width": ""
      }
     },
     "9a80f7a2f3ee472782a647556d515d50": {
      "model_module": "@jupyter-widgets/base",
      "model_module_version": "1.2.0",
      "model_name": "LayoutModel",
      "state": {
       "_model_module": "@jupyter-widgets/base",
       "_model_module_version": "1.2.0",
       "_model_name": "LayoutModel",
       "_view_count": null,
       "_view_module": "@jupyter-widgets/base",
       "_view_module_version": "1.2.0",
       "_view_name": "LayoutView",
       "align_content": null,
       "align_items": null,
       "align_self": null,
       "border": null,
       "bottom": null,
       "display": null,
       "flex": null,
       "flex_flow": null,
       "grid_area": null,
       "grid_auto_columns": null,
       "grid_auto_flow": null,
       "grid_auto_rows": null,
       "grid_column": null,
       "grid_gap": null,
       "grid_row": null,
       "grid_template_areas": null,
       "grid_template_columns": null,
       "grid_template_rows": null,
       "height": null,
       "justify_content": null,
       "justify_items": null,
       "left": null,
       "margin": null,
       "max_height": null,
       "max_width": null,
       "min_height": null,
       "min_width": null,
       "object_fit": null,
       "object_position": null,
       "order": null,
       "overflow": null,
       "overflow_x": null,
       "overflow_y": null,
       "padding": null,
       "right": null,
       "top": null,
       "visibility": null,
       "width": null
      }
     },
     "9d5206666c6443d9b373efffd04bc19d": {
      "model_module": "@jupyter-widgets/controls",
      "model_module_version": "1.5.0",
      "model_name": "DescriptionStyleModel",
      "state": {
       "_model_module": "@jupyter-widgets/controls",
       "_model_module_version": "1.5.0",
       "_model_name": "DescriptionStyleModel",
       "_view_count": null,
       "_view_module": "@jupyter-widgets/base",
       "_view_module_version": "1.2.0",
       "_view_name": "StyleView",
       "description_width": ""
      }
     },
     "9e91dd1d0c5d4d169995f49834a4bff2": {
      "model_module": "@jupyter-widgets/base",
      "model_module_version": "1.2.0",
      "model_name": "LayoutModel",
      "state": {
       "_model_module": "@jupyter-widgets/base",
       "_model_module_version": "1.2.0",
       "_model_name": "LayoutModel",
       "_view_count": null,
       "_view_module": "@jupyter-widgets/base",
       "_view_module_version": "1.2.0",
       "_view_name": "LayoutView",
       "align_content": null,
       "align_items": null,
       "align_self": null,
       "border": null,
       "bottom": null,
       "display": null,
       "flex": null,
       "flex_flow": null,
       "grid_area": null,
       "grid_auto_columns": null,
       "grid_auto_flow": null,
       "grid_auto_rows": null,
       "grid_column": null,
       "grid_gap": null,
       "grid_row": null,
       "grid_template_areas": null,
       "grid_template_columns": null,
       "grid_template_rows": null,
       "height": null,
       "justify_content": null,
       "justify_items": null,
       "left": null,
       "margin": null,
       "max_height": null,
       "max_width": null,
       "min_height": null,
       "min_width": null,
       "object_fit": null,
       "object_position": null,
       "order": null,
       "overflow": null,
       "overflow_x": null,
       "overflow_y": null,
       "padding": null,
       "right": null,
       "top": null,
       "visibility": null,
       "width": null
      }
     },
     "a0e8aecaac044c8d978112c02cabedb4": {
      "model_module": "@jupyter-widgets/controls",
      "model_module_version": "1.5.0",
      "model_name": "HTMLModel",
      "state": {
       "_dom_classes": [],
       "_model_module": "@jupyter-widgets/controls",
       "_model_module_version": "1.5.0",
       "_model_name": "HTMLModel",
       "_view_count": null,
       "_view_module": "@jupyter-widgets/controls",
       "_view_module_version": "1.5.0",
       "_view_name": "HTMLView",
       "description": "",
       "description_tooltip": null,
       "layout": "IPY_MODEL_c4dea9af868a497e83995e23b2f07c31",
       "placeholder": "​",
       "style": "IPY_MODEL_611c21e01cbb4ad7a17a8095c472c807",
       "value": "Downloading data: 100%"
      }
     },
     "a3c67517cb6e4345979c65261fbecf06": {
      "model_module": "@jupyter-widgets/controls",
      "model_module_version": "1.5.0",
      "model_name": "HTMLModel",
      "state": {
       "_dom_classes": [],
       "_model_module": "@jupyter-widgets/controls",
       "_model_module_version": "1.5.0",
       "_model_name": "HTMLModel",
       "_view_count": null,
       "_view_module": "@jupyter-widgets/controls",
       "_view_module_version": "1.5.0",
       "_view_name": "HTMLView",
       "description": "",
       "description_tooltip": null,
       "layout": "IPY_MODEL_6ef66f4bc9e2425689d4a570f8239fd7",
       "placeholder": "​",
       "style": "IPY_MODEL_602849be53bf4c37875e0f9dadf8df7c",
       "value": "Extracting data files: 100%"
      }
     },
     "a3e1d9a0a9bf46b7b2da6ae4d520f8f1": {
      "model_module": "@jupyter-widgets/controls",
      "model_module_version": "1.5.0",
      "model_name": "HTMLModel",
      "state": {
       "_dom_classes": [],
       "_model_module": "@jupyter-widgets/controls",
       "_model_module_version": "1.5.0",
       "_model_name": "HTMLModel",
       "_view_count": null,
       "_view_module": "@jupyter-widgets/controls",
       "_view_module_version": "1.5.0",
       "_view_name": "HTMLView",
       "description": "",
       "description_tooltip": null,
       "layout": "IPY_MODEL_3eabc20baf5544ffa4fd96fdb98ddda7",
       "placeholder": "​",
       "style": "IPY_MODEL_c1fb8680571e47b8837ae6d79619a5d1",
       "value": "Downloading: 100%"
      }
     },
     "a6363b5d6abe4180ad99e2923719b9c0": {
      "model_module": "@jupyter-widgets/controls",
      "model_module_version": "1.5.0",
      "model_name": "FloatProgressModel",
      "state": {
       "_dom_classes": [],
       "_model_module": "@jupyter-widgets/controls",
       "_model_module_version": "1.5.0",
       "_model_name": "FloatProgressModel",
       "_view_count": null,
       "_view_module": "@jupyter-widgets/controls",
       "_view_module_version": "1.5.0",
       "_view_name": "ProgressView",
       "bar_style": "success",
       "description": "",
       "description_tooltip": null,
       "layout": "IPY_MODEL_9e91dd1d0c5d4d169995f49834a4bff2",
       "max": 85707.0,
       "min": 0.0,
       "orientation": "horizontal",
       "style": "IPY_MODEL_93770a8a98a1479ab022cadd014c767a",
       "value": 85707.0
      }
     },
     "a65300558b524865a66262d7d93d9f92": {
      "model_module": "@jupyter-widgets/controls",
      "model_module_version": "1.5.0",
      "model_name": "FloatProgressModel",
      "state": {
       "_dom_classes": [],
       "_model_module": "@jupyter-widgets/controls",
       "_model_module_version": "1.5.0",
       "_model_name": "FloatProgressModel",
       "_view_count": null,
       "_view_module": "@jupyter-widgets/controls",
       "_view_module_version": "1.5.0",
       "_view_name": "ProgressView",
       "bar_style": "success",
       "description": "",
       "description_tooltip": null,
       "layout": "IPY_MODEL_406d37ce038244bc9e7a21e26b34e489",
       "max": 3.0,
       "min": 0.0,
       "orientation": "horizontal",
       "style": "IPY_MODEL_837f6c8ff2824c6e82144e32bc1d8aa2",
       "value": 3.0
      }
     },
     "a891c49649044c23bc841d075a3913c3": {
      "model_module": "@jupyter-widgets/base",
      "model_module_version": "1.2.0",
      "model_name": "LayoutModel",
      "state": {
       "_model_module": "@jupyter-widgets/base",
       "_model_module_version": "1.2.0",
       "_model_name": "LayoutModel",
       "_view_count": null,
       "_view_module": "@jupyter-widgets/base",
       "_view_module_version": "1.2.0",
       "_view_name": "LayoutView",
       "align_content": null,
       "align_items": null,
       "align_self": null,
       "border": null,
       "bottom": null,
       "display": null,
       "flex": null,
       "flex_flow": null,
       "grid_area": null,
       "grid_auto_columns": null,
       "grid_auto_flow": null,
       "grid_auto_rows": null,
       "grid_column": null,
       "grid_gap": null,
       "grid_row": null,
       "grid_template_areas": null,
       "grid_template_columns": null,
       "grid_template_rows": null,
       "height": null,
       "justify_content": null,
       "justify_items": null,
       "left": null,
       "margin": null,
       "max_height": null,
       "max_width": null,
       "min_height": null,
       "min_width": null,
       "object_fit": null,
       "object_position": null,
       "order": null,
       "overflow": null,
       "overflow_x": null,
       "overflow_y": null,
       "padding": null,
       "right": null,
       "top": null,
       "visibility": null,
       "width": null
      }
     },
     "aacd7b35f2114804be6fa99909020506": {
      "model_module": "@jupyter-widgets/base",
      "model_module_version": "1.2.0",
      "model_name": "LayoutModel",
      "state": {
       "_model_module": "@jupyter-widgets/base",
       "_model_module_version": "1.2.0",
       "_model_name": "LayoutModel",
       "_view_count": null,
       "_view_module": "@jupyter-widgets/base",
       "_view_module_version": "1.2.0",
       "_view_name": "LayoutView",
       "align_content": null,
       "align_items": null,
       "align_self": null,
       "border": null,
       "bottom": null,
       "display": null,
       "flex": null,
       "flex_flow": null,
       "grid_area": null,
       "grid_auto_columns": null,
       "grid_auto_flow": null,
       "grid_auto_rows": null,
       "grid_column": null,
       "grid_gap": null,
       "grid_row": null,
       "grid_template_areas": null,
       "grid_template_columns": null,
       "grid_template_rows": null,
       "height": null,
       "justify_content": null,
       "justify_items": null,
       "left": null,
       "margin": null,
       "max_height": null,
       "max_width": null,
       "min_height": null,
       "min_width": null,
       "object_fit": null,
       "object_position": null,
       "order": null,
       "overflow": null,
       "overflow_x": null,
       "overflow_y": null,
       "padding": null,
       "right": null,
       "top": null,
       "visibility": null,
       "width": null
      }
     },
     "aec9d334d457437c8ac65602cd4f1643": {
      "model_module": "@jupyter-widgets/controls",
      "model_module_version": "1.5.0",
      "model_name": "ProgressStyleModel",
      "state": {
       "_model_module": "@jupyter-widgets/controls",
       "_model_module_version": "1.5.0",
       "_model_name": "ProgressStyleModel",
       "_view_count": null,
       "_view_module": "@jupyter-widgets/base",
       "_view_module_version": "1.2.0",
       "_view_name": "StyleView",
       "bar_color": null,
       "description_width": ""
      }
     },
     "aee559d69f9a4880b33daf6135d2c0c2": {
      "model_module": "@jupyter-widgets/controls",
      "model_module_version": "1.5.0",
      "model_name": "DescriptionStyleModel",
      "state": {
       "_model_module": "@jupyter-widgets/controls",
       "_model_module_version": "1.5.0",
       "_model_name": "DescriptionStyleModel",
       "_view_count": null,
       "_view_module": "@jupyter-widgets/base",
       "_view_module_version": "1.2.0",
       "_view_name": "StyleView",
       "description_width": ""
      }
     },
     "b3155a6fc894475a8c8711b25851b875": {
      "model_module": "@jupyter-widgets/controls",
      "model_module_version": "1.5.0",
      "model_name": "ProgressStyleModel",
      "state": {
       "_model_module": "@jupyter-widgets/controls",
       "_model_module_version": "1.5.0",
       "_model_name": "ProgressStyleModel",
       "_view_count": null,
       "_view_module": "@jupyter-widgets/base",
       "_view_module_version": "1.2.0",
       "_view_name": "StyleView",
       "bar_color": null,
       "description_width": ""
      }
     },
     "b3c1ec271374450c9df893105d175291": {
      "model_module": "@jupyter-widgets/controls",
      "model_module_version": "1.5.0",
      "model_name": "DescriptionStyleModel",
      "state": {
       "_model_module": "@jupyter-widgets/controls",
       "_model_module_version": "1.5.0",
       "_model_name": "DescriptionStyleModel",
       "_view_count": null,
       "_view_module": "@jupyter-widgets/base",
       "_view_module_version": "1.2.0",
       "_view_name": "StyleView",
       "description_width": ""
      }
     },
     "bb8c822c5caf495dabb9d555252d42e0": {
      "model_module": "@jupyter-widgets/controls",
      "model_module_version": "1.5.0",
      "model_name": "FloatProgressModel",
      "state": {
       "_dom_classes": [],
       "_model_module": "@jupyter-widgets/controls",
       "_model_module_version": "1.5.0",
       "_model_name": "FloatProgressModel",
       "_view_count": null,
       "_view_module": "@jupyter-widgets/controls",
       "_view_module_version": "1.5.0",
       "_view_name": "ProgressView",
       "bar_style": "success",
       "description": "",
       "description_tooltip": null,
       "layout": "IPY_MODEL_866c840b4a93468ba2332bb7cb90bf5d",
       "max": 3.0,
       "min": 0.0,
       "orientation": "horizontal",
       "style": "IPY_MODEL_aec9d334d457437c8ac65602cd4f1643",
       "value": 3.0
      }
     },
     "be7f99847ba7450388edca784664c1d5": {
      "model_module": "@jupyter-widgets/base",
      "model_module_version": "1.2.0",
      "model_name": "LayoutModel",
      "state": {
       "_model_module": "@jupyter-widgets/base",
       "_model_module_version": "1.2.0",
       "_model_name": "LayoutModel",
       "_view_count": null,
       "_view_module": "@jupyter-widgets/base",
       "_view_module_version": "1.2.0",
       "_view_name": "LayoutView",
       "align_content": null,
       "align_items": null,
       "align_self": null,
       "border": null,
       "bottom": null,
       "display": null,
       "flex": null,
       "flex_flow": null,
       "grid_area": null,
       "grid_auto_columns": null,
       "grid_auto_flow": null,
       "grid_auto_rows": null,
       "grid_column": null,
       "grid_gap": null,
       "grid_row": null,
       "grid_template_areas": null,
       "grid_template_columns": null,
       "grid_template_rows": null,
       "height": null,
       "justify_content": null,
       "justify_items": null,
       "left": null,
       "margin": null,
       "max_height": null,
       "max_width": null,
       "min_height": null,
       "min_width": null,
       "object_fit": null,
       "object_position": null,
       "order": null,
       "overflow": null,
       "overflow_x": null,
       "overflow_y": null,
       "padding": null,
       "right": null,
       "top": null,
       "visibility": null,
       "width": null
      }
     },
     "bf714800a0f9440db33703301f5a1b7c": {
      "model_module": "@jupyter-widgets/controls",
      "model_module_version": "1.5.0",
      "model_name": "HTMLModel",
      "state": {
       "_dom_classes": [],
       "_model_module": "@jupyter-widgets/controls",
       "_model_module_version": "1.5.0",
       "_model_name": "HTMLModel",
       "_view_count": null,
       "_view_module": "@jupyter-widgets/controls",
       "_view_module_version": "1.5.0",
       "_view_name": "HTMLView",
       "description": "",
       "description_tooltip": null,
       "layout": "IPY_MODEL_589606da099d4ace9a947e254da14368",
       "placeholder": "​",
       "style": "IPY_MODEL_45e4242cf3004bb6a7afba697694dd14",
       "value": " 190M/190M [00:06&lt;00:00, 33.6MB/s]"
      }
     },
     "c01412dcaaf74dd1b5b3607584137e1d": {
      "model_module": "@jupyter-widgets/controls",
      "model_module_version": "1.5.0",
      "model_name": "HTMLModel",
      "state": {
       "_dom_classes": [],
       "_model_module": "@jupyter-widgets/controls",
       "_model_module_version": "1.5.0",
       "_model_name": "HTMLModel",
       "_view_count": null,
       "_view_module": "@jupyter-widgets/controls",
       "_view_module_version": "1.5.0",
       "_view_name": "HTMLView",
       "description": "",
       "description_tooltip": null,
       "layout": "IPY_MODEL_9a80f7a2f3ee472782a647556d515d50",
       "placeholder": "​",
       "style": "IPY_MODEL_3efad55c8efb4f5bbd7b65474e5b63c2",
       "value": "Downloading data: 100%"
      }
     },
     "c1b7ee90787949d0b65b06825e8da9eb": {
      "model_module": "@jupyter-widgets/controls",
      "model_module_version": "1.5.0",
      "model_name": "HBoxModel",
      "state": {
       "_dom_classes": [],
       "_model_module": "@jupyter-widgets/controls",
       "_model_module_version": "1.5.0",
       "_model_name": "HBoxModel",
       "_view_count": null,
       "_view_module": "@jupyter-widgets/controls",
       "_view_module_version": "1.5.0",
       "_view_name": "HBoxView",
       "box_style": "",
       "children": [
        "IPY_MODEL_c01412dcaaf74dd1b5b3607584137e1d",
        "IPY_MODEL_7c3762d8696a49a1bfecb007b66310a4",
        "IPY_MODEL_bf714800a0f9440db33703301f5a1b7c"
       ],
       "layout": "IPY_MODEL_a891c49649044c23bc841d075a3913c3"
      }
     },
     "c1fb8680571e47b8837ae6d79619a5d1": {
      "model_module": "@jupyter-widgets/controls",
      "model_module_version": "1.5.0",
      "model_name": "DescriptionStyleModel",
      "state": {
       "_model_module": "@jupyter-widgets/controls",
       "_model_module_version": "1.5.0",
       "_model_name": "DescriptionStyleModel",
       "_view_count": null,
       "_view_module": "@jupyter-widgets/base",
       "_view_module_version": "1.2.0",
       "_view_name": "StyleView",
       "description_width": ""
      }
     },
     "c4dea9af868a497e83995e23b2f07c31": {
      "model_module": "@jupyter-widgets/base",
      "model_module_version": "1.2.0",
      "model_name": "LayoutModel",
      "state": {
       "_model_module": "@jupyter-widgets/base",
       "_model_module_version": "1.2.0",
       "_model_name": "LayoutModel",
       "_view_count": null,
       "_view_module": "@jupyter-widgets/base",
       "_view_module_version": "1.2.0",
       "_view_name": "LayoutView",
       "align_content": null,
       "align_items": null,
       "align_self": null,
       "border": null,
       "bottom": null,
       "display": null,
       "flex": null,
       "flex_flow": null,
       "grid_area": null,
       "grid_auto_columns": null,
       "grid_auto_flow": null,
       "grid_auto_rows": null,
       "grid_column": null,
       "grid_gap": null,
       "grid_row": null,
       "grid_template_areas": null,
       "grid_template_columns": null,
       "grid_template_rows": null,
       "height": null,
       "justify_content": null,
       "justify_items": null,
       "left": null,
       "margin": null,
       "max_height": null,
       "max_width": null,
       "min_height": null,
       "min_width": null,
       "object_fit": null,
       "object_position": null,
       "order": null,
       "overflow": null,
       "overflow_x": null,
       "overflow_y": null,
       "padding": null,
       "right": null,
       "top": null,
       "visibility": null,
       "width": null
      }
     },
     "cb8ca0134b994312a36da1e802bc053b": {
      "model_module": "@jupyter-widgets/base",
      "model_module_version": "1.2.0",
      "model_name": "LayoutModel",
      "state": {
       "_model_module": "@jupyter-widgets/base",
       "_model_module_version": "1.2.0",
       "_model_name": "LayoutModel",
       "_view_count": null,
       "_view_module": "@jupyter-widgets/base",
       "_view_module_version": "1.2.0",
       "_view_name": "LayoutView",
       "align_content": null,
       "align_items": null,
       "align_self": null,
       "border": null,
       "bottom": null,
       "display": null,
       "flex": null,
       "flex_flow": null,
       "grid_area": null,
       "grid_auto_columns": null,
       "grid_auto_flow": null,
       "grid_auto_rows": null,
       "grid_column": null,
       "grid_gap": null,
       "grid_row": null,
       "grid_template_areas": null,
       "grid_template_columns": null,
       "grid_template_rows": null,
       "height": null,
       "justify_content": null,
       "justify_items": null,
       "left": null,
       "margin": null,
       "max_height": null,
       "max_width": null,
       "min_height": null,
       "min_width": null,
       "object_fit": null,
       "object_position": null,
       "order": null,
       "overflow": null,
       "overflow_x": null,
       "overflow_y": null,
       "padding": null,
       "right": null,
       "top": null,
       "visibility": null,
       "width": null
      }
     },
     "ccd44583715849f5beeb939bc09761b4": {
      "model_module": "@jupyter-widgets/base",
      "model_module_version": "1.2.0",
      "model_name": "LayoutModel",
      "state": {
       "_model_module": "@jupyter-widgets/base",
       "_model_module_version": "1.2.0",
       "_model_name": "LayoutModel",
       "_view_count": null,
       "_view_module": "@jupyter-widgets/base",
       "_view_module_version": "1.2.0",
       "_view_name": "LayoutView",
       "align_content": null,
       "align_items": null,
       "align_self": null,
       "border": null,
       "bottom": null,
       "display": null,
       "flex": null,
       "flex_flow": null,
       "grid_area": null,
       "grid_auto_columns": null,
       "grid_auto_flow": null,
       "grid_auto_rows": null,
       "grid_column": null,
       "grid_gap": null,
       "grid_row": null,
       "grid_template_areas": null,
       "grid_template_columns": null,
       "grid_template_rows": null,
       "height": null,
       "justify_content": null,
       "justify_items": null,
       "left": null,
       "margin": null,
       "max_height": null,
       "max_width": null,
       "min_height": null,
       "min_width": null,
       "object_fit": null,
       "object_position": null,
       "order": null,
       "overflow": null,
       "overflow_x": null,
       "overflow_y": null,
       "padding": null,
       "right": null,
       "top": null,
       "visibility": null,
       "width": null
      }
     },
     "cdcab2864e7748dd9571c8cbb170717c": {
      "model_module": "@jupyter-widgets/controls",
      "model_module_version": "1.5.0",
      "model_name": "HTMLModel",
      "state": {
       "_dom_classes": [],
       "_model_module": "@jupyter-widgets/controls",
       "_model_module_version": "1.5.0",
       "_model_name": "HTMLModel",
       "_view_count": null,
       "_view_module": "@jupyter-widgets/controls",
       "_view_module_version": "1.5.0",
       "_view_name": "HTMLView",
       "description": "",
       "description_tooltip": null,
       "layout": "IPY_MODEL_17f946490c8e4bcb8c0123bbe583ddfc",
       "placeholder": "​",
       "style": "IPY_MODEL_fd28217c76b54815b77a2bef621401bc",
       "value": " 500k/500k [00:00&lt;00:00, 11.8MB/s]"
      }
     },
     "d57192ffbb8047729fb92f87fc6178dd": {
      "model_module": "@jupyter-widgets/controls",
      "model_module_version": "1.5.0",
      "model_name": "DescriptionStyleModel",
      "state": {
       "_model_module": "@jupyter-widgets/controls",
       "_model_module_version": "1.5.0",
       "_model_name": "DescriptionStyleModel",
       "_view_count": null,
       "_view_module": "@jupyter-widgets/base",
       "_view_module_version": "1.2.0",
       "_view_name": "StyleView",
       "description_width": ""
      }
     },
     "db2494144a4e434aab59307f20185139": {
      "model_module": "@jupyter-widgets/base",
      "model_module_version": "1.2.0",
      "model_name": "LayoutModel",
      "state": {
       "_model_module": "@jupyter-widgets/base",
       "_model_module_version": "1.2.0",
       "_model_name": "LayoutModel",
       "_view_count": null,
       "_view_module": "@jupyter-widgets/base",
       "_view_module_version": "1.2.0",
       "_view_name": "LayoutView",
       "align_content": null,
       "align_items": null,
       "align_self": null,
       "border": null,
       "bottom": null,
       "display": null,
       "flex": null,
       "flex_flow": null,
       "grid_area": null,
       "grid_auto_columns": null,
       "grid_auto_flow": null,
       "grid_auto_rows": null,
       "grid_column": null,
       "grid_gap": null,
       "grid_row": null,
       "grid_template_areas": null,
       "grid_template_columns": null,
       "grid_template_rows": null,
       "height": null,
       "justify_content": null,
       "justify_items": null,
       "left": null,
       "margin": null,
       "max_height": null,
       "max_width": null,
       "min_height": null,
       "min_width": null,
       "object_fit": null,
       "object_position": null,
       "order": null,
       "overflow": null,
       "overflow_x": null,
       "overflow_y": null,
       "padding": null,
       "right": null,
       "top": null,
       "visibility": null,
       "width": null
      }
     },
     "e2d158065c814b078dd4d7c461b4b909": {
      "model_module": "@jupyter-widgets/controls",
      "model_module_version": "1.5.0",
      "model_name": "DescriptionStyleModel",
      "state": {
       "_model_module": "@jupyter-widgets/controls",
       "_model_module_version": "1.5.0",
       "_model_name": "DescriptionStyleModel",
       "_view_count": null,
       "_view_module": "@jupyter-widgets/base",
       "_view_module_version": "1.2.0",
       "_view_name": "StyleView",
       "description_width": ""
      }
     },
     "e3cdb9e08ea84bad80d7492e7af7e340": {
      "model_module": "@jupyter-widgets/controls",
      "model_module_version": "1.5.0",
      "model_name": "HTMLModel",
      "state": {
       "_dom_classes": [],
       "_model_module": "@jupyter-widgets/controls",
       "_model_module_version": "1.5.0",
       "_model_name": "HTMLModel",
       "_view_count": null,
       "_view_module": "@jupyter-widgets/controls",
       "_view_module_version": "1.5.0",
       "_view_name": "HTMLView",
       "description": "",
       "description_tooltip": null,
       "layout": "IPY_MODEL_14d22bbf93d34166b7bc4ba91c1b8e68",
       "placeholder": "​",
       "style": "IPY_MODEL_9d5206666c6443d9b373efffd04bc19d",
       "value": " 953/953 [00:00&lt;00:00, 40.8kB/s]"
      }
     },
     "efbaf3a14c5346a99f021cfe04ad8323": {
      "model_module": "@jupyter-widgets/base",
      "model_module_version": "1.2.0",
      "model_name": "LayoutModel",
      "state": {
       "_model_module": "@jupyter-widgets/base",
       "_model_module_version": "1.2.0",
       "_model_name": "LayoutModel",
       "_view_count": null,
       "_view_module": "@jupyter-widgets/base",
       "_view_module_version": "1.2.0",
       "_view_name": "LayoutView",
       "align_content": null,
       "align_items": null,
       "align_self": null,
       "border": null,
       "bottom": null,
       "display": null,
       "flex": null,
       "flex_flow": null,
       "grid_area": null,
       "grid_auto_columns": null,
       "grid_auto_flow": null,
       "grid_auto_rows": null,
       "grid_column": null,
       "grid_gap": null,
       "grid_row": null,
       "grid_template_areas": null,
       "grid_template_columns": null,
       "grid_template_rows": null,
       "height": null,
       "justify_content": null,
       "justify_items": null,
       "left": null,
       "margin": null,
       "max_height": null,
       "max_width": null,
       "min_height": null,
       "min_width": null,
       "object_fit": null,
       "object_position": null,
       "order": null,
       "overflow": null,
       "overflow_x": null,
       "overflow_y": null,
       "padding": null,
       "right": null,
       "top": null,
       "visibility": null,
       "width": null
      }
     },
     "f0729171317843329d9e433891f00cb7": {
      "model_module": "@jupyter-widgets/controls",
      "model_module_version": "1.5.0",
      "model_name": "FloatProgressModel",
      "state": {
       "_dom_classes": [],
       "_model_module": "@jupyter-widgets/controls",
       "_model_module_version": "1.5.0",
       "_model_name": "FloatProgressModel",
       "_view_count": null,
       "_view_module": "@jupyter-widgets/controls",
       "_view_module_version": "1.5.0",
       "_view_name": "ProgressView",
       "bar_style": "success",
       "description": "",
       "description_tooltip": null,
       "layout": "IPY_MODEL_1b5f195617304b3785e10c8cfbdcd0e5",
       "max": 500080.0,
       "min": 0.0,
       "orientation": "horizontal",
       "style": "IPY_MODEL_2f93a0166f2b4835a195519d2043be50",
       "value": 500080.0
      }
     },
     "f2c0845e32fa4f01890c9c12bda4baff": {
      "model_module": "@jupyter-widgets/controls",
      "model_module_version": "1.5.0",
      "model_name": "DescriptionStyleModel",
      "state": {
       "_model_module": "@jupyter-widgets/controls",
       "_model_module_version": "1.5.0",
       "_model_name": "DescriptionStyleModel",
       "_view_count": null,
       "_view_module": "@jupyter-widgets/base",
       "_view_module_version": "1.2.0",
       "_view_name": "StyleView",
       "description_width": ""
      }
     },
     "f58421842fa24341ba5b44fb5d09216a": {
      "model_module": "@jupyter-widgets/base",
      "model_module_version": "1.2.0",
      "model_name": "LayoutModel",
      "state": {
       "_model_module": "@jupyter-widgets/base",
       "_model_module_version": "1.2.0",
       "_model_name": "LayoutModel",
       "_view_count": null,
       "_view_module": "@jupyter-widgets/base",
       "_view_module_version": "1.2.0",
       "_view_name": "LayoutView",
       "align_content": null,
       "align_items": null,
       "align_self": null,
       "border": null,
       "bottom": null,
       "display": null,
       "flex": null,
       "flex_flow": null,
       "grid_area": null,
       "grid_auto_columns": null,
       "grid_auto_flow": null,
       "grid_auto_rows": null,
       "grid_column": null,
       "grid_gap": null,
       "grid_row": null,
       "grid_template_areas": null,
       "grid_template_columns": null,
       "grid_template_rows": null,
       "height": null,
       "justify_content": null,
       "justify_items": null,
       "left": null,
       "margin": null,
       "max_height": null,
       "max_width": null,
       "min_height": null,
       "min_width": null,
       "object_fit": null,
       "object_position": null,
       "order": null,
       "overflow": null,
       "overflow_x": null,
       "overflow_y": null,
       "padding": null,
       "right": null,
       "top": null,
       "visibility": null,
       "width": null
      }
     },
     "f6d45024143c4c2a9ed6c2f1020ef372": {
      "model_module": "@jupyter-widgets/controls",
      "model_module_version": "1.5.0",
      "model_name": "HBoxModel",
      "state": {
       "_dom_classes": [],
       "_model_module": "@jupyter-widgets/controls",
       "_model_module_version": "1.5.0",
       "_model_name": "HBoxModel",
       "_view_count": null,
       "_view_module": "@jupyter-widgets/controls",
       "_view_module_version": "1.5.0",
       "_view_name": "HBoxView",
       "box_style": "",
       "children": [
        "IPY_MODEL_2502354cd8674fd0a0ee50c384a6e3dc",
        "IPY_MODEL_584bc4b0cd4a4d608e6072fb8038785b",
        "IPY_MODEL_239404ff527b4d5fa1d287fb77d61722"
       ],
       "layout": "IPY_MODEL_3f7749de95234a4391243cb2f717e82f"
      }
     },
     "fd28217c76b54815b77a2bef621401bc": {
      "model_module": "@jupyter-widgets/controls",
      "model_module_version": "1.5.0",
      "model_name": "DescriptionStyleModel",
      "state": {
       "_model_module": "@jupyter-widgets/controls",
       "_model_module_version": "1.5.0",
       "_model_name": "DescriptionStyleModel",
       "_view_count": null,
       "_view_module": "@jupyter-widgets/base",
       "_view_module_version": "1.2.0",
       "_view_name": "StyleView",
       "description_width": ""
      }
     },
     "fe6601c80f514a3fa5966d4b75f7f984": {
      "model_module": "@jupyter-widgets/controls",
      "model_module_version": "1.5.0",
      "model_name": "HBoxModel",
      "state": {
       "_dom_classes": [],
       "_model_module": "@jupyter-widgets/controls",
       "_model_module_version": "1.5.0",
       "_model_name": "HBoxModel",
       "_view_count": null,
       "_view_module": "@jupyter-widgets/controls",
       "_view_module_version": "1.5.0",
       "_view_name": "HBoxView",
       "box_style": "",
       "children": [
        "IPY_MODEL_80e3a518fe6342c0bc04e834cec03efe",
        "IPY_MODEL_a6363b5d6abe4180ad99e2923719b9c0",
        "IPY_MODEL_4cf8650ac2084325ab527d1588be5e12"
       ],
       "layout": "IPY_MODEL_efbaf3a14c5346a99f021cfe04ad8323"
      }
     }
    },
    "version_major": 2,
    "version_minor": 0
   }
  }
 },
 "nbformat": 4,
 "nbformat_minor": 5
}
