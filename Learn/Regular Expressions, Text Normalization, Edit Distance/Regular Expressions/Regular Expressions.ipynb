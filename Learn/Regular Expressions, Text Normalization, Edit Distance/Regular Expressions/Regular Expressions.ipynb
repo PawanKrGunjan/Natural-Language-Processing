{
 "cells": [
  {
   "cell_type": "code",
   "execution_count": 1,
   "id": "7734a6a4",
   "metadata": {},
   "outputs": [],
   "source": [
    "import re"
   ]
  },
  {
   "cell_type": "code",
   "execution_count": 2,
   "id": "2210b031",
   "metadata": {},
   "outputs": [
    {
     "name": "stdout",
     "output_type": "stream",
     "text": [
      "<re.Match object; span=(0, 5), match='hello'>\n",
      "None\n",
      "(0, 5)\n",
      "0\n",
      "5\n"
     ]
    }
   ],
   "source": [
    "print(re.search('hello','hello world'))\n",
    "print(re.search('data','hello world'))\n",
    "\n",
    "s=re.search('hello','hello world')\n",
    "print(s.span())\n",
    "print(s.start())\n",
    "print(s.end())"
   ]
  },
  {
   "cell_type": "code",
   "execution_count": 3,
   "id": "88375482",
   "metadata": {},
   "outputs": [
    {
     "data": {
      "text/plain": [
       "['hello', 'hello', 'hello']"
      ]
     },
     "execution_count": 3,
     "metadata": {},
     "output_type": "execute_result"
    }
   ],
   "source": [
    "re.findall('hello','hello world hello earth hello universe')"
   ]
  },
  {
   "cell_type": "code",
   "execution_count": 4,
   "id": "87dc91a0",
   "metadata": {},
   "outputs": [
    {
     "name": "stdout",
     "output_type": "stream",
     "text": [
      "(0, 5)\n",
      "(12, 17)\n",
      "(24, 29)\n"
     ]
    }
   ],
   "source": [
    "for i in re.finditer('hello','hello world hello earth hello universe'):\n",
    "    print(i.span())"
   ]
  },
  {
   "cell_type": "markdown",
   "id": "b1cb712a",
   "metadata": {},
   "source": [
    "|Character\t| Description\t| Example Pattern Code\t| Example Match |\n",
    "|---|---|---|---|\n",
    "|\\d\t| A digit\t| file_\\d\\d |\tfile_25 |\n",
    "|\\w\t| Alphanumeric\t| \\w-\\w\\w\\w |\tA-b_1 |\n",
    "|\\s\t| White space\t| a\\sb\\sc\t| a b c |\n",
    "|\\D\t| A non digit\t| \\D\\D\\D |\tABC |\n",
    "|\\W\t| Non-alphanumeric |\t\\W\\W\\W\\W\\W |\t*-+=) |\n",
    "|\\S\t| Non-whitespace |\t\\S\\S\\S\\S |\tYoyo |\n",
    "\n",
    "|Character |\tDescription\t| Example Pattern Code\t| Example Match |\n",
    "|---|---|---|---|\n",
    "|+ |\tOccurs one or more times\t| Version \\w-\\w+\t| Version A-b1_1|\n",
    "|{3} |\tOccurs exactly 3 times |\t\\D{3}\t| abc|\n",
    "|{2,4} |\tOccurs 2 to 4 times\t | \\d{2,4} |\t123|\n",
    "|{3,} |\tOccurs 3 or more\t| \\w{3,} |\tanycharacters|\n",
    "| \\\\* |\tOccurs zero or more times |\t A\\\\* B\\\\* C* |\tAAACC|\n",
    "|?\t| Once or none |\tplurals?\t| plural|\n"
   ]
  },
  {
   "cell_type": "code",
   "execution_count": 5,
   "id": "3a9600e4",
   "metadata": {},
   "outputs": [
    {
     "name": "stdout",
     "output_type": "stream",
     "text": [
      "<re.Match object; span=(23, 35), match='834-4324-345'>\n",
      "None\n",
      "834-4324-345\n"
     ]
    }
   ],
   "source": [
    "txt1=\"my telephone number is 834-4324-345\"\n",
    "txt2=\"my telephone number is 8344324345\"\n",
    "\n",
    "pattern='\\d{3}-\\d{4}-\\d{3}'\n",
    "\n",
    "print(re.search(pattern,txt1))\n",
    "print(re.search(pattern,txt2))\n",
    "\n",
    "print(re.search(pattern,txt1).group())"
   ]
  },
  {
   "cell_type": "markdown",
   "id": "4cbdd2ca",
   "metadata": {},
   "source": [
    "## Pattern Matching with Alphanumeric"
   ]
  },
  {
   "cell_type": "code",
   "execution_count": 6,
   "id": "13f35f39",
   "metadata": {},
   "outputs": [
    {
     "name": "stdout",
     "output_type": "stream",
     "text": [
      "['at', 'at', 'at', 'at', 'at']\n"
     ]
    }
   ],
   "source": [
    "print(re.findall('at','The rat sat on the mat and attached by a cat'))"
   ]
  },
  {
   "cell_type": "code",
   "execution_count": 7,
   "id": "459ece5c",
   "metadata": {},
   "outputs": [
    {
     "name": "stdout",
     "output_type": "stream",
     "text": [
      "['rat', 'sat', 'mat', ' at', 'cat']\n"
     ]
    }
   ],
   "source": [
    "print(re.findall('.at','The rat sat on the mat and attached by a cat'))"
   ]
  },
  {
   "cell_type": "code",
   "execution_count": 8,
   "id": "282eaead",
   "metadata": {},
   "outputs": [
    {
     "name": "stdout",
     "output_type": "stream",
     "text": [
      "['4', '2', '3']\n"
     ]
    }
   ],
   "source": [
    "print(re.findall('\\d','4 is divisible by 2 and not by 3'))"
   ]
  },
  {
   "cell_type": "markdown",
   "id": "b25cedd4",
   "metadata": {},
   "source": [
    "#### For checking starting character:"
   ]
  },
  {
   "cell_type": "code",
   "execution_count": 9,
   "id": "5b941856",
   "metadata": {},
   "outputs": [
    {
     "name": "stdout",
     "output_type": "stream",
     "text": [
      "['4']\n",
      "[]\n"
     ]
    }
   ],
   "source": [
    "print(re.findall('^\\d','4 is divisible by 2 and not by 3'))\n",
    "print(re.findall('^\\d','Hi, 4 is divisible by 2 and not by 3'))"
   ]
  },
  {
   "cell_type": "markdown",
   "id": "b6be1570",
   "metadata": {},
   "source": [
    "#### For checking ending character:"
   ]
  },
  {
   "cell_type": "code",
   "execution_count": 10,
   "id": "0c8fe59b",
   "metadata": {},
   "outputs": [
    {
     "name": "stdout",
     "output_type": "stream",
     "text": [
      "['3']\n",
      "[]\n"
     ]
    }
   ],
   "source": [
    "print(re.findall('\\d$','4 is divisible by 2 and not by 3'))\n",
    "print(re.findall('\\d$','4 is divisible by 2 and not by 3 in maths'))"
   ]
  },
  {
   "cell_type": "code",
   "execution_count": 11,
   "id": "db5014ec",
   "metadata": {},
   "outputs": [
    {
     "name": "stdout",
     "output_type": "stream",
     "text": [
      "['W', 'G', 'F', 'G']\n",
      "['e', 'l', 'c', 'o', 'm', 'e', 't', 'o']\n",
      "['1']\n",
      "['W', 'e', 'l', 'c', 'o', 'm', 'e', 't', 'o', 'G', 'F', 'G']\n",
      "['W', 'e', 'l', 'c', 'o', 'm', 'e', 't', 'o', 'G', 'F', 'G', '1']\n"
     ]
    }
   ],
   "source": [
    "print(re.findall('[A-Z]','Welcome to GFG 1'))\n",
    "\n",
    "print(re.findall('[a-z]','Welcome to GFG 1'))\n",
    "\n",
    "print(re.findall('[0-9]','Welcome to GFG 1'))\n",
    "\n",
    "print(re.findall('[A-Za-z]','Welcome to GFG 1'))\n",
    "\n",
    "print(re.findall('[A-Za-z0-9]','Welcome to GFG 1'))"
   ]
  },
  {
   "cell_type": "markdown",
   "id": "d7934f6e",
   "metadata": {},
   "source": [
    "## Text Preprocessing using RE\n",
    "### 1. Removing special characters:"
   ]
  },
  {
   "cell_type": "code",
   "execution_count": 12,
   "id": "4b6d34df",
   "metadata": {},
   "outputs": [
    {
     "name": "stdout",
     "output_type": "stream",
     "text": [
      "['Eshant ', ' is happ', 'y ']\n",
      "Eshant  is happy \n"
     ]
    }
   ],
   "source": [
    "txt=\"Eshant $ is happ@y !,\"\n",
    "\n",
    "print(re.findall('[^!,$@]+',txt))\n",
    "\n",
    "print(''.join(re.findall('[^!,$@]+',txt)))"
   ]
  },
  {
   "cell_type": "markdown",
   "id": "9919e767",
   "metadata": {},
   "source": [
    "### 2. Exclusion:"
   ]
  },
  {
   "cell_type": "code",
   "execution_count": 13,
   "id": "07dcaf29",
   "metadata": {},
   "outputs": [
    {
     "name": "stdout",
     "output_type": "stream",
     "text": [
      "I'm Pawan Gunjan and \n"
     ]
    }
   ],
   "source": [
    "txt=\"I'm Pawan Gunjan and 25\"\n",
    "\n",
    "print(''.join(re.findall('\\D',txt)))"
   ]
  },
  {
   "cell_type": "markdown",
   "id": "b167109b",
   "metadata": {},
   "source": [
    "### 3. Finding Patterns link Geeks-For-Geeks"
   ]
  },
  {
   "cell_type": "code",
   "execution_count": 14,
   "id": "d6518a5a",
   "metadata": {},
   "outputs": [
    {
     "name": "stdout",
     "output_type": "stream",
     "text": [
      "['Geeks-for-Geeks', 'works-it-out', 'wklfd-dfjgk-fjkds']\n"
     ]
    }
   ],
   "source": [
    "txt=\"Hello I am studying from Geeks-for-Geeks and it is amazing.Let's see how this works-it-out, wklfd-dfjgk-fjkds\"\n",
    "\n",
    "print(re.findall('[\\w]+-[\\w]+-[\\w]+',txt))"
   ]
  },
  {
   "cell_type": "markdown",
   "id": "27943ce9",
   "metadata": {},
   "source": [
    "## Email Pattern Matching with re"
   ]
  },
  {
   "cell_type": "code",
   "execution_count": 15,
   "id": "d9e83768",
   "metadata": {},
   "outputs": [
    {
     "name": "stdout",
     "output_type": "stream",
     "text": [
      "<re.Match object; span=(0, 28), match='pawankumargunjan@hotmail.com'>\n"
     ]
    }
   ],
   "source": [
    "mail='pawankumargunjan@hotmail.com'\n",
    "\n",
    "p='[A-Za-z0-9]+@[\\w]+.[\\w]+'\n",
    "print(re.search(p,mail))"
   ]
  },
  {
   "cell_type": "code",
   "execution_count": 16,
   "id": "eca09e46",
   "metadata": {},
   "outputs": [
    {
     "name": "stdout",
     "output_type": "stream",
     "text": [
      "['pawankumargunjan@hotmail.com']\n"
     ]
    }
   ],
   "source": [
    "txt='Mail pawankumargunjan@hotmail.com to contact Eshant'\n",
    "\n",
    "print(re.findall(p,txt))"
   ]
  },
  {
   "cell_type": "markdown",
   "id": "3c05060e",
   "metadata": {},
   "source": [
    "### Email ID with Specific Domain"
   ]
  },
  {
   "cell_type": "code",
   "execution_count": 17,
   "id": "1d0a7bb6",
   "metadata": {},
   "outputs": [
    {
     "name": "stdout",
     "output_type": "stream",
     "text": [
      "<re.Match object; span=(0, 28), match='pawankumargunjan@hotmail.com'>\n",
      "None\n"
     ]
    }
   ],
   "source": [
    "mail1='pawankumargunjan@hotmail.com'\n",
    "\n",
    "mail2='pawankumargunjan@icloud.com'\n",
    "\n",
    "\n",
    "p='[A-Za-z0-2]+@(hotmail).(com)'\n",
    "\n",
    "print(re.search(p,mail1))\n",
    "\n",
    "print(re.search(p,mail2))"
   ]
  },
  {
   "cell_type": "markdown",
   "id": "db3b4eeb",
   "metadata": {},
   "source": [
    "### Email ID with Multiple Selected Domain"
   ]
  },
  {
   "cell_type": "code",
   "execution_count": 18,
   "id": "1b9975a0",
   "metadata": {},
   "outputs": [
    {
     "name": "stdout",
     "output_type": "stream",
     "text": [
      "<re.Match object; span=(0, 28), match='pawankumargunjan@hotmail.com'>\n",
      "None\n",
      "<re.Match object; span=(0, 25), match='pawankumargunjan@gmail.in'>\n"
     ]
    }
   ],
   "source": [
    "mail1='pawankumargunjan@hotmail.com'\n",
    "\n",
    "mail2='pawankumargunjan@icloud.com'\n",
    "\n",
    "mail3='pawankumargunjan@gmail.in'\n",
    "\n",
    "\n",
    "p='[A-Za-z0-2]+@(hotmail|gmail|gfg).(com|in)'\n",
    "\n",
    "\n",
    "print(re.search(p,mail1))\n",
    "\n",
    "print(re.search(p,mail2))\n",
    "\n",
    "print(re.search(p,mail3))"
   ]
  },
  {
   "cell_type": "markdown",
   "id": "51d5d004",
   "metadata": {},
   "source": [
    "## DIY Pattern Matching - Continuous Numbers"
   ]
  },
  {
   "cell_type": "code",
   "execution_count": 19,
   "id": "8be35bdf",
   "metadata": {},
   "outputs": [
    {
     "name": "stdout",
     "output_type": "stream",
     "text": [
      "8847402857\n",
      "423423123\n"
     ]
    }
   ],
   "source": [
    "txt='The number is 8847402857 not 423423123'\n",
    "\n",
    "c=0\n",
    "\n",
    "for i in range(len(txt)):\n",
    "    \n",
    "    if(txt[i].isdigit()==True):\n",
    "        if(c==0):\n",
    "            start=i\n",
    "        c+=1\n",
    "    else:\n",
    "        if(c!=0):\n",
    "            end=i\n",
    "            print(txt[start:end])\n",
    "        c=0\n",
    "if(c!=0):\n",
    "    print(txt[-c:])"
   ]
  },
  {
   "cell_type": "markdown",
   "id": "fc9ab8b9",
   "metadata": {},
   "source": [
    "## DIY Pattern Matching- Words Finding"
   ]
  },
  {
   "cell_type": "code",
   "execution_count": 20,
   "id": "7b93b09f",
   "metadata": {},
   "outputs": [
    {
     "name": "stdout",
     "output_type": "stream",
     "text": [
      "Start : 13 End : 17\n"
     ]
    }
   ],
   "source": [
    "txt=\"Let us study Data Science from GFG.\"\n",
    "\n",
    "txt=txt.lower()\n",
    "word='data'\n",
    "\n",
    "for i in range(len(txt)):\n",
    "    if(txt[i:i+len(word)]==word):\n",
    "        print('Start :',i,'End :',i+len(word))"
   ]
  },
  {
   "cell_type": "markdown",
   "id": "85761ebc",
   "metadata": {},
   "source": [
    "### Words starting with ‘i’ in a text:"
   ]
  },
  {
   "cell_type": "code",
   "execution_count": 21,
   "id": "de3b64b8",
   "metadata": {},
   "outputs": [
    {
     "name": "stdout",
     "output_type": "stream",
     "text": [
      "is\n",
      "in\n"
     ]
    }
   ],
   "source": [
    "txt='GFG is launching a new Data Structure in Python Course'\n",
    "\n",
    "word='i'\n",
    "\n",
    "for wrd in txt.split():\n",
    "    if(wrd[:1].lower()==word.lower()):\n",
    "        print(wrd)"
   ]
  },
  {
   "cell_type": "markdown",
   "id": "f8147494",
   "metadata": {},
   "source": [
    "### Words ending with ‘e’ in a text:"
   ]
  },
  {
   "cell_type": "code",
   "execution_count": 22,
   "id": "e2b71284",
   "metadata": {},
   "outputs": [
    {
     "name": "stdout",
     "output_type": "stream",
     "text": [
      "Structure\n",
      "Course\n"
     ]
    }
   ],
   "source": [
    "txt='GFG is launching a new Data Structure in Python Course'\n",
    "\n",
    "word='e'\n",
    "\n",
    "\n",
    "for wrd in txt.split():\n",
    "    if(wrd[-1:].lower()==word.lower()):\n",
    "        print(wrd)"
   ]
  },
  {
   "cell_type": "markdown",
   "id": "58a38de1",
   "metadata": {},
   "source": [
    "## DIY Pattern Matching- Email Extraction"
   ]
  },
  {
   "cell_type": "code",
   "execution_count": 23,
   "id": "ff550a94",
   "metadata": {},
   "outputs": [
    {
     "name": "stdout",
     "output_type": "stream",
     "text": [
      "['eshant', 'eshant', 'eshant', 'eshant', 'esh', 'esh', 'eshant']\n",
      "['gmail', 'gfg', 'yahoo', 'aap', 'geeksforgeeks', 'mail', 'orkut']\n",
      "['com', 'org', 'com', 'gov.in', 'com', 'com', 'com']\n"
     ]
    }
   ],
   "source": [
    "mails=['eshant@gmail.com','eshant@gfg.org','eshant@yahoo.com','eshant@aap.gov.in','esh@geeksforgeeks.com','esh@mail.com','eshant@orkut.com']\n",
    "\n",
    "user_id=[]\n",
    "host_name=[]\n",
    "domain_type=[]\n",
    "\n",
    "for mail in mails:\n",
    "    user_id.append(mail.split('@')[0])\n",
    "    host_name.append(mail.split('@')[1].split('.')[0])\n",
    "    domain_type.append('.'.join(mail.split('@')[1].split('.')[1:]))\n",
    "    \n",
    "print(user_id)\n",
    "print(host_name)\n",
    "print(domain_type)"
   ]
  },
  {
   "cell_type": "code",
   "execution_count": 24,
   "id": "e72aa8fe",
   "metadata": {},
   "outputs": [
    {
     "name": "stdout",
     "output_type": "stream",
     "text": [
      "eshant@gfg.org\n"
     ]
    }
   ],
   "source": [
    "m1 = 'eshant@gfg.org'\n",
    "patterns = r'[A-Za-z0-9.]+@[\\w]+.[\\w]{3}'\n",
    "print(re.search(patterns,m1).group())"
   ]
  },
  {
   "cell_type": "code",
   "execution_count": 25,
   "id": "6bcb2aa2",
   "metadata": {},
   "outputs": [
    {
     "name": "stdout",
     "output_type": "stream",
     "text": [
      "<re.Match object; span=(0, 14), match='eshant@gfg.org'>\n"
     ]
    }
   ],
   "source": [
    "mail1 = 'eshant@gfg.org'\n",
    "patterns = r'[A-Za-z0-9.]+@[\\w]+.\\w{3}'\n",
    "print(re.search(patterns,mail1))"
   ]
  },
  {
   "cell_type": "code",
   "execution_count": 26,
   "id": "f6684b2d",
   "metadata": {},
   "outputs": [
    {
     "name": "stdout",
     "output_type": "stream",
     "text": [
      "<re.Match object; span=(0, 14), match='eshant@gfg.org'>\n"
     ]
    }
   ],
   "source": [
    "mail1 = 'eshant@gfg.org'\n",
    "patterns = r'[A-Za-z0-9.]+@\\w+.\\w{3}'\n",
    "print(re.search(patterns,mail1))"
   ]
  }
 ],
 "metadata": {
  "kernelspec": {
   "display_name": "Python 3.10.5 ('G-Python')",
   "language": "python",
   "name": "python3"
  },
  "language_info": {
   "codemirror_mode": {
    "name": "ipython",
    "version": 3
   },
   "file_extension": ".py",
   "mimetype": "text/x-python",
   "name": "python",
   "nbconvert_exporter": "python",
   "pygments_lexer": "ipython3",
   "version": "3.10.5"
  },
  "vscode": {
   "interpreter": {
    "hash": "3f17891b24d75332ca782a095e5c5c827f706259394ce8028ef9c4dacdd9c0ec"
   }
  }
 },
 "nbformat": 4,
 "nbformat_minor": 5
}
