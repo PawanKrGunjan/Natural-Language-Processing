{
 "cells": [
  {
   "cell_type": "markdown",
   "metadata": {
    "papermill": {
     "duration": 0.014493,
     "end_time": "2023-04-04T03:31:46.181029",
     "exception": false,
     "start_time": "2023-04-04T03:31:46.166536",
     "status": "completed"
    },
    "tags": []
   },
   "source": [
    "## Importing tools"
   ]
  },
  {
   "cell_type": "code",
   "execution_count": 1,
   "metadata": {
    "_cell_guid": "b1076dfc-b9ad-4769-8c92-a6c4dae69d19",
    "_uuid": "8f2839f25d086af736a60e9eeb907d3b93b6e0e5",
    "execution": {
     "iopub.execute_input": "2023-04-04T03:31:46.209497Z",
     "iopub.status.busy": "2023-04-04T03:31:46.208756Z",
     "iopub.status.idle": "2023-04-04T03:31:47.854855Z",
     "shell.execute_reply": "2023-04-04T03:31:47.854225Z",
     "shell.execute_reply.started": "2023-04-04T03:24:52.278987Z"
    },
    "papermill": {
     "duration": 1.662686,
     "end_time": "2023-04-04T03:31:47.854983",
     "exception": false,
     "start_time": "2023-04-04T03:31:46.192297",
     "status": "completed"
    },
    "tags": []
   },
   "outputs": [],
   "source": [
    "import numpy as np\n",
    "import pandas as pd\n",
    "import os\n",
    "import re\n",
    "import string\n",
    "from nltk.tokenize import word_tokenize\n",
    "from nltk.corpus import stopwords\n",
    "import random"
   ]
  },
  {
   "cell_type": "markdown",
   "metadata": {
    "papermill": {
     "duration": 0.010708,
     "end_time": "2023-04-04T03:31:47.878671",
     "exception": false,
     "start_time": "2023-04-04T03:31:47.867963",
     "status": "completed"
    },
    "tags": []
   },
   "source": [
    "## Reading every Sherlock Holmes adventure!"
   ]
  },
  {
   "cell_type": "code",
   "execution_count": 2,
   "metadata": {
    "execution": {
     "iopub.execute_input": "2023-04-04T03:31:47.907366Z",
     "iopub.status.busy": "2023-04-04T03:31:47.906646Z",
     "iopub.status.idle": "2023-04-04T03:31:48.773246Z",
     "shell.execute_reply": "2023-04-04T03:31:48.774067Z",
     "shell.execute_reply.started": "2023-04-04T03:24:54.082306Z"
    },
    "papermill": {
     "duration": 0.884317,
     "end_time": "2023-04-04T03:31:48.774312",
     "exception": false,
     "start_time": "2023-04-04T03:31:47.889995",
     "status": "completed"
    },
    "tags": []
   },
   "outputs": [
    {
     "name": "stdout",
     "output_type": "stream",
     "text": [
      "number of lines =  215021\n"
     ]
    }
   ],
   "source": [
    "story_path = \"/kaggle/input/sherlock-holmes-stories/sherlock/sherlock/\"\n",
    "\n",
    "def read_all_stories(story_path):\n",
    "    txt = []\n",
    "    for _, _, files in os.walk(story_path):\n",
    "        for file in files:\n",
    "            with open(story_path+file) as f:\n",
    "                for line in f:\n",
    "                    line = line.strip()\n",
    "                    if line=='----------': break\n",
    "                    if line!='':txt.append(line)\n",
    "    return txt\n",
    "        \n",
    "stories = read_all_stories(story_path)\n",
    "print(\"number of lines = \", len(stories))"
   ]
  },
  {
   "cell_type": "markdown",
   "metadata": {
    "papermill": {
     "duration": 0.010998,
     "end_time": "2023-04-04T03:31:48.797573",
     "exception": false,
     "start_time": "2023-04-04T03:31:48.786575",
     "status": "completed"
    },
    "tags": []
   },
   "source": [
    "## Cleaning the text"
   ]
  },
  {
   "cell_type": "code",
   "execution_count": 3,
   "metadata": {
    "execution": {
     "iopub.execute_input": "2023-04-04T03:31:48.829849Z",
     "iopub.status.busy": "2023-04-04T03:31:48.828614Z",
     "iopub.status.idle": "2023-04-04T03:32:15.295218Z",
     "shell.execute_reply": "2023-04-04T03:32:15.294497Z",
     "shell.execute_reply.started": "2023-04-04T03:25:05.077189Z"
    },
    "papermill": {
     "duration": 26.486285,
     "end_time": "2023-04-04T03:32:15.295350",
     "exception": false,
     "start_time": "2023-04-04T03:31:48.809065",
     "status": "completed"
    },
    "tags": []
   },
   "outputs": [
    {
     "name": "stdout",
     "output_type": "stream",
     "text": [
      "number of words =  2332247\n"
     ]
    }
   ],
   "source": [
    "def clean_txt(txt):\n",
    "    cleaned_txt = []\n",
    "    for line in txt:\n",
    "        line = line.lower()\n",
    "        line = re.sub(r\"[,.\\\"\\'!@#$%^&*(){}?/;`~:<>+=-\\\\]\", \"\", line)\n",
    "        tokens = word_tokenize(line)\n",
    "        words = [word for word in tokens if word.isalpha()]\n",
    "        cleaned_txt+=words\n",
    "    return cleaned_txt\n",
    "\n",
    "cleaned_stories = clean_txt(stories)\n",
    "print(\"number of words = \", len(cleaned_stories))"
   ]
  },
  {
   "cell_type": "markdown",
   "metadata": {
    "papermill": {
     "duration": 0.011302,
     "end_time": "2023-04-04T03:32:15.318606",
     "exception": false,
     "start_time": "2023-04-04T03:32:15.307304",
     "status": "completed"
    },
    "tags": []
   },
   "source": [
    "## Creating the Markov Model"
   ]
  },
  {
   "cell_type": "code",
   "execution_count": 4,
   "metadata": {
    "execution": {
     "iopub.execute_input": "2023-04-04T03:32:15.353601Z",
     "iopub.status.busy": "2023-04-04T03:32:15.352656Z",
     "iopub.status.idle": "2023-04-04T03:32:15.355888Z",
     "shell.execute_reply": "2023-04-04T03:32:15.355283Z",
     "shell.execute_reply.started": "2023-04-04T03:26:09.999708Z"
    },
    "papermill": {
     "duration": 0.025781,
     "end_time": "2023-04-04T03:32:15.356183",
     "exception": false,
     "start_time": "2023-04-04T03:32:15.330402",
     "status": "completed"
    },
    "tags": []
   },
   "outputs": [],
   "source": [
    "def make_markov_model(cleaned_stories, n_gram=2):\n",
    "    markov_model = {}\n",
    "    for i in range(len(cleaned_stories)-n_gram-1):\n",
    "        curr_state, next_state = \"\", \"\"\n",
    "        for j in range(n_gram):\n",
    "            curr_state += cleaned_stories[i+j] + \" \"\n",
    "            next_state += cleaned_stories[i+j+n_gram] + \" \"\n",
    "        curr_state = curr_state[:-1]\n",
    "        next_state = next_state[:-1]\n",
    "        if curr_state not in markov_model:\n",
    "            markov_model[curr_state] = {}\n",
    "            markov_model[curr_state][next_state] = 1\n",
    "        else:\n",
    "            if next_state in markov_model[curr_state]:\n",
    "                markov_model[curr_state][next_state] += 1\n",
    "            else:\n",
    "                markov_model[curr_state][next_state] = 1\n",
    "    \n",
    "    # calculating transition probabilities\n",
    "    for curr_state, transition in markov_model.items():\n",
    "        total = sum(transition.values())\n",
    "        for state, count in transition.items():\n",
    "            markov_model[curr_state][state] = count/total\n",
    "        \n",
    "    return markov_model"
   ]
  },
  {
   "cell_type": "code",
   "execution_count": 5,
   "metadata": {
    "execution": {
     "iopub.execute_input": "2023-04-04T03:32:15.445255Z",
     "iopub.status.busy": "2023-04-04T03:32:15.444568Z",
     "iopub.status.idle": "2023-04-04T03:32:21.598960Z",
     "shell.execute_reply": "2023-04-04T03:32:21.598258Z",
     "shell.execute_reply.started": "2023-04-04T03:26:20.095972Z"
    },
    "papermill": {
     "duration": 6.230042,
     "end_time": "2023-04-04T03:32:21.599086",
     "exception": false,
     "start_time": "2023-04-04T03:32:15.369044",
     "status": "completed"
    },
    "tags": []
   },
   "outputs": [],
   "source": [
    "markov_model = make_markov_model(cleaned_stories)"
   ]
  },
  {
   "cell_type": "code",
   "execution_count": 6,
   "metadata": {
    "execution": {
     "iopub.execute_input": "2023-04-04T03:32:21.629168Z",
     "iopub.status.busy": "2023-04-04T03:32:21.628428Z",
     "iopub.status.idle": "2023-04-04T03:32:21.632711Z",
     "shell.execute_reply": "2023-04-04T03:32:21.632215Z",
     "shell.execute_reply.started": "2023-04-04T03:26:26.322041Z"
    },
    "papermill": {
     "duration": 0.021549,
     "end_time": "2023-04-04T03:32:21.632847",
     "exception": false,
     "start_time": "2023-04-04T03:32:21.611298",
     "status": "completed"
    },
    "tags": []
   },
   "outputs": [
    {
     "name": "stdout",
     "output_type": "stream",
     "text": [
      "number of states =  208716\n"
     ]
    }
   ],
   "source": [
    "print(\"number of states = \", len(markov_model.keys()))"
   ]
  },
  {
   "cell_type": "code",
   "execution_count": 7,
   "metadata": {
    "execution": {
     "iopub.execute_input": "2023-04-04T03:32:21.662904Z",
     "iopub.status.busy": "2023-04-04T03:32:21.662011Z",
     "iopub.status.idle": "2023-04-04T03:32:21.666185Z",
     "shell.execute_reply": "2023-04-04T03:32:21.665549Z",
     "shell.execute_reply.started": "2023-04-04T03:26:28.855140Z"
    },
    "papermill": {
     "duration": 0.021223,
     "end_time": "2023-04-04T03:32:21.666332",
     "exception": false,
     "start_time": "2023-04-04T03:32:21.645109",
     "status": "completed"
    },
    "tags": []
   },
   "outputs": [
    {
     "name": "stdout",
     "output_type": "stream",
     "text": [
      "All possible transitions from 'the game' state: \n",
      "\n",
      "{'my own': 0.02702702702702703, 'at any': 0.02702702702702703, 'mr holmes': 0.02702702702702703, 'ay whats': 0.02702702702702703, 'my friend': 0.02702702702702703, 'fairly by': 0.02702702702702703, 'is not': 0.02702702702702703, 'was not': 0.02702702702702703, 'is hardly': 0.02702702702702703, 'was in': 0.02702702702702703, 'would have': 0.036036036036036036, 'is up': 0.06306306306306306, 'is and': 0.036036036036036036, 'in their': 0.036036036036036036, 'was whist': 0.036036036036036036, 'was up': 0.09009009009009009, 'in that': 0.036036036036036036, 'the lack': 0.036036036036036036, 'for all': 0.06306306306306306, 'is afoot': 0.036036036036036036, 'may wander': 0.02702702702702703, 'now a': 0.02702702702702703, 'was afoot': 0.036036036036036036, 'for the': 0.036036036036036036, 'worth it': 0.02702702702702703, 'you are': 0.02702702702702703, 'i am': 0.02702702702702703, 'now count': 0.02702702702702703, 'your letter': 0.02702702702702703}\n"
     ]
    }
   ],
   "source": [
    "print(\"All possible transitions from 'the game' state: \\n\")\n",
    "print(markov_model['the game'])"
   ]
  },
  {
   "cell_type": "markdown",
   "metadata": {
    "papermill": {
     "duration": 0.012834,
     "end_time": "2023-04-04T03:32:21.691816",
     "exception": false,
     "start_time": "2023-04-04T03:32:21.678982",
     "status": "completed"
    },
    "tags": []
   },
   "source": [
    "## Generating Sherlock Holmes stories!"
   ]
  },
  {
   "cell_type": "code",
   "execution_count": 8,
   "metadata": {
    "execution": {
     "iopub.execute_input": "2023-04-04T03:32:21.726622Z",
     "iopub.status.busy": "2023-04-04T03:32:21.725273Z",
     "iopub.status.idle": "2023-04-04T03:32:21.729046Z",
     "shell.execute_reply": "2023-04-04T03:32:21.728461Z",
     "shell.execute_reply.started": "2023-04-04T03:26:38.234849Z"
    },
    "papermill": {
     "duration": 0.024553,
     "end_time": "2023-04-04T03:32:21.729171",
     "exception": false,
     "start_time": "2023-04-04T03:32:21.704618",
     "status": "completed"
    },
    "tags": []
   },
   "outputs": [],
   "source": [
    "def generate_story(markov_model, limit=100, start='my god'):\n",
    "    n = 0\n",
    "    curr_state = start\n",
    "    next_state = None\n",
    "    story = \"\"\n",
    "    story+=curr_state+\" \"\n",
    "    while n<limit:\n",
    "        next_state = random.choices(list(markov_model[curr_state].keys()),\n",
    "                                    list(markov_model[curr_state].values()))\n",
    "        \n",
    "        curr_state = next_state[0]\n",
    "        story+=curr_state+\" \"\n",
    "        n+=1\n",
    "    return story"
   ]
  },
  {
   "cell_type": "code",
   "execution_count": 9,
   "metadata": {
    "execution": {
     "iopub.execute_input": "2023-04-04T03:32:21.763499Z",
     "iopub.status.busy": "2023-04-04T03:32:21.762128Z",
     "iopub.status.idle": "2023-04-04T03:32:21.770165Z",
     "shell.execute_reply": "2023-04-04T03:32:21.769598Z",
     "shell.execute_reply.started": "2023-04-04T03:26:44.115640Z"
    },
    "papermill": {
     "duration": 0.027842,
     "end_time": "2023-04-04T03:32:21.770325",
     "exception": false,
     "start_time": "2023-04-04T03:32:21.742483",
     "status": "completed"
    },
    "tags": []
   },
   "outputs": [
    {
     "name": "stdout",
     "output_type": "stream",
     "text": [
      "0.  dear holmes i fear said holmes the officer gave the alarm she and mrs king had reentered the \n",
      "1.  dear holmes if i had been too much for my past history and get away for all i \n",
      "2.  dear holmes if i gave you were as elated as if it were thought possible that i am \n",
      "3.  dear holmes oh yes i have misjudged him when i have finished at the coronet their united strength \n",
      "4.  dear holmes i exclaimed oh the she shall pay for it with great interest and i was lucky \n",
      "5.  dear holmes you are on his track for years and whose absolute reliability is quite above suspicion another \n",
      "6.  dear holmes i have made myself clear i answered with a suspicious flash of lightning in the night \n",
      "7.  dear holmes i fear that i left this door shut with a goatee beard which gave it birth \n",
      "8.  dear holmes i exclaimed and this i have ever seen with a firm step and an engagement which \n",
      "9.  dear holmes i ejaculated commonplace said holmes though it is just in such details that the night was \n",
      "10.  dear holmes i thought that if i was ever destined to see where the sharp spring like a \n",
      "11.  dear holmes it is not the pride and the money can not verify his guess the form that \n",
      "12.  dear holmes you are the second is to exaggerate my injuries theyll come to know this pinkerton man \n",
      "13.  dear holmes it is this way he found a considerable amount of foresight since he went off to \n",
      "14.  dear holmes he has seen all that i should see what the doctor says it is most important \n",
      "15.  dear holmes what do you make of it is yours the fellow says about music he claims that \n",
      "16.  dear holmes i have said to her that if i did not want the doctors advice and help \n",
      "17.  dear holmes if i do not ring lady hilda if you do not imagine that if the clothes \n",
      "18.  dear holmes that i am giving you a little mystification lestrade for your chaff in the hour of \n",
      "19.  dear holmes it is an old acquaintance inspector morton of scotland yard but instead of going to a \n"
     ]
    }
   ],
   "source": [
    "for i in range(20):\n",
    "    print(str(i)+\". \", generate_story(markov_model, start=\"dear holmes\", limit=8))"
   ]
  },
  {
   "cell_type": "code",
   "execution_count": 10,
   "metadata": {
    "execution": {
     "iopub.execute_input": "2023-04-04T03:32:21.806718Z",
     "iopub.status.busy": "2023-04-04T03:32:21.805820Z",
     "iopub.status.idle": "2023-04-04T03:32:21.811901Z",
     "shell.execute_reply": "2023-04-04T03:32:21.811150Z",
     "shell.execute_reply.started": "2023-04-04T03:26:50.927333Z"
    },
    "papermill": {
     "duration": 0.027667,
     "end_time": "2023-04-04T03:32:21.812033",
     "exception": false,
     "start_time": "2023-04-04T03:32:21.784366",
     "status": "completed"
    },
    "tags": []
   },
   "outputs": [
    {
     "name": "stdout",
     "output_type": "stream",
     "text": [
      "0.  my dear watson said he that circle is drawn at a radius of ten miles there are as \n",
      "1.  my dear watson there are some cigarettes i saw him stoop and a little chirrup of joy and \n",
      "2.  my dear watson i dont think so holmes walked across the drawbridge its open mouth its eyes glowed \n",
      "3.  my dear daughter alice now in custody and who had told him shortly what was intended it is \n",
      "4.  my dear watson that sensational cases had disappeared mr aloysius doran two days later that is another matter \n",
      "5.  my dear fellow i thought you would come from a forlorn hope could have recognized that this was \n",
      "6.  my dear watson to think that with a long draught of water through one of the bodies in \n",
      "7.  my dear fellow i often think of those who had been watching the oil lamps had been lit \n",
      "8.  my dear fellow i congrat to milvertons housemaid good heavens cried the king nothing could be the result \n",
      "9.  my dear holmes am i right on both sides like bob and me was already out of date \n",
      "10.  my dear sir we shall go mad he had uttered a cry of amazement there was a family \n",
      "11.  my dear watson that you have done but there was a bit drunk that was how i came \n",
      "12.  my dear friend stood i know the men whom he feared william was decoyed up and perhaps he \n",
      "13.  my dear hopkins draw up and down the road and when the rajah put his jewels into the \n",
      "14.  my dear watson do you imagine that this line of thought possibly you can see but there was \n",
      "15.  my dear fellow there is no one in it had reached the sir william baskerville who served under \n",
      "16.  my dear watson i was just balancing whether i should allow myself to be at eight but how \n",
      "17.  my dear watson it might have done her to death and every face darkened as gloomy looks were \n",
      "18.  my dear watson said he now let me go a little more closely together and sparkling brightly from \n",
      "19.  my dear fellow said sherlock holmes said he i am afraid that i can make nothing of it \n"
     ]
    }
   ],
   "source": [
    "for i in range(20):\n",
    "    print(str(i)+\". \", generate_story(markov_model, start=\"my dear\", limit=8))"
   ]
  },
  {
   "cell_type": "code",
   "execution_count": 11,
   "metadata": {
    "execution": {
     "iopub.execute_input": "2023-04-04T03:32:21.849523Z",
     "iopub.status.busy": "2023-04-04T03:32:21.848494Z",
     "iopub.status.idle": "2023-04-04T03:32:21.859299Z",
     "shell.execute_reply": "2023-04-04T03:32:21.858430Z",
     "shell.execute_reply.started": "2023-04-04T03:26:56.480625Z"
    },
    "papermill": {
     "duration": 0.032328,
     "end_time": "2023-04-04T03:32:21.859439",
     "exception": false,
     "start_time": "2023-04-04T03:32:21.827111",
     "status": "completed"
    },
    "tags": []
   },
   "outputs": [
    {
     "name": "stdout",
     "output_type": "stream",
     "text": [
      "0.  i would spare you five minutes i shall at least show our people what is known of the \n",
      "1.  i would go i really dont think he is and nothing will persuade me to believe that they \n",
      "2.  i would not have gone so far that we can get the address of the receiver who had \n",
      "3.  i would also urge that the coast seems to be somewhat vague as to make himself out to \n",
      "4.  i would have heard me remark that the end had sir charles received any other letters it occurred \n",
      "5.  i would have allowed his guilty conscience it may have observed that the bust was smashed well thats \n",
      "6.  i would mind apologizing to hudson i refused to answer him as on a hot scent and yet \n",
      "7.  i would deduce and acted accordingly and what is the owner going to restore the fallen grandeur of \n",
      "8.  i would rather not answer that quite so there you are and what it was it not possible \n",
      "9.  i would not touch me with bleared drunken eyes for my part after we heard the rattle of \n",
      "10.  i would give so much to win what a pretty bad time how does it run whose was \n",
      "11.  i would risk a little sporting flutter that you dont know mcginty and his swollen ankles and ungainly \n",
      "12.  i would not have made an actor and a rare good friend to him to go about the \n",
      "13.  i would i could possibly venture to say mr holmes im just loving it its fine holmes smiled \n",
      "14.  i would have endured imprisonment ay even execution rather than delay his movements he lit the lamp put \n",
      "15.  i would be after you as your friendship certainly but how because that is perfectly impossible mr baynes \n",
      "16.  i would have a cumulative force and the line of boats call at belfast dublin and london steam \n",
      "17.  i would not intrude my services oh indeed said my companion with those disquieting eyes for many years \n",
      "18.  i would not have been more nearly correct than the other i think that we shall be able \n",
      "19.  i would find that a woman cut out of a book octavo size no hum posted in gravesend \n"
     ]
    }
   ],
   "source": [
    "for i in range(20):\n",
    "    print(str(i)+\". \", generate_story(markov_model, start=\"i would\", limit=8))"
   ]
  },
  {
   "cell_type": "code",
   "execution_count": 12,
   "metadata": {
    "execution": {
     "iopub.execute_input": "2023-04-04T03:32:21.896605Z",
     "iopub.status.busy": "2023-04-04T03:32:21.895592Z",
     "iopub.status.idle": "2023-04-04T03:32:21.899376Z",
     "shell.execute_reply": "2023-04-04T03:32:21.899917Z",
     "shell.execute_reply.started": "2023-04-04T03:27:03.702875Z"
    },
    "papermill": {
     "duration": 0.026398,
     "end_time": "2023-04-04T03:32:21.900071",
     "exception": false,
     "start_time": "2023-04-04T03:32:21.873673",
     "status": "completed"
    },
    "tags": []
   },
   "outputs": [
    {
     "name": "stdout",
     "output_type": "stream",
     "text": [
      "the case is there anything else you have acted with great discretion who sent you why i hated these men are and what it is that it was the body but here he is certainly a little untrustworthy said holmes he was but he did not scorn her advice i assure you that it is from a certain point he had taken several notes during mr hardings evidence and i weighted them with the fall you see gentlemen that i was using another name at the head of course the attempted murder of mr eduardo lucas well known that her sister could smell dr roylotts cigar now of course we searched the garden that is certainly the the blinds are up you can see that it was quite shallow but under the jeers of his antagonist but his own explanation as to what took place well really i had no clue in the evening of the colonels face it had got loose was a man of many enemies edmunds told me that our unfortunate client has rather an early appointment this morning or any of the starry flag of freedom which would cause her to shelter him i told him also how \n"
     ]
    }
   ],
   "source": [
    "print(generate_story(markov_model, start=\"the case\", limit=100))"
   ]
  }
 ],
 "metadata": {
  "kernelspec": {
   "display_name": "Python 3",
   "language": "python",
   "name": "python3"
  },
  "language_info": {
   "codemirror_mode": {
    "name": "ipython",
    "version": 3
   },
   "file_extension": ".py",
   "mimetype": "text/x-python",
   "name": "python",
   "nbconvert_exporter": "python",
   "pygments_lexer": "ipython3",
   "version": "3.7.6"
  },
  "papermill": {
   "duration": 40.596201,
   "end_time": "2023-04-04T03:32:22.022436",
   "environment_variables": {},
   "exception": null,
   "input_path": "__notebook__.ipynb",
   "output_path": "__notebook__.ipynb",
   "parameters": {},
   "start_time": "2023-04-04T03:31:41.426235",
   "version": "2.1.0"
  }
 },
 "nbformat": 4,
 "nbformat_minor": 4
}
