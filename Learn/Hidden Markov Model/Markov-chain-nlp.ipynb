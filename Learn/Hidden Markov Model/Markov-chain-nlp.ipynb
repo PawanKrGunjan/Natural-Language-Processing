{
 "cells": [
  {
   "cell_type": "markdown",
   "metadata": {
    "papermill": {
     "duration": 0.015824,
     "end_time": "2023-04-04T03:28:38.198021",
     "exception": false,
     "start_time": "2023-04-04T03:28:38.182197",
     "status": "completed"
    },
    "tags": []
   },
   "source": [
    "<img src=\"https://drive.google.com/uc?export=view&amp;id=1zSJwAUxWv5bxyYLmYPNi-s6M_Wq5iWXh\">"
   ]
  },
  {
   "cell_type": "markdown",
   "metadata": {
    "papermill": {
     "duration": 0.011805,
     "end_time": "2023-04-04T03:28:38.221974",
     "exception": false,
     "start_time": "2023-04-04T03:28:38.210169",
     "status": "completed"
    },
    "tags": []
   },
   "source": [
    "## Importing tools"
   ]
  },
  {
   "cell_type": "code",
   "execution_count": 1,
   "metadata": {
    "_cell_guid": "b1076dfc-b9ad-4769-8c92-a6c4dae69d19",
    "_uuid": "8f2839f25d086af736a60e9eeb907d3b93b6e0e5",
    "execution": {
     "iopub.execute_input": "2023-04-04T03:28:38.248950Z",
     "iopub.status.busy": "2023-04-04T03:28:38.248016Z",
     "iopub.status.idle": "2023-04-04T03:28:40.101730Z",
     "shell.execute_reply": "2023-04-04T03:28:40.101038Z",
     "shell.execute_reply.started": "2023-04-04T03:24:52.278987Z"
    },
    "papermill": {
     "duration": 1.868136,
     "end_time": "2023-04-04T03:28:40.101865",
     "exception": false,
     "start_time": "2023-04-04T03:28:38.233729",
     "status": "completed"
    },
    "tags": []
   },
   "outputs": [],
   "source": [
    "import numpy as np\n",
    "import pandas as pd\n",
    "import os\n",
    "import re\n",
    "import string\n",
    "from nltk.tokenize import word_tokenize\n",
    "from nltk.corpus import stopwords\n",
    "import random"
   ]
  },
  {
   "cell_type": "markdown",
   "metadata": {
    "papermill": {
     "duration": 0.011685,
     "end_time": "2023-04-04T03:28:40.126052",
     "exception": false,
     "start_time": "2023-04-04T03:28:40.114367",
     "status": "completed"
    },
    "tags": []
   },
   "source": [
    "## Reading every Sherlock Holmes adventure!"
   ]
  },
  {
   "cell_type": "code",
   "execution_count": 2,
   "metadata": {
    "execution": {
     "iopub.execute_input": "2023-04-04T03:28:40.163327Z",
     "iopub.status.busy": "2023-04-04T03:28:40.162624Z",
     "iopub.status.idle": "2023-04-04T03:28:40.909630Z",
     "shell.execute_reply": "2023-04-04T03:28:40.908906Z",
     "shell.execute_reply.started": "2023-04-04T03:24:54.082306Z"
    },
    "papermill": {
     "duration": 0.770648,
     "end_time": "2023-04-04T03:28:40.909770",
     "exception": false,
     "start_time": "2023-04-04T03:28:40.139122",
     "status": "completed"
    },
    "tags": []
   },
   "outputs": [
    {
     "name": "stdout",
     "output_type": "stream",
     "text": [
      "number of lines =  215021\n"
     ]
    }
   ],
   "source": [
    "story_path = \"/kaggle/input/sherlock-holmes-stories/sherlock/sherlock/\"\n",
    "\n",
    "def read_all_stories(story_path):\n",
    "    txt = []\n",
    "    for _, _, files in os.walk(story_path):\n",
    "        for file in files:\n",
    "            with open(story_path+file) as f:\n",
    "                for line in f:\n",
    "                    line = line.strip()\n",
    "                    if line=='----------': break\n",
    "                    if line!='':txt.append(line)\n",
    "    return txt\n",
    "        \n",
    "stories = read_all_stories(story_path)\n",
    "print(\"number of lines = \", len(stories))"
   ]
  },
  {
   "cell_type": "markdown",
   "metadata": {
    "papermill": {
     "duration": 0.011472,
     "end_time": "2023-04-04T03:28:40.933770",
     "exception": false,
     "start_time": "2023-04-04T03:28:40.922298",
     "status": "completed"
    },
    "tags": []
   },
   "source": [
    "## Cleaning the text"
   ]
  },
  {
   "cell_type": "code",
   "execution_count": 3,
   "metadata": {
    "execution": {
     "iopub.execute_input": "2023-04-04T03:28:40.967951Z",
     "iopub.status.busy": "2023-04-04T03:28:40.967203Z",
     "iopub.status.idle": "2023-04-04T03:29:07.197614Z",
     "shell.execute_reply": "2023-04-04T03:29:07.198119Z",
     "shell.execute_reply.started": "2023-04-04T03:25:05.077189Z"
    },
    "papermill": {
     "duration": 26.25167,
     "end_time": "2023-04-04T03:29:07.198293",
     "exception": false,
     "start_time": "2023-04-04T03:28:40.946623",
     "status": "completed"
    },
    "tags": []
   },
   "outputs": [
    {
     "name": "stdout",
     "output_type": "stream",
     "text": [
      "number of words =  2332247\n"
     ]
    }
   ],
   "source": [
    "def clean_txt(txt):\n",
    "    cleaned_txt = []\n",
    "    for line in txt:\n",
    "        line = line.lower()\n",
    "        line = re.sub(r\"[,.\\\"\\'!@#$%^&*(){}?/;`~:<>+=-\\\\]\", \"\", line)\n",
    "        tokens = word_tokenize(line)\n",
    "        words = [word for word in tokens if word.isalpha()]\n",
    "        cleaned_txt+=words\n",
    "    return cleaned_txt\n",
    "\n",
    "cleaned_stories = clean_txt(stories)\n",
    "print(\"number of words = \", len(cleaned_stories))"
   ]
  },
  {
   "cell_type": "markdown",
   "metadata": {
    "papermill": {
     "duration": 0.012391,
     "end_time": "2023-04-04T03:29:07.223686",
     "exception": false,
     "start_time": "2023-04-04T03:29:07.211295",
     "status": "completed"
    },
    "tags": []
   },
   "source": [
    "## Creating the Markov Model"
   ]
  },
  {
   "cell_type": "code",
   "execution_count": 4,
   "metadata": {
    "execution": {
     "iopub.execute_input": "2023-04-04T03:29:07.258592Z",
     "iopub.status.busy": "2023-04-04T03:29:07.256757Z",
     "iopub.status.idle": "2023-04-04T03:29:07.261050Z",
     "shell.execute_reply": "2023-04-04T03:29:07.261649Z",
     "shell.execute_reply.started": "2023-04-04T03:26:09.999708Z"
    },
    "papermill": {
     "duration": 0.025917,
     "end_time": "2023-04-04T03:29:07.261814",
     "exception": false,
     "start_time": "2023-04-04T03:29:07.235897",
     "status": "completed"
    },
    "tags": []
   },
   "outputs": [],
   "source": [
    "def make_markov_model(cleaned_stories, n_gram=2):\n",
    "    markov_model = {}\n",
    "    for i in range(len(cleaned_stories)-n_gram-1):\n",
    "        curr_state, next_state = \"\", \"\"\n",
    "        for j in range(n_gram):\n",
    "            curr_state += cleaned_stories[i+j] + \" \"\n",
    "            next_state += cleaned_stories[i+j+n_gram] + \" \"\n",
    "        curr_state = curr_state[:-1]\n",
    "        next_state = next_state[:-1]\n",
    "        if curr_state not in markov_model:\n",
    "            markov_model[curr_state] = {}\n",
    "            markov_model[curr_state][next_state] = 1\n",
    "        else:\n",
    "            if next_state in markov_model[curr_state]:\n",
    "                markov_model[curr_state][next_state] += 1\n",
    "            else:\n",
    "                markov_model[curr_state][next_state] = 1\n",
    "    \n",
    "    # calculating transition probabilities\n",
    "    for curr_state, transition in markov_model.items():\n",
    "        total = sum(transition.values())\n",
    "        for state, count in transition.items():\n",
    "            markov_model[curr_state][state] = count/total\n",
    "        \n",
    "    return markov_model"
   ]
  },
  {
   "cell_type": "code",
   "execution_count": 5,
   "metadata": {
    "execution": {
     "iopub.execute_input": "2023-04-04T03:29:07.289854Z",
     "iopub.status.busy": "2023-04-04T03:29:07.289156Z",
     "iopub.status.idle": "2023-04-04T03:29:13.224568Z",
     "shell.execute_reply": "2023-04-04T03:29:13.224002Z",
     "shell.execute_reply.started": "2023-04-04T03:26:20.095972Z"
    },
    "papermill": {
     "duration": 5.950544,
     "end_time": "2023-04-04T03:29:13.224715",
     "exception": false,
     "start_time": "2023-04-04T03:29:07.274171",
     "status": "completed"
    },
    "tags": []
   },
   "outputs": [],
   "source": [
    "markov_model = make_markov_model(cleaned_stories)"
   ]
  },
  {
   "cell_type": "code",
   "execution_count": 6,
   "metadata": {
    "execution": {
     "iopub.execute_input": "2023-04-04T03:29:13.255465Z",
     "iopub.status.busy": "2023-04-04T03:29:13.254764Z",
     "iopub.status.idle": "2023-04-04T03:29:13.258088Z",
     "shell.execute_reply": "2023-04-04T03:29:13.258728Z",
     "shell.execute_reply.started": "2023-04-04T03:26:26.322041Z"
    },
    "papermill": {
     "duration": 0.021906,
     "end_time": "2023-04-04T03:29:13.258893",
     "exception": false,
     "start_time": "2023-04-04T03:29:13.236987",
     "status": "completed"
    },
    "tags": []
   },
   "outputs": [
    {
     "name": "stdout",
     "output_type": "stream",
     "text": [
      "number of states =  208716\n"
     ]
    }
   ],
   "source": [
    "print(\"number of states = \", len(markov_model.keys()))"
   ]
  },
  {
   "cell_type": "code",
   "execution_count": 7,
   "metadata": {
    "execution": {
     "iopub.execute_input": "2023-04-04T03:29:13.289967Z",
     "iopub.status.busy": "2023-04-04T03:29:13.289261Z",
     "iopub.status.idle": "2023-04-04T03:29:13.292596Z",
     "shell.execute_reply": "2023-04-04T03:29:13.292029Z",
     "shell.execute_reply.started": "2023-04-04T03:26:28.855140Z"
    },
    "papermill": {
     "duration": 0.021105,
     "end_time": "2023-04-04T03:29:13.292721",
     "exception": false,
     "start_time": "2023-04-04T03:29:13.271616",
     "status": "completed"
    },
    "tags": []
   },
   "outputs": [
    {
     "name": "stdout",
     "output_type": "stream",
     "text": [
      "All possible transitions from 'the game' state: \n",
      "\n",
      "{'my own': 0.02702702702702703, 'at any': 0.02702702702702703, 'mr holmes': 0.02702702702702703, 'ay whats': 0.02702702702702703, 'my friend': 0.02702702702702703, 'fairly by': 0.02702702702702703, 'is not': 0.02702702702702703, 'was not': 0.02702702702702703, 'is hardly': 0.02702702702702703, 'was in': 0.02702702702702703, 'would have': 0.036036036036036036, 'is up': 0.06306306306306306, 'is and': 0.036036036036036036, 'in their': 0.036036036036036036, 'was whist': 0.036036036036036036, 'was up': 0.09009009009009009, 'in that': 0.036036036036036036, 'the lack': 0.036036036036036036, 'for all': 0.06306306306306306, 'is afoot': 0.036036036036036036, 'may wander': 0.02702702702702703, 'now a': 0.02702702702702703, 'was afoot': 0.036036036036036036, 'for the': 0.036036036036036036, 'worth it': 0.02702702702702703, 'you are': 0.02702702702702703, 'i am': 0.02702702702702703, 'now count': 0.02702702702702703, 'your letter': 0.02702702702702703}\n"
     ]
    }
   ],
   "source": [
    "print(\"All possible transitions from 'the game' state: \\n\")\n",
    "print(markov_model['the game'])"
   ]
  },
  {
   "cell_type": "markdown",
   "metadata": {
    "papermill": {
     "duration": 0.012419,
     "end_time": "2023-04-04T03:29:13.317859",
     "exception": false,
     "start_time": "2023-04-04T03:29:13.305440",
     "status": "completed"
    },
    "tags": []
   },
   "source": [
    "## Generating Sherlock Holmes stories!"
   ]
  },
  {
   "cell_type": "code",
   "execution_count": 8,
   "metadata": {
    "execution": {
     "iopub.execute_input": "2023-04-04T03:29:13.352808Z",
     "iopub.status.busy": "2023-04-04T03:29:13.352057Z",
     "iopub.status.idle": "2023-04-04T03:29:13.354620Z",
     "shell.execute_reply": "2023-04-04T03:29:13.355126Z",
     "shell.execute_reply.started": "2023-04-04T03:26:38.234849Z"
    },
    "papermill": {
     "duration": 0.023284,
     "end_time": "2023-04-04T03:29:13.355277",
     "exception": false,
     "start_time": "2023-04-04T03:29:13.331993",
     "status": "completed"
    },
    "tags": []
   },
   "outputs": [],
   "source": [
    "def generate_story(markov_model, limit=100, start='my god'):\n",
    "    n = 0\n",
    "    curr_state = start\n",
    "    next_state = None\n",
    "    story = \"\"\n",
    "    story+=curr_state+\" \"\n",
    "    while n<limit:\n",
    "        next_state = random.choices(list(markov_model[curr_state].keys()),\n",
    "                                    list(markov_model[curr_state].values()))\n",
    "        \n",
    "        curr_state = next_state[0]\n",
    "        story+=curr_state+\" \"\n",
    "        n+=1\n",
    "    return story"
   ]
  },
  {
   "cell_type": "code",
   "execution_count": 9,
   "metadata": {
    "execution": {
     "iopub.execute_input": "2023-04-04T03:29:13.384168Z",
     "iopub.status.busy": "2023-04-04T03:29:13.383528Z",
     "iopub.status.idle": "2023-04-04T03:29:13.400178Z",
     "shell.execute_reply": "2023-04-04T03:29:13.399534Z",
     "shell.execute_reply.started": "2023-04-04T03:26:44.115640Z"
    },
    "papermill": {
     "duration": 0.032274,
     "end_time": "2023-04-04T03:29:13.400299",
     "exception": false,
     "start_time": "2023-04-04T03:29:13.368025",
     "status": "completed"
    },
    "tags": []
   },
   "outputs": [
    {
     "name": "stdout",
     "output_type": "stream",
     "text": [
      "0.  dear holmes oh yes mr holmes i do not know how i came to you for a hundred \n",
      "1.  dear holmes am i right certainly but how do you know that anything she is accused of is \n",
      "2.  dear holmes you are right said the stranger there was no possible resistance under the menace in his \n",
      "3.  dear holmes he has been concerned in it and no fresh light had been opened to admit the \n",
      "4.  dear holmes said i i thought you were asked to step up wiggins i was surprised to hear \n",
      "5.  dear holmes my previous letters and no marking upon the tor it is true said sir henry it \n",
      "6.  dear holmes he has done to cure her of her for the legal expenses connected with the death \n",
      "7.  dear holmes oh yes i am a man should keep his little boy home a box of vestas \n",
      "8.  dear holmes what do you think then that had tasted blood if sarah had been there since one \n",
      "9.  dear holmes said i he shrugged his shoulders and lit the lamp in the place and i had \n",
      "10.  dear holmes i have obeyed my fathers wish in seeing you but what is very clear so far \n",
      "11.  dear holmes am i to know mr gilchrist the student had drawn an envelope from her and i \n",
      "12.  dear holmes oh yes i should have come to me to be further from him and to marry \n",
      "13.  dear holmes and tell you more than ever the light of the forms this is it possible that \n",
      "14.  dear holmes it is fair to you to say dont imagine that the word moor should have been \n",
      "15.  dear holmes i fear my dear fellow said he in his blandest manner to something entirely different it \n",
      "16.  dear holmes it is nearly half a mile brought us together and then what is this there was \n",
      "17.  dear holmes that i was thoroughly earning my fee suddenly without any premonition of his fate upon the \n",
      "18.  dear holmes i thought we are interesting ourselves in his work and to fly with him and i \n",
      "19.  dear holmes if i irritated him by a thick pen and these gentlemen this is mr soamess tea \n"
     ]
    }
   ],
   "source": [
    "for i in range(20):\n",
    "    print(str(i)+\". \", generate_story(markov_model, start=\"dear holmes\", limit=8))"
   ]
  },
  {
   "cell_type": "code",
   "execution_count": 10,
   "metadata": {
    "execution": {
     "iopub.execute_input": "2023-04-04T03:29:13.430871Z",
     "iopub.status.busy": "2023-04-04T03:29:13.429881Z",
     "iopub.status.idle": "2023-04-04T03:29:13.445838Z",
     "shell.execute_reply": "2023-04-04T03:29:13.445146Z",
     "shell.execute_reply.started": "2023-04-04T03:26:50.927333Z"
    },
    "papermill": {
     "duration": 0.032552,
     "end_time": "2023-04-04T03:29:13.445961",
     "exception": false,
     "start_time": "2023-04-04T03:29:13.413409",
     "status": "completed"
    },
    "tags": []
   },
   "outputs": [
    {
     "name": "stdout",
     "output_type": "stream",
     "text": [
      "0.  my dear watson to stop the service and he is to send him to come to me again \n",
      "1.  my dear watson do you imagine what it all means and let me give such orders as i \n",
      "2.  my dear watson said he there must be someone from america because she had resolved to stick together \n",
      "3.  my dear watson said she for three days longer and there was nothing immediate that i could help \n",
      "4.  my dear chap i had seen it in behalf of three of our men we are both very \n",
      "5.  my dear watson there is nothing else of importance here but i am so glad you have come \n",
      "6.  my dear fellow no one can not see across the mountains on each side of his dark eyes \n",
      "7.  my dear fellow i cried approaching him stand back stand right back and let me have my rest \n",
      "8.  my dear watson that at two oclock au revoir and we heard a cry in which two boys \n",
      "9.  my dear watson he paused after each sentence to collect his failing had ceased to be of a \n",
      "10.  my dear sir knowing the vindictive character of his old carelessness of your servant a sudden suspicion seized \n",
      "11.  my dear watson i am very delighted to hear it from your own lips he said scanlan groaned \n",
      "12.  my dear watson said he i repeated it as i walked down the quaint old devonshire city inspector \n",
      "13.  my dear fellow you have been even more affected than i you holmes answered the money well yes \n",
      "14.  my dear arthur i screamed you villain you thief how dare you touch that box you see we \n",
      "15.  my dear fellow you have been a very tall young fellow mounted on a large blue envelope in \n",
      "16.  my dear sir i am cyril overton then it is rather pathetic figure the glare from the streamed \n",
      "17.  my dear watson the fact is that i should secure your i shall be busy this afternoon and \n",
      "18.  my dear mr mac but hardly had the effect of some of the root of the most overwhelming \n",
      "19.  my dear fellow said a woman to death and two officers waiting at the other side of the \n"
     ]
    }
   ],
   "source": [
    "for i in range(20):\n",
    "    print(str(i)+\". \", generate_story(markov_model, start=\"my dear\", limit=8))"
   ]
  },
  {
   "cell_type": "code",
   "execution_count": 11,
   "metadata": {
    "execution": {
     "iopub.execute_input": "2023-04-04T03:29:13.480032Z",
     "iopub.status.busy": "2023-04-04T03:29:13.478226Z",
     "iopub.status.idle": "2023-04-04T03:29:13.490227Z",
     "shell.execute_reply": "2023-04-04T03:29:13.489228Z",
     "shell.execute_reply.started": "2023-04-04T03:26:56.480625Z"
    },
    "papermill": {
     "duration": 0.030788,
     "end_time": "2023-04-04T03:29:13.490437",
     "exception": false,
     "start_time": "2023-04-04T03:29:13.459649",
     "status": "completed"
    },
    "tags": []
   },
   "outputs": [
    {
     "name": "stdout",
     "output_type": "stream",
     "text": [
      "0.  i would go round the house was none other than the opium den and who was orderly in \n",
      "1.  i would not have shone upon his eager mind and from that mr douglas that day but i \n",
      "2.  i would care if it was a drive and the beast save from what you say mr white \n",
      "3.  i would only ask you now she has passed through my mind and trying to find out what \n",
      "4.  i would ask you who shared your cab in your own mind i can hardly put my foot \n",
      "5.  i would go away and saying that he has returned after me oh no my friend a chill \n",
      "6.  i would have had her when the mutiny and has many calls upon me and went on up \n",
      "7.  i would say nothing thereof to their sister elizabeth when dr mortimer has read to us sir that \n",
      "8.  i would lay a peculiar instrument a brown chest of drawers in the room all day in the \n",
      "9.  i would also urge that the circumstances did not admit that it can be indicated by that right \n",
      "10.  i would give my little impersonations your kindly praise it was you speak as if he were standing \n",
      "11.  i would just ask ye when we want no stranger either came or went yesterday have you had \n",
      "12.  i would have allowed any harm has befallen me in it is an old nurse of my wifes \n",
      "13.  i would handle it gingerly if i were just as plain as i can not think me rude \n",
      "14.  i would take my practice very good i think you have already been assaulted my dear watson how \n",
      "15.  i would say nothing of the tragedy this conversation had taken place in the affair cornelius might be \n",
      "16.  i would say nothing but to get a move on him ill not a regular you have the \n",
      "17.  i would not venture to say that he is right james never did it its cost me two \n",
      "18.  i would have had work enough already through you however that his lateness caused me no but i \n",
      "19.  i would rather answer no questions well if we cant we cant find where the far distance with \n"
     ]
    }
   ],
   "source": [
    "for i in range(20):\n",
    "    print(str(i)+\". \", generate_story(markov_model, start=\"i would\", limit=8))"
   ]
  },
  {
   "cell_type": "code",
   "execution_count": 12,
   "metadata": {
    "execution": {
     "iopub.execute_input": "2023-04-04T03:29:13.526521Z",
     "iopub.status.busy": "2023-04-04T03:29:13.525636Z",
     "iopub.status.idle": "2023-04-04T03:29:13.530005Z",
     "shell.execute_reply": "2023-04-04T03:29:13.529350Z",
     "shell.execute_reply.started": "2023-04-04T03:27:03.702875Z"
    },
    "papermill": {
     "duration": 0.025228,
     "end_time": "2023-04-04T03:29:13.530121",
     "exception": false,
     "start_time": "2023-04-04T03:29:13.504893",
     "status": "completed"
    },
    "tags": []
   },
   "outputs": [
    {
     "name": "stdout",
     "output_type": "stream",
     "text": [
      "the case of pondicherry lodge sherlock holmes was threatened with a prosecution must be more than i could see that no apology to me by its suppression as far as i know that now and forever he pushed past the couch to the open window we could see no better known family in the temple it was a normal human being every one was a severely furnished and the lady how dared i offer than to observe him from the scene i have a look at the place of silver blaze i have seen the will but the address is either done with another passage running into it but the greeting appeared to come for half an hour or two things about moriarty which may interest the reader now at present i can give them are they blood stains or fruit stains or what he was said lestrade anyhow we have no more to do with the matter this is what began it all mean i gasped it means that we shall soon see the end a shadow passed over the gaunt features of great interest have you might have been chiselled in granite craggy remorseless with deep distrust the stranger who \n"
     ]
    }
   ],
   "source": [
    "print(generate_story(markov_model, start=\"the case\", limit=100))"
   ]
  }
 ],
 "metadata": {
  "kernelspec": {
   "display_name": "Python 3",
   "language": "python",
   "name": "python3"
  },
  "language_info": {
   "codemirror_mode": {
    "name": "ipython",
    "version": 3
   },
   "file_extension": ".py",
   "mimetype": "text/x-python",
   "name": "python",
   "nbconvert_exporter": "python",
   "pygments_lexer": "ipython3",
   "version": "3.7.6"
  },
  "papermill": {
   "duration": 40.310502,
   "end_time": "2023-04-04T03:29:13.652177",
   "environment_variables": {},
   "exception": null,
   "input_path": "__notebook__.ipynb",
   "output_path": "__notebook__.ipynb",
   "parameters": {},
   "start_time": "2023-04-04T03:28:33.341675",
   "version": "2.1.0"
  }
 },
 "nbformat": 4,
 "nbformat_minor": 4
}
