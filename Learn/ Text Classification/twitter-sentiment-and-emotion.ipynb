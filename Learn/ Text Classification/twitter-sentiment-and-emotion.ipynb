{
 "cells": [
  {
   "cell_type": "markdown",
   "id": "35d391bf",
   "metadata": {
    "papermill": {
     "duration": 0.004357,
     "end_time": "2022-11-17T03:23:38.993816",
     "exception": false,
     "start_time": "2022-11-17T03:23:38.989459",
     "status": "completed"
    },
    "tags": []
   },
   "source": [
    "## Load necessary Libraries"
   ]
  },
  {
   "cell_type": "code",
   "execution_count": 1,
   "id": "953fcfd7",
   "metadata": {
    "execution": {
     "iopub.execute_input": "2022-11-17T03:23:39.004043Z",
     "iopub.status.busy": "2022-11-17T03:23:39.003327Z",
     "iopub.status.idle": "2022-11-17T03:23:41.459738Z",
     "shell.execute_reply": "2022-11-17T03:23:41.457871Z"
    },
    "papermill": {
     "duration": 2.466587,
     "end_time": "2022-11-17T03:23:41.464006",
     "exception": false,
     "start_time": "2022-11-17T03:23:38.997419",
     "status": "completed"
    },
    "tags": []
   },
   "outputs": [
    {
     "name": "stdout",
     "output_type": "stream",
     "text": [
      "/kaggle/input/emotion-detection-from-text/tweet_emotions.csv\n"
     ]
    }
   ],
   "source": [
    "import warnings\n",
    "warnings.filterwarnings('ignore')\n",
    "import pandas as pd\n",
    "import nltk\n",
    "#nltk.download('stopwords')\n",
    "from nltk.tokenize import TweetTokenizer\n",
    "from nltk.corpus import stopwords\n",
    "from sklearn.model_selection import train_test_split\n",
    "from gensim.models.doc2vec import Doc2Vec, TaggedDocument\n",
    "\n",
    "import os\n",
    "for dirname, _, filenames in os.walk('/kaggle/input'):\n",
    "    for filename in filenames:\n",
    "        print(os.path.join(dirname, filename))"
   ]
  },
  {
   "cell_type": "markdown",
   "id": "32e83816",
   "metadata": {
    "papermill": {
     "duration": 0.003097,
     "end_time": "2022-11-17T03:23:41.470994",
     "exception": false,
     "start_time": "2022-11-17T03:23:41.467897",
     "status": "completed"
    },
    "tags": []
   },
   "source": [
    "## Load the datasets"
   ]
  },
  {
   "cell_type": "code",
   "execution_count": 2,
   "id": "fd0b5a6d",
   "metadata": {
    "execution": {
     "iopub.execute_input": "2022-11-17T03:23:41.480689Z",
     "iopub.status.busy": "2022-11-17T03:23:41.480253Z",
     "iopub.status.idle": "2022-11-17T03:23:41.674588Z",
     "shell.execute_reply": "2022-11-17T03:23:41.673120Z"
    },
    "papermill": {
     "duration": 0.202552,
     "end_time": "2022-11-17T03:23:41.677299",
     "exception": false,
     "start_time": "2022-11-17T03:23:41.474747",
     "status": "completed"
    },
    "tags": []
   },
   "outputs": [
    {
     "name": "stdout",
     "output_type": "stream",
     "text": [
      "(40000, 3)\n"
     ]
    },
    {
     "data": {
      "text/html": [
       "<div>\n",
       "<style scoped>\n",
       "    .dataframe tbody tr th:only-of-type {\n",
       "        vertical-align: middle;\n",
       "    }\n",
       "\n",
       "    .dataframe tbody tr th {\n",
       "        vertical-align: top;\n",
       "    }\n",
       "\n",
       "    .dataframe thead th {\n",
       "        text-align: right;\n",
       "    }\n",
       "</style>\n",
       "<table border=\"1\" class=\"dataframe\">\n",
       "  <thead>\n",
       "    <tr style=\"text-align: right;\">\n",
       "      <th></th>\n",
       "      <th>tweet_id</th>\n",
       "      <th>sentiment</th>\n",
       "      <th>content</th>\n",
       "    </tr>\n",
       "  </thead>\n",
       "  <tbody>\n",
       "    <tr>\n",
       "      <th>0</th>\n",
       "      <td>1956967341</td>\n",
       "      <td>empty</td>\n",
       "      <td>@tiffanylue i know  i was listenin to bad habi...</td>\n",
       "    </tr>\n",
       "    <tr>\n",
       "      <th>1</th>\n",
       "      <td>1956967666</td>\n",
       "      <td>sadness</td>\n",
       "      <td>Layin n bed with a headache  ughhhh...waitin o...</td>\n",
       "    </tr>\n",
       "    <tr>\n",
       "      <th>2</th>\n",
       "      <td>1956967696</td>\n",
       "      <td>sadness</td>\n",
       "      <td>Funeral ceremony...gloomy friday...</td>\n",
       "    </tr>\n",
       "    <tr>\n",
       "      <th>3</th>\n",
       "      <td>1956967789</td>\n",
       "      <td>enthusiasm</td>\n",
       "      <td>wants to hang out with friends SOON!</td>\n",
       "    </tr>\n",
       "    <tr>\n",
       "      <th>4</th>\n",
       "      <td>1956968416</td>\n",
       "      <td>neutral</td>\n",
       "      <td>@dannycastillo We want to trade with someone w...</td>\n",
       "    </tr>\n",
       "  </tbody>\n",
       "</table>\n",
       "</div>"
      ],
      "text/plain": [
       "     tweet_id   sentiment                                            content\n",
       "0  1956967341       empty  @tiffanylue i know  i was listenin to bad habi...\n",
       "1  1956967666     sadness  Layin n bed with a headache  ughhhh...waitin o...\n",
       "2  1956967696     sadness                Funeral ceremony...gloomy friday...\n",
       "3  1956967789  enthusiasm               wants to hang out with friends SOON!\n",
       "4  1956968416     neutral  @dannycastillo We want to trade with someone w..."
      ]
     },
     "execution_count": 2,
     "metadata": {},
     "output_type": "execute_result"
    }
   ],
   "source": [
    "df = pd.read_csv('/kaggle/input/emotion-detection-from-text/tweet_emotions.csv')\n",
    "print(df.shape)\n",
    "df.head()"
   ]
  },
  {
   "cell_type": "code",
   "execution_count": 3,
   "id": "a9fc2517",
   "metadata": {
    "execution": {
     "iopub.execute_input": "2022-11-17T03:23:41.687135Z",
     "iopub.status.busy": "2022-11-17T03:23:41.685996Z",
     "iopub.status.idle": "2022-11-17T03:23:41.705637Z",
     "shell.execute_reply": "2022-11-17T03:23:41.704397Z"
    },
    "papermill": {
     "duration": 0.027258,
     "end_time": "2022-11-17T03:23:41.708305",
     "exception": false,
     "start_time": "2022-11-17T03:23:41.681047",
     "status": "completed"
    },
    "tags": []
   },
   "outputs": [
    {
     "data": {
      "text/plain": [
       "neutral       8638\n",
       "worry         8459\n",
       "happiness     5209\n",
       "sadness       5165\n",
       "love          3842\n",
       "surprise      2187\n",
       "fun           1776\n",
       "relief        1526\n",
       "hate          1323\n",
       "empty          827\n",
       "enthusiasm     759\n",
       "boredom        179\n",
       "anger          110\n",
       "Name: sentiment, dtype: int64"
      ]
     },
     "execution_count": 3,
     "metadata": {},
     "output_type": "execute_result"
    }
   ],
   "source": [
    "df['sentiment'].value_counts()"
   ]
  },
  {
   "cell_type": "code",
   "execution_count": 4,
   "id": "d65823a3",
   "metadata": {
    "execution": {
     "iopub.execute_input": "2022-11-17T03:23:41.717485Z",
     "iopub.status.busy": "2022-11-17T03:23:41.717074Z",
     "iopub.status.idle": "2022-11-17T03:23:41.732807Z",
     "shell.execute_reply": "2022-11-17T03:23:41.731352Z"
    },
    "papermill": {
     "duration": 0.024148,
     "end_time": "2022-11-17T03:23:41.736205",
     "exception": false,
     "start_time": "2022-11-17T03:23:41.712057",
     "status": "completed"
    },
    "tags": []
   },
   "outputs": [
    {
     "data": {
      "text/plain": [
       "(22306, 3)"
      ]
     },
     "execution_count": 4,
     "metadata": {},
     "output_type": "execute_result"
    }
   ],
   "source": [
    "#Let us take the top 3 categories and leave out the rest.\n",
    "shortlist = ['neutral', \"happiness\", \"worry\"]\n",
    "df_subset = df[df['sentiment'].isin(shortlist)]\n",
    "df_subset.shape"
   ]
  },
  {
   "cell_type": "markdown",
   "id": "5299713f",
   "metadata": {
    "papermill": {
     "duration": 0.003498,
     "end_time": "2022-11-17T03:23:41.743719",
     "exception": false,
     "start_time": "2022-11-17T03:23:41.740221",
     "status": "completed"
    },
    "tags": []
   },
   "source": [
    "## Text pre-processing:\n",
    "Tweets are different. Somethings to consider:\n",
    "- Removing @mentions, and urls perhaps?\n",
    "- using NLTK Tweet tokenizer instead of a regular one\n",
    "- stopwords, numbers as usual."
   ]
  },
  {
   "cell_type": "code",
   "execution_count": 5,
   "id": "d959215b",
   "metadata": {
    "execution": {
     "iopub.execute_input": "2022-11-17T03:23:41.753818Z",
     "iopub.status.busy": "2022-11-17T03:23:41.752672Z",
     "iopub.status.idle": "2022-11-17T03:23:43.992778Z",
     "shell.execute_reply": "2022-11-17T03:23:43.991359Z"
    },
    "papermill": {
     "duration": 2.248715,
     "end_time": "2022-11-17T03:23:43.996228",
     "exception": false,
     "start_time": "2022-11-17T03:23:41.747513",
     "status": "completed"
    },
    "tags": []
   },
   "outputs": [
    {
     "name": "stdout",
     "output_type": "stream",
     "text": [
      "22306 22306\n"
     ]
    }
   ],
   "source": [
    "#strip_handles removes personal information such as twitter handles, which don't\n",
    "#contribute to emotion in the tweet. preserve_case=False converts everything to lowercase.\n",
    "tweeter = TweetTokenizer(strip_handles=True,preserve_case=False)\n",
    "mystopwords = set(stopwords.words(\"english\"))\n",
    "\n",
    "#Function to tokenize tweets, remove stopwords and numbers. \n",
    "#Keeping punctuations and emoticon symbols could be relevant for this task!\n",
    "def preprocess_corpus(texts):\n",
    "    def remove_stops_digits(tokens):\n",
    "        #Nested function that removes stopwords and digits from a list of tokens\n",
    "        return [token for token in tokens if token not in mystopwords and not token.isdigit()]\n",
    "    #This return statement below uses the above function to process twitter tokenizer output further. \n",
    "    return [remove_stops_digits(tweeter.tokenize(content)) for content in texts]\n",
    "\n",
    "#df_subset contains only the three categories we chose. \n",
    "mydata = preprocess_corpus(df_subset['content'])\n",
    "mycats = df_subset['sentiment']\n",
    "print(len(mydata), len(mycats))"
   ]
  },
  {
   "cell_type": "code",
   "execution_count": 6,
   "id": "6645802e",
   "metadata": {
    "execution": {
     "iopub.execute_input": "2022-11-17T03:23:44.008147Z",
     "iopub.status.busy": "2022-11-17T03:23:44.007579Z",
     "iopub.status.idle": "2022-11-17T03:26:36.819537Z",
     "shell.execute_reply": "2022-11-17T03:26:36.818241Z"
    },
    "papermill": {
     "duration": 172.82466,
     "end_time": "2022-11-17T03:26:36.825603",
     "exception": false,
     "start_time": "2022-11-17T03:23:44.000943",
     "status": "completed"
    },
    "tags": []
   },
   "outputs": [
    {
     "name": "stdout",
     "output_type": "stream",
     "text": [
      "Model Saved\n"
     ]
    }
   ],
   "source": [
    "#Split data into train and test, following the usual process\n",
    "train_data, test_data, train_cats, test_cats = train_test_split(mydata,mycats,random_state=1234)\n",
    "\n",
    "#prepare training data in doc2vec format:\n",
    "train_doc2vec = [TaggedDocument((d), tags=[str(i)]) for i, d in enumerate(train_data)]\n",
    "#Train a doc2vec model to learn tweet representations. Use only training data!!\n",
    "model = Doc2Vec(vector_size=50, alpha=0.025, min_count=5, dm =1, epochs=100)\n",
    "model.build_vocab(train_doc2vec)\n",
    "model.train(train_doc2vec, total_examples=model.corpus_count, epochs=model.epochs)\n",
    "model.save(\"d2v.model\")\n",
    "print(\"Model Saved\")"
   ]
  },
  {
   "cell_type": "code",
   "execution_count": 7,
   "id": "cf5bf8e8",
   "metadata": {
    "execution": {
     "iopub.execute_input": "2022-11-17T03:26:36.837579Z",
     "iopub.status.busy": "2022-11-17T03:26:36.837143Z",
     "iopub.status.idle": "2022-11-17T03:27:59.341767Z",
     "shell.execute_reply": "2022-11-17T03:27:59.340524Z"
    },
    "papermill": {
     "duration": 82.516817,
     "end_time": "2022-11-17T03:27:59.347897",
     "exception": false,
     "start_time": "2022-11-17T03:26:36.831080",
     "status": "completed"
    },
    "tags": []
   },
   "outputs": [
    {
     "name": "stdout",
     "output_type": "stream",
     "text": [
      "              precision    recall  f1-score   support\n",
      "\n",
      "   happiness       0.47      0.54      0.51      1331\n",
      "     neutral       0.48      0.57      0.52      2143\n",
      "       worry       0.57      0.40      0.47      2103\n",
      "\n",
      "    accuracy                           0.50      5577\n",
      "   macro avg       0.51      0.50      0.50      5577\n",
      "weighted avg       0.51      0.50      0.50      5577\n",
      "\n"
     ]
    }
   ],
   "source": [
    "#Infer the feature representation for training and test data using the trained model\n",
    "model= Doc2Vec.load(\"d2v.model\")\n",
    "#infer in multiple steps to get a stable representation. \n",
    "train_vectors =  [model.infer_vector(list_of_tokens, steps=50) for list_of_tokens in train_data]\n",
    "test_vectors = [model.infer_vector(list_of_tokens, steps=50) for list_of_tokens in test_data]\n",
    "\n",
    "#Use any regular classifier like logistic regression\n",
    "from sklearn.linear_model import LogisticRegression\n",
    "\n",
    "myclass = LogisticRegression(class_weight=\"balanced\") #because classes are not balanced. \n",
    "myclass.fit(train_vectors, train_cats)\n",
    "\n",
    "preds = myclass.predict(test_vectors)\n",
    "from sklearn.metrics import classification_report, confusion_matrix\n",
    "print(classification_report(test_cats, preds))\n",
    "\n",
    "#print(confusion_matrix(test_cats,preds))"
   ]
  }
 ],
 "metadata": {
  "kernelspec": {
   "display_name": "Python 3",
   "language": "python",
   "name": "python3"
  },
  "language_info": {
   "codemirror_mode": {
    "name": "ipython",
    "version": 3
   },
   "file_extension": ".py",
   "mimetype": "text/x-python",
   "name": "python",
   "nbconvert_exporter": "python",
   "pygments_lexer": "ipython3",
   "version": "3.7.12"
  },
  "papermill": {
   "default_parameters": {},
   "duration": 271.216014,
   "end_time": "2022-11-17T03:28:00.276460",
   "environment_variables": {},
   "exception": null,
   "input_path": "__notebook__.ipynb",
   "output_path": "__notebook__.ipynb",
   "parameters": {},
   "start_time": "2022-11-17T03:23:29.060446",
   "version": "2.3.4"
  }
 },
 "nbformat": 4,
 "nbformat_minor": 5
}
