{
 "cells": [
  {
   "cell_type": "markdown",
   "id": "1935e70d",
   "metadata": {
    "papermill": {
     "duration": 0.006028,
     "end_time": "2022-11-16T04:19:49.064166",
     "exception": false,
     "start_time": "2022-11-16T04:19:49.058138",
     "status": "completed"
    },
    "tags": []
   },
   "source": [
    "## Training Embeddings Using Gensim"
   ]
  },
  {
   "cell_type": "code",
   "execution_count": 1,
   "id": "067fb672",
   "metadata": {
    "execution": {
     "iopub.execute_input": "2022-11-16T04:19:49.075298Z",
     "iopub.status.busy": "2022-11-16T04:19:49.074827Z",
     "iopub.status.idle": "2022-11-16T04:19:49.087040Z",
     "shell.execute_reply": "2022-11-16T04:19:49.085566Z"
    },
    "papermill": {
     "duration": 0.021177,
     "end_time": "2022-11-16T04:19:49.090026",
     "exception": false,
     "start_time": "2022-11-16T04:19:49.068849",
     "status": "completed"
    },
    "tags": []
   },
   "outputs": [],
   "source": [
    "import os\n",
    "for dirname, _, filenames in os.walk('/kaggle/input'):\n",
    "    for filename in filenames:\n",
    "        print(os.path.join(dirname, filename))"
   ]
  },
  {
   "cell_type": "code",
   "execution_count": 2,
   "id": "7f906757",
   "metadata": {
    "execution": {
     "iopub.execute_input": "2022-11-16T04:19:49.101616Z",
     "iopub.status.busy": "2022-11-16T04:19:49.101166Z",
     "iopub.status.idle": "2022-11-16T04:19:50.436339Z",
     "shell.execute_reply": "2022-11-16T04:19:50.435113Z"
    },
    "papermill": {
     "duration": 1.34449,
     "end_time": "2022-11-16T04:19:50.439366",
     "exception": false,
     "start_time": "2022-11-16T04:19:49.094876",
     "status": "completed"
    },
    "tags": []
   },
   "outputs": [],
   "source": [
    "from gensim.models import Word2Vec\n",
    "import warnings\n",
    "warnings.filterwarnings('ignore')"
   ]
  },
  {
   "cell_type": "code",
   "execution_count": 3,
   "id": "80444000",
   "metadata": {
    "execution": {
     "iopub.execute_input": "2022-11-16T04:19:50.451035Z",
     "iopub.status.busy": "2022-11-16T04:19:50.449621Z",
     "iopub.status.idle": "2022-11-16T04:19:50.483060Z",
     "shell.execute_reply": "2022-11-16T04:19:50.481730Z"
    },
    "papermill": {
     "duration": 0.042504,
     "end_time": "2022-11-16T04:19:50.486325",
     "exception": false,
     "start_time": "2022-11-16T04:19:50.443821",
     "status": "completed"
    },
    "tags": []
   },
   "outputs": [],
   "source": [
    "# define training data\n",
    "#Genism word2vec requires that a format of ‘list of lists’ be provided for training where every document contained in a list.\n",
    "#Every list contains lists of tokens of that document.\n",
    "corpus = [['dog','bites','man'], [\"man\", \"bites\" ,\"dog\"],[\"dog\",\"eats\",\"meat\"],[\"man\", \"eats\",\"food\"]]\n",
    "\n",
    "#Training the model\n",
    "model_cbow = Word2Vec(corpus, min_count=1,sg=0) #using CBOW Architecture for trainnig\n",
    "model_skipgram = Word2Vec(corpus, min_count=1,sg=1)#using skipGram Architecture for training "
   ]
  },
  {
   "cell_type": "markdown",
   "id": "f804a7e2",
   "metadata": {
    "papermill": {
     "duration": 0.004504,
     "end_time": "2022-11-16T04:19:50.495974",
     "exception": false,
     "start_time": "2022-11-16T04:19:50.491470",
     "status": "completed"
    },
    "tags": []
   },
   "source": [
    "## Continuous Bag of Words (CBOW)\n",
    "In CBOW, the primary task is to build a language model that correctly predicts the center word given the context words in which the center word appears."
   ]
  },
  {
   "cell_type": "code",
   "execution_count": 4,
   "id": "25d077a4",
   "metadata": {
    "execution": {
     "iopub.execute_input": "2022-11-16T04:19:50.507289Z",
     "iopub.status.busy": "2022-11-16T04:19:50.506878Z",
     "iopub.status.idle": "2022-11-16T04:19:50.522354Z",
     "shell.execute_reply": "2022-11-16T04:19:50.521045Z"
    },
    "papermill": {
     "duration": 0.024124,
     "end_time": "2022-11-16T04:19:50.524859",
     "exception": false,
     "start_time": "2022-11-16T04:19:50.500735",
     "status": "completed"
    },
    "tags": []
   },
   "outputs": [
    {
     "name": "stdout",
     "output_type": "stream",
     "text": [
      "Word2Vec(vocab=6, vector_size=100, alpha=0.025)\n",
      "['man', 'dog', 'eats', 'bites', 'food', 'meat']\n",
      "Index of [man] --> 0\n",
      "Index of [dog] --> 1\n",
      "Index of [eats] --> 2\n"
     ]
    },
    {
     "data": {
      "text/plain": [
       "array([-8.6196875e-03,  3.6657380e-03,  5.1898835e-03,  5.7419371e-03,\n",
       "        7.4669169e-03, -6.1676763e-03,  1.1056137e-03,  6.0472824e-03,\n",
       "       -2.8400517e-03, -6.1735227e-03, -4.1022300e-04, -8.3689503e-03,\n",
       "       -5.6000138e-03,  7.1045374e-03,  3.3525396e-03,  7.2256685e-03,\n",
       "        6.8002464e-03,  7.5307419e-03, -3.7891555e-03, -5.6180713e-04,\n",
       "        2.3483753e-03, -4.5190332e-03,  8.3887316e-03, -9.8581649e-03,\n",
       "        6.7646410e-03,  2.9144168e-03, -4.9328329e-03,  4.3981862e-03,\n",
       "       -1.7395759e-03,  6.7113829e-03,  9.9648498e-03, -4.3624449e-03,\n",
       "       -5.9933902e-04, -5.6956387e-03,  3.8508223e-03,  2.7866268e-03,\n",
       "        6.8910765e-03,  6.1010956e-03,  9.5384959e-03,  9.2734173e-03,\n",
       "        7.8980681e-03, -6.9895051e-03, -9.1558648e-03, -3.5575390e-04,\n",
       "       -3.0998420e-03,  7.8943158e-03,  5.9385728e-03, -1.5456629e-03,\n",
       "        1.5109634e-03,  1.7900396e-03,  7.8175711e-03, -9.5101884e-03,\n",
       "       -2.0553112e-04,  3.4691954e-03, -9.3897345e-04,  8.3817719e-03,\n",
       "        9.0107825e-03,  6.5365052e-03, -7.1162224e-04,  7.7104042e-03,\n",
       "       -8.5343365e-03,  3.2071066e-03, -4.6379971e-03, -5.0889566e-03,\n",
       "        3.5896183e-03,  5.3703380e-03,  7.7695129e-03, -5.7665063e-03,\n",
       "        7.4333595e-03,  6.6254949e-03, -3.7098003e-03, -8.7456414e-03,\n",
       "        5.4374672e-03,  6.5097548e-03, -7.8755140e-04, -6.7098569e-03,\n",
       "       -7.0859264e-03, -2.4970602e-03,  5.1432536e-03, -3.6652375e-03,\n",
       "       -9.3700597e-03,  3.8267397e-03,  4.8844791e-03, -6.4285635e-03,\n",
       "        1.2085581e-03, -2.0748782e-03,  2.4402141e-05, -9.8835090e-03,\n",
       "        2.6920033e-03, -4.7501065e-03,  1.0876465e-03, -1.5762257e-03,\n",
       "        2.1966719e-03, -7.8815771e-03, -2.7171851e-03,  2.6631975e-03,\n",
       "        5.3466819e-03, -2.3915148e-03, -9.5100952e-03,  4.5058774e-03],\n",
       "      dtype=float32)"
      ]
     },
     "execution_count": 4,
     "metadata": {},
     "output_type": "execute_result"
    }
   ],
   "source": [
    "#Summarize the loaded model\n",
    "print(model_cbow)\n",
    "\n",
    "#Summarize vocabulary\n",
    "words = list(model_cbow.wv.index_to_key)\n",
    "print(words)\n",
    "\n",
    "# Get the index of a words\n",
    "print('Index of [man] -->',model_cbow.wv.get_index('man'))\n",
    "print('Index of [dog] -->',model_cbow.wv.get_index('dog'))\n",
    "print('Index of [eats] -->',model_cbow.wv.get_index('eats'))\n",
    "\n",
    "#Acess vector for one word\n",
    "model_cbow.wv['dog']"
   ]
  },
  {
   "cell_type": "markdown",
   "id": "30d7bc19",
   "metadata": {
    "papermill": {
     "duration": 0.004383,
     "end_time": "2022-11-16T04:19:50.533828",
     "exception": false,
     "start_time": "2022-11-16T04:19:50.529445",
     "status": "completed"
    },
    "tags": []
   },
   "source": [
    "The trained word vectors are stored in a KeyedVectors instance, as model.wv:\n",
    "[models.word2vec – Word2vec embeddings](https://radimrehurek.com/gensim/models/word2vec.html)"
   ]
  },
  {
   "cell_type": "code",
   "execution_count": 5,
   "id": "1cbd37d0",
   "metadata": {
    "execution": {
     "iopub.execute_input": "2022-11-16T04:19:50.546405Z",
     "iopub.status.busy": "2022-11-16T04:19:50.546012Z",
     "iopub.status.idle": "2022-11-16T04:19:50.553515Z",
     "shell.execute_reply": "2022-11-16T04:19:50.551985Z"
    },
    "papermill": {
     "duration": 0.01722,
     "end_time": "2022-11-16T04:19:50.556350",
     "exception": false,
     "start_time": "2022-11-16T04:19:50.539130",
     "status": "completed"
    },
    "tags": []
   },
   "outputs": [
    {
     "name": "stdout",
     "output_type": "stream",
     "text": [
      "Similarity between eats and bites: -0.013497097\n",
      "Similarity between eats and man: -0.052354384\n"
     ]
    }
   ],
   "source": [
    "#Compute similarity \n",
    "print(\"Similarity between eats and bites:\",model_cbow.wv.similarity('eats', 'bites'))\n",
    "print(\"Similarity between eats and man:\",model_cbow.wv.similarity('eats', 'man'))"
   ]
  },
  {
   "cell_type": "markdown",
   "id": "cf86a381",
   "metadata": {
    "papermill": {
     "duration": 0.004611,
     "end_time": "2022-11-16T04:19:50.565888",
     "exception": false,
     "start_time": "2022-11-16T04:19:50.561277",
     "status": "completed"
    },
    "tags": []
   },
   "source": [
    "From the above similarity scores we can conclude that eats is more similar to bites than man."
   ]
  },
  {
   "cell_type": "code",
   "execution_count": 6,
   "id": "0fbf2709",
   "metadata": {
    "execution": {
     "iopub.execute_input": "2022-11-16T04:19:50.578435Z",
     "iopub.status.busy": "2022-11-16T04:19:50.577937Z",
     "iopub.status.idle": "2022-11-16T04:19:50.585231Z",
     "shell.execute_reply": "2022-11-16T04:19:50.584241Z"
    },
    "papermill": {
     "duration": 0.016489,
     "end_time": "2022-11-16T04:19:50.587570",
     "exception": false,
     "start_time": "2022-11-16T04:19:50.571081",
     "status": "completed"
    },
    "tags": []
   },
   "outputs": [
    {
     "data": {
      "text/plain": [
       "[('food', 0.13887985050678253),\n",
       " ('bites', 0.13149003684520721),\n",
       " ('eats', 0.06422408670186996),\n",
       " ('dog', 0.009391186758875847),\n",
       " ('man', -0.05987628176808357)]"
      ]
     },
     "execution_count": 6,
     "metadata": {},
     "output_type": "execute_result"
    }
   ],
   "source": [
    "#Most similarity\n",
    "model_cbow.wv.most_similar('meat')"
   ]
  },
  {
   "cell_type": "code",
   "execution_count": 7,
   "id": "7ad96811",
   "metadata": {
    "execution": {
     "iopub.execute_input": "2022-11-16T04:19:50.599999Z",
     "iopub.status.busy": "2022-11-16T04:19:50.599576Z",
     "iopub.status.idle": "2022-11-16T04:19:50.608764Z",
     "shell.execute_reply": "2022-11-16T04:19:50.607331Z"
    },
    "papermill": {
     "duration": 0.019148,
     "end_time": "2022-11-16T04:19:50.611639",
     "exception": false,
     "start_time": "2022-11-16T04:19:50.592491",
     "status": "completed"
    },
    "tags": []
   },
   "outputs": [
    {
     "name": "stdout",
     "output_type": "stream",
     "text": [
      "Word2Vec(vocab=6, vector_size=100, alpha=0.025)\n"
     ]
    }
   ],
   "source": [
    "# save model\n",
    "model_cbow.save('model_cbow.bin')\n",
    "\n",
    "# load model\n",
    "new_model_cbow = Word2Vec.load('model_cbow.bin')\n",
    "print(new_model_cbow)"
   ]
  },
  {
   "cell_type": "markdown",
   "id": "8780840e",
   "metadata": {
    "papermill": {
     "duration": 0.005064,
     "end_time": "2022-11-16T04:19:50.622223",
     "exception": false,
     "start_time": "2022-11-16T04:19:50.617159",
     "status": "completed"
    },
    "tags": []
   },
   "source": [
    "## SkipGram\n",
    "In skipgram, the task is to predict the context words from the center word."
   ]
  },
  {
   "cell_type": "code",
   "execution_count": 8,
   "id": "022d6309",
   "metadata": {
    "execution": {
     "iopub.execute_input": "2022-11-16T04:19:50.635235Z",
     "iopub.status.busy": "2022-11-16T04:19:50.634458Z",
     "iopub.status.idle": "2022-11-16T04:19:50.642812Z",
     "shell.execute_reply": "2022-11-16T04:19:50.641326Z"
    },
    "papermill": {
     "duration": 0.018401,
     "end_time": "2022-11-16T04:19:50.646070",
     "exception": false,
     "start_time": "2022-11-16T04:19:50.627669",
     "status": "completed"
    },
    "tags": []
   },
   "outputs": [
    {
     "name": "stdout",
     "output_type": "stream",
     "text": [
      "Word2Vec(vocab=6, vector_size=100, alpha=0.025)\n",
      "['man', 'dog', 'eats', 'bites', 'food', 'meat']\n",
      "[-8.6196875e-03  3.6657380e-03  5.1898835e-03  5.7419371e-03\n",
      "  7.4669169e-03 -6.1676763e-03  1.1056137e-03  6.0472824e-03\n",
      " -2.8400517e-03 -6.1735227e-03 -4.1022300e-04 -8.3689503e-03\n",
      " -5.6000138e-03  7.1045374e-03  3.3525396e-03  7.2256685e-03\n",
      "  6.8002464e-03  7.5307419e-03 -3.7891555e-03 -5.6180713e-04\n",
      "  2.3483753e-03 -4.5190332e-03  8.3887316e-03 -9.8581649e-03\n",
      "  6.7646410e-03  2.9144168e-03 -4.9328329e-03  4.3981862e-03\n",
      " -1.7395759e-03  6.7113829e-03  9.9648498e-03 -4.3624449e-03\n",
      " -5.9933902e-04 -5.6956387e-03  3.8508223e-03  2.7866268e-03\n",
      "  6.8910765e-03  6.1010956e-03  9.5384959e-03  9.2734173e-03\n",
      "  7.8980681e-03 -6.9895051e-03 -9.1558648e-03 -3.5575390e-04\n",
      " -3.0998420e-03  7.8943158e-03  5.9385728e-03 -1.5456629e-03\n",
      "  1.5109634e-03  1.7900396e-03  7.8175711e-03 -9.5101884e-03\n",
      " -2.0553112e-04  3.4691954e-03 -9.3897345e-04  8.3817719e-03\n",
      "  9.0107825e-03  6.5365052e-03 -7.1162224e-04  7.7104042e-03\n",
      " -8.5343365e-03  3.2071066e-03 -4.6379971e-03 -5.0889566e-03\n",
      "  3.5896183e-03  5.3703380e-03  7.7695129e-03 -5.7665063e-03\n",
      "  7.4333595e-03  6.6254949e-03 -3.7098003e-03 -8.7456414e-03\n",
      "  5.4374672e-03  6.5097548e-03 -7.8755140e-04 -6.7098569e-03\n",
      " -7.0859264e-03 -2.4970602e-03  5.1432536e-03 -3.6652375e-03\n",
      " -9.3700597e-03  3.8267397e-03  4.8844791e-03 -6.4285635e-03\n",
      "  1.2085581e-03 -2.0748782e-03  2.4402141e-05 -9.8835090e-03\n",
      "  2.6920033e-03 -4.7501065e-03  1.0876465e-03 -1.5762257e-03\n",
      "  2.1966719e-03 -7.8815771e-03 -2.7171851e-03  2.6631975e-03\n",
      "  5.3466819e-03 -2.3915148e-03 -9.5100952e-03  4.5058774e-03]\n"
     ]
    }
   ],
   "source": [
    "#Summarize the loaded model\n",
    "print(model_skipgram)\n",
    "\n",
    "#Summarize vocabulary\n",
    "words = list(model_skipgram.wv.index_to_key)\n",
    "print(words)\n",
    "\n",
    "#Acess vector for one word\n",
    "print(model_skipgram.wv['dog'])"
   ]
  },
  {
   "cell_type": "markdown",
   "id": "f8f76759",
   "metadata": {
    "papermill": {
     "duration": 0.004707,
     "end_time": "2022-11-16T04:19:50.655849",
     "exception": false,
     "start_time": "2022-11-16T04:19:50.651142",
     "status": "completed"
    },
    "tags": []
   },
   "source": [
    "From the above similarity scores we can conclude that eats is more similar to bites than man."
   ]
  },
  {
   "cell_type": "code",
   "execution_count": 9,
   "id": "76252d5a",
   "metadata": {
    "execution": {
     "iopub.execute_input": "2022-11-16T04:19:50.667708Z",
     "iopub.status.busy": "2022-11-16T04:19:50.667241Z",
     "iopub.status.idle": "2022-11-16T04:19:50.676228Z",
     "shell.execute_reply": "2022-11-16T04:19:50.674568Z"
    },
    "papermill": {
     "duration": 0.017896,
     "end_time": "2022-11-16T04:19:50.678752",
     "exception": false,
     "start_time": "2022-11-16T04:19:50.660856",
     "status": "completed"
    },
    "tags": []
   },
   "outputs": [
    {
     "data": {
      "text/plain": [
       "[('food', 0.13887986540794373),\n",
       " ('bites', 0.1314900517463684),\n",
       " ('eats', 0.06406084448099136),\n",
       " ('dog', 0.009391188621520996),\n",
       " ('man', -0.059876274317502975)]"
      ]
     },
     "execution_count": 9,
     "metadata": {},
     "output_type": "execute_result"
    }
   ],
   "source": [
    "#Most similarity\n",
    "model_skipgram.wv.most_similar('meat')"
   ]
  },
  {
   "cell_type": "code",
   "execution_count": 10,
   "id": "6b688ce7",
   "metadata": {
    "execution": {
     "iopub.execute_input": "2022-11-16T04:19:50.692732Z",
     "iopub.status.busy": "2022-11-16T04:19:50.692302Z",
     "iopub.status.idle": "2022-11-16T04:19:50.701627Z",
     "shell.execute_reply": "2022-11-16T04:19:50.700491Z"
    },
    "papermill": {
     "duration": 0.019938,
     "end_time": "2022-11-16T04:19:50.704244",
     "exception": false,
     "start_time": "2022-11-16T04:19:50.684306",
     "status": "completed"
    },
    "tags": []
   },
   "outputs": [
    {
     "name": "stdout",
     "output_type": "stream",
     "text": [
      "Word2Vec(vocab=6, vector_size=100, alpha=0.025)\n"
     ]
    }
   ],
   "source": [
    "# save model\n",
    "model_skipgram.save('model_skipgram.bin')\n",
    "\n",
    "# load model\n",
    "new_model_skipgram = Word2Vec.load('model_skipgram.bin')\n",
    "print(new_model_skipgram)"
   ]
  }
 ],
 "metadata": {
  "kernelspec": {
   "display_name": "Python 3",
   "language": "python",
   "name": "python3"
  },
  "language_info": {
   "codemirror_mode": {
    "name": "ipython",
    "version": 3
   },
   "file_extension": ".py",
   "mimetype": "text/x-python",
   "name": "python",
   "nbconvert_exporter": "python",
   "pygments_lexer": "ipython3",
   "version": "3.7.12"
  },
  "papermill": {
   "default_parameters": {},
   "duration": 12.128798,
   "end_time": "2022-11-16T04:19:51.533040",
   "environment_variables": {},
   "exception": null,
   "input_path": "__notebook__.ipynb",
   "output_path": "__notebook__.ipynb",
   "parameters": {},
   "start_time": "2022-11-16T04:19:39.404242",
   "version": "2.3.4"
  }
 },
 "nbformat": 4,
 "nbformat_minor": 5
}
