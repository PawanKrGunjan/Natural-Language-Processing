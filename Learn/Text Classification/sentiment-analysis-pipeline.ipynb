{
 "cells": [
  {
   "cell_type": "markdown",
   "id": "54df3c40",
   "metadata": {
    "papermill": {
     "duration": 0.008091,
     "end_time": "2022-11-20T08:56:50.206014",
     "exception": false,
     "start_time": "2022-11-20T08:56:50.197923",
     "status": "completed"
    },
    "tags": []
   },
   "source": [
    "## Import Necessary Libraries"
   ]
  },
  {
   "cell_type": "code",
   "execution_count": 1,
   "id": "31b80e55",
   "metadata": {
    "execution": {
     "iopub.execute_input": "2022-11-20T08:56:50.222196Z",
     "iopub.status.busy": "2022-11-20T08:56:50.221754Z",
     "iopub.status.idle": "2022-11-20T08:56:58.169173Z",
     "shell.execute_reply": "2022-11-20T08:56:58.167977Z"
    },
    "papermill": {
     "duration": 7.95934,
     "end_time": "2022-11-20T08:56:58.172310",
     "exception": false,
     "start_time": "2022-11-20T08:56:50.212970",
     "status": "completed"
    },
    "tags": []
   },
   "outputs": [],
   "source": [
    "import warnings\n",
    "warnings.filterwarnings(\"ignore\")\n",
    "import tensorflow as tf\n",
    "from tensorflow import keras\n",
    "import os\n",
    "import re\n",
    "import pandas as pd\n",
    "import numpy as np\n",
    "\n",
    "from tensorflow.keras.preprocessing.text import Tokenizer\n",
    "from tensorflow.keras.preprocessing.sequence import pad_sequences\n",
    "from sklearn.pipeline import TransformerMixin\n",
    "from sklearn.base import BaseEstimator\n",
    "from tensorflow.keras.utils import to_categorical\n",
    "\n",
    "from tensorflow.keras.layers import Dense, Input, GlobalMaxPooling1D\n",
    "from tensorflow.keras.layers import Conv1D, MaxPooling1D, Embedding, LSTM\n",
    "from tensorflow.keras.models import Model, Sequential\n",
    "from tensorflow.keras.initializers import Constant\n",
    "\n",
    "from tensorflow.keras.wrappers.scikit_learn import KerasClassifier\n",
    "from sklearn.pipeline import make_pipeline\n",
    "\n",
    "from sklearn.metrics import accuracy_score\n",
    "from sklearn.metrics import classification_report"
   ]
  },
  {
   "cell_type": "markdown",
   "id": "899cefbf",
   "metadata": {
    "papermill": {
     "duration": 0.006812,
     "end_time": "2022-11-20T08:56:58.186096",
     "exception": false,
     "start_time": "2022-11-20T08:56:58.179284",
     "status": "completed"
    },
    "tags": []
   },
   "source": [
    "## Load the dataset"
   ]
  },
  {
   "cell_type": "code",
   "execution_count": 2,
   "id": "96f00e00",
   "metadata": {
    "execution": {
     "iopub.execute_input": "2022-11-20T08:56:58.202122Z",
     "iopub.status.busy": "2022-11-20T08:56:58.201093Z",
     "iopub.status.idle": "2022-11-20T08:57:38.096910Z",
     "shell.execute_reply": "2022-11-20T08:57:38.096051Z"
    },
    "papermill": {
     "duration": 39.913703,
     "end_time": "2022-11-20T08:57:38.106620",
     "exception": false,
     "start_time": "2022-11-20T08:56:58.192917",
     "status": "completed"
    },
    "tags": []
   },
   "outputs": [
    {
     "name": "stdout",
     "output_type": "stream",
     "text": [
      "/kaggle/input\n",
      "/kaggle/input/imdb-review\n",
      "/kaggle/input/imdb-review/aclImdb\n",
      "/kaggle/input/imdb-review/aclImdb/test\n",
      "/kaggle/input/imdb-review/aclImdb/test/pos\n",
      "/kaggle/input/imdb-review/aclImdb/test/neg\n",
      "/kaggle/input/imdb-review/aclImdb/train\n",
      "/kaggle/input/imdb-review/aclImdb/train/pos\n",
      "/kaggle/input/imdb-review/aclImdb/train/neg\n",
      "/kaggle/input/imdb-review/aclImdb/train/unsup\n",
      "CPU times: user 637 ms, sys: 1.84 s, total: 2.48 s\n",
      "Wall time: 39.9 s\n"
     ]
    }
   ],
   "source": [
    "%%time\n",
    "for dirname, _, filenames in os.walk('/kaggle/input'):\n",
    "    #for filename in filenames:\n",
    "    #print(os.path.join(dirname, filenames))\n",
    "    print(dirname)"
   ]
  },
  {
   "cell_type": "code",
   "execution_count": 3,
   "id": "447cba51",
   "metadata": {
    "execution": {
     "iopub.execute_input": "2022-11-20T08:57:38.124746Z",
     "iopub.status.busy": "2022-11-20T08:57:38.123993Z",
     "iopub.status.idle": "2022-11-20T08:57:38.133305Z",
     "shell.execute_reply": "2022-11-20T08:57:38.132483Z"
    },
    "papermill": {
     "duration": 0.021175,
     "end_time": "2022-11-20T08:57:38.135809",
     "exception": false,
     "start_time": "2022-11-20T08:57:38.114634",
     "status": "completed"
    },
    "tags": []
   },
   "outputs": [],
   "source": [
    "#helper functions to lead the data\n",
    "def load_directory_data(directory):\n",
    "    data = {}\n",
    "    data[\"sentence\"] = []\n",
    "    data[\"sentiment\"] = []\n",
    "    for file_path in os.listdir(directory):\n",
    "        with tf.io.gfile.GFile(os.path.join(directory, file_path), \"r\") as f:\n",
    "            data[\"sentence\"].append(f.read())\n",
    "            data[\"sentiment\"].append(re.match(\"\\d+_(\\d+)\\.txt\", file_path).group(1))\n",
    "    return pd.DataFrame.from_dict(data)\n",
    "\n",
    "# Merge positive and negative examples, add a polarity column and shuffle.\n",
    "def load_dataset(directory):\n",
    "    pos_df = load_directory_data(os.path.join(directory, \"pos\"))\n",
    "    neg_df = load_directory_data(os.path.join(directory, \"neg\"))\n",
    "    pos_df[\"polarity\"] = 1\n",
    "    neg_df[\"polarity\"] = 0\n",
    "    return pd.concat([pos_df, neg_df]).sample(frac=1).reset_index(drop=True)"
   ]
  },
  {
   "cell_type": "code",
   "execution_count": 4,
   "id": "08b9e33f",
   "metadata": {
    "execution": {
     "iopub.execute_input": "2022-11-20T08:57:38.155038Z",
     "iopub.status.busy": "2022-11-20T08:57:38.154278Z",
     "iopub.status.idle": "2022-11-20T08:59:42.021001Z",
     "shell.execute_reply": "2022-11-20T08:59:42.019435Z"
    },
    "papermill": {
     "duration": 123.885519,
     "end_time": "2022-11-20T08:59:42.031062",
     "exception": false,
     "start_time": "2022-11-20T08:57:38.145543",
     "status": "completed"
    },
    "tags": []
   },
   "outputs": [
    {
     "name": "stdout",
     "output_type": "stream",
     "text": [
      "CPU times: user 6.95 s, sys: 6.22 s, total: 13.2 s\n",
      "Wall time: 2min 3s\n"
     ]
    }
   ],
   "source": [
    "%%time\n",
    "\n",
    "train = load_dataset('/kaggle/input/imdb-review/aclImdb/train')\n",
    "test = load_dataset('/kaggle/input/imdb-review/aclImdb/test')"
   ]
  },
  {
   "cell_type": "code",
   "execution_count": 5,
   "id": "354b3431",
   "metadata": {
    "execution": {
     "iopub.execute_input": "2022-11-20T08:59:42.048550Z",
     "iopub.status.busy": "2022-11-20T08:59:42.048076Z",
     "iopub.status.idle": "2022-11-20T08:59:42.070139Z",
     "shell.execute_reply": "2022-11-20T08:59:42.068841Z"
    },
    "papermill": {
     "duration": 0.034067,
     "end_time": "2022-11-20T08:59:42.072905",
     "exception": false,
     "start_time": "2022-11-20T08:59:42.038838",
     "status": "completed"
    },
    "tags": []
   },
   "outputs": [
    {
     "data": {
      "text/html": [
       "<div>\n",
       "<style scoped>\n",
       "    .dataframe tbody tr th:only-of-type {\n",
       "        vertical-align: middle;\n",
       "    }\n",
       "\n",
       "    .dataframe tbody tr th {\n",
       "        vertical-align: top;\n",
       "    }\n",
       "\n",
       "    .dataframe thead th {\n",
       "        text-align: right;\n",
       "    }\n",
       "</style>\n",
       "<table border=\"1\" class=\"dataframe\">\n",
       "  <thead>\n",
       "    <tr style=\"text-align: right;\">\n",
       "      <th></th>\n",
       "      <th>sentence</th>\n",
       "      <th>sentiment</th>\n",
       "      <th>polarity</th>\n",
       "    </tr>\n",
       "  </thead>\n",
       "  <tbody>\n",
       "    <tr>\n",
       "      <th>0</th>\n",
       "      <td>A have a female friend who is currently being ...</td>\n",
       "      <td>9</td>\n",
       "      <td>1</td>\n",
       "    </tr>\n",
       "    <tr>\n",
       "      <th>1</th>\n",
       "      <td>I'm not ruining anything when I inform you tha...</td>\n",
       "      <td>4</td>\n",
       "      <td>0</td>\n",
       "    </tr>\n",
       "    <tr>\n",
       "      <th>2</th>\n",
       "      <td>This movie has it all, action, fighting, danci...</td>\n",
       "      <td>9</td>\n",
       "      <td>1</td>\n",
       "    </tr>\n",
       "    <tr>\n",
       "      <th>3</th>\n",
       "      <td>and anyone who watches this film will agree. T...</td>\n",
       "      <td>10</td>\n",
       "      <td>1</td>\n",
       "    </tr>\n",
       "    <tr>\n",
       "      <th>4</th>\n",
       "      <td>I love Korean films because they have the abil...</td>\n",
       "      <td>10</td>\n",
       "      <td>1</td>\n",
       "    </tr>\n",
       "  </tbody>\n",
       "</table>\n",
       "</div>"
      ],
      "text/plain": [
       "                                            sentence sentiment  polarity\n",
       "0  A have a female friend who is currently being ...         9         1\n",
       "1  I'm not ruining anything when I inform you tha...         4         0\n",
       "2  This movie has it all, action, fighting, danci...         9         1\n",
       "3  and anyone who watches this film will agree. T...        10         1\n",
       "4  I love Korean films because they have the abil...        10         1"
      ]
     },
     "execution_count": 5,
     "metadata": {},
     "output_type": "execute_result"
    }
   ],
   "source": [
    "train.head()"
   ]
  },
  {
   "cell_type": "code",
   "execution_count": 6,
   "id": "be408f74",
   "metadata": {
    "execution": {
     "iopub.execute_input": "2022-11-20T08:59:42.090215Z",
     "iopub.status.busy": "2022-11-20T08:59:42.089781Z",
     "iopub.status.idle": "2022-11-20T08:59:42.101508Z",
     "shell.execute_reply": "2022-11-20T08:59:42.100212Z"
    },
    "papermill": {
     "duration": 0.023233,
     "end_time": "2022-11-20T08:59:42.103909",
     "exception": false,
     "start_time": "2022-11-20T08:59:42.080676",
     "status": "completed"
    },
    "tags": []
   },
   "outputs": [
    {
     "data": {
      "text/html": [
       "<div>\n",
       "<style scoped>\n",
       "    .dataframe tbody tr th:only-of-type {\n",
       "        vertical-align: middle;\n",
       "    }\n",
       "\n",
       "    .dataframe tbody tr th {\n",
       "        vertical-align: top;\n",
       "    }\n",
       "\n",
       "    .dataframe thead th {\n",
       "        text-align: right;\n",
       "    }\n",
       "</style>\n",
       "<table border=\"1\" class=\"dataframe\">\n",
       "  <thead>\n",
       "    <tr style=\"text-align: right;\">\n",
       "      <th></th>\n",
       "      <th>sentence</th>\n",
       "      <th>sentiment</th>\n",
       "      <th>polarity</th>\n",
       "    </tr>\n",
       "  </thead>\n",
       "  <tbody>\n",
       "    <tr>\n",
       "      <th>0</th>\n",
       "      <td>Just watched this film on TV and it was awesom...</td>\n",
       "      <td>10</td>\n",
       "      <td>1</td>\n",
       "    </tr>\n",
       "    <tr>\n",
       "      <th>1</th>\n",
       "      <td>I am not a fan of the original book but was ex...</td>\n",
       "      <td>2</td>\n",
       "      <td>0</td>\n",
       "    </tr>\n",
       "    <tr>\n",
       "      <th>2</th>\n",
       "      <td>Although unusually in colour for a second stri...</td>\n",
       "      <td>2</td>\n",
       "      <td>0</td>\n",
       "    </tr>\n",
       "    <tr>\n",
       "      <th>3</th>\n",
       "      <td>We usually think of the British as the experts...</td>\n",
       "      <td>10</td>\n",
       "      <td>1</td>\n",
       "    </tr>\n",
       "    <tr>\n",
       "      <th>4</th>\n",
       "      <td>Since there have been so many reviews of this ...</td>\n",
       "      <td>10</td>\n",
       "      <td>1</td>\n",
       "    </tr>\n",
       "  </tbody>\n",
       "</table>\n",
       "</div>"
      ],
      "text/plain": [
       "                                            sentence sentiment  polarity\n",
       "0  Just watched this film on TV and it was awesom...        10         1\n",
       "1  I am not a fan of the original book but was ex...         2         0\n",
       "2  Although unusually in colour for a second stri...         2         0\n",
       "3  We usually think of the British as the experts...        10         1\n",
       "4  Since there have been so many reviews of this ...        10         1"
      ]
     },
     "execution_count": 6,
     "metadata": {},
     "output_type": "execute_result"
    }
   ],
   "source": [
    "test.head()"
   ]
  },
  {
   "cell_type": "markdown",
   "id": "8eed118a",
   "metadata": {
    "papermill": {
     "duration": 0.008084,
     "end_time": "2022-11-20T08:59:42.120166",
     "exception": false,
     "start_time": "2022-11-20T08:59:42.112082",
     "status": "completed"
    },
    "tags": []
   },
   "source": [
    "## Preprocessing"
   ]
  },
  {
   "cell_type": "code",
   "execution_count": 7,
   "id": "f200a48b",
   "metadata": {
    "execution": {
     "iopub.execute_input": "2022-11-20T08:59:42.139002Z",
     "iopub.status.busy": "2022-11-20T08:59:42.138483Z",
     "iopub.status.idle": "2022-11-20T08:59:42.147204Z",
     "shell.execute_reply": "2022-11-20T08:59:42.145975Z"
    },
    "papermill": {
     "duration": 0.021083,
     "end_time": "2022-11-20T08:59:42.149822",
     "exception": false,
     "start_time": "2022-11-20T08:59:42.128739",
     "status": "completed"
    },
    "tags": []
   },
   "outputs": [
    {
     "data": {
      "text/plain": [
       "Index(['sentence', 'sentiment', 'polarity'], dtype='object')"
      ]
     },
     "execution_count": 7,
     "metadata": {},
     "output_type": "execute_result"
    }
   ],
   "source": [
    "train.columns"
   ]
  },
  {
   "cell_type": "code",
   "execution_count": 8,
   "id": "1cf2b5e0",
   "metadata": {
    "execution": {
     "iopub.execute_input": "2022-11-20T08:59:42.167446Z",
     "iopub.status.busy": "2022-11-20T08:59:42.167011Z",
     "iopub.status.idle": "2022-11-20T08:59:42.174167Z",
     "shell.execute_reply": "2022-11-20T08:59:42.172709Z"
    },
    "papermill": {
     "duration": 0.019213,
     "end_time": "2022-11-20T08:59:42.177047",
     "exception": false,
     "start_time": "2022-11-20T08:59:42.157834",
     "status": "completed"
    },
    "tags": []
   },
   "outputs": [],
   "source": [
    "train_texts = train['sentence'].values\n",
    "train_labels = train['polarity'].values\n",
    "test_texts = test['sentence'].values\n",
    "# test_labels = test['polarity'].values\n",
    "\n",
    "labels_index = {'pos':1, 'neg':0} "
   ]
  },
  {
   "cell_type": "code",
   "execution_count": 9,
   "id": "8673878d",
   "metadata": {
    "execution": {
     "iopub.execute_input": "2022-11-20T08:59:42.194886Z",
     "iopub.status.busy": "2022-11-20T08:59:42.194477Z",
     "iopub.status.idle": "2022-11-20T08:59:42.202641Z",
     "shell.execute_reply": "2022-11-20T08:59:42.201310Z"
    },
    "papermill": {
     "duration": 0.02003,
     "end_time": "2022-11-20T08:59:42.205018",
     "exception": false,
     "start_time": "2022-11-20T08:59:42.184988",
     "status": "completed"
    },
    "tags": []
   },
   "outputs": [
    {
     "data": {
      "text/plain": [
       "Index(['sentence', 'sentiment', 'polarity'], dtype='object')"
      ]
     },
     "execution_count": 9,
     "metadata": {},
     "output_type": "execute_result"
    }
   ],
   "source": [
    "test.columns"
   ]
  },
  {
   "cell_type": "code",
   "execution_count": 10,
   "id": "e280275c",
   "metadata": {
    "execution": {
     "iopub.execute_input": "2022-11-20T08:59:42.225441Z",
     "iopub.status.busy": "2022-11-20T08:59:42.225000Z",
     "iopub.status.idle": "2022-11-20T08:59:42.232436Z",
     "shell.execute_reply": "2022-11-20T08:59:42.231450Z"
    },
    "papermill": {
     "duration": 0.021612,
     "end_time": "2022-11-20T08:59:42.234872",
     "exception": false,
     "start_time": "2022-11-20T08:59:42.213260",
     "status": "completed"
    },
    "tags": []
   },
   "outputs": [
    {
     "data": {
      "text/plain": [
       "array([1, 0, 0, ..., 1, 0, 1])"
      ]
     },
     "execution_count": 10,
     "metadata": {},
     "output_type": "execute_result"
    }
   ],
   "source": [
    "test_labels = test['polarity'].values\n",
    "test_labels"
   ]
  },
  {
   "cell_type": "markdown",
   "id": "ed11737f",
   "metadata": {
    "papermill": {
     "duration": 0.007777,
     "end_time": "2022-11-20T08:59:42.250958",
     "exception": false,
     "start_time": "2022-11-20T08:59:42.243181",
     "status": "completed"
    },
    "tags": []
   },
   "source": [
    "We need to design an sklearn pipeline with our model. What is a pipeline?\n",
    "\n",
    "**Pipeline** is just an abstract notion, it's not some existing ml algorithm. Often in ML tasks you need to perform sequence of different transformations (find set of features, generate new features, select only some good features) of raw dataset before applying final estimator. Pipeline gives you a single interface for all 3 steps of transformation and resulting estimator. It encapsulates transformers and predictors inside\n",
    "\n",
    "**Transformer** in scikit-learn - some class that have fit and transform method, or fit_transform method.\n",
    "\n",
    "**Predictor** - some class that has fit and predict methods, or fit_predict method."
   ]
  },
  {
   "cell_type": "code",
   "execution_count": 11,
   "id": "2b263e67",
   "metadata": {
    "execution": {
     "iopub.execute_input": "2022-11-20T08:59:42.269601Z",
     "iopub.status.busy": "2022-11-20T08:59:42.268916Z",
     "iopub.status.idle": "2022-11-20T08:59:42.273532Z",
     "shell.execute_reply": "2022-11-20T08:59:42.272716Z"
    },
    "papermill": {
     "duration": 0.017232,
     "end_time": "2022-11-20T08:59:42.276437",
     "exception": false,
     "start_time": "2022-11-20T08:59:42.259205",
     "status": "completed"
    },
    "tags": []
   },
   "outputs": [],
   "source": [
    "MAX_SEQUENCE_LENGTH = 1000\n",
    "MAX_NUM_WORDS = 20000 \n",
    "EMBEDDING_DIM = 100 \n",
    "VALIDATION_SPLIT = 0.2\n",
    "\n",
    "vocab_size = 20000  # Max number of different word, i.e. model input dimension\n",
    "maxlen = 1000 # Max number of words kept at the end of each text"
   ]
  },
  {
   "cell_type": "markdown",
   "id": "73d28426",
   "metadata": {
    "papermill": {
     "duration": 0.008011,
     "end_time": "2022-11-20T08:59:42.292846",
     "exception": false,
     "start_time": "2022-11-20T08:59:42.284835",
     "status": "completed"
    },
    "tags": []
   },
   "source": [
    "## Transform text to `id`"
   ]
  },
  {
   "cell_type": "code",
   "execution_count": 12,
   "id": "df2673d0",
   "metadata": {
    "execution": {
     "iopub.execute_input": "2022-11-20T08:59:42.311316Z",
     "iopub.status.busy": "2022-11-20T08:59:42.310887Z",
     "iopub.status.idle": "2022-11-20T08:59:42.319437Z",
     "shell.execute_reply": "2022-11-20T08:59:42.318433Z"
    },
    "papermill": {
     "duration": 0.021075,
     "end_time": "2022-11-20T08:59:42.322285",
     "exception": false,
     "start_time": "2022-11-20T08:59:42.301210",
     "status": "completed"
    },
    "tags": []
   },
   "outputs": [],
   "source": [
    "class TextsToSequences(Tokenizer, BaseEstimator, TransformerMixin):\n",
    "    \"\"\" Sklearn transformer to convert texts to indices list \n",
    "    (e.g. [[\"the cute cat\"], [\"the dog\"]] -> [[1, 2, 3], [1, 4]])\"\"\"\n",
    "    def __init__(self,  **kwargs):\n",
    "        super().__init__(**kwargs)\n",
    "        \n",
    "    def fit(self, texts, y=None):\n",
    "        self.fit_on_texts(texts)\n",
    "        return self\n",
    "    \n",
    "    def transform(self, texts, y=None):\n",
    "        return np.array(self.texts_to_sequences(texts))\n",
    "        \n",
    "sequencer = TextsToSequences(num_words=vocab_size)"
   ]
  },
  {
   "cell_type": "markdown",
   "id": "74c1bc58",
   "metadata": {
    "papermill": {
     "duration": 0.008415,
     "end_time": "2022-11-20T08:59:42.339125",
     "exception": false,
     "start_time": "2022-11-20T08:59:42.330710",
     "status": "completed"
    },
    "tags": []
   },
   "source": [
    "## Padding"
   ]
  },
  {
   "cell_type": "code",
   "execution_count": 13,
   "id": "bcaa4c95",
   "metadata": {
    "execution": {
     "iopub.execute_input": "2022-11-20T08:59:42.358536Z",
     "iopub.status.busy": "2022-11-20T08:59:42.357819Z",
     "iopub.status.idle": "2022-11-20T08:59:42.365293Z",
     "shell.execute_reply": "2022-11-20T08:59:42.363986Z"
    },
    "papermill": {
     "duration": 0.020342,
     "end_time": "2022-11-20T08:59:42.368296",
     "exception": false,
     "start_time": "2022-11-20T08:59:42.347954",
     "status": "completed"
    },
    "tags": []
   },
   "outputs": [],
   "source": [
    "class Padder(BaseEstimator, TransformerMixin):\n",
    "    \"\"\" Pad and crop uneven lists to the same length. \n",
    "    Only the end of lists longernthan the maxlen attribute are\n",
    "    kept, and lists shorter than maxlen are left-padded with zeros\n",
    "    \n",
    "    Attributes\n",
    "    ----------\n",
    "    maxlen: int\n",
    "        sizes of sequences after padding\n",
    "    max_index: int\n",
    "        maximum index known by the Padder, if a higher index is met during \n",
    "        transform it is transformed to a 0\n",
    "    \"\"\"\n",
    "    def __init__(self, maxlen=500):\n",
    "        self.maxlen = maxlen\n",
    "        self.max_index = None\n",
    "        \n",
    "    def fit(self, X, y=None):\n",
    "        self.max_index = pad_sequences(X, maxlen=self.maxlen).max()\n",
    "        return self\n",
    "    \n",
    "    def transform(self, X, y=None):\n",
    "        X = pad_sequences(X, maxlen=self.maxlen)\n",
    "        X[X > self.max_index] = 0\n",
    "        return X\n",
    "\n",
    "padder = Padder(maxlen)"
   ]
  },
  {
   "cell_type": "markdown",
   "id": "9736b60f",
   "metadata": {
    "papermill": {
     "duration": 0.00801,
     "end_time": "2022-11-20T08:59:42.384562",
     "exception": false,
     "start_time": "2022-11-20T08:59:42.376552",
     "status": "completed"
    },
    "tags": []
   },
   "source": [
    "## Create the model"
   ]
  },
  {
   "cell_type": "code",
   "execution_count": 14,
   "id": "0dea050f",
   "metadata": {
    "execution": {
     "iopub.execute_input": "2022-11-20T08:59:42.403691Z",
     "iopub.status.busy": "2022-11-20T08:59:42.403230Z",
     "iopub.status.idle": "2022-11-20T08:59:42.411342Z",
     "shell.execute_reply": "2022-11-20T08:59:42.409985Z"
    },
    "papermill": {
     "duration": 0.02095,
     "end_time": "2022-11-20T08:59:42.414292",
     "exception": false,
     "start_time": "2022-11-20T08:59:42.393342",
     "status": "completed"
    },
    "tags": []
   },
   "outputs": [],
   "source": [
    "batch_size = 64\n",
    "max_features = vocab_size + 1\n",
    "\n",
    "#Training an LSTM with embedding on the fly\n",
    "def create_model(max_features):\n",
    "    \"\"\" Model creation function: returns a compiled LSTM\"\"\"\n",
    "\n",
    "\n",
    "    rnnmodel = Sequential()\n",
    "    rnnmodel.add(Embedding(MAX_NUM_WORDS, 128))\n",
    "    rnnmodel.add(LSTM(128, dropout=0.2, recurrent_dropout=0.2))\n",
    "    rnnmodel.add(Dense(1, activation='sigmoid'))\n",
    "    rnnmodel.compile(loss='binary_crossentropy',\n",
    "              optimizer='adam',\n",
    "              metrics=['accuracy'])\n",
    "    return rnnmodel"
   ]
  },
  {
   "cell_type": "markdown",
   "id": "1be79943",
   "metadata": {
    "papermill": {
     "duration": 0.007891,
     "end_time": "2022-11-20T08:59:42.432541",
     "exception": false,
     "start_time": "2022-11-20T08:59:42.424650",
     "status": "completed"
    },
    "tags": []
   },
   "source": [
    "## Build the Pipeline"
   ]
  },
  {
   "cell_type": "code",
   "execution_count": 15,
   "id": "a2cf9254",
   "metadata": {
    "execution": {
     "iopub.execute_input": "2022-11-20T08:59:42.451472Z",
     "iopub.status.busy": "2022-11-20T08:59:42.450990Z",
     "iopub.status.idle": "2022-11-20T11:16:08.866802Z",
     "shell.execute_reply": "2022-11-20T11:16:08.865684Z"
    },
    "papermill": {
     "duration": 8186.526927,
     "end_time": "2022-11-20T11:16:08.967958",
     "exception": false,
     "start_time": "2022-11-20T08:59:42.441031",
     "status": "completed"
    },
    "tags": []
   },
   "outputs": [
    {
     "name": "stderr",
     "output_type": "stream",
     "text": [
      "2022-11-20 08:59:53.727047: I tensorflow/core/common_runtime/process_util.cc:146] Creating new thread pool with default inter op setting: 2. Tune using inter_op_parallelism_threads for best performance.\n",
      "2022-11-20 08:59:54.205862: I tensorflow/compiler/mlir/mlir_graph_optimization_pass.cc:185] None of the MLIR Optimization Passes are enabled (registered 2)\n"
     ]
    },
    {
     "name": "stdout",
     "output_type": "stream",
     "text": [
      "Epoch 1/2\n",
      "782/782 [==============================] - 4112s 5s/step - loss: 0.4305 - accuracy: 0.8055\n",
      "Epoch 2/2\n",
      "782/782 [==============================] - 4063s 5s/step - loss: 0.2960 - accuracy: 0.8801\n"
     ]
    }
   ],
   "source": [
    "# Use Keras Scikit-learn wrapper to instantiate a LSTM with all methods\n",
    "# required by Scikit-learn for the last step of a Pipeline\n",
    "sklearn_lstm = KerasClassifier(build_fn=create_model,\n",
    "                               epochs=2, \n",
    "                               batch_size=32, \n",
    "                               max_features=max_features, \n",
    "                               verbose=1)\n",
    "\n",
    "# Build the Scikit-learn pipeline\n",
    "pipeline = make_pipeline(sequencer, padder, sklearn_lstm)\n",
    "\n",
    "pipeline.fit(train_texts, train_labels);"
   ]
  },
  {
   "cell_type": "markdown",
   "id": "d2886b3f",
   "metadata": {
    "papermill": {
     "duration": 0.102852,
     "end_time": "2022-11-20T11:16:09.172947",
     "exception": false,
     "start_time": "2022-11-20T11:16:09.070095",
     "status": "completed"
    },
    "tags": []
   },
   "source": [
    "## Prediction"
   ]
  },
  {
   "cell_type": "code",
   "execution_count": 16,
   "id": "e2af200d",
   "metadata": {
    "execution": {
     "iopub.execute_input": "2022-11-20T11:16:09.382399Z",
     "iopub.status.busy": "2022-11-20T11:16:09.381965Z",
     "iopub.status.idle": "2022-11-20T11:26:28.776343Z",
     "shell.execute_reply": "2022-11-20T11:26:28.775441Z"
    },
    "papermill": {
     "duration": 619.502565,
     "end_time": "2022-11-20T11:26:28.779058",
     "exception": false,
     "start_time": "2022-11-20T11:16:09.276493",
     "status": "completed"
    },
    "tags": []
   },
   "outputs": [],
   "source": [
    "y_preds = pipeline.predict(test_texts)"
   ]
  },
  {
   "cell_type": "markdown",
   "id": "410bed20",
   "metadata": {
    "papermill": {
     "duration": 0.103307,
     "end_time": "2022-11-20T11:26:28.998760",
     "exception": false,
     "start_time": "2022-11-20T11:26:28.895453",
     "status": "completed"
    },
    "tags": []
   },
   "source": [
    "## Classification Report"
   ]
  },
  {
   "cell_type": "code",
   "execution_count": 17,
   "id": "2449e646",
   "metadata": {
    "execution": {
     "iopub.execute_input": "2022-11-20T11:26:29.210718Z",
     "iopub.status.busy": "2022-11-20T11:26:29.210319Z",
     "iopub.status.idle": "2022-11-20T11:26:29.268784Z",
     "shell.execute_reply": "2022-11-20T11:26:29.267069Z"
    },
    "papermill": {
     "duration": 0.168493,
     "end_time": "2022-11-20T11:26:29.271267",
     "exception": false,
     "start_time": "2022-11-20T11:26:29.102774",
     "status": "completed"
    },
    "tags": []
   },
   "outputs": [
    {
     "name": "stdout",
     "output_type": "stream",
     "text": [
      "Test accuracy: 85.00 %\n",
      "              precision    recall  f1-score   support\n",
      "\n",
      "    Negative       0.82      0.88      0.84     11641\n",
      "    Positive       0.88      0.83      0.86     13359\n",
      "\n",
      "    accuracy                           0.85     25000\n",
      "   macro avg       0.85      0.85      0.85     25000\n",
      "weighted avg       0.85      0.85      0.85     25000\n",
      "\n"
     ]
    }
   ],
   "source": [
    "print('Test accuracy: {:.2f} %'.format(100*accuracy_score(y_preds, test_labels)))\n",
    "\n",
    "print(classification_report(y_preds, test_labels, target_names = ['Negative','Positive']))"
   ]
  },
  {
   "cell_type": "markdown",
   "id": "f94e11ad",
   "metadata": {
    "papermill": {
     "duration": 0.104624,
     "end_time": "2022-11-20T11:26:29.487635",
     "exception": false,
     "start_time": "2022-11-20T11:26:29.383011",
     "status": "completed"
    },
    "tags": []
   },
   "source": [
    "## Interpret predictions using Lime"
   ]
  },
  {
   "cell_type": "code",
   "execution_count": 18,
   "id": "175c280d",
   "metadata": {
    "execution": {
     "iopub.execute_input": "2022-11-20T11:26:29.764932Z",
     "iopub.status.busy": "2022-11-20T11:26:29.764079Z",
     "iopub.status.idle": "2022-11-20T11:26:30.021677Z",
     "shell.execute_reply": "2022-11-20T11:26:30.020600Z"
    },
    "papermill": {
     "duration": 0.431759,
     "end_time": "2022-11-20T11:26:30.024312",
     "exception": false,
     "start_time": "2022-11-20T11:26:29.592553",
     "status": "completed"
    },
    "tags": []
   },
   "outputs": [],
   "source": [
    "import matplotlib.pyplot as plt\n",
    "import seaborn as sns\n",
    "%matplotlib inline\n",
    "from collections import OrderedDict\n",
    "from lime.lime_text import LimeTextExplainer"
   ]
  },
  {
   "cell_type": "code",
   "execution_count": 19,
   "id": "00c038f8",
   "metadata": {
    "execution": {
     "iopub.execute_input": "2022-11-20T11:26:30.232713Z",
     "iopub.status.busy": "2022-11-20T11:26:30.232040Z",
     "iopub.status.idle": "2022-11-20T11:26:30.904032Z",
     "shell.execute_reply": "2022-11-20T11:26:30.902924Z"
    },
    "papermill": {
     "duration": 0.781317,
     "end_time": "2022-11-20T11:26:30.907448",
     "exception": false,
     "start_time": "2022-11-20T11:26:30.126131",
     "status": "completed"
    },
    "tags": []
   },
   "outputs": [
    {
     "name": "stdout",
     "output_type": "stream",
     "text": [
      "Sample 11: last 1000 words (only part used by the model)\n",
      "--------------------------------------------------\n",
      "Saw this at Newport Beach Film Festival the other day. The film is REALLY exceptional. The crowd I went with all loved it. Funny, poignant and great acting. I'm tired of the tried and true Hollywood romances, who can relate? David Krumholtz (Max) is really amazing as the sure and true lover of the ultra-screwy Grace (Natasha Lyonne, who is also excellent). When Max falls for Grace we believe it. Why? Because love at first sight IS crazy and we're dealing with two lost, and maybe not so crazy, souls. Also of note are Giullmo Diaz as Hector and Rosanna Arquette as a sexless/sexy neurotic, both \"roommates\" of Max and Grace before they embark on their trip to Sheboygen, WI and finding themselves. Don't miss this one, its something special! P.S. The soundtrack, led by Kevin Hearn (of Bare Naked Ladies fame) is really super super cool as well.\n",
      "--------------------------------------------------\n",
      "Probability(positive) = 0.98380065\n",
      "True class: positive\n"
     ]
    }
   ],
   "source": [
    "# We choose a sample from test set\n",
    "idx = 11\n",
    "text_sample = test_texts[idx]\n",
    "class_names = ['negative', 'positive']\n",
    "\n",
    "print('Sample {}: last 1000 words (only part used by the model)'.format(idx))\n",
    "print('-'*50)\n",
    "print(\" \".join(text_sample.split()[-1000:]))\n",
    "print('-'*50)\n",
    "print('Probability(positive) =', pipeline.predict_proba([text_sample])[0,1])\n",
    "print('True class: %s' % class_names[test_labels[idx]])"
   ]
  },
  {
   "cell_type": "code",
   "execution_count": 20,
   "id": "f5b0fd8e",
   "metadata": {
    "execution": {
     "iopub.execute_input": "2022-11-20T11:26:31.116248Z",
     "iopub.status.busy": "2022-11-20T11:26:31.115874Z",
     "iopub.status.idle": "2022-11-20T11:28:33.631829Z",
     "shell.execute_reply": "2022-11-20T11:28:33.630253Z"
    },
    "papermill": {
     "duration": 122.793471,
     "end_time": "2022-11-20T11:28:33.803591",
     "exception": false,
     "start_time": "2022-11-20T11:26:31.010120",
     "status": "completed"
    },
    "tags": []
   },
   "outputs": [
    {
     "data": {
      "text/html": [
       "<div>\n",
       "<style scoped>\n",
       "    .dataframe tbody tr th:only-of-type {\n",
       "        vertical-align: middle;\n",
       "    }\n",
       "\n",
       "    .dataframe tbody tr th {\n",
       "        vertical-align: top;\n",
       "    }\n",
       "\n",
       "    .dataframe thead th {\n",
       "        text-align: right;\n",
       "    }\n",
       "</style>\n",
       "<table border=\"1\" class=\"dataframe\">\n",
       "  <thead>\n",
       "    <tr style=\"text-align: right;\">\n",
       "      <th></th>\n",
       "      <th>words</th>\n",
       "      <th>weights</th>\n",
       "    </tr>\n",
       "  </thead>\n",
       "  <tbody>\n",
       "    <tr>\n",
       "      <th>0</th>\n",
       "      <td>super</td>\n",
       "      <td>0.028887</td>\n",
       "    </tr>\n",
       "    <tr>\n",
       "      <th>1</th>\n",
       "      <td>cool</td>\n",
       "      <td>0.023460</td>\n",
       "    </tr>\n",
       "    <tr>\n",
       "      <th>2</th>\n",
       "      <td>well</td>\n",
       "      <td>0.022791</td>\n",
       "    </tr>\n",
       "    <tr>\n",
       "      <th>3</th>\n",
       "      <td>and</td>\n",
       "      <td>0.015038</td>\n",
       "    </tr>\n",
       "    <tr>\n",
       "      <th>4</th>\n",
       "      <td>true</td>\n",
       "      <td>0.012074</td>\n",
       "    </tr>\n",
       "    <tr>\n",
       "      <th>5</th>\n",
       "      <td>falls</td>\n",
       "      <td>-0.001945</td>\n",
       "    </tr>\n",
       "    <tr>\n",
       "      <th>6</th>\n",
       "      <td>Bare</td>\n",
       "      <td>-0.001526</td>\n",
       "    </tr>\n",
       "    <tr>\n",
       "      <th>7</th>\n",
       "      <td>as</td>\n",
       "      <td>0.000954</td>\n",
       "    </tr>\n",
       "    <tr>\n",
       "      <th>8</th>\n",
       "      <td>Grace</td>\n",
       "      <td>0.000548</td>\n",
       "    </tr>\n",
       "    <tr>\n",
       "      <th>9</th>\n",
       "      <td>acting</td>\n",
       "      <td>-0.000213</td>\n",
       "    </tr>\n",
       "  </tbody>\n",
       "</table>\n",
       "</div>"
      ],
      "text/plain": [
       "    words   weights\n",
       "0   super  0.028887\n",
       "1    cool  0.023460\n",
       "2    well  0.022791\n",
       "3     and  0.015038\n",
       "4    true  0.012074\n",
       "5   falls -0.001945\n",
       "6    Bare -0.001526\n",
       "7      as  0.000954\n",
       "8   Grace  0.000548\n",
       "9  acting -0.000213"
      ]
     },
     "execution_count": 20,
     "metadata": {},
     "output_type": "execute_result"
    }
   ],
   "source": [
    "explainer = LimeTextExplainer(class_names=class_names)\n",
    "explanation = explainer.explain_instance(text_sample, pipeline.predict_proba, num_features=10)\n",
    "\n",
    "weights = OrderedDict(explanation.as_list())\n",
    "lime_weights = pd.DataFrame({'words': list(weights.keys()), 'weights': list(weights.values())})\n",
    "lime_weights"
   ]
  },
  {
   "cell_type": "code",
   "execution_count": 21,
   "id": "b3b991de",
   "metadata": {
    "execution": {
     "iopub.execute_input": "2022-11-20T11:28:34.013831Z",
     "iopub.status.busy": "2022-11-20T11:28:34.013425Z",
     "iopub.status.idle": "2022-11-20T11:28:34.263159Z",
     "shell.execute_reply": "2022-11-20T11:28:34.262022Z"
    },
    "papermill": {
     "duration": 0.358035,
     "end_time": "2022-11-20T11:28:34.265647",
     "exception": false,
     "start_time": "2022-11-20T11:28:33.907612",
     "status": "completed"
    },
    "tags": []
   },
   "outputs": [
    {
     "data": {
      "text/plain": [
       "Text(0.5, 1.0, 'Sample 11 features weights given by LIME')"
      ]
     },
     "execution_count": 21,
     "metadata": {},
     "output_type": "execute_result"
    },
    {
     "data": {
      "image/png": "[encoded data removed]",
      "text/plain": [
       "<Figure size 432x288 with 1 Axes>"
      ]
     },
     "metadata": {
      "needs_background": "light"
     },
     "output_type": "display_data"
    }
   ],
   "source": [
    "sns.barplot(x=\"words\", y=\"weights\", data=lime_weights);\n",
    "plt.xticks(rotation=45)\n",
    "plt.title('Sample {} features weights given by LIME'.format(idx))"
   ]
  }
 ],
 "metadata": {
  "kernelspec": {
   "display_name": "Python 3",
   "language": "python",
   "name": "python3"
  },
  "language_info": {
   "codemirror_mode": {
    "name": "ipython",
    "version": 3
   },
   "file_extension": ".py",
   "mimetype": "text/x-python",
   "name": "python",
   "nbconvert_exporter": "python",
   "pygments_lexer": "ipython3",
   "version": "3.7.12"
  },
  "papermill": {
   "default_parameters": {},
   "duration": 9116.207872,
   "end_time": "2022-11-20T11:28:37.245694",
   "environment_variables": {},
   "exception": null,
   "input_path": "__notebook__.ipynb",
   "output_path": "__notebook__.ipynb",
   "parameters": {},
   "start_time": "2022-11-20T08:56:41.037822",
   "version": "2.3.4"
  }
 },
 "nbformat": 4,
 "nbformat_minor": 5
}
