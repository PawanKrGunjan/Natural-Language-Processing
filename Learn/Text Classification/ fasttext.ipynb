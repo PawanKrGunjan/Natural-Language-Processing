{
 "cells": [
  {
   "cell_type": "markdown",
   "id": "f6337843",
   "metadata": {
    "_cell_guid": "b1076dfc-b9ad-4769-8c92-a6c4dae69d19",
    "_uuid": "8f2839f25d086af736a60e9eeb907d3b93b6e0e5",
    "execution": {
     "iopub.execute_input": "2022-11-18T01:35:27.280466Z",
     "iopub.status.busy": "2022-11-18T01:35:27.280120Z",
     "iopub.status.idle": "2022-11-18T01:35:27.290366Z",
     "shell.execute_reply": "2022-11-18T01:35:27.288997Z",
     "shell.execute_reply.started": "2022-11-18T01:35:27.280441Z"
    },
    "papermill": {
     "duration": 0.010974,
     "end_time": "2022-11-18T04:23:39.688388",
     "exception": false,
     "start_time": "2022-11-18T04:23:39.677414",
     "status": "completed"
    },
    "tags": []
   },
   "source": [
    "## Load the necessary libraries"
   ]
  },
  {
   "cell_type": "code",
   "execution_count": 1,
   "id": "8490182a",
   "metadata": {
    "execution": {
     "iopub.execute_input": "2022-11-18T04:23:39.705494Z",
     "iopub.status.busy": "2022-11-18T04:23:39.704007Z",
     "iopub.status.idle": "2022-11-18T04:23:39.757717Z",
     "shell.execute_reply": "2022-11-18T04:23:39.755166Z"
    },
    "papermill": {
     "duration": 0.065966,
     "end_time": "2022-11-18T04:23:39.761674",
     "exception": false,
     "start_time": "2022-11-18T04:23:39.695708",
     "status": "completed"
    },
    "tags": []
   },
   "outputs": [
    {
     "name": "stdout",
     "output_type": "stream",
     "text": [
      "/kaggle/input/dbpedia-classes/DBP_wiki_data.csv\n",
      "/kaggle/input/dbpedia-classes/DBPEDIA_test.csv\n",
      "/kaggle/input/dbpedia-classes/DBPEDIA_val.csv\n",
      "/kaggle/input/dbpedia-classes/DBPEDIA_train.csv\n"
     ]
    }
   ],
   "source": [
    "import numpy as np # linear algebra\n",
    "import pandas as pd # data processing, CSV file I/O (e.g. pd.read_csv)\n",
    "\n",
    "import os\n",
    "import pandas as pd\n",
    "import fasttext\n",
    "\n",
    "for dirname, _, filenames in os.walk('/kaggle/input'):\n",
    "    for filename in filenames:\n",
    "        print(os.path.join(dirname, filename))"
   ]
  },
  {
   "cell_type": "markdown",
   "id": "33584711",
   "metadata": {
    "papermill": {
     "duration": 0.00742,
     "end_time": "2022-11-18T04:23:39.778462",
     "exception": false,
     "start_time": "2022-11-18T04:23:39.771042",
     "status": "completed"
    },
    "tags": []
   },
   "source": [
    "## Read the data file"
   ]
  },
  {
   "cell_type": "code",
   "execution_count": 2,
   "id": "4e4e1b77",
   "metadata": {
    "execution": {
     "iopub.execute_input": "2022-11-18T04:23:39.793925Z",
     "iopub.status.busy": "2022-11-18T04:23:39.793201Z",
     "iopub.status.idle": "2022-11-18T04:23:45.469457Z",
     "shell.execute_reply": "2022-11-18T04:23:45.468070Z"
    },
    "papermill": {
     "duration": 5.687104,
     "end_time": "2022-11-18T04:23:45.472056",
     "exception": false,
     "start_time": "2022-11-18T04:23:39.784952",
     "status": "completed"
    },
    "tags": []
   },
   "outputs": [
    {
     "name": "stdout",
     "output_type": "stream",
     "text": [
      "Train:(240942, 4)  Test:(60794, 4)\n"
     ]
    }
   ],
   "source": [
    "# Loading train data\n",
    "train_file = '/kaggle/input/dbpedia-classes/DBPEDIA_train.csv'\n",
    "df = pd.read_csv(train_file)\n",
    "df.rename(columns = {'text':'Texts','l1':'class', 'l2':'profession','l3':'Type'}, inplace = True)\n",
    "\n",
    "# Loading test data\n",
    "test_file = '/kaggle/input/dbpedia-classes/DBPEDIA_test.csv'\n",
    "df_test = pd.read_csv(test_file)\n",
    "df_test.rename(columns = {'text':'Texts','l1':'class', 'l2':'profession','l3':'Type'}, inplace = True)\n",
    "\n",
    "# Data we have\n",
    "print(\"Train:{}  Test:{}\".format(df.shape, df_test.shape))"
   ]
  },
  {
   "cell_type": "code",
   "execution_count": 3,
   "id": "24f7947d",
   "metadata": {
    "execution": {
     "iopub.execute_input": "2022-11-18T04:23:45.488728Z",
     "iopub.status.busy": "2022-11-18T04:23:45.487609Z",
     "iopub.status.idle": "2022-11-18T04:23:45.509487Z",
     "shell.execute_reply": "2022-11-18T04:23:45.508415Z"
    },
    "papermill": {
     "duration": 0.032964,
     "end_time": "2022-11-18T04:23:45.512046",
     "exception": false,
     "start_time": "2022-11-18T04:23:45.479082",
     "status": "completed"
    },
    "tags": []
   },
   "outputs": [
    {
     "data": {
      "text/html": [
       "<div>\n",
       "<style scoped>\n",
       "    .dataframe tbody tr th:only-of-type {\n",
       "        vertical-align: middle;\n",
       "    }\n",
       "\n",
       "    .dataframe tbody tr th {\n",
       "        vertical-align: top;\n",
       "    }\n",
       "\n",
       "    .dataframe thead th {\n",
       "        text-align: right;\n",
       "    }\n",
       "</style>\n",
       "<table border=\"1\" class=\"dataframe\">\n",
       "  <thead>\n",
       "    <tr style=\"text-align: right;\">\n",
       "      <th></th>\n",
       "      <th>Texts</th>\n",
       "      <th>class</th>\n",
       "      <th>profession</th>\n",
       "      <th>Type</th>\n",
       "    </tr>\n",
       "  </thead>\n",
       "  <tbody>\n",
       "    <tr>\n",
       "      <th>0</th>\n",
       "      <td>William Alexander Massey (October 7, 1856 – Ma...</td>\n",
       "      <td>Agent</td>\n",
       "      <td>Politician</td>\n",
       "      <td>Senator</td>\n",
       "    </tr>\n",
       "    <tr>\n",
       "      <th>1</th>\n",
       "      <td>Lions is the sixth studio album by American ro...</td>\n",
       "      <td>Work</td>\n",
       "      <td>MusicalWork</td>\n",
       "      <td>Album</td>\n",
       "    </tr>\n",
       "    <tr>\n",
       "      <th>2</th>\n",
       "      <td>Pirqa (Aymara and Quechua for wall, hispaniciz...</td>\n",
       "      <td>Place</td>\n",
       "      <td>NaturalPlace</td>\n",
       "      <td>Mountain</td>\n",
       "    </tr>\n",
       "    <tr>\n",
       "      <th>3</th>\n",
       "      <td>Cancer Prevention Research is a biweekly peer-...</td>\n",
       "      <td>Work</td>\n",
       "      <td>PeriodicalLiterature</td>\n",
       "      <td>AcademicJournal</td>\n",
       "    </tr>\n",
       "    <tr>\n",
       "      <th>4</th>\n",
       "      <td>The Princeton University Chapel is located on ...</td>\n",
       "      <td>Place</td>\n",
       "      <td>Building</td>\n",
       "      <td>HistoricBuilding</td>\n",
       "    </tr>\n",
       "  </tbody>\n",
       "</table>\n",
       "</div>"
      ],
      "text/plain": [
       "                                               Texts  class  \\\n",
       "0  William Alexander Massey (October 7, 1856 – Ma...  Agent   \n",
       "1  Lions is the sixth studio album by American ro...   Work   \n",
       "2  Pirqa (Aymara and Quechua for wall, hispaniciz...  Place   \n",
       "3  Cancer Prevention Research is a biweekly peer-...   Work   \n",
       "4  The Princeton University Chapel is located on ...  Place   \n",
       "\n",
       "             profession              Type  \n",
       "0            Politician           Senator  \n",
       "1           MusicalWork             Album  \n",
       "2          NaturalPlace          Mountain  \n",
       "3  PeriodicalLiterature   AcademicJournal  \n",
       "4              Building  HistoricBuilding  "
      ]
     },
     "execution_count": 3,
     "metadata": {},
     "output_type": "execute_result"
    }
   ],
   "source": [
    "df.head()"
   ]
  },
  {
   "cell_type": "markdown",
   "id": "b404a305",
   "metadata": {
    "papermill": {
     "duration": 0.007049,
     "end_time": "2022-11-18T04:23:45.526518",
     "exception": false,
     "start_time": "2022-11-18T04:23:45.519469",
     "status": "completed"
    },
    "tags": []
   },
   "source": [
    "## Preprocessing"
   ]
  },
  {
   "cell_type": "code",
   "execution_count": 4,
   "id": "56a42904",
   "metadata": {
    "execution": {
     "iopub.execute_input": "2022-11-18T04:23:45.543687Z",
     "iopub.status.busy": "2022-11-18T04:23:45.543058Z",
     "iopub.status.idle": "2022-11-18T04:23:45.565528Z",
     "shell.execute_reply": "2022-11-18T04:23:45.564523Z"
    },
    "papermill": {
     "duration": 0.034049,
     "end_time": "2022-11-18T04:23:45.568088",
     "exception": false,
     "start_time": "2022-11-18T04:23:45.534039",
     "status": "completed"
    },
    "tags": []
   },
   "outputs": [
    {
     "data": {
      "text/plain": [
       "Agent             124798\n",
       "Place              45877\n",
       "Species            21472\n",
       "Work               21013\n",
       "Event              19106\n",
       "SportsSeason        5883\n",
       "UnitOfWork          1761\n",
       "TopicalConcept       784\n",
       "Device               248\n",
       "Name: class, dtype: int64"
      ]
     },
     "execution_count": 4,
     "metadata": {},
     "output_type": "execute_result"
    }
   ],
   "source": [
    "df['class'].value_counts()"
   ]
  },
  {
   "cell_type": "code",
   "execution_count": 5,
   "id": "c7192786",
   "metadata": {
    "execution": {
     "iopub.execute_input": "2022-11-18T04:23:45.586542Z",
     "iopub.status.busy": "2022-11-18T04:23:45.585902Z",
     "iopub.status.idle": "2022-11-18T04:23:45.614259Z",
     "shell.execute_reply": "2022-11-18T04:23:45.613285Z"
    },
    "papermill": {
     "duration": 0.039518,
     "end_time": "2022-11-18T04:23:45.616666",
     "exception": false,
     "start_time": "2022-11-18T04:23:45.577148",
     "status": "completed"
    },
    "tags": []
   },
   "outputs": [
    {
     "data": {
      "text/plain": [
       "array(['Politician', 'MusicalWork', 'NaturalPlace',\n",
       "       'PeriodicalLiterature', 'Building', 'Animal', 'Organisation',\n",
       "       'Person', 'Athlete', 'Settlement', 'LegalCase', 'MotorcycleRider',\n",
       "       'Company', 'RouteOfTransportation', 'SocietalEvent',\n",
       "       'WinterSportPlayer', 'ClericalAdministrativeRegion',\n",
       "       'EducationalInstitution', 'BodyOfWater', 'Plant', 'Infrastructure',\n",
       "       'FootballLeagueSeason', 'Actor', 'SportsManager', 'Cleric',\n",
       "       'Boxer', 'Cartoon', 'Venue', 'Artist', 'Tournament', 'Coach',\n",
       "       'ComicsCharacter', 'Olympics', 'SportsTeamSeason', 'Software',\n",
       "       'Group', 'Broadcaster', 'Tower', 'Race', 'SportFacility',\n",
       "       'SportsTeam', 'SportsEvent', 'Eukaryote', 'Scientist',\n",
       "       'CelestialBody', 'Engine', 'BritishRoyalty', 'Satellite', 'Comic',\n",
       "       'WrittenWork', 'FictionalCharacter', 'Presenter', 'Horse',\n",
       "       'NaturalEvent', 'AmusementParkAttraction', 'Writer', 'Song',\n",
       "       'RaceTrack', 'SportsLeague', 'Genre', 'GridironFootballPlayer',\n",
       "       'Database', 'RacingDriver', 'Wrestler', 'Stream', 'FloweringPlant',\n",
       "       'Station', 'OrganisationMember', 'MusicalArtist',\n",
       "       'VolleyballPlayer'], dtype=object)"
      ]
     },
     "execution_count": 5,
     "metadata": {},
     "output_type": "execute_result"
    }
   ],
   "source": [
    "df['profession'].unique()"
   ]
  },
  {
   "cell_type": "code",
   "execution_count": 6,
   "id": "e0f048f7",
   "metadata": {
    "execution": {
     "iopub.execute_input": "2022-11-18T04:23:45.633823Z",
     "iopub.status.busy": "2022-11-18T04:23:45.633152Z",
     "iopub.status.idle": "2022-11-18T04:23:45.657722Z",
     "shell.execute_reply": "2022-11-18T04:23:45.656293Z"
    },
    "papermill": {
     "duration": 0.036308,
     "end_time": "2022-11-18T04:23:45.660299",
     "exception": false,
     "start_time": "2022-11-18T04:23:45.623991",
     "status": "completed"
    },
    "tags": []
   },
   "outputs": [
    {
     "data": {
      "text/plain": [
       "AcademicJournal          1924\n",
       "Manga                    1924\n",
       "FigureSkater             1924\n",
       "OlympicEvent             1923\n",
       "SoccerTournament         1922\n",
       "                         ... \n",
       "Cycad                     145\n",
       "AnimangaCharacter         144\n",
       "BeachVolleyballPlayer     137\n",
       "CanadianFootballTeam      133\n",
       "BiologicalDatabase        129\n",
       "Name: Type, Length: 219, dtype: int64"
      ]
     },
     "execution_count": 6,
     "metadata": {},
     "output_type": "execute_result"
    }
   ],
   "source": [
    "df['Type'].value_counts()"
   ]
  },
  {
   "cell_type": "code",
   "execution_count": 7,
   "id": "4b8f7803",
   "metadata": {
    "execution": {
     "iopub.execute_input": "2022-11-18T04:23:45.676453Z",
     "iopub.status.busy": "2022-11-18T04:23:45.676061Z",
     "iopub.status.idle": "2022-11-18T04:23:45.732400Z",
     "shell.execute_reply": "2022-11-18T04:23:45.731053Z"
    },
    "papermill": {
     "duration": 0.067663,
     "end_time": "2022-11-18T04:23:45.735116",
     "exception": false,
     "start_time": "2022-11-18T04:23:45.667453",
     "status": "completed"
    },
    "tags": []
   },
   "outputs": [],
   "source": [
    "professions = {}\n",
    "i = 0\n",
    "for Name in df['profession'].unique():\n",
    "    professions[Name] = i\n",
    "    i +=1\n",
    "    \n",
    "# Mapping the classes\n",
    "df['Class'] = df['profession'].map(professions)\n",
    "df_test['Class'] = df_test['profession'].map(professions)"
   ]
  },
  {
   "cell_type": "code",
   "execution_count": 8,
   "id": "7721ac51",
   "metadata": {
    "execution": {
     "iopub.execute_input": "2022-11-18T04:23:45.752544Z",
     "iopub.status.busy": "2022-11-18T04:23:45.751665Z",
     "iopub.status.idle": "2022-11-18T04:23:45.784828Z",
     "shell.execute_reply": "2022-11-18T04:23:45.783837Z"
    },
    "papermill": {
     "duration": 0.044416,
     "end_time": "2022-11-18T04:23:45.787130",
     "exception": false,
     "start_time": "2022-11-18T04:23:45.742714",
     "status": "completed"
    },
    "tags": []
   },
   "outputs": [
    {
     "data": {
      "text/html": [
       "<div>\n",
       "<style scoped>\n",
       "    .dataframe tbody tr th:only-of-type {\n",
       "        vertical-align: middle;\n",
       "    }\n",
       "\n",
       "    .dataframe tbody tr th {\n",
       "        vertical-align: top;\n",
       "    }\n",
       "\n",
       "    .dataframe thead th {\n",
       "        text-align: right;\n",
       "    }\n",
       "</style>\n",
       "<table border=\"1\" class=\"dataframe\">\n",
       "  <thead>\n",
       "    <tr style=\"text-align: right;\">\n",
       "      <th></th>\n",
       "      <th>Texts</th>\n",
       "      <th>profession</th>\n",
       "      <th>Type</th>\n",
       "      <th>Class</th>\n",
       "    </tr>\n",
       "  </thead>\n",
       "  <tbody>\n",
       "    <tr>\n",
       "      <th>0</th>\n",
       "      <td>William Alexander Massey (October 7, 1856 – Ma...</td>\n",
       "      <td>Politician</td>\n",
       "      <td>Senator</td>\n",
       "      <td>0</td>\n",
       "    </tr>\n",
       "    <tr>\n",
       "      <th>1</th>\n",
       "      <td>Lions is the sixth studio album by American ro...</td>\n",
       "      <td>MusicalWork</td>\n",
       "      <td>Album</td>\n",
       "      <td>1</td>\n",
       "    </tr>\n",
       "    <tr>\n",
       "      <th>2</th>\n",
       "      <td>Pirqa (Aymara and Quechua for wall, hispaniciz...</td>\n",
       "      <td>NaturalPlace</td>\n",
       "      <td>Mountain</td>\n",
       "      <td>2</td>\n",
       "    </tr>\n",
       "    <tr>\n",
       "      <th>3</th>\n",
       "      <td>Cancer Prevention Research is a biweekly peer-...</td>\n",
       "      <td>PeriodicalLiterature</td>\n",
       "      <td>AcademicJournal</td>\n",
       "      <td>3</td>\n",
       "    </tr>\n",
       "    <tr>\n",
       "      <th>4</th>\n",
       "      <td>The Princeton University Chapel is located on ...</td>\n",
       "      <td>Building</td>\n",
       "      <td>HistoricBuilding</td>\n",
       "      <td>4</td>\n",
       "    </tr>\n",
       "  </tbody>\n",
       "</table>\n",
       "</div>"
      ],
      "text/plain": [
       "                                               Texts            profession  \\\n",
       "0  William Alexander Massey (October 7, 1856 – Ma...            Politician   \n",
       "1  Lions is the sixth studio album by American ro...           MusicalWork   \n",
       "2  Pirqa (Aymara and Quechua for wall, hispaniciz...          NaturalPlace   \n",
       "3  Cancer Prevention Research is a biweekly peer-...  PeriodicalLiterature   \n",
       "4  The Princeton University Chapel is located on ...              Building   \n",
       "\n",
       "               Type  Class  \n",
       "0           Senator      0  \n",
       "1             Album      1  \n",
       "2          Mountain      2  \n",
       "3   AcademicJournal      3  \n",
       "4  HistoricBuilding      4  "
      ]
     },
     "execution_count": 8,
     "metadata": {},
     "output_type": "execute_result"
    }
   ],
   "source": [
    "df.drop('class', axis = 1, inplace = True)\n",
    "df_test.drop('class', axis = 1, inplace = True)\n",
    "df.head()"
   ]
  },
  {
   "cell_type": "markdown",
   "id": "021838a1",
   "metadata": {
    "papermill": {
     "duration": 0.00737,
     "end_time": "2022-11-18T04:23:45.802148",
     "exception": false,
     "start_time": "2022-11-18T04:23:45.794778",
     "status": "completed"
    },
    "tags": []
   },
   "source": [
    "## Text Cleaning"
   ]
  },
  {
   "cell_type": "code",
   "execution_count": 9,
   "id": "36350e31",
   "metadata": {
    "execution": {
     "iopub.execute_input": "2022-11-18T04:23:45.819937Z",
     "iopub.status.busy": "2022-11-18T04:23:45.819471Z",
     "iopub.status.idle": "2022-11-18T04:23:45.827347Z",
     "shell.execute_reply": "2022-11-18T04:23:45.825923Z"
    },
    "papermill": {
     "duration": 0.020321,
     "end_time": "2022-11-18T04:23:45.830319",
     "exception": false,
     "start_time": "2022-11-18T04:23:45.809998",
     "status": "completed"
    },
    "tags": []
   },
   "outputs": [],
   "source": [
    "# Lets do some cleaning of this text\n",
    "def clean_it(text,normalize=True):\n",
    "    # Replacing possible issues with data. We can add or reduce the replacemtent in this chain\n",
    "    s = str(text).replace(',',' ').replace('\"','').replace('\\' ',' \\' ').replace('.',' . ').replace('(',' ( ').\\\n",
    "            replace(')',' ) ').replace('!',' ! ').replace('?',' ? ').replace(':',' ').replace(';',' ').lower()\n",
    "    \n",
    "    # normalizing / encoding the text\n",
    "    if normalize:\n",
    "        s = s.normalize('NFKD').str.encode('ascii','ignore').str.decode('utf-8')\n",
    "    \n",
    "    return s"
   ]
  },
  {
   "cell_type": "code",
   "execution_count": 10,
   "id": "7be527ab",
   "metadata": {
    "execution": {
     "iopub.execute_input": "2022-11-18T04:23:45.848931Z",
     "iopub.status.busy": "2022-11-18T04:23:45.848088Z",
     "iopub.status.idle": "2022-11-18T04:23:45.856652Z",
     "shell.execute_reply": "2022-11-18T04:23:45.855662Z"
    },
    "papermill": {
     "duration": 0.020982,
     "end_time": "2022-11-18T04:23:45.859273",
     "exception": false,
     "start_time": "2022-11-18T04:23:45.838291",
     "status": "completed"
    },
    "tags": []
   },
   "outputs": [
    {
     "data": {
      "text/plain": [
       "'__class__0 '"
      ]
     },
     "execution_count": 10,
     "metadata": {},
     "output_type": "execute_result"
    }
   ],
   "source": [
    "'__class__' + df['Class'].iloc[0].astype(str) + ' '"
   ]
  },
  {
   "cell_type": "code",
   "execution_count": 11,
   "id": "6ef31b94",
   "metadata": {
    "execution": {
     "iopub.execute_input": "2022-11-18T04:23:45.878752Z",
     "iopub.status.busy": "2022-11-18T04:23:45.877760Z",
     "iopub.status.idle": "2022-11-18T04:23:45.886292Z",
     "shell.execute_reply": "2022-11-18T04:23:45.884913Z"
    },
    "papermill": {
     "duration": 0.020846,
     "end_time": "2022-11-18T04:23:45.888938",
     "exception": false,
     "start_time": "2022-11-18T04:23:45.868092",
     "status": "completed"
    },
    "tags": []
   },
   "outputs": [],
   "source": [
    "# Now lets define a small function where we can use above cleaning on datasets\n",
    "def clean_df(data, cleanit= False, shuffleit=False, encodeit=False, label_prefix='__class__'):\n",
    "    # Defining the new data\n",
    "    df = data[['Type','Texts']].copy(deep=True)\n",
    "    df['Class'] = label_prefix + data['Class'].astype(str) + ' '\n",
    "    \n",
    "    # cleaning it\n",
    "    if cleanit:\n",
    "        df['Type'] = df['Type'].apply(lambda x: clean_it(x,encodeit))\n",
    "        df['Texts'] = df['Texts'].apply(lambda x: clean_it(x,encodeit))\n",
    "    \n",
    "    # shuffling it\n",
    "    if shuffleit:\n",
    "        df.sample(frac=1).reset_index(drop=True)\n",
    "            \n",
    "    return df"
   ]
  },
  {
   "cell_type": "code",
   "execution_count": 12,
   "id": "32dd11c5",
   "metadata": {
    "execution": {
     "iopub.execute_input": "2022-11-18T04:23:45.907592Z",
     "iopub.status.busy": "2022-11-18T04:23:45.906462Z",
     "iopub.status.idle": "2022-11-18T04:23:50.365196Z",
     "shell.execute_reply": "2022-11-18T04:23:50.363874Z"
    },
    "papermill": {
     "duration": 4.470939,
     "end_time": "2022-11-18T04:23:50.368001",
     "exception": false,
     "start_time": "2022-11-18T04:23:45.897062",
     "status": "completed"
    },
    "tags": []
   },
   "outputs": [
    {
     "name": "stdout",
     "output_type": "stream",
     "text": [
      "CPU times: user 4.1 s, sys: 345 ms, total: 4.45 s\n",
      "Wall time: 4.45 s\n"
     ]
    }
   ],
   "source": [
    "%%time\n",
    "# Transform the datasets using the above clean functions\n",
    "df_train_cleaned = clean_df(df, True, True)\n",
    "df_test_cleaned = clean_df(df_test, True, True)"
   ]
  },
  {
   "cell_type": "code",
   "execution_count": 13,
   "id": "efd5205a",
   "metadata": {
    "execution": {
     "iopub.execute_input": "2022-11-18T04:23:50.386093Z",
     "iopub.status.busy": "2022-11-18T04:23:50.384674Z",
     "iopub.status.idle": "2022-11-18T04:23:50.397509Z",
     "shell.execute_reply": "2022-11-18T04:23:50.396236Z"
    },
    "papermill": {
     "duration": 0.024678,
     "end_time": "2022-11-18T04:23:50.400182",
     "exception": false,
     "start_time": "2022-11-18T04:23:50.375504",
     "status": "completed"
    },
    "tags": []
   },
   "outputs": [
    {
     "data": {
      "text/html": [
       "<div>\n",
       "<style scoped>\n",
       "    .dataframe tbody tr th:only-of-type {\n",
       "        vertical-align: middle;\n",
       "    }\n",
       "\n",
       "    .dataframe tbody tr th {\n",
       "        vertical-align: top;\n",
       "    }\n",
       "\n",
       "    .dataframe thead th {\n",
       "        text-align: right;\n",
       "    }\n",
       "</style>\n",
       "<table border=\"1\" class=\"dataframe\">\n",
       "  <thead>\n",
       "    <tr style=\"text-align: right;\">\n",
       "      <th></th>\n",
       "      <th>Type</th>\n",
       "      <th>Texts</th>\n",
       "      <th>Class</th>\n",
       "    </tr>\n",
       "  </thead>\n",
       "  <tbody>\n",
       "    <tr>\n",
       "      <th>0</th>\n",
       "      <td>senator</td>\n",
       "      <td>william alexander massey  ( october 7  1856 – ...</td>\n",
       "      <td>__class__0</td>\n",
       "    </tr>\n",
       "    <tr>\n",
       "      <th>1</th>\n",
       "      <td>album</td>\n",
       "      <td>lions is the sixth studio album by american ro...</td>\n",
       "      <td>__class__1</td>\n",
       "    </tr>\n",
       "    <tr>\n",
       "      <th>2</th>\n",
       "      <td>mountain</td>\n",
       "      <td>pirqa  ( aymara and quechua for wall  hispanic...</td>\n",
       "      <td>__class__2</td>\n",
       "    </tr>\n",
       "    <tr>\n",
       "      <th>3</th>\n",
       "      <td>academicjournal</td>\n",
       "      <td>cancer prevention research is a biweekly peer-...</td>\n",
       "      <td>__class__3</td>\n",
       "    </tr>\n",
       "    <tr>\n",
       "      <th>4</th>\n",
       "      <td>historicbuilding</td>\n",
       "      <td>the princeton university chapel is located on ...</td>\n",
       "      <td>__class__4</td>\n",
       "    </tr>\n",
       "  </tbody>\n",
       "</table>\n",
       "</div>"
      ],
      "text/plain": [
       "               Type                                              Texts  \\\n",
       "0           senator  william alexander massey  ( october 7  1856 – ...   \n",
       "1             album  lions is the sixth studio album by american ro...   \n",
       "2          mountain  pirqa  ( aymara and quechua for wall  hispanic...   \n",
       "3   academicjournal  cancer prevention research is a biweekly peer-...   \n",
       "4  historicbuilding  the princeton university chapel is located on ...   \n",
       "\n",
       "         Class  \n",
       "0  __class__0   \n",
       "1  __class__1   \n",
       "2  __class__2   \n",
       "3  __class__3   \n",
       "4  __class__4   "
      ]
     },
     "execution_count": 13,
     "metadata": {},
     "output_type": "execute_result"
    }
   ],
   "source": [
    "df_train_cleaned.head()"
   ]
  },
  {
   "cell_type": "markdown",
   "id": "479a00db",
   "metadata": {
    "papermill": {
     "duration": 0.007494,
     "end_time": "2022-11-18T04:23:50.415407",
     "exception": false,
     "start_time": "2022-11-18T04:23:50.407913",
     "status": "completed"
    },
    "tags": []
   },
   "source": [
    "#### Write files to disk as fastText classifier API reads files from disk."
   ]
  },
  {
   "cell_type": "code",
   "execution_count": 14,
   "id": "46d09b13",
   "metadata": {
    "execution": {
     "iopub.execute_input": "2022-11-18T04:23:50.433946Z",
     "iopub.status.busy": "2022-11-18T04:23:50.432887Z",
     "iopub.status.idle": "2022-11-18T04:23:55.379525Z",
     "shell.execute_reply": "2022-11-18T04:23:55.377504Z"
    },
    "papermill": {
     "duration": 4.959295,
     "end_time": "2022-11-18T04:23:55.382836",
     "exception": false,
     "start_time": "2022-11-18T04:23:50.423541",
     "status": "completed"
    },
    "tags": []
   },
   "outputs": [],
   "source": [
    "# Write files to disk as fastText classifier API reads files from disk.\n",
    "train_file = 'dbpedia_train.csv'\n",
    "df_train_cleaned.to_csv(train_file, header=None, index=False, columns=['Class','Type','Texts'])\n",
    "\n",
    "\n",
    "test_file = 'dbpedia_test.csv'\n",
    "df_test_cleaned.to_csv(test_file, header=None, index=False, columns=['Class','Type','Texts'])"
   ]
  },
  {
   "cell_type": "markdown",
   "id": "dda2a7f0",
   "metadata": {
    "papermill": {
     "duration": 0.00851,
     "end_time": "2022-11-18T04:23:55.400938",
     "exception": false,
     "start_time": "2022-11-18T04:23:55.392428",
     "status": "completed"
    },
    "tags": []
   },
   "source": [
    "## FastText\n",
    "Train and test files written into disk in a format fastText wants, we are ready to use it for text classification!"
   ]
  },
  {
   "cell_type": "code",
   "execution_count": 15,
   "id": "c546ea2c",
   "metadata": {
    "execution": {
     "iopub.execute_input": "2022-11-18T04:23:55.420065Z",
     "iopub.status.busy": "2022-11-18T04:23:55.419592Z",
     "iopub.status.idle": "2022-11-18T04:43:46.440723Z",
     "shell.execute_reply": "2022-11-18T04:43:46.439087Z"
    },
    "papermill": {
     "duration": 1191.035835,
     "end_time": "2022-11-18T04:43:46.444998",
     "exception": false,
     "start_time": "2022-11-18T04:23:55.409163",
     "status": "completed"
    },
    "tags": []
   },
   "outputs": [
    {
     "name": "stderr",
     "output_type": "stream",
     "text": [
      "Read 27M words\n",
      "Number of words:  753758\n",
      "Number of labels: 70\n",
      "Progress: 100.0% words/sec/thread:  871758 lr:  0.000085 avg.loss:  0.022439 ETA:   0h 0m 0s"
     ]
    },
    {
     "name": "stdout",
     "output_type": "stream",
     "text": [
      "CPU times: user 39min 23s, sys: 15.8 s, total: 39min 38s\n",
      "Wall time: 19min 51s\n"
     ]
    },
    {
     "name": "stderr",
     "output_type": "stream",
     "text": [
      "Progress: 100.0% words/sec/thread:  871758 lr:  0.000000 avg.loss:  0.022437 ETA:   0h 0m 0s\n"
     ]
    }
   ],
   "source": [
    "%%time\n",
    "## Using fastText for feature extraction and training\n",
    "from fasttext import train_supervised \n",
    "\"\"\"\n",
    "fastText expects and training file (csv), a model name as input arguments.\n",
    "label_prefix refers to the prefix before label string in the dataset.\n",
    "default is __label__. In our dataset, it is __class__. \n",
    "There are several other parameters which can be seen in: \n",
    "https://pypi.org/project/fasttext/\n",
    "\"\"\"\n",
    "model = train_supervised(input=train_file, label=\"__class__\", lr=1.0, epoch=75, loss='ova', wordNgrams=2, dim=200, thread=2, verbose=100)"
   ]
  },
  {
   "cell_type": "code",
   "execution_count": 16,
   "id": "72ca6c28",
   "metadata": {
    "execution": {
     "iopub.execute_input": "2022-11-18T04:43:46.977642Z",
     "iopub.status.busy": "2022-11-18T04:43:46.976929Z",
     "iopub.status.idle": "2022-11-18T04:43:53.059384Z",
     "shell.execute_reply": "2022-11-18T04:43:53.057649Z"
    },
    "papermill": {
     "duration": 6.352751,
     "end_time": "2022-11-18T04:43:53.062340",
     "exception": false,
     "start_time": "2022-11-18T04:43:46.709589",
     "status": "completed"
    },
    "tags": []
   },
   "outputs": [
    {
     "name": "stderr",
     "output_type": "stream",
     "text": [
      "Warning : `load_model` does not return WordVectorModel or SupervisedModel any more, but a `FastText` object which is very similar.\n"
     ]
    }
   ],
   "source": [
    "# Save the model\n",
    "model.save_model(\"FastText.bin\")\n",
    "\n",
    "# Load the model\n",
    "FastText = fasttext.load_model(\"FastText.bin\")"
   ]
  },
  {
   "cell_type": "code",
   "execution_count": 17,
   "id": "450ce5f1",
   "metadata": {
    "execution": {
     "iopub.execute_input": "2022-11-18T04:43:53.588583Z",
     "iopub.status.busy": "2022-11-18T04:43:53.588190Z",
     "iopub.status.idle": "2022-11-18T04:43:53.789575Z",
     "shell.execute_reply": "2022-11-18T04:43:53.788642Z"
    },
    "papermill": {
     "duration": 0.468089,
     "end_time": "2022-11-18T04:43:53.791902",
     "exception": false,
     "start_time": "2022-11-18T04:43:53.323813",
     "status": "completed"
    },
    "tags": []
   },
   "outputs": [
    {
     "name": "stdout",
     "output_type": "stream",
     "text": [
      "Number of words : 753758\n",
      "Label : 70\n"
     ]
    }
   ],
   "source": [
    "print('Number of words :',len(FastText.words))\n",
    "print('Label :',len(FastText.labels))"
   ]
  },
  {
   "cell_type": "markdown",
   "id": "456f8c36",
   "metadata": {
    "papermill": {
     "duration": 0.267077,
     "end_time": "2022-11-18T04:43:54.327625",
     "exception": false,
     "start_time": "2022-11-18T04:43:54.060548",
     "status": "completed"
    },
    "tags": []
   },
   "source": [
    "## Evaluation"
   ]
  },
  {
   "cell_type": "code",
   "execution_count": 18,
   "id": "efebb6ed",
   "metadata": {
    "execution": {
     "iopub.execute_input": "2022-11-18T04:43:54.858925Z",
     "iopub.status.busy": "2022-11-18T04:43:54.858548Z",
     "iopub.status.idle": "2022-11-18T04:44:23.352414Z",
     "shell.execute_reply": "2022-11-18T04:44:23.351403Z"
    },
    "papermill": {
     "duration": 28.765765,
     "end_time": "2022-11-18T04:44:23.355567",
     "exception": false,
     "start_time": "2022-11-18T04:43:54.589802",
     "status": "completed"
    },
    "tags": []
   },
   "outputs": [
    {
     "name": "stdout",
     "output_type": "stream",
     "text": [
      "Test Samples: 60794 Precision@1 : 96.6888 Recall@1 : 96.6888\n",
      "Test Samples: 60794 Precision@2 : 49.1998 Recall@2 : 98.3995\n",
      "Test Samples: 60794 Precision@3 : 32.8552 Recall@3 : 98.5656\n",
      "Test Samples: 60794 Precision@4 : 24.6484 Recall@4 : 98.5936\n",
      "Test Samples: 60794 Precision@5 : 19.8158 Recall@5 : 99.0789\n"
     ]
    }
   ],
   "source": [
    "for k in range(1,6):\n",
    "    results = FastText.test(test_file,k=k)\n",
    "    print(f\"Test Samples: {results[0]} Precision@{k} : {results[1]*100:2.4f} Recall@{k} : {results[2]*100:2.4f}\")"
   ]
  },
  {
   "cell_type": "markdown",
   "id": "edbfc0f7",
   "metadata": {
    "papermill": {
     "duration": 0.273782,
     "end_time": "2022-11-18T04:44:23.969136",
     "exception": false,
     "start_time": "2022-11-18T04:44:23.695354",
     "status": "completed"
    },
    "tags": []
   },
   "source": [
    "## Prediction"
   ]
  },
  {
   "cell_type": "code",
   "execution_count": 19,
   "id": "5061a6da",
   "metadata": {
    "execution": {
     "iopub.execute_input": "2022-11-18T04:44:24.519323Z",
     "iopub.status.busy": "2022-11-18T04:44:24.518809Z",
     "iopub.status.idle": "2022-11-18T04:44:24.527681Z",
     "shell.execute_reply": "2022-11-18T04:44:24.526281Z"
    },
    "papermill": {
     "duration": 0.292649,
     "end_time": "2022-11-18T04:44:24.530648",
     "exception": false,
     "start_time": "2022-11-18T04:44:24.237999",
     "status": "completed"
    },
    "tags": []
   },
   "outputs": [
    {
     "name": "stdout",
     "output_type": "stream",
     "text": [
      "Text : liu chao-shiuan  ( chinese  劉兆玄  pinyin  liú zhàoxuán  born may 10  1943 )  is a taiwanese educator and politician .  he is a former president of the national tsing hua university  ( 1987–1993 )  and soochow university  ( 2004–2008 )  and a former premier of the republic of china  ( 2008–2009 )  . \n",
      "Actual : __class__0 \n",
      "Prediction : (('__class__0',), array([1.00001001]))\n"
     ]
    }
   ],
   "source": [
    "print('Text :',df_test_cleaned['Texts'].iloc[0])\n",
    "print('Actual :',df_test_cleaned['Class'].iloc[0])\n",
    "print('Prediction :',FastText.predict(df_test_cleaned['Texts'].iloc[0]))"
   ]
  }
 ],
 "metadata": {
  "kernelspec": {
   "display_name": "Python 3",
   "language": "python",
   "name": "python3"
  },
  "language_info": {
   "codemirror_mode": {
    "name": "ipython",
    "version": 3
   },
   "file_extension": ".py",
   "mimetype": "text/x-python",
   "name": "python",
   "nbconvert_exporter": "python",
   "pygments_lexer": "ipython3",
   "version": "3.7.12"
  },
  "papermill": {
   "default_parameters": {},
   "duration": 1256.539127,
   "end_time": "2022-11-18T04:44:26.231994",
   "environment_variables": {},
   "exception": null,
   "input_path": "__notebook__.ipynb",
   "output_path": "__notebook__.ipynb",
   "parameters": {},
   "start_time": "2022-11-18T04:23:29.692867",
   "version": "2.3.4"
  }
 },
 "nbformat": 4,
 "nbformat_minor": 5
}
