{
 "cells": [
  {
   "cell_type": "code",
   "execution_count": 1,
   "id": "3d0f5d29",
   "metadata": {
    "_cell_guid": "b1076dfc-b9ad-4769-8c92-a6c4dae69d19",
    "_uuid": "8f2839f25d086af736a60e9eeb907d3b93b6e0e5",
    "execution": {
     "iopub.execute_input": "2022-11-20T00:53:04.767100Z",
     "iopub.status.busy": "2022-11-20T00:53:04.766113Z",
     "iopub.status.idle": "2022-11-20T00:53:16.423228Z",
     "shell.execute_reply": "2022-11-20T00:53:16.422097Z"
    },
    "papermill": {
     "duration": 11.668033,
     "end_time": "2022-11-20T00:53:16.425685",
     "exception": false,
     "start_time": "2022-11-20T00:53:04.757652",
     "status": "completed"
    },
    "tags": []
   },
   "outputs": [
    {
     "name": "stdout",
     "output_type": "stream",
     "text": [
      "Collecting pytorch-pretrained-bert\r\n",
      "  Downloading pytorch_pretrained_bert-0.6.2-py3-none-any.whl (123 kB)\r\n",
      "\u001b[2K     \u001b[90m━━━━━━━━━━━━━━━━━━━━━━━━━━━━━━━━━━━━━\u001b[0m \u001b[32m123.8/123.8 kB\u001b[0m \u001b[31m536.2 kB/s\u001b[0m eta \u001b[36m0:00:00\u001b[0m\r\n",
      "\u001b[?25hRequirement already satisfied: boto3 in /opt/conda/lib/python3.7/site-packages (from pytorch-pretrained-bert) (1.24.93)\r\n",
      "Requirement already satisfied: tqdm in /opt/conda/lib/python3.7/site-packages (from pytorch-pretrained-bert) (4.64.0)\r\n",
      "Requirement already satisfied: numpy in /opt/conda/lib/python3.7/site-packages (from pytorch-pretrained-bert) (1.21.6)\r\n",
      "Requirement already satisfied: requests in /opt/conda/lib/python3.7/site-packages (from pytorch-pretrained-bert) (2.28.1)\r\n",
      "Requirement already satisfied: regex in /opt/conda/lib/python3.7/site-packages (from pytorch-pretrained-bert) (2021.11.10)\r\n",
      "Requirement already satisfied: torch>=0.4.1 in /opt/conda/lib/python3.7/site-packages (from pytorch-pretrained-bert) (1.11.0)\r\n",
      "Requirement already satisfied: typing-extensions in /opt/conda/lib/python3.7/site-packages (from torch>=0.4.1->pytorch-pretrained-bert) (4.1.1)\r\n",
      "Requirement already satisfied: jmespath<2.0.0,>=0.7.1 in /opt/conda/lib/python3.7/site-packages (from boto3->pytorch-pretrained-bert) (1.0.1)\r\n",
      "Requirement already satisfied: botocore<1.28.0,>=1.27.93 in /opt/conda/lib/python3.7/site-packages (from boto3->pytorch-pretrained-bert) (1.27.93)\r\n",
      "Requirement already satisfied: s3transfer<0.7.0,>=0.6.0 in /opt/conda/lib/python3.7/site-packages (from boto3->pytorch-pretrained-bert) (0.6.0)\r\n",
      "Requirement already satisfied: idna<4,>=2.5 in /opt/conda/lib/python3.7/site-packages (from requests->pytorch-pretrained-bert) (3.3)\r\n",
      "Requirement already satisfied: urllib3<1.27,>=1.21.1 in /opt/conda/lib/python3.7/site-packages (from requests->pytorch-pretrained-bert) (1.26.12)\r\n",
      "Requirement already satisfied: charset-normalizer<3,>=2 in /opt/conda/lib/python3.7/site-packages (from requests->pytorch-pretrained-bert) (2.1.0)\r\n",
      "Requirement already satisfied: certifi>=2017.4.17 in /opt/conda/lib/python3.7/site-packages (from requests->pytorch-pretrained-bert) (2022.9.24)\r\n",
      "Requirement already satisfied: python-dateutil<3.0.0,>=2.1 in /opt/conda/lib/python3.7/site-packages (from botocore<1.28.0,>=1.27.93->boto3->pytorch-pretrained-bert) (2.8.2)\r\n",
      "Requirement already satisfied: six>=1.5 in /opt/conda/lib/python3.7/site-packages (from python-dateutil<3.0.0,>=2.1->botocore<1.28.0,>=1.27.93->boto3->pytorch-pretrained-bert) (1.15.0)\r\n",
      "Installing collected packages: pytorch-pretrained-bert\r\n",
      "Successfully installed pytorch-pretrained-bert-0.6.2\r\n",
      "\u001b[33mWARNING: Running pip as the 'root' user can result in broken permissions and conflicting behaviour with the system package manager. It is recommended to use a virtual environment instead: https://pip.pypa.io/warnings/venv\u001b[0m\u001b[33m\r\n",
      "\u001b[0m"
     ]
    }
   ],
   "source": [
    "!pip install pytorch-pretrained-bert"
   ]
  },
  {
   "cell_type": "markdown",
   "id": "8c83568c",
   "metadata": {
    "papermill": {
     "duration": 0.00648,
     "end_time": "2022-11-20T00:53:16.439332",
     "exception": false,
     "start_time": "2022-11-20T00:53:16.432852",
     "status": "completed"
    },
    "tags": []
   },
   "source": [
    "## Important Necessary Libraries"
   ]
  },
  {
   "cell_type": "code",
   "execution_count": 2,
   "id": "c0d3f637",
   "metadata": {
    "execution": {
     "iopub.execute_input": "2022-11-20T00:53:16.454071Z",
     "iopub.status.busy": "2022-11-20T00:53:16.453453Z",
     "iopub.status.idle": "2022-11-20T00:53:24.027599Z",
     "shell.execute_reply": "2022-11-20T00:53:24.025799Z"
    },
    "papermill": {
     "duration": 7.584608,
     "end_time": "2022-11-20T00:53:24.030399",
     "exception": false,
     "start_time": "2022-11-20T00:53:16.445791",
     "status": "completed"
    },
    "tags": []
   },
   "outputs": [
    {
     "name": "stdout",
     "output_type": "stream",
     "text": [
      "1\n",
      "/kaggle/input/imdb-dataset-of-50k-movie-reviews/IMDB Dataset.csv\n"
     ]
    }
   ],
   "source": [
    "import warnings\n",
    "warnings.filterwarnings(\"ignore\") \n",
    "import os\n",
    "import numpy as np\n",
    "import pickle\n",
    "import tensorflow as tf\n",
    "from nltk.corpus import stopwords\n",
    "import string\n",
    "\n",
    "# BERT imports\n",
    "import torch\n",
    "from torch.utils.data import TensorDataset, DataLoader, RandomSampler, SequentialSampler\n",
    "from tensorflow.keras.preprocessing.sequence import pad_sequences\n",
    "from sklearn.model_selection import train_test_split\n",
    "from pytorch_pretrained_bert import BertTokenizer, BertConfig\n",
    "from pytorch_pretrained_bert import BertAdam, BertForSequenceClassification\n",
    "from tqdm import tqdm, trange\n",
    "import pandas as pd\n",
    "import io\n",
    "import numpy as np\n",
    "import matplotlib.pyplot as plt\n",
    "%matplotlib inline\n",
    "\n",
    "# specify GPU device\n",
    "device = torch.device(\"cuda\" if torch.cuda.is_available() else \"cpu\")\n",
    "if torch.cuda.is_available():\n",
    "    n_gpu = torch.cuda.device_count()\n",
    "    torch.cuda.get_device_name(0)\n",
    "    print(n_gpu)\n",
    "for dirname, _, filenames in os.walk('/kaggle/input'):\n",
    "    for filename in filenames:\n",
    "        print(os.path.join(dirname, filename))"
   ]
  },
  {
   "cell_type": "code",
   "execution_count": 3,
   "id": "932b8ba5",
   "metadata": {
    "execution": {
     "iopub.execute_input": "2022-11-20T00:53:24.046619Z",
     "iopub.status.busy": "2022-11-20T00:53:24.045390Z",
     "iopub.status.idle": "2022-11-20T00:53:25.425448Z",
     "shell.execute_reply": "2022-11-20T00:53:25.424559Z"
    },
    "papermill": {
     "duration": 1.390593,
     "end_time": "2022-11-20T00:53:25.428201",
     "exception": false,
     "start_time": "2022-11-20T00:53:24.037608",
     "status": "completed"
    },
    "tags": []
   },
   "outputs": [
    {
     "data": {
      "text/html": [
       "<div>\n",
       "<style scoped>\n",
       "    .dataframe tbody tr th:only-of-type {\n",
       "        vertical-align: middle;\n",
       "    }\n",
       "\n",
       "    .dataframe tbody tr th {\n",
       "        vertical-align: top;\n",
       "    }\n",
       "\n",
       "    .dataframe thead th {\n",
       "        text-align: right;\n",
       "    }\n",
       "</style>\n",
       "<table border=\"1\" class=\"dataframe\">\n",
       "  <thead>\n",
       "    <tr style=\"text-align: right;\">\n",
       "      <th></th>\n",
       "      <th>review</th>\n",
       "      <th>sentiment</th>\n",
       "    </tr>\n",
       "  </thead>\n",
       "  <tbody>\n",
       "    <tr>\n",
       "      <th>0</th>\n",
       "      <td>One of the other reviewers has mentioned that ...</td>\n",
       "      <td>positive</td>\n",
       "    </tr>\n",
       "    <tr>\n",
       "      <th>1</th>\n",
       "      <td>A wonderful little production. &lt;br /&gt;&lt;br /&gt;The...</td>\n",
       "      <td>positive</td>\n",
       "    </tr>\n",
       "    <tr>\n",
       "      <th>2</th>\n",
       "      <td>I thought this was a wonderful way to spend ti...</td>\n",
       "      <td>positive</td>\n",
       "    </tr>\n",
       "    <tr>\n",
       "      <th>3</th>\n",
       "      <td>Basically there's a family where a little boy ...</td>\n",
       "      <td>negative</td>\n",
       "    </tr>\n",
       "    <tr>\n",
       "      <th>4</th>\n",
       "      <td>Petter Mattei's \"Love in the Time of Money\" is...</td>\n",
       "      <td>positive</td>\n",
       "    </tr>\n",
       "  </tbody>\n",
       "</table>\n",
       "</div>"
      ],
      "text/plain": [
       "                                              review sentiment\n",
       "0  One of the other reviewers has mentioned that ...  positive\n",
       "1  A wonderful little production. <br /><br />The...  positive\n",
       "2  I thought this was a wonderful way to spend ti...  positive\n",
       "3  Basically there's a family where a little boy ...  negative\n",
       "4  Petter Mattei's \"Love in the Time of Money\" is...  positive"
      ]
     },
     "execution_count": 3,
     "metadata": {},
     "output_type": "execute_result"
    }
   ],
   "source": [
    "df = pd.read_csv('/kaggle/input/imdb-dataset-of-50k-movie-reviews/IMDB Dataset.csv')\n",
    "df.head()"
   ]
  },
  {
   "cell_type": "markdown",
   "id": "655e50e9",
   "metadata": {
    "papermill": {
     "duration": 0.009968,
     "end_time": "2022-11-20T00:53:25.449065",
     "exception": false,
     "start_time": "2022-11-20T00:53:25.439097",
     "status": "completed"
    },
    "tags": []
   },
   "source": [
    "## Preprocessing\n",
    "### Sentiment"
   ]
  },
  {
   "cell_type": "code",
   "execution_count": 4,
   "id": "e8cbace4",
   "metadata": {
    "execution": {
     "iopub.execute_input": "2022-11-20T00:53:25.471809Z",
     "iopub.status.busy": "2022-11-20T00:53:25.471448Z",
     "iopub.status.idle": "2022-11-20T00:53:25.514575Z",
     "shell.execute_reply": "2022-11-20T00:53:25.513511Z"
    },
    "papermill": {
     "duration": 0.056729,
     "end_time": "2022-11-20T00:53:25.517308",
     "exception": false,
     "start_time": "2022-11-20T00:53:25.460579",
     "status": "completed"
    },
    "tags": []
   },
   "outputs": [],
   "source": [
    "labels = list(df['sentiment'].apply(lambda x: 1 if x=='positive' else 0))"
   ]
  },
  {
   "cell_type": "markdown",
   "id": "373128a2",
   "metadata": {
    "papermill": {
     "duration": 0.009299,
     "end_time": "2022-11-20T00:53:25.536372",
     "exception": false,
     "start_time": "2022-11-20T00:53:25.527073",
     "status": "completed"
    },
    "tags": []
   },
   "source": [
    "### Review\n",
    "#### Clean the text HTML tag"
   ]
  },
  {
   "cell_type": "code",
   "execution_count": 5,
   "id": "e96ea1aa",
   "metadata": {
    "execution": {
     "iopub.execute_input": "2022-11-20T00:53:25.556999Z",
     "iopub.status.busy": "2022-11-20T00:53:25.556386Z",
     "iopub.status.idle": "2022-11-20T00:53:35.375723Z",
     "shell.execute_reply": "2022-11-20T00:53:35.374759Z"
    },
    "papermill": {
     "duration": 9.83245,
     "end_time": "2022-11-20T00:53:35.378381",
     "exception": false,
     "start_time": "2022-11-20T00:53:25.545931",
     "status": "completed"
    },
    "tags": []
   },
   "outputs": [],
   "source": [
    "#cleaning the text\n",
    "from bs4 import BeautifulSoup\n",
    "import re\n",
    "\n",
    "def strip(text):\n",
    "    soup = BeautifulSoup(text, \"html.parser\")\n",
    "    text = re.sub('\\[[^]]*\\]', '', soup.get_text())\n",
    "    pattern=r\"[^a-zA-z0-9\\s,']\"\n",
    "    text=re.sub(pattern,'',text)\n",
    "    return text\n",
    "\n",
    "df['review']=df['review'].apply(strip)"
   ]
  },
  {
   "cell_type": "code",
   "execution_count": 6,
   "id": "98ca561f",
   "metadata": {
    "execution": {
     "iopub.execute_input": "2022-11-20T00:53:35.394477Z",
     "iopub.status.busy": "2022-11-20T00:53:35.393040Z",
     "iopub.status.idle": "2022-11-20T00:53:35.402781Z",
     "shell.execute_reply": "2022-11-20T00:53:35.401894Z"
    },
    "papermill": {
     "duration": 0.019422,
     "end_time": "2022-11-20T00:53:35.404712",
     "exception": false,
     "start_time": "2022-11-20T00:53:35.385290",
     "status": "completed"
    },
    "tags": []
   },
   "outputs": [
    {
     "data": {
      "text/html": [
       "<div>\n",
       "<style scoped>\n",
       "    .dataframe tbody tr th:only-of-type {\n",
       "        vertical-align: middle;\n",
       "    }\n",
       "\n",
       "    .dataframe tbody tr th {\n",
       "        vertical-align: top;\n",
       "    }\n",
       "\n",
       "    .dataframe thead th {\n",
       "        text-align: right;\n",
       "    }\n",
       "</style>\n",
       "<table border=\"1\" class=\"dataframe\">\n",
       "  <thead>\n",
       "    <tr style=\"text-align: right;\">\n",
       "      <th></th>\n",
       "      <th>review</th>\n",
       "      <th>sentiment</th>\n",
       "    </tr>\n",
       "  </thead>\n",
       "  <tbody>\n",
       "    <tr>\n",
       "      <th>0</th>\n",
       "      <td>One of the other reviewers has mentioned that ...</td>\n",
       "      <td>positive</td>\n",
       "    </tr>\n",
       "    <tr>\n",
       "      <th>1</th>\n",
       "      <td>A wonderful little production The filming tech...</td>\n",
       "      <td>positive</td>\n",
       "    </tr>\n",
       "    <tr>\n",
       "      <th>2</th>\n",
       "      <td>I thought this was a wonderful way to spend ti...</td>\n",
       "      <td>positive</td>\n",
       "    </tr>\n",
       "    <tr>\n",
       "      <th>3</th>\n",
       "      <td>Basically there's a family where a little boy ...</td>\n",
       "      <td>negative</td>\n",
       "    </tr>\n",
       "    <tr>\n",
       "      <th>4</th>\n",
       "      <td>Petter Mattei's Love in the Time of Money is a...</td>\n",
       "      <td>positive</td>\n",
       "    </tr>\n",
       "  </tbody>\n",
       "</table>\n",
       "</div>"
      ],
      "text/plain": [
       "                                              review sentiment\n",
       "0  One of the other reviewers has mentioned that ...  positive\n",
       "1  A wonderful little production The filming tech...  positive\n",
       "2  I thought this was a wonderful way to spend ti...  positive\n",
       "3  Basically there's a family where a little boy ...  negative\n",
       "4  Petter Mattei's Love in the Time of Money is a...  positive"
      ]
     },
     "execution_count": 6,
     "metadata": {},
     "output_type": "execute_result"
    }
   ],
   "source": [
    "df.head()"
   ]
  },
  {
   "cell_type": "markdown",
   "id": "69026e1e",
   "metadata": {
    "papermill": {
     "duration": 0.00658,
     "end_time": "2022-11-20T00:53:35.418008",
     "exception": false,
     "start_time": "2022-11-20T00:53:35.411428",
     "status": "completed"
    },
    "tags": []
   },
   "source": [
    "BERT expects input data in a specific format\n",
    "- 1. We are performing a classification task so we use a special token [CLS] to indicate this to BERT.\n",
    "- 2. It needs to know the end of a sentence so we use the [SEP] token."
   ]
  },
  {
   "cell_type": "code",
   "execution_count": 7,
   "id": "e0aa39b6",
   "metadata": {
    "execution": {
     "iopub.execute_input": "2022-11-20T00:53:35.433740Z",
     "iopub.status.busy": "2022-11-20T00:53:35.432350Z",
     "iopub.status.idle": "2022-11-20T00:53:35.472808Z",
     "shell.execute_reply": "2022-11-20T00:53:35.472007Z"
    },
    "papermill": {
     "duration": 0.050064,
     "end_time": "2022-11-20T00:53:35.474917",
     "exception": false,
     "start_time": "2022-11-20T00:53:35.424853",
     "status": "completed"
    },
    "tags": []
   },
   "outputs": [
    {
     "data": {
      "text/plain": [
       "\"[CLS] One of the other reviewers has mentioned that after watching just 1 Oz episode you'll be hooked They are right, as this is exactly what happened with meThe first thing that struck me about Oz was its brutality and unflinching scenes of violence, which set in right from the word GO Trust me, this is not a show for the faint hearted or timid This show pulls no punches with regards to drugs, sex or violence Its is hardcore, in the classic use of the wordIt is called OZ as that is the nickname given to the Oswald Maximum Security State Penitentary It focuses mainly on Emerald City, an experimental section of the prison where all the cells have glass fronts and face inwards, so privacy is not high on the agenda Em City is home to manyAryans, Muslims, gangstas, Latinos, Christians, Italians, Irish and moreso scuffles, death stares, dodgy dealings and shady agreements are never far awayI would say the main appeal of the show is due to the fact that it goes where other shows wouldn't dare Forget pretty pictures painted for mainstream audiences, forget charm, forget romanceOZ doesn't mess around The first episode I ever saw struck me as so nasty it was surreal, I couldn't say I was ready for it, but as I watched more, I developed a taste for Oz, and got accustomed to the high levels of graphic violence Not just violence, but injustice crooked guards who'll be sold out for a nickel, inmates who'll kill on order and get away with it, well mannered, middle class inmates being turned into prison bitches due to their lack of street skills or prison experience Watching Oz, you may become comfortable with what is uncomfortable viewingthats if you can get in touch with your darker side [SEP]\""
      ]
     },
     "execution_count": 7,
     "metadata": {},
     "output_type": "execute_result"
    }
   ],
   "source": [
    "#BERT needs to understand 2 things:\n",
    "#1) The start and end of each sentiment\n",
    "# so we declare a special token CLS which tells BERT that its a classification task\n",
    "sentences = df['review']\n",
    "sentence = [\"[CLS] \"+i+\" [SEP]\" for i in sentences]\n",
    "\n",
    "sentence[0]"
   ]
  },
  {
   "cell_type": "markdown",
   "id": "7721aeb0",
   "metadata": {
    "papermill": {
     "duration": 0.006825,
     "end_time": "2022-11-20T00:53:35.488731",
     "exception": false,
     "start_time": "2022-11-20T00:53:35.481906",
     "status": "completed"
    },
    "tags": []
   },
   "source": [
    "### Tokenization\n",
    "We now need to tokenize our text into tokens that correspond to BERT’s vocabulary."
   ]
  },
  {
   "cell_type": "code",
   "execution_count": 8,
   "id": "91ced15d",
   "metadata": {
    "execution": {
     "iopub.execute_input": "2022-11-20T00:53:35.504073Z",
     "iopub.status.busy": "2022-11-20T00:53:35.503206Z",
     "iopub.status.idle": "2022-11-20T00:53:36.776080Z",
     "shell.execute_reply": "2022-11-20T00:53:36.775004Z"
    },
    "papermill": {
     "duration": 1.283822,
     "end_time": "2022-11-20T00:53:36.779377",
     "exception": false,
     "start_time": "2022-11-20T00:53:35.495555",
     "status": "completed"
    },
    "tags": []
   },
   "outputs": [
    {
     "name": "stderr",
     "output_type": "stream",
     "text": [
      "100%|██████████| 231508/231508 [00:00<00:00, 901514.48B/s]\n"
     ]
    }
   ],
   "source": [
    "# Tokenize with BERT tokenizer\n",
    "tokenizer = BertTokenizer.from_pretrained('bert-base-uncased', do_lower_case=True)"
   ]
  },
  {
   "cell_type": "code",
   "execution_count": 9,
   "id": "d02fa590",
   "metadata": {
    "execution": {
     "iopub.execute_input": "2022-11-20T00:53:36.796158Z",
     "iopub.status.busy": "2022-11-20T00:53:36.795582Z",
     "iopub.status.idle": "2022-11-20T00:57:15.492606Z",
     "shell.execute_reply": "2022-11-20T00:57:15.491584Z"
    },
    "papermill": {
     "duration": 218.714588,
     "end_time": "2022-11-20T00:57:15.502077",
     "exception": false,
     "start_time": "2022-11-20T00:53:36.787489",
     "status": "completed"
    },
    "tags": []
   },
   "outputs": [
    {
     "name": "stdout",
     "output_type": "stream",
     "text": [
      "CPU times: user 3min 37s, sys: 423 ms, total: 3min 37s\n",
      "Wall time: 3min 38s\n"
     ]
    }
   ],
   "source": [
    "%%time\n",
    "Stopwords = set(stopwords.words(\"english\"))\n",
    "# Restricting the max size of Tokens to 512(BERT doest accept any more than this)\n",
    "tokenized_texts = []\n",
    "for text in sentence:\n",
    "    Tokens = tokenizer.tokenize(text) # Restricting the max size of Tokens to 512(BERT doest accept any more than this)\n",
    "    tokens = []\n",
    "    for token in Tokens:\n",
    "        if token not in Stopwords and not token.isdigit() and token not in string.punctuation:\n",
    "            tokens.append(token)\n",
    "          \n",
    "    tokenized_texts.append(tokens)"
   ]
  },
  {
   "cell_type": "markdown",
   "id": "210181d5",
   "metadata": {
    "papermill": {
     "duration": 0.006902,
     "end_time": "2022-11-20T00:57:15.516169",
     "exception": false,
     "start_time": "2022-11-20T00:57:15.509267",
     "status": "completed"
    },
    "tags": []
   },
   "source": [
    "Here, first sentence tokenized_texts length is `365` if we consider the `MAX_LEN = 128` then we are not considering 2/3 part of the data. So. we remove the stopwords from sentence. Because that is not the influencial part for the sentiment being `positive` or `negative`\n",
    "\n",
    "### Use the BERT tokenizer to convert the tokens to their index numbers in the BERT vocabulary"
   ]
  },
  {
   "cell_type": "code",
   "execution_count": 10,
   "id": "dead93a3",
   "metadata": {
    "execution": {
     "iopub.execute_input": "2022-11-20T00:57:15.532244Z",
     "iopub.status.busy": "2022-11-20T00:57:15.531283Z",
     "iopub.status.idle": "2022-11-20T00:57:17.235543Z",
     "shell.execute_reply": "2022-11-20T00:57:17.233882Z"
    },
    "papermill": {
     "duration": 1.715183,
     "end_time": "2022-11-20T00:57:17.238475",
     "exception": false,
     "start_time": "2022-11-20T00:57:15.523292",
     "status": "completed"
    },
    "tags": []
   },
   "outputs": [
    {
     "name": "stdout",
     "output_type": "stream",
     "text": [
      "CPU times: user 1.65 s, sys: 50 ms, total: 1.7 s\n",
      "Wall time: 1.7 s\n"
     ]
    }
   ],
   "source": [
    "%%time\n",
    "# Use the BERT tokenizer to convert the tokens to their index numbers in the BERT vocabulary\n",
    "text_ids = [tokenizer.convert_tokens_to_ids(x) for x in tokenized_texts]"
   ]
  },
  {
   "cell_type": "markdown",
   "id": "e8b33eee",
   "metadata": {
    "papermill": {
     "duration": 0.007048,
     "end_time": "2022-11-20T00:57:17.253255",
     "exception": false,
     "start_time": "2022-11-20T00:57:17.246207",
     "status": "completed"
    },
    "tags": []
   },
   "source": [
    "### Padding"
   ]
  },
  {
   "cell_type": "code",
   "execution_count": 11,
   "id": "37b840ef",
   "metadata": {
    "execution": {
     "iopub.execute_input": "2022-11-20T00:57:17.268586Z",
     "iopub.status.busy": "2022-11-20T00:57:17.268315Z",
     "iopub.status.idle": "2022-11-20T00:57:17.607450Z",
     "shell.execute_reply": "2022-11-20T00:57:17.606434Z"
    },
    "papermill": {
     "duration": 0.349433,
     "end_time": "2022-11-20T00:57:17.609799",
     "exception": false,
     "start_time": "2022-11-20T00:57:17.260366",
     "status": "completed"
    },
    "tags": []
   },
   "outputs": [],
   "source": [
    "# Set the maximum sequence length. \n",
    "MAX_LEN = 128\n",
    "\n",
    "input_ids = pad_sequences(text_ids, maxlen=MAX_LEN, dtype=\"long\", truncating=\"post\", padding=\"post\")"
   ]
  },
  {
   "cell_type": "markdown",
   "id": "9ec93a1d",
   "metadata": {
    "papermill": {
     "duration": 0.006979,
     "end_time": "2022-11-20T00:57:17.624494",
     "exception": false,
     "start_time": "2022-11-20T00:57:17.617515",
     "status": "completed"
    },
    "tags": []
   },
   "source": [
    "#### BERT is a MLM(Masked Language Model). We have to define its mask."
   ]
  },
  {
   "cell_type": "code",
   "execution_count": 12,
   "id": "6d3f4942",
   "metadata": {
    "execution": {
     "iopub.execute_input": "2022-11-20T00:57:17.639910Z",
     "iopub.status.busy": "2022-11-20T00:57:17.639597Z",
     "iopub.status.idle": "2022-11-20T00:57:20.670871Z",
     "shell.execute_reply": "2022-11-20T00:57:20.669882Z"
    },
    "papermill": {
     "duration": 3.041881,
     "end_time": "2022-11-20T00:57:20.673422",
     "exception": false,
     "start_time": "2022-11-20T00:57:17.631541",
     "status": "completed"
    },
    "tags": []
   },
   "outputs": [],
   "source": [
    "# Create attention masks\n",
    "attention_masks = []\n",
    "# Create a mask of 1s for each token followed by 0s for padding\n",
    "for seq in input_ids:\n",
    "    seq_mask = [float(i>0) for i in seq]\n",
    "    attention_masks.append(seq_mask)"
   ]
  },
  {
   "cell_type": "markdown",
   "id": "d14d6063",
   "metadata": {
    "papermill": {
     "duration": 0.007541,
     "end_time": "2022-11-20T00:57:20.689616",
     "exception": false,
     "start_time": "2022-11-20T00:57:20.682075",
     "status": "completed"
    },
    "tags": []
   },
   "source": [
    "### Example"
   ]
  },
  {
   "cell_type": "code",
   "execution_count": 13,
   "id": "4f2e9143",
   "metadata": {
    "execution": {
     "iopub.execute_input": "2022-11-20T00:57:20.705305Z",
     "iopub.status.busy": "2022-11-20T00:57:20.704996Z",
     "iopub.status.idle": "2022-11-20T00:57:20.712597Z",
     "shell.execute_reply": "2022-11-20T00:57:20.711683Z"
    },
    "papermill": {
     "duration": 0.018424,
     "end_time": "2022-11-20T00:57:20.715288",
     "exception": false,
     "start_time": "2022-11-20T00:57:20.696864",
     "status": "completed"
    },
    "tags": []
   },
   "outputs": [
    {
     "name": "stdout",
     "output_type": "stream",
     "text": [
      "Tokenized first sentence:\n",
      "['[CLS]', 'one', 'reviewers', 'mentioned', 'watching', 'oz', 'episode', 'hooked', 'right', 'exactly', 'happened', 'met', '##he', 'first', 'thing', 'struck', 'oz', 'brutality', 'un', '##fl', '##in', '##ching', 'scenes', 'violence', 'set', 'right', 'word', 'go', 'trust', 'show', 'faint', 'hearted', 'tim', '##id', 'show', 'pulls', 'punches', 'regards', 'drugs', 'sex', 'violence', 'hardcore', 'classic', 'use', 'word', '##it', 'called', 'oz', 'nickname', 'given', 'oswald', 'maximum', 'security', 'state', 'pen', '##ite', '##nta', '##ry', 'focuses', 'mainly', 'emerald', 'city', 'experimental', 'section', 'prison', 'cells', 'glass', 'fronts', 'face', 'inward', '##s', 'privacy', 'high', 'agenda', 'em', 'city', 'home', 'many', '##ary', '##ans', 'muslims', 'gangs', '##tas', 'latino', '##s', 'christians', 'italians', 'irish', '##so', 'sc', '##uf', '##fles', 'death', 'stares', 'dod', '##gy', 'dealings', 'shady', 'agreements', 'never', 'far', 'away', '##i', 'would', 'say', 'main', 'appeal', 'show', 'due', 'fact', 'goes', 'shows', 'dare', 'forget', 'pretty', 'pictures', 'painted', 'mainstream', 'audiences', 'forget', 'charm', 'forget', 'romance', '##oz', 'mess', 'around', 'first', 'episode', 'ever', 'saw', 'struck', 'nasty', 'surreal', 'say', 'ready', 'watched', 'developed', 'taste', 'oz', 'got', 'accustomed', 'high', 'levels', 'graphic', 'violence', 'violence', 'injustice', 'crooked', 'guards', 'sold', 'nickel', 'inmates', 'kill', 'order', 'get', 'away', 'well', 'manner', '##ed', 'middle', 'class', 'inmates', 'turned', 'prison', 'bitch', '##es', 'due', 'lack', 'street', 'skills', 'prison', 'experience', 'watching', 'oz', 'may', 'become', 'comfortable', 'uncomfortable', 'viewing', '##tha', '##ts', 'get', 'touch', 'darker', 'side', '[SEP]']\n",
      "Tokenized first sentence Length : 186\n",
      "\n",
      "convert the tokens to their index numbers in the BERT vocabulary:\n",
      "[101, 2028, 15814, 3855, 3666, 11472, 2792, 13322, 2157, 3599, 3047, 2777, 5369, 2034, 2518, 4930, 11472, 24083, 4895, 10258, 2378, 8450, 5019, 4808, 2275, 2157, 2773, 2175, 3404, 2265, 8143, 18627, 5199, 3593, 2265, 8005, 17957, 12362, 5850, 3348, 4808, 13076, 4438, 2224, 2773, 4183, 2170, 11472, 8367, 2445, 17411, 4555, 3036, 2110, 7279, 4221, 12380, 2854, 7679, 3701, 14110, 2103, 6388, 2930, 3827, 4442, 3221, 21430, 2227, 20546, 2015, 9394, 2152, 11376, 7861, 2103, 2188, 2116, 5649, 6962, 7486, 18542, 10230, 7402, 2015, 8135, 16773, 3493, 6499, 8040, 16093, 28331, 2331, 14020, 26489, 6292, 24069, 22824, 10540, 2196, 2521, 2185, 2072, 2052, 2360, 2364, 5574, 2265, 2349, 2755, 3632, 3065, 8108, 5293, 3492, 4620, 4993, 7731, 9501, 5293, 11084, 5293, 7472, 18153, 6752, 2105, 2034, 2792, 2412, 2387, 4930, 11808, 16524, 2360, 3201, 3427, 2764, 5510, 11472, 2288, 17730, 2152, 3798, 8425, 4808, 4808, 21321, 15274, 4932, 2853, 15519, 13187, 3102, 2344, 2131, 2185, 2092, 5450, 2098, 2690, 2465, 13187, 2357, 3827, 7743, 2229, 2349, 3768, 2395, 4813, 3827, 3325, 3666, 11472, 2089, 2468, 6625, 8796, 10523, 8322, 3215, 2131, 3543, 9904, 2217, 102]\n",
      "\n",
      "Padding\n",
      "Before Padding, Length : 186\n",
      "After Padding, Length : 128\n",
      "\n",
      "Mask [1.0, 1.0, 1.0, 1.0, 1.0, 1.0, 1.0, 1.0, 1.0, 1.0, 1.0, 1.0, 1.0, 1.0, 1.0, 1.0, 1.0, 1.0, 1.0, 1.0, 1.0, 1.0, 1.0, 1.0, 1.0, 1.0, 1.0, 1.0, 1.0, 1.0, 1.0, 1.0, 1.0, 1.0, 1.0, 1.0, 1.0, 1.0, 1.0, 1.0, 1.0, 1.0, 1.0, 1.0, 1.0, 1.0, 1.0, 1.0, 1.0, 1.0, 1.0, 1.0, 1.0, 1.0, 1.0, 1.0, 1.0, 1.0, 1.0, 1.0, 1.0, 1.0, 1.0, 1.0, 1.0, 1.0, 1.0, 1.0, 1.0, 1.0, 1.0, 1.0, 1.0, 1.0, 1.0, 1.0, 1.0, 1.0, 1.0, 1.0, 1.0, 1.0, 1.0, 1.0, 1.0, 1.0, 1.0, 1.0, 1.0, 1.0, 1.0, 1.0, 1.0, 1.0, 1.0, 1.0, 1.0, 1.0, 1.0, 1.0, 1.0, 1.0, 1.0, 1.0, 1.0, 1.0, 1.0, 1.0, 1.0, 1.0, 1.0, 1.0, 1.0, 1.0, 1.0, 1.0, 1.0, 1.0, 1.0, 1.0, 1.0, 1.0, 1.0, 1.0, 1.0, 1.0, 1.0, 1.0]\n",
      "Mask length : 128\n"
     ]
    }
   ],
   "source": [
    "print (\"Tokenized first sentence:\")\n",
    "print (tokenized_texts[0])\n",
    "print ('Tokenized first sentence Length :',len(tokenized_texts[0]))\n",
    "print()\n",
    "\n",
    "print (\"convert the tokens to their index numbers in the BERT vocabulary:\")\n",
    "print(tokenizer.convert_tokens_to_ids(tokenized_texts[0]))\n",
    "print()\n",
    "\n",
    "print (\"Padding\")\n",
    "print('Before Padding, Length :',len(text_ids[0]))\n",
    "print('After Padding, Length :',len(input_ids[0]))\n",
    "\n",
    "print()\n",
    "print('Mask',attention_masks[0])\n",
    "print('Mask length :',len(attention_masks[0]))"
   ]
  },
  {
   "cell_type": "markdown",
   "id": "ae34be12",
   "metadata": {
    "papermill": {
     "duration": 0.007153,
     "end_time": "2022-11-20T00:57:20.730593",
     "exception": false,
     "start_time": "2022-11-20T00:57:20.723440",
     "status": "completed"
    },
    "tags": []
   },
   "source": [
    "#### Now we need to split the data into train and validation."
   ]
  },
  {
   "cell_type": "code",
   "execution_count": 14,
   "id": "08fae912",
   "metadata": {
    "execution": {
     "iopub.execute_input": "2022-11-20T00:57:20.746491Z",
     "iopub.status.busy": "2022-11-20T00:57:20.745842Z",
     "iopub.status.idle": "2022-11-20T00:57:20.811714Z",
     "shell.execute_reply": "2022-11-20T00:57:20.810716Z"
    },
    "papermill": {
     "duration": 0.076299,
     "end_time": "2022-11-20T00:57:20.814082",
     "exception": false,
     "start_time": "2022-11-20T00:57:20.737783",
     "status": "completed"
    },
    "tags": []
   },
   "outputs": [],
   "source": [
    "# Select a batch size for training. \n",
    "batch_size = 16\n",
    "\n",
    "# Use train_test_split to split our data into train and validation sets for training\n",
    "train_inputs, validation_inputs, train_labels, validation_labels = train_test_split(input_ids, \n",
    "                                                                                    labels, \n",
    "                                                                                    random_state=2023, \n",
    "                                                                                    test_size=0.1)\n",
    "train_masks, validation_masks, _, _ = train_test_split(attention_masks, \n",
    "                                                       input_ids,\n",
    "                                                       random_state=2023, \n",
    "                                                       test_size=0.1)"
   ]
  },
  {
   "cell_type": "markdown",
   "id": "8d221b8d",
   "metadata": {
    "papermill": {
     "duration": 0.007111,
     "end_time": "2022-11-20T00:57:20.828870",
     "exception": false,
     "start_time": "2022-11-20T00:57:20.821759",
     "status": "completed"
    },
    "tags": []
   },
   "source": [
    "#### Convert all of our data into torch tensors, the required datatype for our model"
   ]
  },
  {
   "cell_type": "code",
   "execution_count": 15,
   "id": "1e034073",
   "metadata": {
    "execution": {
     "iopub.execute_input": "2022-11-20T00:57:20.845087Z",
     "iopub.status.busy": "2022-11-20T00:57:20.844234Z",
     "iopub.status.idle": "2022-11-20T00:57:21.347179Z",
     "shell.execute_reply": "2022-11-20T00:57:21.345994Z"
    },
    "papermill": {
     "duration": 0.513775,
     "end_time": "2022-11-20T00:57:21.349815",
     "exception": false,
     "start_time": "2022-11-20T00:57:20.836040",
     "status": "completed"
    },
    "tags": []
   },
   "outputs": [],
   "source": [
    "# Convert all of our data into torch tensors, the required datatype for our model\n",
    "train_inputs = torch.tensor(train_inputs)\n",
    "validation_inputs = torch.tensor(validation_inputs)\n",
    "train_labels = torch.tensor(train_labels)\n",
    "validation_labels = torch.tensor(validation_labels)\n",
    "train_masks = torch.tensor(train_masks)\n",
    "validation_masks = torch.tensor(validation_masks)"
   ]
  },
  {
   "cell_type": "markdown",
   "id": "1ba5bcf4",
   "metadata": {
    "papermill": {
     "duration": 0.010368,
     "end_time": "2022-11-20T00:57:21.371425",
     "exception": false,
     "start_time": "2022-11-20T00:57:21.361057",
     "status": "completed"
    },
    "tags": []
   },
   "source": [
    "#### Create an iterator of our data with torch DataLoader "
   ]
  },
  {
   "cell_type": "code",
   "execution_count": 16,
   "id": "662941b4",
   "metadata": {
    "execution": {
     "iopub.execute_input": "2022-11-20T00:57:21.394413Z",
     "iopub.status.busy": "2022-11-20T00:57:21.394025Z",
     "iopub.status.idle": "2022-11-20T00:57:21.400549Z",
     "shell.execute_reply": "2022-11-20T00:57:21.399584Z"
    },
    "papermill": {
     "duration": 0.019919,
     "end_time": "2022-11-20T00:57:21.402440",
     "exception": false,
     "start_time": "2022-11-20T00:57:21.382521",
     "status": "completed"
    },
    "tags": []
   },
   "outputs": [],
   "source": [
    "# Create an iterator of our data with torch DataLoader \n",
    "train_data = TensorDataset(train_inputs, train_masks, train_labels)\n",
    "train_sampler = RandomSampler(train_data)\n",
    "train_dataloader = DataLoader(train_data, sampler=train_sampler, batch_size=batch_size)\n",
    "validation_data = TensorDataset(validation_inputs, validation_masks, validation_labels)\n",
    "validation_sampler = SequentialSampler(validation_data)\n",
    "validation_dataloader = DataLoader(validation_data, sampler=validation_sampler, batch_size=batch_size)"
   ]
  },
  {
   "cell_type": "markdown",
   "id": "c54c09fa",
   "metadata": {
    "papermill": {
     "duration": 0.010217,
     "end_time": "2022-11-20T00:57:21.421603",
     "exception": false,
     "start_time": "2022-11-20T00:57:21.411386",
     "status": "completed"
    },
    "tags": []
   },
   "source": [
    "## Load the model"
   ]
  },
  {
   "cell_type": "code",
   "execution_count": 17,
   "id": "baa61fec",
   "metadata": {
    "execution": {
     "iopub.execute_input": "2022-11-20T00:57:21.443472Z",
     "iopub.status.busy": "2022-11-20T00:57:21.443156Z",
     "iopub.status.idle": "2022-11-20T00:57:49.533292Z",
     "shell.execute_reply": "2022-11-20T00:57:49.532282Z"
    },
    "papermill": {
     "duration": 28.107048,
     "end_time": "2022-11-20T00:57:49.538959",
     "exception": false,
     "start_time": "2022-11-20T00:57:21.431911",
     "status": "completed"
    },
    "tags": []
   },
   "outputs": [
    {
     "name": "stderr",
     "output_type": "stream",
     "text": [
      "100%|██████████| 407873900/407873900 [00:15<00:00, 27181775.16B/s]\n"
     ]
    },
    {
     "name": "stdout",
     "output_type": "stream",
     "text": [
      "BertForSequenceClassification(\n",
      "  (bert): BertModel(\n",
      "    (embeddings): BertEmbeddings(\n",
      "      (word_embeddings): Embedding(30522, 768, padding_idx=0)\n",
      "      (position_embeddings): Embedding(512, 768)\n",
      "      (token_type_embeddings): Embedding(2, 768)\n",
      "      (LayerNorm): BertLayerNorm()\n",
      "      (dropout): Dropout(p=0.1, inplace=False)\n",
      "    )\n",
      "    (encoder): BertEncoder(\n",
      "      (layer): ModuleList(\n",
      "        (0): BertLayer(\n",
      "          (attention): BertAttention(\n",
      "            (self): BertSelfAttention(\n",
      "              (query): Linear(in_features=768, out_features=768, bias=True)\n",
      "              (key): Linear(in_features=768, out_features=768, bias=True)\n",
      "              (value): Linear(in_features=768, out_features=768, bias=True)\n",
      "              (dropout): Dropout(p=0.1, inplace=False)\n",
      "            )\n",
      "            (output): BertSelfOutput(\n",
      "              (dense): Linear(in_features=768, out_features=768, bias=True)\n",
      "              (LayerNorm): BertLayerNorm()\n",
      "              (dropout): Dropout(p=0.1, inplace=False)\n",
      "            )\n",
      "          )\n",
      "          (intermediate): BertIntermediate(\n",
      "            (dense): Linear(in_features=768, out_features=3072, bias=True)\n",
      "          )\n",
      "          (output): BertOutput(\n",
      "            (dense): Linear(in_features=3072, out_features=768, bias=True)\n",
      "            (LayerNorm): BertLayerNorm()\n",
      "            (dropout): Dropout(p=0.1, inplace=False)\n",
      "          )\n",
      "        )\n",
      "        (1): BertLayer(\n",
      "          (attention): BertAttention(\n",
      "            (self): BertSelfAttention(\n",
      "              (query): Linear(in_features=768, out_features=768, bias=True)\n",
      "              (key): Linear(in_features=768, out_features=768, bias=True)\n",
      "              (value): Linear(in_features=768, out_features=768, bias=True)\n",
      "              (dropout): Dropout(p=0.1, inplace=False)\n",
      "            )\n",
      "            (output): BertSelfOutput(\n",
      "              (dense): Linear(in_features=768, out_features=768, bias=True)\n",
      "              (LayerNorm): BertLayerNorm()\n",
      "              (dropout): Dropout(p=0.1, inplace=False)\n",
      "            )\n",
      "          )\n",
      "          (intermediate): BertIntermediate(\n",
      "            (dense): Linear(in_features=768, out_features=3072, bias=True)\n",
      "          )\n",
      "          (output): BertOutput(\n",
      "            (dense): Linear(in_features=3072, out_features=768, bias=True)\n",
      "            (LayerNorm): BertLayerNorm()\n",
      "            (dropout): Dropout(p=0.1, inplace=False)\n",
      "          )\n",
      "        )\n",
      "        (2): BertLayer(\n",
      "          (attention): BertAttention(\n",
      "            (self): BertSelfAttention(\n",
      "              (query): Linear(in_features=768, out_features=768, bias=True)\n",
      "              (key): Linear(in_features=768, out_features=768, bias=True)\n",
      "              (value): Linear(in_features=768, out_features=768, bias=True)\n",
      "              (dropout): Dropout(p=0.1, inplace=False)\n",
      "            )\n",
      "            (output): BertSelfOutput(\n",
      "              (dense): Linear(in_features=768, out_features=768, bias=True)\n",
      "              (LayerNorm): BertLayerNorm()\n",
      "              (dropout): Dropout(p=0.1, inplace=False)\n",
      "            )\n",
      "          )\n",
      "          (intermediate): BertIntermediate(\n",
      "            (dense): Linear(in_features=768, out_features=3072, bias=True)\n",
      "          )\n",
      "          (output): BertOutput(\n",
      "            (dense): Linear(in_features=3072, out_features=768, bias=True)\n",
      "            (LayerNorm): BertLayerNorm()\n",
      "            (dropout): Dropout(p=0.1, inplace=False)\n",
      "          )\n",
      "        )\n",
      "        (3): BertLayer(\n",
      "          (attention): BertAttention(\n",
      "            (self): BertSelfAttention(\n",
      "              (query): Linear(in_features=768, out_features=768, bias=True)\n",
      "              (key): Linear(in_features=768, out_features=768, bias=True)\n",
      "              (value): Linear(in_features=768, out_features=768, bias=True)\n",
      "              (dropout): Dropout(p=0.1, inplace=False)\n",
      "            )\n",
      "            (output): BertSelfOutput(\n",
      "              (dense): Linear(in_features=768, out_features=768, bias=True)\n",
      "              (LayerNorm): BertLayerNorm()\n",
      "              (dropout): Dropout(p=0.1, inplace=False)\n",
      "            )\n",
      "          )\n",
      "          (intermediate): BertIntermediate(\n",
      "            (dense): Linear(in_features=768, out_features=3072, bias=True)\n",
      "          )\n",
      "          (output): BertOutput(\n",
      "            (dense): Linear(in_features=3072, out_features=768, bias=True)\n",
      "            (LayerNorm): BertLayerNorm()\n",
      "            (dropout): Dropout(p=0.1, inplace=False)\n",
      "          )\n",
      "        )\n",
      "        (4): BertLayer(\n",
      "          (attention): BertAttention(\n",
      "            (self): BertSelfAttention(\n",
      "              (query): Linear(in_features=768, out_features=768, bias=True)\n",
      "              (key): Linear(in_features=768, out_features=768, bias=True)\n",
      "              (value): Linear(in_features=768, out_features=768, bias=True)\n",
      "              (dropout): Dropout(p=0.1, inplace=False)\n",
      "            )\n",
      "            (output): BertSelfOutput(\n",
      "              (dense): Linear(in_features=768, out_features=768, bias=True)\n",
      "              (LayerNorm): BertLayerNorm()\n",
      "              (dropout): Dropout(p=0.1, inplace=False)\n",
      "            )\n",
      "          )\n",
      "          (intermediate): BertIntermediate(\n",
      "            (dense): Linear(in_features=768, out_features=3072, bias=True)\n",
      "          )\n",
      "          (output): BertOutput(\n",
      "            (dense): Linear(in_features=3072, out_features=768, bias=True)\n",
      "            (LayerNorm): BertLayerNorm()\n",
      "            (dropout): Dropout(p=0.1, inplace=False)\n",
      "          )\n",
      "        )\n",
      "        (5): BertLayer(\n",
      "          (attention): BertAttention(\n",
      "            (self): BertSelfAttention(\n",
      "              (query): Linear(in_features=768, out_features=768, bias=True)\n",
      "              (key): Linear(in_features=768, out_features=768, bias=True)\n",
      "              (value): Linear(in_features=768, out_features=768, bias=True)\n",
      "              (dropout): Dropout(p=0.1, inplace=False)\n",
      "            )\n",
      "            (output): BertSelfOutput(\n",
      "              (dense): Linear(in_features=768, out_features=768, bias=True)\n",
      "              (LayerNorm): BertLayerNorm()\n",
      "              (dropout): Dropout(p=0.1, inplace=False)\n",
      "            )\n",
      "          )\n",
      "          (intermediate): BertIntermediate(\n",
      "            (dense): Linear(in_features=768, out_features=3072, bias=True)\n",
      "          )\n",
      "          (output): BertOutput(\n",
      "            (dense): Linear(in_features=3072, out_features=768, bias=True)\n",
      "            (LayerNorm): BertLayerNorm()\n",
      "            (dropout): Dropout(p=0.1, inplace=False)\n",
      "          )\n",
      "        )\n",
      "        (6): BertLayer(\n",
      "          (attention): BertAttention(\n",
      "            (self): BertSelfAttention(\n",
      "              (query): Linear(in_features=768, out_features=768, bias=True)\n",
      "              (key): Linear(in_features=768, out_features=768, bias=True)\n",
      "              (value): Linear(in_features=768, out_features=768, bias=True)\n",
      "              (dropout): Dropout(p=0.1, inplace=False)\n",
      "            )\n",
      "            (output): BertSelfOutput(\n",
      "              (dense): Linear(in_features=768, out_features=768, bias=True)\n",
      "              (LayerNorm): BertLayerNorm()\n",
      "              (dropout): Dropout(p=0.1, inplace=False)\n",
      "            )\n",
      "          )\n",
      "          (intermediate): BertIntermediate(\n",
      "            (dense): Linear(in_features=768, out_features=3072, bias=True)\n",
      "          )\n",
      "          (output): BertOutput(\n",
      "            (dense): Linear(in_features=3072, out_features=768, bias=True)\n",
      "            (LayerNorm): BertLayerNorm()\n",
      "            (dropout): Dropout(p=0.1, inplace=False)\n",
      "          )\n",
      "        )\n",
      "        (7): BertLayer(\n",
      "          (attention): BertAttention(\n",
      "            (self): BertSelfAttention(\n",
      "              (query): Linear(in_features=768, out_features=768, bias=True)\n",
      "              (key): Linear(in_features=768, out_features=768, bias=True)\n",
      "              (value): Linear(in_features=768, out_features=768, bias=True)\n",
      "              (dropout): Dropout(p=0.1, inplace=False)\n",
      "            )\n",
      "            (output): BertSelfOutput(\n",
      "              (dense): Linear(in_features=768, out_features=768, bias=True)\n",
      "              (LayerNorm): BertLayerNorm()\n",
      "              (dropout): Dropout(p=0.1, inplace=False)\n",
      "            )\n",
      "          )\n",
      "          (intermediate): BertIntermediate(\n",
      "            (dense): Linear(in_features=768, out_features=3072, bias=True)\n",
      "          )\n",
      "          (output): BertOutput(\n",
      "            (dense): Linear(in_features=3072, out_features=768, bias=True)\n",
      "            (LayerNorm): BertLayerNorm()\n",
      "            (dropout): Dropout(p=0.1, inplace=False)\n",
      "          )\n",
      "        )\n",
      "        (8): BertLayer(\n",
      "          (attention): BertAttention(\n",
      "            (self): BertSelfAttention(\n",
      "              (query): Linear(in_features=768, out_features=768, bias=True)\n",
      "              (key): Linear(in_features=768, out_features=768, bias=True)\n",
      "              (value): Linear(in_features=768, out_features=768, bias=True)\n",
      "              (dropout): Dropout(p=0.1, inplace=False)\n",
      "            )\n",
      "            (output): BertSelfOutput(\n",
      "              (dense): Linear(in_features=768, out_features=768, bias=True)\n",
      "              (LayerNorm): BertLayerNorm()\n",
      "              (dropout): Dropout(p=0.1, inplace=False)\n",
      "            )\n",
      "          )\n",
      "          (intermediate): BertIntermediate(\n",
      "            (dense): Linear(in_features=768, out_features=3072, bias=True)\n",
      "          )\n",
      "          (output): BertOutput(\n",
      "            (dense): Linear(in_features=3072, out_features=768, bias=True)\n",
      "            (LayerNorm): BertLayerNorm()\n",
      "            (dropout): Dropout(p=0.1, inplace=False)\n",
      "          )\n",
      "        )\n",
      "        (9): BertLayer(\n",
      "          (attention): BertAttention(\n",
      "            (self): BertSelfAttention(\n",
      "              (query): Linear(in_features=768, out_features=768, bias=True)\n",
      "              (key): Linear(in_features=768, out_features=768, bias=True)\n",
      "              (value): Linear(in_features=768, out_features=768, bias=True)\n",
      "              (dropout): Dropout(p=0.1, inplace=False)\n",
      "            )\n",
      "            (output): BertSelfOutput(\n",
      "              (dense): Linear(in_features=768, out_features=768, bias=True)\n",
      "              (LayerNorm): BertLayerNorm()\n",
      "              (dropout): Dropout(p=0.1, inplace=False)\n",
      "            )\n",
      "          )\n",
      "          (intermediate): BertIntermediate(\n",
      "            (dense): Linear(in_features=768, out_features=3072, bias=True)\n",
      "          )\n",
      "          (output): BertOutput(\n",
      "            (dense): Linear(in_features=3072, out_features=768, bias=True)\n",
      "            (LayerNorm): BertLayerNorm()\n",
      "            (dropout): Dropout(p=0.1, inplace=False)\n",
      "          )\n",
      "        )\n",
      "        (10): BertLayer(\n",
      "          (attention): BertAttention(\n",
      "            (self): BertSelfAttention(\n",
      "              (query): Linear(in_features=768, out_features=768, bias=True)\n",
      "              (key): Linear(in_features=768, out_features=768, bias=True)\n",
      "              (value): Linear(in_features=768, out_features=768, bias=True)\n",
      "              (dropout): Dropout(p=0.1, inplace=False)\n",
      "            )\n",
      "            (output): BertSelfOutput(\n",
      "              (dense): Linear(in_features=768, out_features=768, bias=True)\n",
      "              (LayerNorm): BertLayerNorm()\n",
      "              (dropout): Dropout(p=0.1, inplace=False)\n",
      "            )\n",
      "          )\n",
      "          (intermediate): BertIntermediate(\n",
      "            (dense): Linear(in_features=768, out_features=3072, bias=True)\n",
      "          )\n",
      "          (output): BertOutput(\n",
      "            (dense): Linear(in_features=3072, out_features=768, bias=True)\n",
      "            (LayerNorm): BertLayerNorm()\n",
      "            (dropout): Dropout(p=0.1, inplace=False)\n",
      "          )\n",
      "        )\n",
      "        (11): BertLayer(\n",
      "          (attention): BertAttention(\n",
      "            (self): BertSelfAttention(\n",
      "              (query): Linear(in_features=768, out_features=768, bias=True)\n",
      "              (key): Linear(in_features=768, out_features=768, bias=True)\n",
      "              (value): Linear(in_features=768, out_features=768, bias=True)\n",
      "              (dropout): Dropout(p=0.1, inplace=False)\n",
      "            )\n",
      "            (output): BertSelfOutput(\n",
      "              (dense): Linear(in_features=768, out_features=768, bias=True)\n",
      "              (LayerNorm): BertLayerNorm()\n",
      "              (dropout): Dropout(p=0.1, inplace=False)\n",
      "            )\n",
      "          )\n",
      "          (intermediate): BertIntermediate(\n",
      "            (dense): Linear(in_features=768, out_features=3072, bias=True)\n",
      "          )\n",
      "          (output): BertOutput(\n",
      "            (dense): Linear(in_features=3072, out_features=768, bias=True)\n",
      "            (LayerNorm): BertLayerNorm()\n",
      "            (dropout): Dropout(p=0.1, inplace=False)\n",
      "          )\n",
      "        )\n",
      "      )\n",
      "    )\n",
      "    (pooler): BertPooler(\n",
      "      (dense): Linear(in_features=768, out_features=768, bias=True)\n",
      "      (activation): Tanh()\n",
      "    )\n",
      "  )\n",
      "  (dropout): Dropout(p=0.1, inplace=False)\n",
      "  (classifier): Linear(in_features=768, out_features=2, bias=True)\n",
      ")\n"
     ]
    }
   ],
   "source": [
    "#Loading pre trained BERT\n",
    "model = BertForSequenceClassification.from_pretrained(\"bert-base-uncased\", num_labels=2)#binary classification\n",
    "if torch.cuda.is_available():\n",
    "    print(model.cuda())\n",
    "else:\n",
    "    print(model)"
   ]
  },
  {
   "cell_type": "markdown",
   "id": "3209d336",
   "metadata": {
    "papermill": {
     "duration": 0.013758,
     "end_time": "2022-11-20T00:57:49.567655",
     "exception": false,
     "start_time": "2022-11-20T00:57:49.553897",
     "status": "completed"
    },
    "tags": []
   },
   "source": [
    "## BERT fine-tuning parameters"
   ]
  },
  {
   "cell_type": "code",
   "execution_count": 18,
   "id": "3c5ab43b",
   "metadata": {
    "execution": {
     "iopub.execute_input": "2022-11-20T00:57:49.597393Z",
     "iopub.status.busy": "2022-11-20T00:57:49.596467Z",
     "iopub.status.idle": "2022-11-20T00:57:49.605809Z",
     "shell.execute_reply": "2022-11-20T00:57:49.604973Z"
    },
    "papermill": {
     "duration": 0.026268,
     "end_time": "2022-11-20T00:57:49.607736",
     "exception": false,
     "start_time": "2022-11-20T00:57:49.581468",
     "status": "completed"
    },
    "tags": []
   },
   "outputs": [],
   "source": [
    "# BERT fine-tuning parameters\n",
    "param_optimizer = list(model.named_parameters())\n",
    "no_decay = ['bias', 'gamma', 'beta']\n",
    "optimizer_grouped_parameters = [\n",
    "    {'params': [p for n, p in param_optimizer if not any(nd in n for nd in no_decay)],\n",
    "     'weight_decay_rate': 0.01},\n",
    "    {'params': [p for n, p in param_optimizer if any(nd in n for nd in no_decay)],\n",
    "     'weight_decay_rate': 0.0}\n",
    "]\n",
    "\n",
    "optimizer = BertAdam(optimizer_grouped_parameters,\n",
    "                     lr=2e-5,\n",
    "                     warmup=.1)\n",
    "\n",
    "# Function to calculate the accuracy of our predictions vs labels\n",
    "def flat_accuracy(preds, labels):\n",
    "    pred_flat = np.argmax(preds, axis=1).flatten()\n",
    "    labels_flat = labels.flatten()\n",
    "    return np.sum(pred_flat == labels_flat) / len(labels_flat)\n",
    "\n",
    "torch.cuda.empty_cache() "
   ]
  },
  {
   "cell_type": "code",
   "execution_count": 19,
   "id": "c7cba345",
   "metadata": {
    "execution": {
     "iopub.execute_input": "2022-11-20T00:57:49.638338Z",
     "iopub.status.busy": "2022-11-20T00:57:49.636908Z",
     "iopub.status.idle": "2022-11-20T01:35:48.741760Z",
     "shell.execute_reply": "2022-11-20T01:35:48.740618Z"
    },
    "papermill": {
     "duration": 2279.122721,
     "end_time": "2022-11-20T01:35:48.744363",
     "exception": false,
     "start_time": "2022-11-20T00:57:49.621642",
     "status": "completed"
    },
    "tags": []
   },
   "outputs": [
    {
     "name": "stderr",
     "output_type": "stream",
     "text": [
      "Epoch:   0%|          | 0/3 [00:00<?, ?it/s]"
     ]
    },
    {
     "name": "stdout",
     "output_type": "stream",
     "text": [
      "Train loss: 0.6952494322469639\n"
     ]
    },
    {
     "name": "stderr",
     "output_type": "stream",
     "text": [
      "Epoch:  33%|███▎      | 1/3 [12:40<25:20, 760.24s/it]"
     ]
    },
    {
     "name": "stdout",
     "output_type": "stream",
     "text": [
      "Validation Accuracy: 0.5027955271565495\n",
      "Train loss: 0.6941567713409991\n"
     ]
    },
    {
     "name": "stderr",
     "output_type": "stream",
     "text": [
      "Epoch:  67%|██████▋   | 2/3 [25:19<12:39, 759.82s/it]"
     ]
    },
    {
     "name": "stdout",
     "output_type": "stream",
     "text": [
      "Validation Accuracy: 0.5027955271565495\n",
      "Train loss: 0.6941670222380727\n"
     ]
    },
    {
     "name": "stderr",
     "output_type": "stream",
     "text": [
      "Epoch: 100%|██████████| 3/3 [37:59<00:00, 759.70s/it]"
     ]
    },
    {
     "name": "stdout",
     "output_type": "stream",
     "text": [
      "Validation Accuracy: 0.5027955271565495\n"
     ]
    },
    {
     "name": "stderr",
     "output_type": "stream",
     "text": [
      "\n"
     ]
    }
   ],
   "source": [
    "# Store our loss and accuracy for plotting\n",
    "train_loss_set = []\n",
    "# Number of training epochs \n",
    "epochs = 3\n",
    "\n",
    "# BERT training loop\n",
    "for _ in trange(epochs, desc=\"Epoch\"):  \n",
    "  \n",
    "  ## TRAINING\n",
    "  \n",
    "  # Set our model to training mode\n",
    "    model.train()  \n",
    "  # Tracking variables\n",
    "    tr_loss = 0\n",
    "    nb_tr_examples, nb_tr_steps = 0, 0\n",
    "  # Train the data for one epoch\n",
    "    for step, batch in enumerate(train_dataloader):\n",
    "    # Add batch to GPU\n",
    "        batch = tuple(t.to(device) for t in batch)\n",
    "      # Unpack the inputs from our dataloader\n",
    "        b_input_ids, b_input_mask, b_labels = batch\n",
    "      # Clear out the gradients (by default they accumulate)\n",
    "        optimizer.zero_grad()\n",
    "      # Forward pass\n",
    "        loss = model(b_input_ids, token_type_ids=None, attention_mask=b_input_mask, labels=b_labels)\n",
    "        train_loss_set.append(loss.item())    \n",
    "      # Backward pass\n",
    "        loss.backward()\n",
    "      # Update parameters and take a step using the computed gradient\n",
    "        optimizer.step()\n",
    "      # Update tracking variables\n",
    "        tr_loss += loss.item()\n",
    "        nb_tr_examples += b_input_ids.size(0)\n",
    "        nb_tr_steps += 1\n",
    "    print(\"Train loss: {}\".format(tr_loss/nb_tr_steps))\n",
    "       \n",
    "  ## VALIDATION\n",
    "\n",
    "  # Put model in evaluation mode\n",
    "    model.eval()\n",
    "  # Tracking variables \n",
    "    eval_loss, eval_accuracy = 0, 0\n",
    "    nb_eval_steps, nb_eval_examples = 0, 0\n",
    "  # Evaluate data for one epoch\n",
    "    for batch in validation_dataloader:\n",
    "      # Add batch to GPU\n",
    "        batch = tuple(t.to(device) for t in batch)\n",
    "      # Unpack the inputs from our dataloader\n",
    "        b_input_ids, b_input_mask, b_labels = batch\n",
    "      # Telling the model not to compute or store gradients, saving memory and speeding up validation\n",
    "        with torch.no_grad():\n",
    "        # Forward pass, calculate logit predictions\n",
    "          logits = model(b_input_ids, token_type_ids=None, attention_mask=b_input_mask)    \n",
    "      # Move logits and labels to CPU\n",
    "        logits = logits.detach().cpu().numpy()\n",
    "        label_ids = b_labels.to('cpu').numpy()\n",
    "        tmp_eval_accuracy = flat_accuracy(logits, label_ids)    \n",
    "        eval_accuracy += tmp_eval_accuracy\n",
    "        nb_eval_steps += 1\n",
    "    print(\"Validation Accuracy: {}\".format(eval_accuracy/nb_eval_steps))"
   ]
  },
  {
   "cell_type": "code",
   "execution_count": 20,
   "id": "0c62b52e",
   "metadata": {
    "execution": {
     "iopub.execute_input": "2022-11-20T01:35:48.775796Z",
     "iopub.status.busy": "2022-11-20T01:35:48.774947Z",
     "iopub.status.idle": "2022-11-20T01:35:49.017066Z",
     "shell.execute_reply": "2022-11-20T01:35:49.016159Z"
    },
    "papermill": {
     "duration": 0.25988,
     "end_time": "2022-11-20T01:35:49.019139",
     "exception": false,
     "start_time": "2022-11-20T01:35:48.759259",
     "status": "completed"
    },
    "tags": []
   },
   "outputs": [
    {
     "data": {
      "image/png": "[encoded data removed]",
      "text/plain": [
       "<Figure size 1080x576 with 1 Axes>"
      ]
     },
     "metadata": {
      "needs_background": "light"
     },
     "output_type": "display_data"
    }
   ],
   "source": [
    "# plot training performance\n",
    "plt.figure(figsize=(15,8))\n",
    "plt.title(\"Training loss\")\n",
    "plt.xlabel(\"Batch\")\n",
    "plt.ylabel(\"Loss\")\n",
    "plt.plot(train_loss_set)\n",
    "plt.show()"
   ]
  }
 ],
 "metadata": {
  "kernelspec": {
   "display_name": "Python 3",
   "language": "python",
   "name": "python3"
  },
  "language_info": {
   "codemirror_mode": {
    "name": "ipython",
    "version": 3
   },
   "file_extension": ".py",
   "mimetype": "text/x-python",
   "name": "python",
   "nbconvert_exporter": "python",
   "pygments_lexer": "ipython3",
   "version": "3.7.12"
  },
  "papermill": {
   "default_parameters": {},
   "duration": 2575.480382,
   "end_time": "2022-11-20T01:35:52.741642",
   "environment_variables": {},
   "exception": null,
   "input_path": "__notebook__.ipynb",
   "output_path": "__notebook__.ipynb",
   "parameters": {},
   "start_time": "2022-11-20T00:52:57.261260",
   "version": "2.3.4"
  }
 },
 "nbformat": 4,
 "nbformat_minor": 5
}
