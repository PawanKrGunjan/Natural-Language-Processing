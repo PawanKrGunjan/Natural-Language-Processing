{
 "cells": [
  {
   "cell_type": "markdown",
   "id": "cba5e60b",
   "metadata": {
    "papermill": {
     "duration": 0.006941,
     "end_time": "2022-11-17T03:38:36.571016",
     "exception": false,
     "start_time": "2022-11-17T03:38:36.564075",
     "status": "completed"
    },
    "tags": []
   },
   "source": [
    "## Load necessary Libraries"
   ]
  },
  {
   "cell_type": "code",
   "execution_count": 1,
   "id": "e1852d13",
   "metadata": {
    "execution": {
     "iopub.execute_input": "2022-11-17T03:38:36.584753Z",
     "iopub.status.busy": "2022-11-17T03:38:36.583884Z",
     "iopub.status.idle": "2022-11-17T03:38:38.833632Z",
     "shell.execute_reply": "2022-11-17T03:38:38.832456Z"
    },
    "papermill": {
     "duration": 2.260352,
     "end_time": "2022-11-17T03:38:38.836972",
     "exception": false,
     "start_time": "2022-11-17T03:38:36.576620",
     "status": "completed"
    },
    "tags": []
   },
   "outputs": [
    {
     "name": "stdout",
     "output_type": "stream",
     "text": [
      "/kaggle/input/emotion-detection-from-text/tweet_emotions.csv\n"
     ]
    }
   ],
   "source": [
    "import warnings\n",
    "warnings.filterwarnings('ignore')\n",
    "import pandas as pd\n",
    "import nltk\n",
    "#nltk.download('stopwords')\n",
    "from nltk.tokenize import TweetTokenizer\n",
    "from nltk.corpus import stopwords\n",
    "from sklearn.model_selection import train_test_split\n",
    "from gensim.models.doc2vec import Doc2Vec, TaggedDocument\n",
    "\n",
    "import os\n",
    "for dirname, _, filenames in os.walk('/kaggle/input'):\n",
    "    for filename in filenames:\n",
    "        print(os.path.join(dirname, filename))"
   ]
  },
  {
   "cell_type": "markdown",
   "id": "db0742d0",
   "metadata": {
    "papermill": {
     "duration": 0.007771,
     "end_time": "2022-11-17T03:38:38.852939",
     "exception": false,
     "start_time": "2022-11-17T03:38:38.845168",
     "status": "completed"
    },
    "tags": []
   },
   "source": [
    "## Load the datasets"
   ]
  },
  {
   "cell_type": "code",
   "execution_count": 2,
   "id": "e8eea396",
   "metadata": {
    "execution": {
     "iopub.execute_input": "2022-11-17T03:38:38.868578Z",
     "iopub.status.busy": "2022-11-17T03:38:38.867580Z",
     "iopub.status.idle": "2022-11-17T03:38:39.043160Z",
     "shell.execute_reply": "2022-11-17T03:38:39.041802Z"
    },
    "papermill": {
     "duration": 0.185544,
     "end_time": "2022-11-17T03:38:39.045787",
     "exception": false,
     "start_time": "2022-11-17T03:38:38.860243",
     "status": "completed"
    },
    "tags": []
   },
   "outputs": [
    {
     "name": "stdout",
     "output_type": "stream",
     "text": [
      "(40000, 3)\n"
     ]
    },
    {
     "data": {
      "text/html": [
       "<div>\n",
       "<style scoped>\n",
       "    .dataframe tbody tr th:only-of-type {\n",
       "        vertical-align: middle;\n",
       "    }\n",
       "\n",
       "    .dataframe tbody tr th {\n",
       "        vertical-align: top;\n",
       "    }\n",
       "\n",
       "    .dataframe thead th {\n",
       "        text-align: right;\n",
       "    }\n",
       "</style>\n",
       "<table border=\"1\" class=\"dataframe\">\n",
       "  <thead>\n",
       "    <tr style=\"text-align: right;\">\n",
       "      <th></th>\n",
       "      <th>tweet_id</th>\n",
       "      <th>sentiment</th>\n",
       "      <th>content</th>\n",
       "    </tr>\n",
       "  </thead>\n",
       "  <tbody>\n",
       "    <tr>\n",
       "      <th>0</th>\n",
       "      <td>1956967341</td>\n",
       "      <td>empty</td>\n",
       "      <td>@tiffanylue i know  i was listenin to bad habi...</td>\n",
       "    </tr>\n",
       "    <tr>\n",
       "      <th>1</th>\n",
       "      <td>1956967666</td>\n",
       "      <td>sadness</td>\n",
       "      <td>Layin n bed with a headache  ughhhh...waitin o...</td>\n",
       "    </tr>\n",
       "    <tr>\n",
       "      <th>2</th>\n",
       "      <td>1956967696</td>\n",
       "      <td>sadness</td>\n",
       "      <td>Funeral ceremony...gloomy friday...</td>\n",
       "    </tr>\n",
       "    <tr>\n",
       "      <th>3</th>\n",
       "      <td>1956967789</td>\n",
       "      <td>enthusiasm</td>\n",
       "      <td>wants to hang out with friends SOON!</td>\n",
       "    </tr>\n",
       "    <tr>\n",
       "      <th>4</th>\n",
       "      <td>1956968416</td>\n",
       "      <td>neutral</td>\n",
       "      <td>@dannycastillo We want to trade with someone w...</td>\n",
       "    </tr>\n",
       "  </tbody>\n",
       "</table>\n",
       "</div>"
      ],
      "text/plain": [
       "     tweet_id   sentiment                                            content\n",
       "0  1956967341       empty  @tiffanylue i know  i was listenin to bad habi...\n",
       "1  1956967666     sadness  Layin n bed with a headache  ughhhh...waitin o...\n",
       "2  1956967696     sadness                Funeral ceremony...gloomy friday...\n",
       "3  1956967789  enthusiasm               wants to hang out with friends SOON!\n",
       "4  1956968416     neutral  @dannycastillo We want to trade with someone w..."
      ]
     },
     "execution_count": 2,
     "metadata": {},
     "output_type": "execute_result"
    }
   ],
   "source": [
    "df = pd.read_csv('/kaggle/input/emotion-detection-from-text/tweet_emotions.csv')\n",
    "print(df.shape)\n",
    "df.head()"
   ]
  },
  {
   "cell_type": "code",
   "execution_count": 3,
   "id": "ea2beffa",
   "metadata": {
    "execution": {
     "iopub.execute_input": "2022-11-17T03:38:39.059468Z",
     "iopub.status.busy": "2022-11-17T03:38:39.059046Z",
     "iopub.status.idle": "2022-11-17T03:38:39.076091Z",
     "shell.execute_reply": "2022-11-17T03:38:39.074874Z"
    },
    "papermill": {
     "duration": 0.026622,
     "end_time": "2022-11-17T03:38:39.078498",
     "exception": false,
     "start_time": "2022-11-17T03:38:39.051876",
     "status": "completed"
    },
    "tags": []
   },
   "outputs": [
    {
     "data": {
      "text/plain": [
       "neutral       8638\n",
       "worry         8459\n",
       "happiness     5209\n",
       "sadness       5165\n",
       "love          3842\n",
       "surprise      2187\n",
       "fun           1776\n",
       "relief        1526\n",
       "hate          1323\n",
       "empty          827\n",
       "enthusiasm     759\n",
       "boredom        179\n",
       "anger          110\n",
       "Name: sentiment, dtype: int64"
      ]
     },
     "execution_count": 3,
     "metadata": {},
     "output_type": "execute_result"
    }
   ],
   "source": [
    "df['sentiment'].value_counts()"
   ]
  },
  {
   "cell_type": "code",
   "execution_count": 4,
   "id": "c51f8dc5",
   "metadata": {
    "execution": {
     "iopub.execute_input": "2022-11-17T03:38:39.092421Z",
     "iopub.status.busy": "2022-11-17T03:38:39.092010Z",
     "iopub.status.idle": "2022-11-17T03:38:39.106776Z",
     "shell.execute_reply": "2022-11-17T03:38:39.105621Z"
    },
    "papermill": {
     "duration": 0.024722,
     "end_time": "2022-11-17T03:38:39.109170",
     "exception": false,
     "start_time": "2022-11-17T03:38:39.084448",
     "status": "completed"
    },
    "tags": []
   },
   "outputs": [
    {
     "data": {
      "text/plain": [
       "(22306, 3)"
      ]
     },
     "execution_count": 4,
     "metadata": {},
     "output_type": "execute_result"
    }
   ],
   "source": [
    "#Let us take the top 3 categories and leave out the rest.\n",
    "shortlist = ['neutral', \"happiness\", \"worry\"]\n",
    "df_subset = df[df['sentiment'].isin(shortlist)]\n",
    "df_subset.shape"
   ]
  },
  {
   "cell_type": "markdown",
   "id": "ac5ec2e7",
   "metadata": {
    "papermill": {
     "duration": 0.005767,
     "end_time": "2022-11-17T03:38:39.122211",
     "exception": false,
     "start_time": "2022-11-17T03:38:39.116444",
     "status": "completed"
    },
    "tags": []
   },
   "source": [
    "## Text pre-processing:\n",
    "Tweets are different. Somethings to consider:\n",
    "- Removing @mentions, and urls perhaps?\n",
    "- using NLTK Tweet tokenizer instead of a regular one\n",
    "- stopwords, numbers as usual."
   ]
  },
  {
   "cell_type": "code",
   "execution_count": 5,
   "id": "89d0add5",
   "metadata": {
    "execution": {
     "iopub.execute_input": "2022-11-17T03:38:39.137089Z",
     "iopub.status.busy": "2022-11-17T03:38:39.135534Z",
     "iopub.status.idle": "2022-11-17T03:38:41.316976Z",
     "shell.execute_reply": "2022-11-17T03:38:41.315597Z"
    },
    "papermill": {
     "duration": 2.191751,
     "end_time": "2022-11-17T03:38:41.319934",
     "exception": false,
     "start_time": "2022-11-17T03:38:39.128183",
     "status": "completed"
    },
    "tags": []
   },
   "outputs": [
    {
     "name": "stdout",
     "output_type": "stream",
     "text": [
      "22306 22306\n"
     ]
    }
   ],
   "source": [
    "#strip_handles removes personal information such as twitter handles, which don't\n",
    "#contribute to emotion in the tweet. preserve_case=False converts everything to lowercase.\n",
    "tweeter = TweetTokenizer(strip_handles=True,preserve_case=False)\n",
    "mystopwords = set(stopwords.words(\"english\"))\n",
    "\n",
    "#Function to tokenize tweets, remove stopwords and numbers. \n",
    "#Keeping punctuations and emoticon symbols could be relevant for this task!\n",
    "def preprocess_corpus(texts):\n",
    "    def remove_stops_digits(tokens):\n",
    "        #Nested function that removes stopwords and digits from a list of tokens\n",
    "        return [token for token in tokens if token not in mystopwords and not token.isdigit()]\n",
    "    #This return statement below uses the above function to process twitter tokenizer output further. \n",
    "    return [remove_stops_digits(tweeter.tokenize(content)) for content in texts]\n",
    "\n",
    "#df_subset contains only the three categories we chose. \n",
    "mydata = preprocess_corpus(df_subset['content'])\n",
    "mycats = df_subset['sentiment']\n",
    "print(len(mydata), len(mycats))"
   ]
  },
  {
   "cell_type": "markdown",
   "id": "7fd09f0b",
   "metadata": {
    "papermill": {
     "duration": 0.005921,
     "end_time": "2022-11-17T03:38:41.335471",
     "exception": false,
     "start_time": "2022-11-17T03:38:41.329550",
     "status": "completed"
    },
    "tags": []
   },
   "source": [
    "### Split data into train and test, following the usual process"
   ]
  },
  {
   "cell_type": "code",
   "execution_count": 6,
   "id": "1dfcfdfd",
   "metadata": {
    "execution": {
     "iopub.execute_input": "2022-11-17T03:38:41.350134Z",
     "iopub.status.busy": "2022-11-17T03:38:41.349135Z",
     "iopub.status.idle": "2022-11-17T03:38:41.384688Z",
     "shell.execute_reply": "2022-11-17T03:38:41.383380Z"
    },
    "papermill": {
     "duration": 0.046126,
     "end_time": "2022-11-17T03:38:41.387710",
     "exception": false,
     "start_time": "2022-11-17T03:38:41.341584",
     "status": "completed"
    },
    "tags": []
   },
   "outputs": [],
   "source": [
    "train_data, test_data, train_cats, test_cats = train_test_split(mydata,mycats,random_state=2, stratify = mycats)"
   ]
  },
  {
   "cell_type": "markdown",
   "id": "5ae630cb",
   "metadata": {
    "papermill": {
     "duration": 0.005864,
     "end_time": "2022-11-17T03:38:41.400178",
     "exception": false,
     "start_time": "2022-11-17T03:38:41.394314",
     "status": "completed"
    },
    "tags": []
   },
   "source": [
    "### Prepare training data in doc2vec format:"
   ]
  },
  {
   "cell_type": "code",
   "execution_count": 7,
   "id": "9164afb3",
   "metadata": {
    "execution": {
     "iopub.execute_input": "2022-11-17T03:38:41.415015Z",
     "iopub.status.busy": "2022-11-17T03:38:41.413996Z",
     "iopub.status.idle": "2022-11-17T03:38:41.582987Z",
     "shell.execute_reply": "2022-11-17T03:38:41.581692Z"
    },
    "papermill": {
     "duration": 0.179596,
     "end_time": "2022-11-17T03:38:41.585962",
     "exception": false,
     "start_time": "2022-11-17T03:38:41.406366",
     "status": "completed"
    },
    "tags": []
   },
   "outputs": [],
   "source": [
    "#prepare training data in doc2vec format:\n",
    "train_doc2vec = [TaggedDocument((d), tags=[str(i)]) for i, d in enumerate(train_data)]"
   ]
  },
  {
   "cell_type": "markdown",
   "id": "88cd2d3e",
   "metadata": {
    "papermill": {
     "duration": 0.005855,
     "end_time": "2022-11-17T03:38:41.598309",
     "exception": false,
     "start_time": "2022-11-17T03:38:41.592454",
     "status": "completed"
    },
    "tags": []
   },
   "source": [
    "## Build the model\n",
    "\n",
    "### Doc2Vec Model"
   ]
  },
  {
   "cell_type": "code",
   "execution_count": 8,
   "id": "7e1165e5",
   "metadata": {
    "execution": {
     "iopub.execute_input": "2022-11-17T03:38:41.612065Z",
     "iopub.status.busy": "2022-11-17T03:38:41.611621Z",
     "iopub.status.idle": "2022-11-17T03:41:26.404495Z",
     "shell.execute_reply": "2022-11-17T03:41:26.403336Z"
    },
    "papermill": {
     "duration": 164.803329,
     "end_time": "2022-11-17T03:41:26.407691",
     "exception": false,
     "start_time": "2022-11-17T03:38:41.604362",
     "status": "completed"
    },
    "tags": []
   },
   "outputs": [],
   "source": [
    "#Train a doc2vec model to learn tweet representations. Use only training data!!\n",
    "model = Doc2Vec(vector_size=50, alpha=0.025, min_count=5, dm =1, epochs=100)\n",
    "model.build_vocab(train_doc2vec)\n",
    "model.train(train_doc2vec, total_examples=model.corpus_count, epochs=model.epochs)"
   ]
  },
  {
   "cell_type": "markdown",
   "id": "4a43e0e5",
   "metadata": {
    "papermill": {
     "duration": 0.005824,
     "end_time": "2022-11-17T03:41:26.420009",
     "exception": false,
     "start_time": "2022-11-17T03:41:26.414185",
     "status": "completed"
    },
    "tags": []
   },
   "source": [
    "### Save & Load the Doc2Vec model"
   ]
  },
  {
   "cell_type": "code",
   "execution_count": 9,
   "id": "c50e64ea",
   "metadata": {
    "execution": {
     "iopub.execute_input": "2022-11-17T03:41:26.434078Z",
     "iopub.status.busy": "2022-11-17T03:41:26.433661Z",
     "iopub.status.idle": "2022-11-17T03:41:26.457702Z",
     "shell.execute_reply": "2022-11-17T03:41:26.456259Z"
    },
    "papermill": {
     "duration": 0.034343,
     "end_time": "2022-11-17T03:41:26.460415",
     "exception": false,
     "start_time": "2022-11-17T03:41:26.426072",
     "status": "completed"
    },
    "tags": []
   },
   "outputs": [
    {
     "name": "stdout",
     "output_type": "stream",
     "text": [
      "Model Saved\n"
     ]
    }
   ],
   "source": [
    "model.save(\"d2v.model\")\n",
    "print(\"Model Saved\")"
   ]
  },
  {
   "cell_type": "code",
   "execution_count": 10,
   "id": "876209d8",
   "metadata": {
    "execution": {
     "iopub.execute_input": "2022-11-17T03:41:26.474620Z",
     "iopub.status.busy": "2022-11-17T03:41:26.474194Z",
     "iopub.status.idle": "2022-11-17T03:41:26.525888Z",
     "shell.execute_reply": "2022-11-17T03:41:26.524733Z"
    },
    "papermill": {
     "duration": 0.061869,
     "end_time": "2022-11-17T03:41:26.528683",
     "exception": false,
     "start_time": "2022-11-17T03:41:26.466814",
     "status": "completed"
    },
    "tags": []
   },
   "outputs": [],
   "source": [
    "#Infer the feature representation for training and test data using the trained model\n",
    "model= Doc2Vec.load(\"d2v.model\")"
   ]
  },
  {
   "cell_type": "code",
   "execution_count": 11,
   "id": "f6af3d7c",
   "metadata": {
    "execution": {
     "iopub.execute_input": "2022-11-17T03:41:26.543586Z",
     "iopub.status.busy": "2022-11-17T03:41:26.542733Z",
     "iopub.status.idle": "2022-11-17T03:42:50.021777Z",
     "shell.execute_reply": "2022-11-17T03:42:50.020407Z"
    },
    "papermill": {
     "duration": 83.4894,
     "end_time": "2022-11-17T03:42:50.024454",
     "exception": false,
     "start_time": "2022-11-17T03:41:26.535054",
     "status": "completed"
    },
    "tags": []
   },
   "outputs": [],
   "source": [
    "#infer in multiple steps to get a stable representation. \n",
    "train_vectors =  [model.infer_vector(list_of_tokens, steps=50) for list_of_tokens in train_data]\n",
    "test_vectors = [model.infer_vector(list_of_tokens, steps=50) for list_of_tokens in test_data]"
   ]
  },
  {
   "cell_type": "markdown",
   "id": "f101cf20",
   "metadata": {
    "papermill": {
     "duration": 0.005838,
     "end_time": "2022-11-17T03:42:50.036510",
     "exception": false,
     "start_time": "2022-11-17T03:42:50.030672",
     "status": "completed"
    },
    "tags": []
   },
   "source": [
    "### Precict the class with Logistic Regression Model"
   ]
  },
  {
   "cell_type": "code",
   "execution_count": 12,
   "id": "053632c5",
   "metadata": {
    "execution": {
     "iopub.execute_input": "2022-11-17T03:42:50.050883Z",
     "iopub.status.busy": "2022-11-17T03:42:50.050445Z",
     "iopub.status.idle": "2022-11-17T03:42:50.634989Z",
     "shell.execute_reply": "2022-11-17T03:42:50.633381Z"
    },
    "papermill": {
     "duration": 0.596948,
     "end_time": "2022-11-17T03:42:50.639488",
     "exception": false,
     "start_time": "2022-11-17T03:42:50.042540",
     "status": "completed"
    },
    "tags": []
   },
   "outputs": [
    {
     "data": {
      "text/plain": [
       "LogisticRegression(class_weight='balanced')"
      ]
     },
     "execution_count": 12,
     "metadata": {},
     "output_type": "execute_result"
    }
   ],
   "source": [
    "#Use any regular classifier like logistic regression\n",
    "from sklearn.linear_model import LogisticRegression\n",
    "\n",
    "myclass = LogisticRegression(class_weight=\"balanced\") #because classes are not balanced. \n",
    "myclass.fit(train_vectors, train_cats)"
   ]
  },
  {
   "cell_type": "code",
   "execution_count": 13,
   "id": "30be617a",
   "metadata": {
    "execution": {
     "iopub.execute_input": "2022-11-17T03:42:50.675995Z",
     "iopub.status.busy": "2022-11-17T03:42:50.675279Z",
     "iopub.status.idle": "2022-11-17T03:42:50.706023Z",
     "shell.execute_reply": "2022-11-17T03:42:50.704431Z"
    },
    "papermill": {
     "duration": 0.054475,
     "end_time": "2022-11-17T03:42:50.711092",
     "exception": false,
     "start_time": "2022-11-17T03:42:50.656617",
     "status": "completed"
    },
    "tags": []
   },
   "outputs": [
    {
     "data": {
      "text/plain": [
       "array(['neutral', 'neutral', 'worry', 'worry', 'worry'], dtype=object)"
      ]
     },
     "execution_count": 13,
     "metadata": {},
     "output_type": "execute_result"
    }
   ],
   "source": [
    "preds = myclass.predict(test_vectors)\n",
    "preds[:5]"
   ]
  },
  {
   "cell_type": "markdown",
   "id": "23ca31c1",
   "metadata": {
    "papermill": {
     "duration": 0.015109,
     "end_time": "2022-11-17T03:42:50.742933",
     "exception": false,
     "start_time": "2022-11-17T03:42:50.727824",
     "status": "completed"
    },
    "tags": []
   },
   "source": [
    "## Classification Report"
   ]
  },
  {
   "cell_type": "code",
   "execution_count": 14,
   "id": "6de177e8",
   "metadata": {
    "execution": {
     "iopub.execute_input": "2022-11-17T03:42:50.776931Z",
     "iopub.status.busy": "2022-11-17T03:42:50.776224Z",
     "iopub.status.idle": "2022-11-17T03:42:50.946662Z",
     "shell.execute_reply": "2022-11-17T03:42:50.945347Z"
    },
    "papermill": {
     "duration": 0.190892,
     "end_time": "2022-11-17T03:42:50.949574",
     "exception": false,
     "start_time": "2022-11-17T03:42:50.758682",
     "status": "completed"
    },
    "tags": []
   },
   "outputs": [
    {
     "name": "stdout",
     "output_type": "stream",
     "text": [
      "              precision    recall  f1-score   support\n",
      "\n",
      "   happiness       0.44      0.52      0.47      1302\n",
      "     neutral       0.48      0.55      0.51      2160\n",
      "       worry       0.56      0.41      0.47      2115\n",
      "\n",
      "    accuracy                           0.49      5577\n",
      "   macro avg       0.49      0.49      0.49      5577\n",
      "weighted avg       0.50      0.49      0.49      5577\n",
      "\n"
     ]
    }
   ],
   "source": [
    "from sklearn.metrics import classification_report, confusion_matrix\n",
    "print(classification_report(test_cats, preds))"
   ]
  }
 ],
 "metadata": {
  "kernelspec": {
   "display_name": "Python 3",
   "language": "python",
   "name": "python3"
  },
  "language_info": {
   "codemirror_mode": {
    "name": "ipython",
    "version": 3
   },
   "file_extension": ".py",
   "mimetype": "text/x-python",
   "name": "python",
   "nbconvert_exporter": "python",
   "pygments_lexer": "ipython3",
   "version": "3.7.12"
  },
  "papermill": {
   "default_parameters": {},
   "duration": 264.639992,
   "end_time": "2022-11-17T03:42:51.882540",
   "environment_variables": {},
   "exception": null,
   "input_path": "__notebook__.ipynb",
   "output_path": "__notebook__.ipynb",
   "parameters": {},
   "start_time": "2022-11-17T03:38:27.242548",
   "version": "2.3.4"
  }
 },
 "nbformat": 4,
 "nbformat_minor": 5
}
