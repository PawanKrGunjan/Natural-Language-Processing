{
 "cells": [
  {
   "cell_type": "markdown",
   "id": "5b0e5891",
   "metadata": {
    "papermill": {
     "duration": 0.00707,
     "end_time": "2022-11-17T13:34:22.483692",
     "exception": false,
     "start_time": "2022-11-17T13:34:22.476622",
     "status": "completed"
    },
    "tags": []
   },
   "source": [
    "## Load important libraries"
   ]
  },
  {
   "cell_type": "code",
   "execution_count": 1,
   "id": "1baf82d0",
   "metadata": {
    "execution": {
     "iopub.execute_input": "2022-11-17T13:34:22.498611Z",
     "iopub.status.busy": "2022-11-17T13:34:22.497950Z",
     "iopub.status.idle": "2022-11-17T13:34:24.801270Z",
     "shell.execute_reply": "2022-11-17T13:34:24.798720Z"
    },
    "papermill": {
     "duration": 2.314836,
     "end_time": "2022-11-17T13:34:24.804863",
     "exception": false,
     "start_time": "2022-11-17T13:34:22.490027",
     "status": "completed"
    },
    "tags": []
   },
   "outputs": [
    {
     "name": "stdout",
     "output_type": "stream",
     "text": [
      "/kaggle/input/googlenewsvectorsnegative300/GoogleNews-vectors-negative300.bin.gz\n",
      "/kaggle/input/googlenewsvectorsnegative300/GoogleNews-vectors-negative300.bin\n",
      "/kaggle/input/sentiment-sentences/sentiment_sentences.txt\n"
     ]
    }
   ],
   "source": [
    "import warnings\n",
    "warnings.filterwarnings('ignore')\n",
    "\n",
    "import os\n",
    "import gzip\n",
    "import shutil\n",
    "from time import time\n",
    "\n",
    "#pre-processing imports\n",
    "import nltk\n",
    "from nltk.tokenize import word_tokenize\n",
    "from nltk.corpus import stopwords\n",
    "from string import punctuation\n",
    "\n",
    "#imports related to modeling\n",
    "import numpy as np\n",
    "from gensim.models import Word2Vec, KeyedVectors\n",
    "from sklearn.linear_model import LogisticRegression\n",
    "from sklearn.svm import SVC\n",
    "from sklearn.svm import NuSVC\n",
    "from sklearn.model_selection import train_test_split\n",
    "from sklearn.metrics import classification_report\n",
    "\n",
    "import os\n",
    "for dirname, _, filenames in os.walk('/kaggle/input'):\n",
    "    for filename in filenames:\n",
    "        print(os.path.join(dirname, filename))"
   ]
  },
  {
   "cell_type": "markdown",
   "id": "cd47b868",
   "metadata": {
    "papermill": {
     "duration": 0.006888,
     "end_time": "2022-11-17T13:34:24.818240",
     "exception": false,
     "start_time": "2022-11-17T13:34:24.811352",
     "status": "completed"
    },
    "tags": []
   },
   "source": [
    "## Load the Pre-trained `GoogleNews-vectors-negative300` embedding model"
   ]
  },
  {
   "cell_type": "code",
   "execution_count": 2,
   "id": "eea0f9c4",
   "metadata": {
    "execution": {
     "iopub.execute_input": "2022-11-17T13:34:24.833411Z",
     "iopub.status.busy": "2022-11-17T13:34:24.832950Z",
     "iopub.status.idle": "2022-11-17T13:35:35.230355Z",
     "shell.execute_reply": "2022-11-17T13:35:35.228366Z"
    },
    "papermill": {
     "duration": 70.416166,
     "end_time": "2022-11-17T13:35:35.241094",
     "exception": false,
     "start_time": "2022-11-17T13:34:24.824928",
     "status": "completed"
    },
    "tags": []
   },
   "outputs": [
    {
     "name": "stdout",
     "output_type": "stream",
     "text": [
      "CPU times: user 36.6 s, sys: 6.16 s, total: 42.8 s\n",
      "Wall time: 1min 10s\n",
      "done loading Word2Vec\n"
     ]
    }
   ],
   "source": [
    "path_to_model = '/kaggle/input/googlenewsvectorsnegative300/GoogleNews-vectors-negative300.bin'\n",
    "\n",
    "#Load W2V model. This will take some time. \n",
    "%time w2v_model = KeyedVectors.load_word2vec_format(path_to_model, binary=True)\n",
    "print('done loading Word2Vec')"
   ]
  },
  {
   "cell_type": "code",
   "execution_count": 3,
   "id": "7ea05371",
   "metadata": {
    "execution": {
     "iopub.execute_input": "2022-11-17T13:35:35.258559Z",
     "iopub.status.busy": "2022-11-17T13:35:35.257192Z",
     "iopub.status.idle": "2022-11-17T13:35:35.924681Z",
     "shell.execute_reply": "2022-11-17T13:35:35.923395Z"
    },
    "papermill": {
     "duration": 0.67898,
     "end_time": "2022-11-17T13:35:35.927381",
     "exception": false,
     "start_time": "2022-11-17T13:35:35.248401",
     "status": "completed"
    },
    "tags": []
   },
   "outputs": [
    {
     "name": "stdout",
     "output_type": "stream",
     "text": [
      "Shape : (3000000, 300)\n",
      "Total vocabulary counts : 3000000\n"
     ]
    }
   ],
   "source": [
    "#Inspect the model\n",
    "print('Shape :',w2v_model.vectors.shape)\n",
    "word2vec_vocab = w2v_model.index_to_key \n",
    "word2vec_vocab_lower = [item.lower() for item in word2vec_vocab]\n",
    "print('Total vocabulary counts :',len(word2vec_vocab))"
   ]
  },
  {
   "cell_type": "markdown",
   "id": "fb9573ec",
   "metadata": {
    "papermill": {
     "duration": 0.005613,
     "end_time": "2022-11-17T13:35:35.939161",
     "exception": false,
     "start_time": "2022-11-17T13:35:35.933548",
     "status": "completed"
    },
    "tags": []
   },
   "source": [
    "## Load the Sentiment sentence text data  "
   ]
  },
  {
   "cell_type": "code",
   "execution_count": 4,
   "id": "a2c8cfe1",
   "metadata": {
    "execution": {
     "iopub.execute_input": "2022-11-17T13:35:35.956043Z",
     "iopub.status.busy": "2022-11-17T13:35:35.954747Z",
     "iopub.status.idle": "2022-11-17T13:35:36.074080Z",
     "shell.execute_reply": "2022-11-17T13:35:36.072533Z"
    },
    "papermill": {
     "duration": 0.132231,
     "end_time": "2022-11-17T13:35:36.077267",
     "exception": false,
     "start_time": "2022-11-17T13:35:35.945036",
     "status": "completed"
    },
    "tags": []
   },
   "outputs": [],
   "source": [
    "#Read text data, cats.\n",
    "#the file path consists of tab separated sentences and cats.\n",
    "\n",
    "data_path = '/kaggle/input/sentiment-sentences/sentiment_sentences.txt'\n",
    "texts = []\n",
    "category = []\n",
    "fh = open(data_path)\n",
    "for line in fh:\n",
    "    text, sentiment = line.split(\"\\t\")\n",
    "    texts.append(text)\n",
    "    category.append(int(sentiment))"
   ]
  },
  {
   "cell_type": "code",
   "execution_count": 5,
   "id": "53495b29",
   "metadata": {
    "execution": {
     "iopub.execute_input": "2022-11-17T13:35:36.092093Z",
     "iopub.status.busy": "2022-11-17T13:35:36.091290Z",
     "iopub.status.idle": "2022-11-17T13:35:36.107192Z",
     "shell.execute_reply": "2022-11-17T13:35:36.105575Z"
    },
    "papermill": {
     "duration": 0.027147,
     "end_time": "2022-11-17T13:35:36.110638",
     "exception": false,
     "start_time": "2022-11-17T13:35:36.083491",
     "status": "completed"
    },
    "tags": []
   },
   "outputs": [
    {
     "name": "stdout",
     "output_type": "stream",
     "text": [
      "Text size : 3000\n",
      "Sentiments size : 3000\n",
      "sentiments {0, 1}\n"
     ]
    },
    {
     "data": {
      "text/plain": [
       "{0: 'Negative', 1: 'Positive'}"
      ]
     },
     "execution_count": 5,
     "metadata": {},
     "output_type": "execute_result"
    }
   ],
   "source": [
    "print('Text size :',len(texts))\n",
    "print('Sentiments size :',len(category))\n",
    "print('sentiments',set(category))\n",
    "\n",
    "sentiment = {\n",
    "    0 : 'Negative',\n",
    "    1 : 'Positive'\n",
    "}\n",
    "\n",
    "sentiment"
   ]
  },
  {
   "cell_type": "markdown",
   "id": "378e38eb",
   "metadata": {
    "papermill": {
     "duration": 0.007572,
     "end_time": "2022-11-17T13:35:36.126843",
     "exception": false,
     "start_time": "2022-11-17T13:35:36.119271",
     "status": "completed"
    },
    "tags": []
   },
   "source": [
    "## Text Preprocessing"
   ]
  },
  {
   "cell_type": "code",
   "execution_count": 6,
   "id": "c82ee686",
   "metadata": {
    "execution": {
     "iopub.execute_input": "2022-11-17T13:35:36.143786Z",
     "iopub.status.busy": "2022-11-17T13:35:36.143370Z",
     "iopub.status.idle": "2022-11-17T13:35:36.152224Z",
     "shell.execute_reply": "2022-11-17T13:35:36.150710Z"
    },
    "papermill": {
     "duration": 0.019295,
     "end_time": "2022-11-17T13:35:36.154914",
     "exception": false,
     "start_time": "2022-11-17T13:35:36.135619",
     "status": "completed"
    },
    "tags": []
   },
   "outputs": [],
   "source": [
    "#preprocess the text.\n",
    "def preprocess_corpus(texts):\n",
    "    \n",
    "    tokenized = []\n",
    "    for text in texts:\n",
    "        tokens = word_tokenize(text)\n",
    "\n",
    "        # Remove punctuation and digit and make word in lowercase\n",
    "        lower = [token.lower() for token in tokens if token not in punctuation and not token.isdigit()]\n",
    "\n",
    "        # Remove stopwords\n",
    "        Stopwords = set(stopwords.words(\"english\"))\n",
    "        words = [token for token in lower if token not in Stopwords]\n",
    "        tokenized.append(words)\n",
    "    \n",
    "    return tokenized"
   ]
  },
  {
   "cell_type": "code",
   "execution_count": 7,
   "id": "a0222865",
   "metadata": {
    "execution": {
     "iopub.execute_input": "2022-11-17T13:35:36.170497Z",
     "iopub.status.busy": "2022-11-17T13:35:36.168993Z",
     "iopub.status.idle": "2022-11-17T13:35:37.343857Z",
     "shell.execute_reply": "2022-11-17T13:35:37.342063Z"
    },
    "papermill": {
     "duration": 1.185158,
     "end_time": "2022-11-17T13:35:37.346617",
     "exception": false,
     "start_time": "2022-11-17T13:35:36.161459",
     "status": "completed"
    },
    "tags": []
   },
   "outputs": [
    {
     "name": "stdout",
     "output_type": "stream",
     "text": [
      "Original Texts : So there is no way for me to plug it in here in the US unless I go by a converter.\n",
      "Processed Texts : ['way', 'plug', 'us', 'unless', 'go', 'converter']\n",
      "Sentiment : Negative\n",
      "--------------------------------------------------\n",
      "Original Texts : Good case, Excellent value.\n",
      "Processed Texts : ['good', 'case', 'excellent', 'value']\n",
      "Sentiment : Positive\n"
     ]
    }
   ],
   "source": [
    "texts_processed = preprocess_corpus(texts)\n",
    "print('Original Texts :',texts[0])\n",
    "print('Processed Texts :',texts_processed[0])\n",
    "print('Sentiment :',sentiment[category[0]])\n",
    "print('-'*50)\n",
    "print('Original Texts :',texts[1])\n",
    "print('Processed Texts :',texts_processed[1])\n",
    "print('Sentiment :',sentiment[category[1]])"
   ]
  },
  {
   "cell_type": "markdown",
   "id": "0ae54886",
   "metadata": {
    "papermill": {
     "duration": 0.005864,
     "end_time": "2022-11-17T13:35:37.358995",
     "exception": false,
     "start_time": "2022-11-17T13:35:37.353131",
     "status": "completed"
    },
    "tags": []
   },
   "source": [
    "## Embeddings and Feature vector"
   ]
  },
  {
   "cell_type": "code",
   "execution_count": 8,
   "id": "33317057",
   "metadata": {
    "execution": {
     "iopub.execute_input": "2022-11-17T13:35:37.376054Z",
     "iopub.status.busy": "2022-11-17T13:35:37.375466Z",
     "iopub.status.idle": "2022-11-17T13:35:37.384224Z",
     "shell.execute_reply": "2022-11-17T13:35:37.382461Z"
    },
    "papermill": {
     "duration": 0.021172,
     "end_time": "2022-11-17T13:35:37.387043",
     "exception": false,
     "start_time": "2022-11-17T13:35:37.365871",
     "status": "completed"
    },
    "tags": []
   },
   "outputs": [
    {
     "name": "stdout",
     "output_type": "stream",
     "text": [
      "way --> 132\n",
      "plug --> 6735\n",
      "us --> 164\n",
      "unless --> 2211\n",
      "go --> 152\n",
      "converter --> 35011\n"
     ]
    }
   ],
   "source": [
    "w2v_model.key_to_index\n",
    "for word in texts_processed[0]:\n",
    "    try:\n",
    "        word = word.lower()\n",
    "        embeddings = w2v_model.key_to_index[word]\n",
    "        print(word,'-->',embeddings)\n",
    "    except:\n",
    "        print(word)"
   ]
  },
  {
   "cell_type": "code",
   "execution_count": 9,
   "id": "43a584aa",
   "metadata": {
    "execution": {
     "iopub.execute_input": "2022-11-17T13:35:37.402104Z",
     "iopub.status.busy": "2022-11-17T13:35:37.401652Z",
     "iopub.status.idle": "2022-11-17T13:35:37.411755Z",
     "shell.execute_reply": "2022-11-17T13:35:37.410100Z"
    },
    "papermill": {
     "duration": 0.021433,
     "end_time": "2022-11-17T13:35:37.414933",
     "exception": false,
     "start_time": "2022-11-17T13:35:37.393500",
     "status": "completed"
    },
    "tags": []
   },
   "outputs": [],
   "source": [
    "# Creating a feature vector by averaging all embeddings for all sentences\n",
    "def features_embeddings(list_of_lists):\n",
    "    \n",
    "    # feature vector column length \n",
    "    DIMENSION = w2v_model.vector_size\n",
    "    \n",
    "    # Zero vector if words not in our w2v_model vocubulary\n",
    "    zero_vector = np.zeros(DIMENSION)\n",
    "    \n",
    "    features = []\n",
    "    \n",
    "    # feature vector for each sentence in list_of_lists one by one\n",
    "    for tokens in list_of_lists:\n",
    "        \n",
    "        # feature vector for a single sentence\n",
    "        feature =  np.zeros(DIMENSION) # shape = 1X DIMENSION\n",
    "        \n",
    "        # count for each token/word in a tokens or sentence\n",
    "        feature_counts = 0 + 1e-5   # to avoid divide-by-zero \n",
    "        for token in tokens:\n",
    "            if token in w2v_model:\n",
    "                feature += w2v_model[token] # Here both feature and w2v_model[token] are of same shape : 1X DIMENSION\n",
    "                feature_counts +=1    # Count increases for each token in a tokens\n",
    "         \n",
    "        # Average the feature values for each tokens\n",
    "        if(feature_counts !=0 ):        # for non empty tokens\n",
    "            features.append(feature/feature_counts) \n",
    "        else:                           # for empty tokens\n",
    "            features.append(zero_vector)\n",
    "            \n",
    "    return features"
   ]
  },
  {
   "cell_type": "code",
   "execution_count": 10,
   "id": "ed5efbb5",
   "metadata": {
    "execution": {
     "iopub.execute_input": "2022-11-17T13:35:37.430641Z",
     "iopub.status.busy": "2022-11-17T13:35:37.430213Z",
     "iopub.status.idle": "2022-11-17T13:35:37.548075Z",
     "shell.execute_reply": "2022-11-17T13:35:37.546491Z"
    },
    "papermill": {
     "duration": 0.12878,
     "end_time": "2022-11-17T13:35:37.550812",
     "exception": false,
     "start_time": "2022-11-17T13:35:37.422032",
     "status": "completed"
    },
    "tags": []
   },
   "outputs": [
    {
     "name": "stdout",
     "output_type": "stream",
     "text": [
      "3000\n"
     ]
    },
    {
     "data": {
      "text/plain": [
       "(300,)"
      ]
     },
     "execution_count": 10,
     "metadata": {},
     "output_type": "execute_result"
    }
   ],
   "source": [
    "train_vectors = features_embeddings(texts_processed)\n",
    "print(len(train_vectors))\n",
    "train_vectors[2999].shape"
   ]
  },
  {
   "cell_type": "markdown",
   "id": "70b0eaa7",
   "metadata": {
    "papermill": {
     "duration": 0.0064,
     "end_time": "2022-11-17T13:35:37.563929",
     "exception": false,
     "start_time": "2022-11-17T13:35:37.557529",
     "status": "completed"
    },
    "tags": []
   },
   "source": [
    "## Build Classification Model"
   ]
  },
  {
   "cell_type": "code",
   "execution_count": 11,
   "id": "fd57b700",
   "metadata": {
    "execution": {
     "iopub.execute_input": "2022-11-17T13:35:37.579814Z",
     "iopub.status.busy": "2022-11-17T13:35:37.579408Z",
     "iopub.status.idle": "2022-11-17T13:35:37.595074Z",
     "shell.execute_reply": "2022-11-17T13:35:37.593217Z"
    },
    "papermill": {
     "duration": 0.027061,
     "end_time": "2022-11-17T13:35:37.597975",
     "exception": false,
     "start_time": "2022-11-17T13:35:37.570914",
     "status": "completed"
    },
    "tags": []
   },
   "outputs": [
    {
     "data": {
      "text/plain": [
       "(2400, 600, 2400, 600)"
      ]
     },
     "execution_count": 11,
     "metadata": {},
     "output_type": "execute_result"
    }
   ],
   "source": [
    "# Split train and test data\n",
    "X_train, X_test, y_train, y_test = train_test_split(train_vectors, category, test_size = 0.2,  random_state=42, stratify = category)\n",
    "len(X_train), len(X_test), len(y_train), len(y_test)"
   ]
  },
  {
   "cell_type": "markdown",
   "id": "089f6706",
   "metadata": {
    "papermill": {
     "duration": 0.00743,
     "end_time": "2022-11-17T13:35:37.612056",
     "exception": false,
     "start_time": "2022-11-17T13:35:37.604626",
     "status": "completed"
    },
    "tags": []
   },
   "source": [
    "### Support Vector Classifier"
   ]
  },
  {
   "cell_type": "code",
   "execution_count": 12,
   "id": "bf40dae8",
   "metadata": {
    "execution": {
     "iopub.execute_input": "2022-11-17T13:35:37.629060Z",
     "iopub.status.busy": "2022-11-17T13:35:37.628634Z",
     "iopub.status.idle": "2022-11-17T13:35:38.526703Z",
     "shell.execute_reply": "2022-11-17T13:35:38.524939Z"
    },
    "papermill": {
     "duration": 0.911074,
     "end_time": "2022-11-17T13:35:38.530767",
     "exception": false,
     "start_time": "2022-11-17T13:35:37.619693",
     "status": "completed"
    },
    "tags": []
   },
   "outputs": [
    {
     "name": "stdout",
     "output_type": "stream",
     "text": [
      "CPU times: user 617 ms, sys: 11 ms, total: 628 ms\n",
      "Wall time: 632 ms\n",
      "Accuracy:  0.845\n",
      "              precision    recall  f1-score   support\n",
      "\n",
      "    Positive       0.86      0.84      0.85       307\n",
      "    Negative       0.83      0.85      0.84       293\n",
      "\n",
      "    accuracy                           0.84       600\n",
      "   macro avg       0.84      0.85      0.84       600\n",
      "weighted avg       0.85      0.84      0.85       600\n",
      "\n"
     ]
    }
   ],
   "source": [
    "from sklearn.svm import SVC\n",
    "SVC = SVC(kernel= 'poly', random_state=42, degree= 3) \n",
    "%time SVC.fit(X_train, y_train) # train the model(timing it with an IPython \"magic command\")\n",
    "\n",
    "print(\"Accuracy: \", SVC.score(X_test, y_test))\n",
    "\n",
    "y_pred = SVC.predict(X_test) \n",
    "\n",
    "print(classification_report(y_pred, y_test, target_names = ['Positive','Negative']))"
   ]
  },
  {
   "cell_type": "markdown",
   "id": "450ad170",
   "metadata": {
    "papermill": {
     "duration": 0.006921,
     "end_time": "2022-11-17T13:35:38.545093",
     "exception": false,
     "start_time": "2022-11-17T13:35:38.538172",
     "status": "completed"
    },
    "tags": []
   },
   "source": [
    "### Nu-Support Vector Classification."
   ]
  },
  {
   "cell_type": "code",
   "execution_count": 13,
   "id": "dc77dca1",
   "metadata": {
    "execution": {
     "iopub.execute_input": "2022-11-17T13:35:38.561575Z",
     "iopub.status.busy": "2022-11-17T13:35:38.561104Z",
     "iopub.status.idle": "2022-11-17T13:35:39.542821Z",
     "shell.execute_reply": "2022-11-17T13:35:39.540681Z"
    },
    "papermill": {
     "duration": 0.99449,
     "end_time": "2022-11-17T13:35:39.547010",
     "exception": false,
     "start_time": "2022-11-17T13:35:38.552520",
     "status": "completed"
    },
    "tags": []
   },
   "outputs": [
    {
     "name": "stdout",
     "output_type": "stream",
     "text": [
      "CPU times: user 731 ms, sys: 7.04 ms, total: 738 ms\n",
      "Wall time: 740 ms\n",
      "Accuracy:  0.8433333333333334\n",
      "              precision    recall  f1-score   support\n",
      "\n",
      "    Positive       0.85      0.84      0.84       304\n",
      "    Negative       0.84      0.85      0.84       296\n",
      "\n",
      "    accuracy                           0.84       600\n",
      "   macro avg       0.84      0.84      0.84       600\n",
      "weighted avg       0.84      0.84      0.84       600\n",
      "\n"
     ]
    }
   ],
   "source": [
    "nuSVC = NuSVC(kernel= 'poly', random_state=453) \n",
    "%time nuSVC.fit(X_train, y_train) # train the model(timing it with an IPython \"magic command\")\n",
    "\n",
    "print(\"Accuracy: \", nuSVC.score(X_test, y_test))\n",
    "\n",
    "y_pred1 = nuSVC.predict(X_test) \n",
    "\n",
    "print(classification_report(y_pred1, y_test, target_names = ['Positive','Negative']))"
   ]
  },
  {
   "cell_type": "code",
   "execution_count": 14,
   "id": "861632b1",
   "metadata": {
    "execution": {
     "iopub.execute_input": "2022-11-17T13:35:39.564745Z",
     "iopub.status.busy": "2022-11-17T13:35:39.564305Z",
     "iopub.status.idle": "2022-11-17T13:35:39.658427Z",
     "shell.execute_reply": "2022-11-17T13:35:39.653396Z"
    },
    "papermill": {
     "duration": 0.109528,
     "end_time": "2022-11-17T13:35:39.665183",
     "exception": false,
     "start_time": "2022-11-17T13:35:39.555655",
     "status": "completed"
    },
    "tags": []
   },
   "outputs": [
    {
     "name": "stdout",
     "output_type": "stream",
     "text": [
      "CPU times: user 143 ms, sys: 79.4 ms, total: 222 ms\n",
      "Wall time: 65.2 ms\n",
      "Accuracy:  0.825\n",
      "              precision    recall  f1-score   support\n",
      "\n",
      "    Positive       0.81      0.84      0.82       291\n",
      "    Negative       0.84      0.82      0.83       309\n",
      "\n",
      "    accuracy                           0.82       600\n",
      "   macro avg       0.82      0.83      0.82       600\n",
      "weighted avg       0.83      0.82      0.83       600\n",
      "\n"
     ]
    }
   ],
   "source": [
    "logReg = LogisticRegression(class_weight ='balanced', random_state=42) \n",
    "#The “balanced” mode uses the values of y to automatically adjust weights inversely proportional to class frequencies in the input data as \n",
    "#n_samples / (n_classes * np.bincount(y)).\n",
    "\n",
    "\n",
    "%time logReg.fit(X_train, y_train) # train the model(timing it with an IPython \"magic command\")\n",
    "\n",
    "print(\"Accuracy: \", logReg.score(X_test, y_test))\n",
    "\n",
    "y_pred2 = logReg.predict(X_test) \n",
    "\n",
    "print(classification_report(y_pred2, y_test, target_names = ['Positive','Negative']))"
   ]
  },
  {
   "cell_type": "markdown",
   "id": "8916b656",
   "metadata": {
    "papermill": {
     "duration": 0.011079,
     "end_time": "2022-11-17T13:35:39.688359",
     "exception": false,
     "start_time": "2022-11-17T13:35:39.677280",
     "status": "completed"
    },
    "tags": []
   },
   "source": [
    "### Best model is Support Vector Classifier with 84.5% accuracy"
   ]
  }
 ],
 "metadata": {
  "kernelspec": {
   "display_name": "Python 3",
   "language": "python",
   "name": "python3"
  },
  "language_info": {
   "codemirror_mode": {
    "name": "ipython",
    "version": 3
   },
   "file_extension": ".py",
   "mimetype": "text/x-python",
   "name": "python",
   "nbconvert_exporter": "python",
   "pygments_lexer": "ipython3",
   "version": "3.7.12"
  },
  "papermill": {
   "default_parameters": {},
   "duration": 92.414144,
   "end_time": "2022-11-17T13:35:42.629867",
   "environment_variables": {},
   "exception": null,
   "input_path": "__notebook__.ipynb",
   "output_path": "__notebook__.ipynb",
   "parameters": {},
   "start_time": "2022-11-17T13:34:10.215723",
   "version": "2.3.4"
  }
 },
 "nbformat": 4,
 "nbformat_minor": 5
}
