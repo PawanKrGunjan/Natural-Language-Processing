{
 "cells": [
  {
   "cell_type": "markdown",
   "id": "3a75c416",
   "metadata": {
    "papermill": {
     "duration": 0.009384,
     "end_time": "2022-11-18T11:17:02.900768",
     "exception": false,
     "start_time": "2022-11-18T11:17:02.891384",
     "status": "completed"
    },
    "tags": []
   },
   "source": [
    "## Import the necessary Libraries"
   ]
  },
  {
   "cell_type": "code",
   "execution_count": 1,
   "id": "90752353",
   "metadata": {
    "execution": {
     "iopub.execute_input": "2022-11-18T11:17:02.923494Z",
     "iopub.status.busy": "2022-11-18T11:17:02.922498Z",
     "iopub.status.idle": "2022-11-18T11:17:20.315379Z",
     "shell.execute_reply": "2022-11-18T11:17:20.314224Z"
    },
    "papermill": {
     "duration": 17.408369,
     "end_time": "2022-11-18T11:17:20.318472",
     "exception": false,
     "start_time": "2022-11-18T11:17:02.910103",
     "status": "completed"
    },
    "tags": []
   },
   "outputs": [
    {
     "name": "stdout",
     "output_type": "stream",
     "text": [
      "Collecting wget\r\n",
      "  Downloading wget-3.2.zip (10 kB)\r\n",
      "  Preparing metadata (setup.py) ... \u001b[?25l-\b \bdone\r\n",
      "\u001b[?25hBuilding wheels for collected packages: wget\r\n",
      "  Building wheel for wget (setup.py) ... \u001b[?25l-\b \b\\\b \bdone\r\n",
      "\u001b[?25h  Created wheel for wget: filename=wget-3.2-py3-none-any.whl size=9675 sha256=e515ca795e00d0acf127e12eaa1985e13a85e16493dcdcd055d3508709c6aabb\r\n",
      "  Stored in directory: /root/.cache/pip/wheels/a1/b6/7c/0e63e34eb06634181c63adacca38b79ff8f35c37e3c13e3c02\r\n",
      "Successfully built wget\r\n",
      "Installing collected packages: wget\r\n",
      "Successfully installed wget-3.2\r\n",
      "\u001b[33mWARNING: Running pip as the 'root' user can result in broken permissions and conflicting behaviour with the system package manager. It is recommended to use a virtual environment instead: https://pip.pypa.io/warnings/venv\u001b[0m\u001b[33m\r\n",
      "\u001b[0m"
     ]
    }
   ],
   "source": [
    "!pip install wget"
   ]
  },
  {
   "cell_type": "code",
   "execution_count": 2,
   "id": "4119e2e3",
   "metadata": {
    "execution": {
     "iopub.execute_input": "2022-11-18T11:17:20.338996Z",
     "iopub.status.busy": "2022-11-18T11:17:20.338535Z",
     "iopub.status.idle": "2022-11-18T11:17:28.573882Z",
     "shell.execute_reply": "2022-11-18T11:17:28.572132Z"
    },
    "papermill": {
     "duration": 8.248886,
     "end_time": "2022-11-18T11:17:28.577062",
     "exception": false,
     "start_time": "2022-11-18T11:17:20.328176",
     "status": "completed"
    },
    "tags": []
   },
   "outputs": [],
   "source": [
    "import warnings\n",
    "warnings.filterwarnings(\"ignore\")\n",
    "\n",
    "import os\n",
    "import sys\n",
    "import numpy as np\n",
    "import wget\n",
    "import tarfile\n",
    "from zipfile import ZipFile\n",
    "from tensorflow.keras.preprocessing.text import Tokenizer\n",
    "from tensorflow.keras.preprocessing.sequence import pad_sequences\n",
    "from tensorflow.keras.utils import to_categorical\n",
    "from tensorflow.keras.layers import Dense, Input, GlobalMaxPooling1D\n",
    "from tensorflow.keras.layers import Conv1D, MaxPooling1D, Embedding, LSTM\n",
    "from tensorflow.keras.models import Model, Sequential\n",
    "from tensorflow.keras.initializers import Constant\n",
    "\n",
    "from sklearn.metrics import classification_report"
   ]
  },
  {
   "cell_type": "markdown",
   "id": "3195a09d",
   "metadata": {
    "papermill": {
     "duration": 0.008327,
     "end_time": "2022-11-18T11:17:28.594866",
     "exception": false,
     "start_time": "2022-11-18T11:17:28.586539",
     "status": "completed"
    },
    "tags": []
   },
   "source": [
    "## Read the data"
   ]
  },
  {
   "cell_type": "code",
   "execution_count": 3,
   "id": "deecee11",
   "metadata": {
    "execution": {
     "iopub.execute_input": "2022-11-18T11:17:28.616688Z",
     "iopub.status.busy": "2022-11-18T11:17:28.615937Z",
     "iopub.status.idle": "2022-11-18T11:19:09.234738Z",
     "shell.execute_reply": "2022-11-18T11:19:09.233411Z"
    },
    "papermill": {
     "duration": 100.641183,
     "end_time": "2022-11-18T11:19:09.246352",
     "exception": false,
     "start_time": "2022-11-18T11:17:28.605169",
     "status": "completed"
    },
    "tags": []
   },
   "outputs": [
    {
     "name": "stdout",
     "output_type": "stream",
     "text": [
      "/kaggle/input\n",
      "/kaggle/input/imdb-review\n",
      "/kaggle/input/imdb-review/aclImdb\n",
      "/kaggle/input/imdb-review/aclImdb/test\n",
      "/kaggle/input/imdb-review/aclImdb/test/pos\n",
      "/kaggle/input/imdb-review/aclImdb/test/neg\n",
      "/kaggle/input/imdb-review/aclImdb/train\n",
      "/kaggle/input/imdb-review/aclImdb/train/pos\n",
      "/kaggle/input/imdb-review/aclImdb/train/neg\n",
      "/kaggle/input/imdb-review/aclImdb/train/unsup\n",
      "CPU times: user 1.75 s, sys: 3.46 s, total: 5.21 s\n",
      "Wall time: 1min 40s\n"
     ]
    }
   ],
   "source": [
    "%%time\n",
    "for dirname, _, filenames in os.walk('/kaggle/input'):\n",
    "    #for filename in filenames:\n",
    "    #print(os.path.join(dirname, filenames))\n",
    "    print(dirname)"
   ]
  },
  {
   "cell_type": "markdown",
   "id": "2a4fe29f",
   "metadata": {
    "papermill": {
     "duration": 0.01021,
     "end_time": "2022-11-18T11:19:09.265985",
     "exception": false,
     "start_time": "2022-11-18T11:19:09.255775",
     "status": "completed"
    },
    "tags": []
   },
   "source": [
    "## GloVe\n",
    "[Global Vectors for Word Representation](https://nlp.stanford.edu/projects/glove/)"
   ]
  },
  {
   "cell_type": "code",
   "execution_count": 4,
   "id": "d9a13746",
   "metadata": {
    "execution": {
     "iopub.execute_input": "2022-11-18T11:19:09.288920Z",
     "iopub.status.busy": "2022-11-18T11:19:09.288185Z",
     "iopub.status.idle": "2022-11-18T11:22:11.843483Z",
     "shell.execute_reply": "2022-11-18T11:22:11.841184Z"
    },
    "papermill": {
     "duration": 182.579682,
     "end_time": "2022-11-18T11:22:11.856377",
     "exception": false,
     "start_time": "2022-11-18T11:19:09.276695",
     "status": "completed"
    },
    "tags": []
   },
   "outputs": [
    {
     "name": "stdout",
     "output_type": "stream",
     "text": [
      "CPU times: user 24.6 s, sys: 7.54 s, total: 32.1 s\n",
      "Wall time: 3min 2s\n"
     ]
    }
   ],
   "source": [
    "%%time\n",
    "if not os.path.exists('Data/glove.6B'):\n",
    "    os.mkdir(os.getcwd()+'/Data/')\n",
    "        \n",
    "    url='http://nlp.stanford.edu/data/glove.6B.zip'  \n",
    "    wget.download(url,'Data')  \n",
    "  \n",
    "    temp='Data/glove.6B.zip' \n",
    "    file = ZipFile(temp)  \n",
    "    file.extractall('Data/glove.6B') \n",
    "    file.close()"
   ]
  },
  {
   "cell_type": "code",
   "execution_count": 5,
   "id": "2337a696",
   "metadata": {
    "execution": {
     "iopub.execute_input": "2022-11-18T11:22:11.879159Z",
     "iopub.status.busy": "2022-11-18T11:22:11.878686Z",
     "iopub.status.idle": "2022-11-18T11:22:11.886122Z",
     "shell.execute_reply": "2022-11-18T11:22:11.884196Z"
    },
    "papermill": {
     "duration": 0.025747,
     "end_time": "2022-11-18T11:22:11.891816",
     "exception": false,
     "start_time": "2022-11-18T11:22:11.866069",
     "status": "completed"
    },
    "tags": []
   },
   "outputs": [],
   "source": [
    "GLOVE_DIR = 'Data/glove.6B'\n",
    "TRAIN_DATA_DIR = '/kaggle/input/imdb-review/aclImdb/train'\n",
    "TEST_DATA_DIR = '/kaggle/input/imdb-review/aclImdb/test'"
   ]
  },
  {
   "cell_type": "code",
   "execution_count": 6,
   "id": "b28a9cf5",
   "metadata": {
    "execution": {
     "iopub.execute_input": "2022-11-18T11:22:11.918452Z",
     "iopub.status.busy": "2022-11-18T11:22:11.917132Z",
     "iopub.status.idle": "2022-11-18T11:22:11.924614Z",
     "shell.execute_reply": "2022-11-18T11:22:11.922578Z"
    },
    "papermill": {
     "duration": 0.02405,
     "end_time": "2022-11-18T11:22:11.928448",
     "exception": false,
     "start_time": "2022-11-18T11:22:11.904398",
     "status": "completed"
    },
    "tags": []
   },
   "outputs": [],
   "source": [
    "#Within these, I only have a pos/ and a neg/ folder containing text files \n",
    "MAX_SEQUENCE_LENGTH = 1000\n",
    "MAX_NUM_WORDS = 20000 \n",
    "EMBEDDING_DIM = 100 \n",
    "VALIDATION_SPLIT = 0.2"
   ]
  },
  {
   "cell_type": "code",
   "execution_count": 7,
   "id": "78144775",
   "metadata": {
    "execution": {
     "iopub.execute_input": "2022-11-18T11:22:11.952128Z",
     "iopub.status.busy": "2022-11-18T11:22:11.951626Z",
     "iopub.status.idle": "2022-11-18T11:22:11.961082Z",
     "shell.execute_reply": "2022-11-18T11:22:11.959528Z"
    },
    "papermill": {
     "duration": 0.025082,
     "end_time": "2022-11-18T11:22:11.963764",
     "exception": false,
     "start_time": "2022-11-18T11:22:11.938682",
     "status": "completed"
    },
    "tags": []
   },
   "outputs": [],
   "source": [
    "#Function to load the data from the dataset into the notebook. Will be called twice - for train and test.\n",
    "def get_data(data_dir):\n",
    "    texts = []  # list of text samples\n",
    "    labels_index = {'pos':1, 'neg':0}  # dictionary mapping label name to numeric id\n",
    "    labels = []  # list of label ids\n",
    "    for name in sorted(os.listdir(data_dir)):\n",
    "        path = os.path.join(data_dir, name)\n",
    "        if os.path.isdir(path):\n",
    "            if name=='pos' or name=='neg':\n",
    "                label_id = labels_index[name]\n",
    "                for fname in sorted(os.listdir(path)):\n",
    "                        fpath = os.path.join(path, fname)\n",
    "                        text = open(fpath,encoding='utf8').read()\n",
    "                        texts.append(text)\n",
    "                        labels.append(label_id)\n",
    "    return texts, labels"
   ]
  },
  {
   "cell_type": "code",
   "execution_count": 8,
   "id": "7a4dd8fe",
   "metadata": {
    "execution": {
     "iopub.execute_input": "2022-11-18T11:22:11.983662Z",
     "iopub.status.busy": "2022-11-18T11:22:11.983234Z",
     "iopub.status.idle": "2022-11-18T11:25:47.623357Z",
     "shell.execute_reply": "2022-11-18T11:25:47.621750Z"
    },
    "papermill": {
     "duration": 215.661484,
     "end_time": "2022-11-18T11:25:47.634269",
     "exception": false,
     "start_time": "2022-11-18T11:22:11.972785",
     "status": "completed"
    },
    "tags": []
   },
   "outputs": [
    {
     "name": "stdout",
     "output_type": "stream",
     "text": [
      "****************************** Training Data ******************************\n",
      "Size >>> 25000 25000\n",
      "Review >>> Story of a man who has unnatural feelings for a pig. Starts out with a opening scene that is a terrific example of absurd comedy. A formal orchestra audience is turned into an insane, violent mob by the crazy chantings of it's singers. Unfortunately it stays absurd the WHOLE time with no general narrative eventually making it just too off putting. Even those from the era should be turned off. The cryptic dialogue would make Shakespeare seem easy to a third grader. On a technical level it's better than you might think with some good cinematography by future great Vilmos Zsigmond. Future stars Sally Kirkland and Frederic Forrest can be seen briefly.\n",
      "Label >>> 0\n",
      "****************************** Testing Data ******************************\n",
      "Size >>> 25000 25000\n",
      "Review >>> I've seen this story before but my kids haven't. Boy with troubled past joins military, faces his past, falls in love and becomes a man. The mentor this time is played perfectly by Kevin Costner; An ordinary man with common everyday problems who lives an extraordinary conviction, to save lives. After losing his team he takes a teaching position training the next generation of heroes. The young troubled recruit is played by Kutcher. While his scenes with the local love interest are a tad stiff and don't generate enough heat to melt butter, he compliments Costner well. I never really understood Sela Ward as the neglected wife and felt she should of wanted Costner to quit out of concern for his safety as opposed to her selfish needs. But her presence on screen is a pleasure. The two unaccredited stars of this movie are the Coast Guard and the Sea. Both powerful forces which should not be taken for granted in real life or this movie. The movie has some slow spots and could have used the wasted 15 minutes to strengthen the character relationships. But it still works. The rescue scenes are intense and well filmed and edited to provide maximum impact. This movie earns the audience applause. And the applause of my two sons.\n",
      "Label >>> 1\n",
      "CPU times: user 11 s, sys: 9.27 s, total: 20.2 s\n",
      "Wall time: 3min 35s\n"
     ]
    }
   ],
   "source": [
    "%%time\n",
    "train_texts, train_labels = get_data(TRAIN_DATA_DIR)\n",
    "test_texts, test_labels = get_data(TEST_DATA_DIR)\n",
    "labels_index = {'pos':1, 'neg':0} \n",
    "\n",
    "#Just to see how the data looks like. \n",
    "print('*'*30,'Training Data','*'*30)\n",
    "print('Size >>>',len(train_texts),len(train_labels))\n",
    "print('Review >>>',train_texts[0])\n",
    "print('Label >>>',train_labels[0])\n",
    "\n",
    "print('*'*30,'Testing Data','*'*30)\n",
    "print('Size >>>',len(test_texts),len(test_labels))\n",
    "print('Review >>>',test_texts[24999])\n",
    "print('Label >>>',test_labels[24999])"
   ]
  },
  {
   "cell_type": "markdown",
   "id": "b01d0dbe",
   "metadata": {
    "papermill": {
     "duration": 0.009053,
     "end_time": "2022-11-18T11:25:47.652787",
     "exception": false,
     "start_time": "2022-11-18T11:25:47.643734",
     "status": "completed"
    },
    "tags": []
   },
   "source": [
    "## Preprocessing"
   ]
  },
  {
   "cell_type": "code",
   "execution_count": 9,
   "id": "d4674dff",
   "metadata": {
    "execution": {
     "iopub.execute_input": "2022-11-18T11:25:47.673918Z",
     "iopub.status.busy": "2022-11-18T11:25:47.673460Z",
     "iopub.status.idle": "2022-11-18T11:26:02.477011Z",
     "shell.execute_reply": "2022-11-18T11:26:02.475520Z"
    },
    "papermill": {
     "duration": 14.817476,
     "end_time": "2022-11-18T11:26:02.479486",
     "exception": false,
     "start_time": "2022-11-18T11:25:47.662010",
     "status": "completed"
    },
    "tags": []
   },
   "outputs": [
    {
     "name": "stdout",
     "output_type": "stream",
     "text": [
      "Found 88582 unique tokens.\n",
      "CPU times: user 14.8 s, sys: 0 ns, total: 14.8 s\n",
      "Wall time: 14.8 s\n"
     ]
    }
   ],
   "source": [
    "%%time\n",
    "#Vectorize these text samples into a 2D integer tensor using Keras Tokenizer \n",
    "#Tokenizer is fit on training data only, and that is used to tokenize both train and test data. \n",
    "tokenizer = Tokenizer(num_words=MAX_NUM_WORDS) \n",
    "tokenizer.fit_on_texts(train_texts) \n",
    "train_sequences = tokenizer.texts_to_sequences(train_texts) #Converting text to a vector of word indexes \n",
    "test_sequences = tokenizer.texts_to_sequences(test_texts) \n",
    "word_index = tokenizer.word_index \n",
    "print('Found %s unique tokens.' % len(word_index))"
   ]
  },
  {
   "cell_type": "code",
   "execution_count": 10,
   "id": "1af4b3f7",
   "metadata": {
    "execution": {
     "iopub.execute_input": "2022-11-18T11:26:02.500295Z",
     "iopub.status.busy": "2022-11-18T11:26:02.499395Z",
     "iopub.status.idle": "2022-11-18T11:26:03.386069Z",
     "shell.execute_reply": "2022-11-18T11:26:03.384484Z"
    },
    "papermill": {
     "duration": 0.899895,
     "end_time": "2022-11-18T11:26:03.388882",
     "exception": false,
     "start_time": "2022-11-18T11:26:02.488987",
     "status": "completed"
    },
    "tags": []
   },
   "outputs": [
    {
     "name": "stdout",
     "output_type": "stream",
     "text": [
      "Training Text : (25000, 1000) Label : (25000, 2)\n",
      "Testing Text : (25000, 1000) Label : (25000, 2)\n",
      "CPU times: user 847 ms, sys: 27.2 ms, total: 874 ms\n",
      "Wall time: 879 ms\n"
     ]
    }
   ],
   "source": [
    "%%time\n",
    "#Converting this to sequences to be fed into neural network. Max seq. len is 1000 as set earlier\n",
    "#initial padding of 0s, until vector is of size MAX_SEQUENCE_LENGTH\n",
    "training_data = pad_sequences(train_sequences, maxlen=MAX_SEQUENCE_LENGTH)\n",
    "testing_data = pad_sequences(test_sequences, maxlen=MAX_SEQUENCE_LENGTH)\n",
    "training_labels = to_categorical(np.asarray(train_labels))\n",
    "testing_labels = to_categorical(np.asarray(test_labels))\n",
    "\n",
    "print('Training Text :',training_data.shape,'Label :', training_labels.shape)\n",
    "print('Testing Text :',testing_data.shape,'Label :', testing_labels.shape)"
   ]
  },
  {
   "cell_type": "markdown",
   "id": "8c163605",
   "metadata": {
    "papermill": {
     "duration": 0.008793,
     "end_time": "2022-11-18T11:26:03.406791",
     "exception": false,
     "start_time": "2022-11-18T11:26:03.397998",
     "status": "completed"
    },
    "tags": []
   },
   "source": [
    "### Create a validation set \n",
    "Create a validation set from testing data because I don't want to decrease the data for training"
   ]
  },
  {
   "cell_type": "code",
   "execution_count": 11,
   "id": "c2e7701f",
   "metadata": {
    "execution": {
     "iopub.execute_input": "2022-11-18T11:26:03.426730Z",
     "iopub.status.busy": "2022-11-18T11:26:03.426300Z",
     "iopub.status.idle": "2022-11-18T11:26:03.534313Z",
     "shell.execute_reply": "2022-11-18T11:26:03.533103Z"
    },
    "papermill": {
     "duration": 0.121096,
     "end_time": "2022-11-18T11:26:03.537027",
     "exception": false,
     "start_time": "2022-11-18T11:26:03.415931",
     "status": "completed"
    },
    "tags": []
   },
   "outputs": [],
   "source": [
    "# Shuffle the Training Data\n",
    "indices = np.arange(training_data.shape[0])        # Indices from 0 to 25000\n",
    "np.random.shuffle(indices)                    # Shuffle the indices  \n",
    "\n",
    "# Arrange the Training data and Label according to shuffled indices\n",
    "X = training_data[indices]       \n",
    "y = training_labels[indices]\n",
    "\n",
    "# Shuffle the Testing Data\n",
    "indices = np.arange(testing_data.shape[0])        # Indices from 0 to 25000\n",
    "np.random.shuffle(indices)                    # Shuffle the indices  \n",
    "\n",
    "# Arrange the Training data and Label according to shuffled indices\n",
    "Test = testing_data[indices]       \n",
    "Test_labels = testing_labels[indices]"
   ]
  },
  {
   "cell_type": "code",
   "execution_count": 12,
   "id": "165476e8",
   "metadata": {
    "execution": {
     "iopub.execute_input": "2022-11-18T11:26:03.557754Z",
     "iopub.status.busy": "2022-11-18T11:26:03.557298Z",
     "iopub.status.idle": "2022-11-18T11:26:03.565880Z",
     "shell.execute_reply": "2022-11-18T11:26:03.564270Z"
    },
    "papermill": {
     "duration": 0.021557,
     "end_time": "2022-11-18T11:26:03.568340",
     "exception": false,
     "start_time": "2022-11-18T11:26:03.546783",
     "status": "completed"
    },
    "tags": []
   },
   "outputs": [
    {
     "name": "stdout",
     "output_type": "stream",
     "text": [
      "Training : (25000, 1000) (25000, 2)\n",
      "Validation : (10000, 1000) (10000, 2)\n",
      "Testing : (15000, 1000) (15000, 2)\n"
     ]
    }
   ],
   "source": [
    "# split the training data into a training set and a validation set\n",
    "VALIDATION_SPLIT = 0.4\n",
    "\n",
    "num_validation_samples = int(VALIDATION_SPLIT * Test.shape[0])\n",
    "x_test = Test[:-num_validation_samples]\n",
    "y_test = Test_labels[:-num_validation_samples]\n",
    "x_val = Test[-num_validation_samples:]\n",
    "y_val = Test_labels[-num_validation_samples:]\n",
    "\n",
    "print('Training :',X.shape, y.shape)\n",
    "print('Validation :',x_val.shape, y_val.shape)\n",
    "print('Testing :',x_test.shape, y_test.shape)"
   ]
  },
  {
   "cell_type": "markdown",
   "id": "3f035e95",
   "metadata": {
    "papermill": {
     "duration": 0.009185,
     "end_time": "2022-11-18T11:26:03.587414",
     "exception": false,
     "start_time": "2022-11-18T11:26:03.578229",
     "status": "completed"
    },
    "tags": []
   },
   "source": [
    "## Embedding"
   ]
  },
  {
   "cell_type": "code",
   "execution_count": 13,
   "id": "f4e13d80",
   "metadata": {
    "execution": {
     "iopub.execute_input": "2022-11-18T11:26:03.608103Z",
     "iopub.status.busy": "2022-11-18T11:26:03.607110Z",
     "iopub.status.idle": "2022-11-18T11:26:14.721217Z",
     "shell.execute_reply": "2022-11-18T11:26:14.719712Z"
    },
    "papermill": {
     "duration": 11.127413,
     "end_time": "2022-11-18T11:26:14.723917",
     "exception": false,
     "start_time": "2022-11-18T11:26:03.596504",
     "status": "completed"
    },
    "tags": []
   },
   "outputs": [
    {
     "name": "stdout",
     "output_type": "stream",
     "text": [
      "GloVe embedding index.\n",
      "Found 400000 word vectors in Glove embeddings.\n",
      "\n",
      " GloVe Embedding Index for word good\n",
      " [-0.030769   0.11993    0.53909   -0.43696   -0.73937   -0.15345\n",
      "  0.081126  -0.38559   -0.68797   -0.41632   -0.13183   -0.24922\n",
      "  0.441      0.085919   0.20871   -0.063582   0.062228  -0.051234\n",
      " -0.13398    1.1418     0.036526   0.49029   -0.24567   -0.412\n",
      "  0.12349    0.41336   -0.48397   -0.54243   -0.27787   -0.26015\n",
      " -0.38485    0.78656    0.1023    -0.20712    0.40751    0.32026\n",
      " -0.51052    0.48362   -0.0099498 -0.38685    0.034975  -0.167\n",
      "  0.4237    -0.54164   -0.30323   -0.36983    0.082836  -0.52538\n",
      " -0.064531  -1.398     -0.14873   -0.35327   -0.1118     1.0912\n",
      "  0.095864  -2.8129     0.45238    0.46213    1.6012    -0.20837\n",
      " -0.27377    0.71197   -1.0754    -0.046974   0.67479   -0.065839\n",
      "  0.75824    0.39405    0.15507   -0.64719    0.32796   -0.031748\n",
      "  0.52899   -0.43886    0.67405    0.42136   -0.11981   -0.21777\n",
      " -0.29756   -0.1351     0.59898    0.46529   -0.58258   -0.02323\n",
      " -1.5442     0.01901   -0.015877   0.024499  -0.58017   -0.67659\n",
      " -0.040379  -0.44043    0.083292   0.20035   -0.75499    0.16918\n",
      " -0.26573   -0.52878    0.17584    1.065    ]\n",
      "CPU times: user 10.8 s, sys: 383 ms, total: 11.2 s\n",
      "Wall time: 11.1 s\n"
     ]
    }
   ],
   "source": [
    "%%time\n",
    "print('GloVe embedding index.')\n",
    "\n",
    "# first, build index mapping words in the embeddings set\n",
    "# to their embedding vector\n",
    "embeddings_index = {}\n",
    "with open(os.path.join(GLOVE_DIR, 'glove.6B.100d.txt'),encoding='utf8') as f:\n",
    "    for line in f:\n",
    "        values = line.split()\n",
    "        word = values[0]\n",
    "        coefs = np.asarray(values[1:], dtype='float32')\n",
    "        embeddings_index[word] = coefs\n",
    "\n",
    "print('Found %s word vectors in Glove embeddings.' % len(embeddings_index))\n",
    "print('\\n GloVe Embedding Index for word good\\n',embeddings_index[\"good\"])"
   ]
  },
  {
   "cell_type": "markdown",
   "id": "f0c18b09",
   "metadata": {
    "papermill": {
     "duration": 0.00901,
     "end_time": "2022-11-18T11:26:14.742627",
     "exception": false,
     "start_time": "2022-11-18T11:26:14.733617",
     "status": "completed"
    },
    "tags": []
   },
   "source": [
    "### Prepare Embedding Matrix - rows are the words from `word_index`, columns are the `embeddings` of that word from `glove`."
   ]
  },
  {
   "cell_type": "code",
   "execution_count": 14,
   "id": "a0e80bb0",
   "metadata": {
    "execution": {
     "iopub.execute_input": "2022-11-18T11:26:14.763285Z",
     "iopub.status.busy": "2022-11-18T11:26:14.762790Z",
     "iopub.status.idle": "2022-11-18T11:26:14.839665Z",
     "shell.execute_reply": "2022-11-18T11:26:14.838385Z"
    },
    "papermill": {
     "duration": 0.090716,
     "end_time": "2022-11-18T11:26:14.842754",
     "exception": false,
     "start_time": "2022-11-18T11:26:14.752038",
     "status": "completed"
    },
    "tags": []
   },
   "outputs": [
    {
     "name": "stdout",
     "output_type": "stream",
     "text": [
      "Total Unique words : 88582\n",
      "MAX_NUM_WORDS : 20000\n",
      "num_words : 20001\n",
      "EMBEDDING DIMENSION : 100\n",
      "Shape : (20001, 100)\n",
      "CPU times: user 57.3 ms, sys: 6.35 ms, total: 63.6 ms\n",
      "Wall time: 63.5 ms\n"
     ]
    },
    {
     "data": {
      "text/plain": [
       "array([ 6.24240004e-02,  4.34909999e-01,  3.00370008e-01,  4.44570005e-01,\n",
       "       -9.42979977e-02, -3.17759991e-01,  2.72410005e-01, -3.62569988e-01,\n",
       "        2.22739995e-01, -4.52920012e-02, -3.80400002e-01, -3.78809988e-01,\n",
       "        1.15240000e-01, -3.04749995e-01,  2.74960011e-01, -1.02519996e-01,\n",
       "        2.68949997e-02,  3.90190005e-01,  1.63230002e-01, -3.04529995e-01,\n",
       "       -2.49699995e-01, -1.89339995e-01, -3.94400001e-01,  1.98559999e-01,\n",
       "        2.46959999e-01, -1.63849995e-01,  6.17460012e-01,  8.77669975e-02,\n",
       "       -5.97299993e-01, -6.85209990e-04, -2.46030003e-01,  6.88920021e-01,\n",
       "       -5.49839973e-01, -4.70319986e-01, -2.33870000e-01, -2.55470008e-01,\n",
       "       -4.17580009e-01, -6.52879998e-02,  4.72970009e-01, -7.10850000e-01,\n",
       "       -6.06859982e-01,  3.24770004e-01, -5.09440005e-01,  4.55060005e-01,\n",
       "       -9.41169977e-01,  3.30590010e-02,  3.65139991e-01,  6.98379993e-01,\n",
       "       -4.91439998e-01,  1.73319995e-01, -2.79179990e-01,  1.15189999e-02,\n",
       "       -2.01749995e-01,  3.48019987e-01,  3.57989997e-01, -5.29269993e-01,\n",
       "        2.76690006e-01,  2.40300000e-01,  6.40190005e-01,  2.40109995e-01,\n",
       "        2.02250004e-01,  9.81199965e-02, -2.78389994e-02, -2.99200006e-02,\n",
       "        6.39169991e-01, -1.90750003e-01, -2.88199991e-01, -9.25509989e-01,\n",
       "       -1.01480000e-01,  2.15279996e-01,  2.87030011e-01, -1.53139997e-02,\n",
       "       -4.23999995e-01, -1.82329997e-01,  7.44120032e-02, -5.82120001e-01,\n",
       "       -1.43730000e-01, -3.35040003e-01, -2.17380002e-01, -4.76819992e-01,\n",
       "       -7.67660022e-01, -3.66219997e-01, -3.01730007e-01,  9.75600034e-02,\n",
       "       -7.78100014e-01,  5.73459983e-01,  2.34820005e-02, -5.98770022e-01,\n",
       "       -4.05979991e-01, -2.50889987e-01,  2.82259993e-02, -7.88199976e-02,\n",
       "       -8.71929973e-02,  6.50930032e-02,  7.39629984e-01, -4.01769996e-01,\n",
       "        1.93130001e-01, -7.72599995e-01,  1.19829997e-01,  1.06410003e+00])"
      ]
     },
     "execution_count": 14,
     "metadata": {},
     "output_type": "execute_result"
    }
   ],
   "source": [
    "%%time\n",
    "# prepare embedding matrix - rows are the words from word_index, columns are the embeddings of that word from glove.\n",
    "print('Total Unique words :', len(word_index))\n",
    "print('MAX_NUM_WORDS :',MAX_NUM_WORDS)\n",
    "\n",
    "num_words = min(MAX_NUM_WORDS, len(word_index)) + 1\n",
    "\n",
    "print('num_words :',num_words)\n",
    "print('EMBEDDING DIMENSION :',EMBEDDING_DIM)\n",
    "\n",
    "# Embedding Matrix\n",
    "embedding_matrix = np.zeros((num_words, EMBEDDING_DIM))\n",
    "for word, i in word_index.items():\n",
    "    \n",
    "    if i > MAX_NUM_WORDS:\n",
    "        continue\n",
    "    embedding_vector = embeddings_index.get(word)\n",
    "    if embedding_vector is not None:\n",
    "        # words not found in embedding index will be all-zeros.\n",
    "        embedding_matrix[i] = embedding_vector\n",
    "        \n",
    "\n",
    "print('Shape :',embedding_matrix.shape)\n",
    "embedding_matrix[-1]"
   ]
  },
  {
   "cell_type": "code",
   "execution_count": 15,
   "id": "21ca3e42",
   "metadata": {
    "execution": {
     "iopub.execute_input": "2022-11-18T11:26:14.864693Z",
     "iopub.status.busy": "2022-11-18T11:26:14.864277Z",
     "iopub.status.idle": "2022-11-18T11:26:14.904905Z",
     "shell.execute_reply": "2022-11-18T11:26:14.902863Z"
    },
    "papermill": {
     "duration": 0.055901,
     "end_time": "2022-11-18T11:26:14.908293",
     "exception": false,
     "start_time": "2022-11-18T11:26:14.852392",
     "status": "completed"
    },
    "tags": []
   },
   "outputs": [
    {
     "name": "stdout",
     "output_type": "stream",
     "text": [
      "Preparing of embedding matrix is done\n"
     ]
    }
   ],
   "source": [
    "# load these pre-trained word embeddings into an Embedding layer\n",
    "# note that we set trainable = False so as to keep the embeddings fixed\n",
    "embedding_layer = Embedding(num_words,\n",
    "                            EMBEDDING_DIM,\n",
    "                            embeddings_initializer=Constant(embedding_matrix),\n",
    "                            input_length=MAX_SEQUENCE_LENGTH,\n",
    "                            trainable=False)\n",
    "print(\"Preparing of embedding matrix is done\")"
   ]
  },
  {
   "cell_type": "markdown",
   "id": "2614cec3",
   "metadata": {
    "papermill": {
     "duration": 0.012715,
     "end_time": "2022-11-18T11:26:14.932770",
     "exception": false,
     "start_time": "2022-11-18T11:26:14.920055",
     "status": "completed"
    },
    "tags": []
   },
   "source": [
    "## 1D CNN Model with pre-trained embedding"
   ]
  },
  {
   "cell_type": "code",
   "execution_count": 16,
   "id": "119516a6",
   "metadata": {
    "execution": {
     "iopub.execute_input": "2022-11-18T11:26:14.962216Z",
     "iopub.status.busy": "2022-11-18T11:26:14.960918Z",
     "iopub.status.idle": "2022-11-18T11:26:15.195979Z",
     "shell.execute_reply": "2022-11-18T11:26:15.194586Z"
    },
    "papermill": {
     "duration": 0.256419,
     "end_time": "2022-11-18T11:26:15.199905",
     "exception": false,
     "start_time": "2022-11-18T11:26:14.943486",
     "status": "completed"
    },
    "tags": []
   },
   "outputs": [
    {
     "name": "stdout",
     "output_type": "stream",
     "text": [
      "Define a 1D CNN model.\n",
      "Model: \"sequential\"\n",
      "_________________________________________________________________\n",
      "Layer (type)                 Output Shape              Param #   \n",
      "=================================================================\n",
      "embedding (Embedding)        (None, 1000, 100)         2000100   \n",
      "_________________________________________________________________\n",
      "conv1d (Conv1D)              (None, 996, 128)          64128     \n",
      "_________________________________________________________________\n",
      "max_pooling1d (MaxPooling1D) (None, 199, 128)          0         \n",
      "_________________________________________________________________\n",
      "conv1d_1 (Conv1D)            (None, 195, 128)          82048     \n",
      "_________________________________________________________________\n",
      "max_pooling1d_1 (MaxPooling1 (None, 39, 128)           0         \n",
      "_________________________________________________________________\n",
      "conv1d_2 (Conv1D)            (None, 35, 128)           82048     \n",
      "_________________________________________________________________\n",
      "global_max_pooling1d (Global (None, 128)               0         \n",
      "_________________________________________________________________\n",
      "dense (Dense)                (None, 128)               16512     \n",
      "_________________________________________________________________\n",
      "dense_1 (Dense)              (None, 2)                 258       \n",
      "=================================================================\n",
      "Total params: 2,245,094\n",
      "Trainable params: 244,994\n",
      "Non-trainable params: 2,000,100\n",
      "_________________________________________________________________\n"
     ]
    },
    {
     "name": "stderr",
     "output_type": "stream",
     "text": [
      "2022-11-18 11:26:14.986346: I tensorflow/core/common_runtime/process_util.cc:146] Creating new thread pool with default inter op setting: 2. Tune using inter_op_parallelism_threads for best performance.\n"
     ]
    }
   ],
   "source": [
    "print('Define a 1D CNN model.')\n",
    "\n",
    "cnnmodel = Sequential()\n",
    "cnnmodel.add(embedding_layer)\n",
    "cnnmodel.add(Conv1D(128, 5, activation='relu'))\n",
    "cnnmodel.add(MaxPooling1D(5))\n",
    "cnnmodel.add(Conv1D(128, 5, activation='relu'))\n",
    "cnnmodel.add(MaxPooling1D(5))\n",
    "cnnmodel.add(Conv1D(128, 5, activation='relu'))\n",
    "cnnmodel.add(GlobalMaxPooling1D())\n",
    "cnnmodel.add(Dense(128, activation='relu'))\n",
    "cnnmodel.add(Dense(len(labels_index), activation='softmax'))\n",
    "\n",
    "cnnmodel.compile(loss='categorical_crossentropy',\n",
    "                 optimizer='rmsprop',\n",
    "                 metrics=['acc'])\n",
    "\n",
    "cnnmodel.summary()"
   ]
  },
  {
   "cell_type": "code",
   "execution_count": 17,
   "id": "7b8bde6d",
   "metadata": {
    "execution": {
     "iopub.execute_input": "2022-11-18T11:26:15.221792Z",
     "iopub.status.busy": "2022-11-18T11:26:15.221357Z",
     "iopub.status.idle": "2022-11-18T11:28:55.009331Z",
     "shell.execute_reply": "2022-11-18T11:28:55.007924Z"
    },
    "papermill": {
     "duration": 159.802562,
     "end_time": "2022-11-18T11:28:55.012505",
     "exception": false,
     "start_time": "2022-11-18T11:26:15.209943",
     "status": "completed"
    },
    "tags": []
   },
   "outputs": [
    {
     "name": "stderr",
     "output_type": "stream",
     "text": [
      "2022-11-18 11:26:15.432426: I tensorflow/compiler/mlir/mlir_graph_optimization_pass.cc:185] None of the MLIR Optimization Passes are enabled (registered 2)\n"
     ]
    },
    {
     "name": "stdout",
     "output_type": "stream",
     "text": [
      "196/196 [==============================] - 133s 671ms/step - loss: 0.6598 - acc: 0.6359 - val_loss: 0.4893 - val_acc: 0.7844\n",
      "469/469 [==============================] - 27s 57ms/step - loss: 0.4979 - acc: 0.7801\n",
      "Test accuracy with CNN: 0.7801333069801331\n",
      "CPU times: user 9min 39s, sys: 2.27 s, total: 9min 41s\n",
      "Wall time: 2min 39s\n"
     ]
    }
   ],
   "source": [
    "%%time\n",
    "#Train the model. Tune to validation set. \n",
    "\n",
    "cnnmodel.fit(X, y,\n",
    "             batch_size=128,\n",
    "             epochs=1, \n",
    "             validation_data=(x_val, y_val))\n",
    "#Evaluate on test set:\n",
    "score, acc = cnnmodel.evaluate(x_test, y_test)\n",
    "print('Test accuracy with CNN:', acc)"
   ]
  },
  {
   "cell_type": "markdown",
   "id": "142e896e",
   "metadata": {
    "papermill": {
     "duration": 0.050755,
     "end_time": "2022-11-18T11:28:55.114788",
     "exception": false,
     "start_time": "2022-11-18T11:28:55.064033",
     "status": "completed"
    },
    "tags": []
   },
   "source": [
    "## 1D CNN model with training our own embedding"
   ]
  },
  {
   "cell_type": "code",
   "execution_count": 18,
   "id": "f6b0c10e",
   "metadata": {
    "execution": {
     "iopub.execute_input": "2022-11-18T11:28:55.224039Z",
     "iopub.status.busy": "2022-11-18T11:28:55.223615Z",
     "iopub.status.idle": "2022-11-18T11:28:55.357958Z",
     "shell.execute_reply": "2022-11-18T11:28:55.355753Z"
    },
    "papermill": {
     "duration": 0.194763,
     "end_time": "2022-11-18T11:28:55.361605",
     "exception": false,
     "start_time": "2022-11-18T11:28:55.166842",
     "status": "completed"
    },
    "tags": []
   },
   "outputs": [
    {
     "name": "stdout",
     "output_type": "stream",
     "text": [
      "Defining and training a CNN model, training embedding layer on the fly instead of using pre-trained embeddings\n",
      "Model: \"sequential_1\"\n",
      "_________________________________________________________________\n",
      "Layer (type)                 Output Shape              Param #   \n",
      "=================================================================\n",
      "embedding_1 (Embedding)      (None, None, 128)         2560000   \n",
      "_________________________________________________________________\n",
      "conv1d_3 (Conv1D)            (None, None, 128)         82048     \n",
      "_________________________________________________________________\n",
      "max_pooling1d_2 (MaxPooling1 (None, None, 128)         0         \n",
      "_________________________________________________________________\n",
      "conv1d_4 (Conv1D)            (None, None, 128)         82048     \n",
      "_________________________________________________________________\n",
      "max_pooling1d_3 (MaxPooling1 (None, None, 128)         0         \n",
      "_________________________________________________________________\n",
      "conv1d_5 (Conv1D)            (None, None, 128)         82048     \n",
      "_________________________________________________________________\n",
      "global_max_pooling1d_1 (Glob (None, 128)               0         \n",
      "_________________________________________________________________\n",
      "dense_2 (Dense)              (None, 128)               16512     \n",
      "_________________________________________________________________\n",
      "dense_3 (Dense)              (None, 2)                 258       \n",
      "=================================================================\n",
      "Total params: 2,822,914\n",
      "Trainable params: 2,822,914\n",
      "Non-trainable params: 0\n",
      "_________________________________________________________________\n"
     ]
    }
   ],
   "source": [
    "print(\"Defining and training a CNN model, training embedding layer on the fly instead of using pre-trained embeddings\")\n",
    "cnnmodel1 = Sequential()\n",
    "cnnmodel1.add(Embedding(MAX_NUM_WORDS, 128))\n",
    "cnnmodel1.add(Conv1D(128, 5, activation='relu'))\n",
    "cnnmodel1.add(MaxPooling1D(5))\n",
    "cnnmodel1.add(Conv1D(128, 5, activation='relu'))\n",
    "cnnmodel1.add(MaxPooling1D(5))\n",
    "cnnmodel1.add(Conv1D(128, 5, activation='relu'))\n",
    "cnnmodel1.add(GlobalMaxPooling1D())\n",
    "cnnmodel1.add(Dense(128, activation='relu'))\n",
    "cnnmodel1.add(Dense(len(labels_index), activation='softmax'))\n",
    "\n",
    "cnnmodel1.compile(loss='categorical_crossentropy',\n",
    "                  optimizer='rmsprop',\n",
    "                  metrics=['acc'])\n",
    "\n",
    "cnnmodel1.summary()"
   ]
  },
  {
   "cell_type": "code",
   "execution_count": 19,
   "id": "0e0af500",
   "metadata": {
    "execution": {
     "iopub.execute_input": "2022-11-18T11:28:55.471627Z",
     "iopub.status.busy": "2022-11-18T11:28:55.471169Z",
     "iopub.status.idle": "2022-11-18T11:32:50.912949Z",
     "shell.execute_reply": "2022-11-18T11:32:50.911612Z"
    },
    "papermill": {
     "duration": 235.499815,
     "end_time": "2022-11-18T11:32:50.915721",
     "exception": false,
     "start_time": "2022-11-18T11:28:55.415906",
     "status": "completed"
    },
    "tags": []
   },
   "outputs": [
    {
     "name": "stdout",
     "output_type": "stream",
     "text": [
      "196/196 [==============================] - 204s 1s/step - loss: 0.4764 - acc: 0.7428 - val_loss: 0.2934 - val_acc: 0.8771\n",
      "469/469 [==============================] - 31s 66ms/step - loss: 0.3020 - acc: 0.8709\n",
      "Test accuracy with CNN: 0.8708666563034058\n",
      "CPU times: user 14min 28s, sys: 2.82 s, total: 14min 31s\n",
      "Wall time: 3min 55s\n"
     ]
    }
   ],
   "source": [
    "%%time\n",
    "#Train the model. Tune to validation set. \n",
    "cnnmodel1.fit(X, y,\n",
    "             batch_size=128,\n",
    "             epochs=1, \n",
    "             validation_data=(x_val, y_val))\n",
    "#Evaluate on test set:\n",
    "score, acc = cnnmodel1.evaluate(x_test, y_test)\n",
    "print('Test accuracy with CNN:', acc)"
   ]
  },
  {
   "cell_type": "markdown",
   "id": "3ef67dbe",
   "metadata": {
    "papermill": {
     "duration": 0.094547,
     "end_time": "2022-11-18T11:32:51.129239",
     "exception": false,
     "start_time": "2022-11-18T11:32:51.034692",
     "status": "completed"
    },
    "tags": []
   },
   "source": [
    "## LSTM Model using pre-trained Embedding Layer"
   ]
  },
  {
   "cell_type": "code",
   "execution_count": 20,
   "id": "c95ee8db",
   "metadata": {
    "execution": {
     "iopub.execute_input": "2022-11-18T11:32:51.313947Z",
     "iopub.status.busy": "2022-11-18T11:32:51.313480Z",
     "iopub.status.idle": "2022-11-18T11:32:51.504524Z",
     "shell.execute_reply": "2022-11-18T11:32:51.502941Z"
    },
    "papermill": {
     "duration": 0.286249,
     "end_time": "2022-11-18T11:32:51.507248",
     "exception": false,
     "start_time": "2022-11-18T11:32:51.220999",
     "status": "completed"
    },
    "tags": []
   },
   "outputs": [
    {
     "name": "stdout",
     "output_type": "stream",
     "text": [
      "Defining and training an LSTM model, using pre-trained embedding layer\n",
      "Model: \"sequential_2\"\n",
      "_________________________________________________________________\n",
      "Layer (type)                 Output Shape              Param #   \n",
      "=================================================================\n",
      "embedding (Embedding)        (None, 1000, 100)         2000100   \n",
      "_________________________________________________________________\n",
      "lstm (LSTM)                  (None, 128)               117248    \n",
      "_________________________________________________________________\n",
      "dense_4 (Dense)              (None, 2)                 258       \n",
      "=================================================================\n",
      "Total params: 2,117,606\n",
      "Trainable params: 117,506\n",
      "Non-trainable params: 2,000,100\n",
      "_________________________________________________________________\n"
     ]
    }
   ],
   "source": [
    "print(\"Defining and training an LSTM model, using pre-trained embedding layer\")\n",
    "\n",
    "rnnmodel = Sequential()\n",
    "rnnmodel.add(embedding_layer)\n",
    "rnnmodel.add(LSTM(128, dropout=0.2, recurrent_dropout=0.2))\n",
    "rnnmodel.add(Dense(2, activation='sigmoid'))\n",
    "\n",
    "rnnmodel.compile(loss='binary_crossentropy',\n",
    "                 optimizer='adam',\n",
    "                 metrics=['accuracy'])\n",
    "\n",
    "rnnmodel.summary()"
   ]
  },
  {
   "cell_type": "code",
   "execution_count": 21,
   "id": "fc7c3cbd",
   "metadata": {
    "execution": {
     "iopub.execute_input": "2022-11-18T11:32:51.691393Z",
     "iopub.status.busy": "2022-11-18T11:32:51.690952Z",
     "iopub.status.idle": "2022-11-18T12:45:21.478831Z",
     "shell.execute_reply": "2022-11-18T12:45:21.477362Z"
    },
    "papermill": {
     "duration": 4349.884261,
     "end_time": "2022-11-18T12:45:21.481458",
     "exception": false,
     "start_time": "2022-11-18T11:32:51.597197",
     "status": "completed"
    },
    "tags": []
   },
   "outputs": [
    {
     "name": "stdout",
     "output_type": "stream",
     "text": [
      "Training the RNN\n",
      "782/782 [==============================] - 3943s 5s/step - loss: 0.5678 - accuracy: 0.7020 - val_loss: 0.4369 - val_accuracy: 0.8085\n",
      "469/469 [==============================] - 407s 867ms/step - loss: 0.4504 - accuracy: 0.8025\n",
      "Test accuracy with RNN: 0.8025333285331726\n",
      "CPU times: user 1h 25min 36s, sys: 21min 43s, total: 1h 47min 19s\n",
      "Wall time: 1h 12min 29s\n"
     ]
    }
   ],
   "source": [
    "%%time\n",
    "print('Training the RNN')\n",
    "\n",
    "rnnmodel.fit(X, y,\n",
    "             batch_size=32,\n",
    "             epochs=1,\n",
    "             validation_data=(x_val, y_val))\n",
    "\n",
    "score, acc = rnnmodel.evaluate(x_test, y_test,\n",
    "                               batch_size=32)\n",
    "print('Test accuracy with RNN:', acc)"
   ]
  },
  {
   "cell_type": "markdown",
   "id": "6c7ac7fd",
   "metadata": {
    "papermill": {
     "duration": 0.167281,
     "end_time": "2022-11-18T12:45:21.815212",
     "exception": false,
     "start_time": "2022-11-18T12:45:21.647931",
     "status": "completed"
    },
    "tags": []
   },
   "source": [
    "## LSTM Model with training own embedding"
   ]
  },
  {
   "cell_type": "code",
   "execution_count": 22,
   "id": "e6c073c0",
   "metadata": {
    "execution": {
     "iopub.execute_input": "2022-11-18T12:45:22.151198Z",
     "iopub.status.busy": "2022-11-18T12:45:22.150811Z",
     "iopub.status.idle": "2022-11-18T12:45:22.314366Z",
     "shell.execute_reply": "2022-11-18T12:45:22.313180Z"
    },
    "papermill": {
     "duration": 0.334432,
     "end_time": "2022-11-18T12:45:22.316850",
     "exception": false,
     "start_time": "2022-11-18T12:45:21.982418",
     "status": "completed"
    },
    "tags": []
   },
   "outputs": [
    {
     "name": "stdout",
     "output_type": "stream",
     "text": [
      "Defining and training an LSTM model, training embedding layer on the fly\n",
      "Model: \"sequential_3\"\n",
      "_________________________________________________________________\n",
      "Layer (type)                 Output Shape              Param #   \n",
      "=================================================================\n",
      "embedding_2 (Embedding)      (None, None, 128)         2560000   \n",
      "_________________________________________________________________\n",
      "lstm_1 (LSTM)                (None, 128)               131584    \n",
      "_________________________________________________________________\n",
      "dense_5 (Dense)              (None, 2)                 258       \n",
      "=================================================================\n",
      "Total params: 2,691,842\n",
      "Trainable params: 2,691,842\n",
      "Non-trainable params: 0\n",
      "_________________________________________________________________\n"
     ]
    }
   ],
   "source": [
    "print(\"Defining and training an LSTM model, training embedding layer on the fly\")\n",
    "\n",
    "#model\n",
    "rnnmodel2 = Sequential()\n",
    "rnnmodel2.add(Embedding(MAX_NUM_WORDS, 128))\n",
    "rnnmodel2.add(LSTM(128, dropout=0.2, recurrent_dropout=0.2))\n",
    "rnnmodel2.add(Dense(2, activation='sigmoid'))\n",
    "\n",
    "rnnmodel2.compile(loss='binary_crossentropy',\n",
    "                  optimizer='adam',\n",
    "                  metrics=['accuracy'])\n",
    "\n",
    "rnnmodel2.summary()"
   ]
  },
  {
   "cell_type": "code",
   "execution_count": 23,
   "id": "01924f36",
   "metadata": {
    "execution": {
     "iopub.execute_input": "2022-11-18T12:45:22.650724Z",
     "iopub.status.busy": "2022-11-18T12:45:22.650297Z",
     "iopub.status.idle": "2022-11-18T15:18:07.761216Z",
     "shell.execute_reply": "2022-11-18T15:18:07.760077Z"
    },
    "papermill": {
     "duration": 9165.280194,
     "end_time": "2022-11-18T15:18:07.763373",
     "exception": false,
     "start_time": "2022-11-18T12:45:22.483179",
     "status": "completed"
    },
    "tags": []
   },
   "outputs": [
    {
     "name": "stdout",
     "output_type": "stream",
     "text": [
      "Training the RNN\n",
      "Epoch 1/2\n",
      "782/782 [==============================] - 4429s 6s/step - loss: 0.5170 - accuracy: 0.7482 - val_loss: 0.4170 - val_accuracy: 0.8112\n",
      "Epoch 2/2\n",
      "782/782 [==============================] - 4356s 6s/step - loss: 0.3238 - accuracy: 0.8655 - val_loss: 0.3957 - val_accuracy: 0.8313\n",
      "469/469 [==============================] - 379s 807ms/step - loss: 0.4127 - accuracy: 0.8196\n",
      "Test accuracy with RNN: 0.819599986076355\n",
      "CPU times: user 3h 5min 20s, sys: 44min 23s, total: 3h 49min 43s\n",
      "Wall time: 2h 32min 45s\n"
     ]
    }
   ],
   "source": [
    "%%time\n",
    "print('Training the RNN')\n",
    "\n",
    "rnnmodel2.fit(X, y,\n",
    "             batch_size=32,\n",
    "             epochs=2,\n",
    "             validation_data=(x_val, y_val))\n",
    "\n",
    "score, acc = rnnmodel2.evaluate(x_test, y_test,\n",
    "                                batch_size=32)\n",
    "print('Test accuracy with RNN:', acc)"
   ]
  },
  {
   "cell_type": "markdown",
   "id": "effa0887",
   "metadata": {
    "papermill": {
     "duration": 0.289823,
     "end_time": "2022-11-18T15:18:08.422539",
     "exception": false,
     "start_time": "2022-11-18T15:18:08.132716",
     "status": "completed"
    },
    "tags": []
   },
   "source": [
    "## Classification Report"
   ]
  },
  {
   "cell_type": "code",
   "execution_count": 24,
   "id": "5b4dff8f",
   "metadata": {
    "execution": {
     "iopub.execute_input": "2022-11-18T15:18:09.003692Z",
     "iopub.status.busy": "2022-11-18T15:18:09.002476Z",
     "iopub.status.idle": "2022-11-18T15:24:21.171205Z",
     "shell.execute_reply": "2022-11-18T15:24:21.170240Z"
    },
    "papermill": {
     "duration": 372.767664,
     "end_time": "2022-11-18T15:24:21.479011",
     "exception": false,
     "start_time": "2022-11-18T15:18:08.711347",
     "status": "completed"
    },
    "tags": []
   },
   "outputs": [
    {
     "name": "stdout",
     "output_type": "stream",
     "text": [
      "              precision    recall  f1-score   support\n",
      "\n",
      "    Negative       0.75      0.87      0.81      6428\n",
      "    Positive       0.89      0.78      0.83      8572\n",
      "\n",
      "    accuracy                           0.82     15000\n",
      "   macro avg       0.82      0.83      0.82     15000\n",
      "weighted avg       0.83      0.82      0.82     15000\n",
      "\n"
     ]
    }
   ],
   "source": [
    "y_pred = rnnmodel2.predict(x_test)\n",
    "\n",
    "pred = [np.argmax(element) for element in y_pred]\n",
    "print(classification_report(pred, y_test[:,1], target_names = ['Negative','Positive']))"
   ]
  }
 ],
 "metadata": {
  "kernelspec": {
   "display_name": "Python 3",
   "language": "python",
   "name": "python3"
  },
  "language_info": {
   "codemirror_mode": {
    "name": "ipython",
    "version": 3
   },
   "file_extension": ".py",
   "mimetype": "text/x-python",
   "name": "python",
   "nbconvert_exporter": "python",
   "pygments_lexer": "ipython3",
   "version": "3.7.12"
  },
  "papermill": {
   "default_parameters": {},
   "duration": 14852.709311,
   "end_time": "2022-11-18T15:24:25.505969",
   "environment_variables": {},
   "exception": null,
   "input_path": "__notebook__.ipynb",
   "output_path": "__notebook__.ipynb",
   "parameters": {},
   "start_time": "2022-11-18T11:16:52.796658",
   "version": "2.3.4"
  }
 },
 "nbformat": 4,
 "nbformat_minor": 5
}
