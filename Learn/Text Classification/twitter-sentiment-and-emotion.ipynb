{
 "cells": [
  {
   "cell_type": "markdown",
   "id": "df720116",
   "metadata": {
    "papermill": {
     "duration": 0.007166,
     "end_time": "2022-11-17T10:38:35.970923",
     "exception": false,
     "start_time": "2022-11-17T10:38:35.963757",
     "status": "completed"
    },
    "tags": []
   },
   "source": [
    "## Load necessary Libraries"
   ]
  },
  {
   "cell_type": "code",
   "execution_count": 1,
   "id": "6bba08b3",
   "metadata": {
    "execution": {
     "iopub.execute_input": "2022-11-17T10:38:35.984561Z",
     "iopub.status.busy": "2022-11-17T10:38:35.983850Z",
     "iopub.status.idle": "2022-11-17T10:38:37.697571Z",
     "shell.execute_reply": "2022-11-17T10:38:37.696374Z"
    },
    "papermill": {
     "duration": 1.723648,
     "end_time": "2022-11-17T10:38:37.700398",
     "exception": false,
     "start_time": "2022-11-17T10:38:35.976750",
     "status": "completed"
    },
    "tags": []
   },
   "outputs": [
    {
     "name": "stdout",
     "output_type": "stream",
     "text": [
      "/kaggle/input/emotion-detection-from-text/tweet_emotions.csv\n"
     ]
    }
   ],
   "source": [
    "import warnings\n",
    "warnings.filterwarnings('ignore')\n",
    "import pandas as pd\n",
    "import nltk\n",
    "#nltk.download('stopwords')\n",
    "from nltk.tokenize import TweetTokenizer\n",
    "from nltk.corpus import stopwords\n",
    "from sklearn.model_selection import train_test_split\n",
    "from gensim.models.doc2vec import Doc2Vec, TaggedDocument\n",
    "\n",
    "import os\n",
    "for dirname, _, filenames in os.walk('/kaggle/input'):\n",
    "    for filename in filenames:\n",
    "        print(os.path.join(dirname, filename))"
   ]
  },
  {
   "cell_type": "markdown",
   "id": "b932139d",
   "metadata": {
    "papermill": {
     "duration": 0.005322,
     "end_time": "2022-11-17T10:38:37.711975",
     "exception": false,
     "start_time": "2022-11-17T10:38:37.706653",
     "status": "completed"
    },
    "tags": []
   },
   "source": [
    "## Load the datasets"
   ]
  },
  {
   "cell_type": "code",
   "execution_count": 2,
   "id": "301d52f3",
   "metadata": {
    "execution": {
     "iopub.execute_input": "2022-11-17T10:38:37.724755Z",
     "iopub.status.busy": "2022-11-17T10:38:37.724352Z",
     "iopub.status.idle": "2022-11-17T10:38:37.874298Z",
     "shell.execute_reply": "2022-11-17T10:38:37.873157Z"
    },
    "papermill": {
     "duration": 0.158957,
     "end_time": "2022-11-17T10:38:37.876577",
     "exception": false,
     "start_time": "2022-11-17T10:38:37.717620",
     "status": "completed"
    },
    "tags": []
   },
   "outputs": [
    {
     "data": {
      "text/html": [
       "<div>\n",
       "<style scoped>\n",
       "    .dataframe tbody tr th:only-of-type {\n",
       "        vertical-align: middle;\n",
       "    }\n",
       "\n",
       "    .dataframe tbody tr th {\n",
       "        vertical-align: top;\n",
       "    }\n",
       "\n",
       "    .dataframe thead th {\n",
       "        text-align: right;\n",
       "    }\n",
       "</style>\n",
       "<table border=\"1\" class=\"dataframe\">\n",
       "  <thead>\n",
       "    <tr style=\"text-align: right;\">\n",
       "      <th></th>\n",
       "      <th>tweet_id</th>\n",
       "      <th>sentiment</th>\n",
       "      <th>content</th>\n",
       "    </tr>\n",
       "  </thead>\n",
       "  <tbody>\n",
       "    <tr>\n",
       "      <th>0</th>\n",
       "      <td>1956967341</td>\n",
       "      <td>empty</td>\n",
       "      <td>@tiffanylue i know  i was listenin to bad habi...</td>\n",
       "    </tr>\n",
       "    <tr>\n",
       "      <th>1</th>\n",
       "      <td>1956967666</td>\n",
       "      <td>sadness</td>\n",
       "      <td>Layin n bed with a headache  ughhhh...waitin o...</td>\n",
       "    </tr>\n",
       "    <tr>\n",
       "      <th>2</th>\n",
       "      <td>1956967696</td>\n",
       "      <td>sadness</td>\n",
       "      <td>Funeral ceremony...gloomy friday...</td>\n",
       "    </tr>\n",
       "    <tr>\n",
       "      <th>3</th>\n",
       "      <td>1956967789</td>\n",
       "      <td>enthusiasm</td>\n",
       "      <td>wants to hang out with friends SOON!</td>\n",
       "    </tr>\n",
       "    <tr>\n",
       "      <th>4</th>\n",
       "      <td>1956968416</td>\n",
       "      <td>neutral</td>\n",
       "      <td>@dannycastillo We want to trade with someone w...</td>\n",
       "    </tr>\n",
       "  </tbody>\n",
       "</table>\n",
       "</div>"
      ],
      "text/plain": [
       "     tweet_id   sentiment                                            content\n",
       "0  1956967341       empty  @tiffanylue i know  i was listenin to bad habi...\n",
       "1  1956967666     sadness  Layin n bed with a headache  ughhhh...waitin o...\n",
       "2  1956967696     sadness                Funeral ceremony...gloomy friday...\n",
       "3  1956967789  enthusiasm               wants to hang out with friends SOON!\n",
       "4  1956968416     neutral  @dannycastillo We want to trade with someone w..."
      ]
     },
     "execution_count": 2,
     "metadata": {},
     "output_type": "execute_result"
    }
   ],
   "source": [
    "df = pd.read_csv('/kaggle/input/emotion-detection-from-text/tweet_emotions.csv')\n",
    "df.head()"
   ]
  },
  {
   "cell_type": "code",
   "execution_count": 3,
   "id": "7e4da96d",
   "metadata": {
    "execution": {
     "iopub.execute_input": "2022-11-17T10:38:37.890437Z",
     "iopub.status.busy": "2022-11-17T10:38:37.889943Z",
     "iopub.status.idle": "2022-11-17T10:38:37.918522Z",
     "shell.execute_reply": "2022-11-17T10:38:37.917227Z"
    },
    "papermill": {
     "duration": 0.038667,
     "end_time": "2022-11-17T10:38:37.921096",
     "exception": false,
     "start_time": "2022-11-17T10:38:37.882429",
     "status": "completed"
    },
    "tags": []
   },
   "outputs": [
    {
     "name": "stdout",
     "output_type": "stream",
     "text": [
      "<class 'pandas.core.frame.DataFrame'>\n",
      "RangeIndex: 40000 entries, 0 to 39999\n",
      "Data columns (total 3 columns):\n",
      " #   Column     Non-Null Count  Dtype \n",
      "---  ------     --------------  ----- \n",
      " 0   tweet_id   40000 non-null  int64 \n",
      " 1   sentiment  40000 non-null  object\n",
      " 2   content    40000 non-null  object\n",
      "dtypes: int64(1), object(2)\n",
      "memory usage: 937.6+ KB\n"
     ]
    }
   ],
   "source": [
    "df.info()"
   ]
  },
  {
   "cell_type": "code",
   "execution_count": 4,
   "id": "d1720fd5",
   "metadata": {
    "execution": {
     "iopub.execute_input": "2022-11-17T10:38:37.935014Z",
     "iopub.status.busy": "2022-11-17T10:38:37.934258Z",
     "iopub.status.idle": "2022-11-17T10:38:37.944863Z",
     "shell.execute_reply": "2022-11-17T10:38:37.943688Z"
    },
    "papermill": {
     "duration": 0.020234,
     "end_time": "2022-11-17T10:38:37.947333",
     "exception": false,
     "start_time": "2022-11-17T10:38:37.927099",
     "status": "completed"
    },
    "tags": []
   },
   "outputs": [
    {
     "data": {
      "text/plain": [
       "neutral       8638\n",
       "worry         8459\n",
       "happiness     5209\n",
       "sadness       5165\n",
       "love          3842\n",
       "surprise      2187\n",
       "fun           1776\n",
       "relief        1526\n",
       "hate          1323\n",
       "empty          827\n",
       "enthusiasm     759\n",
       "boredom        179\n",
       "anger          110\n",
       "Name: sentiment, dtype: int64"
      ]
     },
     "execution_count": 4,
     "metadata": {},
     "output_type": "execute_result"
    }
   ],
   "source": [
    "df['sentiment'].value_counts()"
   ]
  },
  {
   "cell_type": "code",
   "execution_count": 5,
   "id": "05be23a0",
   "metadata": {
    "execution": {
     "iopub.execute_input": "2022-11-17T10:38:37.961907Z",
     "iopub.status.busy": "2022-11-17T10:38:37.961088Z",
     "iopub.status.idle": "2022-11-17T10:38:37.974460Z",
     "shell.execute_reply": "2022-11-17T10:38:37.973517Z"
    },
    "papermill": {
     "duration": 0.023188,
     "end_time": "2022-11-17T10:38:37.976886",
     "exception": false,
     "start_time": "2022-11-17T10:38:37.953698",
     "status": "completed"
    },
    "tags": []
   },
   "outputs": [
    {
     "data": {
      "text/plain": [
       "(22306, 3)"
      ]
     },
     "execution_count": 5,
     "metadata": {},
     "output_type": "execute_result"
    }
   ],
   "source": [
    "#Let us take the top 3 categories and leave out the rest.\n",
    "shortlist = ['neutral', \"happiness\", \"worry\"]\n",
    "df_subset = df[df['sentiment'].isin(shortlist)]\n",
    "df_subset.shape"
   ]
  },
  {
   "cell_type": "markdown",
   "id": "3b185eea",
   "metadata": {
    "papermill": {
     "duration": 0.005888,
     "end_time": "2022-11-17T10:38:37.988974",
     "exception": false,
     "start_time": "2022-11-17T10:38:37.983086",
     "status": "completed"
    },
    "tags": []
   },
   "source": [
    "## Text pre-processing:\n",
    "Tweets are different. Somethings to consider:\n",
    "- Removing @mentions, and urls perhaps?\n",
    "- using NLTK Tweet tokenizer instead of a regular one\n",
    "- stopwords, numbers as usual."
   ]
  },
  {
   "cell_type": "code",
   "execution_count": 6,
   "id": "4a9245da",
   "metadata": {
    "execution": {
     "iopub.execute_input": "2022-11-17T10:38:38.005093Z",
     "iopub.status.busy": "2022-11-17T10:38:38.004256Z",
     "iopub.status.idle": "2022-11-17T10:38:40.271304Z",
     "shell.execute_reply": "2022-11-17T10:38:40.270072Z"
    },
    "papermill": {
     "duration": 2.27788,
     "end_time": "2022-11-17T10:38:40.274589",
     "exception": false,
     "start_time": "2022-11-17T10:38:37.996709",
     "status": "completed"
    },
    "tags": []
   },
   "outputs": [
    {
     "name": "stdout",
     "output_type": "stream",
     "text": [
      "22306 22306\n"
     ]
    }
   ],
   "source": [
    "#strip_handles removes personal information such as twitter handles, which don't\n",
    "#contribute to emotion in the tweet. preserve_case=False converts everything to lowercase.\n",
    "tweeter = TweetTokenizer(strip_handles=True,preserve_case=False)\n",
    "mystopwords = set(stopwords.words(\"english\"))\n",
    "\n",
    "#Function to tokenize tweets, remove stopwords and numbers. \n",
    "#Keeping punctuations and emoticon symbols could be relevant for this task!\n",
    "def preprocess_corpus(texts):\n",
    "    def remove_stops_digits(tokens):\n",
    "        #Nested function that removes stopwords and digits from a list of tokens\n",
    "        return [token for token in tokens if token not in mystopwords and not token.isdigit()]\n",
    "    #This return statement below uses the above function to process twitter tokenizer output further. \n",
    "    return [remove_stops_digits(tweeter.tokenize(content)) for content in texts]\n",
    "\n",
    "#df_subset contains only the three categories we chose. \n",
    "mydata = preprocess_corpus(df_subset['content'])\n",
    "mycats = df_subset['sentiment']\n",
    "print(len(mydata), len(mycats))"
   ]
  },
  {
   "cell_type": "markdown",
   "id": "5d6750df",
   "metadata": {
    "papermill": {
     "duration": 0.005994,
     "end_time": "2022-11-17T10:38:40.287900",
     "exception": false,
     "start_time": "2022-11-17T10:38:40.281906",
     "status": "completed"
    },
    "tags": []
   },
   "source": [
    "### Split data into train and test, following the usual process"
   ]
  },
  {
   "cell_type": "code",
   "execution_count": 7,
   "id": "da7b6ca7",
   "metadata": {
    "execution": {
     "iopub.execute_input": "2022-11-17T10:38:40.301867Z",
     "iopub.status.busy": "2022-11-17T10:38:40.301467Z",
     "iopub.status.idle": "2022-11-17T10:38:40.333559Z",
     "shell.execute_reply": "2022-11-17T10:38:40.332405Z"
    },
    "papermill": {
     "duration": 0.042112,
     "end_time": "2022-11-17T10:38:40.336125",
     "exception": false,
     "start_time": "2022-11-17T10:38:40.294013",
     "status": "completed"
    },
    "tags": []
   },
   "outputs": [],
   "source": [
    "train_data, test_data, train_cats, test_cats = train_test_split(mydata,mycats,random_state=2, stratify = mycats)"
   ]
  },
  {
   "cell_type": "markdown",
   "id": "7692ccf2",
   "metadata": {
    "papermill": {
     "duration": 0.005758,
     "end_time": "2022-11-17T10:38:40.348055",
     "exception": false,
     "start_time": "2022-11-17T10:38:40.342297",
     "status": "completed"
    },
    "tags": []
   },
   "source": [
    "### Prepare training data in doc2vec format:"
   ]
  },
  {
   "cell_type": "code",
   "execution_count": 8,
   "id": "23ab9535",
   "metadata": {
    "execution": {
     "iopub.execute_input": "2022-11-17T10:38:40.361994Z",
     "iopub.status.busy": "2022-11-17T10:38:40.361593Z",
     "iopub.status.idle": "2022-11-17T10:38:40.526285Z",
     "shell.execute_reply": "2022-11-17T10:38:40.525219Z"
    },
    "papermill": {
     "duration": 0.174545,
     "end_time": "2022-11-17T10:38:40.528762",
     "exception": false,
     "start_time": "2022-11-17T10:38:40.354217",
     "status": "completed"
    },
    "tags": []
   },
   "outputs": [
    {
     "data": {
      "text/plain": [
       "[TaggedDocument(words=['listening', 'simply', 'awesome', 'ratatat', 'bank', 'holiday', 'monday', 'bbq', 'later', 'http://bit.ly/gJqSh'], tags=['0']),\n",
       " TaggedDocument(words=['sister', 'said', 'yayyy', 'hannah', 'hoedown', 'today', 'haaaa', 'hannah', 'hoe', 'apparently', 'hoe', '.'], tags=['1']),\n",
       " TaggedDocument(words=['bad', 'feeling', 'time', 'next', 'yr', ',', 'fav', 'musical', 'may', 'longer', 'west', 'end'], tags=['2']),\n",
       " TaggedDocument(words=['oh', 'yeah', ',', 'came', 'back', 'weekend', 'cosplay', 'photo', 'marathons'], tags=['3']),\n",
       " TaggedDocument(words=['happy', 'mothers', 'day', '!', '!', '!'], tags=['4'])]"
      ]
     },
     "execution_count": 8,
     "metadata": {},
     "output_type": "execute_result"
    }
   ],
   "source": [
    "#prepare training data in doc2vec format:\n",
    "train_doc2vec = [TaggedDocument((d), tags=[str(i)]) for i, d in enumerate(train_data)]\n",
    "train_doc2vec[:5]"
   ]
  },
  {
   "cell_type": "markdown",
   "id": "4cbf208b",
   "metadata": {
    "papermill": {
     "duration": 0.00589,
     "end_time": "2022-11-17T10:38:40.540970",
     "exception": false,
     "start_time": "2022-11-17T10:38:40.535080",
     "status": "completed"
    },
    "tags": []
   },
   "source": [
    "## Build the model\n",
    "\n",
    "#### `models.doc2vec` [Doc2vec paragraph embeddings](https://radimrehurek.com/gensim/models/doc2vec.html)"
   ]
  },
  {
   "cell_type": "code",
   "execution_count": 9,
   "id": "af6b0a81",
   "metadata": {
    "execution": {
     "iopub.execute_input": "2022-11-17T10:38:40.555983Z",
     "iopub.status.busy": "2022-11-17T10:38:40.554863Z",
     "iopub.status.idle": "2022-11-17T10:38:40.871163Z",
     "shell.execute_reply": "2022-11-17T10:38:40.870416Z"
    },
    "papermill": {
     "duration": 0.326639,
     "end_time": "2022-11-17T10:38:40.873797",
     "exception": false,
     "start_time": "2022-11-17T10:38:40.547158",
     "status": "completed"
    },
    "tags": []
   },
   "outputs": [
    {
     "name": "stdout",
     "output_type": "stream",
     "text": [
      "Count of documents = 16729\n",
      "Epochs = 100\n",
      "vector_size = 50\n",
      "Window = 5\n"
     ]
    }
   ],
   "source": [
    "#Train a doc2vec model to learn tweet representations. Use only training data!!\n",
    "D2V = Doc2Vec(vector_size=50, alpha=0.025, min_count=5, dm =1, epochs=100) # `dm=1`, 'distributed memory' \n",
    "D2V.build_vocab(train_doc2vec)\n",
    "\n",
    "print('Count of documents =',D2V.corpus_count)   # Count of documents\n",
    "print('Epochs =',D2V.epochs)     #Epoch\n",
    "print('vector_size =',D2V.vector_size)        # Dimensionality of the feature vectors\n",
    "print('Window =',D2V.window)  # The maximum distance between the current and predicted word within a sentence"
   ]
  },
  {
   "cell_type": "code",
   "execution_count": 10,
   "id": "c1b94dc7",
   "metadata": {
    "execution": {
     "iopub.execute_input": "2022-11-17T10:38:40.888994Z",
     "iopub.status.busy": "2022-11-17T10:38:40.887867Z",
     "iopub.status.idle": "2022-11-17T10:41:03.839469Z",
     "shell.execute_reply": "2022-11-17T10:41:03.838271Z"
    },
    "papermill": {
     "duration": 142.962345,
     "end_time": "2022-11-17T10:41:03.842630",
     "exception": false,
     "start_time": "2022-11-17T10:38:40.880285",
     "status": "completed"
    },
    "tags": []
   },
   "outputs": [],
   "source": [
    "D2V.train(train_doc2vec, total_examples=D2V.corpus_count, epochs=D2V.epochs)"
   ]
  },
  {
   "cell_type": "markdown",
   "id": "c3aeaa86",
   "metadata": {
    "papermill": {
     "duration": 0.006498,
     "end_time": "2022-11-17T10:41:03.856517",
     "exception": false,
     "start_time": "2022-11-17T10:41:03.850019",
     "status": "completed"
    },
    "tags": []
   },
   "source": [
    "### Save & Load the Doc2Vec model"
   ]
  },
  {
   "cell_type": "code",
   "execution_count": 11,
   "id": "9d8741c5",
   "metadata": {
    "execution": {
     "iopub.execute_input": "2022-11-17T10:41:03.871660Z",
     "iopub.status.busy": "2022-11-17T10:41:03.871146Z",
     "iopub.status.idle": "2022-11-17T10:41:03.893484Z",
     "shell.execute_reply": "2022-11-17T10:41:03.892390Z"
    },
    "papermill": {
     "duration": 0.032824,
     "end_time": "2022-11-17T10:41:03.895891",
     "exception": false,
     "start_time": "2022-11-17T10:41:03.863067",
     "status": "completed"
    },
    "tags": []
   },
   "outputs": [
    {
     "name": "stdout",
     "output_type": "stream",
     "text": [
      "Model Saved\n"
     ]
    }
   ],
   "source": [
    "D2V.save(\"d2v.model\")\n",
    "print(\"Model Saved\")"
   ]
  },
  {
   "cell_type": "code",
   "execution_count": 12,
   "id": "61ea329c",
   "metadata": {
    "execution": {
     "iopub.execute_input": "2022-11-17T10:41:03.911625Z",
     "iopub.status.busy": "2022-11-17T10:41:03.911194Z",
     "iopub.status.idle": "2022-11-17T10:41:03.961485Z",
     "shell.execute_reply": "2022-11-17T10:41:03.960622Z"
    },
    "papermill": {
     "duration": 0.061228,
     "end_time": "2022-11-17T10:41:03.964110",
     "exception": false,
     "start_time": "2022-11-17T10:41:03.902882",
     "status": "completed"
    },
    "tags": []
   },
   "outputs": [],
   "source": [
    "#Infer the feature representation for training and test data using the trained model\n",
    "model= Doc2Vec.load(\"d2v.model\")"
   ]
  },
  {
   "cell_type": "code",
   "execution_count": 13,
   "id": "3256a854",
   "metadata": {
    "execution": {
     "iopub.execute_input": "2022-11-17T10:41:03.980167Z",
     "iopub.status.busy": "2022-11-17T10:41:03.979203Z",
     "iopub.status.idle": "2022-11-17T10:42:25.649991Z",
     "shell.execute_reply": "2022-11-17T10:42:25.648241Z"
    },
    "papermill": {
     "duration": 81.682141,
     "end_time": "2022-11-17T10:42:25.653246",
     "exception": false,
     "start_time": "2022-11-17T10:41:03.971105",
     "status": "completed"
    },
    "tags": []
   },
   "outputs": [],
   "source": [
    "#infer in multiple steps to get a stable representation. \n",
    "train_vectors =  [model.infer_vector(list_of_tokens, steps=50) for list_of_tokens in train_data]\n",
    "test_vectors = [model.infer_vector(list_of_tokens, steps=50) for list_of_tokens in test_data]"
   ]
  },
  {
   "cell_type": "markdown",
   "id": "cc5766c9",
   "metadata": {
    "papermill": {
     "duration": 0.00629,
     "end_time": "2022-11-17T10:42:25.666949",
     "exception": false,
     "start_time": "2022-11-17T10:42:25.660659",
     "status": "completed"
    },
    "tags": []
   },
   "source": [
    "### Precict the class with Logistic Regression Model"
   ]
  },
  {
   "cell_type": "code",
   "execution_count": 14,
   "id": "80ac1f38",
   "metadata": {
    "execution": {
     "iopub.execute_input": "2022-11-17T10:42:25.681929Z",
     "iopub.status.busy": "2022-11-17T10:42:25.681516Z",
     "iopub.status.idle": "2022-11-17T10:42:26.268398Z",
     "shell.execute_reply": "2022-11-17T10:42:26.266811Z"
    },
    "papermill": {
     "duration": 0.599604,
     "end_time": "2022-11-17T10:42:26.273163",
     "exception": false,
     "start_time": "2022-11-17T10:42:25.673559",
     "status": "completed"
    },
    "tags": []
   },
   "outputs": [
    {
     "data": {
      "text/plain": [
       "LogisticRegression(class_weight='balanced')"
      ]
     },
     "execution_count": 14,
     "metadata": {},
     "output_type": "execute_result"
    }
   ],
   "source": [
    "#Use any regular classifier like logistic regression\n",
    "from sklearn.linear_model import LogisticRegression\n",
    "\n",
    "myclass = LogisticRegression(class_weight=\"balanced\") #because classes are not balanced. \n",
    "myclass.fit(train_vectors, train_cats)"
   ]
  },
  {
   "cell_type": "code",
   "execution_count": 15,
   "id": "7545c062",
   "metadata": {
    "execution": {
     "iopub.execute_input": "2022-11-17T10:42:26.310050Z",
     "iopub.status.busy": "2022-11-17T10:42:26.309139Z",
     "iopub.status.idle": "2022-11-17T10:42:26.339917Z",
     "shell.execute_reply": "2022-11-17T10:42:26.338372Z"
    },
    "papermill": {
     "duration": 0.054508,
     "end_time": "2022-11-17T10:42:26.345025",
     "exception": false,
     "start_time": "2022-11-17T10:42:26.290517",
     "status": "completed"
    },
    "tags": []
   },
   "outputs": [
    {
     "data": {
      "text/plain": [
       "array(['neutral', 'worry', 'worry', 'worry', 'worry'], dtype=object)"
      ]
     },
     "execution_count": 15,
     "metadata": {},
     "output_type": "execute_result"
    }
   ],
   "source": [
    "preds = myclass.predict(test_vectors)\n",
    "preds[:5]"
   ]
  },
  {
   "cell_type": "markdown",
   "id": "146d908a",
   "metadata": {
    "papermill": {
     "duration": 0.016085,
     "end_time": "2022-11-17T10:42:26.377908",
     "exception": false,
     "start_time": "2022-11-17T10:42:26.361823",
     "status": "completed"
    },
    "tags": []
   },
   "source": [
    "## Classification Report"
   ]
  },
  {
   "cell_type": "code",
   "execution_count": 16,
   "id": "1913c268",
   "metadata": {
    "execution": {
     "iopub.execute_input": "2022-11-17T10:42:26.414311Z",
     "iopub.status.busy": "2022-11-17T10:42:26.413441Z",
     "iopub.status.idle": "2022-11-17T10:42:26.578106Z",
     "shell.execute_reply": "2022-11-17T10:42:26.576253Z"
    },
    "papermill": {
     "duration": 0.186333,
     "end_time": "2022-11-17T10:42:26.581169",
     "exception": false,
     "start_time": "2022-11-17T10:42:26.394836",
     "status": "completed"
    },
    "tags": []
   },
   "outputs": [
    {
     "name": "stdout",
     "output_type": "stream",
     "text": [
      "              precision    recall  f1-score   support\n",
      "\n",
      "   happiness       0.45      0.52      0.48      1302\n",
      "     neutral       0.48      0.56      0.52      2160\n",
      "       worry       0.56      0.41      0.47      2115\n",
      "\n",
      "    accuracy                           0.50      5577\n",
      "   macro avg       0.50      0.50      0.49      5577\n",
      "weighted avg       0.50      0.50      0.49      5577\n",
      "\n"
     ]
    }
   ],
   "source": [
    "from sklearn.metrics import classification_report, confusion_matrix\n",
    "print(classification_report(test_cats, preds))"
   ]
  }
 ],
 "metadata": {
  "kernelspec": {
   "display_name": "Python 3",
   "language": "python",
   "name": "python3"
  },
  "language_info": {
   "codemirror_mode": {
    "name": "ipython",
    "version": 3
   },
   "file_extension": ".py",
   "mimetype": "text/x-python",
   "name": "python",
   "nbconvert_exporter": "python",
   "pygments_lexer": "ipython3",
   "version": "3.7.12"
  },
  "papermill": {
   "default_parameters": {},
   "duration": 239.832039,
   "end_time": "2022-11-17T10:42:27.512147",
   "environment_variables": {},
   "exception": null,
   "input_path": "__notebook__.ipynb",
   "output_path": "__notebook__.ipynb",
   "parameters": {},
   "start_time": "2022-11-17T10:38:27.680108",
   "version": "2.3.4"
  }
 },
 "nbformat": 4,
 "nbformat_minor": 5
}
